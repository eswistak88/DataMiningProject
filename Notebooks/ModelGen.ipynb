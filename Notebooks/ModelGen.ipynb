{
  "nbformat": 4,
  "nbformat_minor": 0,
  "metadata": {
    "accelerator": "GPU",
    "colab": {
      "name": "ModelGen.ipynb",
      "provenance": [],
      "collapsed_sections": []
    },
    "kernelspec": {
      "display_name": "Python 3",
      "name": "python3"
    }
  },
  "cells": [
    {
      "cell_type": "code",
      "metadata": {
        "id": "-au6xYmT5TUc"
      },
      "source": [
        "import os\n",
        "import re\n",
        "import glob\n",
        "import struct\n",
        "from os import makedirs\n",
        "\n",
        "import numpy as np\n",
        "from numpy import asarray\n",
        "from numpy import zeros\n",
        "from nltk.stem.porter import *\n",
        "\n",
        "\n",
        "import pandas as pd\n",
        "import tensorflow as tf\n",
        "import tensorflow.keras as keras\n",
        "\n",
        "from keras.preprocessing.text import Tokenizer\n",
        "from keras.preprocessing.sequence import pad_sequences\n",
        "from keras.utils import to_categorical\n",
        "from keras import Model\n",
        "from keras.callbacks import ModelCheckpoint\n",
        "from keras.callbacks import EarlyStopping\n",
        "from keras.wrappers.scikit_learn import KerasClassifier\n",
        "from keras.models import Sequential\n",
        "from keras.layers import Input, Reshape, Conv2D, MaxPool2D, Dense, Dropout, Flatten, Embedding, Concatenate, Conv1D\n",
        "from keras.metrics import CategoricalAccuracy, Precision, Recall\n",
        "from keras import regularizers\n",
        "from keras import backend as K\n",
        "from keras.models import load_model\n",
        "\n",
        "import sklearn\n",
        "from sklearn.ensemble import AdaBoostClassifier\n",
        "from sklearn.model_selection import train_test_split\n",
        "from sklearn import metrics\n",
        "from sklearn.metrics import confusion_matrix\n",
        "from sklearn.model_selection import cross_val_score\n",
        "from sklearn.model_selection import RepeatedStratifiedKFold\n",
        "from sklearn.ensemble import StackingClassifier\n",
        "\n",
        "import matplotlib.pyplot as plt\n",
        "from keras.utils import to_categorical\n",
        "from keras import layers\n"
      ],
      "execution_count": 1,
      "outputs": []
    },
    {
      "cell_type": "markdown",
      "metadata": {
        "id": "iBtvw0JSyyJ0"
      },
      "source": [
        "Load the Dataset\r\n"
      ]
    },
    {
      "cell_type": "code",
      "metadata": {
        "id": "xEun8UyZRDn9",
        "colab": {
          "base_uri": "https://localhost:8080/"
        },
        "outputId": "88cd8466-280e-44ed-a294-06e5a8476203"
      },
      "source": [
        "from google.colab import drive\n",
        "drive.mount('/content/drive')"
      ],
      "execution_count": 2,
      "outputs": [
        {
          "output_type": "stream",
          "text": [
            "Mounted at /content/drive\n"
          ],
          "name": "stdout"
        }
      ]
    },
    {
      "cell_type": "code",
      "metadata": {
        "id": "33idFgY-BwTs"
      },
      "source": [
        "os.chdir(\"/content/drive/MyDrive/twit/train\")\n",
        "\n",
        "extension = 'csv'\n",
        "all_filenames = [i for i in glob.glob('*.{}'.format(extension))]\n",
        "\n",
        "#combine all files in the list\n",
        "combined_csv = pd.concat([pd.read_csv(f) for f in all_filenames ])\n",
        "#export to csv\n",
        "combined_csv.to_csv( \"aggregate.csv\", index=False, encoding='utf-8-sig')"
      ],
      "execution_count": 3,
      "outputs": []
    },
    {
      "cell_type": "code",
      "metadata": {
        "id": "kTFPtv5N5jVw",
        "colab": {
          "base_uri": "https://localhost:8080/",
          "height": 195
        },
        "outputId": "4468915a-51dd-4fbf-df74-7c19d925ad25"
      },
      "source": [
        "train = pd.read_csv('/content/drive/MyDrive/twit/train/aggregate.csv')\n",
        "\n",
        "train.head()"
      ],
      "execution_count": 4,
      "outputs": [
        {
          "output_type": "execute_result",
          "data": {
            "text/html": [
              "<div>\n",
              "<style scoped>\n",
              "    .dataframe tbody tr th:only-of-type {\n",
              "        vertical-align: middle;\n",
              "    }\n",
              "\n",
              "    .dataframe tbody tr th {\n",
              "        vertical-align: top;\n",
              "    }\n",
              "\n",
              "    .dataframe thead th {\n",
              "        text-align: right;\n",
              "    }\n",
              "</style>\n",
              "<table border=\"1\" class=\"dataframe\">\n",
              "  <thead>\n",
              "    <tr style=\"text-align: right;\">\n",
              "      <th></th>\n",
              "      <th>Column1</th>\n",
              "      <th>Column2</th>\n",
              "      <th>Column3</th>\n",
              "    </tr>\n",
              "  </thead>\n",
              "  <tbody>\n",
              "    <tr>\n",
              "      <th>0</th>\n",
              "      <td>6.289490e+17</td>\n",
              "      <td>negative</td>\n",
              "      <td>dear @Microsoft the newOoffice for Mac is grea...</td>\n",
              "    </tr>\n",
              "    <tr>\n",
              "      <th>1</th>\n",
              "      <td>6.289770e+17</td>\n",
              "      <td>negative</td>\n",
              "      <td>@Microsoft how about you make a system that do...</td>\n",
              "    </tr>\n",
              "    <tr>\n",
              "      <th>2</th>\n",
              "      <td>6.290230e+17</td>\n",
              "      <td>negative</td>\n",
              "      <td>I may be ignorant on this issue but... should ...</td>\n",
              "    </tr>\n",
              "    <tr>\n",
              "      <th>3</th>\n",
              "      <td>6.291790e+17</td>\n",
              "      <td>negative</td>\n",
              "      <td>Thanks to @microsoft, I just may be switching ...</td>\n",
              "    </tr>\n",
              "    <tr>\n",
              "      <th>4</th>\n",
              "      <td>6.291860e+17</td>\n",
              "      <td>neutral</td>\n",
              "      <td>If I make a game as a #windows10 Universal App...</td>\n",
              "    </tr>\n",
              "  </tbody>\n",
              "</table>\n",
              "</div>"
            ],
            "text/plain": [
              "        Column1   Column2                                            Column3\n",
              "0  6.289490e+17  negative  dear @Microsoft the newOoffice for Mac is grea...\n",
              "1  6.289770e+17  negative  @Microsoft how about you make a system that do...\n",
              "2  6.290230e+17  negative  I may be ignorant on this issue but... should ...\n",
              "3  6.291790e+17  negative  Thanks to @microsoft, I just may be switching ...\n",
              "4  6.291860e+17   neutral  If I make a game as a #windows10 Universal App..."
            ]
          },
          "metadata": {
            "tags": []
          },
          "execution_count": 4
        }
      ]
    },
    {
      "cell_type": "markdown",
      "metadata": {
        "id": "PCffl4OOy7bR"
      },
      "source": [
        "Data Preprocessing"
      ]
    },
    {
      "cell_type": "code",
      "metadata": {
        "id": "YI6wwcXYMlVQ"
      },
      "source": [
        "def remove_pattern(input_txt, pattern):\n",
        "  r = re.findall(pattern, input_txt)\n",
        "  for i in r:\n",
        "    input_txt = re.sub(i, '', input_txt)        \n",
        "  return input_txt\n",
        "\n",
        "def clean_tweets(frame, column_name, remove_stop_words=True, lower_case=True, remove_special=True):\n",
        "  frame = frame.drop_duplicates().reset_index(drop=True) #remove duplicate rows\n",
        "  frame['Tweet_Clean_Text'] = np.vectorize(remove_pattern)(frame[column_name], \"RT @[\\w]*:\") #remove twitter return handle\n",
        "  frame.Tweet_Clean_Text = np.vectorize(remove_pattern)(frame['Tweet_Clean_Text'], \"@[\\w]*\") #remove twitter handle\n",
        "  frame.Tweet_Clean_Text = np.vectorize(remove_pattern)(frame['Tweet_Clean_Text'], \"https?://[A-Za-z0-9./]*\") #remove URLs\n",
        "\n",
        "  if remove_special:\n",
        "    frame.Tweet_Clean_Text = frame.Tweet_Clean_Text.str.replace(\"[^a-zA-Z#]\", \" \") #remove special characters except for #\n",
        "  frame.Tweet_Clean_Text = frame.Tweet_Clean_Text.replace('\\s+', ' ', regex=True) #remove extra spaces in between words\n",
        "  if lower_case:\n",
        "    frame.Tweet_Clean_Text = frame.Tweet_Clean_Text.apply(lambda x: x.lower())\n",
        "  if remove_stop_words:\n",
        "    frame.Tweet_Clean_Text = frame.Tweet_Clean_Text.apply(lambda x: ' '.join([word for word in x.split() if word not in stopwords.words('english')])) #remove stop words\n",
        "\n",
        "  return frame"
      ],
      "execution_count": 5,
      "outputs": []
    },
    {
      "cell_type": "code",
      "metadata": {
        "id": "F3Et4zHBMzXQ",
        "colab": {
          "base_uri": "https://localhost:8080/",
          "height": 279
        },
        "outputId": "46fba09a-8c23-49b0-de24-bccc0505b6d7"
      },
      "source": [
        "train_set = clean_tweets(train, 'Column3', remove_stop_words=False, remove_special=False)\n",
        "train_set.head()"
      ],
      "execution_count": 6,
      "outputs": [
        {
          "output_type": "execute_result",
          "data": {
            "text/html": [
              "<div>\n",
              "<style scoped>\n",
              "    .dataframe tbody tr th:only-of-type {\n",
              "        vertical-align: middle;\n",
              "    }\n",
              "\n",
              "    .dataframe tbody tr th {\n",
              "        vertical-align: top;\n",
              "    }\n",
              "\n",
              "    .dataframe thead th {\n",
              "        text-align: right;\n",
              "    }\n",
              "</style>\n",
              "<table border=\"1\" class=\"dataframe\">\n",
              "  <thead>\n",
              "    <tr style=\"text-align: right;\">\n",
              "      <th></th>\n",
              "      <th>Column1</th>\n",
              "      <th>Column2</th>\n",
              "      <th>Column3</th>\n",
              "      <th>Tweet_Clean_Text</th>\n",
              "    </tr>\n",
              "  </thead>\n",
              "  <tbody>\n",
              "    <tr>\n",
              "      <th>0</th>\n",
              "      <td>6.289490e+17</td>\n",
              "      <td>negative</td>\n",
              "      <td>dear @Microsoft the newOoffice for Mac is grea...</td>\n",
              "      <td>dear the newooffice for mac is great and all, ...</td>\n",
              "    </tr>\n",
              "    <tr>\n",
              "      <th>1</th>\n",
              "      <td>6.289770e+17</td>\n",
              "      <td>negative</td>\n",
              "      <td>@Microsoft how about you make a system that do...</td>\n",
              "      <td>how about you make a system that doesn't eat ...</td>\n",
              "    </tr>\n",
              "    <tr>\n",
              "      <th>2</th>\n",
              "      <td>6.290230e+17</td>\n",
              "      <td>negative</td>\n",
              "      <td>I may be ignorant on this issue but... should ...</td>\n",
              "      <td>i may be ignorant on this issue but... should ...</td>\n",
              "    </tr>\n",
              "    <tr>\n",
              "      <th>3</th>\n",
              "      <td>6.291790e+17</td>\n",
              "      <td>negative</td>\n",
              "      <td>Thanks to @microsoft, I just may be switching ...</td>\n",
              "      <td>thanks to , i just may be switching over to .</td>\n",
              "    </tr>\n",
              "    <tr>\n",
              "      <th>4</th>\n",
              "      <td>6.291860e+17</td>\n",
              "      <td>neutral</td>\n",
              "      <td>If I make a game as a #windows10 Universal App...</td>\n",
              "      <td>if i make a game as a #windows10 universal app...</td>\n",
              "    </tr>\n",
              "  </tbody>\n",
              "</table>\n",
              "</div>"
            ],
            "text/plain": [
              "        Column1  ...                                   Tweet_Clean_Text\n",
              "0  6.289490e+17  ...  dear the newooffice for mac is great and all, ...\n",
              "1  6.289770e+17  ...   how about you make a system that doesn't eat ...\n",
              "2  6.290230e+17  ...  i may be ignorant on this issue but... should ...\n",
              "3  6.291790e+17  ...      thanks to , i just may be switching over to .\n",
              "4  6.291860e+17  ...  if i make a game as a #windows10 universal app...\n",
              "\n",
              "[5 rows x 4 columns]"
            ]
          },
          "metadata": {
            "tags": []
          },
          "execution_count": 6
        }
      ]
    },
    {
      "cell_type": "code",
      "metadata": {
        "id": "oz2kEFcsaT0b",
        "colab": {
          "base_uri": "https://localhost:8080/",
          "height": 771
        },
        "outputId": "7070d586-3c7b-441f-9c0d-049e331d2e22"
      },
      "source": [
        "train_set[\"Sentiment_Value\"] = train_set[\"Column2\"].map({\"neutral\": 0, \"positive\": 1, \"negative\": 2})\r\n",
        "label = to_categorical(train_set[\"Sentiment_Value\"], 3)\r\n",
        "train_set"
      ],
      "execution_count": 7,
      "outputs": [
        {
          "output_type": "execute_result",
          "data": {
            "text/html": [
              "<div>\n",
              "<style scoped>\n",
              "    .dataframe tbody tr th:only-of-type {\n",
              "        vertical-align: middle;\n",
              "    }\n",
              "\n",
              "    .dataframe tbody tr th {\n",
              "        vertical-align: top;\n",
              "    }\n",
              "\n",
              "    .dataframe thead th {\n",
              "        text-align: right;\n",
              "    }\n",
              "</style>\n",
              "<table border=\"1\" class=\"dataframe\">\n",
              "  <thead>\n",
              "    <tr style=\"text-align: right;\">\n",
              "      <th></th>\n",
              "      <th>Column1</th>\n",
              "      <th>Column2</th>\n",
              "      <th>Column3</th>\n",
              "      <th>Tweet_Clean_Text</th>\n",
              "      <th>Sentiment_Value</th>\n",
              "    </tr>\n",
              "  </thead>\n",
              "  <tbody>\n",
              "    <tr>\n",
              "      <th>0</th>\n",
              "      <td>6.289490e+17</td>\n",
              "      <td>negative</td>\n",
              "      <td>dear @Microsoft the newOoffice for Mac is grea...</td>\n",
              "      <td>dear the newooffice for mac is great and all, ...</td>\n",
              "      <td>2</td>\n",
              "    </tr>\n",
              "    <tr>\n",
              "      <th>1</th>\n",
              "      <td>6.289770e+17</td>\n",
              "      <td>negative</td>\n",
              "      <td>@Microsoft how about you make a system that do...</td>\n",
              "      <td>how about you make a system that doesn't eat ...</td>\n",
              "      <td>2</td>\n",
              "    </tr>\n",
              "    <tr>\n",
              "      <th>2</th>\n",
              "      <td>6.290230e+17</td>\n",
              "      <td>negative</td>\n",
              "      <td>I may be ignorant on this issue but... should ...</td>\n",
              "      <td>i may be ignorant on this issue but... should ...</td>\n",
              "      <td>2</td>\n",
              "    </tr>\n",
              "    <tr>\n",
              "      <th>3</th>\n",
              "      <td>6.291790e+17</td>\n",
              "      <td>negative</td>\n",
              "      <td>Thanks to @microsoft, I just may be switching ...</td>\n",
              "      <td>thanks to , i just may be switching over to .</td>\n",
              "      <td>2</td>\n",
              "    </tr>\n",
              "    <tr>\n",
              "      <th>4</th>\n",
              "      <td>6.291860e+17</td>\n",
              "      <td>neutral</td>\n",
              "      <td>If I make a game as a #windows10 Universal App...</td>\n",
              "      <td>if i make a game as a #windows10 universal app...</td>\n",
              "      <td>0</td>\n",
              "    </tr>\n",
              "    <tr>\n",
              "      <th>...</th>\n",
              "      <td>...</td>\n",
              "      <td>...</td>\n",
              "      <td>...</td>\n",
              "      <td>...</td>\n",
              "      <td>...</td>\n",
              "    </tr>\n",
              "    <tr>\n",
              "      <th>114213</th>\n",
              "      <td>2.103780e+17</td>\n",
              "      <td>neutral</td>\n",
              "      <td>It's a Wednesday girls night out as '90's band...</td>\n",
              "      <td>it's a wednesday girls night out as '90's band...</td>\n",
              "      <td>0</td>\n",
              "    </tr>\n",
              "    <tr>\n",
              "      <th>114214</th>\n",
              "      <td>2.451780e+17</td>\n",
              "      <td>positive</td>\n",
              "      <td>night college course sorted, just have to enro...</td>\n",
              "      <td>night college course sorted, just have to enro...</td>\n",
              "      <td>1</td>\n",
              "    </tr>\n",
              "    <tr>\n",
              "      <th>114215</th>\n",
              "      <td>2.592810e+17</td>\n",
              "      <td>positive</td>\n",
              "      <td>For the 1st time in 30 years. For your splendi...</td>\n",
              "      <td>for the 1st time in 30 years. for your splendi...</td>\n",
              "      <td>1</td>\n",
              "    </tr>\n",
              "    <tr>\n",
              "      <th>114216</th>\n",
              "      <td>2.011140e+17</td>\n",
              "      <td>positive</td>\n",
              "      <td>NURSES DAY - 12 MAY 2012. Nursing: The heart b...</td>\n",
              "      <td>nurses day - 12 may 2012. nursing: the heart b...</td>\n",
              "      <td>1</td>\n",
              "    </tr>\n",
              "    <tr>\n",
              "      <th>114217</th>\n",
              "      <td>2.379990e+17</td>\n",
              "      <td>neutral</td>\n",
              "      <td>We have 15 minutes left until the 2nd episode ...</td>\n",
              "      <td>we have 15 minutes left until the 2nd episode ...</td>\n",
              "      <td>0</td>\n",
              "    </tr>\n",
              "  </tbody>\n",
              "</table>\n",
              "<p>114218 rows × 5 columns</p>\n",
              "</div>"
            ],
            "text/plain": [
              "             Column1  ... Sentiment_Value\n",
              "0       6.289490e+17  ...               2\n",
              "1       6.289770e+17  ...               2\n",
              "2       6.290230e+17  ...               2\n",
              "3       6.291790e+17  ...               2\n",
              "4       6.291860e+17  ...               0\n",
              "...              ...  ...             ...\n",
              "114213  2.103780e+17  ...               0\n",
              "114214  2.451780e+17  ...               1\n",
              "114215  2.592810e+17  ...               1\n",
              "114216  2.011140e+17  ...               1\n",
              "114217  2.379990e+17  ...               0\n",
              "\n",
              "[114218 rows x 5 columns]"
            ]
          },
          "metadata": {
            "tags": []
          },
          "execution_count": 7
        }
      ]
    },
    {
      "cell_type": "code",
      "metadata": {
        "id": "lPrL0u6wqIuI",
        "colab": {
          "base_uri": "https://localhost:8080/"
        },
        "outputId": "467eee1e-d00a-4dca-eb35-a63233b35853"
      },
      "source": [
        "train['l'] = train_set['Tweet_Clean_Text'].apply(lambda x: len(str(x).split(' ')))\n",
        "print(\"mean length of sentence: \" + str(train.l.mean()))\n",
        "print(\"max length of sentence: \" + str(train.l.max()))\n",
        "print(\"std dev length of sentence: \" + str(train.l.std()))"
      ],
      "execution_count": 8,
      "outputs": [
        {
          "output_type": "stream",
          "text": [
            "mean length of sentence: 16.71109632457231\n",
            "max length of sentence: 40.0\n",
            "std dev length of sentence: 6.599111305083614\n"
          ],
          "name": "stdout"
        }
      ]
    },
    {
      "cell_type": "code",
      "metadata": {
        "id": "JmNsjX3Z1K7Q"
      },
      "source": [
        "sequence_length = train.l.max() #using the maximum length "
      ],
      "execution_count": 9,
      "outputs": []
    },
    {
      "cell_type": "code",
      "metadata": {
        "id": "7mrlqPjcqhUI",
        "colab": {
          "base_uri": "https://localhost:8080/"
        },
        "outputId": "116ac7e0-be89-4f08-be2c-b90f65fb6a16"
      },
      "source": [
        "tokenizer = Tokenizer()\n",
        "tokenizer.fit_on_texts(train_set['Tweet_Clean_Text'].values)\n",
        "\n",
        "X = tokenizer.texts_to_sequences(train_set['Tweet_Clean_Text'].values)\n",
        "X = pad_sequences(X, maxlen=int(sequence_length), padding='post')\n",
        "\n",
        "print(\"training size \" + str(len(X)))\n",
        "\n",
        "voc_size = len(tokenizer.word_index) + 1\n",
        "print(\"Vocab size: \", voc_size)\n",
        "print(\"Input shape: \", X.shape)\n",
        "print(\"Labels shape: \" , label.shape)"
      ],
      "execution_count": 10,
      "outputs": [
        {
          "output_type": "stream",
          "text": [
            "training size 114218\n",
            "Vocab size:  73456\n",
            "Input shape:  (114218, 40)\n",
            "Labels shape:  (114218, 3)\n"
          ],
          "name": "stdout"
        }
      ]
    },
    {
      "cell_type": "markdown",
      "metadata": {
        "id": "vsv4hwJPzD7o"
      },
      "source": [
        "Spliting the dataset"
      ]
    },
    {
      "cell_type": "code",
      "metadata": {
        "id": "AhX8T4-NBO-A"
      },
      "source": [
        "#FINAL DATASETS (Please note case sensitivity)- TRAINING: (X_train,Y_train)  VALIDATION: (X_val, Y_val)  TEST: (X_test, Y_test)\r\n",
        "\r\n",
        "x_train, X_test, y_train, Y_test = train_test_split(X, label, test_size=0.10, shuffle=False, random_state=10)\r\n",
        "\r\n",
        "X_train, X_val, Y_train, Y_val = train_test_split(x_train, y_train, test_size=0.15, shuffle=True, random_state=10)"
      ],
      "execution_count": 11,
      "outputs": []
    },
    {
      "cell_type": "markdown",
      "metadata": {
        "id": "8ml2XYDrzKsZ"
      },
      "source": [
        "GloVe Embedding"
      ]
    },
    {
      "cell_type": "code",
      "metadata": {
        "id": "lZf4uIiIm_6A",
        "colab": {
          "base_uri": "https://localhost:8080/"
        },
        "outputId": "f07c66aa-59b2-4e25-fe5c-d6ef3963544c"
      },
      "source": [
        "embeddings_index = dict()\r\n",
        "f = open('/content/drive/MyDrive/glove.twitter.27B/glove.twitter.27B.200d.txt')\r\n",
        "for line in f:\r\n",
        "\tvalues = line.split()\r\n",
        "\tword = values[0]\r\n",
        "\tcoefs = asarray(values[1:], dtype='float32')\r\n",
        "\tembeddings_index[word] = coefs\r\n",
        "f.close()\r\n",
        "print('Loaded %s word vectors.' % len(embeddings_index))"
      ],
      "execution_count": 12,
      "outputs": [
        {
          "output_type": "stream",
          "text": [
            "Loaded 1193514 word vectors.\n"
          ],
          "name": "stdout"
        }
      ]
    },
    {
      "cell_type": "code",
      "metadata": {
        "id": "MoMjKu5Ln5ip"
      },
      "source": [
        "embedding_dim = 200\r\n",
        "embedding_matrix = np.zeros((voc_size, embedding_dim))\r\n",
        "for word, i in tokenizer.word_index.items():\r\n",
        "\tembedding_vector = embeddings_index.get(word)\r\n",
        "\tif embedding_vector is not None:\r\n",
        "\t\tembedding_matrix[i] = embedding_vector"
      ],
      "execution_count": 13,
      "outputs": []
    },
    {
      "cell_type": "markdown",
      "metadata": {
        "id": "QNGi4e67iyO9"
      },
      "source": [
        "Metrics"
      ]
    },
    {
      "cell_type": "code",
      "metadata": {
        "id": "zDGOkChP4YNx"
      },
      "source": [
        "def recall_score(y_true, y_pred):\r\n",
        "    true_positives = K.sum(K.round(K.clip(y_true * y_pred, 0, 1)))\r\n",
        "    possible_positives = K.sum(K.round(K.clip(y_true, 0, 1)))\r\n",
        "    recall = true_positives / (possible_positives + K.epsilon())\r\n",
        "    recall_score.__name__ = 'recall'\r\n",
        "    return recall\r\n",
        "\r\n",
        "def precision_score(y_true, y_pred):\r\n",
        "    true_positives = K.sum(K.round(K.clip(y_true * y_pred, 0, 1)))\r\n",
        "    predicted_positives = K.sum(K.round(K.clip(y_pred, 0, 1)))\r\n",
        "    precision = true_positives / (predicted_positives + K.epsilon())\r\n",
        "    precision_score.__name__ = 'precision'\r\n",
        "    return precision\r\n",
        "\r\n",
        "def f1_metrics(y_true, y_pred):\r\n",
        "    precision = precision_score(y_true, y_pred)\r\n",
        "    recall = recall_score(y_true, y_pred)\r\n",
        "    f1_metrics.__name__ = 'f1_metrics'\r\n",
        "    return 2*((precision*recall)/(precision+recall+K.epsilon()))"
      ],
      "execution_count": 24,
      "outputs": []
    },
    {
      "cell_type": "code",
      "metadata": {
        "id": "14wD5oBm5ftK"
      },
      "source": [
        "def model_gen(filter_sizes, model_save_path):\r\n",
        "\r\n",
        "  model_checkpoint = tf.keras.callbacks.ModelCheckpoint(\r\n",
        "      filepath= model_save_path + str(filter_sizes) + '.h5',\r\n",
        "      save_weights_only = False,\r\n",
        "      monitor = 'val_f1_metrics',\r\n",
        "      mode= 'max',\r\n",
        "      save_best_only= True,\r\n",
        "      save_freq='epoch'\r\n",
        "  )\r\n",
        "\r\n",
        "  early_stopping_callback = keras.callbacks.EarlyStopping(monitor='val_loss', patience=3)\r\n",
        "\r\n",
        "  reduce_lr_callback = keras.callbacks.ReduceLROnPlateau(monitor='val_categorical_accuracy', factor=0.2, patience=2, min_lr=0.00001)\r\n",
        "\r\n",
        "  output_dims = 200\r\n",
        "  lstm_out = filter_sizes\r\n",
        "\r\n",
        "  model = keras.Sequential([\r\n",
        "      layers.Embedding(input_dim=voc_size, output_dim=output_dims, input_length=X.shape[1], weights=[embedding_matrix]),\r\n",
        "      layers.SpatialDropout1D(0.2),\r\n",
        "      layers.Bidirectional(layers.LSTM(units=lstm_out, dropout=0.2, recurrent_dropout=0.2)),\r\n",
        "      layers.Dense(units=3, activation='softmax')\r\n",
        "      ])\r\n",
        "\r\n",
        "  metrics = [\r\n",
        "           keras.metrics.CategoricalAccuracy(),\r\n",
        "           keras.metrics.Precision(name='precision'),\r\n",
        "           keras.metrics.Recall(name='recall'),\r\n",
        "           f1_metrics,\r\n",
        "  ]\r\n",
        "\r\n",
        "  model.compile(optimizer='adam',\r\n",
        "              loss=keras.losses.CategoricalCrossentropy(),\r\n",
        "              metrics=metrics\r\n",
        "              )\r\n",
        "\r\n",
        "  history = model.fit(X_train,\r\n",
        "                      Y_train,\r\n",
        "                      batch_size=3000,\r\n",
        "                      epochs=20,\r\n",
        "                      validation_data=(X_val,Y_val),\r\n",
        "                      shuffle=True,\r\n",
        "                      callbacks=[model_checkpoint, early_stopping_callback, reduce_lr_callback]\r\n",
        "  )\r\n",
        "\r\n",
        "  return model, history"
      ],
      "execution_count": 25,
      "outputs": []
    },
    {
      "cell_type": "code",
      "metadata": {
        "id": "5WEwkiOJD56C",
        "colab": {
          "base_uri": "https://localhost:8080/"
        },
        "outputId": "8f3a6eae-5a2c-4100-f1a6-f1790ae503bf"
      },
      "source": [
        "filter_sizes = [\r\n",
        "                200,150,120,250,60\r\n",
        "                ]\r\n",
        "models = []\r\n",
        "best_indiv = 0.0\r\n",
        "for filter_size in filter_sizes:\r\n",
        "  model, history = model_gen(filter_size, 'models/LSTM')\r\n",
        "  models.append(model)\r\n",
        "  best_indiv = max(best_indiv, max(history.history['val_f1_metrics']))"
      ],
      "execution_count": 26,
      "outputs": [
        {
          "output_type": "stream",
          "text": [
            "WARNING:tensorflow:Layer lstm_5 will not use cuDNN kernel since it doesn't meet the cuDNN kernel criteria. It will use generic GPU kernel as fallback when running on GPU\n",
            "WARNING:tensorflow:Layer lstm_5 will not use cuDNN kernel since it doesn't meet the cuDNN kernel criteria. It will use generic GPU kernel as fallback when running on GPU\n",
            "WARNING:tensorflow:Layer lstm_5 will not use cuDNN kernel since it doesn't meet the cuDNN kernel criteria. It will use generic GPU kernel as fallback when running on GPU\n",
            "Epoch 1/20\n",
            "30/30 [==============================] - 26s 676ms/step - loss: 0.9808 - categorical_accuracy: 0.5049 - precision: 0.6404 - recall: 0.1974 - f1_metrics: 0.2489 - val_loss: 0.7603 - val_categorical_accuracy: 0.6529 - val_precision: 0.6933 - val_recall: 0.5848 - val_f1_metrics: 0.6317\n",
            "Epoch 2/20\n",
            "30/30 [==============================] - 20s 663ms/step - loss: 0.7648 - categorical_accuracy: 0.6506 - precision: 0.6952 - recall: 0.5707 - f1_metrics: 0.6268 - val_loss: 0.7020 - val_categorical_accuracy: 0.6857 - val_precision: 0.7176 - val_recall: 0.6327 - val_f1_metrics: 0.6741\n",
            "Epoch 3/20\n",
            "30/30 [==============================] - 20s 667ms/step - loss: 0.7002 - categorical_accuracy: 0.6890 - precision: 0.7256 - recall: 0.6286 - f1_metrics: 0.6736 - val_loss: 0.6732 - val_categorical_accuracy: 0.7043 - val_precision: 0.7329 - val_recall: 0.6555 - val_f1_metrics: 0.6941\n",
            "Epoch 4/20\n",
            "30/30 [==============================] - 20s 656ms/step - loss: 0.6560 - categorical_accuracy: 0.7119 - precision: 0.7457 - recall: 0.6617 - f1_metrics: 0.7012 - val_loss: 0.6573 - val_categorical_accuracy: 0.7111 - val_precision: 0.7357 - val_recall: 0.6737 - val_f1_metrics: 0.7054\n",
            "Epoch 5/20\n",
            "30/30 [==============================] - 20s 659ms/step - loss: 0.6253 - categorical_accuracy: 0.7273 - precision: 0.7560 - recall: 0.6848 - f1_metrics: 0.7186 - val_loss: 0.6486 - val_categorical_accuracy: 0.7150 - val_precision: 0.7385 - val_recall: 0.6794 - val_f1_metrics: 0.7081\n",
            "Epoch 6/20\n",
            "30/30 [==============================] - 20s 667ms/step - loss: 0.5949 - categorical_accuracy: 0.7455 - precision: 0.7717 - recall: 0.7063 - f1_metrics: 0.7376 - val_loss: 0.6429 - val_categorical_accuracy: 0.7202 - val_precision: 0.7423 - val_recall: 0.6852 - val_f1_metrics: 0.7107\n",
            "Epoch 7/20\n",
            "30/30 [==============================] - 20s 674ms/step - loss: 0.5630 - categorical_accuracy: 0.7599 - precision: 0.7842 - recall: 0.7269 - f1_metrics: 0.7544 - val_loss: 0.6460 - val_categorical_accuracy: 0.7220 - val_precision: 0.7390 - val_recall: 0.6964 - val_f1_metrics: 0.7174\n",
            "Epoch 8/20\n",
            "30/30 [==============================] - 20s 666ms/step - loss: 0.5355 - categorical_accuracy: 0.7733 - precision: 0.7946 - recall: 0.7443 - f1_metrics: 0.7686 - val_loss: 0.6525 - val_categorical_accuracy: 0.7196 - val_precision: 0.7363 - val_recall: 0.6939 - val_f1_metrics: 0.7169\n",
            "Epoch 9/20\n",
            "30/30 [==============================] - 20s 650ms/step - loss: 0.5100 - categorical_accuracy: 0.7848 - precision: 0.8044 - recall: 0.7587 - f1_metrics: 0.7810 - val_loss: 0.6638 - val_categorical_accuracy: 0.7251 - val_precision: 0.7384 - val_recall: 0.7045 - val_f1_metrics: 0.7226\n",
            "WARNING:tensorflow:Layer lstm_6 will not use cuDNN kernel since it doesn't meet the cuDNN kernel criteria. It will use generic GPU kernel as fallback when running on GPU\n",
            "WARNING:tensorflow:Layer lstm_6 will not use cuDNN kernel since it doesn't meet the cuDNN kernel criteria. It will use generic GPU kernel as fallback when running on GPU\n",
            "WARNING:tensorflow:Layer lstm_6 will not use cuDNN kernel since it doesn't meet the cuDNN kernel criteria. It will use generic GPU kernel as fallback when running on GPU\n",
            "Epoch 1/20\n",
            "30/30 [==============================] - 23s 622ms/step - loss: 0.9880 - categorical_accuracy: 0.4963 - precision: 0.6240 - recall: 0.1716 - f1_metrics: 0.2217 - val_loss: 0.7628 - val_categorical_accuracy: 0.6516 - val_precision: 0.6873 - val_recall: 0.5929 - val_f1_metrics: 0.6357\n",
            "Epoch 2/20\n",
            "30/30 [==============================] - 18s 598ms/step - loss: 0.7662 - categorical_accuracy: 0.6515 - precision: 0.6924 - recall: 0.5746 - f1_metrics: 0.6280 - val_loss: 0.7035 - val_categorical_accuracy: 0.6891 - val_precision: 0.7227 - val_recall: 0.6281 - val_f1_metrics: 0.6707\n",
            "Epoch 3/20\n",
            "30/30 [==============================] - 18s 599ms/step - loss: 0.7073 - categorical_accuracy: 0.6832 - precision: 0.7238 - recall: 0.6172 - f1_metrics: 0.6663 - val_loss: 0.6755 - val_categorical_accuracy: 0.7033 - val_precision: 0.7312 - val_recall: 0.6565 - val_f1_metrics: 0.6935\n",
            "Epoch 4/20\n",
            "30/30 [==============================] - 18s 607ms/step - loss: 0.6555 - categorical_accuracy: 0.7128 - precision: 0.7477 - recall: 0.6613 - f1_metrics: 0.7018 - val_loss: 0.6572 - val_categorical_accuracy: 0.7115 - val_precision: 0.7371 - val_recall: 0.6702 - val_f1_metrics: 0.7036\n",
            "Epoch 5/20\n",
            "30/30 [==============================] - 18s 587ms/step - loss: 0.6206 - categorical_accuracy: 0.7307 - precision: 0.7612 - recall: 0.6873 - f1_metrics: 0.7224 - val_loss: 0.6527 - val_categorical_accuracy: 0.7125 - val_precision: 0.7327 - val_recall: 0.6809 - val_f1_metrics: 0.7077\n",
            "Epoch 6/20\n",
            "30/30 [==============================] - 18s 602ms/step - loss: 0.5936 - categorical_accuracy: 0.7443 - precision: 0.7721 - recall: 0.7055 - f1_metrics: 0.7373 - val_loss: 0.6399 - val_categorical_accuracy: 0.7192 - val_precision: 0.7417 - val_recall: 0.6842 - val_f1_metrics: 0.7150\n",
            "Epoch 7/20\n",
            "30/30 [==============================] - 18s 603ms/step - loss: 0.5581 - categorical_accuracy: 0.7629 - precision: 0.7891 - recall: 0.7285 - f1_metrics: 0.7575 - val_loss: 0.6512 - val_categorical_accuracy: 0.7198 - val_precision: 0.7364 - val_recall: 0.6960 - val_f1_metrics: 0.7178\n",
            "Epoch 8/20\n",
            "30/30 [==============================] - 18s 607ms/step - loss: 0.5377 - categorical_accuracy: 0.7738 - precision: 0.7960 - recall: 0.7450 - f1_metrics: 0.7697 - val_loss: 0.6497 - val_categorical_accuracy: 0.7220 - val_precision: 0.7378 - val_recall: 0.7004 - val_f1_metrics: 0.7173\n",
            "Epoch 9/20\n",
            "30/30 [==============================] - 18s 604ms/step - loss: 0.5130 - categorical_accuracy: 0.7841 - precision: 0.8031 - recall: 0.7578 - f1_metrics: 0.7799 - val_loss: 0.6609 - val_categorical_accuracy: 0.7165 - val_precision: 0.7332 - val_recall: 0.6970 - val_f1_metrics: 0.7151\n",
            "WARNING:tensorflow:Layer lstm_7 will not use cuDNN kernel since it doesn't meet the cuDNN kernel criteria. It will use generic GPU kernel as fallback when running on GPU\n",
            "WARNING:tensorflow:Layer lstm_7 will not use cuDNN kernel since it doesn't meet the cuDNN kernel criteria. It will use generic GPU kernel as fallback when running on GPU\n",
            "WARNING:tensorflow:Layer lstm_7 will not use cuDNN kernel since it doesn't meet the cuDNN kernel criteria. It will use generic GPU kernel as fallback when running on GPU\n",
            "Epoch 1/20\n",
            "30/30 [==============================] - 22s 598ms/step - loss: 1.0049 - categorical_accuracy: 0.4971 - precision: 0.6692 - recall: 0.1312 - f1_metrics: 0.1802 - val_loss: 0.7803 - val_categorical_accuracy: 0.6486 - val_precision: 0.6823 - val_recall: 0.5868 - val_f1_metrics: 0.6326\n",
            "Epoch 2/20\n",
            "30/30 [==============================] - 17s 569ms/step - loss: 0.7776 - categorical_accuracy: 0.6467 - precision: 0.6911 - recall: 0.5634 - f1_metrics: 0.6208 - val_loss: 0.7141 - val_categorical_accuracy: 0.6819 - val_precision: 0.7158 - val_recall: 0.6241 - val_f1_metrics: 0.6692\n",
            "Epoch 3/20\n",
            "30/30 [==============================] - 18s 589ms/step - loss: 0.7092 - categorical_accuracy: 0.6822 - precision: 0.7216 - recall: 0.6192 - f1_metrics: 0.6664 - val_loss: 0.6779 - val_categorical_accuracy: 0.6981 - val_precision: 0.7307 - val_recall: 0.6524 - val_f1_metrics: 0.6927\n",
            "Epoch 4/20\n",
            "30/30 [==============================] - 17s 582ms/step - loss: 0.6601 - categorical_accuracy: 0.7087 - precision: 0.7416 - recall: 0.6564 - f1_metrics: 0.6964 - val_loss: 0.6632 - val_categorical_accuracy: 0.7088 - val_precision: 0.7355 - val_recall: 0.6641 - val_f1_metrics: 0.6980\n",
            "Epoch 5/20\n",
            "30/30 [==============================] - 17s 570ms/step - loss: 0.6244 - categorical_accuracy: 0.7303 - precision: 0.7611 - recall: 0.6844 - f1_metrics: 0.7206 - val_loss: 0.6571 - val_categorical_accuracy: 0.7121 - val_precision: 0.7346 - val_recall: 0.6789 - val_f1_metrics: 0.7078\n",
            "Epoch 6/20\n",
            "30/30 [==============================] - 18s 589ms/step - loss: 0.5965 - categorical_accuracy: 0.7452 - precision: 0.7718 - recall: 0.7044 - f1_metrics: 0.7365 - val_loss: 0.6496 - val_categorical_accuracy: 0.7130 - val_precision: 0.7364 - val_recall: 0.6811 - val_f1_metrics: 0.7084\n",
            "Epoch 7/20\n",
            "30/30 [==============================] - 17s 566ms/step - loss: 0.5607 - categorical_accuracy: 0.7633 - precision: 0.7882 - recall: 0.7280 - f1_metrics: 0.7569 - val_loss: 0.6570 - val_categorical_accuracy: 0.7169 - val_precision: 0.7328 - val_recall: 0.6944 - val_f1_metrics: 0.7145\n",
            "Epoch 8/20\n",
            "30/30 [==============================] - 17s 576ms/step - loss: 0.5393 - categorical_accuracy: 0.7742 - precision: 0.7950 - recall: 0.7446 - f1_metrics: 0.7689 - val_loss: 0.6497 - val_categorical_accuracy: 0.7183 - val_precision: 0.7343 - val_recall: 0.6949 - val_f1_metrics: 0.7137\n",
            "Epoch 9/20\n",
            "30/30 [==============================] - 17s 552ms/step - loss: 0.5141 - categorical_accuracy: 0.7845 - precision: 0.8048 - recall: 0.7592 - f1_metrics: 0.7814 - val_loss: 0.6608 - val_categorical_accuracy: 0.7177 - val_precision: 0.7325 - val_recall: 0.6958 - val_f1_metrics: 0.7152\n",
            "WARNING:tensorflow:Layer lstm_8 will not use cuDNN kernel since it doesn't meet the cuDNN kernel criteria. It will use generic GPU kernel as fallback when running on GPU\n",
            "WARNING:tensorflow:Layer lstm_8 will not use cuDNN kernel since it doesn't meet the cuDNN kernel criteria. It will use generic GPU kernel as fallback when running on GPU\n",
            "WARNING:tensorflow:Layer lstm_8 will not use cuDNN kernel since it doesn't meet the cuDNN kernel criteria. It will use generic GPU kernel as fallback when running on GPU\n",
            "Epoch 1/20\n",
            "30/30 [==============================] - 27s 750ms/step - loss: 0.9854 - categorical_accuracy: 0.4979 - precision: 0.6046 - recall: 0.2061 - f1_metrics: 0.2669 - val_loss: 0.7866 - val_categorical_accuracy: 0.6430 - val_precision: 0.6802 - val_recall: 0.5815 - val_f1_metrics: 0.6265\n",
            "Epoch 2/20\n",
            "30/30 [==============================] - 22s 725ms/step - loss: 0.7701 - categorical_accuracy: 0.6483 - precision: 0.6938 - recall: 0.5676 - f1_metrics: 0.6244 - val_loss: 0.7059 - val_categorical_accuracy: 0.6833 - val_precision: 0.7179 - val_recall: 0.6272 - val_f1_metrics: 0.6701\n",
            "Epoch 3/20\n",
            "30/30 [==============================] - 22s 740ms/step - loss: 0.7044 - categorical_accuracy: 0.6872 - precision: 0.7250 - recall: 0.6216 - f1_metrics: 0.6694 - val_loss: 0.6956 - val_categorical_accuracy: 0.6913 - val_precision: 0.7211 - val_recall: 0.6328 - val_f1_metrics: 0.6753\n",
            "Epoch 4/20\n",
            "30/30 [==============================] - 22s 722ms/step - loss: 0.6721 - categorical_accuracy: 0.7028 - precision: 0.7383 - recall: 0.6449 - f1_metrics: 0.6884 - val_loss: 0.6608 - val_categorical_accuracy: 0.7071 - val_precision: 0.7346 - val_recall: 0.6646 - val_f1_metrics: 0.6989\n",
            "Epoch 5/20\n",
            "30/30 [==============================] - 22s 738ms/step - loss: 0.6274 - categorical_accuracy: 0.7268 - precision: 0.7567 - recall: 0.6827 - f1_metrics: 0.7178 - val_loss: 0.6612 - val_categorical_accuracy: 0.7074 - val_precision: 0.7316 - val_recall: 0.6702 - val_f1_metrics: 0.7020\n",
            "Epoch 6/20\n",
            "30/30 [==============================] - 22s 729ms/step - loss: 0.5954 - categorical_accuracy: 0.7441 - precision: 0.7709 - recall: 0.7030 - f1_metrics: 0.7353 - val_loss: 0.6452 - val_categorical_accuracy: 0.7156 - val_precision: 0.7399 - val_recall: 0.6804 - val_f1_metrics: 0.7098\n",
            "Epoch 7/20\n",
            "30/30 [==============================] - 22s 728ms/step - loss: 0.5661 - categorical_accuracy: 0.7605 - precision: 0.7865 - recall: 0.7248 - f1_metrics: 0.7544 - val_loss: 0.6442 - val_categorical_accuracy: 0.7212 - val_precision: 0.7385 - val_recall: 0.6960 - val_f1_metrics: 0.7167\n",
            "Epoch 8/20\n",
            "30/30 [==============================] - 22s 736ms/step - loss: 0.5314 - categorical_accuracy: 0.7764 - precision: 0.7970 - recall: 0.7485 - f1_metrics: 0.7720 - val_loss: 0.6507 - val_categorical_accuracy: 0.7215 - val_precision: 0.7369 - val_recall: 0.6973 - val_f1_metrics: 0.7184\n",
            "Epoch 9/20\n",
            "30/30 [==============================] - 22s 727ms/step - loss: 0.5038 - categorical_accuracy: 0.7891 - precision: 0.8080 - recall: 0.7645 - f1_metrics: 0.7856 - val_loss: 0.6511 - val_categorical_accuracy: 0.7217 - val_precision: 0.7400 - val_recall: 0.6988 - val_f1_metrics: 0.7195\n",
            "Epoch 10/20\n",
            "30/30 [==============================] - 22s 746ms/step - loss: 0.4847 - categorical_accuracy: 0.7994 - precision: 0.8180 - recall: 0.7754 - f1_metrics: 0.7960 - val_loss: 0.6567 - val_categorical_accuracy: 0.7197 - val_precision: 0.7365 - val_recall: 0.6988 - val_f1_metrics: 0.7164\n",
            "WARNING:tensorflow:Layer lstm_9 will not use cuDNN kernel since it doesn't meet the cuDNN kernel criteria. It will use generic GPU kernel as fallback when running on GPU\n",
            "WARNING:tensorflow:Layer lstm_9 will not use cuDNN kernel since it doesn't meet the cuDNN kernel criteria. It will use generic GPU kernel as fallback when running on GPU\n",
            "WARNING:tensorflow:Layer lstm_9 will not use cuDNN kernel since it doesn't meet the cuDNN kernel criteria. It will use generic GPU kernel as fallback when running on GPU\n",
            "Epoch 1/20\n",
            "30/30 [==============================] - 21s 557ms/step - loss: 1.0692 - categorical_accuracy: 0.4146 - precision: 0.5200 - recall: 0.0577 - f1_metrics: 0.0963 - val_loss: 0.8594 - val_categorical_accuracy: 0.6062 - val_precision: 0.6551 - val_recall: 0.5030 - val_f1_metrics: 0.5666\n",
            "Epoch 2/20\n",
            "30/30 [==============================] - 16s 540ms/step - loss: 0.8331 - categorical_accuracy: 0.6184 - precision: 0.6675 - recall: 0.5203 - f1_metrics: 0.5846 - val_loss: 0.7318 - val_categorical_accuracy: 0.6703 - val_precision: 0.7109 - val_recall: 0.6067 - val_f1_metrics: 0.6550\n",
            "Epoch 3/20\n",
            "30/30 [==============================] - 17s 554ms/step - loss: 0.7351 - categorical_accuracy: 0.6723 - precision: 0.7149 - recall: 0.5979 - f1_metrics: 0.6511 - val_loss: 0.6946 - val_categorical_accuracy: 0.6928 - val_precision: 0.7201 - val_recall: 0.6481 - val_f1_metrics: 0.6822\n",
            "Epoch 4/20\n",
            "30/30 [==============================] - 17s 557ms/step - loss: 0.6831 - categorical_accuracy: 0.7004 - precision: 0.7360 - recall: 0.6428 - f1_metrics: 0.6862 - val_loss: 0.6764 - val_categorical_accuracy: 0.7031 - val_precision: 0.7260 - val_recall: 0.6656 - val_f1_metrics: 0.6961\n",
            "Epoch 5/20\n",
            "30/30 [==============================] - 16s 549ms/step - loss: 0.6417 - categorical_accuracy: 0.7224 - precision: 0.7556 - recall: 0.6728 - f1_metrics: 0.7118 - val_loss: 0.6647 - val_categorical_accuracy: 0.7121 - val_precision: 0.7308 - val_recall: 0.6796 - val_f1_metrics: 0.7041\n",
            "Epoch 6/20\n",
            "30/30 [==============================] - 17s 571ms/step - loss: 0.6085 - categorical_accuracy: 0.7378 - precision: 0.7660 - recall: 0.6978 - f1_metrics: 0.7303 - val_loss: 0.6589 - val_categorical_accuracy: 0.7145 - val_precision: 0.7338 - val_recall: 0.6855 - val_f1_metrics: 0.7093\n",
            "Epoch 7/20\n",
            "30/30 [==============================] - 17s 555ms/step - loss: 0.5785 - categorical_accuracy: 0.7541 - precision: 0.7800 - recall: 0.7186 - f1_metrics: 0.7480 - val_loss: 0.6540 - val_categorical_accuracy: 0.7154 - val_precision: 0.7350 - val_recall: 0.6868 - val_f1_metrics: 0.7100\n",
            "Epoch 8/20\n",
            "30/30 [==============================] - 17s 554ms/step - loss: 0.5511 - categorical_accuracy: 0.7699 - precision: 0.7941 - recall: 0.7362 - f1_metrics: 0.7640 - val_loss: 0.6572 - val_categorical_accuracy: 0.7180 - val_precision: 0.7348 - val_recall: 0.6927 - val_f1_metrics: 0.7122\n",
            "Epoch 9/20\n",
            "30/30 [==============================] - 16s 533ms/step - loss: 0.5283 - categorical_accuracy: 0.7805 - precision: 0.8028 - recall: 0.7522 - f1_metrics: 0.7766 - val_loss: 0.6638 - val_categorical_accuracy: 0.7152 - val_precision: 0.7286 - val_recall: 0.6951 - val_f1_metrics: 0.7120\n",
            "Epoch 10/20\n",
            "30/30 [==============================] - 16s 549ms/step - loss: 0.5026 - categorical_accuracy: 0.7923 - precision: 0.8112 - recall: 0.7667 - f1_metrics: 0.7883 - val_loss: 0.6670 - val_categorical_accuracy: 0.7167 - val_precision: 0.7317 - val_recall: 0.6990 - val_f1_metrics: 0.7147\n"
          ],
          "name": "stdout"
        }
      ]
    },
    {
      "cell_type": "code",
      "metadata": {
        "colab": {
          "base_uri": "https://localhost:8080/"
        },
        "id": "d_XCvKtV4w8U",
        "outputId": "e61d44b9-1d85-4d4e-c304-64d93871b5b5"
      },
      "source": [
        "for i, model in enumerate(models):\r\n",
        "  print(\"\\nModel_{0}\".format(i))\r\n",
        "  model.evaluate(X_test, Y_test, batch_size=1000)"
      ],
      "execution_count": 27,
      "outputs": [
        {
          "output_type": "stream",
          "text": [
            "\n",
            "Model_0\n",
            "12/12 [==============================] - 1s 60ms/step - loss: 0.6572 - categorical_accuracy: 0.7193 - precision: 0.7356 - recall: 0.6982 - f1_metrics: 0.7143\n",
            "\n",
            "Model_1\n",
            "12/12 [==============================] - 1s 42ms/step - loss: 0.6380 - categorical_accuracy: 0.7195 - precision: 0.7371 - recall: 0.6991 - f1_metrics: 0.7152\n",
            "\n",
            "Model_2\n",
            "12/12 [==============================] - 0s 38ms/step - loss: 0.6519 - categorical_accuracy: 0.7138 - precision: 0.7302 - recall: 0.6917 - f1_metrics: 0.7087\n",
            "\n",
            "Model_3\n",
            "12/12 [==============================] - 1s 59ms/step - loss: 0.6362 - categorical_accuracy: 0.7157 - precision: 0.7336 - recall: 0.6918 - f1_metrics: 0.7098\n",
            "\n",
            "Model_4\n",
            "12/12 [==============================] - 0s 34ms/step - loss: 0.6543 - categorical_accuracy: 0.7110 - precision: 0.7258 - recall: 0.6905 - f1_metrics: 0.7054\n"
          ],
          "name": "stdout"
        }
      ]
    },
    {
      "cell_type": "code",
      "metadata": {
        "id": "8kiiExhcn4UA",
        "colab": {
          "base_uri": "https://localhost:8080/"
        },
        "outputId": "a9d00097-33df-474f-a38b-f6bf110debad"
      },
      "source": [
        "best_indiv"
      ],
      "execution_count": 28,
      "outputs": [
        {
          "output_type": "execute_result",
          "data": {
            "text/plain": [
              "0.7225930690765381"
            ]
          },
          "metadata": {
            "tags": []
          },
          "execution_count": 28
        }
      ]
    },
    {
      "cell_type": "code",
      "metadata": {
        "id": "3w5eBHJCEo4l"
      },
      "source": [
        "train_predictions_LSTM = []\r\n",
        "test_predictions_LSTM = []\r\n",
        "\r\n",
        "for model in models:\r\n",
        "  train_predictions_LSTM.append(model.predict([X_train], batch_size=1024))\r\n",
        "  test_predictions_LSTM.append(model.predict([X_val], batch_size=1024))"
      ],
      "execution_count": 29,
      "outputs": []
    },
    {
      "cell_type": "code",
      "metadata": {
        "id": "0CMagrBXEf-K",
        "colab": {
          "base_uri": "https://localhost:8080/"
        },
        "outputId": "2449353a-9d49-4a03-e6a2-09b4d33fc2fd"
      },
      "source": [
        "ndarray = np.array(train_predictions_LSTM)\r\n",
        "positive = ndarray[:,:,0]\r\n",
        "neutral = ndarray[:,:,1]\r\n",
        "negative = ndarray[:,:,2]\r\n",
        "\r\n",
        "average = (np.corrcoef(positive) + np.corrcoef(neutral) + np.corrcoef(negative))/3\r\n",
        "average"
      ],
      "execution_count": 30,
      "outputs": [
        {
          "output_type": "execute_result",
          "data": {
            "text/plain": [
              "array([[1.        , 0.98137644, 0.97853334, 0.97699969, 0.97909633],\n",
              "       [0.98137644, 1.        , 0.96846888, 0.97458101, 0.97260869],\n",
              "       [0.97853334, 0.96846888, 1.        , 0.97542076, 0.98138338],\n",
              "       [0.97699969, 0.97458101, 0.97542076, 1.        , 0.97523605],\n",
              "       [0.97909633, 0.97260869, 0.98138338, 0.97523605, 1.        ]])"
            ]
          },
          "metadata": {
            "tags": []
          },
          "execution_count": 30
        }
      ]
    },
    {
      "cell_type": "code",
      "metadata": {
        "id": "DaOKb0siEhAH",
        "colab": {
          "base_uri": "https://localhost:8080/",
          "height": 557
        },
        "outputId": "b7fef142-d55f-4625-94b9-5df562211b8a"
      },
      "source": [
        "import seaborn as sns\r\n",
        "\r\n",
        "sns.set_theme(style=\"white\")\r\n",
        "\r\n",
        "mask = np.triu(np.ones_like(average, dtype=bool))\r\n",
        "\r\n",
        "f, ax = plt.subplots(figsize=(11,9))\r\n",
        "\r\n",
        "cmap = sns.diverging_palette(220,20, n=9, as_cmap=True)\r\n",
        "\r\n",
        "sns.heatmap(average, mask=mask, cmap=cmap, vmax=1, vmin=.75, center=.9,\r\n",
        "            square=True, linewidth=.5, cbar_kws={\"shrink\":.5})"
      ],
      "execution_count": 31,
      "outputs": [
        {
          "output_type": "execute_result",
          "data": {
            "text/plain": [
              "<matplotlib.axes._subplots.AxesSubplot at 0x7fd5e9698f60>"
            ]
          },
          "metadata": {
            "tags": []
          },
          "execution_count": 31
        },
        {
          "output_type": "display_data",
          "data": {
            "image/png": "[encoded data removed]",
            "text/plain": [
              "<Figure size 792x648 with 2 Axes>"
            ]
          },
          "metadata": {
            "tags": []
          }
        }
      ]
    }
  ]
}