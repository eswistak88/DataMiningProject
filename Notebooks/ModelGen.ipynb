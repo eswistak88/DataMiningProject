{
  "nbformat": 4,
  "nbformat_minor": 0,
  "metadata": {
    "colab": {
      "name": "ModelGen.ipynb",
      "provenance": [],
      "collapsed_sections": [
        "JoTIgYrYwe-A",
        "Q17umrp39CJq",
        "or9I14oifgWE",
        "gCBIW_j2jZB8",
        "fxI8h7f-PI7b",
        "PiFIMHYI1VR3",
        "okV89ZXw1lPR",
        "LpAydPBv16PJ",
        "zDuSugQ9uTbw",
        "A8pcHU3aFj_v",
        "T9zSsDyA04oS"
      ]
    },
    "kernelspec": {
      "name": "python3",
      "display_name": "Python 3"
    },
    "accelerator": "GPU"
  },
  "cells": [
    {
      "cell_type": "markdown",
      "metadata": {
        "id": "JoTIgYrYwe-A"
      },
      "source": [
        "# **1. Import necessary libraries**"
      ]
    },
    {
      "cell_type": "code",
      "metadata": {
        "colab": {
          "base_uri": "https://localhost:8080/"
        },
        "id": "Dht_sDU4wd9A",
        "outputId": "1d4fa4a5-1b69-4ceb-aab9-bb90e563500b"
      },
      "source": [
        "import os\n",
        "import tweepy as tw\n",
        "import pandas as pd\n",
        "import csv\n",
        "import pandas as pd\n",
        "import glob\n",
        "from nltk.corpus import stopwords\n",
        "import numpy as np\n",
        "import re\n",
        "from keras.preprocessing.text import Tokenizer\n",
        "from keras.preprocessing.sequence import pad_sequences\n",
        "import tensorflow.keras as keras\n",
        "import tensorflow.keras.layers as layers\n",
        "from sklearn.model_selection import train_test_split\n",
        "import keras.models\n",
        "import matplotlib.pyplot as plt\n",
        "from keras.utils import to_categorical\n",
        "from keras import backend as K\n",
        "import nltk\n",
        "nltk.download('stopwords')\n",
        "from nltk.corpus import stopwords\n",
        "from collections import namedtuple\n",
        "import seaborn as sns\n",
        "import pickle"
      ],
      "execution_count": null,
      "outputs": [
        {
          "output_type": "stream",
          "text": [
            "[nltk_data] Downloading package stopwords to /root/nltk_data...\n",
            "[nltk_data]   Unzipping corpora/stopwords.zip.\n"
          ],
          "name": "stdout"
        }
      ]
    },
    {
      "cell_type": "code",
      "metadata": {
        "id": "bikBl1t9KsAX"
      },
      "source": [
        "from google.colab import drive\n",
        "drive.mount('/content/drive')"
      ],
      "execution_count": null,
      "outputs": []
    },
    {
      "cell_type": "markdown",
      "metadata": {
        "id": "Q17umrp39CJq"
      },
      "source": [
        "# **2. Necessary Data Cleaning Functions**"
      ]
    },
    {
      "cell_type": "markdown",
      "metadata": {
        "id": "dvvMCJjxn7zx"
      },
      "source": [
        "**Function to concatenate all csv files into one large corpus**"
      ]
    },
    {
      "cell_type": "code",
      "metadata": {
        "id": "XXo_igmI8tdx"
      },
      "source": [
        "def create_data_corpus(path):\n",
        "  files = glob.glob(path + \"/*.csv\")\n",
        "  df_list = []\n",
        "  \n",
        "  for file in files:\n",
        "    df = pd.read_csv(file, index_col=None, header=0, engine='python')\n",
        "    df_list.append(df)\n",
        "\n",
        "  frame = pd.concat(df_list, axis=0, ignore_index=True)\n",
        "  return frame"
      ],
      "execution_count": null,
      "outputs": []
    },
    {
      "cell_type": "markdown",
      "metadata": {
        "id": "pJENf2LI3RfR"
      },
      "source": [
        "**Function to remove certain patterns in the data**"
      ]
    },
    {
      "cell_type": "code",
      "metadata": {
        "id": "--FOIDctt4V1"
      },
      "source": [
        "def remove_pattern(input_txt, pattern):\n",
        "  r = re.findall(pattern, input_txt)\n",
        "  for i in r:\n",
        "    input_txt = re.sub(i, '', input_txt)        \n",
        "  return input_txt"
      ],
      "execution_count": null,
      "outputs": []
    },
    {
      "cell_type": "markdown",
      "metadata": {
        "id": "DPHuSJsPb437"
      },
      "source": [
        "**Function to carry out data cleaning**"
      ]
    },
    {
      "cell_type": "code",
      "metadata": {
        "id": "1-8v5Uf3bA1X"
      },
      "source": [
        "def clean_tweets(frame, column_name, remove_stop_words=True, lower_case=True, remove_special=True):\n",
        "  frame = frame.drop_duplicates().reset_index(drop=True) #remove duplicate rows\n",
        "  frame['Tweet_Clean_Text'] = np.vectorize(remove_pattern)(frame[column_name], \"RT @[\\w]*:\") #remove twitter return handle\n",
        "  frame.Tweet_Clean_Text = np.vectorize(remove_pattern)(frame['Tweet_Clean_Text'], \"@[\\w]*\") #remove twitter handle\n",
        "  frame.Tweet_Clean_Text = np.vectorize(remove_pattern)(frame['Tweet_Clean_Text'], \"https?://[A-Za-z0-9./]*\") #remove URLs\n",
        "\n",
        "  if remove_special:\n",
        "    frame.Tweet_Clean_Text = frame.Tweet_Clean_Text.str.replace(\"[^a-zA-Z#]\", \" \") #remove special characters except for #\n",
        "  frame.Tweet_Clean_Text = frame.Tweet_Clean_Text.replace('\\s+', ' ', regex=True) #remove extra spaces in between words\n",
        "  if lower_case:\n",
        "    frame.Tweet_Clean_Text = frame.Tweet_Clean_Text.apply(lambda x: x.lower())\n",
        "  if remove_stop_words:\n",
        "    frame.Tweet_Clean_Text = frame.Tweet_Clean_Text.apply(lambda x: ' '.join([word for word in x.split() if word not in stopwords.words('english')])) #remove stop words\n",
        "\n",
        "  return frame"
      ],
      "execution_count": null,
      "outputs": []
    },
    {
      "cell_type": "markdown",
      "metadata": {
        "id": "or9I14oifgWE"
      },
      "source": [
        "# **3. Preprocess the Dataset(Combined corpus of SemEval2017 + Airlines + subset of Sentiment140) for training the Networks**"
      ]
    },
    {
      "cell_type": "code",
      "metadata": {
        "colab": {
          "base_uri": "https://localhost:8080/"
        },
        "id": "8KR-U6eYlyDp",
        "outputId": "fcc8572d-b4ea-4901-b28e-ed9b20d8ff7e"
      },
      "source": [
        "mega_frame = create_data_corpus('drive/My Drive/SentimentAnalysis/MegaData') #Use this path only (Modify if needed)\n",
        "mega_frame = clean_tweets(frame=mega_frame, column_name='Column3', remove_stop_words=False, remove_special=False)\n",
        "mega_frame"
      ],
      "execution_count": null,
      "outputs": [
        {
          "output_type": "execute_result",
          "data": {
            "text/html": [
              "<div>\n",
              "<style scoped>\n",
              "    .dataframe tbody tr th:only-of-type {\n",
              "        vertical-align: middle;\n",
              "    }\n",
              "\n",
              "    .dataframe tbody tr th {\n",
              "        vertical-align: top;\n",
              "    }\n",
              "\n",
              "    .dataframe thead th {\n",
              "        text-align: right;\n",
              "    }\n",
              "</style>\n",
              "<table border=\"1\" class=\"dataframe\">\n",
              "  <thead>\n",
              "    <tr style=\"text-align: right;\">\n",
              "      <th></th>\n",
              "      <th>Column1</th>\n",
              "      <th>Column2</th>\n",
              "      <th>Column3</th>\n",
              "      <th>Tweet_Clean_Text</th>\n",
              "    </tr>\n",
              "  </thead>\n",
              "  <tbody>\n",
              "    <tr>\n",
              "      <th>0</th>\n",
              "      <td>4.343150e+17</td>\n",
              "      <td>negative</td>\n",
              "      <td>@MetroNorth wall to wall people on the platfor...</td>\n",
              "      <td>wall to wall people on the platform at south ...</td>\n",
              "    </tr>\n",
              "    <tr>\n",
              "      <th>1</th>\n",
              "      <td>4.376050e+17</td>\n",
              "      <td>neutral</td>\n",
              "      <td>ang sarap mging panganay. Pag ikaw may kylngan...</td>\n",
              "      <td>ang sarap mging panganay. pag ikaw may kylngan...</td>\n",
              "    </tr>\n",
              "    <tr>\n",
              "      <th>2</th>\n",
              "      <td>4.374240e+17</td>\n",
              "      <td>negative</td>\n",
              "      <td>RT @katie_rohaley: School on Monday is just go...</td>\n",
              "      <td>school on monday is just gonna be a great time</td>\n",
              "    </tr>\n",
              "    <tr>\n",
              "      <th>3</th>\n",
              "      <td>4.368360e+17</td>\n",
              "      <td>negative</td>\n",
              "      <td>Thanks manager for putting me on the schedule ...</td>\n",
              "      <td>thanks manager for putting me on the schedule ...</td>\n",
              "    </tr>\n",
              "    <tr>\n",
              "      <th>4</th>\n",
              "      <td>4.356710e+17</td>\n",
              "      <td>negative</td>\n",
              "      <td>Who needs sleep? It's not like I have a test t...</td>\n",
              "      <td>who needs sleep? it's not like i have a test t...</td>\n",
              "    </tr>\n",
              "    <tr>\n",
              "      <th>...</th>\n",
              "      <td>...</td>\n",
              "      <td>...</td>\n",
              "      <td>...</td>\n",
              "      <td>...</td>\n",
              "    </tr>\n",
              "    <tr>\n",
              "      <th>114213</th>\n",
              "      <td>2.192225e+09</td>\n",
              "      <td>positive</td>\n",
              "      <td>Hahaha! @futureguru100  that was just a work p...</td>\n",
              "      <td>hahaha! that was just a work project... he cou...</td>\n",
              "    </tr>\n",
              "    <tr>\n",
              "      <th>114214</th>\n",
              "      <td>2.191751e+09</td>\n",
              "      <td>positive</td>\n",
              "      <td>And the award for 'Longest Ever Interview' goe...</td>\n",
              "      <td>and the award for 'longest ever interview' goe...</td>\n",
              "    </tr>\n",
              "    <tr>\n",
              "      <th>114215</th>\n",
              "      <td>1.468895e+09</td>\n",
              "      <td>negative</td>\n",
              "      <td>Thinks!!!!!! i should have rented wheelman</td>\n",
              "      <td>thinks!!!!!! i should have rented wheelman</td>\n",
              "    </tr>\n",
              "    <tr>\n",
              "      <th>114216</th>\n",
              "      <td>1.469237e+09</td>\n",
              "      <td>negative</td>\n",
              "      <td>@MaryBethune I hate school right now! You are ...</td>\n",
              "      <td>i hate school right now! you are lucky you do...</td>\n",
              "    </tr>\n",
              "    <tr>\n",
              "      <th>114217</th>\n",
              "      <td>2.192630e+09</td>\n",
              "      <td>positive</td>\n",
              "      <td>@tjeffrey never too early - 10am is late in so...</td>\n",
              "      <td>never too early - 10am is late in some cultures</td>\n",
              "    </tr>\n",
              "  </tbody>\n",
              "</table>\n",
              "<p>114218 rows × 4 columns</p>\n",
              "</div>"
            ],
            "text/plain": [
              "             Column1  ...                                   Tweet_Clean_Text\n",
              "0       4.343150e+17  ...   wall to wall people on the platform at south ...\n",
              "1       4.376050e+17  ...  ang sarap mging panganay. pag ikaw may kylngan...\n",
              "2       4.374240e+17  ...     school on monday is just gonna be a great time\n",
              "3       4.368360e+17  ...  thanks manager for putting me on the schedule ...\n",
              "4       4.356710e+17  ...  who needs sleep? it's not like i have a test t...\n",
              "...              ...  ...                                                ...\n",
              "114213  2.192225e+09  ...  hahaha! that was just a work project... he cou...\n",
              "114214  2.191751e+09  ...  and the award for 'longest ever interview' goe...\n",
              "114215  1.468895e+09  ...        thinks!!!!!! i should have rented wheelman \n",
              "114216  1.469237e+09  ...   i hate school right now! you are lucky you do...\n",
              "114217  2.192630e+09  ...   never too early - 10am is late in some cultures \n",
              "\n",
              "[114218 rows x 4 columns]"
            ]
          },
          "metadata": {
            "tags": []
          },
          "execution_count": 5
        }
      ]
    },
    {
      "cell_type": "code",
      "metadata": {
        "colab": {
          "base_uri": "https://localhost:8080/"
        },
        "id": "4NXu5D_FrrEp",
        "outputId": "bd585bc4-ac30-4626-9250-52af9e262fca"
      },
      "source": [
        "mega_frame['Column2'].value_counts()"
      ],
      "execution_count": null,
      "outputs": [
        {
          "output_type": "execute_result",
          "data": {
            "text/plain": [
              "positive    47028\n",
              "negative    41842\n",
              "neutral     25348\n",
              "Name: Column2, dtype: int64"
            ]
          },
          "metadata": {
            "tags": []
          },
          "execution_count": 6
        }
      ]
    },
    {
      "cell_type": "markdown",
      "metadata": {
        "id": "gCBIW_j2jZB8"
      },
      "source": [
        "# **4. Build the Inputs to our networks**"
      ]
    },
    {
      "cell_type": "markdown",
      "metadata": {
        "id": "emSZC9JBjksH"
      },
      "source": [
        "**One-hot encode the labels**"
      ]
    },
    {
      "cell_type": "code",
      "metadata": {
        "colab": {
          "base_uri": "https://localhost:8080/"
        },
        "id": "WqBxPJKpjjak",
        "outputId": "49a75b45-c639-4705-c28a-f5e01fb6d609"
      },
      "source": [
        "mega_frame[\"Sentiment_Value\"] = mega_frame[\"Column2\"].map({\"neutral\": 0, \"positive\": 1, \"negative\": 2})\n",
        "labels = to_categorical(mega_frame[\"Sentiment_Value\"], 3)\n",
        "mega_frame"
      ],
      "execution_count": null,
      "outputs": [
        {
          "output_type": "execute_result",
          "data": {
            "text/html": [
              "<div>\n",
              "<style scoped>\n",
              "    .dataframe tbody tr th:only-of-type {\n",
              "        vertical-align: middle;\n",
              "    }\n",
              "\n",
              "    .dataframe tbody tr th {\n",
              "        vertical-align: top;\n",
              "    }\n",
              "\n",
              "    .dataframe thead th {\n",
              "        text-align: right;\n",
              "    }\n",
              "</style>\n",
              "<table border=\"1\" class=\"dataframe\">\n",
              "  <thead>\n",
              "    <tr style=\"text-align: right;\">\n",
              "      <th></th>\n",
              "      <th>Column1</th>\n",
              "      <th>Column2</th>\n",
              "      <th>Column3</th>\n",
              "      <th>Tweet_Clean_Text</th>\n",
              "      <th>Sentiment_Value</th>\n",
              "    </tr>\n",
              "  </thead>\n",
              "  <tbody>\n",
              "    <tr>\n",
              "      <th>0</th>\n",
              "      <td>4.343150e+17</td>\n",
              "      <td>negative</td>\n",
              "      <td>@MetroNorth wall to wall people on the platfor...</td>\n",
              "      <td>wall to wall people on the platform at south ...</td>\n",
              "      <td>2</td>\n",
              "    </tr>\n",
              "    <tr>\n",
              "      <th>1</th>\n",
              "      <td>4.376050e+17</td>\n",
              "      <td>neutral</td>\n",
              "      <td>ang sarap mging panganay. Pag ikaw may kylngan...</td>\n",
              "      <td>ang sarap mging panganay. pag ikaw may kylngan...</td>\n",
              "      <td>0</td>\n",
              "    </tr>\n",
              "    <tr>\n",
              "      <th>2</th>\n",
              "      <td>4.374240e+17</td>\n",
              "      <td>negative</td>\n",
              "      <td>RT @katie_rohaley: School on Monday is just go...</td>\n",
              "      <td>school on monday is just gonna be a great time</td>\n",
              "      <td>2</td>\n",
              "    </tr>\n",
              "    <tr>\n",
              "      <th>3</th>\n",
              "      <td>4.368360e+17</td>\n",
              "      <td>negative</td>\n",
              "      <td>Thanks manager for putting me on the schedule ...</td>\n",
              "      <td>thanks manager for putting me on the schedule ...</td>\n",
              "      <td>2</td>\n",
              "    </tr>\n",
              "    <tr>\n",
              "      <th>4</th>\n",
              "      <td>4.356710e+17</td>\n",
              "      <td>negative</td>\n",
              "      <td>Who needs sleep? It's not like I have a test t...</td>\n",
              "      <td>who needs sleep? it's not like i have a test t...</td>\n",
              "      <td>2</td>\n",
              "    </tr>\n",
              "    <tr>\n",
              "      <th>...</th>\n",
              "      <td>...</td>\n",
              "      <td>...</td>\n",
              "      <td>...</td>\n",
              "      <td>...</td>\n",
              "      <td>...</td>\n",
              "    </tr>\n",
              "    <tr>\n",
              "      <th>114213</th>\n",
              "      <td>2.192225e+09</td>\n",
              "      <td>positive</td>\n",
              "      <td>Hahaha! @futureguru100  that was just a work p...</td>\n",
              "      <td>hahaha! that was just a work project... he cou...</td>\n",
              "      <td>1</td>\n",
              "    </tr>\n",
              "    <tr>\n",
              "      <th>114214</th>\n",
              "      <td>2.191751e+09</td>\n",
              "      <td>positive</td>\n",
              "      <td>And the award for 'Longest Ever Interview' goe...</td>\n",
              "      <td>and the award for 'longest ever interview' goe...</td>\n",
              "      <td>1</td>\n",
              "    </tr>\n",
              "    <tr>\n",
              "      <th>114215</th>\n",
              "      <td>1.468895e+09</td>\n",
              "      <td>negative</td>\n",
              "      <td>Thinks!!!!!! i should have rented wheelman</td>\n",
              "      <td>thinks!!!!!! i should have rented wheelman</td>\n",
              "      <td>2</td>\n",
              "    </tr>\n",
              "    <tr>\n",
              "      <th>114216</th>\n",
              "      <td>1.469237e+09</td>\n",
              "      <td>negative</td>\n",
              "      <td>@MaryBethune I hate school right now! You are ...</td>\n",
              "      <td>i hate school right now! you are lucky you do...</td>\n",
              "      <td>2</td>\n",
              "    </tr>\n",
              "    <tr>\n",
              "      <th>114217</th>\n",
              "      <td>2.192630e+09</td>\n",
              "      <td>positive</td>\n",
              "      <td>@tjeffrey never too early - 10am is late in so...</td>\n",
              "      <td>never too early - 10am is late in some cultures</td>\n",
              "      <td>1</td>\n",
              "    </tr>\n",
              "  </tbody>\n",
              "</table>\n",
              "<p>114218 rows × 5 columns</p>\n",
              "</div>"
            ],
            "text/plain": [
              "             Column1  ... Sentiment_Value\n",
              "0       4.343150e+17  ...               2\n",
              "1       4.376050e+17  ...               0\n",
              "2       4.374240e+17  ...               2\n",
              "3       4.368360e+17  ...               2\n",
              "4       4.356710e+17  ...               2\n",
              "...              ...  ...             ...\n",
              "114213  2.192225e+09  ...               1\n",
              "114214  2.191751e+09  ...               1\n",
              "114215  1.468895e+09  ...               2\n",
              "114216  1.469237e+09  ...               2\n",
              "114217  2.192630e+09  ...               1\n",
              "\n",
              "[114218 rows x 5 columns]"
            ]
          },
          "metadata": {
            "tags": []
          },
          "execution_count": 7
        }
      ]
    },
    {
      "cell_type": "markdown",
      "metadata": {
        "id": "4QitYEv47DSL"
      },
      "source": [
        "**Get statistics of our data**"
      ]
    },
    {
      "cell_type": "code",
      "metadata": {
        "colab": {
          "base_uri": "https://localhost:8080/"
        },
        "id": "uwXQabh_7JF5",
        "outputId": "faaf40b3-77c2-4254-fd27-6e7e1323a7f3"
      },
      "source": [
        "mega_frame['test'] = mega_frame['Tweet_Clean_Text'].apply(lambda x: len(str(x).split()))\n",
        "print(\"mean length of sentence: \" + str(mega_frame.test.mean()))\n",
        "print(\"max length of sentence: \" + str(mega_frame.test.max()))\n",
        "print(\"std dev length of sentence: \" + str(mega_frame.test.std()))"
      ],
      "execution_count": null,
      "outputs": [
        {
          "output_type": "stream",
          "text": [
            "mean length of sentence: 15.85478646097813\n",
            "max length of sentence: 39\n",
            "std dev length of sentence: 6.794046007912811\n"
          ],
          "name": "stdout"
        }
      ]
    },
    {
      "cell_type": "markdown",
      "metadata": {
        "id": "ndUMWSzDLn-q"
      },
      "source": [
        "**Vectorize and convert text into sequences**"
      ]
    },
    {
      "cell_type": "code",
      "metadata": {
        "id": "9phzbq3PLRno",
        "colab": {
          "base_uri": "https://localhost:8080/"
        },
        "outputId": "42dc5215-82d1-4b12-b84e-496e74acc6aa"
      },
      "source": [
        "maxlen = mega_frame.test.max()\n",
        "tokenizer = Tokenizer()\n",
        "tokenizer.fit_on_texts(mega_frame['Tweet_Clean_Text'].values)\n",
        "num_features = len(tokenizer.word_index) + 1\n",
        "X = tokenizer.texts_to_sequences(mega_frame['Tweet_Clean_Text'].values)\n",
        "X = pad_sequences(X, maxlen=maxlen, padding='post')\n",
        "\n",
        "print(\"Vocab size: \", num_features)\n",
        "print(\"Input shape: \", X.shape)\n",
        "print(\"Labels shape: \" , labels.shape)"
      ],
      "execution_count": null,
      "outputs": [
        {
          "output_type": "stream",
          "text": [
            "Vocab size:  73456\n",
            "Input shape:  (114218, 39)\n",
            "Labels shape:  (114218, 3)\n"
          ],
          "name": "stdout"
        }
      ]
    },
    {
      "cell_type": "markdown",
      "metadata": {
        "id": "itPpg-CzEv91"
      },
      "source": [
        "**Save the Tokenizer state for later use**"
      ]
    },
    {
      "cell_type": "code",
      "metadata": {
        "id": "DtZA-Se1-4mV"
      },
      "source": [
        "with open('tokenizer.pickle', 'wb') as handle:\n",
        "    pickle.dump(tokenizer, handle, protocol=pickle.HIGHEST_PROTOCOL)"
      ],
      "execution_count": null,
      "outputs": []
    },
    {
      "cell_type": "markdown",
      "metadata": {
        "id": "_WhGA1RpBOx1"
      },
      "source": [
        "**Function to get GloVe embeddings**"
      ]
    },
    {
      "cell_type": "code",
      "metadata": {
        "id": "3fFFVsafNvRl"
      },
      "source": [
        "def get_w2v(path):\n",
        "  file = open(path)\n",
        "  w2v = {}\n",
        "  for embedding_line in file:\n",
        "    embedding_word = embedding_line.split()[0]\n",
        "    embedding_value = np.asarray([float(value) for value in embedding_line.split()[1:]])\n",
        "    w2v[embedding_word] = embedding_value\n",
        "  return w2v"
      ],
      "execution_count": null,
      "outputs": []
    },
    {
      "cell_type": "code",
      "metadata": {
        "id": "HArEwL18Tl_b"
      },
      "source": [
        "glove_file_path = \"drive/My Drive/SentimentAnalysis/GloVe/glove.twitter.27B.200d.txt\"\n",
        "w2v = get_w2v(glove_file_path)"
      ],
      "execution_count": null,
      "outputs": []
    },
    {
      "cell_type": "code",
      "metadata": {
        "id": "icnpqnh5of8p"
      },
      "source": [
        "embedding_dim = 200\n",
        "emb_mat = np.zeros((num_features, embedding_dim))\n",
        "for word, i in tokenizer.word_index.items():\n",
        "  vector = w2v.get(word)\n",
        "  if vector is not None:\n",
        "    emb_mat[i] = vector\n",
        "  else:\n",
        "    emb_mat[i] = np.random.randn(200)"
      ],
      "execution_count": null,
      "outputs": []
    },
    {
      "cell_type": "markdown",
      "metadata": {
        "id": "R87-Es7DmB1P"
      },
      "source": [
        "**Create Training, Validation, and Test Data splits**"
      ]
    },
    {
      "cell_type": "code",
      "metadata": {
        "id": "ALGB5lGcmDYh"
      },
      "source": [
        "#FINAL DATASETS (Please note case sensitivity)- TRAINING: (X_train,Y_train)  VALIDATION: (X_val, Y_val)  TEST: (X_test, Y_test)\n",
        "\n",
        "Y = labels\n",
        "\n",
        "x_train, X_test, y_train, Y_test = train_test_split(X, Y, test_size = 0.10, random_state = 1)\n",
        "\n",
        "X_train, X_val, Y_train, Y_val = train_test_split(x_train, y_train, test_size=0.10, random_state=1)"
      ],
      "execution_count": null,
      "outputs": []
    },
    {
      "cell_type": "markdown",
      "metadata": {
        "id": "fxI8h7f-PI7b"
      },
      "source": [
        "# **5. Build LSTM and CNN models**"
      ]
    },
    {
      "cell_type": "markdown",
      "metadata": {
        "id": "gLijouu-1AKB"
      },
      "source": [
        "## **Model helpers (metrics, callbacks, plots)**"
      ]
    },
    {
      "cell_type": "markdown",
      "metadata": {
        "id": "PiFIMHYI1VR3"
      },
      "source": [
        "### **Metrics**"
      ]
    },
    {
      "cell_type": "code",
      "metadata": {
        "id": "fg4g_GRG1T-n"
      },
      "source": [
        "def recall_score(y_true, y_pred):\n",
        "    true_positives = K.sum(K.round(K.clip(y_true * y_pred, 0, 1)))\n",
        "    possible_positives = K.sum(K.round(K.clip(y_true, 0, 1)))\n",
        "    recall = true_positives / (possible_positives + K.epsilon())\n",
        "    recall_score.__name__ = 'recall'\n",
        "    return recall\n",
        "\n",
        "def precision_score(y_true, y_pred):\n",
        "    true_positives = K.sum(K.round(K.clip(y_true * y_pred, 0, 1)))\n",
        "    predicted_positives = K.sum(K.round(K.clip(y_pred, 0, 1)))\n",
        "    precision = true_positives / (predicted_positives + K.epsilon())\n",
        "    precision_score.__name__ = 'precision'\n",
        "    return precision\n",
        "\n",
        "def f1_metrics(y_true, y_pred):\n",
        "    precision = precision_score(y_true, y_pred)\n",
        "    recall = recall_score(y_true, y_pred)\n",
        "    f1_metrics.__name__ = 'f1_metrics'\n",
        "    return 2*((precision*recall)/(precision+recall+K.epsilon()))\n",
        "\n",
        "metrics = [\n",
        "           keras.metrics.CategoricalAccuracy(),\n",
        "           keras.metrics.Precision(name='precision'),\n",
        "           keras.metrics.Recall(name='recall'),\n",
        "           f1_metrics,\n",
        "]"
      ],
      "execution_count": null,
      "outputs": []
    },
    {
      "cell_type": "markdown",
      "metadata": {
        "id": "okV89ZXw1lPR"
      },
      "source": [
        "### **Training Plots**"
      ]
    },
    {
      "cell_type": "code",
      "metadata": {
        "id": "hyWENXfo1ns5"
      },
      "source": [
        "colors = plt.rcParams['axes.prop_cycle'].by_key()['color']\n",
        "plt.rcParams['figure.figsize'] = 15, 10\n",
        "\n",
        "def plot_metrics(history):\n",
        "  metrics = ['loss', 'categorical_accuracy', 'precision', 'recall', 'f1_metrics']\n",
        "  for n, metric in enumerate(metrics):\n",
        "    name = metric.replace(\"_\",\" \").capitalize()\n",
        "    plt.subplot(2,3,n+1)\n",
        "    plt.plot(history.epoch, history.history[metric], color=colors[0], label='Train')\n",
        "    plt.plot(history.epoch, history.history['val_'+metric],\n",
        "             color=colors[0], linestyle=\"--\", label='Val')\n",
        "    plt.xlabel('Epoch')\n",
        "    plt.ylabel(name)\n",
        "    if metric == 'loss':\n",
        "      plt.ylim([0, plt.ylim()[1]])\n",
        "    else:\n",
        "      plt.ylim([0,1])\n",
        "\n",
        "    plt.legend()"
      ],
      "execution_count": null,
      "outputs": []
    },
    {
      "cell_type": "markdown",
      "metadata": {
        "id": "xuxGEPQNTNJU"
      },
      "source": [
        "**Correlation Matrix**"
      ]
    },
    {
      "cell_type": "code",
      "metadata": {
        "id": "usmjfWmyTPTr"
      },
      "source": [
        "def correlation_matrix(models):\n",
        "  train_predictions = []\n",
        "\n",
        "  for model in models:\n",
        "    train_predictions.append(model.predict([X_train], batch_size=1024))\n",
        "\n",
        "  ndarray = np.array(train_predictions)\n",
        "  positive = ndarray[:,:,0]\n",
        "  neutral = ndarray[:,:,1]\n",
        "  negative = ndarray[:,:,2]\n",
        "\n",
        "  average = (np.corrcoef(positive) + np.corrcoef(neutral) + np.corrcoef(negative))/3\n",
        "\n",
        "  sns.set_theme(style=\"white\")\n",
        "\n",
        "  mask = np.triu(np.ones_like(average, dtype=bool))\n",
        "\n",
        "  f, ax = plt.subplots(figsize=(11,9))\n",
        "\n",
        "  cmap = sns.diverging_palette(220,20, n=9, as_cmap=True)\n",
        "\n",
        "  sns.heatmap(average, mask=mask, cmap=cmap, vmax=1, vmin=.75, center=.9,\n",
        "              square=True, linewidth=.5, cbar_kws={\"shrink\":.5})"
      ],
      "execution_count": null,
      "outputs": []
    },
    {
      "cell_type": "markdown",
      "metadata": {
        "id": "LpAydPBv16PJ"
      },
      "source": [
        "### **Callbacks**"
      ]
    },
    {
      "cell_type": "code",
      "metadata": {
        "id": "D7qJs22b17vb"
      },
      "source": [
        "early_stopping_callback = keras.callbacks.EarlyStopping(monitor='val_loss', patience=3)\n",
        "\n",
        "reduce_lr_callback = keras.callbacks.ReduceLROnPlateau(monitor='val_categorical_accuracy', factor=0.5, patience=1, verbose=1)\n",
        "\n",
        "class CustomSaver(keras.callbacks.Callback):\n",
        "    def on_epoch_end(self, epoch, logs={}):\n",
        "        if epoch > 9:  # or save after some epoch, each k-th epoch etc.\n",
        "            self.model.save(\"model_{}.h5\".format(epoch))\n",
        "\n",
        "saver = CustomSaver()"
      ],
      "execution_count": null,
      "outputs": []
    },
    {
      "cell_type": "markdown",
      "metadata": {
        "id": "zDuSugQ9uTbw"
      },
      "source": [
        "## **LSTM Models**"
      ]
    },
    {
      "cell_type": "markdown",
      "metadata": {
        "id": "QXgKWJglGKrZ"
      },
      "source": [
        "**LSTM Model 1**"
      ]
    },
    {
      "cell_type": "code",
      "metadata": {
        "id": "47uRLliUuSjC"
      },
      "source": [
        "def Build_LSTM_Model1():\n",
        "  output_dims = 200\n",
        "  lstm_out = 200\n",
        "  dropout = 0.4\n",
        "  recurrent_dropout = 0.4\n",
        "  spatial_dropout_rate = 0.4\n",
        " \n",
        "  model1 = keras.Sequential([\n",
        "      layers.Embedding(input_dim=num_features, output_dim=output_dims, input_length=X.shape[1], weights=[emb_mat], trainable=True),\n",
        "      layers.SpatialDropout1D(rate=spatial_dropout_rate),\n",
        "      layers.Bidirectional(layers.LSTM(units=lstm_out, dropout=dropout, recurrent_dropout=recurrent_dropout, return_sequences=False)),\n",
        "      layers.Dense(units=3, activation='softmax')\n",
        "      ])\n",
        "  \n",
        "  model_info = (lstm_out, 'LSTM')\n",
        "  \n",
        "  return model1, model_info"
      ],
      "execution_count": null,
      "outputs": []
    },
    {
      "cell_type": "markdown",
      "metadata": {
        "id": "EOKFiF2fvgyq"
      },
      "source": [
        "**LSTM Model 2**"
      ]
    },
    {
      "cell_type": "code",
      "metadata": {
        "id": "4Ya_mmv1vrPR"
      },
      "source": [
        "def Build_LSTM_Model2():\n",
        "  output_dims = 200\n",
        "  lstm_out = 50\n",
        "  dropout=0.6\n",
        "  recurrent_dropout=0.6\n",
        "  spatial_dropout_rate = 0.6\n",
        " \n",
        "  model2 = keras.Sequential([\n",
        "      layers.Embedding(input_dim=num_features, output_dim=output_dims, input_length=X.shape[1], weights=[emb_mat], trainable=True),\n",
        "      layers.SpatialDropout1D(rate=spatial_dropout_rate),\n",
        "      layers.Bidirectional(layers.LSTM(units=lstm_out, dropout=dropout, recurrent_dropout=recurrent_dropout, return_sequences=False)),\n",
        "      layers.Dense(units=50, activation='relu'),\n",
        "      layers.Dense(units=3, activation='softmax')\n",
        "      ])\n",
        "  \n",
        "  model_info = (lstm_out, 'LSTM')\n",
        " \n",
        "  return model2, model_info"
      ],
      "execution_count": null,
      "outputs": []
    },
    {
      "cell_type": "markdown",
      "metadata": {
        "id": "vPztTzwiwkfx"
      },
      "source": [
        "**LSTM Model 3**"
      ]
    },
    {
      "cell_type": "code",
      "metadata": {
        "id": "3XzsJsnJwmAk"
      },
      "source": [
        "def Build_LSTM_Model3():\n",
        "  output_dims = 200\n",
        "  lstm_out = 100\n",
        "  dropout=0.2\n",
        "  recurrent_dropout=0.2\n",
        " \n",
        "  model3 = keras.Sequential([\n",
        "      layers.Embedding(input_dim=num_features, output_dim=output_dims, input_length=X.shape[1], weights=[emb_mat], trainable=True),\n",
        "      layers.Bidirectional(layers.LSTM(units=lstm_out, dropout=dropout, recurrent_dropout=recurrent_dropout, return_sequences=False)),\n",
        "      layers.Dropout(rate=dropout),\n",
        "      layers.Dense(units=3, activation='softmax')\n",
        "      ])\n",
        "  \n",
        "  model_info = (lstm_out, 'LSTM')\n",
        " \n",
        "  return model3, model_info"
      ],
      "execution_count": null,
      "outputs": []
    },
    {
      "cell_type": "markdown",
      "metadata": {
        "id": "UrBxHUVaxXJF"
      },
      "source": [
        "**LSTM Model 4**"
      ]
    },
    {
      "cell_type": "code",
      "metadata": {
        "id": "vSClozXfxaLh"
      },
      "source": [
        "def Build_LSTM_Model4():\n",
        "  output_dims = 200\n",
        "  lstm_out = 150\n",
        "  dropout=0.3\n",
        "  recurrent_dropout=0.3\n",
        " \n",
        "  model4 = keras.Sequential([\n",
        "      layers.Embedding(input_dim=num_features, output_dim=output_dims, input_length=X.shape[1], weights=[emb_mat], trainable=True),\n",
        "      layers.Bidirectional(layers.LSTM(units=lstm_out, dropout=dropout, recurrent_dropout=recurrent_dropout, return_sequences=False)),\n",
        "      layers.Dense(units=3, activation='softmax')\n",
        "      ])\n",
        "  \n",
        "  model_info = (lstm_out, 'LSTM')\n",
        "  \n",
        "  return model4, model_info"
      ],
      "execution_count": null,
      "outputs": []
    },
    {
      "cell_type": "markdown",
      "metadata": {
        "id": "HjF1UtdXzhNq"
      },
      "source": [
        "**LSTM Model 5**"
      ]
    },
    {
      "cell_type": "code",
      "metadata": {
        "id": "yaTqOCnHztYw"
      },
      "source": [
        "def Build_LSTM_Model5():\n",
        "  output_dims = 200\n",
        "  lstm_out = 250\n",
        "  dropout=0.5\n",
        "  recurrent_dropout=0.5\n",
        " \n",
        "  model5 = keras.Sequential([\n",
        "      layers.Embedding(input_dim=num_features, output_dim=output_dims, input_length=X.shape[1], weights=[emb_mat], trainable=True),\n",
        "      layers.Bidirectional(layers.LSTM(units=lstm_out, dropout=dropout, recurrent_dropout=recurrent_dropout, return_sequences=False)),\n",
        "      layers.Dense(units=3, activation='softmax')\n",
        "      ])\n",
        "  \n",
        "  model_info = (lstm_out, 'LSTM')\n",
        "  \n",
        "  return model5, model_info"
      ],
      "execution_count": null,
      "outputs": []
    },
    {
      "cell_type": "markdown",
      "metadata": {
        "id": "A8pcHU3aFj_v"
      },
      "source": [
        "## **CNN Models**"
      ]
    },
    {
      "cell_type": "markdown",
      "metadata": {
        "id": "gQ51GzFxHdE5"
      },
      "source": [
        "**Flat CNN Model 1**"
      ]
    },
    {
      "cell_type": "code",
      "metadata": {
        "id": "bPLCOG16FtM_"
      },
      "source": [
        "def Build_FlatCNN_Model1():\n",
        "  INPUT_DIMS = (200, maxlen, 1)\n",
        "  REGION_SIZES = [2,3,4]\n",
        "  FILTERS_PER_REGION = 8\n",
        "  output_dims = 200\n",
        "  dropout=0.25\n",
        "\n",
        "  inputs = keras.Input(shape=(maxlen,), dtype='int32')\n",
        "  embedding_layer = layers.Embedding(input_dim=num_features, output_dim=output_dims, weights = [emb_mat], trainable=True)(inputs)\n",
        "  parallel_layers = []\n",
        "  for size in REGION_SIZES:\n",
        "    parallel_layer = keras.layers.Reshape((INPUT_DIMS[0],INPUT_DIMS[1], INPUT_DIMS[2]))(embedding_layer)\n",
        "    parallel_layer = keras.layers.Conv2D(FILTERS_PER_REGION, (INPUT_DIMS[0], size), activation='relu')(parallel_layer)\n",
        "    parallel_layer = keras.layers.MaxPool2D(pool_size=(1,size))(parallel_layer)\n",
        "    parallel_layers.append(parallel_layer)\n",
        "  merged = keras.layers.concatenate(parallel_layers, axis=2)\n",
        "  flatten = keras.layers.Flatten()(merged)\n",
        "  hidden = keras.layers.Dense(FILTERS_PER_REGION * len(REGION_SIZES), activation='relu')(flatten)\n",
        "  hidden = keras.layers.Dropout(rate=dropout)(hidden)\n",
        "  output = keras.layers.Dense(3, activation= 'softmax')(hidden)\n",
        "  model = keras.Model(inputs, output)\n",
        "\n",
        "  model_info = (REGION_SIZES, 'FLATCNN')\n",
        "  return model, model_info\n"
      ],
      "execution_count": null,
      "outputs": []
    },
    {
      "cell_type": "markdown",
      "metadata": {
        "id": "DrdEKJp0QHX0"
      },
      "source": [
        "**FLAT CNN Model 2**"
      ]
    },
    {
      "cell_type": "code",
      "metadata": {
        "id": "B7jlMC8hQJza"
      },
      "source": [
        "def Build_FlatCNN_Model2():\n",
        "  INPUT_DIMS = (200, maxlen, 1)\n",
        "  REGION_SIZES = [3,4,5]\n",
        "  FILTERS_PER_REGION = 8\n",
        "  output_dims = 200\n",
        "  dropout=0.25\n",
        "\n",
        "  inputs = keras.Input(shape=(maxlen,), dtype='int32')\n",
        "  embedding_layer = layers.Embedding(input_dim=num_features, output_dim=output_dims, weights = [emb_mat], trainable=True)(inputs)\n",
        "  parallel_layers = []\n",
        "  for size in REGION_SIZES:\n",
        "    parallel_layer = keras.layers.Reshape((INPUT_DIMS[0],INPUT_DIMS[1], INPUT_DIMS[2]))(embedding_layer)\n",
        "    parallel_layer = keras.layers.Conv2D(FILTERS_PER_REGION, (INPUT_DIMS[0], size), activation='relu')(parallel_layer)\n",
        "    parallel_layer = keras.layers.MaxPool2D(pool_size=(1,size))(parallel_layer)\n",
        "    parallel_layers.append(parallel_layer)\n",
        "  merged = keras.layers.concatenate(parallel_layers, axis=2)\n",
        "  flatten = keras.layers.Flatten()(merged)\n",
        "  hidden = keras.layers.Dense(FILTERS_PER_REGION * len(REGION_SIZES), activation='relu')(flatten)\n",
        "  hidden = keras.layers.Dropout(rate=dropout)(hidden)\n",
        "  output = keras.layers.Dense(3, activation= 'softmax')(hidden)\n",
        "  model = keras.Model(inputs, output)\n",
        "\n",
        "  model_info = (REGION_SIZES, 'FLATCNN')\n",
        "  return model, model_info"
      ],
      "execution_count": null,
      "outputs": []
    },
    {
      "cell_type": "markdown",
      "metadata": {
        "id": "xovwdMkrQSLd"
      },
      "source": [
        "**FLAT CNN Model 3**"
      ]
    },
    {
      "cell_type": "code",
      "metadata": {
        "id": "is9C3zC7QUh8"
      },
      "source": [
        "def Build_FlatCNN_Model3():\n",
        "  INPUT_DIMS = (200, maxlen, 1)\n",
        "  REGION_SIZES = [5,6,7]\n",
        "  FILTERS_PER_REGION = 8\n",
        "  output_dims = 200\n",
        "  dropout=0.25\n",
        "\n",
        "  inputs = keras.Input(shape=(maxlen,), dtype='int32')\n",
        "  embedding_layer = layers.Embedding(input_dim=num_features, output_dim=output_dims, weights = [emb_mat], trainable=True)(inputs)\n",
        "  parallel_layers = []\n",
        "  for size in REGION_SIZES:\n",
        "    parallel_layer = keras.layers.Reshape((INPUT_DIMS[0],INPUT_DIMS[1], INPUT_DIMS[2]))(embedding_layer)\n",
        "    parallel_layer = keras.layers.Conv2D(FILTERS_PER_REGION, (INPUT_DIMS[0], size), activation='relu')(parallel_layer)\n",
        "    parallel_layer = keras.layers.MaxPool2D(pool_size=(1,size))(parallel_layer)\n",
        "    parallel_layers.append(parallel_layer)\n",
        "  merged = keras.layers.concatenate(parallel_layers, axis=2)\n",
        "  flatten = keras.layers.Flatten()(merged)\n",
        "  hidden = keras.layers.Dense(FILTERS_PER_REGION * len(REGION_SIZES), activation='relu')(flatten)\n",
        "  hidden = keras.layers.Dropout(rate=dropout)(hidden)\n",
        "  output = keras.layers.Dense(3, activation= 'softmax')(hidden)\n",
        "  model = keras.Model(inputs, output)\n",
        "\n",
        "  model_info = (REGION_SIZES, 'FLATCNN')\n",
        "  return model, model_info"
      ],
      "execution_count": null,
      "outputs": []
    },
    {
      "cell_type": "markdown",
      "metadata": {
        "id": "vmPUO-goQYQb"
      },
      "source": [
        "**FLAT CNN Model 4**"
      ]
    },
    {
      "cell_type": "code",
      "metadata": {
        "id": "VD9eigSvQanS"
      },
      "source": [
        "def Build_FlatCNN_Model4():\n",
        "  INPUT_DIMS = (200, maxlen, 1)\n",
        "  REGION_SIZES = [7,8,9]\n",
        "  FILTERS_PER_REGION = 8\n",
        "  output_dims = 200\n",
        "  dropout=0.25\n",
        "\n",
        "  inputs = keras.Input(shape=(maxlen,), dtype='int32')\n",
        "  embedding_layer = layers.Embedding(input_dim=num_features, output_dim=output_dims, weights = [emb_mat], trainable=True)(inputs)\n",
        "  parallel_layers = []\n",
        "  for size in REGION_SIZES:\n",
        "    parallel_layer = keras.layers.Reshape((INPUT_DIMS[0],INPUT_DIMS[1], INPUT_DIMS[2]))(embedding_layer)\n",
        "    parallel_layer = keras.layers.Conv2D(FILTERS_PER_REGION, (INPUT_DIMS[0], size), activation='relu')(parallel_layer)\n",
        "    parallel_layer = keras.layers.MaxPool2D(pool_size=(1,size))(parallel_layer)\n",
        "    parallel_layers.append(parallel_layer)\n",
        "  merged = keras.layers.concatenate(parallel_layers, axis=2)\n",
        "  flatten = keras.layers.Flatten()(merged)\n",
        "  hidden = keras.layers.Dense(FILTERS_PER_REGION * len(REGION_SIZES), activation='relu')(flatten)\n",
        "  hidden = keras.layers.Dropout(rate=dropout)(hidden)\n",
        "  output = keras.layers.Dense(3, activation= 'softmax')(hidden)\n",
        "  model = keras.Model(inputs, output)\n",
        "\n",
        "  model_info = (REGION_SIZES, 'FLATCNN')\n",
        "  return model, model_info"
      ],
      "execution_count": null,
      "outputs": []
    },
    {
      "cell_type": "markdown",
      "metadata": {
        "id": "vCgXBv3yQdpk"
      },
      "source": [
        "**FLAT CNN Model 5**"
      ]
    },
    {
      "cell_type": "code",
      "metadata": {
        "id": "bM1WyF-SQfnK"
      },
      "source": [
        "def Build_FlatCNN_Model5():\n",
        "  INPUT_DIMS = (200, maxlen, 1)\n",
        "  REGION_SIZES = [9,10,11]\n",
        "  FILTERS_PER_REGION = 8\n",
        "  output_dims = 200\n",
        "  dropout=0.25\n",
        "\n",
        "  inputs = keras.Input(shape=(maxlen,), dtype='int32')\n",
        "  embedding_layer = layers.Embedding(input_dim=num_features, output_dim=output_dims, weights = [emb_mat], trainable=True)(inputs)\n",
        "  parallel_layers = []\n",
        "  for size in REGION_SIZES:\n",
        "    parallel_layer = keras.layers.Reshape((INPUT_DIMS[0],INPUT_DIMS[1], INPUT_DIMS[2]))(embedding_layer)\n",
        "    parallel_layer = keras.layers.Conv2D(FILTERS_PER_REGION, (INPUT_DIMS[0], size), activation='relu')(parallel_layer)\n",
        "    parallel_layer = keras.layers.MaxPool2D(pool_size=(1,size))(parallel_layer)\n",
        "    parallel_layers.append(parallel_layer)\n",
        "  merged = keras.layers.concatenate(parallel_layers, axis=2)\n",
        "  flatten = keras.layers.Flatten()(merged)\n",
        "  hidden = keras.layers.Dense(FILTERS_PER_REGION * len(REGION_SIZES), activation='relu')(flatten)\n",
        "  hidden = keras.layers.Dropout(rate=dropout)(hidden)\n",
        "  output = keras.layers.Dense(3, activation= 'softmax')(hidden)\n",
        "  model = keras.Model(inputs, output)\n",
        "\n",
        "  model_info = (REGION_SIZES, 'FLATCNN')\n",
        "  return model, model_info"
      ],
      "execution_count": null,
      "outputs": []
    },
    {
      "cell_type": "markdown",
      "metadata": {
        "id": "T9zSsDyA04oS"
      },
      "source": [
        "# **Train Models**"
      ]
    },
    {
      "cell_type": "markdown",
      "metadata": {
        "id": "JJ8v5mV-P20n"
      },
      "source": [
        "**Change directory to save models**"
      ]
    },
    {
      "cell_type": "code",
      "metadata": {
        "id": "Y-ceVtkrP16z"
      },
      "source": [
        "os.chdir(\"/content/drive/MyDrive/SentimentAnalysis/Models\")"
      ],
      "execution_count": null,
      "outputs": []
    },
    {
      "cell_type": "markdown",
      "metadata": {
        "id": "IH4aKwr66fPA"
      },
      "source": [
        "**Model Generator**"
      ]
    },
    {
      "cell_type": "code",
      "metadata": {
        "id": "39TlRQ3i6Obw"
      },
      "source": [
        "def model_gen(model_functions, metrics, callbacks):\n",
        "  models =[]\n",
        "  histories = []\n",
        "\n",
        "  for model_fn in model_functions:\n",
        "    model, model_info = model_fn()\n",
        "\n",
        "    model_checkpoint = keras.callbacks.ModelCheckpoint(\n",
        "        filepath=model_info[1] + str(model_info[0]) + '.h5',\n",
        "        save_weights_only=False,\n",
        "        monitor='val_f1_metrics',\n",
        "        mode='max',\n",
        "        save_best_only=True,\n",
        "        save_freq='epoch'\n",
        "        )\n",
        "    \n",
        "    if len(callbacks)>2:\n",
        "      del callbacks[-1]\n",
        "      \n",
        "    callbacks.append(model_checkpoint)\n",
        "\n",
        "    model.compile(optimizer='adam',\n",
        "                  loss=keras.losses.CategoricalCrossentropy(),\n",
        "                  metrics=metrics\n",
        "                  )\n",
        "\n",
        "    history = model.fit(X_train,\n",
        "                        Y_train,\n",
        "                        batch_size=3000,\n",
        "                        epochs=20,\n",
        "                        validation_data=(X_val,Y_val),\n",
        "                        shuffle=True,\n",
        "                        callbacks=callbacks\n",
        "                        )\n",
        "    \n",
        "    models.append(model)\n",
        "    histories.append(history)\n",
        "\n",
        "  return models, histories"
      ],
      "execution_count": null,
      "outputs": []
    },
    {
      "cell_type": "markdown",
      "metadata": {
        "id": "-LKH7acSC7zi"
      },
      "source": [
        "**Training LSTM**"
      ]
    },
    {
      "cell_type": "code",
      "metadata": {
        "colab": {
          "base_uri": "https://localhost:8080/"
        },
        "id": "-itBySdaC0VI",
        "outputId": "ce594de1-a8c7-4eee-fee1-52313f850223"
      },
      "source": [
        "model_functions = [Build_LSTM_Model1, Build_LSTM_Model2, Build_LSTM_Model3, Build_LSTM_Model4, Build_LSTM_Model5]\n",
        "callbacks = [early_stopping_callback, reduce_lr_callback]\n",
        "lstm_models, lstm_histories = model_gen(model_functions=model_functions,metrics=metrics, callbacks=callbacks)"
      ],
      "execution_count": null,
      "outputs": [
        {
          "output_type": "stream",
          "text": [
            "WARNING:tensorflow:Layer lstm_1 will not use cuDNN kernel since it doesn't meet the cuDNN kernel criteria. It will use generic GPU kernel as fallback when running on GPU\n",
            "WARNING:tensorflow:Layer lstm_1 will not use cuDNN kernel since it doesn't meet the cuDNN kernel criteria. It will use generic GPU kernel as fallback when running on GPU\n",
            "WARNING:tensorflow:Layer lstm_1 will not use cuDNN kernel since it doesn't meet the cuDNN kernel criteria. It will use generic GPU kernel as fallback when running on GPU\n",
            "Epoch 1/20\n",
            "31/31 [==============================] - 43s 1s/step - loss: 0.9898 - categorical_accuracy: 0.5585 - precision: 0.6876 - recall: 0.3305 - f1_metrics: 0.2439 - val_loss: 0.7968 - val_categorical_accuracy: 0.6359 - val_precision: 0.6694 - val_recall: 0.5760 - val_f1_metrics: 0.6193\n",
            "Epoch 2/20\n",
            "31/31 [==============================] - 37s 1s/step - loss: 0.8088 - categorical_accuracy: 0.6242 - precision: 0.6704 - recall: 0.5329 - f1_metrics: 0.5938 - val_loss: 0.7224 - val_categorical_accuracy: 0.6697 - val_precision: 0.7039 - val_recall: 0.6244 - val_f1_metrics: 0.6634\n",
            "Epoch 3/20\n",
            "31/31 [==============================] - 36s 1s/step - loss: 0.7668 - categorical_accuracy: 0.6504 - precision: 0.6953 - recall: 0.5702 - f1_metrics: 0.6266 - val_loss: 0.7047 - val_categorical_accuracy: 0.6772 - val_precision: 0.7079 - val_recall: 0.6398 - val_f1_metrics: 0.6733\n",
            "Epoch 4/20\n",
            "31/31 [==============================] - 36s 1s/step - loss: 0.7330 - categorical_accuracy: 0.6687 - precision: 0.7090 - recall: 0.5995 - f1_metrics: 0.6496 - val_loss: 0.6829 - val_categorical_accuracy: 0.6966 - val_precision: 0.7186 - val_recall: 0.6603 - val_f1_metrics: 0.6897\n",
            "Epoch 5/20\n",
            "31/31 [==============================] - 37s 1s/step - loss: 0.7017 - categorical_accuracy: 0.6854 - precision: 0.7238 - recall: 0.6213 - f1_metrics: 0.6687 - val_loss: 0.6747 - val_categorical_accuracy: 0.6958 - val_precision: 0.7165 - val_recall: 0.6652 - val_f1_metrics: 0.6914\n",
            "\n",
            "Epoch 00005: ReduceLROnPlateau reducing learning rate to 0.0005000000237487257.\n",
            "Epoch 6/20\n",
            "31/31 [==============================] - 36s 1s/step - loss: 0.6823 - categorical_accuracy: 0.6976 - precision: 0.7323 - recall: 0.6393 - f1_metrics: 0.6826 - val_loss: 0.6676 - val_categorical_accuracy: 0.7039 - val_precision: 0.7242 - val_recall: 0.6784 - val_f1_metrics: 0.7023\n",
            "Epoch 7/20\n",
            "31/31 [==============================] - 36s 1s/step - loss: 0.6743 - categorical_accuracy: 0.7008 - precision: 0.7335 - recall: 0.6460 - f1_metrics: 0.6870 - val_loss: 0.6661 - val_categorical_accuracy: 0.7069 - val_precision: 0.7238 - val_recall: 0.6830 - val_f1_metrics: 0.7052\n",
            "Epoch 8/20\n",
            "31/31 [==============================] - 37s 1s/step - loss: 0.6623 - categorical_accuracy: 0.7074 - precision: 0.7414 - recall: 0.6563 - f1_metrics: 0.6963 - val_loss: 0.6577 - val_categorical_accuracy: 0.7114 - val_precision: 0.7284 - val_recall: 0.6871 - val_f1_metrics: 0.7099\n",
            "Epoch 9/20\n",
            "31/31 [==============================] - 36s 1s/step - loss: 0.6520 - categorical_accuracy: 0.7132 - precision: 0.7463 - recall: 0.6662 - f1_metrics: 0.7040 - val_loss: 0.6523 - val_categorical_accuracy: 0.7099 - val_precision: 0.7288 - val_recall: 0.6864 - val_f1_metrics: 0.7087\n",
            "\n",
            "Epoch 00009: ReduceLROnPlateau reducing learning rate to 0.0002500000118743628.\n",
            "Epoch 10/20\n",
            "31/31 [==============================] - 36s 1s/step - loss: 0.6407 - categorical_accuracy: 0.7181 - precision: 0.7483 - recall: 0.6727 - f1_metrics: 0.7085 - val_loss: 0.6545 - val_categorical_accuracy: 0.7152 - val_precision: 0.7316 - val_recall: 0.6956 - val_f1_metrics: 0.7157\n",
            "Epoch 11/20\n",
            "31/31 [==============================] - 36s 1s/step - loss: 0.6378 - categorical_accuracy: 0.7211 - precision: 0.7502 - recall: 0.6750 - f1_metrics: 0.7106 - val_loss: 0.6558 - val_categorical_accuracy: 0.7181 - val_precision: 0.7319 - val_recall: 0.6941 - val_f1_metrics: 0.7140\n",
            "Epoch 12/20\n",
            "31/31 [==============================] - 36s 1s/step - loss: 0.6354 - categorical_accuracy: 0.7206 - precision: 0.7493 - recall: 0.6769 - f1_metrics: 0.7112 - val_loss: 0.6522 - val_categorical_accuracy: 0.7181 - val_precision: 0.7314 - val_recall: 0.6926 - val_f1_metrics: 0.7134\n",
            "\n",
            "Epoch 00012: ReduceLROnPlateau reducing learning rate to 0.0001250000059371814.\n",
            "Epoch 13/20\n",
            "31/31 [==============================] - 36s 1s/step - loss: 0.6283 - categorical_accuracy: 0.7241 - precision: 0.7542 - recall: 0.6794 - f1_metrics: 0.7148 - val_loss: 0.6468 - val_categorical_accuracy: 0.7195 - val_precision: 0.7362 - val_recall: 0.6974 - val_f1_metrics: 0.7186\n",
            "Epoch 14/20\n",
            "31/31 [==============================] - 36s 1s/step - loss: 0.6239 - categorical_accuracy: 0.7274 - precision: 0.7559 - recall: 0.6850 - f1_metrics: 0.7187 - val_loss: 0.6480 - val_categorical_accuracy: 0.7181 - val_precision: 0.7341 - val_recall: 0.6967 - val_f1_metrics: 0.7170\n",
            "\n",
            "Epoch 00014: ReduceLROnPlateau reducing learning rate to 6.25000029685907e-05.\n",
            "Epoch 15/20\n",
            "31/31 [==============================] - 36s 1s/step - loss: 0.6213 - categorical_accuracy: 0.7273 - precision: 0.7570 - recall: 0.6852 - f1_metrics: 0.7193 - val_loss: 0.6466 - val_categorical_accuracy: 0.7207 - val_precision: 0.7358 - val_recall: 0.7000 - val_f1_metrics: 0.7203\n",
            "Epoch 16/20\n",
            "31/31 [==============================] - 36s 1s/step - loss: 0.6273 - categorical_accuracy: 0.7232 - precision: 0.7534 - recall: 0.6796 - f1_metrics: 0.7146 - val_loss: 0.6468 - val_categorical_accuracy: 0.7199 - val_precision: 0.7350 - val_recall: 0.6981 - val_f1_metrics: 0.7183\n",
            "\n",
            "Epoch 00016: ReduceLROnPlateau reducing learning rate to 3.125000148429535e-05.\n",
            "Epoch 17/20\n",
            "31/31 [==============================] - 36s 1s/step - loss: 0.6214 - categorical_accuracy: 0.7295 - precision: 0.7591 - recall: 0.6875 - f1_metrics: 0.7215 - val_loss: 0.6473 - val_categorical_accuracy: 0.7212 - val_precision: 0.7365 - val_recall: 0.7008 - val_f1_metrics: 0.7206\n",
            "Epoch 18/20\n",
            "31/31 [==============================] - 36s 1s/step - loss: 0.6188 - categorical_accuracy: 0.7283 - precision: 0.7580 - recall: 0.6856 - f1_metrics: 0.7200 - val_loss: 0.6469 - val_categorical_accuracy: 0.7213 - val_precision: 0.7374 - val_recall: 0.7006 - val_f1_metrics: 0.7211\n",
            "\n",
            "Epoch 00018: ReduceLROnPlateau reducing learning rate to 1.5625000742147677e-05.\n",
            "WARNING:tensorflow:Layer lstm_2 will not use cuDNN kernel since it doesn't meet the cuDNN kernel criteria. It will use generic GPU kernel as fallback when running on GPU\n",
            "WARNING:tensorflow:Layer lstm_2 will not use cuDNN kernel since it doesn't meet the cuDNN kernel criteria. It will use generic GPU kernel as fallback when running on GPU\n",
            "WARNING:tensorflow:Layer lstm_2 will not use cuDNN kernel since it doesn't meet the cuDNN kernel criteria. It will use generic GPU kernel as fallback when running on GPU\n",
            "Epoch 1/20\n",
            "31/31 [==============================] - 31s 799ms/step - loss: 1.0684 - categorical_accuracy: 0.4873 - precision: 0.7057 - recall: 0.1805 - f1_metrics: 0.0304 - val_loss: 0.9702 - val_categorical_accuracy: 0.5482 - val_precision: 0.7169 - val_recall: 0.1305 - val_f1_metrics: 0.2187\n",
            "Epoch 2/20\n",
            "31/31 [==============================] - 24s 762ms/step - loss: 0.9819 - categorical_accuracy: 0.4990 - precision: 0.5861 - recall: 0.2319 - f1_metrics: 0.3283 - val_loss: 0.8469 - val_categorical_accuracy: 0.6132 - val_precision: 0.6420 - val_recall: 0.5568 - val_f1_metrics: 0.5954\n",
            "Epoch 3/20\n",
            "31/31 [==============================] - 23s 755ms/step - loss: 0.9161 - categorical_accuracy: 0.5536 - precision: 0.6149 - recall: 0.3999 - f1_metrics: 0.4844 - val_loss: 0.8539 - val_categorical_accuracy: 0.6098 - val_precision: 0.6275 - val_recall: 0.5827 - val_f1_metrics: 0.6046\n",
            "\n",
            "Epoch 00003: ReduceLROnPlateau reducing learning rate to 0.0005000000237487257.\n",
            "Epoch 4/20\n",
            "31/31 [==============================] - 24s 755ms/step - loss: 0.8706 - categorical_accuracy: 0.5870 - precision: 0.6404 - recall: 0.4634 - f1_metrics: 0.5377 - val_loss: 0.8211 - val_categorical_accuracy: 0.6314 - val_precision: 0.6500 - val_recall: 0.6049 - val_f1_metrics: 0.6268\n",
            "Epoch 5/20\n",
            "31/31 [==============================] - 24s 763ms/step - loss: 0.8502 - categorical_accuracy: 0.6009 - precision: 0.6532 - recall: 0.4896 - f1_metrics: 0.5596 - val_loss: 0.8171 - val_categorical_accuracy: 0.6375 - val_precision: 0.6552 - val_recall: 0.6147 - val_f1_metrics: 0.6351\n",
            "Epoch 6/20\n",
            "31/31 [==============================] - 24s 762ms/step - loss: 0.8398 - categorical_accuracy: 0.6070 - precision: 0.6591 - recall: 0.5015 - f1_metrics: 0.5696 - val_loss: 0.7966 - val_categorical_accuracy: 0.6428 - val_precision: 0.6620 - val_recall: 0.6206 - val_f1_metrics: 0.6415\n",
            "Epoch 7/20\n",
            "31/31 [==============================] - 24s 766ms/step - loss: 0.8253 - categorical_accuracy: 0.6161 - precision: 0.6682 - recall: 0.5172 - f1_metrics: 0.5831 - val_loss: 0.8078 - val_categorical_accuracy: 0.6422 - val_precision: 0.6577 - val_recall: 0.6186 - val_f1_metrics: 0.6379\n",
            "\n",
            "Epoch 00007: ReduceLROnPlateau reducing learning rate to 0.0002500000118743628.\n",
            "Epoch 8/20\n",
            "31/31 [==============================] - 23s 746ms/step - loss: 0.8195 - categorical_accuracy: 0.6212 - precision: 0.6687 - recall: 0.5227 - f1_metrics: 0.5868 - val_loss: 0.7967 - val_categorical_accuracy: 0.6476 - val_precision: 0.6628 - val_recall: 0.6247 - val_f1_metrics: 0.6435\n",
            "Epoch 9/20\n",
            "31/31 [==============================] - 24s 763ms/step - loss: 0.8132 - categorical_accuracy: 0.6245 - precision: 0.6724 - recall: 0.5314 - f1_metrics: 0.5936 - val_loss: 0.7854 - val_categorical_accuracy: 0.6519 - val_precision: 0.6691 - val_recall: 0.6293 - val_f1_metrics: 0.6494\n",
            "Epoch 10/20\n",
            "31/31 [==============================] - 24s 758ms/step - loss: 0.8035 - categorical_accuracy: 0.6277 - precision: 0.6765 - recall: 0.5342 - f1_metrics: 0.5970 - val_loss: 0.7857 - val_categorical_accuracy: 0.6513 - val_precision: 0.6674 - val_recall: 0.6267 - val_f1_metrics: 0.6468\n",
            "\n",
            "Epoch 00010: ReduceLROnPlateau reducing learning rate to 0.0001250000059371814.\n",
            "Epoch 11/20\n",
            "31/31 [==============================] - 23s 745ms/step - loss: 0.8018 - categorical_accuracy: 0.6302 - precision: 0.6816 - recall: 0.5379 - f1_metrics: 0.6013 - val_loss: 0.7828 - val_categorical_accuracy: 0.6539 - val_precision: 0.6704 - val_recall: 0.6299 - val_f1_metrics: 0.6501\n",
            "Epoch 12/20\n",
            "31/31 [==============================] - 23s 757ms/step - loss: 0.8004 - categorical_accuracy: 0.6298 - precision: 0.6774 - recall: 0.5417 - f1_metrics: 0.6020 - val_loss: 0.7740 - val_categorical_accuracy: 0.6583 - val_precision: 0.6768 - val_recall: 0.6339 - val_f1_metrics: 0.6559\n",
            "Epoch 13/20\n",
            "31/31 [==============================] - 23s 757ms/step - loss: 0.7939 - categorical_accuracy: 0.6336 - precision: 0.6819 - recall: 0.5445 - f1_metrics: 0.6055 - val_loss: 0.7811 - val_categorical_accuracy: 0.6554 - val_precision: 0.6726 - val_recall: 0.6323 - val_f1_metrics: 0.6528\n",
            "\n",
            "Epoch 00013: ReduceLROnPlateau reducing learning rate to 6.25000029685907e-05.\n",
            "Epoch 14/20\n",
            "31/31 [==============================] - 23s 737ms/step - loss: 0.7974 - categorical_accuracy: 0.6328 - precision: 0.6823 - recall: 0.5442 - f1_metrics: 0.6055 - val_loss: 0.7767 - val_categorical_accuracy: 0.6579 - val_precision: 0.6750 - val_recall: 0.6334 - val_f1_metrics: 0.6546\n",
            "\n",
            "Epoch 00014: ReduceLROnPlateau reducing learning rate to 3.125000148429535e-05.\n",
            "Epoch 15/20\n",
            "31/31 [==============================] - 23s 734ms/step - loss: 0.7958 - categorical_accuracy: 0.6328 - precision: 0.6801 - recall: 0.5447 - f1_metrics: 0.6049 - val_loss: 0.7783 - val_categorical_accuracy: 0.6571 - val_precision: 0.6750 - val_recall: 0.6340 - val_f1_metrics: 0.6547\n",
            "\n",
            "Epoch 00015: ReduceLROnPlateau reducing learning rate to 1.5625000742147677e-05.\n",
            "WARNING:tensorflow:Layer lstm_3 will not use cuDNN kernel since it doesn't meet the cuDNN kernel criteria. It will use generic GPU kernel as fallback when running on GPU\n",
            "WARNING:tensorflow:Layer lstm_3 will not use cuDNN kernel since it doesn't meet the cuDNN kernel criteria. It will use generic GPU kernel as fallback when running on GPU\n",
            "WARNING:tensorflow:Layer lstm_3 will not use cuDNN kernel since it doesn't meet the cuDNN kernel criteria. It will use generic GPU kernel as fallback when running on GPU\n",
            "Epoch 1/20\n",
            "31/31 [==============================] - 33s 886ms/step - loss: 0.9862 - categorical_accuracy: 0.5407 - precision: 0.6542 - recall: 0.3058 - f1_metrics: 0.2419 - val_loss: 0.7648 - val_categorical_accuracy: 0.6526 - val_precision: 0.6952 - val_recall: 0.5759 - val_f1_metrics: 0.6305\n",
            "Epoch 2/20\n",
            "31/31 [==============================] - 27s 858ms/step - loss: 0.7484 - categorical_accuracy: 0.6621 - precision: 0.7056 - recall: 0.5833 - f1_metrics: 0.6385 - val_loss: 0.6973 - val_categorical_accuracy: 0.6862 - val_precision: 0.7179 - val_recall: 0.6381 - val_f1_metrics: 0.6770\n",
            "Epoch 3/20\n",
            "31/31 [==============================] - 27s 868ms/step - loss: 0.6783 - categorical_accuracy: 0.7006 - precision: 0.7320 - recall: 0.6473 - f1_metrics: 0.6870 - val_loss: 0.6662 - val_categorical_accuracy: 0.7051 - val_precision: 0.7325 - val_recall: 0.6666 - val_f1_metrics: 0.6998\n",
            "Epoch 4/20\n",
            "31/31 [==============================] - 27s 859ms/step - loss: 0.6336 - categorical_accuracy: 0.7246 - precision: 0.7537 - recall: 0.6818 - f1_metrics: 0.7159 - val_loss: 0.6569 - val_categorical_accuracy: 0.7110 - val_precision: 0.7340 - val_recall: 0.6804 - val_f1_metrics: 0.7089\n",
            "Epoch 5/20\n",
            "31/31 [==============================] - 27s 872ms/step - loss: 0.6012 - categorical_accuracy: 0.7409 - precision: 0.7668 - recall: 0.7041 - f1_metrics: 0.7341 - val_loss: 0.6513 - val_categorical_accuracy: 0.7135 - val_precision: 0.7337 - val_recall: 0.6856 - val_f1_metrics: 0.7101\n",
            "Epoch 6/20\n",
            "31/31 [==============================] - 27s 877ms/step - loss: 0.5658 - categorical_accuracy: 0.7579 - precision: 0.7797 - recall: 0.7275 - f1_metrics: 0.7527 - val_loss: 0.6508 - val_categorical_accuracy: 0.7170 - val_precision: 0.7338 - val_recall: 0.6906 - val_f1_metrics: 0.7133\n",
            "Epoch 7/20\n",
            "31/31 [==============================] - 27s 875ms/step - loss: 0.5327 - categorical_accuracy: 0.7768 - precision: 0.7960 - recall: 0.7492 - f1_metrics: 0.7719 - val_loss: 0.6540 - val_categorical_accuracy: 0.7216 - val_precision: 0.7349 - val_recall: 0.6980 - val_f1_metrics: 0.7172\n",
            "Epoch 8/20\n",
            "31/31 [==============================] - 27s 870ms/step - loss: 0.5084 - categorical_accuracy: 0.7895 - precision: 0.8075 - recall: 0.7671 - f1_metrics: 0.7868 - val_loss: 0.6685 - val_categorical_accuracy: 0.7203 - val_precision: 0.7330 - val_recall: 0.6993 - val_f1_metrics: 0.7179\n",
            "\n",
            "Epoch 00008: ReduceLROnPlateau reducing learning rate to 0.0005000000237487257.\n",
            "Epoch 9/20\n",
            "31/31 [==============================] - 27s 868ms/step - loss: 0.4682 - categorical_accuracy: 0.8085 - precision: 0.8244 - recall: 0.7878 - f1_metrics: 0.8057 - val_loss: 0.6839 - val_categorical_accuracy: 0.7179 - val_precision: 0.7300 - val_recall: 0.7002 - val_f1_metrics: 0.7171\n",
            "\n",
            "Epoch 00009: ReduceLROnPlateau reducing learning rate to 0.0002500000118743628.\n",
            "WARNING:tensorflow:Layer lstm_4 will not use cuDNN kernel since it doesn't meet the cuDNN kernel criteria. It will use generic GPU kernel as fallback when running on GPU\n",
            "WARNING:tensorflow:Layer lstm_4 will not use cuDNN kernel since it doesn't meet the cuDNN kernel criteria. It will use generic GPU kernel as fallback when running on GPU\n",
            "WARNING:tensorflow:Layer lstm_4 will not use cuDNN kernel since it doesn't meet the cuDNN kernel criteria. It will use generic GPU kernel as fallback when running on GPU\n",
            "Epoch 1/20\n",
            "31/31 [==============================] - 38s 1s/step - loss: 0.9569 - categorical_accuracy: 0.5819 - precision: 0.6983 - recall: 0.3557 - f1_metrics: 0.2740 - val_loss: 0.7604 - val_categorical_accuracy: 0.6518 - val_precision: 0.6830 - val_recall: 0.6052 - val_f1_metrics: 0.6430\n",
            "Epoch 2/20\n",
            "31/31 [==============================] - 31s 1s/step - loss: 0.7466 - categorical_accuracy: 0.6600 - precision: 0.6984 - recall: 0.5921 - f1_metrics: 0.6408 - val_loss: 0.7003 - val_categorical_accuracy: 0.6853 - val_precision: 0.7142 - val_recall: 0.6505 - val_f1_metrics: 0.6818\n",
            "Epoch 3/20\n",
            "31/31 [==============================] - 31s 1s/step - loss: 0.6762 - categorical_accuracy: 0.6986 - precision: 0.7321 - recall: 0.6447 - f1_metrics: 0.6856 - val_loss: 0.6719 - val_categorical_accuracy: 0.7030 - val_precision: 0.7271 - val_recall: 0.6656 - val_f1_metrics: 0.6980\n",
            "Epoch 4/20\n",
            "31/31 [==============================] - 31s 1s/step - loss: 0.6372 - categorical_accuracy: 0.7218 - precision: 0.7510 - recall: 0.6752 - f1_metrics: 0.7111 - val_loss: 0.6521 - val_categorical_accuracy: 0.7112 - val_precision: 0.7370 - val_recall: 0.6772 - val_f1_metrics: 0.7086\n",
            "Epoch 5/20\n",
            "31/31 [==============================] - 31s 1s/step - loss: 0.6069 - categorical_accuracy: 0.7366 - precision: 0.7647 - recall: 0.6986 - f1_metrics: 0.7301 - val_loss: 0.6493 - val_categorical_accuracy: 0.7170 - val_precision: 0.7351 - val_recall: 0.6895 - val_f1_metrics: 0.7142\n",
            "Epoch 6/20\n",
            "31/31 [==============================] - 31s 1s/step - loss: 0.5700 - categorical_accuracy: 0.7559 - precision: 0.7798 - recall: 0.7224 - f1_metrics: 0.7500 - val_loss: 0.6525 - val_categorical_accuracy: 0.7177 - val_precision: 0.7361 - val_recall: 0.6926 - val_f1_metrics: 0.7160\n",
            "Epoch 7/20\n",
            "31/31 [==============================] - 31s 1s/step - loss: 0.5424 - categorical_accuracy: 0.7697 - precision: 0.7910 - recall: 0.7392 - f1_metrics: 0.7643 - val_loss: 0.6489 - val_categorical_accuracy: 0.7207 - val_precision: 0.7362 - val_recall: 0.6964 - val_f1_metrics: 0.7195\n",
            "Epoch 8/20\n",
            "31/31 [==============================] - 31s 1s/step - loss: 0.5173 - categorical_accuracy: 0.7819 - precision: 0.8018 - recall: 0.7559 - f1_metrics: 0.7781 - val_loss: 0.6582 - val_categorical_accuracy: 0.7195 - val_precision: 0.7336 - val_recall: 0.6963 - val_f1_metrics: 0.7170\n",
            "\n",
            "Epoch 00008: ReduceLROnPlateau reducing learning rate to 0.0005000000237487257.\n",
            "Epoch 9/20\n",
            "31/31 [==============================] - 31s 993ms/step - loss: 0.4898 - categorical_accuracy: 0.7951 - precision: 0.8130 - recall: 0.7726 - f1_metrics: 0.7922 - val_loss: 0.6695 - val_categorical_accuracy: 0.7220 - val_precision: 0.7345 - val_recall: 0.7036 - val_f1_metrics: 0.7211\n",
            "Epoch 10/20\n",
            "31/31 [==============================] - 31s 1s/step - loss: 0.4740 - categorical_accuracy: 0.8033 - precision: 0.8199 - recall: 0.7826 - f1_metrics: 0.8008 - val_loss: 0.6821 - val_categorical_accuracy: 0.7232 - val_precision: 0.7333 - val_recall: 0.7069 - val_f1_metrics: 0.7218\n",
            "WARNING:tensorflow:Layer lstm_5 will not use cuDNN kernel since it doesn't meet the cuDNN kernel criteria. It will use generic GPU kernel as fallback when running on GPU\n",
            "WARNING:tensorflow:Layer lstm_5 will not use cuDNN kernel since it doesn't meet the cuDNN kernel criteria. It will use generic GPU kernel as fallback when running on GPU\n",
            "WARNING:tensorflow:Layer lstm_5 will not use cuDNN kernel since it doesn't meet the cuDNN kernel criteria. It will use generic GPU kernel as fallback when running on GPU\n",
            "Epoch 1/20\n",
            "31/31 [==============================] - 45s 1s/step - loss: 0.9934 - categorical_accuracy: 0.5563 - precision: 0.6936 - recall: 0.3357 - f1_metrics: 0.2592 - val_loss: 0.7858 - val_categorical_accuracy: 0.6368 - val_precision: 0.6653 - val_recall: 0.5918 - val_f1_metrics: 0.6289\n",
            "Epoch 2/20\n",
            "31/31 [==============================] - 39s 1s/step - loss: 0.7837 - categorical_accuracy: 0.6386 - precision: 0.6841 - recall: 0.5580 - f1_metrics: 0.6145 - val_loss: 0.7260 - val_categorical_accuracy: 0.6794 - val_precision: 0.7008 - val_recall: 0.6409 - val_f1_metrics: 0.6721\n",
            "Epoch 3/20\n",
            "31/31 [==============================] - 39s 1s/step - loss: 0.7198 - categorical_accuracy: 0.6744 - precision: 0.7115 - recall: 0.6118 - f1_metrics: 0.6579 - val_loss: 0.6903 - val_categorical_accuracy: 0.6896 - val_precision: 0.7199 - val_recall: 0.6477 - val_f1_metrics: 0.6822\n",
            "Epoch 4/20\n",
            "31/31 [==============================] - 39s 1s/step - loss: 0.6844 - categorical_accuracy: 0.6954 - precision: 0.7318 - recall: 0.6392 - f1_metrics: 0.6824 - val_loss: 0.6724 - val_categorical_accuracy: 0.7018 - val_precision: 0.7260 - val_recall: 0.6723 - val_f1_metrics: 0.6990\n",
            "Epoch 5/20\n",
            "31/31 [==============================] - 39s 1s/step - loss: 0.6493 - categorical_accuracy: 0.7146 - precision: 0.7466 - recall: 0.6680 - f1_metrics: 0.7051 - val_loss: 0.6543 - val_categorical_accuracy: 0.7115 - val_precision: 0.7319 - val_recall: 0.6790 - val_f1_metrics: 0.7076\n",
            "Epoch 6/20\n",
            "31/31 [==============================] - 39s 1s/step - loss: 0.6178 - categorical_accuracy: 0.7298 - precision: 0.7582 - recall: 0.6875 - f1_metrics: 0.7212 - val_loss: 0.6523 - val_categorical_accuracy: 0.7146 - val_precision: 0.7329 - val_recall: 0.6884 - val_f1_metrics: 0.7128\n",
            "Epoch 7/20\n",
            "31/31 [==============================] - 39s 1s/step - loss: 0.5903 - categorical_accuracy: 0.7435 - precision: 0.7700 - recall: 0.7072 - f1_metrics: 0.7373 - val_loss: 0.6592 - val_categorical_accuracy: 0.7159 - val_precision: 0.7319 - val_recall: 0.6909 - val_f1_metrics: 0.7133\n",
            "Epoch 8/20\n",
            "31/31 [==============================] - 39s 1s/step - loss: 0.5698 - categorical_accuracy: 0.7561 - precision: 0.7795 - recall: 0.7227 - f1_metrics: 0.7500 - val_loss: 0.6516 - val_categorical_accuracy: 0.7181 - val_precision: 0.7364 - val_recall: 0.6900 - val_f1_metrics: 0.7154\n",
            "Epoch 9/20\n",
            "31/31 [==============================] - 39s 1s/step - loss: 0.5567 - categorical_accuracy: 0.7642 - precision: 0.7879 - recall: 0.7326 - f1_metrics: 0.7592 - val_loss: 0.6523 - val_categorical_accuracy: 0.7239 - val_precision: 0.7371 - val_recall: 0.7003 - val_f1_metrics: 0.7216\n",
            "Epoch 10/20\n",
            "31/31 [==============================] - 39s 1s/step - loss: 0.5284 - categorical_accuracy: 0.7765 - precision: 0.7960 - recall: 0.7493 - f1_metrics: 0.7719 - val_loss: 0.6568 - val_categorical_accuracy: 0.7257 - val_precision: 0.7397 - val_recall: 0.7087 - val_f1_metrics: 0.7258\n",
            "Epoch 11/20\n",
            "31/31 [==============================] - 39s 1s/step - loss: 0.4996 - categorical_accuracy: 0.7901 - precision: 0.8095 - recall: 0.7662 - f1_metrics: 0.7873 - val_loss: 0.6558 - val_categorical_accuracy: 0.7224 - val_precision: 0.7351 - val_recall: 0.7032 - val_f1_metrics: 0.7212\n",
            "\n",
            "Epoch 00011: ReduceLROnPlateau reducing learning rate to 0.0005000000237487257.\n"
          ],
          "name": "stdout"
        }
      ]
    },
    {
      "cell_type": "code",
      "metadata": {
        "colab": {
          "base_uri": "https://localhost:8080/"
        },
        "id": "pFvT05qcI300",
        "outputId": "11562dc2-1565-4752-d840-d895ee9ad710"
      },
      "source": [
        "best_indiv = 0.0\n",
        "for history in lstm_histories:\n",
        "  best_indiv = max(best_indiv, max(history.history['val_f1_metrics']))\n",
        "print(\"Best individual F1 = {}\".format(best_indiv))"
      ],
      "execution_count": null,
      "outputs": [
        {
          "output_type": "stream",
          "text": [
            "Best individual F1 = 0.7258492708206177\n"
          ],
          "name": "stdout"
        }
      ]
    },
    {
      "cell_type": "code",
      "metadata": {
        "colab": {
          "base_uri": "https://localhost:8080/"
        },
        "id": "Kzftf2qjT_U7",
        "outputId": "31c2eb26-fdd3-45e3-c390-b8c9aef32987"
      },
      "source": [
        "for i, lstm_model in enumerate(lstm_models):\n",
        "  print(\"\\nLSTM_Model_{0}\".format(i+1))\n",
        "  lstm_model.evaluate(X_test, Y_test, batch_size=1000)"
      ],
      "execution_count": null,
      "outputs": [
        {
          "output_type": "stream",
          "text": [
            "\n",
            "LSTM_Model_1\n",
            "12/12 [==============================] - 1s 108ms/step - loss: 0.6577 - categorical_accuracy: 0.7148 - precision: 0.7318 - recall: 0.6895 - f1_metrics: 0.7108\n",
            "\n",
            "LSTM_Model_2\n",
            "12/12 [==============================] - 1s 56ms/step - loss: 0.7881 - categorical_accuracy: 0.6597 - precision: 0.6752 - recall: 0.6340 - f1_metrics: 0.6542\n",
            "\n",
            "LSTM_Model_3\n",
            "12/12 [==============================] - 1s 69ms/step - loss: 0.6918 - categorical_accuracy: 0.7127 - precision: 0.7255 - recall: 0.6951 - f1_metrics: 0.7098\n",
            "\n",
            "LSTM_Model_4\n",
            "12/12 [==============================] - 1s 83ms/step - loss: 0.6890 - categorical_accuracy: 0.7151 - precision: 0.7268 - recall: 0.6984 - f1_metrics: 0.7126\n",
            "\n",
            "LSTM_Model_5\n",
            "12/12 [==============================] - 1s 111ms/step - loss: 0.6625 - categorical_accuracy: 0.7189 - precision: 0.7305 - recall: 0.6988 - f1_metrics: 0.7139\n"
          ],
          "name": "stdout"
        }
      ]
    },
    {
      "cell_type": "markdown",
      "metadata": {
        "id": "mZrOyvMMhO6P"
      },
      "source": [
        "**LSTM Models Training Plots**"
      ]
    },
    {
      "cell_type": "code",
      "metadata": {
        "colab": {
          "base_uri": "https://localhost:8080/",
          "height": 610
        },
        "id": "J-4IP22ghVI8",
        "outputId": "6a723f95-23b8-4f37-fe78-c70fe799ba36"
      },
      "source": [
        "plot_metrics(lstm_histories[0])"
      ],
      "execution_count": null,
      "outputs": [
        {
          "output_type": "display_data",
          "data": {
            "image/png": "[encoded data removed]",
            "text/plain": [
              "<Figure size 1080x720 with 5 Axes>"
            ]
          },
          "metadata": {
            "tags": [],
            "needs_background": "light"
          }
        }
      ]
    },
    {
      "cell_type": "markdown",
      "metadata": {
        "id": "8iV1eDcBTdOP"
      },
      "source": [
        "**Correlation Matrix for LSTM**"
      ]
    },
    {
      "cell_type": "code",
      "metadata": {
        "colab": {
          "base_uri": "https://localhost:8080/",
          "height": 540
        },
        "id": "v6LEBjnbTgL5",
        "outputId": "04e38a50-d9b7-4773-876b-e52c47cf6a59"
      },
      "source": [
        "correlation_matrix(lstm_models)"
      ],
      "execution_count": null,
      "outputs": [
        {
          "output_type": "display_data",
          "data": {
            "image/png": "[encoded data removed]",
            "text/plain": [
              "<Figure size 792x648 with 2 Axes>"
            ]
          },
          "metadata": {
            "tags": []
          }
        }
      ]
    },
    {
      "cell_type": "markdown",
      "metadata": {
        "id": "Ku6H9XLQLM_Y"
      },
      "source": [
        "**Training CNN**"
      ]
    },
    {
      "cell_type": "code",
      "metadata": {
        "colab": {
          "base_uri": "https://localhost:8080/"
        },
        "id": "t0r203UILPjK",
        "outputId": "c1d7f903-1943-4139-db3d-3b3f7ca8fafb"
      },
      "source": [
        "model_functions = [Build_FlatCNN_Model1, Build_FlatCNN_Model2, Build_FlatCNN_Model3, Build_FlatCNN_Model4, Build_FlatCNN_Model5]\n",
        "callbacks = [early_stopping_callback, reduce_lr_callback]\n",
        "flat_cnn_models, flat_cnn_histories = model_gen(model_functions=model_functions,metrics=metrics, callbacks=callbacks)"
      ],
      "execution_count": null,
      "outputs": [
        {
          "output_type": "stream",
          "text": [
            "Epoch 1/20\n",
            "31/31 [==============================] - 37s 300ms/step - loss: 1.0638 - categorical_accuracy: 0.4958 - precision: 0.7130 - recall: 0.1861 - f1_metrics: 0.0192 - val_loss: 0.9827 - val_categorical_accuracy: 0.5232 - val_precision: 0.7024 - val_recall: 0.0873 - val_f1_metrics: 0.1528\n",
            "Epoch 2/20\n",
            "31/31 [==============================] - 8s 264ms/step - loss: 0.9557 - categorical_accuracy: 0.5235 - precision: 0.6384 - recall: 0.2153 - f1_metrics: 0.3173 - val_loss: 0.8812 - val_categorical_accuracy: 0.5926 - val_precision: 0.6869 - val_recall: 0.3847 - val_f1_metrics: 0.4920\n",
            "Epoch 3/20\n",
            "31/31 [==============================] - 8s 273ms/step - loss: 0.8501 - categorical_accuracy: 0.6017 - precision: 0.6754 - recall: 0.4381 - f1_metrics: 0.5308 - val_loss: 0.8118 - val_categorical_accuracy: 0.6292 - val_precision: 0.6856 - val_recall: 0.5098 - val_f1_metrics: 0.5852\n",
            "Epoch 4/20\n",
            "31/31 [==============================] - 8s 264ms/step - loss: 0.7736 - categorical_accuracy: 0.6520 - precision: 0.7067 - recall: 0.5387 - f1_metrics: 0.6113 - val_loss: 0.7784 - val_categorical_accuracy: 0.6410 - val_precision: 0.6881 - val_recall: 0.5529 - val_f1_metrics: 0.6125\n",
            "Epoch 5/20\n",
            "31/31 [==============================] - 8s 272ms/step - loss: 0.7060 - categorical_accuracy: 0.6922 - precision: 0.7386 - recall: 0.6088 - f1_metrics: 0.6674 - val_loss: 0.7591 - val_categorical_accuracy: 0.6517 - val_precision: 0.6930 - val_recall: 0.5842 - val_f1_metrics: 0.6339\n",
            "Epoch 6/20\n",
            "31/31 [==============================] - 8s 272ms/step - loss: 0.6549 - categorical_accuracy: 0.7252 - precision: 0.7647 - recall: 0.6559 - f1_metrics: 0.7061 - val_loss: 0.7521 - val_categorical_accuracy: 0.6632 - val_precision: 0.6950 - val_recall: 0.6095 - val_f1_metrics: 0.6494\n",
            "Epoch 7/20\n",
            "31/31 [==============================] - 9s 277ms/step - loss: 0.6001 - categorical_accuracy: 0.7500 - precision: 0.7853 - recall: 0.6958 - f1_metrics: 0.7378 - val_loss: 0.7538 - val_categorical_accuracy: 0.6661 - val_precision: 0.6946 - val_recall: 0.6219 - val_f1_metrics: 0.6562\n",
            "Epoch 8/20\n",
            "31/31 [==============================] - 9s 279ms/step - loss: 0.5473 - categorical_accuracy: 0.7808 - precision: 0.8106 - recall: 0.7367 - f1_metrics: 0.7719 - val_loss: 0.7685 - val_categorical_accuracy: 0.6666 - val_precision: 0.6912 - val_recall: 0.6324 - val_f1_metrics: 0.6606\n",
            "Epoch 9/20\n",
            "31/31 [==============================] - 9s 279ms/step - loss: 0.4948 - categorical_accuracy: 0.8063 - precision: 0.8308 - recall: 0.7712 - f1_metrics: 0.7999 - val_loss: 0.7813 - val_categorical_accuracy: 0.6665 - val_precision: 0.6873 - val_recall: 0.6339 - val_f1_metrics: 0.6593\n",
            "\n",
            "Epoch 00009: ReduceLROnPlateau reducing learning rate to 0.0005000000237487257.\n",
            "Epoch 1/20\n",
            "31/31 [==============================] - 12s 305ms/step - loss: 1.0558 - categorical_accuracy: 0.4872 - precision: 0.6570 - recall: 0.1834 - f1_metrics: 0.0657 - val_loss: 0.9520 - val_categorical_accuracy: 0.5480 - val_precision: 0.6991 - val_recall: 0.2159 - val_f1_metrics: 0.3286\n",
            "Epoch 2/20\n",
            "31/31 [==============================] - 8s 267ms/step - loss: 0.9271 - categorical_accuracy: 0.5541 - precision: 0.6540 - recall: 0.3094 - f1_metrics: 0.4174 - val_loss: 0.8509 - val_categorical_accuracy: 0.6110 - val_precision: 0.6817 - val_recall: 0.4480 - val_f1_metrics: 0.5425\n",
            "Epoch 3/20\n",
            "31/31 [==============================] - 9s 278ms/step - loss: 0.8226 - categorical_accuracy: 0.6275 - precision: 0.6940 - recall: 0.4848 - f1_metrics: 0.5707 - val_loss: 0.7989 - val_categorical_accuracy: 0.6366 - val_precision: 0.6886 - val_recall: 0.5249 - val_f1_metrics: 0.5977\n",
            "Epoch 4/20\n",
            "31/31 [==============================] - 8s 271ms/step - loss: 0.7518 - categorical_accuracy: 0.6683 - precision: 0.7229 - recall: 0.5628 - f1_metrics: 0.6328 - val_loss: 0.7753 - val_categorical_accuracy: 0.6478 - val_precision: 0.6873 - val_recall: 0.5688 - val_f1_metrics: 0.6233\n",
            "Epoch 5/20\n",
            "31/31 [==============================] - 9s 281ms/step - loss: 0.6937 - categorical_accuracy: 0.7046 - precision: 0.7492 - recall: 0.6216 - f1_metrics: 0.6794 - val_loss: 0.7588 - val_categorical_accuracy: 0.6560 - val_precision: 0.6939 - val_recall: 0.5949 - val_f1_metrics: 0.6410\n",
            "Epoch 6/20\n",
            "31/31 [==============================] - 9s 286ms/step - loss: 0.6316 - categorical_accuracy: 0.7373 - precision: 0.7738 - recall: 0.6718 - f1_metrics: 0.7192 - val_loss: 0.7595 - val_categorical_accuracy: 0.6613 - val_precision: 0.6897 - val_recall: 0.6137 - val_f1_metrics: 0.6507\n",
            "Epoch 7/20\n",
            "31/31 [==============================] - 9s 278ms/step - loss: 0.5842 - categorical_accuracy: 0.7617 - precision: 0.7947 - recall: 0.7113 - f1_metrics: 0.7507 - val_loss: 0.7592 - val_categorical_accuracy: 0.6658 - val_precision: 0.6910 - val_recall: 0.6214 - val_f1_metrics: 0.6550\n",
            "Epoch 8/20\n",
            "31/31 [==============================] - 8s 274ms/step - loss: 0.5334 - categorical_accuracy: 0.7903 - precision: 0.8185 - recall: 0.7476 - f1_metrics: 0.7814 - val_loss: 0.7715 - val_categorical_accuracy: 0.6698 - val_precision: 0.6907 - val_recall: 0.6312 - val_f1_metrics: 0.6612\n",
            "Epoch 1/20\n",
            "31/31 [==============================] - 12s 333ms/step - loss: 1.0670 - categorical_accuracy: 0.4847 - precision: 0.6768 - recall: 0.1594 - f1_metrics: 0.0213 - val_loss: 0.9711 - val_categorical_accuracy: 0.5333 - val_precision: 0.7035 - val_recall: 0.1029 - val_f1_metrics: 0.1805\n",
            "Epoch 2/20\n",
            "31/31 [==============================] - 9s 288ms/step - loss: 0.9419 - categorical_accuracy: 0.5392 - precision: 0.6390 - recall: 0.2509 - f1_metrics: 0.3547 - val_loss: 0.8569 - val_categorical_accuracy: 0.6062 - val_precision: 0.6869 - val_recall: 0.4405 - val_f1_metrics: 0.5361\n",
            "Epoch 3/20\n",
            "31/31 [==============================] - 9s 290ms/step - loss: 0.8341 - categorical_accuracy: 0.6096 - precision: 0.6794 - recall: 0.4727 - f1_metrics: 0.5573 - val_loss: 0.7966 - val_categorical_accuracy: 0.6380 - val_precision: 0.6965 - val_recall: 0.5265 - val_f1_metrics: 0.5992\n",
            "Epoch 4/20\n",
            "31/31 [==============================] - 9s 284ms/step - loss: 0.7595 - categorical_accuracy: 0.6613 - precision: 0.7128 - recall: 0.5556 - f1_metrics: 0.6243 - val_loss: 0.7630 - val_categorical_accuracy: 0.6522 - val_precision: 0.6960 - val_recall: 0.5776 - val_f1_metrics: 0.6329\n",
            "Epoch 5/20\n",
            "31/31 [==============================] - 9s 286ms/step - loss: 0.6936 - categorical_accuracy: 0.7033 - precision: 0.7457 - recall: 0.6236 - f1_metrics: 0.6792 - val_loss: 0.7468 - val_categorical_accuracy: 0.6591 - val_precision: 0.7001 - val_recall: 0.6001 - val_f1_metrics: 0.6479\n",
            "Epoch 6/20\n",
            "31/31 [==============================] - 9s 295ms/step - loss: 0.6350 - categorical_accuracy: 0.7353 - precision: 0.7715 - recall: 0.6725 - f1_metrics: 0.7186 - val_loss: 0.7423 - val_categorical_accuracy: 0.6644 - val_precision: 0.6979 - val_recall: 0.6160 - val_f1_metrics: 0.6565\n",
            "Epoch 7/20\n",
            "31/31 [==============================] - 9s 286ms/step - loss: 0.5834 - categorical_accuracy: 0.7621 - precision: 0.7940 - recall: 0.7120 - f1_metrics: 0.7507 - val_loss: 0.7429 - val_categorical_accuracy: 0.6747 - val_precision: 0.6984 - val_recall: 0.6305 - val_f1_metrics: 0.6650\n",
            "Epoch 8/20\n",
            "31/31 [==============================] - 9s 293ms/step - loss: 0.5337 - categorical_accuracy: 0.7887 - precision: 0.8159 - recall: 0.7488 - f1_metrics: 0.7809 - val_loss: 0.7606 - val_categorical_accuracy: 0.6727 - val_precision: 0.6938 - val_recall: 0.6417 - val_f1_metrics: 0.6697\n",
            "\n",
            "Epoch 00008: ReduceLROnPlateau reducing learning rate to 0.0005000000237487257.\n",
            "Epoch 9/20\n",
            "31/31 [==============================] - 9s 288ms/step - loss: 0.4815 - categorical_accuracy: 0.8166 - precision: 0.8394 - recall: 0.7835 - f1_metrics: 0.8105 - val_loss: 0.7675 - val_categorical_accuracy: 0.6771 - val_precision: 0.6942 - val_recall: 0.6471 - val_f1_metrics: 0.6718\n",
            "Epoch 1/20\n",
            "31/31 [==============================] - 15s 406ms/step - loss: 1.0952 - categorical_accuracy: 0.4728 - precision: 0.6133 - recall: 0.2068 - f1_metrics: 0.1139 - val_loss: 0.9648 - val_categorical_accuracy: 0.5489 - val_precision: 0.6736 - val_recall: 0.2505 - val_f1_metrics: 0.3665\n",
            "Epoch 2/20\n",
            "31/31 [==============================] - 10s 325ms/step - loss: 0.9424 - categorical_accuracy: 0.5533 - precision: 0.6595 - recall: 0.3160 - f1_metrics: 0.4258 - val_loss: 0.8500 - val_categorical_accuracy: 0.6097 - val_precision: 0.6937 - val_recall: 0.4478 - val_f1_metrics: 0.5439\n",
            "Epoch 3/20\n",
            "31/31 [==============================] - 10s 319ms/step - loss: 0.8270 - categorical_accuracy: 0.6280 - precision: 0.7016 - recall: 0.4814 - f1_metrics: 0.5707 - val_loss: 0.7898 - val_categorical_accuracy: 0.6397 - val_precision: 0.7032 - val_recall: 0.5324 - val_f1_metrics: 0.6061\n",
            "Epoch 4/20\n",
            "31/31 [==============================] - 10s 322ms/step - loss: 0.7478 - categorical_accuracy: 0.6746 - precision: 0.7322 - recall: 0.5683 - f1_metrics: 0.6398 - val_loss: 0.7606 - val_categorical_accuracy: 0.6562 - val_precision: 0.7052 - val_recall: 0.5713 - val_f1_metrics: 0.6331\n",
            "Epoch 5/20\n",
            "31/31 [==============================] - 10s 321ms/step - loss: 0.6824 - categorical_accuracy: 0.7088 - precision: 0.7589 - recall: 0.6272 - f1_metrics: 0.6867 - val_loss: 0.7495 - val_categorical_accuracy: 0.6642 - val_precision: 0.7003 - val_recall: 0.5954 - val_f1_metrics: 0.6452\n",
            "Epoch 6/20\n",
            "31/31 [==============================] - 10s 327ms/step - loss: 0.6240 - categorical_accuracy: 0.7423 - precision: 0.7846 - recall: 0.6739 - f1_metrics: 0.7250 - val_loss: 0.7474 - val_categorical_accuracy: 0.6712 - val_precision: 0.6992 - val_recall: 0.6154 - val_f1_metrics: 0.6562\n",
            "Epoch 7/20\n",
            "31/31 [==============================] - 10s 327ms/step - loss: 0.5674 - categorical_accuracy: 0.7713 - precision: 0.8078 - recall: 0.7179 - f1_metrics: 0.7602 - val_loss: 0.7506 - val_categorical_accuracy: 0.6746 - val_precision: 0.7043 - val_recall: 0.6271 - val_f1_metrics: 0.6657\n",
            "Epoch 8/20\n",
            "31/31 [==============================] - 10s 321ms/step - loss: 0.5132 - categorical_accuracy: 0.8003 - precision: 0.8314 - recall: 0.7558 - f1_metrics: 0.7918 - val_loss: 0.7739 - val_categorical_accuracy: 0.6705 - val_precision: 0.6929 - val_recall: 0.6341 - val_f1_metrics: 0.6650\n",
            "\n",
            "Epoch 00008: ReduceLROnPlateau reducing learning rate to 0.0005000000237487257.\n",
            "Epoch 9/20\n",
            "31/31 [==============================] - 10s 321ms/step - loss: 0.4654 - categorical_accuracy: 0.8226 - precision: 0.8493 - recall: 0.7868 - f1_metrics: 0.8168 - val_loss: 0.7816 - val_categorical_accuracy: 0.6745 - val_precision: 0.6944 - val_recall: 0.6414 - val_f1_metrics: 0.6694\n",
            "\n",
            "Epoch 00009: ReduceLROnPlateau reducing learning rate to 0.0002500000118743628.\n",
            "Epoch 1/20\n",
            "31/31 [==============================] - 13s 373ms/step - loss: 1.0756 - categorical_accuracy: 0.4793 - precision: 0.6283 - recall: 0.1944 - f1_metrics: 0.0920 - val_loss: 0.9289 - val_categorical_accuracy: 0.5711 - val_precision: 0.7186 - val_recall: 0.2440 - val_f1_metrics: 0.3627\n",
            "Epoch 2/20\n",
            "31/31 [==============================] - 11s 340ms/step - loss: 0.8986 - categorical_accuracy: 0.5778 - precision: 0.6656 - recall: 0.3549 - f1_metrics: 0.4599 - val_loss: 0.8129 - val_categorical_accuracy: 0.6249 - val_precision: 0.6857 - val_recall: 0.5046 - val_f1_metrics: 0.5821\n",
            "Epoch 3/20\n",
            "31/31 [==============================] - 10s 338ms/step - loss: 0.7874 - categorical_accuracy: 0.6451 - precision: 0.7016 - recall: 0.5336 - f1_metrics: 0.6061 - val_loss: 0.7685 - val_categorical_accuracy: 0.6487 - val_precision: 0.6996 - val_recall: 0.5562 - val_f1_metrics: 0.6196\n",
            "Epoch 4/20\n",
            "31/31 [==============================] - 11s 340ms/step - loss: 0.7146 - categorical_accuracy: 0.6889 - precision: 0.7334 - recall: 0.6065 - f1_metrics: 0.6639 - val_loss: 0.7433 - val_categorical_accuracy: 0.6607 - val_precision: 0.6978 - val_recall: 0.5964 - val_f1_metrics: 0.6431\n",
            "Epoch 5/20\n",
            "31/31 [==============================] - 11s 340ms/step - loss: 0.6468 - categorical_accuracy: 0.7259 - precision: 0.7631 - recall: 0.6628 - f1_metrics: 0.7094 - val_loss: 0.7362 - val_categorical_accuracy: 0.6685 - val_precision: 0.6987 - val_recall: 0.6226 - val_f1_metrics: 0.6593\n",
            "Epoch 6/20\n",
            "31/31 [==============================] - 10s 337ms/step - loss: 0.5895 - categorical_accuracy: 0.7572 - precision: 0.7883 - recall: 0.7067 - f1_metrics: 0.7453 - val_loss: 0.7387 - val_categorical_accuracy: 0.6724 - val_precision: 0.6977 - val_recall: 0.6347 - val_f1_metrics: 0.6658\n",
            "Epoch 7/20\n",
            "31/31 [==============================] - 11s 342ms/step - loss: 0.5335 - categorical_accuracy: 0.7873 - precision: 0.8143 - recall: 0.7466 - f1_metrics: 0.7790 - val_loss: 0.7494 - val_categorical_accuracy: 0.6724 - val_precision: 0.6932 - val_recall: 0.6398 - val_f1_metrics: 0.6661\n",
            "\n",
            "Epoch 00007: ReduceLROnPlateau reducing learning rate to 0.0005000000237487257.\n",
            "Epoch 8/20\n",
            "31/31 [==============================] - 10s 339ms/step - loss: 0.4824 - categorical_accuracy: 0.8113 - precision: 0.8353 - recall: 0.7780 - f1_metrics: 0.8056 - val_loss: 0.7665 - val_categorical_accuracy: 0.6730 - val_precision: 0.6943 - val_recall: 0.6465 - val_f1_metrics: 0.6719\n"
          ],
          "name": "stdout"
        }
      ]
    },
    {
      "cell_type": "markdown",
      "metadata": {
        "id": "uy-rMw2yQ-4X"
      },
      "source": [
        "**Get best individual F1**"
      ]
    },
    {
      "cell_type": "code",
      "metadata": {
        "colab": {
          "base_uri": "https://localhost:8080/"
        },
        "id": "F-LGPpaeQvZs",
        "outputId": "a979c7d3-1feb-4e6d-82bd-687f8c07f90c"
      },
      "source": [
        "best_indiv = 0.0\n",
        "for history in flat_cnn_histories:\n",
        "  best_indiv = max(best_indiv, max(history.history['val_f1_metrics']))\n",
        "print(\"Best individual F1 = {}\".format(best_indiv))"
      ],
      "execution_count": null,
      "outputs": [
        {
          "output_type": "stream",
          "text": [
            "Best individual F1 = 0.6718630790710449\n"
          ],
          "name": "stdout"
        }
      ]
    },
    {
      "cell_type": "markdown",
      "metadata": {
        "id": "9pY1jvj1REKs"
      },
      "source": [
        "**Evalute FLAT CNN on Test Data**"
      ]
    },
    {
      "cell_type": "code",
      "metadata": {
        "colab": {
          "base_uri": "https://localhost:8080/"
        },
        "id": "6oDjj7c5Qx_1",
        "outputId": "3c0322dc-0370-4dc2-9ec9-042ad75ce031"
      },
      "source": [
        "for i, flat_cnn_model in enumerate(flat_cnn_models):\n",
        "  print(\"\\nFlat_CNN_Model_{0}\".format(i+1))\n",
        "  flat_cnn_model.evaluate(X_test, Y_test, batch_size=1000)"
      ],
      "execution_count": null,
      "outputs": [
        {
          "output_type": "stream",
          "text": [
            "\n",
            "Flat_CNN_Model_1\n",
            "12/12 [==============================] - 1s 52ms/step - loss: 0.7979 - categorical_accuracy: 0.6642 - precision: 0.6852 - recall: 0.6290 - f1_metrics: 0.6567\n",
            "\n",
            "Flat_CNN_Model_2\n",
            "12/12 [==============================] - 0s 29ms/step - loss: 0.7817 - categorical_accuracy: 0.6599 - precision: 0.6836 - recall: 0.6230 - f1_metrics: 0.6530\n",
            "\n",
            "Flat_CNN_Model_3\n",
            "12/12 [==============================] - 1s 44ms/step - loss: 0.7792 - categorical_accuracy: 0.6670 - precision: 0.6864 - recall: 0.6370 - f1_metrics: 0.6605\n",
            "\n",
            "Flat_CNN_Model_4\n",
            "12/12 [==============================] - 1s 44ms/step - loss: 0.7882 - categorical_accuracy: 0.6722 - precision: 0.6944 - recall: 0.6381 - f1_metrics: 0.6650\n",
            "\n",
            "Flat_CNN_Model_5\n",
            "12/12 [==============================] - 1s 46ms/step - loss: 0.7762 - categorical_accuracy: 0.6740 - precision: 0.6928 - recall: 0.6438 - f1_metrics: 0.6682\n"
          ],
          "name": "stdout"
        }
      ]
    },
    {
      "cell_type": "markdown",
      "metadata": {
        "id": "q67ssjTjRJiW"
      },
      "source": [
        "**FLAT CNN Models Training Plots**"
      ]
    },
    {
      "cell_type": "code",
      "metadata": {
        "colab": {
          "base_uri": "https://localhost:8080/",
          "height": 615
        },
        "id": "Ro_aDHJMQ1bS",
        "outputId": "3a843237-33e7-4673-b9a2-3d6704ea4c40"
      },
      "source": [
        "plot_metrics(flat_cnn_histories[0])"
      ],
      "execution_count": null,
      "outputs": [
        {
          "output_type": "display_data",
          "data": {
            "image/png": "[encoded data removed]",
            "text/plain": [
              "<Figure size 1080x720 with 5 Axes>"
            ]
          },
          "metadata": {
            "tags": []
          }
        }
      ]
    },
    {
      "cell_type": "markdown",
      "metadata": {
        "id": "6QUeS2AZRUPm"
      },
      "source": [
        "**Correlation Matrix for Flat CNN**"
      ]
    },
    {
      "cell_type": "code",
      "metadata": {
        "colab": {
          "base_uri": "https://localhost:8080/",
          "height": 540
        },
        "id": "gBtQzffZQ9Fb",
        "outputId": "2a83e0aa-eb1d-47d3-bdb5-a952388f4e61"
      },
      "source": [
        "correlation_matrix(flat_cnn_models)"
      ],
      "execution_count": null,
      "outputs": [
        {
          "output_type": "display_data",
          "data": {
            "image/png": "[encoded data removed]",
            "text/plain": [
              "<Figure size 792x648 with 2 Axes>"
            ]
          },
          "metadata": {
            "tags": []
          }
        }
      ]
    }
  ]
}