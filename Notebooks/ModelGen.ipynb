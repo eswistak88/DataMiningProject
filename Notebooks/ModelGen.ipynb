{
  "nbformat": 4,
  "nbformat_minor": 0,
  "metadata": {
    "colab": {
      "name": "ModelGen.ipynb",
      "provenance": [],
      "collapsed_sections": [
        "JoTIgYrYwe-A",
        "Q17umrp39CJq",
        "or9I14oifgWE",
        "gCBIW_j2jZB8",
        "fxI8h7f-PI7b",
        "LpAydPBv16PJ",
        "zDuSugQ9uTbw",
        "vPztTzwiwkfx",
        "UrBxHUVaxXJF",
        "HjF1UtdXzhNq",
        "A8pcHU3aFj_v",
        "T9zSsDyA04oS"
      ],
      "toc_visible": true
    },
    "kernelspec": {
      "name": "python3",
      "display_name": "Python 3"
    },
    "accelerator": "GPU"
  },
  "cells": [
    {
      "cell_type": "markdown",
      "metadata": {
        "id": "JoTIgYrYwe-A"
      },
      "source": [
        "# **1. Import necessary libraries**"
      ]
    },
    {
      "cell_type": "code",
      "metadata": {
        "colab": {
          "base_uri": "https://localhost:8080/"
        },
        "id": "Dht_sDU4wd9A",
        "outputId": "e8c6c66a-e5c2-4c45-ce87-d34729494cb5"
      },
      "source": [
        "import os\r\n",
        "import tweepy as tw\r\n",
        "import pandas as pd\r\n",
        "import csv\r\n",
        "import pandas as pd\r\n",
        "import glob\r\n",
        "from nltk.corpus import stopwords\r\n",
        "#from vaderSentiment.vaderSentiment import SentimentIntensityAnalyzer\r\n",
        "import numpy as np\r\n",
        "import re\r\n",
        "from keras.preprocessing.text import Tokenizer\r\n",
        "from keras.preprocessing.sequence import pad_sequences\r\n",
        "import tensorflow.keras as keras\r\n",
        "import tensorflow.keras.layers as layers\r\n",
        "from sklearn.model_selection import train_test_split\r\n",
        "import keras.models\r\n",
        "import matplotlib.pyplot as plt\r\n",
        "from keras.utils import to_categorical\r\n",
        "from keras import backend as K\r\n",
        "import nltk\r\n",
        "nltk.download('stopwords')\r\n",
        "from nltk.corpus import stopwords\r\n",
        "from collections import namedtuple\r\n",
        "import seaborn as sns\r\n",
        "import pickle"
      ],
      "execution_count": null,
      "outputs": [
        {
          "output_type": "stream",
          "text": [
            "[nltk_data] Downloading package stopwords to /root/nltk_data...\n",
            "[nltk_data]   Package stopwords is already up-to-date!\n"
          ],
          "name": "stdout"
        }
      ]
    },
    {
      "cell_type": "markdown",
      "metadata": {
        "id": "Q17umrp39CJq"
      },
      "source": [
        "# **2. Necessary Data Cleaning Functions**"
      ]
    },
    {
      "cell_type": "markdown",
      "metadata": {
        "id": "dvvMCJjxn7zx"
      },
      "source": [
        "**Function to concatenate all csv files into one large corpus**"
      ]
    },
    {
      "cell_type": "code",
      "metadata": {
        "id": "XXo_igmI8tdx"
      },
      "source": [
        "def create_data_corpus(path):\n",
        "  files = glob.glob(path + \"/*.csv\")\n",
        "  df_list = []\n",
        "  \n",
        "  for file in files:\n",
        "    df = pd.read_csv(file, index_col=None, header=0, engine='python')\n",
        "    df_list.append(df)\n",
        "\n",
        "  frame = pd.concat(df_list, axis=0, ignore_index=True)\n",
        "  return frame"
      ],
      "execution_count": null,
      "outputs": []
    },
    {
      "cell_type": "markdown",
      "metadata": {
        "id": "pJENf2LI3RfR"
      },
      "source": [
        "**Function to remove certain patterns in the data**"
      ]
    },
    {
      "cell_type": "code",
      "metadata": {
        "id": "--FOIDctt4V1"
      },
      "source": [
        "def remove_pattern(input_txt, pattern):\n",
        "  r = re.findall(pattern, input_txt)\n",
        "  for i in r:\n",
        "    input_txt = re.sub(i, '', input_txt)        \n",
        "  return input_txt"
      ],
      "execution_count": null,
      "outputs": []
    },
    {
      "cell_type": "markdown",
      "metadata": {
        "id": "DPHuSJsPb437"
      },
      "source": [
        "**Function to carry out data cleaning**"
      ]
    },
    {
      "cell_type": "code",
      "metadata": {
        "id": "1-8v5Uf3bA1X"
      },
      "source": [
        "def clean_tweets(frame, column_name, remove_stop_words=True, lower_case=True, remove_special=True):\n",
        "  frame = frame.drop_duplicates().reset_index(drop=True) #remove duplicate rows\n",
        "  frame['Tweet_Clean_Text'] = np.vectorize(remove_pattern)(frame[column_name], \"RT @[\\w]*:\") #remove twitter return handle\n",
        "  frame.Tweet_Clean_Text = np.vectorize(remove_pattern)(frame['Tweet_Clean_Text'], \"@[\\w]*\") #remove twitter handle\n",
        "  frame.Tweet_Clean_Text = np.vectorize(remove_pattern)(frame['Tweet_Clean_Text'], \"https?://[A-Za-z0-9./]*\") #remove URLs\n",
        "\n",
        "  if remove_special:\n",
        "    frame.Tweet_Clean_Text = frame.Tweet_Clean_Text.str.replace(\"[^a-zA-Z#]\", \" \") #remove special characters except for #\n",
        "  frame.Tweet_Clean_Text = frame.Tweet_Clean_Text.replace('\\s+', ' ', regex=True) #remove extra spaces in between words\n",
        "  if lower_case:\n",
        "    frame.Tweet_Clean_Text = frame.Tweet_Clean_Text.apply(lambda x: x.lower())\n",
        "  if remove_stop_words:\n",
        "    frame.Tweet_Clean_Text = frame.Tweet_Clean_Text.apply(lambda x: ' '.join([word for word in x.split() if word not in stopwords.words('english')])) #remove stop words\n",
        "\n",
        "  return frame"
      ],
      "execution_count": null,
      "outputs": []
    },
    {
      "cell_type": "markdown",
      "metadata": {
        "id": "or9I14oifgWE"
      },
      "source": [
        "# **3. Preprocess the Dataset(Combined corpus of SemEval2017 + Airlines + subset of Sentiment140) for training the Networks**"
      ]
    },
    {
      "cell_type": "code",
      "metadata": {
        "colab": {
          "base_uri": "https://localhost:8080/"
        },
        "id": "8KR-U6eYlyDp",
        "outputId": "d84b3c22-53fa-46c5-93ec-6ff0b41472f0"
      },
      "source": [
        "mega_frame = create_data_corpus('drive/My Drive/SentimentAnalysis/MegaData') #Use this path only (Modify if needed)\n",
        "mega_frame = clean_tweets(frame=mega_frame, column_name='Column3', remove_stop_words=False, remove_special=False)\n",
        "mega_frame"
      ],
      "execution_count": null,
      "outputs": [
        {
          "output_type": "execute_result",
          "data": {
            "text/html": [
              "<div>\n",
              "<style scoped>\n",
              "    .dataframe tbody tr th:only-of-type {\n",
              "        vertical-align: middle;\n",
              "    }\n",
              "\n",
              "    .dataframe tbody tr th {\n",
              "        vertical-align: top;\n",
              "    }\n",
              "\n",
              "    .dataframe thead th {\n",
              "        text-align: right;\n",
              "    }\n",
              "</style>\n",
              "<table border=\"1\" class=\"dataframe\">\n",
              "  <thead>\n",
              "    <tr style=\"text-align: right;\">\n",
              "      <th></th>\n",
              "      <th>Column1</th>\n",
              "      <th>Column2</th>\n",
              "      <th>Column3</th>\n",
              "      <th>Tweet_Clean_Text</th>\n",
              "    </tr>\n",
              "  </thead>\n",
              "  <tbody>\n",
              "    <tr>\n",
              "      <th>0</th>\n",
              "      <td>4.343150e+17</td>\n",
              "      <td>negative</td>\n",
              "      <td>@MetroNorth wall to wall people on the platfor...</td>\n",
              "      <td>wall to wall people on the platform at south ...</td>\n",
              "    </tr>\n",
              "    <tr>\n",
              "      <th>1</th>\n",
              "      <td>4.376050e+17</td>\n",
              "      <td>neutral</td>\n",
              "      <td>ang sarap mging panganay. Pag ikaw may kylngan...</td>\n",
              "      <td>ang sarap mging panganay. pag ikaw may kylngan...</td>\n",
              "    </tr>\n",
              "    <tr>\n",
              "      <th>2</th>\n",
              "      <td>4.374240e+17</td>\n",
              "      <td>negative</td>\n",
              "      <td>RT @katie_rohaley: School on Monday is just go...</td>\n",
              "      <td>school on monday is just gonna be a great time</td>\n",
              "    </tr>\n",
              "    <tr>\n",
              "      <th>3</th>\n",
              "      <td>4.368360e+17</td>\n",
              "      <td>negative</td>\n",
              "      <td>Thanks manager for putting me on the schedule ...</td>\n",
              "      <td>thanks manager for putting me on the schedule ...</td>\n",
              "    </tr>\n",
              "    <tr>\n",
              "      <th>4</th>\n",
              "      <td>4.356710e+17</td>\n",
              "      <td>negative</td>\n",
              "      <td>Who needs sleep? It's not like I have a test t...</td>\n",
              "      <td>who needs sleep? it's not like i have a test t...</td>\n",
              "    </tr>\n",
              "    <tr>\n",
              "      <th>...</th>\n",
              "      <td>...</td>\n",
              "      <td>...</td>\n",
              "      <td>...</td>\n",
              "      <td>...</td>\n",
              "    </tr>\n",
              "    <tr>\n",
              "      <th>114213</th>\n",
              "      <td>2.192225e+09</td>\n",
              "      <td>positive</td>\n",
              "      <td>Hahaha! @futureguru100  that was just a work p...</td>\n",
              "      <td>hahaha! that was just a work project... he cou...</td>\n",
              "    </tr>\n",
              "    <tr>\n",
              "      <th>114214</th>\n",
              "      <td>2.191751e+09</td>\n",
              "      <td>positive</td>\n",
              "      <td>And the award for 'Longest Ever Interview' goe...</td>\n",
              "      <td>and the award for 'longest ever interview' goe...</td>\n",
              "    </tr>\n",
              "    <tr>\n",
              "      <th>114215</th>\n",
              "      <td>1.468895e+09</td>\n",
              "      <td>negative</td>\n",
              "      <td>Thinks!!!!!! i should have rented wheelman</td>\n",
              "      <td>thinks!!!!!! i should have rented wheelman</td>\n",
              "    </tr>\n",
              "    <tr>\n",
              "      <th>114216</th>\n",
              "      <td>1.469237e+09</td>\n",
              "      <td>negative</td>\n",
              "      <td>@MaryBethune I hate school right now! You are ...</td>\n",
              "      <td>i hate school right now! you are lucky you do...</td>\n",
              "    </tr>\n",
              "    <tr>\n",
              "      <th>114217</th>\n",
              "      <td>2.192630e+09</td>\n",
              "      <td>positive</td>\n",
              "      <td>@tjeffrey never too early - 10am is late in so...</td>\n",
              "      <td>never too early - 10am is late in some cultures</td>\n",
              "    </tr>\n",
              "  </tbody>\n",
              "</table>\n",
              "<p>114218 rows × 4 columns</p>\n",
              "</div>"
            ],
            "text/plain": [
              "             Column1  ...                                   Tweet_Clean_Text\n",
              "0       4.343150e+17  ...   wall to wall people on the platform at south ...\n",
              "1       4.376050e+17  ...  ang sarap mging panganay. pag ikaw may kylngan...\n",
              "2       4.374240e+17  ...     school on monday is just gonna be a great time\n",
              "3       4.368360e+17  ...  thanks manager for putting me on the schedule ...\n",
              "4       4.356710e+17  ...  who needs sleep? it's not like i have a test t...\n",
              "...              ...  ...                                                ...\n",
              "114213  2.192225e+09  ...  hahaha! that was just a work project... he cou...\n",
              "114214  2.191751e+09  ...  and the award for 'longest ever interview' goe...\n",
              "114215  1.468895e+09  ...        thinks!!!!!! i should have rented wheelman \n",
              "114216  1.469237e+09  ...   i hate school right now! you are lucky you do...\n",
              "114217  2.192630e+09  ...   never too early - 10am is late in some cultures \n",
              "\n",
              "[114218 rows x 4 columns]"
            ]
          },
          "metadata": {
            "tags": []
          },
          "execution_count": 5
        }
      ]
    },
    {
      "cell_type": "code",
      "metadata": {
        "colab": {
          "base_uri": "https://localhost:8080/"
        },
        "id": "4NXu5D_FrrEp",
        "outputId": "5b6a520e-7d44-45dc-dcfe-eba7990d88ab"
      },
      "source": [
        "mega_frame['Column2'].value_counts()"
      ],
      "execution_count": null,
      "outputs": [
        {
          "output_type": "execute_result",
          "data": {
            "text/plain": [
              "positive    47028\n",
              "negative    41842\n",
              "neutral     25348\n",
              "Name: Column2, dtype: int64"
            ]
          },
          "metadata": {
            "tags": []
          },
          "execution_count": 6
        }
      ]
    },
    {
      "cell_type": "markdown",
      "metadata": {
        "id": "gCBIW_j2jZB8"
      },
      "source": [
        "# **4. Build the Inputs to our networks**"
      ]
    },
    {
      "cell_type": "markdown",
      "metadata": {
        "id": "emSZC9JBjksH"
      },
      "source": [
        "**One-hot encode the labels**"
      ]
    },
    {
      "cell_type": "code",
      "metadata": {
        "colab": {
          "base_uri": "https://localhost:8080/",
          "height": 402
        },
        "id": "WqBxPJKpjjak",
        "outputId": "b688574a-827f-4b25-cfc3-1ac3ebf6bad4"
      },
      "source": [
        "mega_frame[\"Sentiment_Value\"] = mega_frame[\"Column2\"].map({\"neutral\": 0, \"positive\": 1, \"negative\": 2})\n",
        "labels = to_categorical(mega_frame[\"Sentiment_Value\"], 3)\n",
        "mega_frame"
      ],
      "execution_count": null,
      "outputs": [
        {
          "output_type": "execute_result",
          "data": {
            "text/html": [
              "<div>\n",
              "<style scoped>\n",
              "    .dataframe tbody tr th:only-of-type {\n",
              "        vertical-align: middle;\n",
              "    }\n",
              "\n",
              "    .dataframe tbody tr th {\n",
              "        vertical-align: top;\n",
              "    }\n",
              "\n",
              "    .dataframe thead th {\n",
              "        text-align: right;\n",
              "    }\n",
              "</style>\n",
              "<table border=\"1\" class=\"dataframe\">\n",
              "  <thead>\n",
              "    <tr style=\"text-align: right;\">\n",
              "      <th></th>\n",
              "      <th>Column1</th>\n",
              "      <th>Column2</th>\n",
              "      <th>Column3</th>\n",
              "      <th>Tweet_Clean_Text</th>\n",
              "      <th>Sentiment_Value</th>\n",
              "    </tr>\n",
              "  </thead>\n",
              "  <tbody>\n",
              "    <tr>\n",
              "      <th>0</th>\n",
              "      <td>4.343150e+17</td>\n",
              "      <td>negative</td>\n",
              "      <td>@MetroNorth wall to wall people on the platfor...</td>\n",
              "      <td>wall to wall people on the platform at south ...</td>\n",
              "      <td>2</td>\n",
              "    </tr>\n",
              "    <tr>\n",
              "      <th>1</th>\n",
              "      <td>4.376050e+17</td>\n",
              "      <td>neutral</td>\n",
              "      <td>ang sarap mging panganay. Pag ikaw may kylngan...</td>\n",
              "      <td>ang sarap mging panganay. pag ikaw may kylngan...</td>\n",
              "      <td>0</td>\n",
              "    </tr>\n",
              "    <tr>\n",
              "      <th>2</th>\n",
              "      <td>4.374240e+17</td>\n",
              "      <td>negative</td>\n",
              "      <td>RT @katie_rohaley: School on Monday is just go...</td>\n",
              "      <td>school on monday is just gonna be a great time</td>\n",
              "      <td>2</td>\n",
              "    </tr>\n",
              "    <tr>\n",
              "      <th>3</th>\n",
              "      <td>4.368360e+17</td>\n",
              "      <td>negative</td>\n",
              "      <td>Thanks manager for putting me on the schedule ...</td>\n",
              "      <td>thanks manager for putting me on the schedule ...</td>\n",
              "      <td>2</td>\n",
              "    </tr>\n",
              "    <tr>\n",
              "      <th>4</th>\n",
              "      <td>4.356710e+17</td>\n",
              "      <td>negative</td>\n",
              "      <td>Who needs sleep? It's not like I have a test t...</td>\n",
              "      <td>who needs sleep? it's not like i have a test t...</td>\n",
              "      <td>2</td>\n",
              "    </tr>\n",
              "    <tr>\n",
              "      <th>...</th>\n",
              "      <td>...</td>\n",
              "      <td>...</td>\n",
              "      <td>...</td>\n",
              "      <td>...</td>\n",
              "      <td>...</td>\n",
              "    </tr>\n",
              "    <tr>\n",
              "      <th>114213</th>\n",
              "      <td>2.192225e+09</td>\n",
              "      <td>positive</td>\n",
              "      <td>Hahaha! @futureguru100  that was just a work p...</td>\n",
              "      <td>hahaha! that was just a work project... he cou...</td>\n",
              "      <td>1</td>\n",
              "    </tr>\n",
              "    <tr>\n",
              "      <th>114214</th>\n",
              "      <td>2.191751e+09</td>\n",
              "      <td>positive</td>\n",
              "      <td>And the award for 'Longest Ever Interview' goe...</td>\n",
              "      <td>and the award for 'longest ever interview' goe...</td>\n",
              "      <td>1</td>\n",
              "    </tr>\n",
              "    <tr>\n",
              "      <th>114215</th>\n",
              "      <td>1.468895e+09</td>\n",
              "      <td>negative</td>\n",
              "      <td>Thinks!!!!!! i should have rented wheelman</td>\n",
              "      <td>thinks!!!!!! i should have rented wheelman</td>\n",
              "      <td>2</td>\n",
              "    </tr>\n",
              "    <tr>\n",
              "      <th>114216</th>\n",
              "      <td>1.469237e+09</td>\n",
              "      <td>negative</td>\n",
              "      <td>@MaryBethune I hate school right now! You are ...</td>\n",
              "      <td>i hate school right now! you are lucky you do...</td>\n",
              "      <td>2</td>\n",
              "    </tr>\n",
              "    <tr>\n",
              "      <th>114217</th>\n",
              "      <td>2.192630e+09</td>\n",
              "      <td>positive</td>\n",
              "      <td>@tjeffrey never too early - 10am is late in so...</td>\n",
              "      <td>never too early - 10am is late in some cultures</td>\n",
              "      <td>1</td>\n",
              "    </tr>\n",
              "  </tbody>\n",
              "</table>\n",
              "<p>114218 rows × 5 columns</p>\n",
              "</div>"
            ],
            "text/plain": [
              "             Column1  ... Sentiment_Value\n",
              "0       4.343150e+17  ...               2\n",
              "1       4.376050e+17  ...               0\n",
              "2       4.374240e+17  ...               2\n",
              "3       4.368360e+17  ...               2\n",
              "4       4.356710e+17  ...               2\n",
              "...              ...  ...             ...\n",
              "114213  2.192225e+09  ...               1\n",
              "114214  2.191751e+09  ...               1\n",
              "114215  1.468895e+09  ...               2\n",
              "114216  1.469237e+09  ...               2\n",
              "114217  2.192630e+09  ...               1\n",
              "\n",
              "[114218 rows x 5 columns]"
            ]
          },
          "metadata": {
            "tags": []
          },
          "execution_count": 7
        }
      ]
    },
    {
      "cell_type": "markdown",
      "metadata": {
        "id": "4QitYEv47DSL"
      },
      "source": [
        "**Get statistics of our data**"
      ]
    },
    {
      "cell_type": "code",
      "metadata": {
        "colab": {
          "base_uri": "https://localhost:8080/"
        },
        "id": "uwXQabh_7JF5",
        "outputId": "109e37b1-82af-4744-b8eb-fdbf567c99d6"
      },
      "source": [
        "mega_frame['test'] = mega_frame['Tweet_Clean_Text'].apply(lambda x: len(str(x).split()))\r\n",
        "print(\"mean length of sentence: \" + str(mega_frame.test.mean()))\r\n",
        "print(\"max length of sentence: \" + str(mega_frame.test.max()))\r\n",
        "print(\"std dev length of sentence: \" + str(mega_frame.test.std()))"
      ],
      "execution_count": null,
      "outputs": [
        {
          "output_type": "stream",
          "text": [
            "mean length of sentence: 15.85478646097813\n",
            "max length of sentence: 39\n",
            "std dev length of sentence: 6.794046007912811\n"
          ],
          "name": "stdout"
        }
      ]
    },
    {
      "cell_type": "markdown",
      "metadata": {
        "id": "ndUMWSzDLn-q"
      },
      "source": [
        "**Vectorize and convert text into sequences**"
      ]
    },
    {
      "cell_type": "code",
      "metadata": {
        "id": "9phzbq3PLRno",
        "colab": {
          "base_uri": "https://localhost:8080/"
        },
        "outputId": "6f69e899-45ce-4fd5-f5d9-9820f305730d"
      },
      "source": [
        "maxlen = mega_frame.test.max()\n",
        "tokenizer = Tokenizer()\n",
        "tokenizer.fit_on_texts(mega_frame['Tweet_Clean_Text'].values)\n",
        "num_features = len(tokenizer.word_index) + 1\n",
        "X = tokenizer.texts_to_sequences(mega_frame['Tweet_Clean_Text'].values)\n",
        "X = pad_sequences(X, maxlen=maxlen, padding='post')\n",
        "\n",
        "print(\"Vocab size: \", num_features)\n",
        "print(\"Input shape: \", X.shape)\n",
        "print(\"Labels shape: \" , labels.shape)"
      ],
      "execution_count": null,
      "outputs": [
        {
          "output_type": "stream",
          "text": [
            "Vocab size:  73456\n",
            "Input shape:  (114218, 39)\n",
            "Labels shape:  (114218, 3)\n"
          ],
          "name": "stdout"
        }
      ]
    },
    {
      "cell_type": "markdown",
      "metadata": {
        "id": "itPpg-CzEv91"
      },
      "source": [
        "**Save the Tokenizer state for later use**"
      ]
    },
    {
      "cell_type": "code",
      "metadata": {
        "id": "DtZA-Se1-4mV"
      },
      "source": [
        "with open('tokenizer.pickle', 'wb') as handle:\r\n",
        "    pickle.dump(tokenizer, handle, protocol=pickle.HIGHEST_PROTOCOL)"
      ],
      "execution_count": null,
      "outputs": []
    },
    {
      "cell_type": "markdown",
      "metadata": {
        "id": "_WhGA1RpBOx1"
      },
      "source": [
        "**Function to get GloVe embeddings**"
      ]
    },
    {
      "cell_type": "code",
      "metadata": {
        "id": "3fFFVsafNvRl"
      },
      "source": [
        "def get_w2v(path):\r\n",
        "  file = open(path)\r\n",
        "  w2v = {}\r\n",
        "  for embedding_line in file:\r\n",
        "    embedding_word = embedding_line.split()[0]\r\n",
        "    embedding_value = np.asarray([float(value) for value in embedding_line.split()[1:]])\r\n",
        "    w2v[embedding_word] = embedding_value\r\n",
        "  return w2v"
      ],
      "execution_count": null,
      "outputs": []
    },
    {
      "cell_type": "code",
      "metadata": {
        "id": "HArEwL18Tl_b"
      },
      "source": [
        "glove_file_path = \"drive/My Drive/SentimentAnalysis/GloVe/glove.twitter.27B.200d.txt\"\r\n",
        "w2v = get_w2v(glove_file_path)"
      ],
      "execution_count": null,
      "outputs": []
    },
    {
      "cell_type": "code",
      "metadata": {
        "id": "icnpqnh5of8p"
      },
      "source": [
        "embedding_dim = 200\r\n",
        "emb_mat = np.zeros((num_features, embedding_dim))\r\n",
        "for word, i in tokenizer.word_index.items():\r\n",
        "  vector = w2v.get(word)\r\n",
        "  if vector is not None:\r\n",
        "    emb_mat[i] = vector\r\n",
        "  else:\r\n",
        "    emb_mat[i] = np.random.randn(200)"
      ],
      "execution_count": null,
      "outputs": []
    },
    {
      "cell_type": "markdown",
      "metadata": {
        "id": "R87-Es7DmB1P"
      },
      "source": [
        "**Create Training, Validation, and Test Data splits**"
      ]
    },
    {
      "cell_type": "code",
      "metadata": {
        "id": "ALGB5lGcmDYh"
      },
      "source": [
        "#FINAL DATASETS (Please note case sensitivity)- TRAINING: (X_train,Y_train)  VALIDATION: (X_val, Y_val)  TEST: (X_test, Y_test)\n",
        "\n",
        "Y = labels\n",
        "\n",
        "x_train, X_test, y_train, Y_test = train_test_split(X, Y, test_size = 0.10, random_state = 1)\n",
        "\n",
        "X_train, X_val, Y_train, Y_val = train_test_split(x_train, y_train, test_size=0.10, random_state=1)"
      ],
      "execution_count": null,
      "outputs": []
    },
    {
      "cell_type": "markdown",
      "metadata": {
        "id": "fxI8h7f-PI7b"
      },
      "source": [
        "# **5. Build LSTM and CNN models**"
      ]
    },
    {
      "cell_type": "markdown",
      "metadata": {
        "id": "gLijouu-1AKB"
      },
      "source": [
        "## **Model helpers (metrics, callbacks, plots)**"
      ]
    },
    {
      "cell_type": "markdown",
      "metadata": {
        "id": "PiFIMHYI1VR3"
      },
      "source": [
        "### **Metrics**"
      ]
    },
    {
      "cell_type": "code",
      "metadata": {
        "id": "fg4g_GRG1T-n"
      },
      "source": [
        "def recall_score(y_true, y_pred):\r\n",
        "    true_positives = K.sum(K.round(K.clip(y_true * y_pred, 0, 1)))\r\n",
        "    possible_positives = K.sum(K.round(K.clip(y_true, 0, 1)))\r\n",
        "    recall = true_positives / (possible_positives + K.epsilon())\r\n",
        "    recall_score.__name__ = 'recall'\r\n",
        "    return recall\r\n",
        "\r\n",
        "def precision_score(y_true, y_pred):\r\n",
        "    true_positives = K.sum(K.round(K.clip(y_true * y_pred, 0, 1)))\r\n",
        "    predicted_positives = K.sum(K.round(K.clip(y_pred, 0, 1)))\r\n",
        "    precision = true_positives / (predicted_positives + K.epsilon())\r\n",
        "    precision_score.__name__ = 'precision'\r\n",
        "    return precision\r\n",
        "\r\n",
        "def f1_metrics(y_true, y_pred):\r\n",
        "    precision = precision_score(y_true, y_pred)\r\n",
        "    recall = recall_score(y_true, y_pred)\r\n",
        "    f1_metrics.__name__ = 'f1_metrics'\r\n",
        "    return 2*((precision*recall)/(precision+recall+K.epsilon()))\r\n",
        "\r\n",
        "metrics = [\r\n",
        "           keras.metrics.CategoricalAccuracy(),\r\n",
        "           keras.metrics.Precision(name='precision'),\r\n",
        "           keras.metrics.Recall(name='recall'),\r\n",
        "           f1_metrics,\r\n",
        "]"
      ],
      "execution_count": null,
      "outputs": []
    },
    {
      "cell_type": "markdown",
      "metadata": {
        "id": "okV89ZXw1lPR"
      },
      "source": [
        "### **Training Plots**"
      ]
    },
    {
      "cell_type": "code",
      "metadata": {
        "id": "hyWENXfo1ns5"
      },
      "source": [
        "colors = plt.rcParams['axes.prop_cycle'].by_key()['color']\r\n",
        "plt.rcParams['figure.figsize'] = 15, 10\r\n",
        "\r\n",
        "def plot_metrics(history):\r\n",
        "  metrics = ['loss', 'categorical_accuracy', 'precision', 'recall', 'f1_metrics']\r\n",
        "  for n, metric in enumerate(metrics):\r\n",
        "    name = metric.replace(\"_\",\" \").capitalize()\r\n",
        "    plt.subplot(2,3,n+1)\r\n",
        "    plt.plot(history.epoch, history.history[metric], color=colors[0], label='Train')\r\n",
        "    plt.plot(history.epoch, history.history['val_'+metric],\r\n",
        "             color=colors[0], linestyle=\"--\", label='Val')\r\n",
        "    plt.xlabel('Epoch')\r\n",
        "    plt.ylabel(name)\r\n",
        "    if metric == 'loss':\r\n",
        "      plt.ylim([0, plt.ylim()[1]])\r\n",
        "    else:\r\n",
        "      plt.ylim([0,1])\r\n",
        "\r\n",
        "    plt.legend()"
      ],
      "execution_count": null,
      "outputs": []
    },
    {
      "cell_type": "markdown",
      "metadata": {
        "id": "xuxGEPQNTNJU"
      },
      "source": [
        "**Correlation Matrix**"
      ]
    },
    {
      "cell_type": "code",
      "metadata": {
        "id": "usmjfWmyTPTr"
      },
      "source": [
        "def correlation_matrix(models):\r\n",
        "  train_predictions = []\r\n",
        "\r\n",
        "  for model in models:\r\n",
        "    train_predictions.append(model.predict([X_train], batch_size=1024))\r\n",
        "\r\n",
        "  ndarray = np.array(train_predictions)\r\n",
        "  positive = ndarray[:,:,0]\r\n",
        "  neutral = ndarray[:,:,1]\r\n",
        "  negative = ndarray[:,:,2]\r\n",
        "\r\n",
        "  average = (np.corrcoef(positive) + np.corrcoef(neutral) + np.corrcoef(negative))/3\r\n",
        "\r\n",
        "  sns.set_theme(style=\"white\")\r\n",
        "\r\n",
        "  mask = np.triu(np.ones_like(average, dtype=bool))\r\n",
        "\r\n",
        "  f, ax = plt.subplots(figsize=(11,9))\r\n",
        "\r\n",
        "  cmap = sns.diverging_palette(220,20, n=9, as_cmap=True)\r\n",
        "\r\n",
        "  sns.heatmap(average, mask=mask, cmap=cmap, vmax=1, vmin=.75, center=.9,\r\n",
        "              square=True, linewidth=.5, cbar_kws={\"shrink\":.5})"
      ],
      "execution_count": null,
      "outputs": []
    },
    {
      "cell_type": "markdown",
      "metadata": {
        "id": "LpAydPBv16PJ"
      },
      "source": [
        "### **Callbacks**"
      ]
    },
    {
      "cell_type": "code",
      "metadata": {
        "id": "D7qJs22b17vb"
      },
      "source": [
        "early_stopping_callback = keras.callbacks.EarlyStopping(monitor='val_loss', patience=3)\r\n",
        "\r\n",
        "reduce_lr_callback = keras.callbacks.ReduceLROnPlateau(monitor='val_categorical_accuracy', factor=0.5, patience=1, verbose=1)\r\n",
        "\r\n",
        "class CustomSaver(keras.callbacks.Callback):\r\n",
        "    def on_epoch_end(self, epoch, logs={}):\r\n",
        "        if epoch > 9:  # or save after some epoch, each k-th epoch etc.\r\n",
        "            self.model.save(\"model_{}.h5\".format(epoch))\r\n",
        "\r\n",
        "saver = CustomSaver()"
      ],
      "execution_count": null,
      "outputs": []
    },
    {
      "cell_type": "markdown",
      "metadata": {
        "id": "ocAl1yXhCSAK"
      },
      "source": [
        "### **LSTM models**"
      ]
    },
    {
      "cell_type": "markdown",
      "metadata": {
        "id": "zDuSugQ9uTbw"
      },
      "source": [
        "## **LSTM Models**"
      ]
    },
    {
      "cell_type": "markdown",
      "metadata": {
        "id": "QXgKWJglGKrZ"
      },
      "source": [
        "**LSTM Model 1**"
      ]
    },
    {
      "cell_type": "code",
      "metadata": {
        "id": "47uRLliUuSjC"
      },
      "source": [
        "def Build_LSTM_Model1():\r\n",
        "  output_dims = 200\r\n",
        "  lstm_out = 200\r\n",
        "  dropout = 0.4\r\n",
        "  recurrent_dropout = 0.4\r\n",
        "  spatial_dropout_rate = 0.4\r\n",
        " \r\n",
        "  model1 = keras.Sequential([\r\n",
        "      layers.Embedding(input_dim=num_features, output_dim=output_dims, input_length=X.shape[1], weights=[emb_mat], trainable=True),\r\n",
        "      layers.SpatialDropout1D(rate=spatial_dropout_rate),\r\n",
        "      layers.Bidirectional(layers.LSTM(units=lstm_out, dropout=dropout, recurrent_dropout=recurrent_dropout, return_sequences=False)),\r\n",
        "      layers.Dense(units=3, activation='softmax')\r\n",
        "      ])\r\n",
        "  \r\n",
        "  model_info = (lstm_out, 'LSTM')\r\n",
        "  \r\n",
        "  return model1, model_info"
      ],
      "execution_count": null,
      "outputs": []
    },
    {
      "cell_type": "markdown",
      "metadata": {
        "id": "EOKFiF2fvgyq"
      },
      "source": [
        "**LSTM Model 2**"
      ]
    },
    {
      "cell_type": "code",
      "metadata": {
        "id": "4Ya_mmv1vrPR"
      },
      "source": [
        "def Build_LSTM_Model2():\r\n",
        "  output_dims = 200\r\n",
        "  lstm_out = 50\r\n",
        "  dropout=0.6\r\n",
        "  recurrent_dropout=0.6\r\n",
        "  spatial_dropout_rate = 0.6\r\n",
        " \r\n",
        "  model2 = keras.Sequential([\r\n",
        "      layers.Embedding(input_dim=num_features, output_dim=output_dims, input_length=X.shape[1], weights=[emb_mat], trainable=True),\r\n",
        "      layers.SpatialDropout1D(rate=spatial_dropout_rate),\r\n",
        "      layers.Bidirectional(layers.LSTM(units=lstm_out, dropout=dropout, recurrent_dropout=recurrent_dropout, return_sequences=False)),\r\n",
        "      layers.Dense(units=50, activation='relu'),\r\n",
        "      layers.Dense(units=3, activation='softmax')\r\n",
        "      ])\r\n",
        "  \r\n",
        "  model_info = (lstm_out, 'LSTM')\r\n",
        " \r\n",
        "  return model2, model_info"
      ],
      "execution_count": null,
      "outputs": []
    },
    {
      "cell_type": "markdown",
      "metadata": {
        "id": "vPztTzwiwkfx"
      },
      "source": [
        "**LSTM Model 3**"
      ]
    },
    {
      "cell_type": "code",
      "metadata": {
        "id": "3XzsJsnJwmAk"
      },
      "source": [
        "def Build_LSTM_Model3():\r\n",
        "  output_dims = 200\r\n",
        "  lstm_out = 100\r\n",
        "  dropout=0.2\r\n",
        "  recurrent_dropout=0.2\r\n",
        " \r\n",
        "  model3 = keras.Sequential([\r\n",
        "      layers.Embedding(input_dim=num_features, output_dim=output_dims, input_length=X.shape[1], weights=[emb_mat], trainable=True),\r\n",
        "      layers.Bidirectional(layers.LSTM(units=lstm_out, dropout=dropout, recurrent_dropout=recurrent_dropout, return_sequences=False)),\r\n",
        "      layers.Dropout(rate=dropout),\r\n",
        "      layers.Dense(units=3, activation='softmax')\r\n",
        "      ])\r\n",
        "  \r\n",
        "  model_info = (lstm_out, 'LSTM')\r\n",
        " \r\n",
        "  return model3, model_info"
      ],
      "execution_count": null,
      "outputs": []
    },
    {
      "cell_type": "markdown",
      "metadata": {
        "id": "UrBxHUVaxXJF"
      },
      "source": [
        "**LSTM Model 4**"
      ]
    },
    {
      "cell_type": "code",
      "metadata": {
        "id": "vSClozXfxaLh"
      },
      "source": [
        "def Build_LSTM_Model4():\r\n",
        "  output_dims = 200\r\n",
        "  lstm_out = 150\r\n",
        "  dropout=0.3\r\n",
        "  recurrent_dropout=0.3\r\n",
        " \r\n",
        "  model4 = keras.Sequential([\r\n",
        "      layers.Embedding(input_dim=num_features, output_dim=output_dims, input_length=X.shape[1], weights=[emb_mat], trainable=True),\r\n",
        "      layers.Bidirectional(layers.LSTM(units=lstm_out, dropout=dropout, recurrent_dropout=recurrent_dropout, return_sequences=False)),\r\n",
        "      layers.Dense(units=3, activation='softmax')\r\n",
        "      ])\r\n",
        "  \r\n",
        "  model_info = (lstm_out, 'LSTM')\r\n",
        "  \r\n",
        "  return model4, model_info"
      ],
      "execution_count": null,
      "outputs": []
    },
    {
      "cell_type": "markdown",
      "metadata": {
        "id": "HjF1UtdXzhNq"
      },
      "source": [
        "**LSTM Model 5**"
      ]
    },
    {
      "cell_type": "code",
      "metadata": {
        "id": "yaTqOCnHztYw"
      },
      "source": [
        "def Build_LSTM_Model5():\r\n",
        "  output_dims = 200\r\n",
        "  lstm_out = 250\r\n",
        "  dropout=0.5\r\n",
        "  recurrent_dropout=0.5\r\n",
        " \r\n",
        "  model5 = keras.Sequential([\r\n",
        "      layers.Embedding(input_dim=num_features, output_dim=output_dims, input_length=X.shape[1], weights=[emb_mat], trainable=True),\r\n",
        "      layers.Bidirectional(layers.LSTM(units=lstm_out, dropout=dropout, recurrent_dropout=recurrent_dropout, return_sequences=False)),\r\n",
        "      layers.Dense(units=3, activation='softmax')\r\n",
        "      ])\r\n",
        "  \r\n",
        "  model_info = (lstm_out, 'LSTM')\r\n",
        "  \r\n",
        "  return model5, model_info"
      ],
      "execution_count": null,
      "outputs": []
    },
    {
      "cell_type": "markdown",
      "metadata": {
        "id": "A8pcHU3aFj_v"
      },
      "source": [
        "## **CNN Models**"
      ]
    },
    {
      "cell_type": "markdown",
      "metadata": {
        "id": "gQ51GzFxHdE5"
      },
      "source": [
        "**Flat CNN Model 1**"
      ]
    },
    {
      "cell_type": "code",
      "metadata": {
        "id": "bPLCOG16FtM_"
      },
      "source": [
        "def Build_FlatCNN_Model1():\r\n",
        "  INPUT_DIMS = (200, maxlen, 1)\r\n",
        "  REGION_SIZES = [2,3,4]\r\n",
        "  FILTERS_PER_REGION = 8\r\n",
        "  output_dims = 200\r\n",
        "  dropout=0.25\r\n",
        "\r\n",
        "  inputs = keras.Input(shape=(maxlen,), dtype='int32')\r\n",
        "  embedding_layer = layers.Embedding(input_dim=num_features, output_dim=output_dims, weights = [emb_mat], trainable=True)(inputs)\r\n",
        "  parallel_layers = []\r\n",
        "  for size in REGION_SIZES:\r\n",
        "    parallel_layer = keras.layers.Reshape((INPUT_DIMS[0],INPUT_DIMS[1], INPUT_DIMS[2]))(embedding_layer)\r\n",
        "    parallel_layer = keras.layers.Conv2D(FILTERS_PER_REGION, (INPUT_DIMS[0], size), activation='relu')(parallel_layer)\r\n",
        "    parallel_layer = keras.layers.MaxPool2D(pool_size=(1,size))(parallel_layer)\r\n",
        "    parallel_layers.append(parallel_layer)\r\n",
        "  merged = keras.layers.concatenate(parallel_layers, axis=2)\r\n",
        "  flatten = keras.layers.Flatten()(merged)\r\n",
        "  hidden = keras.layers.Dense(FILTERS_PER_REGION * len(REGION_SIZES), activation='relu')(flatten)\r\n",
        "  hidden = keras.layers.Dropout(rate=dropout)(hidden)\r\n",
        "  output = keras.layers.Dense(3, activation= 'softmax')(hidden)\r\n",
        "  model = keras.Model(inputs, output)\r\n",
        "\r\n",
        "  model_info = (REGION_SIZES, 'FLATCNN')\r\n",
        "  return model, model_info\r\n"
      ],
      "execution_count": null,
      "outputs": []
    },
    {
      "cell_type": "markdown",
      "metadata": {
        "id": "DrdEKJp0QHX0"
      },
      "source": [
        "**FLAT CNN Model 2**"
      ]
    },
    {
      "cell_type": "code",
      "metadata": {
        "id": "B7jlMC8hQJza"
      },
      "source": [
        "def Build_FlatCNN_Model2():\r\n",
        "  INPUT_DIMS = (200, maxlen, 1)\r\n",
        "  REGION_SIZES = [3,4,5]\r\n",
        "  FILTERS_PER_REGION = 8\r\n",
        "  output_dims = 200\r\n",
        "  dropout=0.25\r\n",
        "\r\n",
        "  inputs = keras.Input(shape=(maxlen,), dtype='int32')\r\n",
        "  embedding_layer = layers.Embedding(input_dim=num_features, output_dim=output_dims, weights = [emb_mat], trainable=True)(inputs)\r\n",
        "  parallel_layers = []\r\n",
        "  for size in REGION_SIZES:\r\n",
        "    parallel_layer = keras.layers.Reshape((INPUT_DIMS[0],INPUT_DIMS[1], INPUT_DIMS[2]))(embedding_layer)\r\n",
        "    parallel_layer = keras.layers.Conv2D(FILTERS_PER_REGION, (INPUT_DIMS[0], size), activation='relu')(parallel_layer)\r\n",
        "    parallel_layer = keras.layers.MaxPool2D(pool_size=(1,size))(parallel_layer)\r\n",
        "    parallel_layers.append(parallel_layer)\r\n",
        "  merged = keras.layers.concatenate(parallel_layers, axis=2)\r\n",
        "  flatten = keras.layers.Flatten()(merged)\r\n",
        "  hidden = keras.layers.Dense(FILTERS_PER_REGION * len(REGION_SIZES), activation='relu')(flatten)\r\n",
        "  hidden = keras.layers.Dropout(rate=dropout)(hidden)\r\n",
        "  output = keras.layers.Dense(3, activation= 'softmax')(hidden)\r\n",
        "  model = keras.Model(inputs, output)\r\n",
        "\r\n",
        "  model_info = (REGION_SIZES, 'FLATCNN')\r\n",
        "  return model, model_info"
      ],
      "execution_count": null,
      "outputs": []
    },
    {
      "cell_type": "markdown",
      "metadata": {
        "id": "xovwdMkrQSLd"
      },
      "source": [
        "**FLAT CNN Model 3**"
      ]
    },
    {
      "cell_type": "code",
      "metadata": {
        "id": "is9C3zC7QUh8"
      },
      "source": [
        "def Build_FlatCNN_Model3():\r\n",
        "  INPUT_DIMS = (200, maxlen, 1)\r\n",
        "  REGION_SIZES = [5,6,7]\r\n",
        "  FILTERS_PER_REGION = 8\r\n",
        "  output_dims = 200\r\n",
        "  dropout=0.25\r\n",
        "\r\n",
        "  inputs = keras.Input(shape=(maxlen,), dtype='int32')\r\n",
        "  embedding_layer = layers.Embedding(input_dim=num_features, output_dim=output_dims, weights = [emb_mat], trainable=True)(inputs)\r\n",
        "  parallel_layers = []\r\n",
        "  for size in REGION_SIZES:\r\n",
        "    parallel_layer = keras.layers.Reshape((INPUT_DIMS[0],INPUT_DIMS[1], INPUT_DIMS[2]))(embedding_layer)\r\n",
        "    parallel_layer = keras.layers.Conv2D(FILTERS_PER_REGION, (INPUT_DIMS[0], size), activation='relu')(parallel_layer)\r\n",
        "    parallel_layer = keras.layers.MaxPool2D(pool_size=(1,size))(parallel_layer)\r\n",
        "    parallel_layers.append(parallel_layer)\r\n",
        "  merged = keras.layers.concatenate(parallel_layers, axis=2)\r\n",
        "  flatten = keras.layers.Flatten()(merged)\r\n",
        "  hidden = keras.layers.Dense(FILTERS_PER_REGION * len(REGION_SIZES), activation='relu')(flatten)\r\n",
        "  hidden = keras.layers.Dropout(rate=dropout)(hidden)\r\n",
        "  output = keras.layers.Dense(3, activation= 'softmax')(hidden)\r\n",
        "  model = keras.Model(inputs, output)\r\n",
        "\r\n",
        "  model_info = (REGION_SIZES, 'FLATCNN')\r\n",
        "  return model, model_info"
      ],
      "execution_count": null,
      "outputs": []
    },
    {
      "cell_type": "markdown",
      "metadata": {
        "id": "vmPUO-goQYQb"
      },
      "source": [
        "**FLAT CNN Model 4**"
      ]
    },
    {
      "cell_type": "code",
      "metadata": {
        "id": "VD9eigSvQanS"
      },
      "source": [
        "def Build_FlatCNN_Model4():\r\n",
        "  INPUT_DIMS = (200, maxlen, 1)\r\n",
        "  REGION_SIZES = [7,8,9]\r\n",
        "  FILTERS_PER_REGION = 8\r\n",
        "  output_dims = 200\r\n",
        "  dropout=0.25\r\n",
        "\r\n",
        "  inputs = keras.Input(shape=(maxlen,), dtype='int32')\r\n",
        "  embedding_layer = layers.Embedding(input_dim=num_features, output_dim=output_dims, weights = [emb_mat], trainable=True)(inputs)\r\n",
        "  parallel_layers = []\r\n",
        "  for size in REGION_SIZES:\r\n",
        "    parallel_layer = keras.layers.Reshape((INPUT_DIMS[0],INPUT_DIMS[1], INPUT_DIMS[2]))(embedding_layer)\r\n",
        "    parallel_layer = keras.layers.Conv2D(FILTERS_PER_REGION, (INPUT_DIMS[0], size), activation='relu')(parallel_layer)\r\n",
        "    parallel_layer = keras.layers.MaxPool2D(pool_size=(1,size))(parallel_layer)\r\n",
        "    parallel_layers.append(parallel_layer)\r\n",
        "  merged = keras.layers.concatenate(parallel_layers, axis=2)\r\n",
        "  flatten = keras.layers.Flatten()(merged)\r\n",
        "  hidden = keras.layers.Dense(FILTERS_PER_REGION * len(REGION_SIZES), activation='relu')(flatten)\r\n",
        "  hidden = keras.layers.Dropout(rate=dropout)(hidden)\r\n",
        "  output = keras.layers.Dense(3, activation= 'softmax')(hidden)\r\n",
        "  model = keras.Model(inputs, output)\r\n",
        "\r\n",
        "  model_info = (REGION_SIZES, 'FLATCNN')\r\n",
        "  return model, model_info"
      ],
      "execution_count": null,
      "outputs": []
    },
    {
      "cell_type": "markdown",
      "metadata": {
        "id": "vCgXBv3yQdpk"
      },
      "source": [
        "**FLAT CNN Model 5**"
      ]
    },
    {
      "cell_type": "code",
      "metadata": {
        "id": "bM1WyF-SQfnK"
      },
      "source": [
        "def Build_FlatCNN_Model5():\r\n",
        "  INPUT_DIMS = (200, maxlen, 1)\r\n",
        "  REGION_SIZES = [9,10,11]\r\n",
        "  FILTERS_PER_REGION = 8\r\n",
        "  output_dims = 200\r\n",
        "  dropout=0.25\r\n",
        "\r\n",
        "  inputs = keras.Input(shape=(maxlen,), dtype='int32')\r\n",
        "  embedding_layer = layers.Embedding(input_dim=num_features, output_dim=output_dims, weights = [emb_mat], trainable=True)(inputs)\r\n",
        "  parallel_layers = []\r\n",
        "  for size in REGION_SIZES:\r\n",
        "    parallel_layer = keras.layers.Reshape((INPUT_DIMS[0],INPUT_DIMS[1], INPUT_DIMS[2]))(embedding_layer)\r\n",
        "    parallel_layer = keras.layers.Conv2D(FILTERS_PER_REGION, (INPUT_DIMS[0], size), activation='relu')(parallel_layer)\r\n",
        "    parallel_layer = keras.layers.MaxPool2D(pool_size=(1,size))(parallel_layer)\r\n",
        "    parallel_layers.append(parallel_layer)\r\n",
        "  merged = keras.layers.concatenate(parallel_layers, axis=2)\r\n",
        "  flatten = keras.layers.Flatten()(merged)\r\n",
        "  hidden = keras.layers.Dense(FILTERS_PER_REGION * len(REGION_SIZES), activation='relu')(flatten)\r\n",
        "  hidden = keras.layers.Dropout(rate=dropout)(hidden)\r\n",
        "  output = keras.layers.Dense(3, activation= 'softmax')(hidden)\r\n",
        "  model = keras.Model(inputs, output)\r\n",
        "\r\n",
        "  model_info = (REGION_SIZES, 'FLATCNN')\r\n",
        "  return model, model_info"
      ],
      "execution_count": null,
      "outputs": []
    },
    {
      "cell_type": "markdown",
      "metadata": {
        "id": "T9zSsDyA04oS"
      },
      "source": [
        "# **Train Models**"
      ]
    },
    {
      "cell_type": "markdown",
      "metadata": {
        "id": "JJ8v5mV-P20n"
      },
      "source": [
        "**Change directory to save models**"
      ]
    },
    {
      "cell_type": "code",
      "metadata": {
        "id": "Y-ceVtkrP16z"
      },
      "source": [
        "os.chdir(\"/content/drive/MyDrive/SentimentAnalysis/Models\")"
      ],
      "execution_count": null,
      "outputs": []
    },
    {
      "cell_type": "markdown",
      "metadata": {
        "id": "IH4aKwr66fPA"
      },
      "source": [
        "**Model Generator**"
      ]
    },
    {
      "cell_type": "code",
      "metadata": {
        "id": "39TlRQ3i6Obw"
      },
      "source": [
        "def model_gen(model_functions, metrics, callbacks):\r\n",
        "  models =[]\r\n",
        "  histories = []\r\n",
        "\r\n",
        "  for model_fn in model_functions:\r\n",
        "    model, model_info = model_fn()\r\n",
        "\r\n",
        "    model_checkpoint = keras.callbacks.ModelCheckpoint(\r\n",
        "        filepath=model_info[1] + str(model_info[0]) + '.h5',\r\n",
        "        save_weights_only=False,\r\n",
        "        monitor='val_f1_metrics',\r\n",
        "        mode='max',\r\n",
        "        save_best_only=True,\r\n",
        "        save_freq='epoch'\r\n",
        "        )\r\n",
        "    callbacks.append(model_checkpoint)\r\n",
        "\r\n",
        "    model.compile(optimizer='adam',\r\n",
        "                  loss=keras.losses.CategoricalCrossentropy(),\r\n",
        "                  metrics=metrics\r\n",
        "                  )\r\n",
        "\r\n",
        "    history = model.fit(X_train,\r\n",
        "                        Y_train,\r\n",
        "                        batch_size=3000,\r\n",
        "                        epochs=20,\r\n",
        "                        validation_data=(X_val,Y_val),\r\n",
        "                        shuffle=True,\r\n",
        "                        callbacks=callbacks\r\n",
        "                        )\r\n",
        "    \r\n",
        "    models.append(model)\r\n",
        "    histories.append(history)\r\n",
        "\r\n",
        "  return models, histories"
      ],
      "execution_count": null,
      "outputs": []
    },
    {
      "cell_type": "markdown",
      "metadata": {
        "id": "-LKH7acSC7zi"
      },
      "source": [
        "**Training LSTM**"
      ]
    },
    {
      "cell_type": "code",
      "metadata": {
        "colab": {
          "base_uri": "https://localhost:8080/"
        },
        "id": "-itBySdaC0VI",
        "outputId": "d3c1a88b-41af-4f36-d244-9daaea1562a8"
      },
      "source": [
        "model_functions = [Build_LSTM_Model1, Build_LSTM_Model2, Build_LSTM_Model3, Build_LSTM_Model4, Build_LSTM_Model5]\r\n",
        "callbacks = [early_stopping_callback, reduce_lr_callback]\r\n",
        "lstm_models, lstm_histories = model_gen(model_functions=model_functions,metrics=metrics, callbacks=callbacks)"
      ],
      "execution_count": null,
      "outputs": [
        {
          "output_type": "stream",
          "text": [
            "WARNING:tensorflow:Layer lstm will not use cuDNN kernel since it doesn't meet the cuDNN kernel criteria. It will use generic GPU kernel as fallback when running on GPU\n",
            "WARNING:tensorflow:Layer lstm will not use cuDNN kernel since it doesn't meet the cuDNN kernel criteria. It will use generic GPU kernel as fallback when running on GPU\n",
            "WARNING:tensorflow:Layer lstm will not use cuDNN kernel since it doesn't meet the cuDNN kernel criteria. It will use generic GPU kernel as fallback when running on GPU\n",
            "Epoch 1/20\n",
            "31/31 [==============================] - 49s 1s/step - loss: 0.9989 - categorical_accuracy: 0.4823 - precision: 0.5745 - recall: 0.1900 - f1_metrics: 0.2522 - val_loss: 0.8032 - val_categorical_accuracy: 0.6311 - val_precision: 0.6599 - val_recall: 0.5807 - val_f1_metrics: 0.6193\n",
            "Epoch 2/20\n",
            "31/31 [==============================] - 38s 1s/step - loss: 0.8207 - categorical_accuracy: 0.6164 - precision: 0.6622 - recall: 0.5260 - f1_metrics: 0.5863 - val_loss: 0.7320 - val_categorical_accuracy: 0.6717 - val_precision: 0.6984 - val_recall: 0.6270 - val_f1_metrics: 0.6615\n",
            "Epoch 3/20\n",
            "31/31 [==============================] - 38s 1s/step - loss: 0.7663 - categorical_accuracy: 0.6516 - precision: 0.6929 - recall: 0.5741 - f1_metrics: 0.6279 - val_loss: 0.7037 - val_categorical_accuracy: 0.6861 - val_precision: 0.7133 - val_recall: 0.6511 - val_f1_metrics: 0.6814\n",
            "Epoch 4/20\n",
            "31/31 [==============================] - 38s 1s/step - loss: 0.7338 - categorical_accuracy: 0.6687 - precision: 0.7121 - recall: 0.5967 - f1_metrics: 0.6493 - val_loss: 0.6814 - val_categorical_accuracy: 0.6980 - val_precision: 0.7219 - val_recall: 0.6581 - val_f1_metrics: 0.6896\n",
            "Epoch 5/20\n",
            "31/31 [==============================] - 38s 1s/step - loss: 0.7057 - categorical_accuracy: 0.6849 - precision: 0.7225 - recall: 0.6184 - f1_metrics: 0.6664 - val_loss: 0.6797 - val_categorical_accuracy: 0.6995 - val_precision: 0.7209 - val_recall: 0.6691 - val_f1_metrics: 0.6965\n",
            "Epoch 6/20\n",
            "31/31 [==============================] - 39s 1s/step - loss: 0.6808 - categorical_accuracy: 0.6965 - precision: 0.7323 - recall: 0.6386 - f1_metrics: 0.6823 - val_loss: 0.6521 - val_categorical_accuracy: 0.7073 - val_precision: 0.7331 - val_recall: 0.6713 - val_f1_metrics: 0.7025\n",
            "Epoch 7/20\n",
            "31/31 [==============================] - 38s 1s/step - loss: 0.6663 - categorical_accuracy: 0.7037 - precision: 0.7381 - recall: 0.6499 - f1_metrics: 0.6912 - val_loss: 0.6626 - val_categorical_accuracy: 0.7065 - val_precision: 0.7300 - val_recall: 0.6777 - val_f1_metrics: 0.7050\n",
            "\n",
            "Epoch 00007: ReduceLROnPlateau reducing learning rate to 0.0005000000237487257.\n",
            "Epoch 8/20\n",
            "31/31 [==============================] - 38s 1s/step - loss: 0.6480 - categorical_accuracy: 0.7125 - precision: 0.7452 - recall: 0.6620 - f1_metrics: 0.7011 - val_loss: 0.6566 - val_categorical_accuracy: 0.7159 - val_precision: 0.7320 - val_recall: 0.6932 - val_f1_metrics: 0.7162\n",
            "Epoch 9/20\n",
            "31/31 [==============================] - 38s 1s/step - loss: 0.6354 - categorical_accuracy: 0.7229 - precision: 0.7532 - recall: 0.6776 - f1_metrics: 0.7134 - val_loss: 0.6474 - val_categorical_accuracy: 0.7165 - val_precision: 0.7349 - val_recall: 0.6932 - val_f1_metrics: 0.7157\n",
            "Epoch 10/20\n",
            "31/31 [==============================] - 38s 1s/step - loss: 0.6236 - categorical_accuracy: 0.7272 - precision: 0.7550 - recall: 0.6841 - f1_metrics: 0.7178 - val_loss: 0.6486 - val_categorical_accuracy: 0.7200 - val_precision: 0.7376 - val_recall: 0.6975 - val_f1_metrics: 0.7191\n",
            "Epoch 11/20\n",
            "31/31 [==============================] - 38s 1s/step - loss: 0.6181 - categorical_accuracy: 0.7281 - precision: 0.7563 - recall: 0.6861 - f1_metrics: 0.7195 - val_loss: 0.6428 - val_categorical_accuracy: 0.7204 - val_precision: 0.7362 - val_recall: 0.6986 - val_f1_metrics: 0.7188\n",
            "Epoch 12/20\n",
            "31/31 [==============================] - 38s 1s/step - loss: 0.6116 - categorical_accuracy: 0.7337 - precision: 0.7609 - recall: 0.6931 - f1_metrics: 0.7254 - val_loss: 0.6406 - val_categorical_accuracy: 0.7205 - val_precision: 0.7381 - val_recall: 0.6976 - val_f1_metrics: 0.7199\n",
            "\n",
            "Epoch 00012: ReduceLROnPlateau reducing learning rate to 0.0002500000118743628.\n",
            "Epoch 13/20\n",
            "31/31 [==============================] - 38s 1s/step - loss: 0.6007 - categorical_accuracy: 0.7396 - precision: 0.7673 - recall: 0.6989 - f1_metrics: 0.7315 - val_loss: 0.6448 - val_categorical_accuracy: 0.7221 - val_precision: 0.7387 - val_recall: 0.7009 - val_f1_metrics: 0.7213\n",
            "Epoch 14/20\n",
            "31/31 [==============================] - 38s 1s/step - loss: 0.5966 - categorical_accuracy: 0.7402 - precision: 0.7664 - recall: 0.7017 - f1_metrics: 0.7326 - val_loss: 0.6398 - val_categorical_accuracy: 0.7223 - val_precision: 0.7390 - val_recall: 0.6997 - val_f1_metrics: 0.7211\n",
            "Epoch 15/20\n",
            "31/31 [==============================] - 38s 1s/step - loss: 0.5938 - categorical_accuracy: 0.7406 - precision: 0.7668 - recall: 0.7011 - f1_metrics: 0.7325 - val_loss: 0.6327 - val_categorical_accuracy: 0.7268 - val_precision: 0.7428 - val_recall: 0.7020 - val_f1_metrics: 0.7249\n",
            "Epoch 16/20\n",
            "31/31 [==============================] - 38s 1s/step - loss: 0.5935 - categorical_accuracy: 0.7450 - precision: 0.7706 - recall: 0.7059 - f1_metrics: 0.7369 - val_loss: 0.6394 - val_categorical_accuracy: 0.7264 - val_precision: 0.7414 - val_recall: 0.7075 - val_f1_metrics: 0.7269\n",
            "\n",
            "Epoch 00016: ReduceLROnPlateau reducing learning rate to 0.0001250000059371814.\n",
            "Epoch 17/20\n",
            "31/31 [==============================] - 38s 1s/step - loss: 0.5883 - categorical_accuracy: 0.7454 - precision: 0.7705 - recall: 0.7093 - f1_metrics: 0.7386 - val_loss: 0.6373 - val_categorical_accuracy: 0.7271 - val_precision: 0.7424 - val_recall: 0.7051 - val_f1_metrics: 0.7261\n",
            "Epoch 18/20\n",
            "31/31 [==============================] - 38s 1s/step - loss: 0.5844 - categorical_accuracy: 0.7472 - precision: 0.7732 - recall: 0.7098 - f1_metrics: 0.7401 - val_loss: 0.6390 - val_categorical_accuracy: 0.7284 - val_precision: 0.7426 - val_recall: 0.7105 - val_f1_metrics: 0.7292\n",
            "WARNING:tensorflow:Layer lstm_1 will not use cuDNN kernel since it doesn't meet the cuDNN kernel criteria. It will use generic GPU kernel as fallback when running on GPU\n",
            "WARNING:tensorflow:Layer lstm_1 will not use cuDNN kernel since it doesn't meet the cuDNN kernel criteria. It will use generic GPU kernel as fallback when running on GPU\n",
            "WARNING:tensorflow:Layer lstm_1 will not use cuDNN kernel since it doesn't meet the cuDNN kernel criteria. It will use generic GPU kernel as fallback when running on GPU\n",
            "Epoch 1/20\n",
            "31/31 [==============================] - 32s 846ms/step - loss: 1.0838 - categorical_accuracy: 0.4659 - precision: 0.7287 - recall: 0.1745 - f1_metrics: 0.0138 - val_loss: 0.9857 - val_categorical_accuracy: 0.5148 - val_precision: 0.6926 - val_recall: 0.1775 - val_f1_metrics: 0.2825\n",
            "Epoch 2/20\n",
            "31/31 [==============================] - 25s 810ms/step - loss: 0.9892 - categorical_accuracy: 0.4910 - precision: 0.6028 - recall: 0.1935 - f1_metrics: 0.2844 - val_loss: 0.8890 - val_categorical_accuracy: 0.5885 - val_precision: 0.6101 - val_recall: 0.5255 - val_f1_metrics: 0.5642\n",
            "Epoch 3/20\n",
            "31/31 [==============================] - 25s 799ms/step - loss: 0.9071 - categorical_accuracy: 0.5599 - precision: 0.6217 - recall: 0.4117 - f1_metrics: 0.4952 - val_loss: 0.8655 - val_categorical_accuracy: 0.6054 - val_precision: 0.6249 - val_recall: 0.5735 - val_f1_metrics: 0.5989\n",
            "Epoch 4/20\n",
            "31/31 [==============================] - 25s 811ms/step - loss: 0.8628 - categorical_accuracy: 0.5931 - precision: 0.6491 - recall: 0.4717 - f1_metrics: 0.5463 - val_loss: 0.8577 - val_categorical_accuracy: 0.6153 - val_precision: 0.6292 - val_recall: 0.5908 - val_f1_metrics: 0.6111\n",
            "Epoch 5/20\n",
            "31/31 [==============================] - 25s 819ms/step - loss: 0.8373 - categorical_accuracy: 0.6099 - precision: 0.6602 - recall: 0.5036 - f1_metrics: 0.5713 - val_loss: 0.8324 - val_categorical_accuracy: 0.6289 - val_precision: 0.6453 - val_recall: 0.6031 - val_f1_metrics: 0.6244\n",
            "Epoch 6/20\n",
            "31/31 [==============================] - 25s 808ms/step - loss: 0.8178 - categorical_accuracy: 0.6214 - precision: 0.6720 - recall: 0.5169 - f1_metrics: 0.5843 - val_loss: 0.8045 - val_categorical_accuracy: 0.6436 - val_precision: 0.6596 - val_recall: 0.6216 - val_f1_metrics: 0.6406\n",
            "Epoch 7/20\n",
            "31/31 [==============================] - 25s 815ms/step - loss: 0.7965 - categorical_accuracy: 0.6334 - precision: 0.6812 - recall: 0.5442 - f1_metrics: 0.6050 - val_loss: 0.7973 - val_categorical_accuracy: 0.6507 - val_precision: 0.6637 - val_recall: 0.6293 - val_f1_metrics: 0.6462\n",
            "Epoch 8/20\n",
            "31/31 [==============================] - 25s 808ms/step - loss: 0.7810 - categorical_accuracy: 0.6410 - precision: 0.6873 - recall: 0.5574 - f1_metrics: 0.6155 - val_loss: 0.7929 - val_categorical_accuracy: 0.6526 - val_precision: 0.6661 - val_recall: 0.6321 - val_f1_metrics: 0.6494\n",
            "Epoch 9/20\n",
            "31/31 [==============================] - 25s 810ms/step - loss: 0.7638 - categorical_accuracy: 0.6520 - precision: 0.6978 - recall: 0.5702 - f1_metrics: 0.6276 - val_loss: 0.7777 - val_categorical_accuracy: 0.6649 - val_precision: 0.6784 - val_recall: 0.6474 - val_f1_metrics: 0.6638\n",
            "Epoch 10/20\n",
            "31/31 [==============================] - 25s 814ms/step - loss: 0.7523 - categorical_accuracy: 0.6591 - precision: 0.7028 - recall: 0.5822 - f1_metrics: 0.6368 - val_loss: 0.7549 - val_categorical_accuracy: 0.6768 - val_precision: 0.6918 - val_recall: 0.6562 - val_f1_metrics: 0.6743\n",
            "Epoch 11/20\n",
            "31/31 [==============================] - 25s 795ms/step - loss: 0.7376 - categorical_accuracy: 0.6654 - precision: 0.7080 - recall: 0.5923 - f1_metrics: 0.6450 - val_loss: 0.7466 - val_categorical_accuracy: 0.6836 - val_precision: 0.6980 - val_recall: 0.6628 - val_f1_metrics: 0.6807\n",
            "Epoch 12/20\n",
            "31/31 [==============================] - 25s 810ms/step - loss: 0.7327 - categorical_accuracy: 0.6699 - precision: 0.7120 - recall: 0.5972 - f1_metrics: 0.6495 - val_loss: 0.7269 - val_categorical_accuracy: 0.6847 - val_precision: 0.6994 - val_recall: 0.6602 - val_f1_metrics: 0.6813\n",
            "Epoch 13/20\n",
            "31/31 [==============================] - 25s 807ms/step - loss: 0.7148 - categorical_accuracy: 0.6795 - precision: 0.7219 - recall: 0.6092 - f1_metrics: 0.6607 - val_loss: 0.7253 - val_categorical_accuracy: 0.6884 - val_precision: 0.7006 - val_recall: 0.6673 - val_f1_metrics: 0.6848\n",
            "Epoch 14/20\n",
            "31/31 [==============================] - 25s 809ms/step - loss: 0.7071 - categorical_accuracy: 0.6840 - precision: 0.7233 - recall: 0.6204 - f1_metrics: 0.6679 - val_loss: 0.7075 - val_categorical_accuracy: 0.6934 - val_precision: 0.7089 - val_recall: 0.6724 - val_f1_metrics: 0.6918\n",
            "Epoch 15/20\n",
            "31/31 [==============================] - 25s 810ms/step - loss: 0.6982 - categorical_accuracy: 0.6882 - precision: 0.7270 - recall: 0.6256 - f1_metrics: 0.6725 - val_loss: 0.7038 - val_categorical_accuracy: 0.6923 - val_precision: 0.7083 - val_recall: 0.6696 - val_f1_metrics: 0.6904\n",
            "\n",
            "Epoch 00015: ReduceLROnPlateau reducing learning rate to 0.0005000000237487257.\n",
            "Epoch 16/20\n",
            "31/31 [==============================] - 24s 779ms/step - loss: 0.6887 - categorical_accuracy: 0.6938 - precision: 0.7305 - recall: 0.6318 - f1_metrics: 0.6776 - val_loss: 0.6972 - val_categorical_accuracy: 0.6979 - val_precision: 0.7145 - val_recall: 0.6788 - val_f1_metrics: 0.6983\n",
            "Epoch 17/20\n",
            "31/31 [==============================] - 25s 798ms/step - loss: 0.6870 - categorical_accuracy: 0.6963 - precision: 0.7326 - recall: 0.6353 - f1_metrics: 0.6805 - val_loss: 0.7017 - val_categorical_accuracy: 0.6982 - val_precision: 0.7153 - val_recall: 0.6785 - val_f1_metrics: 0.6991\n",
            "Epoch 18/20\n",
            "31/31 [==============================] - 25s 800ms/step - loss: 0.6844 - categorical_accuracy: 0.6973 - precision: 0.7328 - recall: 0.6364 - f1_metrics: 0.6812 - val_loss: 0.6982 - val_categorical_accuracy: 0.7014 - val_precision: 0.7174 - val_recall: 0.6822 - val_f1_metrics: 0.7022\n",
            "Epoch 19/20\n",
            "31/31 [==============================] - 25s 798ms/step - loss: 0.6747 - categorical_accuracy: 0.6996 - precision: 0.7356 - recall: 0.6431 - f1_metrics: 0.6862 - val_loss: 0.6881 - val_categorical_accuracy: 0.7036 - val_precision: 0.7197 - val_recall: 0.6820 - val_f1_metrics: 0.7024\n",
            "Epoch 20/20\n",
            "31/31 [==============================] - 25s 793ms/step - loss: 0.6703 - categorical_accuracy: 0.7023 - precision: 0.7381 - recall: 0.6488 - f1_metrics: 0.6906 - val_loss: 0.6864 - val_categorical_accuracy: 0.7047 - val_precision: 0.7209 - val_recall: 0.6841 - val_f1_metrics: 0.7045\n",
            "WARNING:tensorflow:Layer lstm_2 will not use cuDNN kernel since it doesn't meet the cuDNN kernel criteria. It will use generic GPU kernel as fallback when running on GPU\n",
            "WARNING:tensorflow:Layer lstm_2 will not use cuDNN kernel since it doesn't meet the cuDNN kernel criteria. It will use generic GPU kernel as fallback when running on GPU\n",
            "WARNING:tensorflow:Layer lstm_2 will not use cuDNN kernel since it doesn't meet the cuDNN kernel criteria. It will use generic GPU kernel as fallback when running on GPU\n",
            "Epoch 1/20\n",
            "31/31 [==============================] - 35s 951ms/step - loss: 1.0011 - categorical_accuracy: 0.5426 - precision: 0.6839 - recall: 0.2997 - f1_metrics: 0.2212 - val_loss: 0.7825 - val_categorical_accuracy: 0.6414 - val_precision: 0.6788 - val_recall: 0.5677 - val_f1_metrics: 0.6190\n",
            "Epoch 2/20\n",
            "31/31 [==============================] - 29s 923ms/step - loss: 0.7613 - categorical_accuracy: 0.6522 - precision: 0.6937 - recall: 0.5807 - f1_metrics: 0.6321 - val_loss: 0.7005 - val_categorical_accuracy: 0.6822 - val_precision: 0.7163 - val_recall: 0.6280 - val_f1_metrics: 0.6708\n",
            "Epoch 3/20\n",
            "31/31 [==============================] - 28s 919ms/step - loss: 0.6884 - categorical_accuracy: 0.6936 - precision: 0.7283 - recall: 0.6382 - f1_metrics: 0.6802 - val_loss: 0.6799 - val_categorical_accuracy: 0.6969 - val_precision: 0.7234 - val_recall: 0.6590 - val_f1_metrics: 0.6926\n",
            "Epoch 4/20\n",
            "31/31 [==============================] - 28s 917ms/step - loss: 0.6401 - categorical_accuracy: 0.7200 - precision: 0.7496 - recall: 0.6744 - f1_metrics: 0.7100 - val_loss: 0.6567 - val_categorical_accuracy: 0.7078 - val_precision: 0.7338 - val_recall: 0.6779 - val_f1_metrics: 0.7076\n",
            "Epoch 5/20\n",
            "31/31 [==============================] - 29s 941ms/step - loss: 0.6027 - categorical_accuracy: 0.7394 - precision: 0.7652 - recall: 0.6994 - f1_metrics: 0.7308 - val_loss: 0.6478 - val_categorical_accuracy: 0.7154 - val_precision: 0.7364 - val_recall: 0.6876 - val_f1_metrics: 0.7151\n",
            "Epoch 6/20\n",
            "31/31 [==============================] - 30s 959ms/step - loss: 0.5687 - categorical_accuracy: 0.7579 - precision: 0.7804 - recall: 0.7253 - f1_metrics: 0.7519 - val_loss: 0.6481 - val_categorical_accuracy: 0.7155 - val_precision: 0.7365 - val_recall: 0.6929 - val_f1_metrics: 0.7173\n",
            "\n",
            "Epoch 00006: ReduceLROnPlateau reducing learning rate to 0.0005000000237487257.\n",
            "Epoch 7/20\n",
            "31/31 [==============================] - 30s 961ms/step - loss: 0.5380 - categorical_accuracy: 0.7720 - precision: 0.7926 - recall: 0.7437 - f1_metrics: 0.7674 - val_loss: 0.6552 - val_categorical_accuracy: 0.7173 - val_precision: 0.7334 - val_recall: 0.6977 - val_f1_metrics: 0.7177\n",
            "Epoch 8/20\n",
            "31/31 [==============================] - 30s 971ms/step - loss: 0.5170 - categorical_accuracy: 0.7825 - precision: 0.8020 - recall: 0.7561 - f1_metrics: 0.7784 - val_loss: 0.6604 - val_categorical_accuracy: 0.7181 - val_precision: 0.7334 - val_recall: 0.6964 - val_f1_metrics: 0.7161\n",
            "WARNING:tensorflow:Layer lstm_3 will not use cuDNN kernel since it doesn't meet the cuDNN kernel criteria. It will use generic GPU kernel as fallback when running on GPU\n",
            "WARNING:tensorflow:Layer lstm_3 will not use cuDNN kernel since it doesn't meet the cuDNN kernel criteria. It will use generic GPU kernel as fallback when running on GPU\n",
            "WARNING:tensorflow:Layer lstm_3 will not use cuDNN kernel since it doesn't meet the cuDNN kernel criteria. It will use generic GPU kernel as fallback when running on GPU\n",
            "Epoch 1/20\n",
            "31/31 [==============================] - 41s 1s/step - loss: 0.9535 - categorical_accuracy: 0.5769 - precision: 0.6968 - recall: 0.3528 - f1_metrics: 0.2769 - val_loss: 0.7513 - val_categorical_accuracy: 0.6533 - val_precision: 0.6932 - val_recall: 0.5917 - val_f1_metrics: 0.6393\n",
            "Epoch 2/20\n",
            "31/31 [==============================] - 33s 1s/step - loss: 0.7402 - categorical_accuracy: 0.6634 - precision: 0.7034 - recall: 0.5934 - f1_metrics: 0.6437 - val_loss: 0.7020 - val_categorical_accuracy: 0.6846 - val_precision: 0.7125 - val_recall: 0.6370 - val_f1_metrics: 0.6749\n",
            "Epoch 3/20\n",
            "31/31 [==============================] - 33s 1s/step - loss: 0.6822 - categorical_accuracy: 0.6957 - precision: 0.7284 - recall: 0.6382 - f1_metrics: 0.6803 - val_loss: 0.6692 - val_categorical_accuracy: 0.7011 - val_precision: 0.7301 - val_recall: 0.6555 - val_f1_metrics: 0.6945\n",
            "Epoch 4/20\n",
            "31/31 [==============================] - 33s 1s/step - loss: 0.6385 - categorical_accuracy: 0.7221 - precision: 0.7528 - recall: 0.6714 - f1_metrics: 0.7098 - val_loss: 0.6642 - val_categorical_accuracy: 0.7050 - val_precision: 0.7281 - val_recall: 0.6698 - val_f1_metrics: 0.6996\n",
            "Epoch 5/20\n",
            "31/31 [==============================] - 33s 1s/step - loss: 0.6003 - categorical_accuracy: 0.7395 - precision: 0.7660 - recall: 0.7001 - f1_metrics: 0.7316 - val_loss: 0.6501 - val_categorical_accuracy: 0.7156 - val_precision: 0.7352 - val_recall: 0.6905 - val_f1_metrics: 0.7150\n",
            "Epoch 6/20\n",
            "31/31 [==============================] - 32s 1s/step - loss: 0.5705 - categorical_accuracy: 0.7539 - precision: 0.7777 - recall: 0.7216 - f1_metrics: 0.7486 - val_loss: 0.6536 - val_categorical_accuracy: 0.7130 - val_precision: 0.7309 - val_recall: 0.6921 - val_f1_metrics: 0.7138\n",
            "\n",
            "Epoch 00006: ReduceLROnPlateau reducing learning rate to 0.0005000000237487257.\n",
            "Epoch 7/20\n",
            "31/31 [==============================] - 32s 1s/step - loss: 0.5425 - categorical_accuracy: 0.7695 - precision: 0.7926 - recall: 0.7407 - f1_metrics: 0.7658 - val_loss: 0.6531 - val_categorical_accuracy: 0.7205 - val_precision: 0.7366 - val_recall: 0.7001 - val_f1_metrics: 0.7212\n",
            "Epoch 8/20\n",
            "31/31 [==============================] - 33s 1s/step - loss: 0.5248 - categorical_accuracy: 0.7803 - precision: 0.7999 - recall: 0.7539 - f1_metrics: 0.7762 - val_loss: 0.6567 - val_categorical_accuracy: 0.7201 - val_precision: 0.7355 - val_recall: 0.7012 - val_f1_metrics: 0.7212\n",
            "\n",
            "Epoch 00008: ReduceLROnPlateau reducing learning rate to 0.0002500000118743628.\n",
            "WARNING:tensorflow:Layer lstm_4 will not use cuDNN kernel since it doesn't meet the cuDNN kernel criteria. It will use generic GPU kernel as fallback when running on GPU\n",
            "WARNING:tensorflow:Layer lstm_4 will not use cuDNN kernel since it doesn't meet the cuDNN kernel criteria. It will use generic GPU kernel as fallback when running on GPU\n",
            "WARNING:tensorflow:Layer lstm_4 will not use cuDNN kernel since it doesn't meet the cuDNN kernel criteria. It will use generic GPU kernel as fallback when running on GPU\n",
            "Epoch 1/20\n",
            "31/31 [==============================] - 49s 1s/step - loss: 0.9736 - categorical_accuracy: 0.5710 - precision: 0.6908 - recall: 0.3583 - f1_metrics: 0.2929 - val_loss: 0.7532 - val_categorical_accuracy: 0.6545 - val_precision: 0.6941 - val_recall: 0.5784 - val_f1_metrics: 0.6310\n",
            "Epoch 2/20\n",
            "31/31 [==============================] - 41s 1s/step - loss: 0.7696 - categorical_accuracy: 0.6489 - precision: 0.6944 - recall: 0.5683 - f1_metrics: 0.6250 - val_loss: 0.7075 - val_categorical_accuracy: 0.6818 - val_precision: 0.7200 - val_recall: 0.6251 - val_f1_metrics: 0.6697\n",
            "Epoch 3/20\n",
            "31/31 [==============================] - 41s 1s/step - loss: 0.7135 - categorical_accuracy: 0.6790 - precision: 0.7166 - recall: 0.6120 - f1_metrics: 0.6601 - val_loss: 0.6786 - val_categorical_accuracy: 0.6926 - val_precision: 0.7216 - val_recall: 0.6536 - val_f1_metrics: 0.6879\n",
            "Epoch 4/20\n",
            "31/31 [==============================] - 41s 1s/step - loss: 0.6709 - categorical_accuracy: 0.7008 - precision: 0.7354 - recall: 0.6459 - f1_metrics: 0.6877 - val_loss: 0.6664 - val_categorical_accuracy: 0.7007 - val_precision: 0.7261 - val_recall: 0.6629 - val_f1_metrics: 0.6946\n",
            "Epoch 5/20\n",
            "31/31 [==============================] - 40s 1s/step - loss: 0.6400 - categorical_accuracy: 0.7203 - precision: 0.7508 - recall: 0.6734 - f1_metrics: 0.7100 - val_loss: 0.6463 - val_categorical_accuracy: 0.7133 - val_precision: 0.7370 - val_recall: 0.6805 - val_f1_metrics: 0.7102\n",
            "Epoch 6/20\n",
            "31/31 [==============================] - 40s 1s/step - loss: 0.6094 - categorical_accuracy: 0.7357 - precision: 0.7625 - recall: 0.6945 - f1_metrics: 0.7269 - val_loss: 0.6499 - val_categorical_accuracy: 0.7167 - val_precision: 0.7373 - val_recall: 0.6887 - val_f1_metrics: 0.7145\n",
            "Epoch 7/20\n",
            "31/31 [==============================] - 40s 1s/step - loss: 0.5831 - categorical_accuracy: 0.7480 - precision: 0.7748 - recall: 0.7118 - f1_metrics: 0.7419 - val_loss: 0.6555 - val_categorical_accuracy: 0.7146 - val_precision: 0.7312 - val_recall: 0.6928 - val_f1_metrics: 0.7141\n",
            "\n",
            "Epoch 00007: ReduceLROnPlateau reducing learning rate to 0.0005000000237487257.\n",
            "Epoch 8/20\n",
            "31/31 [==============================] - 40s 1s/step - loss: 0.5601 - categorical_accuracy: 0.7614 - precision: 0.7848 - recall: 0.7279 - f1_metrics: 0.7553 - val_loss: 0.6504 - val_categorical_accuracy: 0.7237 - val_precision: 0.7363 - val_recall: 0.7025 - val_f1_metrics: 0.7221\n"
          ],
          "name": "stdout"
        }
      ]
    },
    {
      "cell_type": "code",
      "metadata": {
        "colab": {
          "base_uri": "https://localhost:8080/"
        },
        "id": "pFvT05qcI300",
        "outputId": "fb74cb9a-7ce7-404b-b200-c9df264c71a5"
      },
      "source": [
        "best_indiv = 0.0\r\n",
        "for history in lstm_histories:\r\n",
        "  best_indiv = max(best_indiv, max(history.history['val_f1_metrics']))\r\n",
        "print(\"Best individual F1 = {}\".format(best_indiv))"
      ],
      "execution_count": null,
      "outputs": [
        {
          "output_type": "stream",
          "text": [
            "Best individual F1 = 0.7292219400405884\n"
          ],
          "name": "stdout"
        }
      ]
    },
    {
      "cell_type": "code",
      "metadata": {
        "colab": {
          "base_uri": "https://localhost:8080/"
        },
        "id": "Kzftf2qjT_U7",
        "outputId": "9ade5020-3a68-43a2-a96e-1cad2a297ac9"
      },
      "source": [
        "for i, lstm_model in enumerate(lstm_models):\r\n",
        "  print(\"\\nLSTM_Model_{0}\".format(i+1))\r\n",
        "  lstm_model.evaluate(X_test, Y_test, batch_size=1000)"
      ],
      "execution_count": null,
      "outputs": [
        {
          "output_type": "stream",
          "text": [
            "\n",
            "LSTM_Model_1\n",
            "12/12 [==============================] - 1s 111ms/step - loss: 0.6476 - categorical_accuracy: 0.7247 - precision: 0.7409 - recall: 0.7043 - f1_metrics: 0.7224\n",
            "\n",
            "LSTM_Model_2\n",
            "12/12 [==============================] - 1s 64ms/step - loss: 0.6984 - categorical_accuracy: 0.7048 - precision: 0.7211 - recall: 0.6825 - f1_metrics: 0.7014\n",
            "\n",
            "LSTM_Model_3\n",
            "12/12 [==============================] - 1s 72ms/step - loss: 0.6684 - categorical_accuracy: 0.7150 - precision: 0.7317 - recall: 0.6918 - f1_metrics: 0.7110\n",
            "\n",
            "LSTM_Model_4\n",
            "12/12 [==============================] - 1s 87ms/step - loss: 0.6659 - categorical_accuracy: 0.7134 - precision: 0.7297 - recall: 0.6917 - f1_metrics: 0.7097\n",
            "\n",
            "LSTM_Model_5\n",
            "12/12 [==============================] - 1s 117ms/step - loss: 0.6621 - categorical_accuracy: 0.7191 - precision: 0.7339 - recall: 0.6946 - f1_metrics: 0.7132\n"
          ],
          "name": "stdout"
        }
      ]
    },
    {
      "cell_type": "markdown",
      "metadata": {
        "id": "mZrOyvMMhO6P"
      },
      "source": [
        "**LSTM Models Training Plots**"
      ]
    },
    {
      "cell_type": "code",
      "metadata": {
        "colab": {
          "base_uri": "https://localhost:8080/",
          "height": 610
        },
        "id": "J-4IP22ghVI8",
        "outputId": "34a8387d-2de6-48de-bd12-c94d7191d70d"
      },
      "source": [
        "plot_metrics(lstm_histories[0])"
      ],
      "execution_count": null,
      "outputs": [
        {
          "output_type": "display_data",
          "data": {
            "image/png": "[encoded data removed]",
            "text/plain": [
              "<Figure size 1080x720 with 5 Axes>"
            ]
          },
          "metadata": {
            "tags": [],
            "needs_background": "light"
          }
        }
      ]
    },
    {
      "cell_type": "markdown",
      "metadata": {
        "id": "8iV1eDcBTdOP"
      },
      "source": [
        "**Correlation Matrix for LSTM**"
      ]
    },
    {
      "cell_type": "code",
      "metadata": {
        "colab": {
          "base_uri": "https://localhost:8080/",
          "height": 540
        },
        "id": "v6LEBjnbTgL5",
        "outputId": "37a1286f-7025-4e36-b7aa-d2b23d12a6fb"
      },
      "source": [
        "correlation_matrix(lstm_models)"
      ],
      "execution_count": null,
      "outputs": [
        {
          "output_type": "display_data",
          "data": {
            "image/png": "[encoded data removed]",
            "text/plain": [
              "<Figure size 792x648 with 2 Axes>"
            ]
          },
          "metadata": {
            "tags": []
          }
        }
      ]
    },
    {
      "cell_type": "markdown",
      "metadata": {
        "id": "Ku6H9XLQLM_Y"
      },
      "source": [
        "**Training CNN**"
      ]
    },
    {
      "cell_type": "code",
      "metadata": {
        "colab": {
          "base_uri": "https://localhost:8080/"
        },
        "id": "t0r203UILPjK",
        "outputId": "b57a355e-df4d-4e16-84f8-3e82c8a64324"
      },
      "source": [
        "model_functions = [Build_FlatCNN_Model1, Build_FlatCNN_Model2, Build_FlatCNN_Model3, Build_FlatCNN_Model4, Build_FlatCNN_Model5]\r\n",
        "callbacks = [early_stopping_callback, reduce_lr_callback]\r\n",
        "flat_cnn_models, flat_cnn_histories = model_gen(model_functions=model_functions,metrics=metrics, callbacks=callbacks)"
      ],
      "execution_count": null,
      "outputs": [
        {
          "output_type": "stream",
          "text": [
            "Epoch 1/20\n",
            "31/31 [==============================] - 38s 303ms/step - loss: 1.0581 - categorical_accuracy: 0.5023 - precision: 0.6755 - recall: 0.2090 - f1_metrics: 0.0726 - val_loss: 0.9546 - val_categorical_accuracy: 0.5481 - val_precision: 0.6906 - val_recall: 0.1972 - val_f1_metrics: 0.3071\n",
            "Epoch 2/20\n",
            "31/31 [==============================] - 8s 273ms/step - loss: 0.9334 - categorical_accuracy: 0.5459 - precision: 0.6368 - recall: 0.2866 - f1_metrics: 0.3923 - val_loss: 0.8590 - val_categorical_accuracy: 0.6027 - val_precision: 0.6855 - val_recall: 0.4384 - val_f1_metrics: 0.5358\n",
            "Epoch 3/20\n",
            "31/31 [==============================] - 9s 284ms/step - loss: 0.8366 - categorical_accuracy: 0.6148 - precision: 0.6784 - recall: 0.4683 - f1_metrics: 0.5539 - val_loss: 0.8073 - val_categorical_accuracy: 0.6276 - val_precision: 0.6781 - val_recall: 0.5342 - val_f1_metrics: 0.5983\n",
            "Epoch 4/20\n",
            "31/31 [==============================] - 9s 293ms/step - loss: 0.7656 - categorical_accuracy: 0.6554 - precision: 0.7076 - recall: 0.5544 - f1_metrics: 0.6216 - val_loss: 0.7751 - val_categorical_accuracy: 0.6479 - val_precision: 0.6911 - val_recall: 0.5653 - val_f1_metrics: 0.6218\n",
            "Epoch 5/20\n",
            "31/31 [==============================] - 9s 283ms/step - loss: 0.7062 - categorical_accuracy: 0.6938 - precision: 0.7393 - recall: 0.6119 - f1_metrics: 0.6696 - val_loss: 0.7599 - val_categorical_accuracy: 0.6561 - val_precision: 0.6901 - val_recall: 0.5969 - val_f1_metrics: 0.6405\n",
            "Epoch 6/20\n",
            "31/31 [==============================] - 9s 282ms/step - loss: 0.6510 - categorical_accuracy: 0.7223 - precision: 0.7621 - recall: 0.6608 - f1_metrics: 0.7079 - val_loss: 0.7523 - val_categorical_accuracy: 0.6608 - val_precision: 0.6897 - val_recall: 0.6100 - val_f1_metrics: 0.6485\n",
            "Epoch 7/20\n",
            "31/31 [==============================] - 9s 290ms/step - loss: 0.6003 - categorical_accuracy: 0.7511 - precision: 0.7861 - recall: 0.6998 - f1_metrics: 0.7404 - val_loss: 0.7475 - val_categorical_accuracy: 0.6641 - val_precision: 0.6923 - val_recall: 0.6203 - val_f1_metrics: 0.6556\n",
            "Epoch 8/20\n",
            "31/31 [==============================] - 9s 284ms/step - loss: 0.5495 - categorical_accuracy: 0.7794 - precision: 0.8101 - recall: 0.7350 - f1_metrics: 0.7707 - val_loss: 0.7610 - val_categorical_accuracy: 0.6656 - val_precision: 0.6857 - val_recall: 0.6317 - val_f1_metrics: 0.6591\n",
            "Epoch 9/20\n",
            "31/31 [==============================] - 9s 286ms/step - loss: 0.5002 - categorical_accuracy: 0.8038 - precision: 0.8284 - recall: 0.7709 - f1_metrics: 0.7986 - val_loss: 0.7784 - val_categorical_accuracy: 0.6678 - val_precision: 0.6857 - val_recall: 0.6389 - val_f1_metrics: 0.6634\n",
            "Epoch 10/20\n",
            "31/31 [==============================] - 9s 281ms/step - loss: 0.4487 - categorical_accuracy: 0.8296 - precision: 0.8508 - recall: 0.8018 - f1_metrics: 0.8256 - val_loss: 0.8113 - val_categorical_accuracy: 0.6639 - val_precision: 0.6794 - val_recall: 0.6386 - val_f1_metrics: 0.6601\n",
            "\n",
            "Epoch 00010: ReduceLROnPlateau reducing learning rate to 0.0005000000237487257.\n",
            "Epoch 1/20\n",
            "31/31 [==============================] - 12s 309ms/step - loss: 1.0693 - categorical_accuracy: 0.4792 - precision: 0.6385 - recall: 0.1845 - f1_metrics: 0.0707 - val_loss: 0.9607 - val_categorical_accuracy: 0.5446 - val_precision: 0.6812 - val_recall: 0.1783 - val_f1_metrics: 0.2815\n",
            "Epoch 2/20\n",
            "31/31 [==============================] - 9s 282ms/step - loss: 0.9366 - categorical_accuracy: 0.5466 - precision: 0.6454 - recall: 0.2851 - f1_metrics: 0.3931 - val_loss: 0.8623 - val_categorical_accuracy: 0.6055 - val_precision: 0.6972 - val_recall: 0.4162 - val_f1_metrics: 0.5212\n",
            "Epoch 3/20\n",
            "31/31 [==============================] - 9s 287ms/step - loss: 0.8403 - categorical_accuracy: 0.6123 - precision: 0.6850 - recall: 0.4571 - f1_metrics: 0.5478 - val_loss: 0.8025 - val_categorical_accuracy: 0.6365 - val_precision: 0.6954 - val_recall: 0.5198 - val_f1_metrics: 0.5940\n",
            "Epoch 4/20\n",
            "31/31 [==============================] - 9s 281ms/step - loss: 0.7671 - categorical_accuracy: 0.6613 - precision: 0.7187 - recall: 0.5506 - f1_metrics: 0.6234 - val_loss: 0.7706 - val_categorical_accuracy: 0.6528 - val_precision: 0.7020 - val_recall: 0.5616 - val_f1_metrics: 0.6240\n",
            "Epoch 5/20\n",
            "31/31 [==============================] - 9s 283ms/step - loss: 0.7033 - categorical_accuracy: 0.6966 - precision: 0.7450 - recall: 0.6110 - f1_metrics: 0.6713 - val_loss: 0.7558 - val_categorical_accuracy: 0.6599 - val_precision: 0.7002 - val_recall: 0.5945 - val_f1_metrics: 0.6444\n",
            "Epoch 6/20\n",
            "31/31 [==============================] - 9s 289ms/step - loss: 0.6507 - categorical_accuracy: 0.7281 - precision: 0.7687 - recall: 0.6586 - f1_metrics: 0.7094 - val_loss: 0.7515 - val_categorical_accuracy: 0.6654 - val_precision: 0.6972 - val_recall: 0.6128 - val_f1_metrics: 0.6546\n",
            "Epoch 7/20\n",
            "31/31 [==============================] - 9s 279ms/step - loss: 0.5944 - categorical_accuracy: 0.7582 - precision: 0.7935 - recall: 0.7050 - f1_metrics: 0.7466 - val_loss: 0.7518 - val_categorical_accuracy: 0.6667 - val_precision: 0.6968 - val_recall: 0.6224 - val_f1_metrics: 0.6598\n",
            "Epoch 8/20\n",
            "31/31 [==============================] - 9s 283ms/step - loss: 0.5413 - categorical_accuracy: 0.7837 - precision: 0.8148 - recall: 0.7401 - f1_metrics: 0.7756 - val_loss: 0.7637 - val_categorical_accuracy: 0.6654 - val_precision: 0.6916 - val_recall: 0.6263 - val_f1_metrics: 0.6606\n",
            "\n",
            "Epoch 00008: ReduceLROnPlateau reducing learning rate to 0.0005000000237487257.\n",
            "Epoch 9/20\n",
            "31/31 [==============================] - 9s 291ms/step - loss: 0.4884 - categorical_accuracy: 0.8126 - precision: 0.8379 - recall: 0.7764 - f1_metrics: 0.8059 - val_loss: 0.7728 - val_categorical_accuracy: 0.6676 - val_precision: 0.6917 - val_recall: 0.6337 - val_f1_metrics: 0.6636\n",
            "Epoch 1/20\n",
            "31/31 [==============================] - 14s 382ms/step - loss: 1.0706 - categorical_accuracy: 0.4799 - precision: 0.6204 - recall: 0.1834 - f1_metrics: 0.0763 - val_loss: 0.9747 - val_categorical_accuracy: 0.5142 - val_precision: 0.6525 - val_recall: 0.1288 - val_f1_metrics: 0.2144\n",
            "Epoch 2/20\n",
            "31/31 [==============================] - 10s 329ms/step - loss: 0.9452 - categorical_accuracy: 0.5348 - precision: 0.6361 - recall: 0.2408 - f1_metrics: 0.3447 - val_loss: 0.8595 - val_categorical_accuracy: 0.6016 - val_precision: 0.6808 - val_recall: 0.4399 - val_f1_metrics: 0.5351\n",
            "Epoch 3/20\n",
            "31/31 [==============================] - 10s 318ms/step - loss: 0.8295 - categorical_accuracy: 0.6185 - precision: 0.6846 - recall: 0.4771 - f1_metrics: 0.5618 - val_loss: 0.7967 - val_categorical_accuracy: 0.6336 - val_precision: 0.6866 - val_recall: 0.5466 - val_f1_metrics: 0.6085\n",
            "Epoch 4/20\n",
            "31/31 [==============================] - 10s 324ms/step - loss: 0.7495 - categorical_accuracy: 0.6694 - precision: 0.7187 - recall: 0.5761 - f1_metrics: 0.6395 - val_loss: 0.7574 - val_categorical_accuracy: 0.6537 - val_precision: 0.6987 - val_recall: 0.5902 - val_f1_metrics: 0.6386\n",
            "Epoch 5/20\n",
            "31/31 [==============================] - 10s 321ms/step - loss: 0.6845 - categorical_accuracy: 0.7055 - precision: 0.7477 - recall: 0.6337 - f1_metrics: 0.6860 - val_loss: 0.7400 - val_categorical_accuracy: 0.6651 - val_precision: 0.7016 - val_recall: 0.6111 - val_f1_metrics: 0.6522\n",
            "Epoch 6/20\n",
            "31/31 [==============================] - 10s 317ms/step - loss: 0.6286 - categorical_accuracy: 0.7373 - precision: 0.7736 - recall: 0.6791 - f1_metrics: 0.7232 - val_loss: 0.7366 - val_categorical_accuracy: 0.6731 - val_precision: 0.7036 - val_recall: 0.6255 - val_f1_metrics: 0.6620\n",
            "Epoch 7/20\n",
            "31/31 [==============================] - 10s 323ms/step - loss: 0.5696 - categorical_accuracy: 0.7682 - precision: 0.8001 - recall: 0.7198 - f1_metrics: 0.7578 - val_loss: 0.7416 - val_categorical_accuracy: 0.6762 - val_precision: 0.7031 - val_recall: 0.6380 - val_f1_metrics: 0.6684\n",
            "Epoch 8/20\n",
            "31/31 [==============================] - 11s 338ms/step - loss: 0.5212 - categorical_accuracy: 0.7948 - precision: 0.8218 - recall: 0.7555 - f1_metrics: 0.7872 - val_loss: 0.7561 - val_categorical_accuracy: 0.6768 - val_precision: 0.6992 - val_recall: 0.6446 - val_f1_metrics: 0.6702\n",
            "Epoch 9/20\n",
            "31/31 [==============================] - 10s 329ms/step - loss: 0.4678 - categorical_accuracy: 0.8210 - precision: 0.8438 - recall: 0.7902 - f1_metrics: 0.8161 - val_loss: 0.7782 - val_categorical_accuracy: 0.6792 - val_precision: 0.6959 - val_recall: 0.6541 - val_f1_metrics: 0.6749\n",
            "Epoch 1/20\n",
            "31/31 [==============================] - 15s 398ms/step - loss: 1.0822 - categorical_accuracy: 0.4756 - precision: 0.6164 - recall: 0.2113 - f1_metrics: 0.1145 - val_loss: 0.9520 - val_categorical_accuracy: 0.5554 - val_precision: 0.7138 - val_recall: 0.2031 - val_f1_metrics: 0.3154\n",
            "Epoch 2/20\n",
            "31/31 [==============================] - 11s 353ms/step - loss: 0.9199 - categorical_accuracy: 0.5654 - precision: 0.6636 - recall: 0.3194 - f1_metrics: 0.4278 - val_loss: 0.8275 - val_categorical_accuracy: 0.6245 - val_precision: 0.6997 - val_recall: 0.4830 - val_f1_metrics: 0.5723\n",
            "Epoch 3/20\n",
            "31/31 [==============================] - 10s 332ms/step - loss: 0.8064 - categorical_accuracy: 0.6365 - precision: 0.6984 - recall: 0.5086 - f1_metrics: 0.5883 - val_loss: 0.7750 - val_categorical_accuracy: 0.6479 - val_precision: 0.6985 - val_recall: 0.5520 - val_f1_metrics: 0.6157\n",
            "Epoch 4/20\n",
            "31/31 [==============================] - 10s 335ms/step - loss: 0.7275 - categorical_accuracy: 0.6792 - precision: 0.7277 - recall: 0.5918 - f1_metrics: 0.6527 - val_loss: 0.7503 - val_categorical_accuracy: 0.6595 - val_precision: 0.7008 - val_recall: 0.5867 - val_f1_metrics: 0.6389\n",
            "Epoch 5/20\n",
            "31/31 [==============================] - 10s 328ms/step - loss: 0.6641 - categorical_accuracy: 0.7167 - precision: 0.7573 - recall: 0.6460 - f1_metrics: 0.6972 - val_loss: 0.7422 - val_categorical_accuracy: 0.6680 - val_precision: 0.6994 - val_recall: 0.6144 - val_f1_metrics: 0.6543\n",
            "Epoch 6/20\n",
            "31/31 [==============================] - 10s 331ms/step - loss: 0.6073 - categorical_accuracy: 0.7478 - precision: 0.7799 - recall: 0.6922 - f1_metrics: 0.7334 - val_loss: 0.7385 - val_categorical_accuracy: 0.6732 - val_precision: 0.7009 - val_recall: 0.6279 - val_f1_metrics: 0.6628\n",
            "Epoch 7/20\n",
            "31/31 [==============================] - 10s 331ms/step - loss: 0.5562 - categorical_accuracy: 0.7739 - precision: 0.8044 - recall: 0.7293 - f1_metrics: 0.7650 - val_loss: 0.7493 - val_categorical_accuracy: 0.6718 - val_precision: 0.6975 - val_recall: 0.6345 - val_f1_metrics: 0.6659\n",
            "\n",
            "Epoch 00007: ReduceLROnPlateau reducing learning rate to 0.0005000000237487257.\n",
            "Epoch 8/20\n",
            "31/31 [==============================] - 10s 332ms/step - loss: 0.5020 - categorical_accuracy: 0.8036 - precision: 0.8283 - recall: 0.7661 - f1_metrics: 0.7960 - val_loss: 0.7611 - val_categorical_accuracy: 0.6696 - val_precision: 0.6936 - val_recall: 0.6395 - val_f1_metrics: 0.6670\n",
            "\n",
            "Epoch 00008: ReduceLROnPlateau reducing learning rate to 0.0002500000118743628.\n",
            "Epoch 9/20\n",
            "31/31 [==============================] - 10s 338ms/step - loss: 0.4790 - categorical_accuracy: 0.8135 - precision: 0.8376 - recall: 0.7796 - f1_metrics: 0.8076 - val_loss: 0.7678 - val_categorical_accuracy: 0.6713 - val_precision: 0.6920 - val_recall: 0.6413 - val_f1_metrics: 0.6668\n",
            "\n",
            "Epoch 00009: ReduceLROnPlateau reducing learning rate to 0.0001250000059371814.\n",
            "Epoch 1/20\n",
            "31/31 [==============================] - 15s 393ms/step - loss: 1.0524 - categorical_accuracy: 0.4928 - precision: 0.6353 - recall: 0.2109 - f1_metrics: 0.1164 - val_loss: 0.9064 - val_categorical_accuracy: 0.5767 - val_precision: 0.6825 - val_recall: 0.3263 - val_f1_metrics: 0.4407\n",
            "Epoch 2/20\n",
            "31/31 [==============================] - 11s 353ms/step - loss: 0.8707 - categorical_accuracy: 0.5942 - precision: 0.6712 - recall: 0.4130 - f1_metrics: 0.5097 - val_loss: 0.8090 - val_categorical_accuracy: 0.6284 - val_precision: 0.6863 - val_recall: 0.5133 - val_f1_metrics: 0.5878\n",
            "Epoch 3/20\n",
            "31/31 [==============================] - 11s 354ms/step - loss: 0.7687 - categorical_accuracy: 0.6533 - precision: 0.7091 - recall: 0.5514 - f1_metrics: 0.6203 - val_loss: 0.7694 - val_categorical_accuracy: 0.6510 - val_precision: 0.6941 - val_recall: 0.5711 - val_f1_metrics: 0.6270\n",
            "Epoch 4/20\n",
            "31/31 [==============================] - 11s 349ms/step - loss: 0.6916 - categorical_accuracy: 0.6993 - precision: 0.7429 - recall: 0.6225 - f1_metrics: 0.6773 - val_loss: 0.7504 - val_categorical_accuracy: 0.6624 - val_precision: 0.6973 - val_recall: 0.6018 - val_f1_metrics: 0.6465\n",
            "Epoch 5/20\n",
            "31/31 [==============================] - 11s 345ms/step - loss: 0.6307 - categorical_accuracy: 0.7343 - precision: 0.7709 - recall: 0.6743 - f1_metrics: 0.7193 - val_loss: 0.7454 - val_categorical_accuracy: 0.6659 - val_precision: 0.6948 - val_recall: 0.6168 - val_f1_metrics: 0.6545\n",
            "Epoch 6/20\n",
            "31/31 [==============================] - 11s 354ms/step - loss: 0.5740 - categorical_accuracy: 0.7660 - precision: 0.7981 - recall: 0.7184 - f1_metrics: 0.7561 - val_loss: 0.7538 - val_categorical_accuracy: 0.6699 - val_precision: 0.6951 - val_recall: 0.6328 - val_f1_metrics: 0.6638\n",
            "Epoch 7/20\n",
            "31/31 [==============================] - 11s 348ms/step - loss: 0.5129 - categorical_accuracy: 0.7949 - precision: 0.8201 - recall: 0.7591 - f1_metrics: 0.7884 - val_loss: 0.7590 - val_categorical_accuracy: 0.6742 - val_precision: 0.6976 - val_recall: 0.6399 - val_f1_metrics: 0.6687\n",
            "Epoch 8/20\n",
            "31/31 [==============================] - 11s 355ms/step - loss: 0.4630 - categorical_accuracy: 0.8196 - precision: 0.8423 - recall: 0.7903 - f1_metrics: 0.8155 - val_loss: 0.7898 - val_categorical_accuracy: 0.6720 - val_precision: 0.6894 - val_recall: 0.6462 - val_f1_metrics: 0.6691\n",
            "\n",
            "Epoch 00008: ReduceLROnPlateau reducing learning rate to 0.0005000000237487257.\n"
          ],
          "name": "stdout"
        }
      ]
    },
    {
      "cell_type": "markdown",
      "metadata": {
        "id": "uy-rMw2yQ-4X"
      },
      "source": [
        "**Get best individual F1**"
      ]
    },
    {
      "cell_type": "code",
      "metadata": {
        "colab": {
          "base_uri": "https://localhost:8080/"
        },
        "id": "F-LGPpaeQvZs",
        "outputId": "d76509b1-0354-4349-febc-2a799b108658"
      },
      "source": [
        "best_indiv = 0.0\r\n",
        "for history in flat_cnn_histories:\r\n",
        "  best_indiv = max(best_indiv, max(history.history['val_f1_metrics']))\r\n",
        "print(\"Best individual F1 = {}\".format(best_indiv))"
      ],
      "execution_count": null,
      "outputs": [
        {
          "output_type": "stream",
          "text": [
            "Best individual F1 = 0.6749107837677002\n"
          ],
          "name": "stdout"
        }
      ]
    },
    {
      "cell_type": "markdown",
      "metadata": {
        "id": "9pY1jvj1REKs"
      },
      "source": [
        "**Evalute FLAT CNN on Test Data**"
      ]
    },
    {
      "cell_type": "code",
      "metadata": {
        "colab": {
          "base_uri": "https://localhost:8080/"
        },
        "id": "6oDjj7c5Qx_1",
        "outputId": "073aed0c-ee24-4bc7-c7cb-5bc18f638f0d"
      },
      "source": [
        "for i, flat_cnn_model in enumerate(flat_cnn_models):\r\n",
        "  print(\"\\nFlat_CNN_Model_{0}\".format(i+1))\r\n",
        "  flat_cnn_model.evaluate(X_test, Y_test, batch_size=1000)"
      ],
      "execution_count": null,
      "outputs": [
        {
          "output_type": "stream",
          "text": [
            "\n",
            "Flat_CNN_Model_1\n",
            "12/12 [==============================] - 1s 55ms/step - loss: 0.8371 - categorical_accuracy: 0.6585 - precision: 0.6744 - recall: 0.6342 - f1_metrics: 0.6535\n",
            "\n",
            "Flat_CNN_Model_2\n",
            "12/12 [==============================] - 0s 31ms/step - loss: 0.7859 - categorical_accuracy: 0.6651 - precision: 0.6860 - recall: 0.6309 - f1_metrics: 0.6566\n",
            "\n",
            "Flat_CNN_Model_3\n",
            "12/12 [==============================] - 1s 47ms/step - loss: 0.7984 - categorical_accuracy: 0.6726 - precision: 0.6900 - recall: 0.6468 - f1_metrics: 0.6670\n",
            "\n",
            "Flat_CNN_Model_4\n",
            "12/12 [==============================] - 1s 48ms/step - loss: 0.7777 - categorical_accuracy: 0.6701 - precision: 0.6887 - recall: 0.6397 - f1_metrics: 0.6639\n",
            "\n",
            "Flat_CNN_Model_5\n",
            "12/12 [==============================] - 1s 50ms/step - loss: 0.8079 - categorical_accuracy: 0.6677 - precision: 0.6834 - recall: 0.6387 - f1_metrics: 0.6601\n"
          ],
          "name": "stdout"
        }
      ]
    },
    {
      "cell_type": "markdown",
      "metadata": {
        "id": "q67ssjTjRJiW"
      },
      "source": [
        "**FLAT CNN Models Training Plots**"
      ]
    },
    {
      "cell_type": "code",
      "metadata": {
        "colab": {
          "base_uri": "https://localhost:8080/",
          "height": 615
        },
        "id": "Ro_aDHJMQ1bS",
        "outputId": "8dd2709e-dca2-4a36-92c9-24be15953ac4"
      },
      "source": [
        "plot_metrics(flat_cnn_histories[0])"
      ],
      "execution_count": null,
      "outputs": [
        {
          "output_type": "display_data",
          "data": {
            "image/png": "[encoded data removed]",
            "text/plain": [
              "<Figure size 1080x720 with 5 Axes>"
            ]
          },
          "metadata": {
            "tags": []
          }
        }
      ]
    },
    {
      "cell_type": "markdown",
      "metadata": {
        "id": "6QUeS2AZRUPm"
      },
      "source": [
        "**Correlation Matrix for Flat CNN**"
      ]
    },
    {
      "cell_type": "code",
      "metadata": {
        "colab": {
          "base_uri": "https://localhost:8080/",
          "height": 540
        },
        "id": "gBtQzffZQ9Fb",
        "outputId": "7965bcdf-3492-43bd-9346-0864f85b3f37"
      },
      "source": [
        "correlation_matrix(flat_cnn_models)"
      ],
      "execution_count": null,
      "outputs": [
        {
          "output_type": "display_data",
          "data": {
            "image/png": "[encoded data removed]",
            "text/plain": [
              "<Figure size 792x648 with 2 Axes>"
            ]
          },
          "metadata": {
            "tags": []
          }
        }
      ]
    }
  ]
}