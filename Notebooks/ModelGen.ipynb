{
  "nbformat": 4,
  "nbformat_minor": 0,
  "metadata": {
    "accelerator": "GPU",
    "colab": {
      "name": "ModelGen.ipynb",
      "provenance": [],
      "collapsed_sections": []
    },
    "kernelspec": {
      "display_name": "Python 3",
      "name": "python3"
    }
  },
  "cells": [
    {
      "cell_type": "code",
      "metadata": {
        "id": "-au6xYmT5TUc"
      },
      "source": [
        "import os\n",
        "import re\n",
        "import glob\n",
        "import struct\n",
        "from os import makedirs\n",
        "\n",
        "import numpy as np\n",
        "from numpy import asarray\n",
        "from numpy import zeros\n",
        "from nltk.stem.porter import *\n",
        "\n",
        "\n",
        "import pandas as pd\n",
        "import tensorflow as tf\n",
        "import tensorflow.keras as keras\n",
        "\n",
        "from keras.preprocessing.text import Tokenizer\n",
        "from keras.preprocessing.sequence import pad_sequences\n",
        "from keras.utils import to_categorical\n",
        "from keras import Model\n",
        "from keras.callbacks import ModelCheckpoint\n",
        "from keras.callbacks import EarlyStopping\n",
        "from keras.wrappers.scikit_learn import KerasClassifier\n",
        "from keras.models import Sequential\n",
        "from keras.layers import Input, Reshape, Conv2D, MaxPool2D, Dense, Dropout, Flatten, Embedding, Concatenate, Conv1D\n",
        "from keras.metrics import CategoricalAccuracy, Precision, Recall\n",
        "from keras import regularizers\n",
        "from keras import backend as K\n",
        "from keras.models import load_model\n",
        "\n",
        "import sklearn\n",
        "from sklearn.ensemble import AdaBoostClassifier\n",
        "from sklearn.model_selection import train_test_split\n",
        "from sklearn import metrics\n",
        "from sklearn.metrics import confusion_matrix\n",
        "from sklearn.model_selection import cross_val_score\n",
        "from sklearn.model_selection import RepeatedStratifiedKFold\n",
        "from sklearn.ensemble import StackingClassifier\n",
        "\n",
        "import matplotlib.pyplot as plt\n",
        "from keras.utils import to_categorical\n",
        "from keras import layers\n"
      ],
      "execution_count": 51,
      "outputs": []
    },
    {
      "cell_type": "markdown",
      "metadata": {
        "id": "iBtvw0JSyyJ0"
      },
      "source": [
        "Load the Dataset\r\n"
      ]
    },
    {
      "cell_type": "code",
      "metadata": {
        "id": "xEun8UyZRDn9",
        "colab": {
          "base_uri": "https://localhost:8080/"
        },
        "outputId": "e9acf648-9695-4d61-8a8f-40b4b2dfad98"
      },
      "source": [
        "from google.colab import drive\n",
        "drive.mount('/content/drive')"
      ],
      "execution_count": 34,
      "outputs": [
        {
          "output_type": "stream",
          "text": [
            "Drive already mounted at /content/drive; to attempt to forcibly remount, call drive.mount(\"/content/drive\", force_remount=True).\n"
          ],
          "name": "stdout"
        }
      ]
    },
    {
      "cell_type": "code",
      "metadata": {
        "id": "33idFgY-BwTs"
      },
      "source": [
        "os.chdir(\"/content/drive/MyDrive/twit/train\")\n",
        "\n",
        "extension = 'csv'\n",
        "all_filenames = [i for i in glob.glob('*.{}'.format(extension))]\n",
        "\n",
        "#combine all files in the list\n",
        "combined_csv = pd.concat([pd.read_csv(f) for f in all_filenames ])\n",
        "#export to csv\n",
        "combined_csv.to_csv( \"aggregate.csv\", index=False, encoding='utf-8-sig')"
      ],
      "execution_count": 35,
      "outputs": []
    },
    {
      "cell_type": "code",
      "metadata": {
        "id": "kTFPtv5N5jVw",
        "colab": {
          "base_uri": "https://localhost:8080/",
          "height": 195
        },
        "outputId": "740ef484-bd68-4d67-cff9-c5bca0f6e0df"
      },
      "source": [
        "train = pd.read_csv('/content/drive/MyDrive/twit/train/aggregate.csv')\n",
        "\n",
        "train.head()"
      ],
      "execution_count": 36,
      "outputs": [
        {
          "output_type": "execute_result",
          "data": {
            "text/html": [
              "<div>\n",
              "<style scoped>\n",
              "    .dataframe tbody tr th:only-of-type {\n",
              "        vertical-align: middle;\n",
              "    }\n",
              "\n",
              "    .dataframe tbody tr th {\n",
              "        vertical-align: top;\n",
              "    }\n",
              "\n",
              "    .dataframe thead th {\n",
              "        text-align: right;\n",
              "    }\n",
              "</style>\n",
              "<table border=\"1\" class=\"dataframe\">\n",
              "  <thead>\n",
              "    <tr style=\"text-align: right;\">\n",
              "      <th></th>\n",
              "      <th>Column1</th>\n",
              "      <th>Column2</th>\n",
              "      <th>Column3</th>\n",
              "    </tr>\n",
              "  </thead>\n",
              "  <tbody>\n",
              "    <tr>\n",
              "      <th>0</th>\n",
              "      <td>6.200000e+17</td>\n",
              "      <td>neutral</td>\n",
              "      <td>Picturehouse's, Pink Floyd's, 'Roger Waters: T...</td>\n",
              "    </tr>\n",
              "    <tr>\n",
              "      <th>1</th>\n",
              "      <td>6.200000e+17</td>\n",
              "      <td>neutral</td>\n",
              "      <td>Order Go Set a Watchman in store or through ou...</td>\n",
              "    </tr>\n",
              "    <tr>\n",
              "      <th>2</th>\n",
              "      <td>6.200000e+17</td>\n",
              "      <td>negative</td>\n",
              "      <td>If these runway renovations at the airport pre...</td>\n",
              "    </tr>\n",
              "    <tr>\n",
              "      <th>3</th>\n",
              "      <td>6.200000e+17</td>\n",
              "      <td>neutral</td>\n",
              "      <td>If you could ask an onstage interview question...</td>\n",
              "    </tr>\n",
              "    <tr>\n",
              "      <th>4</th>\n",
              "      <td>6.200000e+17</td>\n",
              "      <td>positive</td>\n",
              "      <td>A portion of book sales from our Harper Lee/Go...</td>\n",
              "    </tr>\n",
              "  </tbody>\n",
              "</table>\n",
              "</div>"
            ],
            "text/plain": [
              "        Column1   Column2                                            Column3\n",
              "0  6.200000e+17   neutral  Picturehouse's, Pink Floyd's, 'Roger Waters: T...\n",
              "1  6.200000e+17   neutral  Order Go Set a Watchman in store or through ou...\n",
              "2  6.200000e+17  negative  If these runway renovations at the airport pre...\n",
              "3  6.200000e+17   neutral  If you could ask an onstage interview question...\n",
              "4  6.200000e+17  positive  A portion of book sales from our Harper Lee/Go..."
            ]
          },
          "metadata": {
            "tags": []
          },
          "execution_count": 36
        }
      ]
    },
    {
      "cell_type": "markdown",
      "metadata": {
        "id": "PCffl4OOy7bR"
      },
      "source": [
        "Data Preprocessing"
      ]
    },
    {
      "cell_type": "code",
      "metadata": {
        "id": "YI6wwcXYMlVQ"
      },
      "source": [
        "def remove_pattern(input_txt, pattern):\n",
        "  r = re.findall(pattern, input_txt)\n",
        "  for i in r:\n",
        "    input_txt = re.sub(i, '', input_txt)        \n",
        "  return input_txt\n",
        "\n",
        "def clean_tweets(frame, column_name, remove_stop_words=True, lower_case=True, remove_special=True):\n",
        "  frame = frame.drop_duplicates().reset_index(drop=True) #remove duplicate rows\n",
        "  frame['Tweet_Clean_Text'] = np.vectorize(remove_pattern)(frame[column_name], \"RT @[\\w]*:\") #remove twitter return handle\n",
        "  frame.Tweet_Clean_Text = np.vectorize(remove_pattern)(frame['Tweet_Clean_Text'], \"@[\\w]*\") #remove twitter handle\n",
        "  frame.Tweet_Clean_Text = np.vectorize(remove_pattern)(frame['Tweet_Clean_Text'], \"https?://[A-Za-z0-9./]*\") #remove URLs\n",
        "\n",
        "  if remove_special:\n",
        "    frame.Tweet_Clean_Text = frame.Tweet_Clean_Text.str.replace(\"[^a-zA-Z#]\", \" \") #remove special characters except for #\n",
        "  frame.Tweet_Clean_Text = frame.Tweet_Clean_Text.replace('\\s+', ' ', regex=True) #remove extra spaces in between words\n",
        "  if lower_case:\n",
        "    frame.Tweet_Clean_Text = frame.Tweet_Clean_Text.apply(lambda x: x.lower())\n",
        "  if remove_stop_words:\n",
        "    frame.Tweet_Clean_Text = frame.Tweet_Clean_Text.apply(lambda x: ' '.join([word for word in x.split() if word not in stopwords.words('english')])) #remove stop words\n",
        "\n",
        "  return frame"
      ],
      "execution_count": 38,
      "outputs": []
    },
    {
      "cell_type": "code",
      "metadata": {
        "id": "F3Et4zHBMzXQ",
        "colab": {
          "base_uri": "https://localhost:8080/",
          "height": 195
        },
        "outputId": "78eb7820-920a-4552-e28d-8dad2415ff3e"
      },
      "source": [
        "train_set = clean_tweets(train, 'Column3', remove_stop_words=False, remove_special=False)\n",
        "train_set.head()"
      ],
      "execution_count": 41,
      "outputs": [
        {
          "output_type": "execute_result",
          "data": {
            "text/html": [
              "<div>\n",
              "<style scoped>\n",
              "    .dataframe tbody tr th:only-of-type {\n",
              "        vertical-align: middle;\n",
              "    }\n",
              "\n",
              "    .dataframe tbody tr th {\n",
              "        vertical-align: top;\n",
              "    }\n",
              "\n",
              "    .dataframe thead th {\n",
              "        text-align: right;\n",
              "    }\n",
              "</style>\n",
              "<table border=\"1\" class=\"dataframe\">\n",
              "  <thead>\n",
              "    <tr style=\"text-align: right;\">\n",
              "      <th></th>\n",
              "      <th>Column1</th>\n",
              "      <th>Column2</th>\n",
              "      <th>Column3</th>\n",
              "      <th>Tweet_Clean_Text</th>\n",
              "    </tr>\n",
              "  </thead>\n",
              "  <tbody>\n",
              "    <tr>\n",
              "      <th>0</th>\n",
              "      <td>6.200000e+17</td>\n",
              "      <td>neutral</td>\n",
              "      <td>Picturehouse's, Pink Floyd's, 'Roger Waters: T...</td>\n",
              "      <td>picturehouse's, pink floyd's, 'roger waters: t...</td>\n",
              "    </tr>\n",
              "    <tr>\n",
              "      <th>1</th>\n",
              "      <td>6.200000e+17</td>\n",
              "      <td>neutral</td>\n",
              "      <td>Order Go Set a Watchman in store or through ou...</td>\n",
              "      <td>order go set a watchman in store or through ou...</td>\n",
              "    </tr>\n",
              "    <tr>\n",
              "      <th>2</th>\n",
              "      <td>6.200000e+17</td>\n",
              "      <td>negative</td>\n",
              "      <td>If these runway renovations at the airport pre...</td>\n",
              "      <td>if these runway renovations at the airport pre...</td>\n",
              "    </tr>\n",
              "    <tr>\n",
              "      <th>3</th>\n",
              "      <td>6.200000e+17</td>\n",
              "      <td>neutral</td>\n",
              "      <td>If you could ask an onstage interview question...</td>\n",
              "      <td>if you could ask an onstage interview question...</td>\n",
              "    </tr>\n",
              "    <tr>\n",
              "      <th>4</th>\n",
              "      <td>6.200000e+17</td>\n",
              "      <td>positive</td>\n",
              "      <td>A portion of book sales from our Harper Lee/Go...</td>\n",
              "      <td>a portion of book sales from our harper lee/go...</td>\n",
              "    </tr>\n",
              "  </tbody>\n",
              "</table>\n",
              "</div>"
            ],
            "text/plain": [
              "        Column1  ...                                   Tweet_Clean_Text\n",
              "0  6.200000e+17  ...  picturehouse's, pink floyd's, 'roger waters: t...\n",
              "1  6.200000e+17  ...  order go set a watchman in store or through ou...\n",
              "2  6.200000e+17  ...  if these runway renovations at the airport pre...\n",
              "3  6.200000e+17  ...  if you could ask an onstage interview question...\n",
              "4  6.200000e+17  ...  a portion of book sales from our harper lee/go...\n",
              "\n",
              "[5 rows x 4 columns]"
            ]
          },
          "metadata": {
            "tags": []
          },
          "execution_count": 41
        }
      ]
    },
    {
      "cell_type": "code",
      "metadata": {
        "id": "oz2kEFcsaT0b",
        "colab": {
          "base_uri": "https://localhost:8080/",
          "height": 402
        },
        "outputId": "846163ee-aa9b-4350-bf04-ab77cd7620df"
      },
      "source": [
        "train_set[\"Sentiment_Value\"] = train_set[\"Column2\"].map({\"neutral\": 0, \"positive\": 1, \"negative\": 2})\r\n",
        "label = to_categorical(train_set[\"Sentiment_Value\"], 3)\r\n",
        "train_set"
      ],
      "execution_count": 42,
      "outputs": [
        {
          "output_type": "execute_result",
          "data": {
            "text/html": [
              "<div>\n",
              "<style scoped>\n",
              "    .dataframe tbody tr th:only-of-type {\n",
              "        vertical-align: middle;\n",
              "    }\n",
              "\n",
              "    .dataframe tbody tr th {\n",
              "        vertical-align: top;\n",
              "    }\n",
              "\n",
              "    .dataframe thead th {\n",
              "        text-align: right;\n",
              "    }\n",
              "</style>\n",
              "<table border=\"1\" class=\"dataframe\">\n",
              "  <thead>\n",
              "    <tr style=\"text-align: right;\">\n",
              "      <th></th>\n",
              "      <th>Column1</th>\n",
              "      <th>Column2</th>\n",
              "      <th>Column3</th>\n",
              "      <th>Tweet_Clean_Text</th>\n",
              "      <th>Sentiment_Value</th>\n",
              "    </tr>\n",
              "  </thead>\n",
              "  <tbody>\n",
              "    <tr>\n",
              "      <th>0</th>\n",
              "      <td>6.200000e+17</td>\n",
              "      <td>neutral</td>\n",
              "      <td>Picturehouse's, Pink Floyd's, 'Roger Waters: T...</td>\n",
              "      <td>picturehouse's, pink floyd's, 'roger waters: t...</td>\n",
              "      <td>0</td>\n",
              "    </tr>\n",
              "    <tr>\n",
              "      <th>1</th>\n",
              "      <td>6.200000e+17</td>\n",
              "      <td>neutral</td>\n",
              "      <td>Order Go Set a Watchman in store or through ou...</td>\n",
              "      <td>order go set a watchman in store or through ou...</td>\n",
              "      <td>0</td>\n",
              "    </tr>\n",
              "    <tr>\n",
              "      <th>2</th>\n",
              "      <td>6.200000e+17</td>\n",
              "      <td>negative</td>\n",
              "      <td>If these runway renovations at the airport pre...</td>\n",
              "      <td>if these runway renovations at the airport pre...</td>\n",
              "      <td>2</td>\n",
              "    </tr>\n",
              "    <tr>\n",
              "      <th>3</th>\n",
              "      <td>6.200000e+17</td>\n",
              "      <td>neutral</td>\n",
              "      <td>If you could ask an onstage interview question...</td>\n",
              "      <td>if you could ask an onstage interview question...</td>\n",
              "      <td>0</td>\n",
              "    </tr>\n",
              "    <tr>\n",
              "      <th>4</th>\n",
              "      <td>6.200000e+17</td>\n",
              "      <td>positive</td>\n",
              "      <td>A portion of book sales from our Harper Lee/Go...</td>\n",
              "      <td>a portion of book sales from our harper lee/go...</td>\n",
              "      <td>1</td>\n",
              "    </tr>\n",
              "    <tr>\n",
              "      <th>...</th>\n",
              "      <td>...</td>\n",
              "      <td>...</td>\n",
              "      <td>...</td>\n",
              "      <td>...</td>\n",
              "      <td>...</td>\n",
              "    </tr>\n",
              "    <tr>\n",
              "      <th>114213</th>\n",
              "      <td>4.277950e+17</td>\n",
              "      <td>positive</td>\n",
              "      <td>Goodnight!!!! Aral2 din pag may time! LOGIC is...</td>\n",
              "      <td>goodnight!!!! aral2 din pag may time! logic is...</td>\n",
              "      <td>1</td>\n",
              "    </tr>\n",
              "    <tr>\n",
              "      <th>114214</th>\n",
              "      <td>4.381630e+17</td>\n",
              "      <td>positive</td>\n",
              "      <td>This week just keeps getting better and better...</td>\n",
              "      <td>this week just keeps getting better and better...</td>\n",
              "      <td>1</td>\n",
              "    </tr>\n",
              "    <tr>\n",
              "      <th>114215</th>\n",
              "      <td>4.256920e+17</td>\n",
              "      <td>negative</td>\n",
              "      <td>RT @akrongarber: @moraro456 The 1st gay presid...</td>\n",
              "      <td>the 1st gay president and the 1st dope head p...</td>\n",
              "      <td>2</td>\n",
              "    </tr>\n",
              "    <tr>\n",
              "      <th>114216</th>\n",
              "      <td>4.264920e+17</td>\n",
              "      <td>negative</td>\n",
              "      <td>Oh is there really a 2 hour delay tomorrow oh ...</td>\n",
              "      <td>oh is there really a 2 hour delay tomorrow oh ...</td>\n",
              "      <td>2</td>\n",
              "    </tr>\n",
              "    <tr>\n",
              "      <th>114217</th>\n",
              "      <td>4.344720e+17</td>\n",
              "      <td>positive</td>\n",
              "      <td>More snow tomorrow Wooooooooooooooo! @Taggzzz ...</td>\n",
              "      <td>more snow tomorrow wooooooooooooooo! \"</td>\n",
              "      <td>1</td>\n",
              "    </tr>\n",
              "  </tbody>\n",
              "</table>\n",
              "<p>114218 rows × 5 columns</p>\n",
              "</div>"
            ],
            "text/plain": [
              "             Column1  ... Sentiment_Value\n",
              "0       6.200000e+17  ...               0\n",
              "1       6.200000e+17  ...               0\n",
              "2       6.200000e+17  ...               2\n",
              "3       6.200000e+17  ...               0\n",
              "4       6.200000e+17  ...               1\n",
              "...              ...  ...             ...\n",
              "114213  4.277950e+17  ...               1\n",
              "114214  4.381630e+17  ...               1\n",
              "114215  4.256920e+17  ...               2\n",
              "114216  4.264920e+17  ...               2\n",
              "114217  4.344720e+17  ...               1\n",
              "\n",
              "[114218 rows x 5 columns]"
            ]
          },
          "metadata": {
            "tags": []
          },
          "execution_count": 42
        }
      ]
    },
    {
      "cell_type": "code",
      "metadata": {
        "id": "lPrL0u6wqIuI",
        "colab": {
          "base_uri": "https://localhost:8080/"
        },
        "outputId": "624c2ef5-d020-4cbf-b362-323a33243ebc"
      },
      "source": [
        "train['l'] = train_set['Tweet_Clean_Text'].apply(lambda x: len(str(x).split(' ')))\n",
        "print(\"mean length of sentence: \" + str(train.l.mean()))\n",
        "print(\"max length of sentence: \" + str(train.l.max()))\n",
        "print(\"std dev length of sentence: \" + str(train.l.std()))"
      ],
      "execution_count": 43,
      "outputs": [
        {
          "output_type": "stream",
          "text": [
            "mean length of sentence: 16.71109632457231\n",
            "max length of sentence: 40.0\n",
            "std dev length of sentence: 6.5991113050835795\n"
          ],
          "name": "stdout"
        }
      ]
    },
    {
      "cell_type": "code",
      "metadata": {
        "id": "JmNsjX3Z1K7Q"
      },
      "source": [
        "sequence_length = train.l.max() #using the maximum length "
      ],
      "execution_count": 44,
      "outputs": []
    },
    {
      "cell_type": "code",
      "metadata": {
        "id": "7mrlqPjcqhUI",
        "colab": {
          "base_uri": "https://localhost:8080/"
        },
        "outputId": "1fa676cc-4ec9-4db5-8f71-cf4f55c7a0ca"
      },
      "source": [
        "tokenizer = Tokenizer()\n",
        "tokenizer.fit_on_texts(train_set['Tweet_Clean_Text'].values)\n",
        "\n",
        "X = tokenizer.texts_to_sequences(train_set['Tweet_Clean_Text'].values)\n",
        "X = pad_sequences(X, maxlen=int(sequence_length), padding='post')\n",
        "\n",
        "print(\"training size \" + str(len(X)))\n",
        "\n",
        "voc_size = len(tokenizer.word_index) + 1\n",
        "print(\"Vocab size: \", voc_size)\n",
        "print(\"Input shape: \", X.shape)\n",
        "print(\"Labels shape: \" , label.shape)"
      ],
      "execution_count": 70,
      "outputs": [
        {
          "output_type": "stream",
          "text": [
            "training size 114218\n",
            "Vocab size:  73456\n",
            "Input shape:  (114218, 40)\n",
            "Labels shape:  (114218, 3)\n"
          ],
          "name": "stdout"
        }
      ]
    },
    {
      "cell_type": "markdown",
      "metadata": {
        "id": "vsv4hwJPzD7o"
      },
      "source": [
        "Spliting the dataset"
      ]
    },
    {
      "cell_type": "code",
      "metadata": {
        "id": "AhX8T4-NBO-A"
      },
      "source": [
        "#FINAL DATASETS (Please note case sensitivity)- TRAINING: (X_train,Y_train)  VALIDATION: (X_val, Y_val)  TEST: (X_test, Y_test)\r\n",
        "\r\n",
        "x_train, X_test, y_train, Y_test = train_test_split(X, label, test_size=0.10, shuffle=False, random_state=10)\r\n",
        "\r\n",
        "X_train, X_val, Y_train, Y_val = train_test_split(x_train, y_train, test_size=0.15, shuffle=True, random_state=10)"
      ],
      "execution_count": 71,
      "outputs": []
    },
    {
      "cell_type": "markdown",
      "metadata": {
        "id": "8ml2XYDrzKsZ"
      },
      "source": [
        "GloVe Embedding"
      ]
    },
    {
      "cell_type": "code",
      "metadata": {
        "id": "lZf4uIiIm_6A",
        "colab": {
          "base_uri": "https://localhost:8080/"
        },
        "outputId": "347d3751-d2b7-4763-81c4-edb60ef7fc18"
      },
      "source": [
        "embeddings_index = dict()\r\n",
        "f = open('/content/drive/MyDrive/glove.twitter.27B/glove.twitter.27B.200d.txt')\r\n",
        "for line in f:\r\n",
        "\tvalues = line.split()\r\n",
        "\tword = values[0]\r\n",
        "\tcoefs = asarray(values[1:], dtype='float32')\r\n",
        "\tembeddings_index[word] = coefs\r\n",
        "f.close()\r\n",
        "print('Loaded %s word vectors.' % len(embeddings_index))"
      ],
      "execution_count": 75,
      "outputs": [
        {
          "output_type": "stream",
          "text": [
            "Loaded 1193514 word vectors.\n"
          ],
          "name": "stdout"
        }
      ]
    },
    {
      "cell_type": "code",
      "metadata": {
        "id": "MoMjKu5Ln5ip"
      },
      "source": [
        "embedding_dim = 200\r\n",
        "embedding_matrix = np.zeros((voc_size, embedding_dim))\r\n",
        "for word, i in tokenizer.word_index.items():\r\n",
        "\tembedding_vector = embeddings_index.get(word)\r\n",
        "\tif embedding_vector is not None:\r\n",
        "\t\tembedding_matrix[i] = embedding_vector"
      ],
      "execution_count": 76,
      "outputs": []
    },
    {
      "cell_type": "markdown",
      "metadata": {
        "id": "QNGi4e67iyO9"
      },
      "source": [
        "Metrics"
      ]
    },
    {
      "cell_type": "code",
      "metadata": {
        "id": "zDGOkChP4YNx"
      },
      "source": [
        "def recall_score(y_true, y_pred):\r\n",
        "    true_positives = K.sum(K.round(K.clip(y_true * y_pred, 0, 1)))\r\n",
        "    possible_positives = K.sum(K.round(K.clip(y_true, 0, 1)))\r\n",
        "    recall = true_positives / (possible_positives + K.epsilon())\r\n",
        "    recall_score.__name__ = 'recall'\r\n",
        "    return recall\r\n",
        "\r\n",
        "def precision_score(y_true, y_pred):\r\n",
        "    true_positives = K.sum(K.round(K.clip(y_true * y_pred, 0, 1)))\r\n",
        "    predicted_positives = K.sum(K.round(K.clip(y_pred, 0, 1)))\r\n",
        "    precision = true_positives / (predicted_positives + K.epsilon())\r\n",
        "    precision_score.__name__ = 'precision'\r\n",
        "    return precision\r\n",
        "\r\n",
        "def f1_metrics(y_true, y_pred):\r\n",
        "    precision = precision_score(y_true, y_pred)\r\n",
        "    recall = recall_score(y_true, y_pred)\r\n",
        "    return 2*((precision*recall)/(precision+recall+K.epsilon()))"
      ],
      "execution_count": 77,
      "outputs": []
    },
    {
      "cell_type": "code",
      "metadata": {
        "id": "14wD5oBm5ftK"
      },
      "source": [
        "def model_gen(filter_sizes, model_save_path):\r\n",
        "\r\n",
        "  model_checkpoint = tf.keras.callbacks.ModelCheckpoint(\r\n",
        "      filepath= model_save_path + str(filter_sizes) + '.h5',\r\n",
        "      save_weights_only = False,\r\n",
        "      monitor = 'val_f1_metrics',\r\n",
        "      mode= 'max',\r\n",
        "      save_best_only= True,\r\n",
        "      save_freq='epoch'\r\n",
        "  )\r\n",
        "\r\n",
        "  early_stopping_callback = keras.callbacks.EarlyStopping(monitor='val_loss', patience=3)\r\n",
        "\r\n",
        "  reduce_lr_callback = keras.callbacks.ReduceLROnPlateau(monitor='val_categorical_accuracy', factor=0.2, patience=2, min_lr=0.00001)\r\n",
        "\r\n",
        "  output_dims = 200\r\n",
        "  lstm_out = filter_sizes\r\n",
        "\r\n",
        "  model = keras.Sequential([\r\n",
        "      layers.Embedding(input_dim=voc_size, output_dim=output_dims, input_length=X.shape[1], weights=[embedding_matrix]),\r\n",
        "      layers.SpatialDropout1D(0.2),\r\n",
        "      layers.Bidirectional(layers.LSTM(units=lstm_out, dropout=0.2, recurrent_dropout=0.2)),\r\n",
        "      layers.Dense(units=3, activation='softmax')\r\n",
        "      ])\r\n",
        "\r\n",
        "  metrics = [\r\n",
        "           keras.metrics.CategoricalAccuracy(),\r\n",
        "           keras.metrics.Precision(name='precision'),\r\n",
        "           keras.metrics.Recall(name='recall'),\r\n",
        "           f1_metrics,\r\n",
        "  ]\r\n",
        "\r\n",
        "  model.compile(optimizer='adam',\r\n",
        "              loss=keras.losses.CategoricalCrossentropy(),\r\n",
        "              metrics=metrics\r\n",
        "              )\r\n",
        "\r\n",
        "  history = model.fit(X_train,\r\n",
        "                      Y_train,\r\n",
        "                      batch_size=3000,\r\n",
        "                      epochs=20,\r\n",
        "                      validation_data=(X_val,Y_val),\r\n",
        "                      shuffle=True,\r\n",
        "                      callbacks=[model_checkpoint, early_stopping_callback, reduce_lr_callback]\r\n",
        "  )\r\n",
        "\r\n",
        "  return model, history"
      ],
      "execution_count": 78,
      "outputs": []
    },
    {
      "cell_type": "code",
      "metadata": {
        "id": "5WEwkiOJD56C"
      },
      "source": [
        "filter_sizes = [\r\n",
        "                200,256,352,456,532\r\n",
        "                ]\r\n",
        "models = []\r\n",
        "best_indiv = 0.0\r\n",
        "for filter_size in filter_sizes:\r\n",
        "  model, history = model_gen(filter_size, 'models/LSTM')\r\n",
        "  models.append(model)\r\n",
        "  best_indiv = max(best_indiv, max(history.history['val_f1_metrics']))"
      ],
      "execution_count": null,
      "outputs": []
    },
    {
      "cell_type": "code",
      "metadata": {
        "colab": {
          "base_uri": "https://localhost:8080/"
        },
        "id": "d_XCvKtV4w8U",
        "outputId": "8bfb2b40-ee32-44cc-d7c2-ad52d2095431"
      },
      "source": [
        "for i, model in enumerate(models):\r\n",
        "  print(\"\\nModel_{0}\".format(i))\r\n",
        "  model.evaluate(X_test, Y_test, batch_size=1000)"
      ],
      "execution_count": 80,
      "outputs": [
        {
          "output_type": "stream",
          "text": [
            "\n",
            "Model_0\n",
            "12/12 [==============================] - 1s 120ms/step - loss: 0.8104 - categorical_accuracy: 0.6599 - precision: 0.6745 - recall: 0.6403 - f1_metrics: 0.6522\n",
            "\n",
            "Model_1\n",
            "12/12 [==============================] - 2s 133ms/step - loss: 0.7744 - categorical_accuracy: 0.6544 - precision: 0.6732 - recall: 0.6311 - f1_metrics: 0.6463\n",
            "\n",
            "Model_2\n",
            "12/12 [==============================] - 2s 174ms/step - loss: 0.7733 - categorical_accuracy: 0.6580 - precision: 0.6769 - recall: 0.6375 - f1_metrics: 0.6517\n",
            "\n",
            "Model_3\n",
            "12/12 [==============================] - 3s 217ms/step - loss: 0.8062 - categorical_accuracy: 0.6621 - precision: 0.6761 - recall: 0.6382 - f1_metrics: 0.6514\n"
          ],
          "name": "stdout"
        }
      ]
    },
    {
      "cell_type": "code",
      "metadata": {
        "id": "8kiiExhcn4UA",
        "colab": {
          "base_uri": "https://localhost:8080/"
        },
        "outputId": "85a190b4-8333-4082-883e-952acc0d63b0"
      },
      "source": [
        "best_indiv"
      ],
      "execution_count": 81,
      "outputs": [
        {
          "output_type": "execute_result",
          "data": {
            "text/plain": [
              "0.7248726487159729"
            ]
          },
          "metadata": {
            "tags": []
          },
          "execution_count": 81
        }
      ]
    },
    {
      "cell_type": "code",
      "metadata": {
        "id": "3w5eBHJCEo4l"
      },
      "source": [
        "train_predictions_LSTM = []\r\n",
        "test_predictions_LSTM = []\r\n",
        "\r\n",
        "for model in models:\r\n",
        "  train_predictions_LSTM.append(model.predict([X_train], batch_size=1024))\r\n",
        "  test_predictions_LSTM.append(model.predict([X_val], batch_size=1024))"
      ],
      "execution_count": 82,
      "outputs": []
    },
    {
      "cell_type": "code",
      "metadata": {
        "id": "0CMagrBXEf-K",
        "colab": {
          "base_uri": "https://localhost:8080/"
        },
        "outputId": "2c9f2d52-bbd8-4276-e70e-344182784b62"
      },
      "source": [
        "ndarray = np.array(train_predictions_LSTM)\r\n",
        "positive = ndarray[:,:,0]\r\n",
        "neutral = ndarray[:,:,1]\r\n",
        "negative = ndarray[:,:,2]\r\n",
        "\r\n",
        "average = (np.corrcoef(positive) + np.corrcoef(neutral) + np.corrcoef(negative))/3\r\n",
        "average"
      ],
      "execution_count": 83,
      "outputs": [
        {
          "output_type": "execute_result",
          "data": {
            "text/plain": [
              "array([[1.        , 0.98609026, 0.98519613, 0.98165782],\n",
              "       [0.98609026, 1.        , 0.99040764, 0.97987778],\n",
              "       [0.98519613, 0.99040764, 1.        , 0.97581993],\n",
              "       [0.98165782, 0.97987778, 0.97581993, 1.        ]])"
            ]
          },
          "metadata": {
            "tags": []
          },
          "execution_count": 83
        }
      ]
    },
    {
      "cell_type": "code",
      "metadata": {
        "id": "DaOKb0siEhAH",
        "colab": {
          "base_uri": "https://localhost:8080/",
          "height": 557
        },
        "outputId": "5f630f8f-5d87-4a28-90ee-f1832fe70491"
      },
      "source": [
        "import seaborn as sns\r\n",
        "\r\n",
        "sns.set_theme(style=\"white\")\r\n",
        "\r\n",
        "mask = np.triu(np.ones_like(average, dtype=bool))\r\n",
        "\r\n",
        "f, ax = plt.subplots(figsize=(11,9))\r\n",
        "\r\n",
        "cmap = sns.diverging_palette(220,20, n=9, as_cmap=True)\r\n",
        "\r\n",
        "sns.heatmap(average, mask=mask, cmap=cmap, vmax=1, vmin=.75, center=.9,\r\n",
        "            square=True, linewidth=.5, cbar_kws={\"shrink\":.5})"
      ],
      "execution_count": 84,
      "outputs": [
        {
          "output_type": "execute_result",
          "data": {
            "text/plain": [
              "<matplotlib.axes._subplots.AxesSubplot at 0x7f9a47426320>"
            ]
          },
          "metadata": {
            "tags": []
          },
          "execution_count": 84
        },
        {
          "output_type": "display_data",
          "data": {
            "image/png": "[encoded data removed]",
            "text/plain": [
              "<Figure size 792x648 with 2 Axes>"
            ]
          },
          "metadata": {
            "tags": []
          }
        }
      ]
    }
  ]
}