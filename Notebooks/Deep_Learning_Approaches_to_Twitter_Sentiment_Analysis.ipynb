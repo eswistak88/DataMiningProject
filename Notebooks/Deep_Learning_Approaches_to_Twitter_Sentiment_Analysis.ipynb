{
  "nbformat": 4,
  "nbformat_minor": 0,
  "metadata": {
    "colab": {
      "name": "Deep Learning Approaches to Twitter Sentiment Analysis.ipynb",
      "provenance": [],
      "collapsed_sections": [],
      "toc_visible": true
    },
    "kernelspec": {
      "name": "python3",
      "display_name": "Python 3"
    }
  },
  "cells": [
    {
      "cell_type": "markdown",
      "metadata": {
        "id": "1hP4M0DyOFUV"
      },
      "source": [
        "# 1. Get Tweets related to COVID-19 with Twitter API using Tweepy\n",
        "\n",
        "**Twitter API imposes a Data rate limitation and hence this code is run persistenlty with waiting times (setting parameters wait_on_rate_limit=True, wait_on_rate_limit_notify=True, to handle this). (Consider other alternatives if possible)**"
      ]
    },
    {
      "cell_type": "code",
      "metadata": {
        "colab": {
          "base_uri": "https://localhost:8080/"
        },
        "id": "pcMpV6UAqQQ0",
        "outputId": "13341b5e-ad8e-42e0-d284-871682b84855"
      },
      "source": [
        "pip install vaderSentiment"
      ],
      "execution_count": 1,
      "outputs": [
        {
          "output_type": "stream",
          "text": [
            "Collecting vaderSentiment\n",
            "\u001b[?25l  Downloading https://files.pythonhosted.org/packages/76/fc/310e16254683c1ed35eeb97386986d6c00bc29df17ce280aed64d55537e9/vaderSentiment-3.3.2-py2.py3-none-any.whl (125kB)\n",
            "\r\u001b[K     |██▋                             | 10kB 16.5MB/s eta 0:00:01\r\u001b[K     |█████▏                          | 20kB 20.9MB/s eta 0:00:01\r\u001b[K     |███████▉                        | 30kB 10.2MB/s eta 0:00:01\r\u001b[K     |██████████▍                     | 40kB 8.3MB/s eta 0:00:01\r\u001b[K     |█████████████                   | 51kB 4.5MB/s eta 0:00:01\r\u001b[K     |███████████████▋                | 61kB 4.5MB/s eta 0:00:01\r\u001b[K     |██████████████████▏             | 71kB 4.9MB/s eta 0:00:01\r\u001b[K     |████████████████████▉           | 81kB 5.3MB/s eta 0:00:01\r\u001b[K     |███████████████████████▍        | 92kB 5.4MB/s eta 0:00:01\r\u001b[K     |██████████████████████████      | 102kB 5.7MB/s eta 0:00:01\r\u001b[K     |████████████████████████████▋   | 112kB 5.7MB/s eta 0:00:01\r\u001b[K     |███████████████████████████████▏| 122kB 5.7MB/s eta 0:00:01\r\u001b[K     |████████████████████████████████| 133kB 5.7MB/s \n",
            "\u001b[?25hRequirement already satisfied: requests in /usr/local/lib/python3.6/dist-packages (from vaderSentiment) (2.23.0)\n",
            "Requirement already satisfied: certifi>=2017.4.17 in /usr/local/lib/python3.6/dist-packages (from requests->vaderSentiment) (2020.11.8)\n",
            "Requirement already satisfied: urllib3!=1.25.0,!=1.25.1,<1.26,>=1.21.1 in /usr/local/lib/python3.6/dist-packages (from requests->vaderSentiment) (1.24.3)\n",
            "Requirement already satisfied: idna<3,>=2.5 in /usr/local/lib/python3.6/dist-packages (from requests->vaderSentiment) (2.10)\n",
            "Requirement already satisfied: chardet<4,>=3.0.2 in /usr/local/lib/python3.6/dist-packages (from requests->vaderSentiment) (3.0.4)\n",
            "Installing collected packages: vaderSentiment\n",
            "Successfully installed vaderSentiment-3.3.2\n"
          ],
          "name": "stdout"
        }
      ]
    },
    {
      "cell_type": "code",
      "metadata": {
        "id": "hKFDqohpydvf"
      },
      "source": [
        "import os\n",
        "import tweepy as tw\n",
        "import pandas as pd\n",
        "import csv\n",
        "import pandas as pd\n",
        "import glob\n",
        "from nltk.corpus import stopwords\n",
        "from vaderSentiment.vaderSentiment import SentimentIntensityAnalyzer\n",
        "import numpy as np\n",
        "import re"
      ],
      "execution_count": 2,
      "outputs": []
    },
    {
      "cell_type": "code",
      "metadata": {
        "id": "lS4hA75GqOBn"
      },
      "source": [
        "analyser = SentimentIntensityAnalyzer()"
      ],
      "execution_count": 3,
      "outputs": []
    },
    {
      "cell_type": "code",
      "metadata": {
        "id": "taALyiIVpogn"
      },
      "source": [
        "consumer_key= ''\n",
        "consumer_secret= ''\n",
        "access_token= ''\n",
        "access_token_secret= ''"
      ],
      "execution_count": null,
      "outputs": []
    },
    {
      "cell_type": "code",
      "metadata": {
        "id": "PoJo_hUtp2SH"
      },
      "source": [
        "auth = tw.OAuthHandler(consumer_key, consumer_secret)\n",
        "auth.set_access_token(access_token, access_token_secret)\n",
        "api = tw.API(auth, wait_on_rate_limit=True, wait_on_rate_limit_notify=True)"
      ],
      "execution_count": null,
      "outputs": []
    },
    {
      "cell_type": "code",
      "metadata": {
        "id": "K6H9xGIEqIQH"
      },
      "source": [
        "search_words = '#COVIDー19 -filter:retweets'\n",
        "date_since_1 = \"2020-10-01\"\n",
        "date_since_2 = \"2020-10-20\"\n",
        "date_since_3 = \"2020-11-01\"\n",
        "date_since_4 = \"2020-11-20\"\n",
        "date_since_5 = \"2020-04-01\"\n",
        "date_since_6 = \"2020-04-10\"\n",
        "date_since_7 = \"2020-04-20\"\n",
        "date_since_8 = \"2020-05-01\"\n",
        "date_since_9 = \"2020-05-10\"\n",
        "date_since_10 = \"2020-05-20\"\n",
        "date_since_11 = \"2020-06-01\"\n",
        "date_since_12 = \"2020-06-10\"\n",
        "date_since_13 = \"2020-06-20\"\n",
        "date_since_14 = \"2020-07-01\"\n",
        "date_since_15 = \"2020-07-10\"\n",
        "date_since_16 = \"2020-07-20\"\n",
        "date_since_17 = \"2020-08-01\"\n",
        "date_since_18 = \"2020-08-10\"\n",
        "date_since_19 = \"2020-08-20\"\n",
        "date_since_20 = \"2020-09-01\"\n",
        "date_list = [date_since_9, date_since_10, date_since_11, date_since_12, date_since_13, date_since_14, date_since_15, date_since_16, date_since_17, date_since_18, date_since_19, date_since_20]"
      ],
      "execution_count": null,
      "outputs": []
    },
    {
      "cell_type": "code",
      "metadata": {
        "id": "6KwN5XEiqbwX"
      },
      "source": [
        "# Function to Collect tweets. Iterator returned.\n",
        "def tweet_extractor(api, search_words, since_date):\n",
        "  tweets = tw.Cursor(api.search,\n",
        "              q=search_words,\n",
        "              lang=\"en\",\n",
        "              since=since_date).items(3000)\n",
        "  return tweets"
      ],
      "execution_count": null,
      "outputs": []
    },
    {
      "cell_type": "code",
      "metadata": {
        "id": "W9Wqwhbbia_f"
      },
      "source": [
        "#function to create the covid19 csv file\n",
        "def create_covid19_csv_data(csv_name, dict_list):\n",
        "  field_names= ['Tweet_Id', 'Tweet_Text']\n",
        "\n",
        "  with open(csv_name, 'w') as csvfile:\n",
        "    writer = csv.DictWriter(csvfile, fieldnames=field_names)\n",
        "    writer.writeheader()\n",
        "    writer.writerows(dict_list)"
      ],
      "execution_count": null,
      "outputs": []
    },
    {
      "cell_type": "code",
      "metadata": {
        "id": "qDEnI8Nypx0j"
      },
      "source": [
        "#Function to persistently create covid-19 data in seperate csv files\n",
        "def tweet_machine(api,search_words,date_list):\n",
        "  for date_since in date_list:\n",
        "    tweets = tweet_extractor(api=api, search_words=search_words, since_date=date_since)\n",
        "    tweet_dict_list = [{'Tweet_Id':tweet.id, 'Tweet_Text':tweet.text} for tweet in tweets]\n",
        "    csv_name = 'Tweets_COVID_19_Data_'+ date_since + '.csv'\n",
        "    create_covid19_csv_data(csv_name=csv_name, dict_list=tweet_dict_list)\n",
        "    tweet_dict_list.clear()"
      ],
      "execution_count": null,
      "outputs": []
    },
    {
      "cell_type": "code",
      "metadata": {
        "colab": {
          "base_uri": "https://localhost:8080/"
        },
        "id": "sv9pSyV8tQi0",
        "outputId": "aa0b88a2-e98a-4c19-e419-c1caf5c00c36"
      },
      "source": [
        "tweet_machine(api=api, search_words=search_words, date_list=date_list)"
      ],
      "execution_count": null,
      "outputs": [
        {
          "output_type": "stream",
          "text": [
            "Rate limit reached. Sleeping for: 853\n",
            "Rate limit reached. Sleeping for: 850\n",
            "Rate limit reached. Sleeping for: 853\n",
            "Rate limit reached. Sleeping for: 852\n",
            "Rate limit reached. Sleeping for: 853\n",
            "Rate limit reached. Sleeping for: 853\n",
            "Rate limit reached. Sleeping for: 852\n",
            "Rate limit reached. Sleeping for: 853\n",
            "Rate limit reached. Sleeping for: 852\n",
            "Rate limit reached. Sleeping for: 853\n",
            "Rate limit reached. Sleeping for: 852\n",
            "Rate limit reached. Sleeping for: 852\n",
            "Rate limit reached. Sleeping for: 851\n"
          ],
          "name": "stderr"
        }
      ]
    },
    {
      "cell_type": "markdown",
      "metadata": {
        "id": "Q17umrp39CJq"
      },
      "source": [
        "# 2. Data Cleaning"
      ]
    },
    {
      "cell_type": "markdown",
      "metadata": {
        "id": "dvvMCJjxn7zx"
      },
      "source": [
        "**Concatenate all csv files into one large corpus**"
      ]
    },
    {
      "cell_type": "code",
      "metadata": {
        "id": "XXo_igmI8tdx"
      },
      "source": [
        "def create_data_corpus(path):\n",
        "  files = glob.glob(path + \"/*.csv\")\n",
        "  df_list = []\n",
        "  \n",
        "  for file in files:\n",
        "    df = pd.read_csv(file, index_col=None, header=0)\n",
        "    df_list.append(df)\n",
        "\n",
        "  frame = pd.concat(df_list, axis=0, ignore_index=True)\n",
        "  return frame"
      ],
      "execution_count": 126,
      "outputs": []
    },
    {
      "cell_type": "markdown",
      "metadata": {
        "id": "QBIFPSvLndRK"
      },
      "source": [
        "**Remove Duplicate entries**"
      ]
    },
    {
      "cell_type": "code",
      "metadata": {
        "colab": {
          "base_uri": "https://localhost:8080/",
          "height": 402
        },
        "id": "Yo9RQGvkuWCI",
        "outputId": "97278d69-c441-4931-caa1-f0a8d3621397"
      },
      "source": [
        "frame = pd.read_csv('drive/My Drive/Workspace/TwitterData/Tweets_COVID_19_Data_2020-04-01.csv', index_col=None, header=0)\n",
        "frame"
      ],
      "execution_count": 153,
      "outputs": [
        {
          "output_type": "execute_result",
          "data": {
            "text/html": [
              "<div>\n",
              "<style scoped>\n",
              "    .dataframe tbody tr th:only-of-type {\n",
              "        vertical-align: middle;\n",
              "    }\n",
              "\n",
              "    .dataframe tbody tr th {\n",
              "        vertical-align: top;\n",
              "    }\n",
              "\n",
              "    .dataframe thead th {\n",
              "        text-align: right;\n",
              "    }\n",
              "</style>\n",
              "<table border=\"1\" class=\"dataframe\">\n",
              "  <thead>\n",
              "    <tr style=\"text-align: right;\">\n",
              "      <th></th>\n",
              "      <th>Tweet_Id</th>\n",
              "      <th>Tweet_Text</th>\n",
              "    </tr>\n",
              "  </thead>\n",
              "  <tbody>\n",
              "    <tr>\n",
              "      <th>0</th>\n",
              "      <td>1334919241741574145</td>\n",
              "      <td>Listen to RYAN BLISS - LOCKDOWN PARTY VOL 9 (E...</td>\n",
              "    </tr>\n",
              "    <tr>\n",
              "      <th>1</th>\n",
              "      <td>1334919173273686019</td>\n",
              "      <td>\"So how did the UK leapfrog the US in the race...</td>\n",
              "    </tr>\n",
              "    <tr>\n",
              "      <th>2</th>\n",
              "      <td>1334918981040435201</td>\n",
              "      <td>I did nazi that coming. #COVIDー19 https://t.co...</td>\n",
              "    </tr>\n",
              "    <tr>\n",
              "      <th>3</th>\n",
              "      <td>1334918928502546439</td>\n",
              "      <td>Wearing a fucking mask. #Illinois #COVID19 #CO...</td>\n",
              "    </tr>\n",
              "    <tr>\n",
              "      <th>4</th>\n",
              "      <td>1334918870222704643</td>\n",
              "      <td>Don't ask me why I change ask, yourself what y...</td>\n",
              "    </tr>\n",
              "    <tr>\n",
              "      <th>...</th>\n",
              "      <td>...</td>\n",
              "      <td>...</td>\n",
              "    </tr>\n",
              "    <tr>\n",
              "      <th>2995</th>\n",
              "      <td>1334696395576647681</td>\n",
              "      <td>#TheSilenceIsDeafening\\n\\nThread by @AvrahamCo...</td>\n",
              "    </tr>\n",
              "    <tr>\n",
              "      <th>2996</th>\n",
              "      <td>1334696316589514754</td>\n",
              "      <td>Our very own #Hitler in #Florida #DeSantis #CO...</td>\n",
              "    </tr>\n",
              "    <tr>\n",
              "      <th>2997</th>\n",
              "      <td>1334696308767158278</td>\n",
              "      <td>#COVIDー19\\nImran Khan addressing the United Na...</td>\n",
              "    </tr>\n",
              "    <tr>\n",
              "      <th>2998</th>\n",
              "      <td>1334696299107586049</td>\n",
              "      <td>Horrifying. #Nazi @America #ThursdayThoughts N...</td>\n",
              "    </tr>\n",
              "    <tr>\n",
              "      <th>2999</th>\n",
              "      <td>1334696298348417024</td>\n",
              "      <td>Still scaremongering? I think not. #COVIDー19 #...</td>\n",
              "    </tr>\n",
              "  </tbody>\n",
              "</table>\n",
              "<p>3000 rows × 2 columns</p>\n",
              "</div>"
            ],
            "text/plain": [
              "                 Tweet_Id                                         Tweet_Text\n",
              "0     1334919241741574145  Listen to RYAN BLISS - LOCKDOWN PARTY VOL 9 (E...\n",
              "1     1334919173273686019  \"So how did the UK leapfrog the US in the race...\n",
              "2     1334918981040435201  I did nazi that coming. #COVIDー19 https://t.co...\n",
              "3     1334918928502546439  Wearing a fucking mask. #Illinois #COVID19 #CO...\n",
              "4     1334918870222704643  Don't ask me why I change ask, yourself what y...\n",
              "...                   ...                                                ...\n",
              "2995  1334696395576647681  #TheSilenceIsDeafening\\n\\nThread by @AvrahamCo...\n",
              "2996  1334696316589514754  Our very own #Hitler in #Florida #DeSantis #CO...\n",
              "2997  1334696308767158278  #COVIDー19\\nImran Khan addressing the United Na...\n",
              "2998  1334696299107586049  Horrifying. #Nazi @America #ThursdayThoughts N...\n",
              "2999  1334696298348417024  Still scaremongering? I think not. #COVIDー19 #...\n",
              "\n",
              "[3000 rows x 2 columns]"
            ]
          },
          "metadata": {
            "tags": []
          },
          "execution_count": 153
        }
      ]
    },
    {
      "cell_type": "code",
      "metadata": {
        "colab": {
          "base_uri": "https://localhost:8080/",
          "height": 402
        },
        "id": "KHeFjoJskIzV",
        "outputId": "cffb2fea-b802-4c99-a82f-c570432dc043"
      },
      "source": [
        "frame = frame.drop_duplicates().reset_index(drop=True)\n",
        "frame"
      ],
      "execution_count": 154,
      "outputs": [
        {
          "output_type": "execute_result",
          "data": {
            "text/html": [
              "<div>\n",
              "<style scoped>\n",
              "    .dataframe tbody tr th:only-of-type {\n",
              "        vertical-align: middle;\n",
              "    }\n",
              "\n",
              "    .dataframe tbody tr th {\n",
              "        vertical-align: top;\n",
              "    }\n",
              "\n",
              "    .dataframe thead th {\n",
              "        text-align: right;\n",
              "    }\n",
              "</style>\n",
              "<table border=\"1\" class=\"dataframe\">\n",
              "  <thead>\n",
              "    <tr style=\"text-align: right;\">\n",
              "      <th></th>\n",
              "      <th>Tweet_Id</th>\n",
              "      <th>Tweet_Text</th>\n",
              "    </tr>\n",
              "  </thead>\n",
              "  <tbody>\n",
              "    <tr>\n",
              "      <th>0</th>\n",
              "      <td>1334919241741574145</td>\n",
              "      <td>Listen to RYAN BLISS - LOCKDOWN PARTY VOL 9 (E...</td>\n",
              "    </tr>\n",
              "    <tr>\n",
              "      <th>1</th>\n",
              "      <td>1334919173273686019</td>\n",
              "      <td>\"So how did the UK leapfrog the US in the race...</td>\n",
              "    </tr>\n",
              "    <tr>\n",
              "      <th>2</th>\n",
              "      <td>1334918981040435201</td>\n",
              "      <td>I did nazi that coming. #COVIDー19 https://t.co...</td>\n",
              "    </tr>\n",
              "    <tr>\n",
              "      <th>3</th>\n",
              "      <td>1334918928502546439</td>\n",
              "      <td>Wearing a fucking mask. #Illinois #COVID19 #CO...</td>\n",
              "    </tr>\n",
              "    <tr>\n",
              "      <th>4</th>\n",
              "      <td>1334918870222704643</td>\n",
              "      <td>Don't ask me why I change ask, yourself what y...</td>\n",
              "    </tr>\n",
              "    <tr>\n",
              "      <th>...</th>\n",
              "      <td>...</td>\n",
              "      <td>...</td>\n",
              "    </tr>\n",
              "    <tr>\n",
              "      <th>2995</th>\n",
              "      <td>1334696395576647681</td>\n",
              "      <td>#TheSilenceIsDeafening\\n\\nThread by @AvrahamCo...</td>\n",
              "    </tr>\n",
              "    <tr>\n",
              "      <th>2996</th>\n",
              "      <td>1334696316589514754</td>\n",
              "      <td>Our very own #Hitler in #Florida #DeSantis #CO...</td>\n",
              "    </tr>\n",
              "    <tr>\n",
              "      <th>2997</th>\n",
              "      <td>1334696308767158278</td>\n",
              "      <td>#COVIDー19\\nImran Khan addressing the United Na...</td>\n",
              "    </tr>\n",
              "    <tr>\n",
              "      <th>2998</th>\n",
              "      <td>1334696299107586049</td>\n",
              "      <td>Horrifying. #Nazi @America #ThursdayThoughts N...</td>\n",
              "    </tr>\n",
              "    <tr>\n",
              "      <th>2999</th>\n",
              "      <td>1334696298348417024</td>\n",
              "      <td>Still scaremongering? I think not. #COVIDー19 #...</td>\n",
              "    </tr>\n",
              "  </tbody>\n",
              "</table>\n",
              "<p>3000 rows × 2 columns</p>\n",
              "</div>"
            ],
            "text/plain": [
              "                 Tweet_Id                                         Tweet_Text\n",
              "0     1334919241741574145  Listen to RYAN BLISS - LOCKDOWN PARTY VOL 9 (E...\n",
              "1     1334919173273686019  \"So how did the UK leapfrog the US in the race...\n",
              "2     1334918981040435201  I did nazi that coming. #COVIDー19 https://t.co...\n",
              "3     1334918928502546439  Wearing a fucking mask. #Illinois #COVID19 #CO...\n",
              "4     1334918870222704643  Don't ask me why I change ask, yourself what y...\n",
              "...                   ...                                                ...\n",
              "2995  1334696395576647681  #TheSilenceIsDeafening\\n\\nThread by @AvrahamCo...\n",
              "2996  1334696316589514754  Our very own #Hitler in #Florida #DeSantis #CO...\n",
              "2997  1334696308767158278  #COVIDー19\\nImran Khan addressing the United Na...\n",
              "2998  1334696299107586049  Horrifying. #Nazi @America #ThursdayThoughts N...\n",
              "2999  1334696298348417024  Still scaremongering? I think not. #COVIDー19 #...\n",
              "\n",
              "[3000 rows x 2 columns]"
            ]
          },
          "metadata": {
            "tags": []
          },
          "execution_count": 154
        }
      ]
    },
    {
      "cell_type": "markdown",
      "metadata": {
        "id": "ozchllRRnj-i"
      },
      "source": [
        "**Remove Twitter Handles and return handles**"
      ]
    },
    {
      "cell_type": "code",
      "metadata": {
        "id": "--FOIDctt4V1"
      },
      "source": [
        "def remove_pattern(input_txt, pattern):\n",
        "  r = re.findall(pattern, input_txt)\n",
        "  for i in r:\n",
        "    input_txt = re.sub(i, '', input_txt)        \n",
        "  return input_txt"
      ],
      "execution_count": 155,
      "outputs": []
    },
    {
      "cell_type": "code",
      "metadata": {
        "colab": {
          "base_uri": "https://localhost:8080/",
          "height": 402
        },
        "id": "3hIluOUrn5tC",
        "outputId": "27ffa339-00ed-4b37-8264-0c45dae1a381"
      },
      "source": [
        "frame['Tweet_clean_Text'] = np.vectorize(remove_pattern)(frame['Tweet_Text'], \"RT @[\\w]*:\")\n",
        "frame.Tweet_clean_Text = np.vectorize(remove_pattern)(frame['Tweet_clean_Text'], \"@[\\w]*\")\n",
        "frame"
      ],
      "execution_count": 156,
      "outputs": [
        {
          "output_type": "execute_result",
          "data": {
            "text/html": [
              "<div>\n",
              "<style scoped>\n",
              "    .dataframe tbody tr th:only-of-type {\n",
              "        vertical-align: middle;\n",
              "    }\n",
              "\n",
              "    .dataframe tbody tr th {\n",
              "        vertical-align: top;\n",
              "    }\n",
              "\n",
              "    .dataframe thead th {\n",
              "        text-align: right;\n",
              "    }\n",
              "</style>\n",
              "<table border=\"1\" class=\"dataframe\">\n",
              "  <thead>\n",
              "    <tr style=\"text-align: right;\">\n",
              "      <th></th>\n",
              "      <th>Tweet_Id</th>\n",
              "      <th>Tweet_Text</th>\n",
              "      <th>Tweet_clean_Text</th>\n",
              "    </tr>\n",
              "  </thead>\n",
              "  <tbody>\n",
              "    <tr>\n",
              "      <th>0</th>\n",
              "      <td>1334919241741574145</td>\n",
              "      <td>Listen to RYAN BLISS - LOCKDOWN PARTY VOL 9 (E...</td>\n",
              "      <td>Listen to RYAN BLISS - LOCKDOWN PARTY VOL 9 (E...</td>\n",
              "    </tr>\n",
              "    <tr>\n",
              "      <th>1</th>\n",
              "      <td>1334919173273686019</td>\n",
              "      <td>\"So how did the UK leapfrog the US in the race...</td>\n",
              "      <td>\"So how did the UK leapfrog the US in the race...</td>\n",
              "    </tr>\n",
              "    <tr>\n",
              "      <th>2</th>\n",
              "      <td>1334918981040435201</td>\n",
              "      <td>I did nazi that coming. #COVIDー19 https://t.co...</td>\n",
              "      <td>I did nazi that coming. #COVIDー19 https://t.co...</td>\n",
              "    </tr>\n",
              "    <tr>\n",
              "      <th>3</th>\n",
              "      <td>1334918928502546439</td>\n",
              "      <td>Wearing a fucking mask. #Illinois #COVID19 #CO...</td>\n",
              "      <td>Wearing a fucking mask. #Illinois #COVID19 #CO...</td>\n",
              "    </tr>\n",
              "    <tr>\n",
              "      <th>4</th>\n",
              "      <td>1334918870222704643</td>\n",
              "      <td>Don't ask me why I change ask, yourself what y...</td>\n",
              "      <td>Don't ask me why I change ask, yourself what y...</td>\n",
              "    </tr>\n",
              "    <tr>\n",
              "      <th>...</th>\n",
              "      <td>...</td>\n",
              "      <td>...</td>\n",
              "      <td>...</td>\n",
              "    </tr>\n",
              "    <tr>\n",
              "      <th>2995</th>\n",
              "      <td>1334696395576647681</td>\n",
              "      <td>#TheSilenceIsDeafening\\n\\nThread by @AvrahamCo...</td>\n",
              "      <td>#TheSilenceIsDeafening\\n\\nThread by : In the I...</td>\n",
              "    </tr>\n",
              "    <tr>\n",
              "      <th>2996</th>\n",
              "      <td>1334696316589514754</td>\n",
              "      <td>Our very own #Hitler in #Florida #DeSantis #CO...</td>\n",
              "      <td>Our very own #Hitler in #Florida #DeSantis #CO...</td>\n",
              "    </tr>\n",
              "    <tr>\n",
              "      <th>2997</th>\n",
              "      <td>1334696308767158278</td>\n",
              "      <td>#COVIDー19\\nImran Khan addressing the United Na...</td>\n",
              "      <td>#COVIDー19\\nImran Khan addressing the United Na...</td>\n",
              "    </tr>\n",
              "    <tr>\n",
              "      <th>2998</th>\n",
              "      <td>1334696299107586049</td>\n",
              "      <td>Horrifying. #Nazi @America #ThursdayThoughts N...</td>\n",
              "      <td>Horrifying. #Nazi  #ThursdayThoughts NO #COVID...</td>\n",
              "    </tr>\n",
              "    <tr>\n",
              "      <th>2999</th>\n",
              "      <td>1334696298348417024</td>\n",
              "      <td>Still scaremongering? I think not. #COVIDー19 #...</td>\n",
              "      <td>Still scaremongering? I think not. #COVIDー19 #...</td>\n",
              "    </tr>\n",
              "  </tbody>\n",
              "</table>\n",
              "<p>3000 rows × 3 columns</p>\n",
              "</div>"
            ],
            "text/plain": [
              "                 Tweet_Id  ...                                   Tweet_clean_Text\n",
              "0     1334919241741574145  ...  Listen to RYAN BLISS - LOCKDOWN PARTY VOL 9 (E...\n",
              "1     1334919173273686019  ...  \"So how did the UK leapfrog the US in the race...\n",
              "2     1334918981040435201  ...  I did nazi that coming. #COVIDー19 https://t.co...\n",
              "3     1334918928502546439  ...  Wearing a fucking mask. #Illinois #COVID19 #CO...\n",
              "4     1334918870222704643  ...  Don't ask me why I change ask, yourself what y...\n",
              "...                   ...  ...                                                ...\n",
              "2995  1334696395576647681  ...  #TheSilenceIsDeafening\\n\\nThread by : In the I...\n",
              "2996  1334696316589514754  ...  Our very own #Hitler in #Florida #DeSantis #CO...\n",
              "2997  1334696308767158278  ...  #COVIDー19\\nImran Khan addressing the United Na...\n",
              "2998  1334696299107586049  ...  Horrifying. #Nazi  #ThursdayThoughts NO #COVID...\n",
              "2999  1334696298348417024  ...  Still scaremongering? I think not. #COVIDー19 #...\n",
              "\n",
              "[3000 rows x 3 columns]"
            ]
          },
          "metadata": {
            "tags": []
          },
          "execution_count": 156
        }
      ]
    },
    {
      "cell_type": "markdown",
      "metadata": {
        "id": "T2i6VApHtYHE"
      },
      "source": [
        "**Remove URL Links**"
      ]
    },
    {
      "cell_type": "code",
      "metadata": {
        "colab": {
          "base_uri": "https://localhost:8080/",
          "height": 402
        },
        "id": "rQ2BxrrTthAe",
        "outputId": "a14f2c8b-e789-4550-af8d-f3d191e8fda5"
      },
      "source": [
        "frame.Tweet_clean_Text = np.vectorize(remove_pattern)(frame['Tweet_clean_Text'], \"https?://[A-Za-z0-9./]*\")\n",
        "frame"
      ],
      "execution_count": 157,
      "outputs": [
        {
          "output_type": "execute_result",
          "data": {
            "text/html": [
              "<div>\n",
              "<style scoped>\n",
              "    .dataframe tbody tr th:only-of-type {\n",
              "        vertical-align: middle;\n",
              "    }\n",
              "\n",
              "    .dataframe tbody tr th {\n",
              "        vertical-align: top;\n",
              "    }\n",
              "\n",
              "    .dataframe thead th {\n",
              "        text-align: right;\n",
              "    }\n",
              "</style>\n",
              "<table border=\"1\" class=\"dataframe\">\n",
              "  <thead>\n",
              "    <tr style=\"text-align: right;\">\n",
              "      <th></th>\n",
              "      <th>Tweet_Id</th>\n",
              "      <th>Tweet_Text</th>\n",
              "      <th>Tweet_clean_Text</th>\n",
              "    </tr>\n",
              "  </thead>\n",
              "  <tbody>\n",
              "    <tr>\n",
              "      <th>0</th>\n",
              "      <td>1334919241741574145</td>\n",
              "      <td>Listen to RYAN BLISS - LOCKDOWN PARTY VOL 9 (E...</td>\n",
              "      <td>Listen to RYAN BLISS - LOCKDOWN PARTY VOL 9 (E...</td>\n",
              "    </tr>\n",
              "    <tr>\n",
              "      <th>1</th>\n",
              "      <td>1334919173273686019</td>\n",
              "      <td>\"So how did the UK leapfrog the US in the race...</td>\n",
              "      <td>\"So how did the UK leapfrog the US in the race...</td>\n",
              "    </tr>\n",
              "    <tr>\n",
              "      <th>2</th>\n",
              "      <td>1334918981040435201</td>\n",
              "      <td>I did nazi that coming. #COVIDー19 https://t.co...</td>\n",
              "      <td>I did nazi that coming. #COVIDー19</td>\n",
              "    </tr>\n",
              "    <tr>\n",
              "      <th>3</th>\n",
              "      <td>1334918928502546439</td>\n",
              "      <td>Wearing a fucking mask. #Illinois #COVID19 #CO...</td>\n",
              "      <td>Wearing a fucking mask. #Illinois #COVID19 #CO...</td>\n",
              "    </tr>\n",
              "    <tr>\n",
              "      <th>4</th>\n",
              "      <td>1334918870222704643</td>\n",
              "      <td>Don't ask me why I change ask, yourself what y...</td>\n",
              "      <td>Don't ask me why I change ask, yourself what y...</td>\n",
              "    </tr>\n",
              "    <tr>\n",
              "      <th>...</th>\n",
              "      <td>...</td>\n",
              "      <td>...</td>\n",
              "      <td>...</td>\n",
              "    </tr>\n",
              "    <tr>\n",
              "      <th>2995</th>\n",
              "      <td>1334696395576647681</td>\n",
              "      <td>#TheSilenceIsDeafening\\n\\nThread by @AvrahamCo...</td>\n",
              "      <td>#TheSilenceIsDeafening\\n\\nThread by : In the I...</td>\n",
              "    </tr>\n",
              "    <tr>\n",
              "      <th>2996</th>\n",
              "      <td>1334696316589514754</td>\n",
              "      <td>Our very own #Hitler in #Florida #DeSantis #CO...</td>\n",
              "      <td>Our very own #Hitler in #Florida #DeSantis #CO...</td>\n",
              "    </tr>\n",
              "    <tr>\n",
              "      <th>2997</th>\n",
              "      <td>1334696308767158278</td>\n",
              "      <td>#COVIDー19\\nImran Khan addressing the United Na...</td>\n",
              "      <td>#COVIDー19\\nImran Khan addressing the United Na...</td>\n",
              "    </tr>\n",
              "    <tr>\n",
              "      <th>2998</th>\n",
              "      <td>1334696299107586049</td>\n",
              "      <td>Horrifying. #Nazi @America #ThursdayThoughts N...</td>\n",
              "      <td>Horrifying. #Nazi  #ThursdayThoughts NO #COVID...</td>\n",
              "    </tr>\n",
              "    <tr>\n",
              "      <th>2999</th>\n",
              "      <td>1334696298348417024</td>\n",
              "      <td>Still scaremongering? I think not. #COVIDー19 #...</td>\n",
              "      <td>Still scaremongering? I think not. #COVIDー19 #...</td>\n",
              "    </tr>\n",
              "  </tbody>\n",
              "</table>\n",
              "<p>3000 rows × 3 columns</p>\n",
              "</div>"
            ],
            "text/plain": [
              "                 Tweet_Id  ...                                   Tweet_clean_Text\n",
              "0     1334919241741574145  ...  Listen to RYAN BLISS - LOCKDOWN PARTY VOL 9 (E...\n",
              "1     1334919173273686019  ...  \"So how did the UK leapfrog the US in the race...\n",
              "2     1334918981040435201  ...                 I did nazi that coming. #COVIDー19 \n",
              "3     1334918928502546439  ...  Wearing a fucking mask. #Illinois #COVID19 #CO...\n",
              "4     1334918870222704643  ...  Don't ask me why I change ask, yourself what y...\n",
              "...                   ...  ...                                                ...\n",
              "2995  1334696395576647681  ...  #TheSilenceIsDeafening\\n\\nThread by : In the I...\n",
              "2996  1334696316589514754  ...  Our very own #Hitler in #Florida #DeSantis #CO...\n",
              "2997  1334696308767158278  ...  #COVIDー19\\nImran Khan addressing the United Na...\n",
              "2998  1334696299107586049  ...  Horrifying. #Nazi  #ThursdayThoughts NO #COVID...\n",
              "2999  1334696298348417024  ...  Still scaremongering? I think not. #COVIDー19 #...\n",
              "\n",
              "[3000 rows x 3 columns]"
            ]
          },
          "metadata": {
            "tags": []
          },
          "execution_count": 157
        }
      ]
    },
    {
      "cell_type": "markdown",
      "metadata": {
        "id": "zJeQaTOJufZS"
      },
      "source": [
        "**Remove special characters, numbers, punctuations (except for #)**"
      ]
    },
    {
      "cell_type": "code",
      "metadata": {
        "colab": {
          "base_uri": "https://localhost:8080/",
          "height": 402
        },
        "id": "Q6Br4huSujBJ",
        "outputId": "fb9bdba7-f1f1-41a0-e724-79fcf2598991"
      },
      "source": [
        "frame.Tweet_clean_Text = frame.Tweet_clean_Text.str.replace(\"[^a-zA-Z#]\", \" \")\n",
        "frame"
      ],
      "execution_count": 158,
      "outputs": [
        {
          "output_type": "execute_result",
          "data": {
            "text/html": [
              "<div>\n",
              "<style scoped>\n",
              "    .dataframe tbody tr th:only-of-type {\n",
              "        vertical-align: middle;\n",
              "    }\n",
              "\n",
              "    .dataframe tbody tr th {\n",
              "        vertical-align: top;\n",
              "    }\n",
              "\n",
              "    .dataframe thead th {\n",
              "        text-align: right;\n",
              "    }\n",
              "</style>\n",
              "<table border=\"1\" class=\"dataframe\">\n",
              "  <thead>\n",
              "    <tr style=\"text-align: right;\">\n",
              "      <th></th>\n",
              "      <th>Tweet_Id</th>\n",
              "      <th>Tweet_Text</th>\n",
              "      <th>Tweet_clean_Text</th>\n",
              "    </tr>\n",
              "  </thead>\n",
              "  <tbody>\n",
              "    <tr>\n",
              "      <th>0</th>\n",
              "      <td>1334919241741574145</td>\n",
              "      <td>Listen to RYAN BLISS - LOCKDOWN PARTY VOL 9 (E...</td>\n",
              "      <td>Listen to RYAN BLISS   LOCKDOWN PARTY VOL    E...</td>\n",
              "    </tr>\n",
              "    <tr>\n",
              "      <th>1</th>\n",
              "      <td>1334919173273686019</td>\n",
              "      <td>\"So how did the UK leapfrog the US in the race...</td>\n",
              "      <td>So how did the UK leapfrog the US in the race...</td>\n",
              "    </tr>\n",
              "    <tr>\n",
              "      <th>2</th>\n",
              "      <td>1334918981040435201</td>\n",
              "      <td>I did nazi that coming. #COVIDー19 https://t.co...</td>\n",
              "      <td>I did nazi that coming  #COVID</td>\n",
              "    </tr>\n",
              "    <tr>\n",
              "      <th>3</th>\n",
              "      <td>1334918928502546439</td>\n",
              "      <td>Wearing a fucking mask. #Illinois #COVID19 #CO...</td>\n",
              "      <td>Wearing a fucking mask  #Illinois #COVID   #CO...</td>\n",
              "    </tr>\n",
              "    <tr>\n",
              "      <th>4</th>\n",
              "      <td>1334918870222704643</td>\n",
              "      <td>Don't ask me why I change ask, yourself what y...</td>\n",
              "      <td>Don t ask me why I change ask  yourself what y...</td>\n",
              "    </tr>\n",
              "    <tr>\n",
              "      <th>...</th>\n",
              "      <td>...</td>\n",
              "      <td>...</td>\n",
              "      <td>...</td>\n",
              "    </tr>\n",
              "    <tr>\n",
              "      <th>2995</th>\n",
              "      <td>1334696395576647681</td>\n",
              "      <td>#TheSilenceIsDeafening\\n\\nThread by @AvrahamCo...</td>\n",
              "      <td>#TheSilenceIsDeafening  Thread by   In the Int...</td>\n",
              "    </tr>\n",
              "    <tr>\n",
              "      <th>2996</th>\n",
              "      <td>1334696316589514754</td>\n",
              "      <td>Our very own #Hitler in #Florida #DeSantis #CO...</td>\n",
              "      <td>Our very own #Hitler in #Florida #DeSantis #CO...</td>\n",
              "    </tr>\n",
              "    <tr>\n",
              "      <th>2997</th>\n",
              "      <td>1334696308767158278</td>\n",
              "      <td>#COVIDー19\\nImran Khan addressing the United Na...</td>\n",
              "      <td>#COVID    Imran Khan addressing the United Nat...</td>\n",
              "    </tr>\n",
              "    <tr>\n",
              "      <th>2998</th>\n",
              "      <td>1334696299107586049</td>\n",
              "      <td>Horrifying. #Nazi @America #ThursdayThoughts N...</td>\n",
              "      <td>Horrifying  #Nazi  #ThursdayThoughts NO #COVID...</td>\n",
              "    </tr>\n",
              "    <tr>\n",
              "      <th>2999</th>\n",
              "      <td>1334696298348417024</td>\n",
              "      <td>Still scaremongering? I think not. #COVIDー19 #...</td>\n",
              "      <td>Still scaremongering  I think not  #COVID    #...</td>\n",
              "    </tr>\n",
              "  </tbody>\n",
              "</table>\n",
              "<p>3000 rows × 3 columns</p>\n",
              "</div>"
            ],
            "text/plain": [
              "                 Tweet_Id  ...                                   Tweet_clean_Text\n",
              "0     1334919241741574145  ...  Listen to RYAN BLISS   LOCKDOWN PARTY VOL    E...\n",
              "1     1334919173273686019  ...   So how did the UK leapfrog the US in the race...\n",
              "2     1334918981040435201  ...                 I did nazi that coming  #COVID    \n",
              "3     1334918928502546439  ...  Wearing a fucking mask  #Illinois #COVID   #CO...\n",
              "4     1334918870222704643  ...  Don t ask me why I change ask  yourself what y...\n",
              "...                   ...  ...                                                ...\n",
              "2995  1334696395576647681  ...  #TheSilenceIsDeafening  Thread by   In the Int...\n",
              "2996  1334696316589514754  ...  Our very own #Hitler in #Florida #DeSantis #CO...\n",
              "2997  1334696308767158278  ...  #COVID    Imran Khan addressing the United Nat...\n",
              "2998  1334696299107586049  ...  Horrifying  #Nazi  #ThursdayThoughts NO #COVID...\n",
              "2999  1334696298348417024  ...  Still scaremongering  I think not  #COVID    #...\n",
              "\n",
              "[3000 rows x 3 columns]"
            ]
          },
          "metadata": {
            "tags": []
          },
          "execution_count": 158
        }
      ]
    },
    {
      "cell_type": "markdown",
      "metadata": {
        "id": "o-Vbl3cSaRLM"
      },
      "source": [
        "**Remove Extra Spaces**"
      ]
    },
    {
      "cell_type": "code",
      "metadata": {
        "colab": {
          "base_uri": "https://localhost:8080/",
          "height": 402
        },
        "id": "Kt5SXqEiaPta",
        "outputId": "75fb3359-d8c6-4e1e-e516-24d2127b7d09"
      },
      "source": [
        "frame.Tweet_clean_Text = frame.Tweet_clean_Text.replace('\\s+', ' ', regex=True)\n",
        "frame"
      ],
      "execution_count": 159,
      "outputs": [
        {
          "output_type": "execute_result",
          "data": {
            "text/html": [
              "<div>\n",
              "<style scoped>\n",
              "    .dataframe tbody tr th:only-of-type {\n",
              "        vertical-align: middle;\n",
              "    }\n",
              "\n",
              "    .dataframe tbody tr th {\n",
              "        vertical-align: top;\n",
              "    }\n",
              "\n",
              "    .dataframe thead th {\n",
              "        text-align: right;\n",
              "    }\n",
              "</style>\n",
              "<table border=\"1\" class=\"dataframe\">\n",
              "  <thead>\n",
              "    <tr style=\"text-align: right;\">\n",
              "      <th></th>\n",
              "      <th>Tweet_Id</th>\n",
              "      <th>Tweet_Text</th>\n",
              "      <th>Tweet_clean_Text</th>\n",
              "    </tr>\n",
              "  </thead>\n",
              "  <tbody>\n",
              "    <tr>\n",
              "      <th>0</th>\n",
              "      <td>1334919241741574145</td>\n",
              "      <td>Listen to RYAN BLISS - LOCKDOWN PARTY VOL 9 (E...</td>\n",
              "      <td>Listen to RYAN BLISS LOCKDOWN PARTY VOL EDM BI...</td>\n",
              "    </tr>\n",
              "    <tr>\n",
              "      <th>1</th>\n",
              "      <td>1334919173273686019</td>\n",
              "      <td>\"So how did the UK leapfrog the US in the race...</td>\n",
              "      <td>So how did the UK leapfrog the US in the race...</td>\n",
              "    </tr>\n",
              "    <tr>\n",
              "      <th>2</th>\n",
              "      <td>1334918981040435201</td>\n",
              "      <td>I did nazi that coming. #COVIDー19 https://t.co...</td>\n",
              "      <td>I did nazi that coming #COVID</td>\n",
              "    </tr>\n",
              "    <tr>\n",
              "      <th>3</th>\n",
              "      <td>1334918928502546439</td>\n",
              "      <td>Wearing a fucking mask. #Illinois #COVID19 #CO...</td>\n",
              "      <td>Wearing a fucking mask #Illinois #COVID #COVID...</td>\n",
              "    </tr>\n",
              "    <tr>\n",
              "      <th>4</th>\n",
              "      <td>1334918870222704643</td>\n",
              "      <td>Don't ask me why I change ask, yourself what y...</td>\n",
              "      <td>Don t ask me why I change ask yourself what yo...</td>\n",
              "    </tr>\n",
              "    <tr>\n",
              "      <th>...</th>\n",
              "      <td>...</td>\n",
              "      <td>...</td>\n",
              "      <td>...</td>\n",
              "    </tr>\n",
              "    <tr>\n",
              "      <th>2995</th>\n",
              "      <td>1334696395576647681</td>\n",
              "      <td>#TheSilenceIsDeafening\\n\\nThread by @AvrahamCo...</td>\n",
              "      <td>#TheSilenceIsDeafening Thread by In the Intens...</td>\n",
              "    </tr>\n",
              "    <tr>\n",
              "      <th>2996</th>\n",
              "      <td>1334696316589514754</td>\n",
              "      <td>Our very own #Hitler in #Florida #DeSantis #CO...</td>\n",
              "      <td>Our very own #Hitler in #Florida #DeSantis #CO...</td>\n",
              "    </tr>\n",
              "    <tr>\n",
              "      <th>2997</th>\n",
              "      <td>1334696308767158278</td>\n",
              "      <td>#COVIDー19\\nImran Khan addressing the United Na...</td>\n",
              "      <td>#COVID Imran Khan addressing the United Nation...</td>\n",
              "    </tr>\n",
              "    <tr>\n",
              "      <th>2998</th>\n",
              "      <td>1334696299107586049</td>\n",
              "      <td>Horrifying. #Nazi @America #ThursdayThoughts N...</td>\n",
              "      <td>Horrifying #Nazi #ThursdayThoughts NO #COVID #...</td>\n",
              "    </tr>\n",
              "    <tr>\n",
              "      <th>2999</th>\n",
              "      <td>1334696298348417024</td>\n",
              "      <td>Still scaremongering? I think not. #COVIDー19 #...</td>\n",
              "      <td>Still scaremongering I think not #COVID #Covid...</td>\n",
              "    </tr>\n",
              "  </tbody>\n",
              "</table>\n",
              "<p>3000 rows × 3 columns</p>\n",
              "</div>"
            ],
            "text/plain": [
              "                 Tweet_Id  ...                                   Tweet_clean_Text\n",
              "0     1334919241741574145  ...  Listen to RYAN BLISS LOCKDOWN PARTY VOL EDM BI...\n",
              "1     1334919173273686019  ...   So how did the UK leapfrog the US in the race...\n",
              "2     1334918981040435201  ...                     I did nazi that coming #COVID \n",
              "3     1334918928502546439  ...  Wearing a fucking mask #Illinois #COVID #COVID...\n",
              "4     1334918870222704643  ...  Don t ask me why I change ask yourself what yo...\n",
              "...                   ...  ...                                                ...\n",
              "2995  1334696395576647681  ...  #TheSilenceIsDeafening Thread by In the Intens...\n",
              "2996  1334696316589514754  ...  Our very own #Hitler in #Florida #DeSantis #CO...\n",
              "2997  1334696308767158278  ...  #COVID Imran Khan addressing the United Nation...\n",
              "2998  1334696299107586049  ...  Horrifying #Nazi #ThursdayThoughts NO #COVID #...\n",
              "2999  1334696298348417024  ...  Still scaremongering I think not #COVID #Covid...\n",
              "\n",
              "[3000 rows x 3 columns]"
            ]
          },
          "metadata": {
            "tags": []
          },
          "execution_count": 159
        }
      ]
    },
    {
      "cell_type": "markdown",
      "metadata": {
        "id": "DPHuSJsPb437"
      },
      "source": [
        "**Function to carry out data cleaning**"
      ]
    },
    {
      "cell_type": "code",
      "metadata": {
        "id": "1-8v5Uf3bA1X"
      },
      "source": [
        "def clean_tweets(frame, column_name):\n",
        "  frame = frame.drop_duplicates().reset_index(drop=True) #remove duplicate rows\n",
        "  frame['Tweet_Clean_Text'] = np.vectorize(remove_pattern)(frame[column_name], \"RT @[\\w]*:\") #remove twitter return handle\n",
        "  frame.Tweet_Clean_Text = np.vectorize(remove_pattern)(frame['Tweet_Clean_Text'], \"@[\\w]*\") #remove twitter handle\n",
        "  frame.Tweet_Clean_Text = np.vectorize(remove_pattern)(frame['Tweet_Clean_Text'], \"https?://[A-Za-z0-9./]*\") #remove URLs\n",
        "  frame.Tweet_Clean_Text = frame.Tweet_Clean_Text.str.replace(\"[^a-zA-Z#]\", \" \") #remove special characters except for #\n",
        "  frame.Tweet_Clean_Text = frame.Tweet_Clean_Text.replace('\\s+', ' ', regex=True) #remove extra spaces in between words\n",
        "\n",
        "  return frame"
      ],
      "execution_count": 160,
      "outputs": []
    },
    {
      "cell_type": "code",
      "metadata": {
        "colab": {
          "base_uri": "https://localhost:8080/",
          "height": 402
        },
        "id": "_9X-sOi9cJiG",
        "outputId": "2bfbbca6-2f2f-4ecb-b9d8-d74c8b8d4e9e"
      },
      "source": [
        "frame = create_data_corpus('drive/My Drive/Workspace/TwitterData') #Use your own path, I have mounted the data from google drive\n",
        "covid_19_frame = clean_tweets(frame,'Tweet_Text')\n",
        "covid_19_frame"
      ],
      "execution_count": 161,
      "outputs": [
        {
          "output_type": "execute_result",
          "data": {
            "text/html": [
              "<div>\n",
              "<style scoped>\n",
              "    .dataframe tbody tr th:only-of-type {\n",
              "        vertical-align: middle;\n",
              "    }\n",
              "\n",
              "    .dataframe tbody tr th {\n",
              "        vertical-align: top;\n",
              "    }\n",
              "\n",
              "    .dataframe thead th {\n",
              "        text-align: right;\n",
              "    }\n",
              "</style>\n",
              "<table border=\"1\" class=\"dataframe\">\n",
              "  <thead>\n",
              "    <tr style=\"text-align: right;\">\n",
              "      <th></th>\n",
              "      <th>Tweet_Id</th>\n",
              "      <th>Tweet_Text</th>\n",
              "      <th>Tweet_Clean_Text</th>\n",
              "    </tr>\n",
              "  </thead>\n",
              "  <tbody>\n",
              "    <tr>\n",
              "      <th>0</th>\n",
              "      <td>1334926873944584201</td>\n",
              "      <td>Government could care less about us, they not ...</td>\n",
              "      <td>Government could care less about us they not g...</td>\n",
              "    </tr>\n",
              "    <tr>\n",
              "      <th>1</th>\n",
              "      <td>1334926692574433280</td>\n",
              "      <td>In #UNGA Special Session on #COVIDー19. Listeni...</td>\n",
              "      <td>In #UNGA Special Session on #COVID Listening t...</td>\n",
              "    </tr>\n",
              "    <tr>\n",
              "      <th>2</th>\n",
              "      <td>1334926689693028354</td>\n",
              "      <td>THINK!\\n#COVID19 \\n#COVIDー19 \\n#FridayThoughts...</td>\n",
              "      <td>THINK #COVID #COVID #FridayThoughts</td>\n",
              "    </tr>\n",
              "    <tr>\n",
              "      <th>3</th>\n",
              "      <td>1334926679442137088</td>\n",
              "      <td>I can see the end of the #cinema. Streaming wi...</td>\n",
              "      <td>I can see the end of the #cinema Streaming wil...</td>\n",
              "    </tr>\n",
              "    <tr>\n",
              "      <th>4</th>\n",
              "      <td>1334926669556019200</td>\n",
              "      <td>#VT News 📰\\n04:12:2020\\nFor more promotions📜, ...</td>\n",
              "      <td>#VT News For more promotions Legal Notice Foll...</td>\n",
              "    </tr>\n",
              "    <tr>\n",
              "      <th>...</th>\n",
              "      <td>...</td>\n",
              "      <td>...</td>\n",
              "      <td>...</td>\n",
              "    </tr>\n",
              "    <tr>\n",
              "      <th>4105</th>\n",
              "      <td>1334880135246270464</td>\n",
              "      <td>As many as 57,405 persons have undergone #Covi...</td>\n",
              "      <td>As many as persons have undergone #Covid tests...</td>\n",
              "    </tr>\n",
              "    <tr>\n",
              "      <th>4106</th>\n",
              "      <td>1334910162470047744</td>\n",
              "      <td>This yrars Christmas album #pixieelittle #porn...</td>\n",
              "      <td>This yrars Christmas album #pixieelittle #porn...</td>\n",
              "    </tr>\n",
              "    <tr>\n",
              "      <th>4107</th>\n",
              "      <td>1334910064000372736</td>\n",
              "      <td>📌To reassure the public that #COVIDー19 vaccine...</td>\n",
              "      <td>To reassure the public that #COVID vaccines a...</td>\n",
              "    </tr>\n",
              "    <tr>\n",
              "      <th>4108</th>\n",
              "      <td>1334909370082189315</td>\n",
              "      <td>This.  #COVID19 #COVIDー19 #CovidVaccine #antiv...</td>\n",
              "      <td>This #COVID #COVID #CovidVaccine #antivaxxers ...</td>\n",
              "    </tr>\n",
              "    <tr>\n",
              "      <th>4109</th>\n",
              "      <td>1334913508329353218</td>\n",
              "      <td>Public needs to prep for transient #vaccine si...</td>\n",
              "      <td>Public needs to prep for transient #vaccine si...</td>\n",
              "    </tr>\n",
              "  </tbody>\n",
              "</table>\n",
              "<p>4110 rows × 3 columns</p>\n",
              "</div>"
            ],
            "text/plain": [
              "                 Tweet_Id  ...                                   Tweet_Clean_Text\n",
              "0     1334926873944584201  ...  Government could care less about us they not g...\n",
              "1     1334926692574433280  ...  In #UNGA Special Session on #COVID Listening t...\n",
              "2     1334926689693028354  ...               THINK #COVID #COVID #FridayThoughts \n",
              "3     1334926679442137088  ...  I can see the end of the #cinema Streaming wil...\n",
              "4     1334926669556019200  ...  #VT News For more promotions Legal Notice Foll...\n",
              "...                   ...  ...                                                ...\n",
              "4105  1334880135246270464  ...  As many as persons have undergone #Covid tests...\n",
              "4106  1334910162470047744  ...  This yrars Christmas album #pixieelittle #porn...\n",
              "4107  1334910064000372736  ...   To reassure the public that #COVID vaccines a...\n",
              "4108  1334909370082189315  ...  This #COVID #COVID #CovidVaccine #antivaxxers ...\n",
              "4109  1334913508329353218  ...  Public needs to prep for transient #vaccine si...\n",
              "\n",
              "[4110 rows x 3 columns]"
            ]
          },
          "metadata": {
            "tags": []
          },
          "execution_count": 161
        }
      ]
    },
    {
      "cell_type": "markdown",
      "metadata": {
        "id": "jdD4aR8ZZ5gq"
      },
      "source": [
        "# 3. Assign Polarities to the extracted tweets using unsupervised sentiment analysis tools (Data Exploration)"
      ]
    },
    {
      "cell_type": "code",
      "metadata": {
        "id": "R_86qcodK000"
      },
      "source": [
        "def calculate_sentiment_analyser(Clean_text):    \n",
        "    return analyser.polarity_scores(Clean_text)"
      ],
      "execution_count": 133,
      "outputs": []
    },
    {
      "cell_type": "code",
      "metadata": {
        "colab": {
          "base_uri": "https://localhost:8080/",
          "height": 570
        },
        "id": "05Rj6Vbs0a0W",
        "outputId": "c246bc33-ff22-470e-af61-c5ab98ffd436"
      },
      "source": [
        "sentiment_frame = pd.DataFrame(index = range(0,len(frame)),columns= ['pos', 'neu', 'neg', 'compound_score', 'sentiment'])\n",
        "\n",
        "for i, row in covid_19_frame.iterrows():\n",
        "  sentiment_frame['pos'][i] = analyser.polarity_scores(covid_19_frame.Tweet_clean_Text[i])[\"pos\"]\n",
        "  sentiment_frame['neu'][i] = analyser.polarity_scores(covid_19_frame.Tweet_clean_Text[i])[\"neu\"]\n",
        "  sentiment_frame['neg'][i] = analyser.polarity_scores(covid_19_frame.Tweet_clean_Text[i])[\"neg\"]\n",
        "  sentiment_frame['compound_score'][i] = analyser.polarity_scores(covid_19_frame.Tweet_clean_Text[i])[\"compound\"]\n",
        "\n",
        "  if (sentiment_frame['compound_score'][i] <= -0.05):\n",
        "    sentiment_frame['sentiment'][i] = 'Negative'    \n",
        "  elif (sentiment_frame['compound_score'][i] >= 0.05):\n",
        "    sentiment_frame['sentiment'][i] = 'Positive'\n",
        "  elif ((sentiment_frame['compound_score'][i] >= -0.05) & (sentiment_frame['compound_score'][i] <= 0.05)):\n",
        "    sentiment_frame['sentiment'][i] = 'Neutral'\n",
        "\n",
        "covid_19_frame['pos'] = sentiment_frame['pos']\n",
        "covid_19_frame['neu'] = sentiment_frame['neu']\n",
        "covid_19_frame['neg'] = sentiment_frame['neg']\n",
        "covid_19_frame['compound_score'] = sentiment_frame['compound_score']\n",
        "covid_19_frame['sentiment'] = sentiment_frame['sentiment']\n",
        "covid_19_frame"
      ],
      "execution_count": 134,
      "outputs": [
        {
          "output_type": "execute_result",
          "data": {
            "text/html": [
              "<div>\n",
              "<style scoped>\n",
              "    .dataframe tbody tr th:only-of-type {\n",
              "        vertical-align: middle;\n",
              "    }\n",
              "\n",
              "    .dataframe tbody tr th {\n",
              "        vertical-align: top;\n",
              "    }\n",
              "\n",
              "    .dataframe thead th {\n",
              "        text-align: right;\n",
              "    }\n",
              "</style>\n",
              "<table border=\"1\" class=\"dataframe\">\n",
              "  <thead>\n",
              "    <tr style=\"text-align: right;\">\n",
              "      <th></th>\n",
              "      <th>Tweet_Id</th>\n",
              "      <th>Tweet_Text</th>\n",
              "      <th>Tweet_clean_Text</th>\n",
              "      <th>pos</th>\n",
              "      <th>neu</th>\n",
              "      <th>neg</th>\n",
              "      <th>compound_score</th>\n",
              "      <th>sentiment</th>\n",
              "    </tr>\n",
              "  </thead>\n",
              "  <tbody>\n",
              "    <tr>\n",
              "      <th>0</th>\n",
              "      <td>1334926873944584201</td>\n",
              "      <td>Government could care less about us, they not ...</td>\n",
              "      <td>Government could care less about us they not g...</td>\n",
              "      <td>0.253</td>\n",
              "      <td>0.663</td>\n",
              "      <td>0.084</td>\n",
              "      <td>0.6204</td>\n",
              "      <td>Positive</td>\n",
              "    </tr>\n",
              "    <tr>\n",
              "      <th>1</th>\n",
              "      <td>1334926692574433280</td>\n",
              "      <td>In #UNGA Special Session on #COVIDー19. Listeni...</td>\n",
              "      <td>In #UNGA Special Session on #COVID Listening t...</td>\n",
              "      <td>0.279</td>\n",
              "      <td>0.721</td>\n",
              "      <td>0</td>\n",
              "      <td>0.7351</td>\n",
              "      <td>Positive</td>\n",
              "    </tr>\n",
              "    <tr>\n",
              "      <th>2</th>\n",
              "      <td>1334926689693028354</td>\n",
              "      <td>THINK!\\n#COVID19 \\n#COVIDー19 \\n#FridayThoughts...</td>\n",
              "      <td>THINK #COVID #COVID #FridayThoughts</td>\n",
              "      <td>0</td>\n",
              "      <td>1</td>\n",
              "      <td>0</td>\n",
              "      <td>0</td>\n",
              "      <td>Neutral</td>\n",
              "    </tr>\n",
              "    <tr>\n",
              "      <th>3</th>\n",
              "      <td>1334926679442137088</td>\n",
              "      <td>I can see the end of the #cinema. Streaming wi...</td>\n",
              "      <td>I can see the end of the #cinema Streaming wil...</td>\n",
              "      <td>0.167</td>\n",
              "      <td>0.833</td>\n",
              "      <td>0</td>\n",
              "      <td>0.5598</td>\n",
              "      <td>Positive</td>\n",
              "    </tr>\n",
              "    <tr>\n",
              "      <th>4</th>\n",
              "      <td>1334926669556019200</td>\n",
              "      <td>#VT News 📰\\n04:12:2020\\nFor more promotions📜, ...</td>\n",
              "      <td>#VT News For more promotions Legal Notice Foll...</td>\n",
              "      <td>0.151</td>\n",
              "      <td>0.849</td>\n",
              "      <td>0</td>\n",
              "      <td>0.197</td>\n",
              "      <td>Positive</td>\n",
              "    </tr>\n",
              "    <tr>\n",
              "      <th>...</th>\n",
              "      <td>...</td>\n",
              "      <td>...</td>\n",
              "      <td>...</td>\n",
              "      <td>...</td>\n",
              "      <td>...</td>\n",
              "      <td>...</td>\n",
              "      <td>...</td>\n",
              "      <td>...</td>\n",
              "    </tr>\n",
              "    <tr>\n",
              "      <th>4105</th>\n",
              "      <td>1334880135246270464</td>\n",
              "      <td>As many as 57,405 persons have undergone #Covi...</td>\n",
              "      <td>As many as persons have undergone #Covid tests...</td>\n",
              "      <td>0</td>\n",
              "      <td>1</td>\n",
              "      <td>0</td>\n",
              "      <td>0</td>\n",
              "      <td>Neutral</td>\n",
              "    </tr>\n",
              "    <tr>\n",
              "      <th>4106</th>\n",
              "      <td>1334910162470047744</td>\n",
              "      <td>This yrars Christmas album #pixieelittle #porn...</td>\n",
              "      <td>This yrars Christmas album #pixieelittle #porn...</td>\n",
              "      <td>0</td>\n",
              "      <td>1</td>\n",
              "      <td>0</td>\n",
              "      <td>0</td>\n",
              "      <td>Neutral</td>\n",
              "    </tr>\n",
              "    <tr>\n",
              "      <th>4107</th>\n",
              "      <td>1334910064000372736</td>\n",
              "      <td>📌To reassure the public that #COVIDー19 vaccine...</td>\n",
              "      <td>To reassure the public that #COVID vaccines a...</td>\n",
              "      <td>0.359</td>\n",
              "      <td>0.641</td>\n",
              "      <td>0</td>\n",
              "      <td>0.8126</td>\n",
              "      <td>Positive</td>\n",
              "    </tr>\n",
              "    <tr>\n",
              "      <th>4108</th>\n",
              "      <td>1334909370082189315</td>\n",
              "      <td>This.  #COVID19 #COVIDー19 #CovidVaccine #antiv...</td>\n",
              "      <td>This #COVID #COVID #CovidVaccine #antivaxxers ...</td>\n",
              "      <td>0</td>\n",
              "      <td>1</td>\n",
              "      <td>0</td>\n",
              "      <td>0</td>\n",
              "      <td>Neutral</td>\n",
              "    </tr>\n",
              "    <tr>\n",
              "      <th>4109</th>\n",
              "      <td>1334913508329353218</td>\n",
              "      <td>Public needs to prep for transient #vaccine si...</td>\n",
              "      <td>Public needs to prep for transient #vaccine si...</td>\n",
              "      <td>0</td>\n",
              "      <td>1</td>\n",
              "      <td>0</td>\n",
              "      <td>0</td>\n",
              "      <td>Neutral</td>\n",
              "    </tr>\n",
              "  </tbody>\n",
              "</table>\n",
              "<p>4110 rows × 8 columns</p>\n",
              "</div>"
            ],
            "text/plain": [
              "                 Tweet_Id  ... sentiment\n",
              "0     1334926873944584201  ...  Positive\n",
              "1     1334926692574433280  ...  Positive\n",
              "2     1334926689693028354  ...   Neutral\n",
              "3     1334926679442137088  ...  Positive\n",
              "4     1334926669556019200  ...  Positive\n",
              "...                   ...  ...       ...\n",
              "4105  1334880135246270464  ...   Neutral\n",
              "4106  1334910162470047744  ...   Neutral\n",
              "4107  1334910064000372736  ...  Positive\n",
              "4108  1334909370082189315  ...   Neutral\n",
              "4109  1334913508329353218  ...   Neutral\n",
              "\n",
              "[4110 rows x 8 columns]"
            ]
          },
          "metadata": {
            "tags": []
          },
          "execution_count": 134
        }
      ]
    },
    {
      "cell_type": "code",
      "metadata": {
        "colab": {
          "base_uri": "https://localhost:8080/"
        },
        "id": "aqOVoatQZUis",
        "outputId": "d57b9873-170a-4b14-b964-1c66ab87acd3"
      },
      "source": [
        "covid_19_frame['sentiment'].value_counts()"
      ],
      "execution_count": 136,
      "outputs": [
        {
          "output_type": "execute_result",
          "data": {
            "text/plain": [
              "Positive    1541\n",
              "Neutral     1373\n",
              "Negative    1196\n",
              "Name: sentiment, dtype: int64"
            ]
          },
          "metadata": {
            "tags": []
          },
          "execution_count": 136
        }
      ]
    },
    {
      "cell_type": "markdown",
      "metadata": {
        "id": "or9I14oifgWE"
      },
      "source": [
        "# 4. Preprocess the SemEval2017 Dataset for training the Networks. Finetune the networks using the twitter data obtained previously"
      ]
    },
    {
      "cell_type": "code",
      "metadata": {
        "colab": {
          "base_uri": "https://localhost:8080/",
          "height": 402
        },
        "id": "8KR-U6eYlyDp",
        "outputId": "12f16a31-cbb5-4b0d-a3f7-10b5017cd0fc"
      },
      "source": [
        "semeval_frame = create_data_corpus('drive/My Drive/Workspace/SemEval2017Dataset') #Use your own path, I have mounted the data from google drive\n",
        "semeval_frame = clean_tweets(semeval_frame, 'Column3')\n",
        "semeval_frame"
      ],
      "execution_count": 162,
      "outputs": [
        {
          "output_type": "execute_result",
          "data": {
            "text/html": [
              "<div>\n",
              "<style scoped>\n",
              "    .dataframe tbody tr th:only-of-type {\n",
              "        vertical-align: middle;\n",
              "    }\n",
              "\n",
              "    .dataframe tbody tr th {\n",
              "        vertical-align: top;\n",
              "    }\n",
              "\n",
              "    .dataframe thead th {\n",
              "        text-align: right;\n",
              "    }\n",
              "</style>\n",
              "<table border=\"1\" class=\"dataframe\">\n",
              "  <thead>\n",
              "    <tr style=\"text-align: right;\">\n",
              "      <th></th>\n",
              "      <th>Column1</th>\n",
              "      <th>Column2</th>\n",
              "      <th>Column3</th>\n",
              "      <th>Tweet_Clean_Text</th>\n",
              "    </tr>\n",
              "  </thead>\n",
              "  <tbody>\n",
              "    <tr>\n",
              "      <th>0</th>\n",
              "      <td>4.343150e+17</td>\n",
              "      <td>negative</td>\n",
              "      <td>@MetroNorth wall to wall people on the platfor...</td>\n",
              "      <td>wall to wall people on the platform at South ...</td>\n",
              "    </tr>\n",
              "    <tr>\n",
              "      <th>1</th>\n",
              "      <td>4.376050e+17</td>\n",
              "      <td>neutral</td>\n",
              "      <td>ang sarap mging panganay. Pag ikaw may kylngan...</td>\n",
              "      <td>ang sarap mging panganay Pag ikaw may kylngan ...</td>\n",
              "    </tr>\n",
              "    <tr>\n",
              "      <th>2</th>\n",
              "      <td>4.374240e+17</td>\n",
              "      <td>negative</td>\n",
              "      <td>RT @katie_rohaley: School on Monday is just go...</td>\n",
              "      <td>School on Monday is just gonna be a great time</td>\n",
              "    </tr>\n",
              "    <tr>\n",
              "      <th>3</th>\n",
              "      <td>4.368360e+17</td>\n",
              "      <td>negative</td>\n",
              "      <td>Thanks manager for putting me on the schedule ...</td>\n",
              "      <td>Thanks manager for putting me on the schedule ...</td>\n",
              "    </tr>\n",
              "    <tr>\n",
              "      <th>4</th>\n",
              "      <td>4.356710e+17</td>\n",
              "      <td>negative</td>\n",
              "      <td>Who needs sleep? It's not like I have a test t...</td>\n",
              "      <td>Who needs sleep It s not like I have a test to...</td>\n",
              "    </tr>\n",
              "    <tr>\n",
              "      <th>...</th>\n",
              "      <td>...</td>\n",
              "      <td>...</td>\n",
              "      <td>...</td>\n",
              "      <td>...</td>\n",
              "    </tr>\n",
              "    <tr>\n",
              "      <th>49710</th>\n",
              "      <td>6.820000e+17</td>\n",
              "      <td>neutral</td>\n",
              "      <td>@ShaquilleHoNeal from what I think you're aski...</td>\n",
              "      <td>from what I think you re asking in no order F...</td>\n",
              "    </tr>\n",
              "    <tr>\n",
              "      <th>49711</th>\n",
              "      <td>6.820000e+17</td>\n",
              "      <td>positive</td>\n",
              "      <td>Iran ranks 1st in liver surgeries, Allah bless...</td>\n",
              "      <td>Iran ranks st in liver surgeries Allah bless t...</td>\n",
              "    </tr>\n",
              "    <tr>\n",
              "      <th>49712</th>\n",
              "      <td>6.820000e+17</td>\n",
              "      <td>neutral</td>\n",
              "      <td>Hours before he arrived in Saudi Arabia on Tue...</td>\n",
              "      <td>Hours before he arrived in Saudi Arabia on Tue...</td>\n",
              "    </tr>\n",
              "    <tr>\n",
              "      <th>49713</th>\n",
              "      <td>6.820000e+17</td>\n",
              "      <td>negative</td>\n",
              "      <td>@VanityFair  Alex Kim Kardashian worth how to ...</td>\n",
              "      <td>Alex Kim Kardashian worth how to love Kim Kar...</td>\n",
              "    </tr>\n",
              "    <tr>\n",
              "      <th>49714</th>\n",
              "      <td>6.820000e+17</td>\n",
              "      <td>neutral</td>\n",
              "      <td>I guess even Pandora knows Justin Bieber is a ...</td>\n",
              "      <td>I guess even Pandora knows Justin Bieber is a ...</td>\n",
              "    </tr>\n",
              "  </tbody>\n",
              "</table>\n",
              "<p>49715 rows × 4 columns</p>\n",
              "</div>"
            ],
            "text/plain": [
              "            Column1  ...                                   Tweet_Clean_Text\n",
              "0      4.343150e+17  ...   wall to wall people on the platform at South ...\n",
              "1      4.376050e+17  ...  ang sarap mging panganay Pag ikaw may kylngan ...\n",
              "2      4.374240e+17  ...     School on Monday is just gonna be a great time\n",
              "3      4.368360e+17  ...  Thanks manager for putting me on the schedule ...\n",
              "4      4.356710e+17  ...  Who needs sleep It s not like I have a test to...\n",
              "...             ...  ...                                                ...\n",
              "49710  6.820000e+17  ...   from what I think you re asking in no order F...\n",
              "49711  6.820000e+17  ...  Iran ranks st in liver surgeries Allah bless t...\n",
              "49712  6.820000e+17  ...  Hours before he arrived in Saudi Arabia on Tue...\n",
              "49713  6.820000e+17  ...   Alex Kim Kardashian worth how to love Kim Kar...\n",
              "49714  6.820000e+17  ...  I guess even Pandora knows Justin Bieber is a ...\n",
              "\n",
              "[49715 rows x 4 columns]"
            ]
          },
          "metadata": {
            "tags": []
          },
          "execution_count": 162
        }
      ]
    }
  ]
}