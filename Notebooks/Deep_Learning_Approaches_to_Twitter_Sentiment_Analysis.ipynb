{
  "nbformat": 4,
  "nbformat_minor": 0,
  "metadata": {
    "colab": {
      "name": "Deep Learning Approaches to Twitter Sentiment Analysis.ipynb",
      "provenance": [],
      "collapsed_sections": [
        "1hP4M0DyOFUV",
        "jdD4aR8ZZ5gq"
      ]
    },
    "kernelspec": {
      "name": "python3",
      "display_name": "Python 3"
    },
    "accelerator": "GPU"
  },
  "cells": [
    {
      "cell_type": "markdown",
      "metadata": {
        "id": "1hP4M0DyOFUV"
      },
      "source": [
        "# 1. Get Tweets related to COVID-19 with Twitter API using Tweepy\n",
        "\n",
        "**Twitter API imposes a Data rate limitation and hence this code is run persistenlty with waiting times (setting parameters wait_on_rate_limit=True, wait_on_rate_limit_notify=True, to handle this). (Consider other alternatives if possible)**"
      ]
    },
    {
      "cell_type": "code",
      "metadata": {
        "colab": {
          "base_uri": "https://localhost:8080/"
        },
        "id": "pcMpV6UAqQQ0",
        "outputId": "2eb5ac7c-2baf-4475-ee60-6c7a28f91bef"
      },
      "source": [
        "pip install vaderSentiment"
      ],
      "execution_count": null,
      "outputs": [
        {
          "output_type": "stream",
          "text": [
            "Requirement already satisfied: vaderSentiment in /usr/local/lib/python3.6/dist-packages (3.3.2)\n",
            "Requirement already satisfied: requests in /usr/local/lib/python3.6/dist-packages (from vaderSentiment) (2.23.0)\n",
            "Requirement already satisfied: urllib3!=1.25.0,!=1.25.1,<1.26,>=1.21.1 in /usr/local/lib/python3.6/dist-packages (from requests->vaderSentiment) (1.24.3)\n",
            "Requirement already satisfied: certifi>=2017.4.17 in /usr/local/lib/python3.6/dist-packages (from requests->vaderSentiment) (2020.12.5)\n",
            "Requirement already satisfied: chardet<4,>=3.0.2 in /usr/local/lib/python3.6/dist-packages (from requests->vaderSentiment) (3.0.4)\n",
            "Requirement already satisfied: idna<3,>=2.5 in /usr/local/lib/python3.6/dist-packages (from requests->vaderSentiment) (2.10)\n"
          ],
          "name": "stdout"
        }
      ]
    },
    {
      "cell_type": "code",
      "metadata": {
        "id": "hKFDqohpydvf",
        "colab": {
          "base_uri": "https://localhost:8080/"
        },
        "outputId": "5621d194-ce6d-4fc4-adeb-dd16d12abb00"
      },
      "source": [
        "import os\n",
        "import tweepy as tw\n",
        "import pandas as pd\n",
        "import csv\n",
        "import pandas as pd\n",
        "import glob\n",
        "from nltk.corpus import stopwords\n",
        "from vaderSentiment.vaderSentiment import SentimentIntensityAnalyzer\n",
        "import numpy as np\n",
        "import re\n",
        "from keras.preprocessing.text import Tokenizer\n",
        "from keras.preprocessing.sequence import pad_sequences\n",
        "import tensorflow.keras as keras\n",
        "import tensorflow.keras.layers as layers\n",
        "from sklearn.model_selection import train_test_split\n",
        "import keras.models\n",
        "import matplotlib.pyplot as plt\n",
        "from keras.utils import to_categorical\n",
        "from keras import backend as K\n",
        "import nltk\n",
        "nltk.download('stopwords')\n",
        "from nltk.corpus import stopwords"
      ],
      "execution_count": 1,
      "outputs": [
        {
          "output_type": "stream",
          "text": [
            "[nltk_data] Downloading package stopwords to /root/nltk_data...\n",
            "[nltk_data]   Package stopwords is already up-to-date!\n"
          ],
          "name": "stdout"
        }
      ]
    },
    {
      "cell_type": "code",
      "metadata": {
        "id": "lS4hA75GqOBn"
      },
      "source": [
        "analyser = SentimentIntensityAnalyzer()"
      ],
      "execution_count": null,
      "outputs": []
    },
    {
      "cell_type": "code",
      "metadata": {
        "id": "taALyiIVpogn"
      },
      "source": [
        "#Enter your keys here\n",
        "consumer_key= ''\n",
        "consumer_secret= ''\n",
        "access_token= ''\n",
        "access_token_secret= ''"
      ],
      "execution_count": null,
      "outputs": []
    },
    {
      "cell_type": "code",
      "metadata": {
        "id": "PoJo_hUtp2SH"
      },
      "source": [
        "auth = tw.OAuthHandler(consumer_key, consumer_secret)\n",
        "auth.set_access_token(access_token, access_token_secret)\n",
        "api = tw.API(auth, wait_on_rate_limit=True, wait_on_rate_limit_notify=True)"
      ],
      "execution_count": null,
      "outputs": []
    },
    {
      "cell_type": "code",
      "metadata": {
        "id": "K6H9xGIEqIQH"
      },
      "source": [
        "search_words = '#COVIDー19 -filter:retweets'\n",
        "date_since_1 = \"2020-10-01\"\n",
        "date_since_2 = \"2020-10-20\"\n",
        "date_since_3 = \"2020-11-01\"\n",
        "date_since_4 = \"2020-11-20\"\n",
        "date_since_5 = \"2020-04-01\"\n",
        "date_since_6 = \"2020-04-10\"\n",
        "date_since_7 = \"2020-04-20\"\n",
        "date_since_8 = \"2020-05-01\"\n",
        "date_since_9 = \"2020-05-10\"\n",
        "date_since_10 = \"2020-05-20\"\n",
        "date_since_11 = \"2020-06-01\"\n",
        "date_since_12 = \"2020-06-10\"\n",
        "date_since_13 = \"2020-06-20\"\n",
        "date_since_14 = \"2020-07-01\"\n",
        "date_since_15 = \"2020-07-10\"\n",
        "date_since_16 = \"2020-07-20\"\n",
        "date_since_17 = \"2020-08-01\"\n",
        "date_since_18 = \"2020-08-10\"\n",
        "date_since_19 = \"2020-08-20\"\n",
        "date_since_20 = \"2020-09-01\"\n",
        "date_list = [date_since_9, date_since_10, date_since_11, date_since_12, date_since_13, date_since_14, date_since_15, date_since_16, date_since_17, date_since_18, date_since_19, date_since_20]"
      ],
      "execution_count": null,
      "outputs": []
    },
    {
      "cell_type": "code",
      "metadata": {
        "id": "6KwN5XEiqbwX"
      },
      "source": [
        "# Function to Collect tweets. Iterator returned.\n",
        "def tweet_extractor(api, search_words, since_date):\n",
        "  tweets = tw.Cursor(api.search,\n",
        "              q=search_words,\n",
        "              lang=\"en\",\n",
        "              since=since_date).items(3000)\n",
        "  return tweets"
      ],
      "execution_count": null,
      "outputs": []
    },
    {
      "cell_type": "code",
      "metadata": {
        "id": "W9Wqwhbbia_f"
      },
      "source": [
        "#function to create the covid19 csv file\n",
        "def create_covid19_csv_data(csv_name, dict_list):\n",
        "  field_names= ['Tweet_Id', 'Tweet_Text']\n",
        "\n",
        "  with open(csv_name, 'w') as csvfile:\n",
        "    writer = csv.DictWriter(csvfile, fieldnames=field_names)\n",
        "    writer.writeheader()\n",
        "    writer.writerows(dict_list)"
      ],
      "execution_count": null,
      "outputs": []
    },
    {
      "cell_type": "code",
      "metadata": {
        "id": "qDEnI8Nypx0j"
      },
      "source": [
        "#Function to persistently create covid-19 data in seperate csv files\n",
        "def tweet_machine(api,search_words,date_list):\n",
        "  for date_since in date_list:\n",
        "    tweets = tweet_extractor(api=api, search_words=search_words, since_date=date_since)\n",
        "    tweet_dict_list = [{'Tweet_Id':tweet.id, 'Tweet_Text':tweet.text} for tweet in tweets]\n",
        "    csv_name = 'Tweets_COVID_19_Data_'+ date_since + '.csv'\n",
        "    create_covid19_csv_data(csv_name=csv_name, dict_list=tweet_dict_list)\n",
        "    tweet_dict_list.clear()"
      ],
      "execution_count": null,
      "outputs": []
    },
    {
      "cell_type": "code",
      "metadata": {
        "colab": {
          "base_uri": "https://localhost:8080/"
        },
        "id": "sv9pSyV8tQi0",
        "outputId": "aa0b88a2-e98a-4c19-e419-c1caf5c00c36"
      },
      "source": [
        "tweet_machine(api=api, search_words=search_words, date_list=date_list)"
      ],
      "execution_count": null,
      "outputs": [
        {
          "output_type": "stream",
          "text": [
            "Rate limit reached. Sleeping for: 853\n",
            "Rate limit reached. Sleeping for: 850\n",
            "Rate limit reached. Sleeping for: 853\n",
            "Rate limit reached. Sleeping for: 852\n",
            "Rate limit reached. Sleeping for: 853\n",
            "Rate limit reached. Sleeping for: 853\n",
            "Rate limit reached. Sleeping for: 852\n",
            "Rate limit reached. Sleeping for: 853\n",
            "Rate limit reached. Sleeping for: 852\n",
            "Rate limit reached. Sleeping for: 853\n",
            "Rate limit reached. Sleeping for: 852\n",
            "Rate limit reached. Sleeping for: 852\n",
            "Rate limit reached. Sleeping for: 851\n"
          ],
          "name": "stderr"
        }
      ]
    },
    {
      "cell_type": "markdown",
      "metadata": {
        "id": "Q17umrp39CJq"
      },
      "source": [
        "# 2. Data Cleaning"
      ]
    },
    {
      "cell_type": "markdown",
      "metadata": {
        "id": "dvvMCJjxn7zx"
      },
      "source": [
        "**Concatenate all csv files into one large corpus**"
      ]
    },
    {
      "cell_type": "code",
      "metadata": {
        "id": "XXo_igmI8tdx"
      },
      "source": [
        "def create_data_corpus(path):\n",
        "  files = glob.glob(path + \"/*.csv\")\n",
        "  df_list = []\n",
        "  \n",
        "  for file in files:\n",
        "    df = pd.read_csv(file, index_col=None, header=0)\n",
        "    df_list.append(df)\n",
        "\n",
        "  frame = pd.concat(df_list, axis=0, ignore_index=True)\n",
        "  return frame"
      ],
      "execution_count": 2,
      "outputs": []
    },
    {
      "cell_type": "markdown",
      "metadata": {
        "id": "QBIFPSvLndRK"
      },
      "source": [
        "**Remove Duplicate entries**"
      ]
    },
    {
      "cell_type": "code",
      "metadata": {
        "colab": {
          "base_uri": "https://localhost:8080/",
          "height": 402
        },
        "id": "Yo9RQGvkuWCI",
        "outputId": "97278d69-c441-4931-caa1-f0a8d3621397"
      },
      "source": [
        "frame = pd.read_csv('drive/My Drive/Workspace/SentimentAnalysis/TwitterData/Tweets_COVID_19_Data_2020-04-01.csv', index_col=None, header=0)\n",
        "frame"
      ],
      "execution_count": null,
      "outputs": [
        {
          "output_type": "execute_result",
          "data": {
            "text/html": [
              "<div>\n",
              "<style scoped>\n",
              "    .dataframe tbody tr th:only-of-type {\n",
              "        vertical-align: middle;\n",
              "    }\n",
              "\n",
              "    .dataframe tbody tr th {\n",
              "        vertical-align: top;\n",
              "    }\n",
              "\n",
              "    .dataframe thead th {\n",
              "        text-align: right;\n",
              "    }\n",
              "</style>\n",
              "<table border=\"1\" class=\"dataframe\">\n",
              "  <thead>\n",
              "    <tr style=\"text-align: right;\">\n",
              "      <th></th>\n",
              "      <th>Tweet_Id</th>\n",
              "      <th>Tweet_Text</th>\n",
              "    </tr>\n",
              "  </thead>\n",
              "  <tbody>\n",
              "    <tr>\n",
              "      <th>0</th>\n",
              "      <td>1334919241741574145</td>\n",
              "      <td>Listen to RYAN BLISS - LOCKDOWN PARTY VOL 9 (E...</td>\n",
              "    </tr>\n",
              "    <tr>\n",
              "      <th>1</th>\n",
              "      <td>1334919173273686019</td>\n",
              "      <td>\"So how did the UK leapfrog the US in the race...</td>\n",
              "    </tr>\n",
              "    <tr>\n",
              "      <th>2</th>\n",
              "      <td>1334918981040435201</td>\n",
              "      <td>I did nazi that coming. #COVIDー19 https://t.co...</td>\n",
              "    </tr>\n",
              "    <tr>\n",
              "      <th>3</th>\n",
              "      <td>1334918928502546439</td>\n",
              "      <td>Wearing a fucking mask. #Illinois #COVID19 #CO...</td>\n",
              "    </tr>\n",
              "    <tr>\n",
              "      <th>4</th>\n",
              "      <td>1334918870222704643</td>\n",
              "      <td>Don't ask me why I change ask, yourself what y...</td>\n",
              "    </tr>\n",
              "    <tr>\n",
              "      <th>...</th>\n",
              "      <td>...</td>\n",
              "      <td>...</td>\n",
              "    </tr>\n",
              "    <tr>\n",
              "      <th>2995</th>\n",
              "      <td>1334696395576647681</td>\n",
              "      <td>#TheSilenceIsDeafening\\n\\nThread by @AvrahamCo...</td>\n",
              "    </tr>\n",
              "    <tr>\n",
              "      <th>2996</th>\n",
              "      <td>1334696316589514754</td>\n",
              "      <td>Our very own #Hitler in #Florida #DeSantis #CO...</td>\n",
              "    </tr>\n",
              "    <tr>\n",
              "      <th>2997</th>\n",
              "      <td>1334696308767158278</td>\n",
              "      <td>#COVIDー19\\nImran Khan addressing the United Na...</td>\n",
              "    </tr>\n",
              "    <tr>\n",
              "      <th>2998</th>\n",
              "      <td>1334696299107586049</td>\n",
              "      <td>Horrifying. #Nazi @America #ThursdayThoughts N...</td>\n",
              "    </tr>\n",
              "    <tr>\n",
              "      <th>2999</th>\n",
              "      <td>1334696298348417024</td>\n",
              "      <td>Still scaremongering? I think not. #COVIDー19 #...</td>\n",
              "    </tr>\n",
              "  </tbody>\n",
              "</table>\n",
              "<p>3000 rows × 2 columns</p>\n",
              "</div>"
            ],
            "text/plain": [
              "                 Tweet_Id                                         Tweet_Text\n",
              "0     1334919241741574145  Listen to RYAN BLISS - LOCKDOWN PARTY VOL 9 (E...\n",
              "1     1334919173273686019  \"So how did the UK leapfrog the US in the race...\n",
              "2     1334918981040435201  I did nazi that coming. #COVIDー19 https://t.co...\n",
              "3     1334918928502546439  Wearing a fucking mask. #Illinois #COVID19 #CO...\n",
              "4     1334918870222704643  Don't ask me why I change ask, yourself what y...\n",
              "...                   ...                                                ...\n",
              "2995  1334696395576647681  #TheSilenceIsDeafening\\n\\nThread by @AvrahamCo...\n",
              "2996  1334696316589514754  Our very own #Hitler in #Florida #DeSantis #CO...\n",
              "2997  1334696308767158278  #COVIDー19\\nImran Khan addressing the United Na...\n",
              "2998  1334696299107586049  Horrifying. #Nazi @America #ThursdayThoughts N...\n",
              "2999  1334696298348417024  Still scaremongering? I think not. #COVIDー19 #...\n",
              "\n",
              "[3000 rows x 2 columns]"
            ]
          },
          "metadata": {
            "tags": []
          },
          "execution_count": 153
        }
      ]
    },
    {
      "cell_type": "code",
      "metadata": {
        "colab": {
          "base_uri": "https://localhost:8080/",
          "height": 402
        },
        "id": "KHeFjoJskIzV",
        "outputId": "cffb2fea-b802-4c99-a82f-c570432dc043"
      },
      "source": [
        "frame = frame.drop_duplicates().reset_index(drop=True)\n",
        "frame"
      ],
      "execution_count": null,
      "outputs": [
        {
          "output_type": "execute_result",
          "data": {
            "text/html": [
              "<div>\n",
              "<style scoped>\n",
              "    .dataframe tbody tr th:only-of-type {\n",
              "        vertical-align: middle;\n",
              "    }\n",
              "\n",
              "    .dataframe tbody tr th {\n",
              "        vertical-align: top;\n",
              "    }\n",
              "\n",
              "    .dataframe thead th {\n",
              "        text-align: right;\n",
              "    }\n",
              "</style>\n",
              "<table border=\"1\" class=\"dataframe\">\n",
              "  <thead>\n",
              "    <tr style=\"text-align: right;\">\n",
              "      <th></th>\n",
              "      <th>Tweet_Id</th>\n",
              "      <th>Tweet_Text</th>\n",
              "    </tr>\n",
              "  </thead>\n",
              "  <tbody>\n",
              "    <tr>\n",
              "      <th>0</th>\n",
              "      <td>1334919241741574145</td>\n",
              "      <td>Listen to RYAN BLISS - LOCKDOWN PARTY VOL 9 (E...</td>\n",
              "    </tr>\n",
              "    <tr>\n",
              "      <th>1</th>\n",
              "      <td>1334919173273686019</td>\n",
              "      <td>\"So how did the UK leapfrog the US in the race...</td>\n",
              "    </tr>\n",
              "    <tr>\n",
              "      <th>2</th>\n",
              "      <td>1334918981040435201</td>\n",
              "      <td>I did nazi that coming. #COVIDー19 https://t.co...</td>\n",
              "    </tr>\n",
              "    <tr>\n",
              "      <th>3</th>\n",
              "      <td>1334918928502546439</td>\n",
              "      <td>Wearing a fucking mask. #Illinois #COVID19 #CO...</td>\n",
              "    </tr>\n",
              "    <tr>\n",
              "      <th>4</th>\n",
              "      <td>1334918870222704643</td>\n",
              "      <td>Don't ask me why I change ask, yourself what y...</td>\n",
              "    </tr>\n",
              "    <tr>\n",
              "      <th>...</th>\n",
              "      <td>...</td>\n",
              "      <td>...</td>\n",
              "    </tr>\n",
              "    <tr>\n",
              "      <th>2995</th>\n",
              "      <td>1334696395576647681</td>\n",
              "      <td>#TheSilenceIsDeafening\\n\\nThread by @AvrahamCo...</td>\n",
              "    </tr>\n",
              "    <tr>\n",
              "      <th>2996</th>\n",
              "      <td>1334696316589514754</td>\n",
              "      <td>Our very own #Hitler in #Florida #DeSantis #CO...</td>\n",
              "    </tr>\n",
              "    <tr>\n",
              "      <th>2997</th>\n",
              "      <td>1334696308767158278</td>\n",
              "      <td>#COVIDー19\\nImran Khan addressing the United Na...</td>\n",
              "    </tr>\n",
              "    <tr>\n",
              "      <th>2998</th>\n",
              "      <td>1334696299107586049</td>\n",
              "      <td>Horrifying. #Nazi @America #ThursdayThoughts N...</td>\n",
              "    </tr>\n",
              "    <tr>\n",
              "      <th>2999</th>\n",
              "      <td>1334696298348417024</td>\n",
              "      <td>Still scaremongering? I think not. #COVIDー19 #...</td>\n",
              "    </tr>\n",
              "  </tbody>\n",
              "</table>\n",
              "<p>3000 rows × 2 columns</p>\n",
              "</div>"
            ],
            "text/plain": [
              "                 Tweet_Id                                         Tweet_Text\n",
              "0     1334919241741574145  Listen to RYAN BLISS - LOCKDOWN PARTY VOL 9 (E...\n",
              "1     1334919173273686019  \"So how did the UK leapfrog the US in the race...\n",
              "2     1334918981040435201  I did nazi that coming. #COVIDー19 https://t.co...\n",
              "3     1334918928502546439  Wearing a fucking mask. #Illinois #COVID19 #CO...\n",
              "4     1334918870222704643  Don't ask me why I change ask, yourself what y...\n",
              "...                   ...                                                ...\n",
              "2995  1334696395576647681  #TheSilenceIsDeafening\\n\\nThread by @AvrahamCo...\n",
              "2996  1334696316589514754  Our very own #Hitler in #Florida #DeSantis #CO...\n",
              "2997  1334696308767158278  #COVIDー19\\nImran Khan addressing the United Na...\n",
              "2998  1334696299107586049  Horrifying. #Nazi @America #ThursdayThoughts N...\n",
              "2999  1334696298348417024  Still scaremongering? I think not. #COVIDー19 #...\n",
              "\n",
              "[3000 rows x 2 columns]"
            ]
          },
          "metadata": {
            "tags": []
          },
          "execution_count": 154
        }
      ]
    },
    {
      "cell_type": "markdown",
      "metadata": {
        "id": "ozchllRRnj-i"
      },
      "source": [
        "**Remove Twitter Handles and return handles**"
      ]
    },
    {
      "cell_type": "code",
      "metadata": {
        "id": "--FOIDctt4V1"
      },
      "source": [
        "def remove_pattern(input_txt, pattern):\n",
        "  r = re.findall(pattern, input_txt)\n",
        "  for i in r:\n",
        "    input_txt = re.sub(i, '', input_txt)        \n",
        "  return input_txt"
      ],
      "execution_count": 3,
      "outputs": []
    },
    {
      "cell_type": "code",
      "metadata": {
        "id": "3hIluOUrn5tC"
      },
      "source": [
        "frame['Tweet_clean_Text'] = np.vectorize(remove_pattern)(frame['Tweet_Text'], \"RT @[\\w]*:\")\n",
        "frame.Tweet_clean_Text = np.vectorize(remove_pattern)(frame['Tweet_clean_Text'], \"@[\\w]*\")\n",
        "frame"
      ],
      "execution_count": null,
      "outputs": []
    },
    {
      "cell_type": "markdown",
      "metadata": {
        "id": "T2i6VApHtYHE"
      },
      "source": [
        "**Remove URL Links**"
      ]
    },
    {
      "cell_type": "code",
      "metadata": {
        "colab": {
          "base_uri": "https://localhost:8080/",
          "height": 402
        },
        "id": "rQ2BxrrTthAe",
        "outputId": "a14f2c8b-e789-4550-af8d-f3d191e8fda5"
      },
      "source": [
        "frame.Tweet_clean_Text = np.vectorize(remove_pattern)(frame['Tweet_clean_Text'], \"https?://[A-Za-z0-9./]*\")\n",
        "frame"
      ],
      "execution_count": null,
      "outputs": [
        {
          "output_type": "execute_result",
          "data": {
            "text/html": [
              "<div>\n",
              "<style scoped>\n",
              "    .dataframe tbody tr th:only-of-type {\n",
              "        vertical-align: middle;\n",
              "    }\n",
              "\n",
              "    .dataframe tbody tr th {\n",
              "        vertical-align: top;\n",
              "    }\n",
              "\n",
              "    .dataframe thead th {\n",
              "        text-align: right;\n",
              "    }\n",
              "</style>\n",
              "<table border=\"1\" class=\"dataframe\">\n",
              "  <thead>\n",
              "    <tr style=\"text-align: right;\">\n",
              "      <th></th>\n",
              "      <th>Tweet_Id</th>\n",
              "      <th>Tweet_Text</th>\n",
              "      <th>Tweet_clean_Text</th>\n",
              "    </tr>\n",
              "  </thead>\n",
              "  <tbody>\n",
              "    <tr>\n",
              "      <th>0</th>\n",
              "      <td>1334919241741574145</td>\n",
              "      <td>Listen to RYAN BLISS - LOCKDOWN PARTY VOL 9 (E...</td>\n",
              "      <td>Listen to RYAN BLISS - LOCKDOWN PARTY VOL 9 (E...</td>\n",
              "    </tr>\n",
              "    <tr>\n",
              "      <th>1</th>\n",
              "      <td>1334919173273686019</td>\n",
              "      <td>\"So how did the UK leapfrog the US in the race...</td>\n",
              "      <td>\"So how did the UK leapfrog the US in the race...</td>\n",
              "    </tr>\n",
              "    <tr>\n",
              "      <th>2</th>\n",
              "      <td>1334918981040435201</td>\n",
              "      <td>I did nazi that coming. #COVIDー19 https://t.co...</td>\n",
              "      <td>I did nazi that coming. #COVIDー19</td>\n",
              "    </tr>\n",
              "    <tr>\n",
              "      <th>3</th>\n",
              "      <td>1334918928502546439</td>\n",
              "      <td>Wearing a fucking mask. #Illinois #COVID19 #CO...</td>\n",
              "      <td>Wearing a fucking mask. #Illinois #COVID19 #CO...</td>\n",
              "    </tr>\n",
              "    <tr>\n",
              "      <th>4</th>\n",
              "      <td>1334918870222704643</td>\n",
              "      <td>Don't ask me why I change ask, yourself what y...</td>\n",
              "      <td>Don't ask me why I change ask, yourself what y...</td>\n",
              "    </tr>\n",
              "    <tr>\n",
              "      <th>...</th>\n",
              "      <td>...</td>\n",
              "      <td>...</td>\n",
              "      <td>...</td>\n",
              "    </tr>\n",
              "    <tr>\n",
              "      <th>2995</th>\n",
              "      <td>1334696395576647681</td>\n",
              "      <td>#TheSilenceIsDeafening\\n\\nThread by @AvrahamCo...</td>\n",
              "      <td>#TheSilenceIsDeafening\\n\\nThread by : In the I...</td>\n",
              "    </tr>\n",
              "    <tr>\n",
              "      <th>2996</th>\n",
              "      <td>1334696316589514754</td>\n",
              "      <td>Our very own #Hitler in #Florida #DeSantis #CO...</td>\n",
              "      <td>Our very own #Hitler in #Florida #DeSantis #CO...</td>\n",
              "    </tr>\n",
              "    <tr>\n",
              "      <th>2997</th>\n",
              "      <td>1334696308767158278</td>\n",
              "      <td>#COVIDー19\\nImran Khan addressing the United Na...</td>\n",
              "      <td>#COVIDー19\\nImran Khan addressing the United Na...</td>\n",
              "    </tr>\n",
              "    <tr>\n",
              "      <th>2998</th>\n",
              "      <td>1334696299107586049</td>\n",
              "      <td>Horrifying. #Nazi @America #ThursdayThoughts N...</td>\n",
              "      <td>Horrifying. #Nazi  #ThursdayThoughts NO #COVID...</td>\n",
              "    </tr>\n",
              "    <tr>\n",
              "      <th>2999</th>\n",
              "      <td>1334696298348417024</td>\n",
              "      <td>Still scaremongering? I think not. #COVIDー19 #...</td>\n",
              "      <td>Still scaremongering? I think not. #COVIDー19 #...</td>\n",
              "    </tr>\n",
              "  </tbody>\n",
              "</table>\n",
              "<p>3000 rows × 3 columns</p>\n",
              "</div>"
            ],
            "text/plain": [
              "                 Tweet_Id  ...                                   Tweet_clean_Text\n",
              "0     1334919241741574145  ...  Listen to RYAN BLISS - LOCKDOWN PARTY VOL 9 (E...\n",
              "1     1334919173273686019  ...  \"So how did the UK leapfrog the US in the race...\n",
              "2     1334918981040435201  ...                 I did nazi that coming. #COVIDー19 \n",
              "3     1334918928502546439  ...  Wearing a fucking mask. #Illinois #COVID19 #CO...\n",
              "4     1334918870222704643  ...  Don't ask me why I change ask, yourself what y...\n",
              "...                   ...  ...                                                ...\n",
              "2995  1334696395576647681  ...  #TheSilenceIsDeafening\\n\\nThread by : In the I...\n",
              "2996  1334696316589514754  ...  Our very own #Hitler in #Florida #DeSantis #CO...\n",
              "2997  1334696308767158278  ...  #COVIDー19\\nImran Khan addressing the United Na...\n",
              "2998  1334696299107586049  ...  Horrifying. #Nazi  #ThursdayThoughts NO #COVID...\n",
              "2999  1334696298348417024  ...  Still scaremongering? I think not. #COVIDー19 #...\n",
              "\n",
              "[3000 rows x 3 columns]"
            ]
          },
          "metadata": {
            "tags": []
          },
          "execution_count": 157
        }
      ]
    },
    {
      "cell_type": "markdown",
      "metadata": {
        "id": "zJeQaTOJufZS"
      },
      "source": [
        "**Remove special characters, numbers, punctuations (except for #)**"
      ]
    },
    {
      "cell_type": "code",
      "metadata": {
        "colab": {
          "base_uri": "https://localhost:8080/",
          "height": 402
        },
        "id": "Q6Br4huSujBJ",
        "outputId": "fb9bdba7-f1f1-41a0-e724-79fcf2598991"
      },
      "source": [
        "frame.Tweet_clean_Text = frame.Tweet_clean_Text.str.replace(\"[^a-zA-Z#]\", \" \")\n",
        "frame"
      ],
      "execution_count": null,
      "outputs": [
        {
          "output_type": "execute_result",
          "data": {
            "text/html": [
              "<div>\n",
              "<style scoped>\n",
              "    .dataframe tbody tr th:only-of-type {\n",
              "        vertical-align: middle;\n",
              "    }\n",
              "\n",
              "    .dataframe tbody tr th {\n",
              "        vertical-align: top;\n",
              "    }\n",
              "\n",
              "    .dataframe thead th {\n",
              "        text-align: right;\n",
              "    }\n",
              "</style>\n",
              "<table border=\"1\" class=\"dataframe\">\n",
              "  <thead>\n",
              "    <tr style=\"text-align: right;\">\n",
              "      <th></th>\n",
              "      <th>Tweet_Id</th>\n",
              "      <th>Tweet_Text</th>\n",
              "      <th>Tweet_clean_Text</th>\n",
              "    </tr>\n",
              "  </thead>\n",
              "  <tbody>\n",
              "    <tr>\n",
              "      <th>0</th>\n",
              "      <td>1334919241741574145</td>\n",
              "      <td>Listen to RYAN BLISS - LOCKDOWN PARTY VOL 9 (E...</td>\n",
              "      <td>Listen to RYAN BLISS   LOCKDOWN PARTY VOL    E...</td>\n",
              "    </tr>\n",
              "    <tr>\n",
              "      <th>1</th>\n",
              "      <td>1334919173273686019</td>\n",
              "      <td>\"So how did the UK leapfrog the US in the race...</td>\n",
              "      <td>So how did the UK leapfrog the US in the race...</td>\n",
              "    </tr>\n",
              "    <tr>\n",
              "      <th>2</th>\n",
              "      <td>1334918981040435201</td>\n",
              "      <td>I did nazi that coming. #COVIDー19 https://t.co...</td>\n",
              "      <td>I did nazi that coming  #COVID</td>\n",
              "    </tr>\n",
              "    <tr>\n",
              "      <th>3</th>\n",
              "      <td>1334918928502546439</td>\n",
              "      <td>Wearing a fucking mask. #Illinois #COVID19 #CO...</td>\n",
              "      <td>Wearing a fucking mask  #Illinois #COVID   #CO...</td>\n",
              "    </tr>\n",
              "    <tr>\n",
              "      <th>4</th>\n",
              "      <td>1334918870222704643</td>\n",
              "      <td>Don't ask me why I change ask, yourself what y...</td>\n",
              "      <td>Don t ask me why I change ask  yourself what y...</td>\n",
              "    </tr>\n",
              "    <tr>\n",
              "      <th>...</th>\n",
              "      <td>...</td>\n",
              "      <td>...</td>\n",
              "      <td>...</td>\n",
              "    </tr>\n",
              "    <tr>\n",
              "      <th>2995</th>\n",
              "      <td>1334696395576647681</td>\n",
              "      <td>#TheSilenceIsDeafening\\n\\nThread by @AvrahamCo...</td>\n",
              "      <td>#TheSilenceIsDeafening  Thread by   In the Int...</td>\n",
              "    </tr>\n",
              "    <tr>\n",
              "      <th>2996</th>\n",
              "      <td>1334696316589514754</td>\n",
              "      <td>Our very own #Hitler in #Florida #DeSantis #CO...</td>\n",
              "      <td>Our very own #Hitler in #Florida #DeSantis #CO...</td>\n",
              "    </tr>\n",
              "    <tr>\n",
              "      <th>2997</th>\n",
              "      <td>1334696308767158278</td>\n",
              "      <td>#COVIDー19\\nImran Khan addressing the United Na...</td>\n",
              "      <td>#COVID    Imran Khan addressing the United Nat...</td>\n",
              "    </tr>\n",
              "    <tr>\n",
              "      <th>2998</th>\n",
              "      <td>1334696299107586049</td>\n",
              "      <td>Horrifying. #Nazi @America #ThursdayThoughts N...</td>\n",
              "      <td>Horrifying  #Nazi  #ThursdayThoughts NO #COVID...</td>\n",
              "    </tr>\n",
              "    <tr>\n",
              "      <th>2999</th>\n",
              "      <td>1334696298348417024</td>\n",
              "      <td>Still scaremongering? I think not. #COVIDー19 #...</td>\n",
              "      <td>Still scaremongering  I think not  #COVID    #...</td>\n",
              "    </tr>\n",
              "  </tbody>\n",
              "</table>\n",
              "<p>3000 rows × 3 columns</p>\n",
              "</div>"
            ],
            "text/plain": [
              "                 Tweet_Id  ...                                   Tweet_clean_Text\n",
              "0     1334919241741574145  ...  Listen to RYAN BLISS   LOCKDOWN PARTY VOL    E...\n",
              "1     1334919173273686019  ...   So how did the UK leapfrog the US in the race...\n",
              "2     1334918981040435201  ...                 I did nazi that coming  #COVID    \n",
              "3     1334918928502546439  ...  Wearing a fucking mask  #Illinois #COVID   #CO...\n",
              "4     1334918870222704643  ...  Don t ask me why I change ask  yourself what y...\n",
              "...                   ...  ...                                                ...\n",
              "2995  1334696395576647681  ...  #TheSilenceIsDeafening  Thread by   In the Int...\n",
              "2996  1334696316589514754  ...  Our very own #Hitler in #Florida #DeSantis #CO...\n",
              "2997  1334696308767158278  ...  #COVID    Imran Khan addressing the United Nat...\n",
              "2998  1334696299107586049  ...  Horrifying  #Nazi  #ThursdayThoughts NO #COVID...\n",
              "2999  1334696298348417024  ...  Still scaremongering  I think not  #COVID    #...\n",
              "\n",
              "[3000 rows x 3 columns]"
            ]
          },
          "metadata": {
            "tags": []
          },
          "execution_count": 158
        }
      ]
    },
    {
      "cell_type": "markdown",
      "metadata": {
        "id": "o-Vbl3cSaRLM"
      },
      "source": [
        "**Remove Extra Spaces**"
      ]
    },
    {
      "cell_type": "code",
      "metadata": {
        "colab": {
          "base_uri": "https://localhost:8080/",
          "height": 402
        },
        "id": "Kt5SXqEiaPta",
        "outputId": "75fb3359-d8c6-4e1e-e516-24d2127b7d09"
      },
      "source": [
        "frame.Tweet_clean_Text = frame.Tweet_clean_Text.replace('\\s+', ' ', regex=True)\n",
        "frame"
      ],
      "execution_count": null,
      "outputs": [
        {
          "output_type": "execute_result",
          "data": {
            "text/html": [
              "<div>\n",
              "<style scoped>\n",
              "    .dataframe tbody tr th:only-of-type {\n",
              "        vertical-align: middle;\n",
              "    }\n",
              "\n",
              "    .dataframe tbody tr th {\n",
              "        vertical-align: top;\n",
              "    }\n",
              "\n",
              "    .dataframe thead th {\n",
              "        text-align: right;\n",
              "    }\n",
              "</style>\n",
              "<table border=\"1\" class=\"dataframe\">\n",
              "  <thead>\n",
              "    <tr style=\"text-align: right;\">\n",
              "      <th></th>\n",
              "      <th>Tweet_Id</th>\n",
              "      <th>Tweet_Text</th>\n",
              "      <th>Tweet_clean_Text</th>\n",
              "    </tr>\n",
              "  </thead>\n",
              "  <tbody>\n",
              "    <tr>\n",
              "      <th>0</th>\n",
              "      <td>1334919241741574145</td>\n",
              "      <td>Listen to RYAN BLISS - LOCKDOWN PARTY VOL 9 (E...</td>\n",
              "      <td>Listen to RYAN BLISS LOCKDOWN PARTY VOL EDM BI...</td>\n",
              "    </tr>\n",
              "    <tr>\n",
              "      <th>1</th>\n",
              "      <td>1334919173273686019</td>\n",
              "      <td>\"So how did the UK leapfrog the US in the race...</td>\n",
              "      <td>So how did the UK leapfrog the US in the race...</td>\n",
              "    </tr>\n",
              "    <tr>\n",
              "      <th>2</th>\n",
              "      <td>1334918981040435201</td>\n",
              "      <td>I did nazi that coming. #COVIDー19 https://t.co...</td>\n",
              "      <td>I did nazi that coming #COVID</td>\n",
              "    </tr>\n",
              "    <tr>\n",
              "      <th>3</th>\n",
              "      <td>1334918928502546439</td>\n",
              "      <td>Wearing a fucking mask. #Illinois #COVID19 #CO...</td>\n",
              "      <td>Wearing a fucking mask #Illinois #COVID #COVID...</td>\n",
              "    </tr>\n",
              "    <tr>\n",
              "      <th>4</th>\n",
              "      <td>1334918870222704643</td>\n",
              "      <td>Don't ask me why I change ask, yourself what y...</td>\n",
              "      <td>Don t ask me why I change ask yourself what yo...</td>\n",
              "    </tr>\n",
              "    <tr>\n",
              "      <th>...</th>\n",
              "      <td>...</td>\n",
              "      <td>...</td>\n",
              "      <td>...</td>\n",
              "    </tr>\n",
              "    <tr>\n",
              "      <th>2995</th>\n",
              "      <td>1334696395576647681</td>\n",
              "      <td>#TheSilenceIsDeafening\\n\\nThread by @AvrahamCo...</td>\n",
              "      <td>#TheSilenceIsDeafening Thread by In the Intens...</td>\n",
              "    </tr>\n",
              "    <tr>\n",
              "      <th>2996</th>\n",
              "      <td>1334696316589514754</td>\n",
              "      <td>Our very own #Hitler in #Florida #DeSantis #CO...</td>\n",
              "      <td>Our very own #Hitler in #Florida #DeSantis #CO...</td>\n",
              "    </tr>\n",
              "    <tr>\n",
              "      <th>2997</th>\n",
              "      <td>1334696308767158278</td>\n",
              "      <td>#COVIDー19\\nImran Khan addressing the United Na...</td>\n",
              "      <td>#COVID Imran Khan addressing the United Nation...</td>\n",
              "    </tr>\n",
              "    <tr>\n",
              "      <th>2998</th>\n",
              "      <td>1334696299107586049</td>\n",
              "      <td>Horrifying. #Nazi @America #ThursdayThoughts N...</td>\n",
              "      <td>Horrifying #Nazi #ThursdayThoughts NO #COVID #...</td>\n",
              "    </tr>\n",
              "    <tr>\n",
              "      <th>2999</th>\n",
              "      <td>1334696298348417024</td>\n",
              "      <td>Still scaremongering? I think not. #COVIDー19 #...</td>\n",
              "      <td>Still scaremongering I think not #COVID #Covid...</td>\n",
              "    </tr>\n",
              "  </tbody>\n",
              "</table>\n",
              "<p>3000 rows × 3 columns</p>\n",
              "</div>"
            ],
            "text/plain": [
              "                 Tweet_Id  ...                                   Tweet_clean_Text\n",
              "0     1334919241741574145  ...  Listen to RYAN BLISS LOCKDOWN PARTY VOL EDM BI...\n",
              "1     1334919173273686019  ...   So how did the UK leapfrog the US in the race...\n",
              "2     1334918981040435201  ...                     I did nazi that coming #COVID \n",
              "3     1334918928502546439  ...  Wearing a fucking mask #Illinois #COVID #COVID...\n",
              "4     1334918870222704643  ...  Don t ask me why I change ask yourself what yo...\n",
              "...                   ...  ...                                                ...\n",
              "2995  1334696395576647681  ...  #TheSilenceIsDeafening Thread by In the Intens...\n",
              "2996  1334696316589514754  ...  Our very own #Hitler in #Florida #DeSantis #CO...\n",
              "2997  1334696308767158278  ...  #COVID Imran Khan addressing the United Nation...\n",
              "2998  1334696299107586049  ...  Horrifying #Nazi #ThursdayThoughts NO #COVID #...\n",
              "2999  1334696298348417024  ...  Still scaremongering I think not #COVID #Covid...\n",
              "\n",
              "[3000 rows x 3 columns]"
            ]
          },
          "metadata": {
            "tags": []
          },
          "execution_count": 159
        }
      ]
    },
    {
      "cell_type": "markdown",
      "metadata": {
        "id": "DPHuSJsPb437"
      },
      "source": [
        "**Function to carry out data cleaning**"
      ]
    },
    {
      "cell_type": "code",
      "metadata": {
        "id": "1-8v5Uf3bA1X"
      },
      "source": [
        "def clean_tweets(frame, column_name, remove_stop_words=False, lower_case=False):\n",
        "  frame = frame.drop_duplicates().reset_index(drop=True) #remove duplicate rows\n",
        "  frame['Tweet_Clean_Text'] = np.vectorize(remove_pattern)(frame[column_name], \"RT @[\\w]*:\") #remove twitter return handle\n",
        "  frame.Tweet_Clean_Text = np.vectorize(remove_pattern)(frame['Tweet_Clean_Text'], \"@[\\w]*\") #remove twitter handle\n",
        "  frame.Tweet_Clean_Text = np.vectorize(remove_pattern)(frame['Tweet_Clean_Text'], \"https?://[A-Za-z0-9./]*\") #remove URLs\n",
        "  frame.Tweet_Clean_Text = frame.Tweet_Clean_Text.str.replace(\"[^a-zA-Z#]\", \" \") #remove special characters except for #\n",
        "  frame.Tweet_Clean_Text = frame.Tweet_Clean_Text.replace('\\s+', ' ', regex=True) #remove extra spaces in between words\n",
        "  if lower_case:\n",
        "    frame.Tweet_Clean_Text = frame.Tweet_Clean_Text.apply(lambda x: x.lower())\n",
        "  if remove_stop_words:\n",
        "    frame.Tweet_Clean_Text = frame.Tweet_Clean_Text.apply(lambda x: ' '.join([word for word in x.split() if word not in stopwords.words('english')])) #remove stop words\n",
        "\n",
        "  return frame"
      ],
      "execution_count": 4,
      "outputs": []
    },
    {
      "cell_type": "code",
      "metadata": {
        "colab": {
          "base_uri": "https://localhost:8080/",
          "height": 402
        },
        "id": "_9X-sOi9cJiG",
        "outputId": "f4f0ee47-308c-4b02-ca2f-24dec10da40c"
      },
      "source": [
        "frame = create_data_corpus('drive/My Drive/Workspace/SentimentAnalysis/TwitterData') #Use your own path, I have mounted the data from google drive\n",
        "covid_19_frame = clean_tweets(frame,'Tweet_Text')\n",
        "covid_19_frame"
      ],
      "execution_count": null,
      "outputs": [
        {
          "output_type": "execute_result",
          "data": {
            "text/html": [
              "<div>\n",
              "<style scoped>\n",
              "    .dataframe tbody tr th:only-of-type {\n",
              "        vertical-align: middle;\n",
              "    }\n",
              "\n",
              "    .dataframe tbody tr th {\n",
              "        vertical-align: top;\n",
              "    }\n",
              "\n",
              "    .dataframe thead th {\n",
              "        text-align: right;\n",
              "    }\n",
              "</style>\n",
              "<table border=\"1\" class=\"dataframe\">\n",
              "  <thead>\n",
              "    <tr style=\"text-align: right;\">\n",
              "      <th></th>\n",
              "      <th>Tweet_Id</th>\n",
              "      <th>Tweet_Text</th>\n",
              "      <th>Tweet_Clean_Text</th>\n",
              "    </tr>\n",
              "  </thead>\n",
              "  <tbody>\n",
              "    <tr>\n",
              "      <th>0</th>\n",
              "      <td>1334926873944584201</td>\n",
              "      <td>Government could care less about us, they not ...</td>\n",
              "      <td>Government could care less about us they not g...</td>\n",
              "    </tr>\n",
              "    <tr>\n",
              "      <th>1</th>\n",
              "      <td>1334926692574433280</td>\n",
              "      <td>In #UNGA Special Session on #COVIDー19. Listeni...</td>\n",
              "      <td>In #UNGA Special Session on #COVID Listening t...</td>\n",
              "    </tr>\n",
              "    <tr>\n",
              "      <th>2</th>\n",
              "      <td>1334926689693028354</td>\n",
              "      <td>THINK!\\n#COVID19 \\n#COVIDー19 \\n#FridayThoughts...</td>\n",
              "      <td>THINK #COVID #COVID #FridayThoughts</td>\n",
              "    </tr>\n",
              "    <tr>\n",
              "      <th>3</th>\n",
              "      <td>1334926679442137088</td>\n",
              "      <td>I can see the end of the #cinema. Streaming wi...</td>\n",
              "      <td>I can see the end of the #cinema Streaming wil...</td>\n",
              "    </tr>\n",
              "    <tr>\n",
              "      <th>4</th>\n",
              "      <td>1334926669556019200</td>\n",
              "      <td>#VT News 📰\\n04:12:2020\\nFor more promotions📜, ...</td>\n",
              "      <td>#VT News For more promotions Legal Notice Foll...</td>\n",
              "    </tr>\n",
              "    <tr>\n",
              "      <th>...</th>\n",
              "      <td>...</td>\n",
              "      <td>...</td>\n",
              "      <td>...</td>\n",
              "    </tr>\n",
              "    <tr>\n",
              "      <th>4105</th>\n",
              "      <td>1334880135246270464</td>\n",
              "      <td>As many as 57,405 persons have undergone #Covi...</td>\n",
              "      <td>As many as persons have undergone #Covid tests...</td>\n",
              "    </tr>\n",
              "    <tr>\n",
              "      <th>4106</th>\n",
              "      <td>1334910162470047744</td>\n",
              "      <td>This yrars Christmas album #pixieelittle #porn...</td>\n",
              "      <td>This yrars Christmas album #pixieelittle #porn...</td>\n",
              "    </tr>\n",
              "    <tr>\n",
              "      <th>4107</th>\n",
              "      <td>1334910064000372736</td>\n",
              "      <td>📌To reassure the public that #COVIDー19 vaccine...</td>\n",
              "      <td>To reassure the public that #COVID vaccines a...</td>\n",
              "    </tr>\n",
              "    <tr>\n",
              "      <th>4108</th>\n",
              "      <td>1334909370082189315</td>\n",
              "      <td>This.  #COVID19 #COVIDー19 #CovidVaccine #antiv...</td>\n",
              "      <td>This #COVID #COVID #CovidVaccine #antivaxxers ...</td>\n",
              "    </tr>\n",
              "    <tr>\n",
              "      <th>4109</th>\n",
              "      <td>1334913508329353218</td>\n",
              "      <td>Public needs to prep for transient #vaccine si...</td>\n",
              "      <td>Public needs to prep for transient #vaccine si...</td>\n",
              "    </tr>\n",
              "  </tbody>\n",
              "</table>\n",
              "<p>4110 rows × 3 columns</p>\n",
              "</div>"
            ],
            "text/plain": [
              "                 Tweet_Id  ...                                   Tweet_Clean_Text\n",
              "0     1334926873944584201  ...  Government could care less about us they not g...\n",
              "1     1334926692574433280  ...  In #UNGA Special Session on #COVID Listening t...\n",
              "2     1334926689693028354  ...               THINK #COVID #COVID #FridayThoughts \n",
              "3     1334926679442137088  ...  I can see the end of the #cinema Streaming wil...\n",
              "4     1334926669556019200  ...  #VT News For more promotions Legal Notice Foll...\n",
              "...                   ...  ...                                                ...\n",
              "4105  1334880135246270464  ...  As many as persons have undergone #Covid tests...\n",
              "4106  1334910162470047744  ...  This yrars Christmas album #pixieelittle #porn...\n",
              "4107  1334910064000372736  ...   To reassure the public that #COVID vaccines a...\n",
              "4108  1334909370082189315  ...  This #COVID #COVID #CovidVaccine #antivaxxers ...\n",
              "4109  1334913508329353218  ...  Public needs to prep for transient #vaccine si...\n",
              "\n",
              "[4110 rows x 3 columns]"
            ]
          },
          "metadata": {
            "tags": []
          },
          "execution_count": 11
        }
      ]
    },
    {
      "cell_type": "markdown",
      "metadata": {
        "id": "jdD4aR8ZZ5gq"
      },
      "source": [
        "# 3. Assign Polarities to the extracted tweets using unsupervised sentiment analysis tools (Data Exploration)"
      ]
    },
    {
      "cell_type": "code",
      "metadata": {
        "id": "R_86qcodK000"
      },
      "source": [
        "def calculate_sentiment_analyser(Clean_text):    \n",
        "    return analyser.polarity_scores(Clean_text)"
      ],
      "execution_count": null,
      "outputs": []
    },
    {
      "cell_type": "code",
      "metadata": {
        "colab": {
          "base_uri": "https://localhost:8080/",
          "height": 570
        },
        "id": "05Rj6Vbs0a0W",
        "outputId": "c246bc33-ff22-470e-af61-c5ab98ffd436"
      },
      "source": [
        "sentiment_frame = pd.DataFrame(index = range(0,len(frame)),columns= ['pos', 'neu', 'neg', 'compound_score', 'sentiment'])\n",
        "\n",
        "for i, row in covid_19_frame.iterrows():\n",
        "  sentiment_frame['pos'][i] = analyser.polarity_scores(covid_19_frame.Tweet_clean_Text[i])[\"pos\"]\n",
        "  sentiment_frame['neu'][i] = analyser.polarity_scores(covid_19_frame.Tweet_clean_Text[i])[\"neu\"]\n",
        "  sentiment_frame['neg'][i] = analyser.polarity_scores(covid_19_frame.Tweet_clean_Text[i])[\"neg\"]\n",
        "  sentiment_frame['compound_score'][i] = analyser.polarity_scores(covid_19_frame.Tweet_clean_Text[i])[\"compound\"]\n",
        "\n",
        "  if (sentiment_frame['compound_score'][i] <= -0.05):\n",
        "    sentiment_frame['sentiment'][i] = 'Negative'    \n",
        "  elif (sentiment_frame['compound_score'][i] >= 0.05):\n",
        "    sentiment_frame['sentiment'][i] = 'Positive'\n",
        "  elif ((sentiment_frame['compound_score'][i] >= -0.05) & (sentiment_frame['compound_score'][i] <= 0.05)):\n",
        "    sentiment_frame['sentiment'][i] = 'Neutral'\n",
        "\n",
        "covid_19_frame['pos'] = sentiment_frame['pos']\n",
        "covid_19_frame['neu'] = sentiment_frame['neu']\n",
        "covid_19_frame['neg'] = sentiment_frame['neg']\n",
        "covid_19_frame['compound_score'] = sentiment_frame['compound_score']\n",
        "covid_19_frame['sentiment'] = sentiment_frame['sentiment']\n",
        "covid_19_frame"
      ],
      "execution_count": null,
      "outputs": [
        {
          "output_type": "execute_result",
          "data": {
            "text/html": [
              "<div>\n",
              "<style scoped>\n",
              "    .dataframe tbody tr th:only-of-type {\n",
              "        vertical-align: middle;\n",
              "    }\n",
              "\n",
              "    .dataframe tbody tr th {\n",
              "        vertical-align: top;\n",
              "    }\n",
              "\n",
              "    .dataframe thead th {\n",
              "        text-align: right;\n",
              "    }\n",
              "</style>\n",
              "<table border=\"1\" class=\"dataframe\">\n",
              "  <thead>\n",
              "    <tr style=\"text-align: right;\">\n",
              "      <th></th>\n",
              "      <th>Tweet_Id</th>\n",
              "      <th>Tweet_Text</th>\n",
              "      <th>Tweet_clean_Text</th>\n",
              "      <th>pos</th>\n",
              "      <th>neu</th>\n",
              "      <th>neg</th>\n",
              "      <th>compound_score</th>\n",
              "      <th>sentiment</th>\n",
              "    </tr>\n",
              "  </thead>\n",
              "  <tbody>\n",
              "    <tr>\n",
              "      <th>0</th>\n",
              "      <td>1334926873944584201</td>\n",
              "      <td>Government could care less about us, they not ...</td>\n",
              "      <td>Government could care less about us they not g...</td>\n",
              "      <td>0.253</td>\n",
              "      <td>0.663</td>\n",
              "      <td>0.084</td>\n",
              "      <td>0.6204</td>\n",
              "      <td>Positive</td>\n",
              "    </tr>\n",
              "    <tr>\n",
              "      <th>1</th>\n",
              "      <td>1334926692574433280</td>\n",
              "      <td>In #UNGA Special Session on #COVIDー19. Listeni...</td>\n",
              "      <td>In #UNGA Special Session on #COVID Listening t...</td>\n",
              "      <td>0.279</td>\n",
              "      <td>0.721</td>\n",
              "      <td>0</td>\n",
              "      <td>0.7351</td>\n",
              "      <td>Positive</td>\n",
              "    </tr>\n",
              "    <tr>\n",
              "      <th>2</th>\n",
              "      <td>1334926689693028354</td>\n",
              "      <td>THINK!\\n#COVID19 \\n#COVIDー19 \\n#FridayThoughts...</td>\n",
              "      <td>THINK #COVID #COVID #FridayThoughts</td>\n",
              "      <td>0</td>\n",
              "      <td>1</td>\n",
              "      <td>0</td>\n",
              "      <td>0</td>\n",
              "      <td>Neutral</td>\n",
              "    </tr>\n",
              "    <tr>\n",
              "      <th>3</th>\n",
              "      <td>1334926679442137088</td>\n",
              "      <td>I can see the end of the #cinema. Streaming wi...</td>\n",
              "      <td>I can see the end of the #cinema Streaming wil...</td>\n",
              "      <td>0.167</td>\n",
              "      <td>0.833</td>\n",
              "      <td>0</td>\n",
              "      <td>0.5598</td>\n",
              "      <td>Positive</td>\n",
              "    </tr>\n",
              "    <tr>\n",
              "      <th>4</th>\n",
              "      <td>1334926669556019200</td>\n",
              "      <td>#VT News 📰\\n04:12:2020\\nFor more promotions📜, ...</td>\n",
              "      <td>#VT News For more promotions Legal Notice Foll...</td>\n",
              "      <td>0.151</td>\n",
              "      <td>0.849</td>\n",
              "      <td>0</td>\n",
              "      <td>0.197</td>\n",
              "      <td>Positive</td>\n",
              "    </tr>\n",
              "    <tr>\n",
              "      <th>...</th>\n",
              "      <td>...</td>\n",
              "      <td>...</td>\n",
              "      <td>...</td>\n",
              "      <td>...</td>\n",
              "      <td>...</td>\n",
              "      <td>...</td>\n",
              "      <td>...</td>\n",
              "      <td>...</td>\n",
              "    </tr>\n",
              "    <tr>\n",
              "      <th>4105</th>\n",
              "      <td>1334880135246270464</td>\n",
              "      <td>As many as 57,405 persons have undergone #Covi...</td>\n",
              "      <td>As many as persons have undergone #Covid tests...</td>\n",
              "      <td>0</td>\n",
              "      <td>1</td>\n",
              "      <td>0</td>\n",
              "      <td>0</td>\n",
              "      <td>Neutral</td>\n",
              "    </tr>\n",
              "    <tr>\n",
              "      <th>4106</th>\n",
              "      <td>1334910162470047744</td>\n",
              "      <td>This yrars Christmas album #pixieelittle #porn...</td>\n",
              "      <td>This yrars Christmas album #pixieelittle #porn...</td>\n",
              "      <td>0</td>\n",
              "      <td>1</td>\n",
              "      <td>0</td>\n",
              "      <td>0</td>\n",
              "      <td>Neutral</td>\n",
              "    </tr>\n",
              "    <tr>\n",
              "      <th>4107</th>\n",
              "      <td>1334910064000372736</td>\n",
              "      <td>📌To reassure the public that #COVIDー19 vaccine...</td>\n",
              "      <td>To reassure the public that #COVID vaccines a...</td>\n",
              "      <td>0.359</td>\n",
              "      <td>0.641</td>\n",
              "      <td>0</td>\n",
              "      <td>0.8126</td>\n",
              "      <td>Positive</td>\n",
              "    </tr>\n",
              "    <tr>\n",
              "      <th>4108</th>\n",
              "      <td>1334909370082189315</td>\n",
              "      <td>This.  #COVID19 #COVIDー19 #CovidVaccine #antiv...</td>\n",
              "      <td>This #COVID #COVID #CovidVaccine #antivaxxers ...</td>\n",
              "      <td>0</td>\n",
              "      <td>1</td>\n",
              "      <td>0</td>\n",
              "      <td>0</td>\n",
              "      <td>Neutral</td>\n",
              "    </tr>\n",
              "    <tr>\n",
              "      <th>4109</th>\n",
              "      <td>1334913508329353218</td>\n",
              "      <td>Public needs to prep for transient #vaccine si...</td>\n",
              "      <td>Public needs to prep for transient #vaccine si...</td>\n",
              "      <td>0</td>\n",
              "      <td>1</td>\n",
              "      <td>0</td>\n",
              "      <td>0</td>\n",
              "      <td>Neutral</td>\n",
              "    </tr>\n",
              "  </tbody>\n",
              "</table>\n",
              "<p>4110 rows × 8 columns</p>\n",
              "</div>"
            ],
            "text/plain": [
              "                 Tweet_Id  ... sentiment\n",
              "0     1334926873944584201  ...  Positive\n",
              "1     1334926692574433280  ...  Positive\n",
              "2     1334926689693028354  ...   Neutral\n",
              "3     1334926679442137088  ...  Positive\n",
              "4     1334926669556019200  ...  Positive\n",
              "...                   ...  ...       ...\n",
              "4105  1334880135246270464  ...   Neutral\n",
              "4106  1334910162470047744  ...   Neutral\n",
              "4107  1334910064000372736  ...  Positive\n",
              "4108  1334909370082189315  ...   Neutral\n",
              "4109  1334913508329353218  ...   Neutral\n",
              "\n",
              "[4110 rows x 8 columns]"
            ]
          },
          "metadata": {
            "tags": []
          },
          "execution_count": 134
        }
      ]
    },
    {
      "cell_type": "code",
      "metadata": {
        "colab": {
          "base_uri": "https://localhost:8080/"
        },
        "id": "aqOVoatQZUis",
        "outputId": "d57b9873-170a-4b14-b964-1c66ab87acd3"
      },
      "source": [
        "covid_19_frame['sentiment'].value_counts()"
      ],
      "execution_count": null,
      "outputs": [
        {
          "output_type": "execute_result",
          "data": {
            "text/plain": [
              "Positive    1541\n",
              "Neutral     1373\n",
              "Negative    1196\n",
              "Name: sentiment, dtype: int64"
            ]
          },
          "metadata": {
            "tags": []
          },
          "execution_count": 136
        }
      ]
    },
    {
      "cell_type": "markdown",
      "metadata": {
        "id": "or9I14oifgWE"
      },
      "source": [
        "# 4. Preprocess the SemEval2017 Dataset for training the Networks. Finetune the networks using the twitter data obtained previously"
      ]
    },
    {
      "cell_type": "code",
      "metadata": {
        "colab": {
          "base_uri": "https://localhost:8080/",
          "height": 402
        },
        "id": "8KR-U6eYlyDp",
        "outputId": "f4312aad-cf50-4387-add4-708e54c86bdd"
      },
      "source": [
        "semeval_frame = create_data_corpus('drive/My Drive/Workspace/SentimentAnalysis/SemEval2017Dataset') #Use your own path, I have mounted the data from google drive\n",
        "semeval_frame = clean_tweets(frame=semeval_frame, column_name='Column3', remove_stop_words=True, lower_case=True)\n",
        "semeval_frame"
      ],
      "execution_count": 5,
      "outputs": [
        {
          "output_type": "execute_result",
          "data": {
            "text/html": [
              "<div>\n",
              "<style scoped>\n",
              "    .dataframe tbody tr th:only-of-type {\n",
              "        vertical-align: middle;\n",
              "    }\n",
              "\n",
              "    .dataframe tbody tr th {\n",
              "        vertical-align: top;\n",
              "    }\n",
              "\n",
              "    .dataframe thead th {\n",
              "        text-align: right;\n",
              "    }\n",
              "</style>\n",
              "<table border=\"1\" class=\"dataframe\">\n",
              "  <thead>\n",
              "    <tr style=\"text-align: right;\">\n",
              "      <th></th>\n",
              "      <th>Column1</th>\n",
              "      <th>Column2</th>\n",
              "      <th>Column3</th>\n",
              "      <th>Tweet_Clean_Text</th>\n",
              "    </tr>\n",
              "  </thead>\n",
              "  <tbody>\n",
              "    <tr>\n",
              "      <th>0</th>\n",
              "      <td>4.343150e+17</td>\n",
              "      <td>negative</td>\n",
              "      <td>@MetroNorth wall to wall people on the platfor...</td>\n",
              "      <td>wall wall people platform south norwalk waitin...</td>\n",
              "    </tr>\n",
              "    <tr>\n",
              "      <th>1</th>\n",
              "      <td>4.376050e+17</td>\n",
              "      <td>neutral</td>\n",
              "      <td>ang sarap mging panganay. Pag ikaw may kylngan...</td>\n",
              "      <td>ang sarap mging panganay pag ikaw may kylngan ...</td>\n",
              "    </tr>\n",
              "    <tr>\n",
              "      <th>2</th>\n",
              "      <td>4.374240e+17</td>\n",
              "      <td>negative</td>\n",
              "      <td>RT @katie_rohaley: School on Monday is just go...</td>\n",
              "      <td>school monday gonna great time</td>\n",
              "    </tr>\n",
              "    <tr>\n",
              "      <th>3</th>\n",
              "      <td>4.368360e+17</td>\n",
              "      <td>negative</td>\n",
              "      <td>Thanks manager for putting me on the schedule ...</td>\n",
              "      <td>thanks manager putting schedule sunday</td>\n",
              "    </tr>\n",
              "    <tr>\n",
              "      <th>4</th>\n",
              "      <td>4.356710e+17</td>\n",
              "      <td>negative</td>\n",
              "      <td>Who needs sleep? It's not like I have a test t...</td>\n",
              "      <td>needs sleep like test tomorrow anything</td>\n",
              "    </tr>\n",
              "    <tr>\n",
              "      <th>...</th>\n",
              "      <td>...</td>\n",
              "      <td>...</td>\n",
              "      <td>...</td>\n",
              "      <td>...</td>\n",
              "    </tr>\n",
              "    <tr>\n",
              "      <th>49710</th>\n",
              "      <td>6.820000e+17</td>\n",
              "      <td>neutral</td>\n",
              "      <td>@ShaquilleHoNeal from what I think you're aski...</td>\n",
              "      <td>think asking order future drake thug cole kend...</td>\n",
              "    </tr>\n",
              "    <tr>\n",
              "      <th>49711</th>\n",
              "      <td>6.820000e+17</td>\n",
              "      <td>positive</td>\n",
              "      <td>Iran ranks 1st in liver surgeries, Allah bless...</td>\n",
              "      <td>iran ranks st liver surgeries allah bless country</td>\n",
              "    </tr>\n",
              "    <tr>\n",
              "      <th>49712</th>\n",
              "      <td>6.820000e+17</td>\n",
              "      <td>neutral</td>\n",
              "      <td>Hours before he arrived in Saudi Arabia on Tue...</td>\n",
              "      <td>hours arrived saudi arabia tuesday turkish pre...</td>\n",
              "    </tr>\n",
              "    <tr>\n",
              "      <th>49713</th>\n",
              "      <td>6.820000e+17</td>\n",
              "      <td>negative</td>\n",
              "      <td>@VanityFair  Alex Kim Kardashian worth how to ...</td>\n",
              "      <td>alex kim kardashian worth love kim kardashian ...</td>\n",
              "    </tr>\n",
              "    <tr>\n",
              "      <th>49714</th>\n",
              "      <td>6.820000e+17</td>\n",
              "      <td>neutral</td>\n",
              "      <td>I guess even Pandora knows Justin Bieber is a ...</td>\n",
              "      <td>guess even pandora knows justin bieber grown n...</td>\n",
              "    </tr>\n",
              "  </tbody>\n",
              "</table>\n",
              "<p>49715 rows × 4 columns</p>\n",
              "</div>"
            ],
            "text/plain": [
              "            Column1  ...                                   Tweet_Clean_Text\n",
              "0      4.343150e+17  ...  wall wall people platform south norwalk waitin...\n",
              "1      4.376050e+17  ...  ang sarap mging panganay pag ikaw may kylngan ...\n",
              "2      4.374240e+17  ...                     school monday gonna great time\n",
              "3      4.368360e+17  ...             thanks manager putting schedule sunday\n",
              "4      4.356710e+17  ...            needs sleep like test tomorrow anything\n",
              "...             ...  ...                                                ...\n",
              "49710  6.820000e+17  ...  think asking order future drake thug cole kend...\n",
              "49711  6.820000e+17  ...  iran ranks st liver surgeries allah bless country\n",
              "49712  6.820000e+17  ...  hours arrived saudi arabia tuesday turkish pre...\n",
              "49713  6.820000e+17  ...  alex kim kardashian worth love kim kardashian ...\n",
              "49714  6.820000e+17  ...  guess even pandora knows justin bieber grown n...\n",
              "\n",
              "[49715 rows x 4 columns]"
            ]
          },
          "metadata": {
            "tags": []
          },
          "execution_count": 5
        }
      ]
    },
    {
      "cell_type": "code",
      "metadata": {
        "colab": {
          "base_uri": "https://localhost:8080/"
        },
        "id": "gIkZzwhDKZPN",
        "outputId": "949d5d64-bc6d-431c-c78c-6053bf6723aa"
      },
      "source": [
        "semeval_frame['Column2'].value_counts()"
      ],
      "execution_count": 14,
      "outputs": [
        {
          "output_type": "execute_result",
          "data": {
            "text/plain": [
              "neutral     22274\n",
              "positive    19688\n",
              "negative     7753\n",
              "Name: Column2, dtype: int64"
            ]
          },
          "metadata": {
            "tags": []
          },
          "execution_count": 14
        }
      ]
    },
    {
      "cell_type": "markdown",
      "metadata": {
        "id": "gCBIW_j2jZB8"
      },
      "source": [
        "# Build the Inputs and LSTM network"
      ]
    },
    {
      "cell_type": "markdown",
      "metadata": {
        "id": "emSZC9JBjksH"
      },
      "source": [
        "**Change labels to integer as its easier to feed as an input / one hot encode them**"
      ]
    },
    {
      "cell_type": "code",
      "metadata": {
        "colab": {
          "base_uri": "https://localhost:8080/",
          "height": 402
        },
        "id": "WqBxPJKpjjak",
        "outputId": "b32ae78f-a260-47c3-99b2-9ebe38f1ab81"
      },
      "source": [
        "#from sklearn.preprocessing import LabelBinarizer\n",
        "#lb = LabelBinarizer()\n",
        "\n",
        "#Solution1\n",
        "semeval_frame[\"Sentiment_Value\"] = semeval_frame[\"Column2\"].map({\"neutral\": 0, \"positive\": 1, \"negative\": 2})\n",
        "lbl = to_categorical(semeval_frame[\"Sentiment_Value\"], 3)\n",
        "\n",
        "#Solution2\n",
        "#one_hot = pd.get_dummies(semeval_frame['Column2'])\n",
        "#semeval_frame = semeval_frame.join(one_hot)\n",
        "\n",
        "#Solution3\n",
        "#semeval_frame = semeval_frame.join(pd.DataFrame(lb.fit_transform(semeval_frame[\"Column2\"]),\n",
        "#                          columns=lb.classes_, \n",
        "#                          index=semeval_frame.index))\n",
        "semeval_frame"
      ],
      "execution_count": 6,
      "outputs": [
        {
          "output_type": "execute_result",
          "data": {
            "text/html": [
              "<div>\n",
              "<style scoped>\n",
              "    .dataframe tbody tr th:only-of-type {\n",
              "        vertical-align: middle;\n",
              "    }\n",
              "\n",
              "    .dataframe tbody tr th {\n",
              "        vertical-align: top;\n",
              "    }\n",
              "\n",
              "    .dataframe thead th {\n",
              "        text-align: right;\n",
              "    }\n",
              "</style>\n",
              "<table border=\"1\" class=\"dataframe\">\n",
              "  <thead>\n",
              "    <tr style=\"text-align: right;\">\n",
              "      <th></th>\n",
              "      <th>Column1</th>\n",
              "      <th>Column2</th>\n",
              "      <th>Column3</th>\n",
              "      <th>Tweet_Clean_Text</th>\n",
              "      <th>Sentiment_Value</th>\n",
              "    </tr>\n",
              "  </thead>\n",
              "  <tbody>\n",
              "    <tr>\n",
              "      <th>0</th>\n",
              "      <td>4.343150e+17</td>\n",
              "      <td>negative</td>\n",
              "      <td>@MetroNorth wall to wall people on the platfor...</td>\n",
              "      <td>wall wall people platform south norwalk waitin...</td>\n",
              "      <td>2</td>\n",
              "    </tr>\n",
              "    <tr>\n",
              "      <th>1</th>\n",
              "      <td>4.376050e+17</td>\n",
              "      <td>neutral</td>\n",
              "      <td>ang sarap mging panganay. Pag ikaw may kylngan...</td>\n",
              "      <td>ang sarap mging panganay pag ikaw may kylngan ...</td>\n",
              "      <td>0</td>\n",
              "    </tr>\n",
              "    <tr>\n",
              "      <th>2</th>\n",
              "      <td>4.374240e+17</td>\n",
              "      <td>negative</td>\n",
              "      <td>RT @katie_rohaley: School on Monday is just go...</td>\n",
              "      <td>school monday gonna great time</td>\n",
              "      <td>2</td>\n",
              "    </tr>\n",
              "    <tr>\n",
              "      <th>3</th>\n",
              "      <td>4.368360e+17</td>\n",
              "      <td>negative</td>\n",
              "      <td>Thanks manager for putting me on the schedule ...</td>\n",
              "      <td>thanks manager putting schedule sunday</td>\n",
              "      <td>2</td>\n",
              "    </tr>\n",
              "    <tr>\n",
              "      <th>4</th>\n",
              "      <td>4.356710e+17</td>\n",
              "      <td>negative</td>\n",
              "      <td>Who needs sleep? It's not like I have a test t...</td>\n",
              "      <td>needs sleep like test tomorrow anything</td>\n",
              "      <td>2</td>\n",
              "    </tr>\n",
              "    <tr>\n",
              "      <th>...</th>\n",
              "      <td>...</td>\n",
              "      <td>...</td>\n",
              "      <td>...</td>\n",
              "      <td>...</td>\n",
              "      <td>...</td>\n",
              "    </tr>\n",
              "    <tr>\n",
              "      <th>49710</th>\n",
              "      <td>6.820000e+17</td>\n",
              "      <td>neutral</td>\n",
              "      <td>@ShaquilleHoNeal from what I think you're aski...</td>\n",
              "      <td>think asking order future drake thug cole kend...</td>\n",
              "      <td>0</td>\n",
              "    </tr>\n",
              "    <tr>\n",
              "      <th>49711</th>\n",
              "      <td>6.820000e+17</td>\n",
              "      <td>positive</td>\n",
              "      <td>Iran ranks 1st in liver surgeries, Allah bless...</td>\n",
              "      <td>iran ranks st liver surgeries allah bless country</td>\n",
              "      <td>1</td>\n",
              "    </tr>\n",
              "    <tr>\n",
              "      <th>49712</th>\n",
              "      <td>6.820000e+17</td>\n",
              "      <td>neutral</td>\n",
              "      <td>Hours before he arrived in Saudi Arabia on Tue...</td>\n",
              "      <td>hours arrived saudi arabia tuesday turkish pre...</td>\n",
              "      <td>0</td>\n",
              "    </tr>\n",
              "    <tr>\n",
              "      <th>49713</th>\n",
              "      <td>6.820000e+17</td>\n",
              "      <td>negative</td>\n",
              "      <td>@VanityFair  Alex Kim Kardashian worth how to ...</td>\n",
              "      <td>alex kim kardashian worth love kim kardashian ...</td>\n",
              "      <td>2</td>\n",
              "    </tr>\n",
              "    <tr>\n",
              "      <th>49714</th>\n",
              "      <td>6.820000e+17</td>\n",
              "      <td>neutral</td>\n",
              "      <td>I guess even Pandora knows Justin Bieber is a ...</td>\n",
              "      <td>guess even pandora knows justin bieber grown n...</td>\n",
              "      <td>0</td>\n",
              "    </tr>\n",
              "  </tbody>\n",
              "</table>\n",
              "<p>49715 rows × 5 columns</p>\n",
              "</div>"
            ],
            "text/plain": [
              "            Column1  ... Sentiment_Value\n",
              "0      4.343150e+17  ...               2\n",
              "1      4.376050e+17  ...               0\n",
              "2      4.374240e+17  ...               2\n",
              "3      4.368360e+17  ...               2\n",
              "4      4.356710e+17  ...               2\n",
              "...             ...  ...             ...\n",
              "49710  6.820000e+17  ...               0\n",
              "49711  6.820000e+17  ...               1\n",
              "49712  6.820000e+17  ...               0\n",
              "49713  6.820000e+17  ...               2\n",
              "49714  6.820000e+17  ...               0\n",
              "\n",
              "[49715 rows x 5 columns]"
            ]
          },
          "metadata": {
            "tags": []
          },
          "execution_count": 6
        }
      ]
    },
    {
      "cell_type": "markdown",
      "metadata": {
        "id": "ndUMWSzDLn-q"
      },
      "source": [
        "**Vectorize and convert text into sequences**"
      ]
    },
    {
      "cell_type": "code",
      "metadata": {
        "id": "9phzbq3PLRno"
      },
      "source": [
        "# Approach 1 - Keras Tokenizer\n",
        "maxlen = semeval_frame['Tweet_Clean_Text'].apply(lambda x: len(x.split())).max()\n",
        "tokenizer = Tokenizer()\n",
        "tokenizer.fit_on_texts(semeval_frame['Tweet_Clean_Text'].values)\n",
        "num_features = len(tokenizer.word_index) + 1\n",
        "X = tokenizer.texts_to_sequences(semeval_frame['Tweet_Clean_Text'].values)\n",
        "X = pad_sequences(X, maxlen=maxlen, padding='post')"
      ],
      "execution_count": 21,
      "outputs": []
    },
    {
      "cell_type": "code",
      "metadata": {
        "id": "3fFFVsafNvRl"
      },
      "source": [
        "# Approach 2 - GloVe embeddings\r\n",
        "def get_w2v(path):\r\n",
        "  file = open(path)\r\n",
        "  w2v = {}\r\n",
        "  for embedding_line in file:\r\n",
        "    embedding_word = embedding_line.split()[0]\r\n",
        "    embedding_value = np.asarray([float(value) for value in embedding_line.split()[1:]])\r\n",
        "    w2v[embedding_word] = embedding_value\r\n",
        "  return w2v"
      ],
      "execution_count": 22,
      "outputs": []
    },
    {
      "cell_type": "code",
      "metadata": {
        "id": "HArEwL18Tl_b"
      },
      "source": [
        "glove_file_path = \"drive/My Drive/Workspace/SentimentAnalysis/GloVe/glove.twitter.27B.200d.txt\"\r\n",
        "w2v = get_w2v(glove_file_path)"
      ],
      "execution_count": 23,
      "outputs": []
    },
    {
      "cell_type": "code",
      "metadata": {
        "id": "icnpqnh5of8p"
      },
      "source": [
        "emb_mat = np.zeros((num_features, 200))\r\n",
        "for word, i in tokenizer.word_index.items():\r\n",
        "  vector = w2v.get(word)\r\n",
        "  if vector is not None:\r\n",
        "    emb_mat[i] = vector\r\n",
        "  else:\r\n",
        "    emb_mat[i] = np.random.randn(200)"
      ],
      "execution_count": 24,
      "outputs": []
    },
    {
      "cell_type": "markdown",
      "metadata": {
        "id": "R87-Es7DmB1P"
      },
      "source": [
        "**Create Training, Validation, and Test Data splits**"
      ]
    },
    {
      "cell_type": "code",
      "metadata": {
        "id": "ALGB5lGcmDYh"
      },
      "source": [
        "#Y = semeval_frame['Sentiment_Value']\n",
        "Y = lbl\n",
        "\n",
        "x_train, x_test, y_train, y_test = train_test_split(X, Y, test_size = 0.15, random_state = 10)\n",
        "\n",
        "x_train, x_val, y_train, y_val = train_test_split(x_train, y_train, test_size=0.15, random_state=10)"
      ],
      "execution_count": 25,
      "outputs": []
    },
    {
      "cell_type": "code",
      "metadata": {
        "colab": {
          "base_uri": "https://localhost:8080/"
        },
        "id": "1hvybpbohrHY",
        "outputId": "e35e9188-4517-4fcf-8334-8dc570989018"
      },
      "source": [
        "lbl"
      ],
      "execution_count": 33,
      "outputs": [
        {
          "output_type": "execute_result",
          "data": {
            "text/plain": [
              "array([[0., 0., 1.],\n",
              "       [1., 0., 0.],\n",
              "       [0., 0., 1.],\n",
              "       ...,\n",
              "       [1., 0., 0.],\n",
              "       [0., 0., 1.],\n",
              "       [1., 0., 0.]], dtype=float32)"
            ]
          },
          "metadata": {
            "tags": []
          },
          "execution_count": 33
        }
      ]
    },
    {
      "cell_type": "markdown",
      "metadata": {
        "id": "fxI8h7f-PI7b"
      },
      "source": [
        "**Define the model**"
      ]
    },
    {
      "cell_type": "code",
      "metadata": {
        "colab": {
          "base_uri": "https://localhost:8080/"
        },
        "id": "7GMYsz1rPIRL",
        "outputId": "5b6e8acf-9e62-4b7b-e26a-1b60bba363d3"
      },
      "source": [
        "output_dims = 200\n",
        "lstm_out = 200\n",
        "\n",
        "model = keras.Sequential([\n",
        "    layers.Embedding(input_dim=num_features, output_dim=output_dims, input_length=X.shape[1], weights=[emb_mat], trainable=True),\n",
        "    layers.Bidirectional(layers.LSTM(units=lstm_out, dropout=0.5, recurrent_dropout=0.3, return_sequences=False)),\n",
        "    layers.Dense(10, activation=\"sigmoid\"),\n",
        "    layers.Dropout(0.5),\n",
        "    layers.Dense(units=3, activation='softmax')\n",
        "    ])"
      ],
      "execution_count": 95,
      "outputs": [
        {
          "output_type": "stream",
          "text": [
            "WARNING:tensorflow:Layer lstm_16 will not use cuDNN kernel since it doesn't meet the cuDNN kernel criteria. It will use generic GPU kernel as fallback when running on GPU\n"
          ],
          "name": "stdout"
        },
        {
          "output_type": "stream",
          "text": [
            "WARNING:tensorflow:Layer lstm_16 will not use cuDNN kernel since it doesn't meet the cuDNN kernel criteria. It will use generic GPU kernel as fallback when running on GPU\n"
          ],
          "name": "stderr"
        },
        {
          "output_type": "stream",
          "text": [
            "WARNING:tensorflow:Layer lstm_16 will not use cuDNN kernel since it doesn't meet the cuDNN kernel criteria. It will use generic GPU kernel as fallback when running on GPU\n"
          ],
          "name": "stdout"
        },
        {
          "output_type": "stream",
          "text": [
            "WARNING:tensorflow:Layer lstm_16 will not use cuDNN kernel since it doesn't meet the cuDNN kernel criteria. It will use generic GPU kernel as fallback when running on GPU\n"
          ],
          "name": "stderr"
        },
        {
          "output_type": "stream",
          "text": [
            "WARNING:tensorflow:Layer lstm_16 will not use cuDNN kernel since it doesn't meet the cuDNN kernel criteria. It will use generic GPU kernel as fallback when running on GPU\n"
          ],
          "name": "stdout"
        },
        {
          "output_type": "stream",
          "text": [
            "WARNING:tensorflow:Layer lstm_16 will not use cuDNN kernel since it doesn't meet the cuDNN kernel criteria. It will use generic GPU kernel as fallback when running on GPU\n"
          ],
          "name": "stderr"
        }
      ]
    },
    {
      "cell_type": "code",
      "metadata": {
        "colab": {
          "base_uri": "https://localhost:8080/"
        },
        "id": "iSx_EXFWkYFn",
        "outputId": "c3c7ff67-302f-4787-edf1-644392ab5d02"
      },
      "source": [
        "model.summary()"
      ],
      "execution_count": 96,
      "outputs": [
        {
          "output_type": "stream",
          "text": [
            "Model: \"sequential_16\"\n",
            "_________________________________________________________________\n",
            "Layer (type)                 Output Shape              Param #   \n",
            "=================================================================\n",
            "embedding_17 (Embedding)     (None, 41, 200)           8508200   \n",
            "_________________________________________________________________\n",
            "bidirectional_16 (Bidirectio (None, 400)               641600    \n",
            "_________________________________________________________________\n",
            "dense_17 (Dense)             (None, 10)                4010      \n",
            "_________________________________________________________________\n",
            "dropout_6 (Dropout)          (None, 10)                0         \n",
            "_________________________________________________________________\n",
            "dense_18 (Dense)             (None, 3)                 33        \n",
            "=================================================================\n",
            "Total params: 9,153,843\n",
            "Trainable params: 9,153,843\n",
            "Non-trainable params: 0\n",
            "_________________________________________________________________\n"
          ],
          "name": "stdout"
        }
      ]
    },
    {
      "cell_type": "code",
      "metadata": {
        "id": "Zjw5MIMtio_W"
      },
      "source": [
        "def recall_score(y_true, y_pred):\n",
        "    true_positives = K.sum(K.round(K.clip(y_true * y_pred, 0, 1)))\n",
        "    possible_positives = K.sum(K.round(K.clip(y_true, 0, 1)))\n",
        "    recall = true_positives / (possible_positives + K.epsilon())\n",
        "    recall_score.__name__ = 'recall'\n",
        "    return recall\n",
        "\n",
        "def precision_score(y_true, y_pred):\n",
        "    true_positives = K.sum(K.round(K.clip(y_true * y_pred, 0, 1)))\n",
        "    predicted_positives = K.sum(K.round(K.clip(y_pred, 0, 1)))\n",
        "    precision = true_positives / (predicted_positives + K.epsilon())\n",
        "    precision_score.__name__ = 'precision'\n",
        "    return precision\n",
        "\n",
        "def f1_metrics(y_true, y_pred):\n",
        "    precision = precision_score(y_true, y_pred)\n",
        "    recall = recall_score(y_true, y_pred)\n",
        "    f1_metrics.__name__ = 'f1'\n",
        "    return 2*((precision*recall)/(precision+recall+K.epsilon()))\n",
        "\n",
        "metrics = [\n",
        "           keras.metrics.CategoricalAccuracy(),\n",
        "           keras.metrics.Precision(name='precision'),\n",
        "           keras.metrics.Recall(name='recall'),\n",
        "           f1_metrics,\n",
        "           #keras.metrics.TruePositives(name='tp'),\n",
        "           #keras.metrics.FalsePositives(name='fp'),\n",
        "           #keras.metrics.TrueNegatives(name='tn'),\n",
        "           #keras.metrics.FalseNegatives(name='fn'),\n",
        "]\n",
        "\n",
        "model.compile(optimizer='adam',\n",
        "              loss=keras.losses.CategoricalCrossentropy(),\n",
        "              metrics=metrics)"
      ],
      "execution_count": 97,
      "outputs": []
    },
    {
      "cell_type": "markdown",
      "metadata": {
        "id": "eoRCiV9wCSlq"
      },
      "source": [
        "**Useful plot function**"
      ]
    },
    {
      "cell_type": "code",
      "metadata": {
        "id": "kL3P7mUS7UsF"
      },
      "source": [
        "colors = plt.rcParams['axes.prop_cycle'].by_key()['color']\n",
        "plt.rcParams['figure.figsize'] = 15, 10"
      ],
      "execution_count": 30,
      "outputs": []
    },
    {
      "cell_type": "code",
      "metadata": {
        "id": "YCCbd84GCXNF"
      },
      "source": [
        "def plot_metrics(history):\n",
        "  metrics = ['loss', 'categorical_accuracy', 'precision', 'recall', 'f1_metrics']\n",
        "  for n, metric in enumerate(metrics):\n",
        "    name = metric.replace(\"_\",\" \").capitalize()\n",
        "    plt.subplot(2,3,n+1)\n",
        "    plt.plot(history.epoch, history.history[metric], color=colors[0], label='Train')\n",
        "    plt.plot(history.epoch, history.history['val_'+metric],\n",
        "             color=colors[0], linestyle=\"--\", label='Val')\n",
        "    plt.xlabel('Epoch')\n",
        "    plt.ylabel(name)\n",
        "    if metric == 'loss':\n",
        "      plt.ylim([0, plt.ylim()[1]])\n",
        "    else:\n",
        "      plt.ylim([0,1])\n",
        "\n",
        "    plt.legend()"
      ],
      "execution_count": 31,
      "outputs": []
    },
    {
      "cell_type": "markdown",
      "metadata": {
        "id": "HDAZ3oYc4i4L"
      },
      "source": [
        "**Load Model Function**"
      ]
    },
    {
      "cell_type": "code",
      "metadata": {
        "id": "iTjvAuN34mFM"
      },
      "source": [
        "def load_model(path):\n",
        "  return keras.models.load_model(path)"
      ],
      "execution_count": 59,
      "outputs": []
    },
    {
      "cell_type": "markdown",
      "metadata": {
        "id": "M7wVtkE_2t87"
      },
      "source": [
        "**Load model weights**"
      ]
    },
    {
      "cell_type": "code",
      "metadata": {
        "id": "hmWosn8h170Q"
      },
      "source": [
        "def load_model_weights(model, path):\n",
        "  model.load_weights(path)"
      ],
      "execution_count": 60,
      "outputs": []
    },
    {
      "cell_type": "markdown",
      "metadata": {
        "id": "1hyDaelS07Vj"
      },
      "source": [
        "**Save only the best weights and model(determined after every epoch)**"
      ]
    },
    {
      "cell_type": "code",
      "metadata": {
        "id": "BGhMWPZGyOy2"
      },
      "source": [
        "checkpoint_filepath = 'drive/My Drive/Workspace/SentimentAnalysis/Model'\n",
        "\n",
        "model_checkpoint_callback = keras.callbacks.ModelCheckpoint(\n",
        "    filepath=checkpoint_filepath,\n",
        "    save_weights_only=False,\n",
        "    monitor='val_f1_metrics',\n",
        "    mode='max',\n",
        "    save_best_only=True,\n",
        "    save_freq='epoch')\n",
        "\n",
        "early_stopping_callback = keras.callbacks.EarlyStopping(monitor='val_loss', patience=3)\n",
        "\n",
        "reduce_lr_callback = keras.callbacks.ReduceLROnPlateau(monitor='val_categorical_accuracy', factor=0.2, patience=3, min_lr=0.00001)"
      ],
      "execution_count": 98,
      "outputs": []
    },
    {
      "cell_type": "markdown",
      "metadata": {
        "id": "T9zSsDyA04oS"
      },
      "source": [
        "**Train Model**"
      ]
    },
    {
      "cell_type": "code",
      "metadata": {
        "colab": {
          "base_uri": "https://localhost:8080/"
        },
        "id": "qbdGYy7ajRFm",
        "outputId": "5542d68e-d713-4e37-c2d8-af829d1e2995"
      },
      "source": [
        "history = model.fit(x_train, y_train, epochs = 25, batch_size=2000, validation_data=(x_val,y_val), callbacks=[model_checkpoint_callback, early_stopping_callback, reduce_lr_callback])"
      ],
      "execution_count": 99,
      "outputs": [
        {
          "output_type": "stream",
          "text": [
            "Epoch 1/25\n",
            "18/18 [==============================] - 14s 545ms/step - loss: 1.0842 - categorical_accuracy: 0.4179 - precision: 0.4436 - recall: 0.1848 - f1_metrics: 0.2589 - val_loss: 0.9522 - val_categorical_accuracy: 0.5573 - val_precision: 0.7189 - val_recall: 0.2227 - val_f1_metrics: 0.3382\n",
            "INFO:tensorflow:Assets written to: drive/My Drive/Workspace/SentimentAnalysis/Model/assets\n"
          ],
          "name": "stdout"
        },
        {
          "output_type": "stream",
          "text": [
            "INFO:tensorflow:Assets written to: drive/My Drive/Workspace/SentimentAnalysis/Model/assets\n"
          ],
          "name": "stderr"
        },
        {
          "output_type": "stream",
          "text": [
            "Epoch 2/25\n",
            "18/18 [==============================] - 9s 525ms/step - loss: 0.9678 - categorical_accuracy: 0.5366 - precision: 0.6046 - recall: 0.2747 - f1_metrics: 0.3761 - val_loss: 0.8909 - val_categorical_accuracy: 0.5842 - val_precision: 0.7007 - val_recall: 0.3557 - val_f1_metrics: 0.4714\n",
            "INFO:tensorflow:Assets written to: drive/My Drive/Workspace/SentimentAnalysis/Model/assets\n"
          ],
          "name": "stdout"
        },
        {
          "output_type": "stream",
          "text": [
            "INFO:tensorflow:Assets written to: drive/My Drive/Workspace/SentimentAnalysis/Model/assets\n"
          ],
          "name": "stderr"
        },
        {
          "output_type": "stream",
          "text": [
            "Epoch 3/25\n",
            "18/18 [==============================] - 9s 515ms/step - loss: 0.9159 - categorical_accuracy: 0.5651 - precision: 0.6541 - recall: 0.3442 - f1_metrics: 0.4500 - val_loss: 0.8455 - val_categorical_accuracy: 0.5998 - val_precision: 0.7083 - val_recall: 0.4111 - val_f1_metrics: 0.5234\n",
            "INFO:tensorflow:Assets written to: drive/My Drive/Workspace/SentimentAnalysis/Model/assets\n"
          ],
          "name": "stdout"
        },
        {
          "output_type": "stream",
          "text": [
            "INFO:tensorflow:Assets written to: drive/My Drive/Workspace/SentimentAnalysis/Model/assets\n"
          ],
          "name": "stderr"
        },
        {
          "output_type": "stream",
          "text": [
            "Epoch 4/25\n",
            "18/18 [==============================] - 9s 511ms/step - loss: 0.8750 - categorical_accuracy: 0.5922 - precision: 0.6750 - recall: 0.3928 - f1_metrics: 0.4960 - val_loss: 0.8116 - val_categorical_accuracy: 0.6159 - val_precision: 0.7053 - val_recall: 0.4718 - val_f1_metrics: 0.5708\n",
            "INFO:tensorflow:Assets written to: drive/My Drive/Workspace/SentimentAnalysis/Model/assets\n"
          ],
          "name": "stdout"
        },
        {
          "output_type": "stream",
          "text": [
            "INFO:tensorflow:Assets written to: drive/My Drive/Workspace/SentimentAnalysis/Model/assets\n"
          ],
          "name": "stderr"
        },
        {
          "output_type": "stream",
          "text": [
            "Epoch 5/25\n",
            "18/18 [==============================] - 9s 519ms/step - loss: 0.8460 - categorical_accuracy: 0.6094 - precision: 0.6996 - recall: 0.4254 - f1_metrics: 0.5289 - val_loss: 0.7953 - val_categorical_accuracy: 0.6228 - val_precision: 0.7145 - val_recall: 0.4774 - val_f1_metrics: 0.5821\n",
            "INFO:tensorflow:Assets written to: drive/My Drive/Workspace/SentimentAnalysis/Model/assets\n"
          ],
          "name": "stdout"
        },
        {
          "output_type": "stream",
          "text": [
            "INFO:tensorflow:Assets written to: drive/My Drive/Workspace/SentimentAnalysis/Model/assets\n"
          ],
          "name": "stderr"
        },
        {
          "output_type": "stream",
          "text": [
            "Epoch 6/25\n",
            "18/18 [==============================] - 9s 511ms/step - loss: 0.8164 - categorical_accuracy: 0.6318 - precision: 0.7185 - recall: 0.4635 - f1_metrics: 0.5634 - val_loss: 0.7902 - val_categorical_accuracy: 0.6250 - val_precision: 0.7246 - val_recall: 0.4627 - val_f1_metrics: 0.5731\n",
            "Epoch 7/25\n",
            "18/18 [==============================] - 10s 547ms/step - loss: 0.8001 - categorical_accuracy: 0.6369 - precision: 0.7270 - recall: 0.4725 - f1_metrics: 0.5727 - val_loss: 0.7767 - val_categorical_accuracy: 0.6359 - val_precision: 0.7093 - val_recall: 0.5103 - val_f1_metrics: 0.6013\n",
            "INFO:tensorflow:Assets written to: drive/My Drive/Workspace/SentimentAnalysis/Model/assets\n"
          ],
          "name": "stdout"
        },
        {
          "output_type": "stream",
          "text": [
            "INFO:tensorflow:Assets written to: drive/My Drive/Workspace/SentimentAnalysis/Model/assets\n"
          ],
          "name": "stderr"
        },
        {
          "output_type": "stream",
          "text": [
            "Epoch 8/25\n",
            "18/18 [==============================] - 9s 521ms/step - loss: 0.7733 - categorical_accuracy: 0.6553 - precision: 0.7455 - recall: 0.5040 - f1_metrics: 0.6013 - val_loss: 0.7708 - val_categorical_accuracy: 0.6466 - val_precision: 0.7110 - val_recall: 0.5146 - val_f1_metrics: 0.6037\n",
            "INFO:tensorflow:Assets written to: drive/My Drive/Workspace/SentimentAnalysis/Model/assets\n"
          ],
          "name": "stdout"
        },
        {
          "output_type": "stream",
          "text": [
            "INFO:tensorflow:Assets written to: drive/My Drive/Workspace/SentimentAnalysis/Model/assets\n"
          ],
          "name": "stderr"
        },
        {
          "output_type": "stream",
          "text": [
            "Epoch 9/25\n",
            "18/18 [==============================] - 9s 510ms/step - loss: 0.7574 - categorical_accuracy: 0.6644 - precision: 0.7503 - recall: 0.5222 - f1_metrics: 0.6157 - val_loss: 0.7819 - val_categorical_accuracy: 0.6451 - val_precision: 0.7160 - val_recall: 0.4811 - val_f1_metrics: 0.5804\n",
            "Epoch 10/25\n",
            "18/18 [==============================] - 10s 534ms/step - loss: 0.7436 - categorical_accuracy: 0.6723 - precision: 0.7572 - recall: 0.5337 - f1_metrics: 0.6258 - val_loss: 0.7639 - val_categorical_accuracy: 0.6552 - val_precision: 0.7173 - val_recall: 0.4983 - val_f1_metrics: 0.5960\n",
            "Epoch 11/25\n",
            "18/18 [==============================] - 9s 513ms/step - loss: 0.7241 - categorical_accuracy: 0.6853 - precision: 0.7706 - recall: 0.5500 - f1_metrics: 0.6416 - val_loss: 0.7678 - val_categorical_accuracy: 0.6600 - val_precision: 0.7030 - val_recall: 0.5389 - val_f1_metrics: 0.6165\n",
            "INFO:tensorflow:Assets written to: drive/My Drive/Workspace/SentimentAnalysis/Model/assets\n"
          ],
          "name": "stdout"
        },
        {
          "output_type": "stream",
          "text": [
            "INFO:tensorflow:Assets written to: drive/My Drive/Workspace/SentimentAnalysis/Model/assets\n"
          ],
          "name": "stderr"
        },
        {
          "output_type": "stream",
          "text": [
            "Epoch 12/25\n",
            "18/18 [==============================] - 9s 510ms/step - loss: 0.7049 - categorical_accuracy: 0.6933 - precision: 0.7754 - recall: 0.5673 - f1_metrics: 0.6551 - val_loss: 0.7877 - val_categorical_accuracy: 0.6613 - val_precision: 0.7127 - val_recall: 0.5143 - val_f1_metrics: 0.6041\n",
            "Epoch 13/25\n",
            "18/18 [==============================] - 10s 530ms/step - loss: 0.6800 - categorical_accuracy: 0.7121 - precision: 0.7878 - recall: 0.5907 - f1_metrics: 0.6751 - val_loss: 0.7747 - val_categorical_accuracy: 0.6626 - val_precision: 0.7017 - val_recall: 0.5411 - val_f1_metrics: 0.6174\n",
            "INFO:tensorflow:Assets written to: drive/My Drive/Workspace/SentimentAnalysis/Model/assets\n"
          ],
          "name": "stdout"
        },
        {
          "output_type": "stream",
          "text": [
            "INFO:tensorflow:Assets written to: drive/My Drive/Workspace/SentimentAnalysis/Model/assets\n"
          ],
          "name": "stderr"
        }
      ]
    },
    {
      "cell_type": "code",
      "metadata": {
        "colab": {
          "base_uri": "https://localhost:8080/",
          "height": 610
        },
        "id": "aYVzwdrW6a1K",
        "outputId": "8112847d-42a3-4455-c85d-e13b65384221"
      },
      "source": [
        "plot_metrics(history)"
      ],
      "execution_count": 100,
      "outputs": [
        {
          "output_type": "display_data",
          "data": {
            "image/png": "[encoded data removed]",
            "text/plain": [
              "<Figure size 1080x720 with 5 Axes>"
            ]
          },
          "metadata": {
            "tags": [],
            "needs_background": "light"
          }
        }
      ]
    }
  ]
}