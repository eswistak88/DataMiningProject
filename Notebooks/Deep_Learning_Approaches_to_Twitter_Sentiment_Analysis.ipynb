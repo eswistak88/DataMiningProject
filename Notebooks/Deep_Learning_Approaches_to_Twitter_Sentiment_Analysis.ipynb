{
  "nbformat": 4,
  "nbformat_minor": 0,
  "metadata": {
    "colab": {
      "name": "Deep Learning Approaches to Twitter Sentiment Analysis.ipynb",
      "provenance": [],
      "collapsed_sections": [
        "1hP4M0DyOFUV",
        "Q17umrp39CJq",
        "jdD4aR8ZZ5gq"
      ]
    },
    "kernelspec": {
      "name": "python3",
      "display_name": "Python 3"
    },
    "accelerator": "GPU"
  },
  "cells": [
    {
      "cell_type": "markdown",
      "metadata": {
        "id": "1hP4M0DyOFUV"
      },
      "source": [
        "# 1. Get Tweets related to COVID-19 with Twitter API using Tweepy\n",
        "\n",
        "**Twitter API imposes a Data rate limitation and hence this code is run persistenlty with waiting times (setting parameters wait_on_rate_limit=True, wait_on_rate_limit_notify=True, to handle this). (Consider other alternatives if possible)**"
      ]
    },
    {
      "cell_type": "code",
      "metadata": {
        "colab": {
          "base_uri": "https://localhost:8080/"
        },
        "id": "pcMpV6UAqQQ0",
        "outputId": "9aaec4ca-c28e-44ea-9cdb-d305a543541f"
      },
      "source": [
        "pip install vaderSentiment"
      ],
      "execution_count": 1,
      "outputs": [
        {
          "output_type": "stream",
          "text": [
            "Collecting vaderSentiment\n",
            "\u001b[?25l  Downloading https://files.pythonhosted.org/packages/76/fc/310e16254683c1ed35eeb97386986d6c00bc29df17ce280aed64d55537e9/vaderSentiment-3.3.2-py2.py3-none-any.whl (125kB)\n",
            "\r\u001b[K     |██▋                             | 10kB 10.0MB/s eta 0:00:01\r\u001b[K     |█████▏                          | 20kB 13.9MB/s eta 0:00:01\r\u001b[K     |███████▉                        | 30kB 11.4MB/s eta 0:00:01\r\u001b[K     |██████████▍                     | 40kB 10.0MB/s eta 0:00:01\r\u001b[K     |█████████████                   | 51kB 8.8MB/s eta 0:00:01\r\u001b[K     |███████████████▋                | 61kB 9.4MB/s eta 0:00:01\r\u001b[K     |██████████████████▏             | 71kB 9.8MB/s eta 0:00:01\r\u001b[K     |████████████████████▉           | 81kB 10.1MB/s eta 0:00:01\r\u001b[K     |███████████████████████▍        | 92kB 10.4MB/s eta 0:00:01\r\u001b[K     |██████████████████████████      | 102kB 11.0MB/s eta 0:00:01\r\u001b[K     |████████████████████████████▋   | 112kB 11.0MB/s eta 0:00:01\r\u001b[K     |███████████████████████████████▏| 122kB 11.0MB/s eta 0:00:01\r\u001b[K     |████████████████████████████████| 133kB 11.0MB/s \n",
            "\u001b[?25hRequirement already satisfied: requests in /usr/local/lib/python3.6/dist-packages (from vaderSentiment) (2.23.0)\n",
            "Requirement already satisfied: chardet<4,>=3.0.2 in /usr/local/lib/python3.6/dist-packages (from requests->vaderSentiment) (3.0.4)\n",
            "Requirement already satisfied: urllib3!=1.25.0,!=1.25.1,<1.26,>=1.21.1 in /usr/local/lib/python3.6/dist-packages (from requests->vaderSentiment) (1.24.3)\n",
            "Requirement already satisfied: certifi>=2017.4.17 in /usr/local/lib/python3.6/dist-packages (from requests->vaderSentiment) (2020.12.5)\n",
            "Requirement already satisfied: idna<3,>=2.5 in /usr/local/lib/python3.6/dist-packages (from requests->vaderSentiment) (2.10)\n",
            "Installing collected packages: vaderSentiment\n",
            "Successfully installed vaderSentiment-3.3.2\n"
          ],
          "name": "stdout"
        }
      ]
    },
    {
      "cell_type": "code",
      "metadata": {
        "id": "hKFDqohpydvf",
        "colab": {
          "base_uri": "https://localhost:8080/"
        },
        "outputId": "3ed11c78-5416-4fa2-d4a1-6eb30c3cdd4f"
      },
      "source": [
        "import os\n",
        "import tweepy as tw\n",
        "import pandas as pd\n",
        "import csv\n",
        "import pandas as pd\n",
        "import glob\n",
        "from nltk.corpus import stopwords\n",
        "from vaderSentiment.vaderSentiment import SentimentIntensityAnalyzer\n",
        "import numpy as np\n",
        "import re\n",
        "from keras.preprocessing.text import Tokenizer\n",
        "from keras.preprocessing.sequence import pad_sequences\n",
        "import tensorflow.keras as keras\n",
        "import tensorflow.keras.layers as layers\n",
        "from sklearn.model_selection import train_test_split\n",
        "import keras.models\n",
        "import matplotlib.pyplot as plt\n",
        "from keras.utils import to_categorical\n",
        "from keras import backend as K\n",
        "import nltk\n",
        "nltk.download('stopwords')\n",
        "from nltk.corpus import stopwords"
      ],
      "execution_count": 2,
      "outputs": [
        {
          "output_type": "stream",
          "text": [
            "[nltk_data] Downloading package stopwords to /root/nltk_data...\n",
            "[nltk_data]   Unzipping corpora/stopwords.zip.\n"
          ],
          "name": "stdout"
        }
      ]
    },
    {
      "cell_type": "code",
      "metadata": {
        "id": "lS4hA75GqOBn"
      },
      "source": [
        "analyser = SentimentIntensityAnalyzer()"
      ],
      "execution_count": 9,
      "outputs": []
    },
    {
      "cell_type": "code",
      "metadata": {
        "id": "taALyiIVpogn"
      },
      "source": [
        "#Enter your keys here\n",
        "consumer_key= ''\n",
        "consumer_secret= ''\n",
        "access_token= ''\n",
        "access_token_secret= ''"
      ],
      "execution_count": null,
      "outputs": []
    },
    {
      "cell_type": "code",
      "metadata": {
        "id": "PoJo_hUtp2SH"
      },
      "source": [
        "auth = tw.OAuthHandler(consumer_key, consumer_secret)\n",
        "auth.set_access_token(access_token, access_token_secret)\n",
        "api = tw.API(auth, wait_on_rate_limit=True, wait_on_rate_limit_notify=True)"
      ],
      "execution_count": null,
      "outputs": []
    },
    {
      "cell_type": "code",
      "metadata": {
        "id": "K6H9xGIEqIQH"
      },
      "source": [
        "search_words = '#COVIDー19 -filter:retweets'\n",
        "date_since_1 = \"2020-10-01\"\n",
        "date_since_2 = \"2020-10-20\"\n",
        "date_since_3 = \"2020-11-01\"\n",
        "date_since_4 = \"2020-11-20\"\n",
        "date_since_5 = \"2020-04-01\"\n",
        "date_since_6 = \"2020-04-10\"\n",
        "date_since_7 = \"2020-04-20\"\n",
        "date_since_8 = \"2020-05-01\"\n",
        "date_since_9 = \"2020-05-10\"\n",
        "date_since_10 = \"2020-05-20\"\n",
        "date_since_11 = \"2020-06-01\"\n",
        "date_since_12 = \"2020-06-10\"\n",
        "date_since_13 = \"2020-06-20\"\n",
        "date_since_14 = \"2020-07-01\"\n",
        "date_since_15 = \"2020-07-10\"\n",
        "date_since_16 = \"2020-07-20\"\n",
        "date_since_17 = \"2020-08-01\"\n",
        "date_since_18 = \"2020-08-10\"\n",
        "date_since_19 = \"2020-08-20\"\n",
        "date_since_20 = \"2020-09-01\"\n",
        "date_list = [date_since_9, date_since_10, date_since_11, date_since_12, date_since_13, date_since_14, date_since_15, date_since_16, date_since_17, date_since_18, date_since_19, date_since_20]"
      ],
      "execution_count": null,
      "outputs": []
    },
    {
      "cell_type": "code",
      "metadata": {
        "id": "6KwN5XEiqbwX"
      },
      "source": [
        "# Function to Collect tweets. Iterator returned.\n",
        "def tweet_extractor(api, search_words, since_date):\n",
        "  tweets = tw.Cursor(api.search,\n",
        "              q=search_words,\n",
        "              lang=\"en\",\n",
        "              since=since_date).items(3000)\n",
        "  return tweets"
      ],
      "execution_count": null,
      "outputs": []
    },
    {
      "cell_type": "code",
      "metadata": {
        "id": "W9Wqwhbbia_f"
      },
      "source": [
        "#function to create the covid19 csv file\n",
        "def create_covid19_csv_data(csv_name, dict_list):\n",
        "  field_names= ['Tweet_Id', 'Tweet_Text']\n",
        "\n",
        "  with open(csv_name, 'w') as csvfile:\n",
        "    writer = csv.DictWriter(csvfile, fieldnames=field_names)\n",
        "    writer.writeheader()\n",
        "    writer.writerows(dict_list)"
      ],
      "execution_count": null,
      "outputs": []
    },
    {
      "cell_type": "code",
      "metadata": {
        "id": "qDEnI8Nypx0j"
      },
      "source": [
        "#Function to persistently create covid-19 data in seperate csv files\n",
        "def tweet_machine(api,search_words,date_list):\n",
        "  for date_since in date_list:\n",
        "    tweets = tweet_extractor(api=api, search_words=search_words, since_date=date_since)\n",
        "    tweet_dict_list = [{'Tweet_Id':tweet.id, 'Tweet_Text':tweet.text} for tweet in tweets]\n",
        "    csv_name = 'Tweets_COVID_19_Data_'+ date_since + '.csv'\n",
        "    create_covid19_csv_data(csv_name=csv_name, dict_list=tweet_dict_list)\n",
        "    tweet_dict_list.clear()"
      ],
      "execution_count": null,
      "outputs": []
    },
    {
      "cell_type": "code",
      "metadata": {
        "colab": {
          "base_uri": "https://localhost:8080/"
        },
        "id": "sv9pSyV8tQi0",
        "outputId": "aa0b88a2-e98a-4c19-e419-c1caf5c00c36"
      },
      "source": [
        "tweet_machine(api=api, search_words=search_words, date_list=date_list)"
      ],
      "execution_count": null,
      "outputs": [
        {
          "output_type": "stream",
          "text": [
            "Rate limit reached. Sleeping for: 853\n",
            "Rate limit reached. Sleeping for: 850\n",
            "Rate limit reached. Sleeping for: 853\n",
            "Rate limit reached. Sleeping for: 852\n",
            "Rate limit reached. Sleeping for: 853\n",
            "Rate limit reached. Sleeping for: 853\n",
            "Rate limit reached. Sleeping for: 852\n",
            "Rate limit reached. Sleeping for: 853\n",
            "Rate limit reached. Sleeping for: 852\n",
            "Rate limit reached. Sleeping for: 853\n",
            "Rate limit reached. Sleeping for: 852\n",
            "Rate limit reached. Sleeping for: 852\n",
            "Rate limit reached. Sleeping for: 851\n"
          ],
          "name": "stderr"
        }
      ]
    },
    {
      "cell_type": "markdown",
      "metadata": {
        "id": "Q17umrp39CJq"
      },
      "source": [
        "# 2. Data Cleaning"
      ]
    },
    {
      "cell_type": "markdown",
      "metadata": {
        "id": "dvvMCJjxn7zx"
      },
      "source": [
        "**Concatenate all csv files into one large corpus**"
      ]
    },
    {
      "cell_type": "code",
      "metadata": {
        "id": "XXo_igmI8tdx"
      },
      "source": [
        "def create_data_corpus(path):\n",
        "  files = glob.glob(path + \"/*.csv\")\n",
        "  df_list = []\n",
        "  \n",
        "  for file in files:\n",
        "    df = pd.read_csv(file, index_col=None, header=0, engine='python')\n",
        "    df_list.append(df)\n",
        "\n",
        "  frame = pd.concat(df_list, axis=0, ignore_index=True)\n",
        "  return frame"
      ],
      "execution_count": 4,
      "outputs": []
    },
    {
      "cell_type": "markdown",
      "metadata": {
        "id": "QBIFPSvLndRK"
      },
      "source": [
        "**Remove Duplicate entries**"
      ]
    },
    {
      "cell_type": "code",
      "metadata": {
        "id": "Yo9RQGvkuWCI"
      },
      "source": [
        "frame = pd.read_csv('drive/My Drive/Workspace/SentimentAnalysis/TwitterData/Tweets_COVID_19_Data_2020-04-01.csv', index_col=None, header=0)\n",
        "frame"
      ],
      "execution_count": null,
      "outputs": []
    },
    {
      "cell_type": "code",
      "metadata": {
        "id": "KHeFjoJskIzV"
      },
      "source": [
        "frame = frame.drop_duplicates().reset_index(drop=True)\n",
        "frame"
      ],
      "execution_count": null,
      "outputs": []
    },
    {
      "cell_type": "markdown",
      "metadata": {
        "id": "ozchllRRnj-i"
      },
      "source": [
        "**Remove Twitter Handles and return handles**"
      ]
    },
    {
      "cell_type": "code",
      "metadata": {
        "id": "--FOIDctt4V1"
      },
      "source": [
        "def remove_pattern(input_txt, pattern):\n",
        "  r = re.findall(pattern, input_txt)\n",
        "  for i in r:\n",
        "    input_txt = re.sub(i, '', input_txt)        \n",
        "  return input_txt"
      ],
      "execution_count": 5,
      "outputs": []
    },
    {
      "cell_type": "code",
      "metadata": {
        "id": "3hIluOUrn5tC"
      },
      "source": [
        "frame['Tweet_clean_Text'] = np.vectorize(remove_pattern)(frame['Tweet_Text'], \"RT @[\\w]*:\")\n",
        "frame.Tweet_clean_Text = np.vectorize(remove_pattern)(frame['Tweet_clean_Text'], \"@[\\w]*\")\n",
        "frame"
      ],
      "execution_count": null,
      "outputs": []
    },
    {
      "cell_type": "markdown",
      "metadata": {
        "id": "T2i6VApHtYHE"
      },
      "source": [
        "**Remove URL Links**"
      ]
    },
    {
      "cell_type": "code",
      "metadata": {
        "id": "rQ2BxrrTthAe"
      },
      "source": [
        "frame.Tweet_clean_Text = np.vectorize(remove_pattern)(frame['Tweet_clean_Text'], \"https?://[A-Za-z0-9./]*\")\n",
        "frame"
      ],
      "execution_count": null,
      "outputs": []
    },
    {
      "cell_type": "markdown",
      "metadata": {
        "id": "zJeQaTOJufZS"
      },
      "source": [
        "**Remove special characters, numbers, punctuations (except for #)**"
      ]
    },
    {
      "cell_type": "code",
      "metadata": {
        "id": "Q6Br4huSujBJ"
      },
      "source": [
        "frame.Tweet_clean_Text = frame.Tweet_clean_Text.str.replace(\"[^a-zA-Z#]\", \" \")\n",
        "frame"
      ],
      "execution_count": null,
      "outputs": []
    },
    {
      "cell_type": "markdown",
      "metadata": {
        "id": "o-Vbl3cSaRLM"
      },
      "source": [
        "**Remove Extra Spaces**"
      ]
    },
    {
      "cell_type": "code",
      "metadata": {
        "id": "Kt5SXqEiaPta"
      },
      "source": [
        "frame.Tweet_clean_Text = frame.Tweet_clean_Text.replace('\\s+', ' ', regex=True)\n",
        "frame"
      ],
      "execution_count": null,
      "outputs": []
    },
    {
      "cell_type": "markdown",
      "metadata": {
        "id": "DPHuSJsPb437"
      },
      "source": [
        "**Function to carry out data cleaning**"
      ]
    },
    {
      "cell_type": "code",
      "metadata": {
        "id": "1-8v5Uf3bA1X"
      },
      "source": [
        "def clean_tweets(frame, column_name, remove_stop_words=True, lower_case=True, remove_special=True):\n",
        "  frame = frame.drop_duplicates().reset_index(drop=True) #remove duplicate rows\n",
        "  frame['Tweet_Clean_Text'] = np.vectorize(remove_pattern)(frame[column_name], \"RT @[\\w]*:\") #remove twitter return handle\n",
        "  frame.Tweet_Clean_Text = np.vectorize(remove_pattern)(frame['Tweet_Clean_Text'], \"@[\\w]*\") #remove twitter handle\n",
        "  frame.Tweet_Clean_Text = np.vectorize(remove_pattern)(frame['Tweet_Clean_Text'], \"https?://[A-Za-z0-9./]*\") #remove URLs\n",
        "\n",
        "  if remove_special:\n",
        "    frame.Tweet_Clean_Text = frame.Tweet_Clean_Text.str.replace(\"[^a-zA-Z#]\", \" \") #remove special characters except for #\n",
        "  frame.Tweet_Clean_Text = frame.Tweet_Clean_Text.replace('\\s+', ' ', regex=True) #remove extra spaces in between words\n",
        "  if lower_case:\n",
        "    frame.Tweet_Clean_Text = frame.Tweet_Clean_Text.apply(lambda x: x.lower())\n",
        "  if remove_stop_words:\n",
        "    frame.Tweet_Clean_Text = frame.Tweet_Clean_Text.apply(lambda x: ' '.join([word for word in x.split() if word not in stopwords.words('english')])) #remove stop words\n",
        "\n",
        "  return frame"
      ],
      "execution_count": 6,
      "outputs": []
    },
    {
      "cell_type": "code",
      "metadata": {
        "id": "_9X-sOi9cJiG",
        "colab": {
          "base_uri": "https://localhost:8080/",
          "height": 402
        },
        "outputId": "84299521-9175-4839-c1ef-db6145119b77"
      },
      "source": [
        "frame = create_data_corpus('drive/My Drive/Workspace/SentimentAnalysis/TwitterData') #Use your own path, I have mounted the data from google drive\n",
        "covid_19_frame = clean_tweets(frame,'Tweet_Text', remove_stop_words=False, lower_case=False, remove_special=False)\n",
        "covid_19_frame"
      ],
      "execution_count": 8,
      "outputs": [
        {
          "output_type": "execute_result",
          "data": {
            "text/html": [
              "<div>\n",
              "<style scoped>\n",
              "    .dataframe tbody tr th:only-of-type {\n",
              "        vertical-align: middle;\n",
              "    }\n",
              "\n",
              "    .dataframe tbody tr th {\n",
              "        vertical-align: top;\n",
              "    }\n",
              "\n",
              "    .dataframe thead th {\n",
              "        text-align: right;\n",
              "    }\n",
              "</style>\n",
              "<table border=\"1\" class=\"dataframe\">\n",
              "  <thead>\n",
              "    <tr style=\"text-align: right;\">\n",
              "      <th></th>\n",
              "      <th>Tweet_Id</th>\n",
              "      <th>Tweet_Text</th>\n",
              "      <th>Tweet_Clean_Text</th>\n",
              "    </tr>\n",
              "  </thead>\n",
              "  <tbody>\n",
              "    <tr>\n",
              "      <th>0</th>\n",
              "      <td>1334926873944584201</td>\n",
              "      <td>Government could care less about us, they not ...</td>\n",
              "      <td>Government could care less about us, they not ...</td>\n",
              "    </tr>\n",
              "    <tr>\n",
              "      <th>1</th>\n",
              "      <td>1334926692574433280</td>\n",
              "      <td>In #UNGA Special Session on #COVIDー19. Listeni...</td>\n",
              "      <td>In #UNGA Special Session on #COVIDー19. Listeni...</td>\n",
              "    </tr>\n",
              "    <tr>\n",
              "      <th>2</th>\n",
              "      <td>1334926689693028354</td>\n",
              "      <td>THINK!\\n#COVID19 \\n#COVIDー19 \\n#FridayThoughts...</td>\n",
              "      <td>THINK! #COVID19 #COVIDー19 #FridayThoughts</td>\n",
              "    </tr>\n",
              "    <tr>\n",
              "      <th>3</th>\n",
              "      <td>1334926679442137088</td>\n",
              "      <td>I can see the end of the #cinema. Streaming wi...</td>\n",
              "      <td>I can see the end of the #cinema. Streaming wi...</td>\n",
              "    </tr>\n",
              "    <tr>\n",
              "      <th>4</th>\n",
              "      <td>1334926669556019200</td>\n",
              "      <td>#VT News 📰\\n04:12:2020\\nFor more promotions📜, ...</td>\n",
              "      <td>#VT News 📰 04:12:2020 For more promotions📜, Le...</td>\n",
              "    </tr>\n",
              "    <tr>\n",
              "      <th>...</th>\n",
              "      <td>...</td>\n",
              "      <td>...</td>\n",
              "      <td>...</td>\n",
              "    </tr>\n",
              "    <tr>\n",
              "      <th>4105</th>\n",
              "      <td>1334880135246270464</td>\n",
              "      <td>As many as 57,405 persons have undergone #Covi...</td>\n",
              "      <td>As many as 57,405 persons have undergone #Covi...</td>\n",
              "    </tr>\n",
              "    <tr>\n",
              "      <th>4106</th>\n",
              "      <td>1334910162470047744</td>\n",
              "      <td>This yrars Christmas album #pixieelittle #porn...</td>\n",
              "      <td>This yrars Christmas album #pixieelittle #porn...</td>\n",
              "    </tr>\n",
              "    <tr>\n",
              "      <th>4107</th>\n",
              "      <td>1334910064000372736</td>\n",
              "      <td>📌To reassure the public that #COVIDー19 vaccine...</td>\n",
              "      <td>📌To reassure the public that #COVIDー19 vaccine...</td>\n",
              "    </tr>\n",
              "    <tr>\n",
              "      <th>4108</th>\n",
              "      <td>1334909370082189315</td>\n",
              "      <td>This.  #COVID19 #COVIDー19 #CovidVaccine #antiv...</td>\n",
              "      <td>This. #COVID19 #COVIDー19 #CovidVaccine #antiva...</td>\n",
              "    </tr>\n",
              "    <tr>\n",
              "      <th>4109</th>\n",
              "      <td>1334913508329353218</td>\n",
              "      <td>Public needs to prep for transient #vaccine si...</td>\n",
              "      <td>Public needs to prep for transient #vaccine si...</td>\n",
              "    </tr>\n",
              "  </tbody>\n",
              "</table>\n",
              "<p>4110 rows × 3 columns</p>\n",
              "</div>"
            ],
            "text/plain": [
              "                 Tweet_Id  ...                                   Tweet_Clean_Text\n",
              "0     1334926873944584201  ...  Government could care less about us, they not ...\n",
              "1     1334926692574433280  ...  In #UNGA Special Session on #COVIDー19. Listeni...\n",
              "2     1334926689693028354  ...         THINK! #COVID19 #COVIDー19 #FridayThoughts \n",
              "3     1334926679442137088  ...  I can see the end of the #cinema. Streaming wi...\n",
              "4     1334926669556019200  ...  #VT News 📰 04:12:2020 For more promotions📜, Le...\n",
              "...                   ...  ...                                                ...\n",
              "4105  1334880135246270464  ...  As many as 57,405 persons have undergone #Covi...\n",
              "4106  1334910162470047744  ...  This yrars Christmas album #pixieelittle #porn...\n",
              "4107  1334910064000372736  ...  📌To reassure the public that #COVIDー19 vaccine...\n",
              "4108  1334909370082189315  ...  This. #COVID19 #COVIDー19 #CovidVaccine #antiva...\n",
              "4109  1334913508329353218  ...  Public needs to prep for transient #vaccine si...\n",
              "\n",
              "[4110 rows x 3 columns]"
            ]
          },
          "metadata": {
            "tags": []
          },
          "execution_count": 8
        }
      ]
    },
    {
      "cell_type": "markdown",
      "metadata": {
        "id": "jdD4aR8ZZ5gq"
      },
      "source": [
        "# 3. Assign Polarities to the extracted tweets using unsupervised sentiment analysis tools (Data Exploration)"
      ]
    },
    {
      "cell_type": "code",
      "metadata": {
        "id": "R_86qcodK000"
      },
      "source": [
        "def calculate_sentiment_analyser(Clean_text):    \n",
        "    return analyser.polarity_scores(Clean_text)"
      ],
      "execution_count": 10,
      "outputs": []
    },
    {
      "cell_type": "code",
      "metadata": {
        "id": "05Rj6Vbs0a0W"
      },
      "source": [
        "def get_sentiments(frame):\n",
        "  sentiment_frame = pd.DataFrame(index = range(0,len(frame)),columns= ['pos', 'neu', 'neg', 'compound_score', 'sentiment'])\n",
        "\n",
        "  for i, row in frame.iterrows():\n",
        "    sentiment_frame['pos'][i] = analyser.polarity_scores(frame.Tweet_Clean_Text[i])[\"pos\"]\n",
        "    sentiment_frame['neu'][i] = analyser.polarity_scores(frame.Tweet_Clean_Text[i])[\"neu\"]\n",
        "    sentiment_frame['neg'][i] = analyser.polarity_scores(frame.Tweet_Clean_Text[i])[\"neg\"]\n",
        "    sentiment_frame['compound_score'][i] = analyser.polarity_scores(frame.Tweet_Clean_Text[i])[\"compound\"]\n",
        "\n",
        "    if (sentiment_frame['compound_score'][i] <= -0.05):\n",
        "      sentiment_frame['sentiment'][i] = 'Negative'    \n",
        "    elif (sentiment_frame['compound_score'][i] >= 0.05):\n",
        "      sentiment_frame['sentiment'][i] = 'Positive'\n",
        "    elif ((sentiment_frame['compound_score'][i] >= -0.05) & (sentiment_frame['compound_score'][i] <= 0.05)):\n",
        "      sentiment_frame['sentiment'][i] = 'Neutral'\n",
        "\n",
        "  frame['pos'] = sentiment_frame['pos']\n",
        "  frame['neu'] = sentiment_frame['neu']\n",
        "  frame['neg'] = sentiment_frame['neg']\n",
        "  frame['compound_score'] = sentiment_frame['compound_score']\n",
        "  frame['sentiment'] = sentiment_frame['sentiment']\n",
        "\n",
        "  return frame"
      ],
      "execution_count": 11,
      "outputs": []
    },
    {
      "cell_type": "code",
      "metadata": {
        "colab": {
          "base_uri": "https://localhost:8080/",
          "height": 570
        },
        "id": "h7QvgJ6gNlPl",
        "outputId": "e92f4224-14a8-4228-9b34-ed229cbf51ac"
      },
      "source": [
        "covid_19_frame = get_sentiments(covid_19_frame)\r\n",
        "covid_19_frame"
      ],
      "execution_count": 12,
      "outputs": [
        {
          "output_type": "execute_result",
          "data": {
            "text/html": [
              "<div>\n",
              "<style scoped>\n",
              "    .dataframe tbody tr th:only-of-type {\n",
              "        vertical-align: middle;\n",
              "    }\n",
              "\n",
              "    .dataframe tbody tr th {\n",
              "        vertical-align: top;\n",
              "    }\n",
              "\n",
              "    .dataframe thead th {\n",
              "        text-align: right;\n",
              "    }\n",
              "</style>\n",
              "<table border=\"1\" class=\"dataframe\">\n",
              "  <thead>\n",
              "    <tr style=\"text-align: right;\">\n",
              "      <th></th>\n",
              "      <th>Tweet_Id</th>\n",
              "      <th>Tweet_Text</th>\n",
              "      <th>Tweet_Clean_Text</th>\n",
              "      <th>pos</th>\n",
              "      <th>neu</th>\n",
              "      <th>neg</th>\n",
              "      <th>compound_score</th>\n",
              "      <th>sentiment</th>\n",
              "    </tr>\n",
              "  </thead>\n",
              "  <tbody>\n",
              "    <tr>\n",
              "      <th>0</th>\n",
              "      <td>1334926873944584201</td>\n",
              "      <td>Government could care less about us, they not ...</td>\n",
              "      <td>Government could care less about us, they not ...</td>\n",
              "      <td>0.253</td>\n",
              "      <td>0.663</td>\n",
              "      <td>0.084</td>\n",
              "      <td>0.6204</td>\n",
              "      <td>Positive</td>\n",
              "    </tr>\n",
              "    <tr>\n",
              "      <th>1</th>\n",
              "      <td>1334926692574433280</td>\n",
              "      <td>In #UNGA Special Session on #COVIDー19. Listeni...</td>\n",
              "      <td>In #UNGA Special Session on #COVIDー19. Listeni...</td>\n",
              "      <td>0.279</td>\n",
              "      <td>0.721</td>\n",
              "      <td>0</td>\n",
              "      <td>0.7351</td>\n",
              "      <td>Positive</td>\n",
              "    </tr>\n",
              "    <tr>\n",
              "      <th>2</th>\n",
              "      <td>1334926689693028354</td>\n",
              "      <td>THINK!\\n#COVID19 \\n#COVIDー19 \\n#FridayThoughts...</td>\n",
              "      <td>THINK! #COVID19 #COVIDー19 #FridayThoughts</td>\n",
              "      <td>0</td>\n",
              "      <td>1</td>\n",
              "      <td>0</td>\n",
              "      <td>0</td>\n",
              "      <td>Neutral</td>\n",
              "    </tr>\n",
              "    <tr>\n",
              "      <th>3</th>\n",
              "      <td>1334926679442137088</td>\n",
              "      <td>I can see the end of the #cinema. Streaming wi...</td>\n",
              "      <td>I can see the end of the #cinema. Streaming wi...</td>\n",
              "      <td>0.167</td>\n",
              "      <td>0.833</td>\n",
              "      <td>0</td>\n",
              "      <td>0.5598</td>\n",
              "      <td>Positive</td>\n",
              "    </tr>\n",
              "    <tr>\n",
              "      <th>4</th>\n",
              "      <td>1334926669556019200</td>\n",
              "      <td>#VT News 📰\\n04:12:2020\\nFor more promotions📜, ...</td>\n",
              "      <td>#VT News 📰 04:12:2020 For more promotions📜, Le...</td>\n",
              "      <td>0.114</td>\n",
              "      <td>0.886</td>\n",
              "      <td>0</td>\n",
              "      <td>0.263</td>\n",
              "      <td>Positive</td>\n",
              "    </tr>\n",
              "    <tr>\n",
              "      <th>...</th>\n",
              "      <td>...</td>\n",
              "      <td>...</td>\n",
              "      <td>...</td>\n",
              "      <td>...</td>\n",
              "      <td>...</td>\n",
              "      <td>...</td>\n",
              "      <td>...</td>\n",
              "      <td>...</td>\n",
              "    </tr>\n",
              "    <tr>\n",
              "      <th>4105</th>\n",
              "      <td>1334880135246270464</td>\n",
              "      <td>As many as 57,405 persons have undergone #Covi...</td>\n",
              "      <td>As many as 57,405 persons have undergone #Covi...</td>\n",
              "      <td>0</td>\n",
              "      <td>1</td>\n",
              "      <td>0</td>\n",
              "      <td>0</td>\n",
              "      <td>Neutral</td>\n",
              "    </tr>\n",
              "    <tr>\n",
              "      <th>4106</th>\n",
              "      <td>1334910162470047744</td>\n",
              "      <td>This yrars Christmas album #pixieelittle #porn...</td>\n",
              "      <td>This yrars Christmas album #pixieelittle #porn...</td>\n",
              "      <td>0</td>\n",
              "      <td>1</td>\n",
              "      <td>0</td>\n",
              "      <td>0</td>\n",
              "      <td>Neutral</td>\n",
              "    </tr>\n",
              "    <tr>\n",
              "      <th>4107</th>\n",
              "      <td>1334910064000372736</td>\n",
              "      <td>📌To reassure the public that #COVIDー19 vaccine...</td>\n",
              "      <td>📌To reassure the public that #COVIDー19 vaccine...</td>\n",
              "      <td>0.359</td>\n",
              "      <td>0.641</td>\n",
              "      <td>0</td>\n",
              "      <td>0.8126</td>\n",
              "      <td>Positive</td>\n",
              "    </tr>\n",
              "    <tr>\n",
              "      <th>4108</th>\n",
              "      <td>1334909370082189315</td>\n",
              "      <td>This.  #COVID19 #COVIDー19 #CovidVaccine #antiv...</td>\n",
              "      <td>This. #COVID19 #COVIDー19 #CovidVaccine #antiva...</td>\n",
              "      <td>0</td>\n",
              "      <td>1</td>\n",
              "      <td>0</td>\n",
              "      <td>0</td>\n",
              "      <td>Neutral</td>\n",
              "    </tr>\n",
              "    <tr>\n",
              "      <th>4109</th>\n",
              "      <td>1334913508329353218</td>\n",
              "      <td>Public needs to prep for transient #vaccine si...</td>\n",
              "      <td>Public needs to prep for transient #vaccine si...</td>\n",
              "      <td>0</td>\n",
              "      <td>1</td>\n",
              "      <td>0</td>\n",
              "      <td>0</td>\n",
              "      <td>Neutral</td>\n",
              "    </tr>\n",
              "  </tbody>\n",
              "</table>\n",
              "<p>4110 rows × 8 columns</p>\n",
              "</div>"
            ],
            "text/plain": [
              "                 Tweet_Id  ... sentiment\n",
              "0     1334926873944584201  ...  Positive\n",
              "1     1334926692574433280  ...  Positive\n",
              "2     1334926689693028354  ...   Neutral\n",
              "3     1334926679442137088  ...  Positive\n",
              "4     1334926669556019200  ...  Positive\n",
              "...                   ...  ...       ...\n",
              "4105  1334880135246270464  ...   Neutral\n",
              "4106  1334910162470047744  ...   Neutral\n",
              "4107  1334910064000372736  ...  Positive\n",
              "4108  1334909370082189315  ...   Neutral\n",
              "4109  1334913508329353218  ...   Neutral\n",
              "\n",
              "[4110 rows x 8 columns]"
            ]
          },
          "metadata": {
            "tags": []
          },
          "execution_count": 12
        }
      ]
    },
    {
      "cell_type": "code",
      "metadata": {
        "id": "aqOVoatQZUis",
        "colab": {
          "base_uri": "https://localhost:8080/"
        },
        "outputId": "c5e589b9-b5c9-4bd6-a202-f904e4f127f4"
      },
      "source": [
        "covid_19_frame['sentiment'].value_counts()"
      ],
      "execution_count": 13,
      "outputs": [
        {
          "output_type": "execute_result",
          "data": {
            "text/plain": [
              "Positive    1499\n",
              "Neutral     1422\n",
              "Negative    1189\n",
              "Name: sentiment, dtype: int64"
            ]
          },
          "metadata": {
            "tags": []
          },
          "execution_count": 13
        }
      ]
    },
    {
      "cell_type": "markdown",
      "metadata": {
        "id": "or9I14oifgWE"
      },
      "source": [
        "# 4. Preprocess the Dataset(Combined corpus of SemEval2017 + Airlines + subset of Sentiment140) for training the Networks. Finetune the networks using the twitter data obtained previously"
      ]
    },
    {
      "cell_type": "code",
      "metadata": {
        "colab": {
          "base_uri": "https://localhost:8080/",
          "height": 402
        },
        "id": "8KR-U6eYlyDp",
        "outputId": "5d41d1e5-6ec6-4909-d203-1a253e7e8fe1"
      },
      "source": [
        "mega_frame = create_data_corpus('drive/My Drive/Workspace/SentimentAnalysis/MegaData') #Use your own path, I have mounted the data from google drive\n",
        "mega_frame = clean_tweets(frame=mega_frame, column_name='Column3', remove_stop_words=False, remove_special=False)\n",
        "mega_frame"
      ],
      "execution_count": 89,
      "outputs": [
        {
          "output_type": "execute_result",
          "data": {
            "text/html": [
              "<div>\n",
              "<style scoped>\n",
              "    .dataframe tbody tr th:only-of-type {\n",
              "        vertical-align: middle;\n",
              "    }\n",
              "\n",
              "    .dataframe tbody tr th {\n",
              "        vertical-align: top;\n",
              "    }\n",
              "\n",
              "    .dataframe thead th {\n",
              "        text-align: right;\n",
              "    }\n",
              "</style>\n",
              "<table border=\"1\" class=\"dataframe\">\n",
              "  <thead>\n",
              "    <tr style=\"text-align: right;\">\n",
              "      <th></th>\n",
              "      <th>Column1</th>\n",
              "      <th>Column2</th>\n",
              "      <th>Column3</th>\n",
              "      <th>Tweet_Clean_Text</th>\n",
              "    </tr>\n",
              "  </thead>\n",
              "  <tbody>\n",
              "    <tr>\n",
              "      <th>0</th>\n",
              "      <td>4.343150e+17</td>\n",
              "      <td>negative</td>\n",
              "      <td>@MetroNorth wall to wall people on the platfor...</td>\n",
              "      <td>wall to wall people on the platform at south ...</td>\n",
              "    </tr>\n",
              "    <tr>\n",
              "      <th>1</th>\n",
              "      <td>4.376050e+17</td>\n",
              "      <td>neutral</td>\n",
              "      <td>ang sarap mging panganay. Pag ikaw may kylngan...</td>\n",
              "      <td>ang sarap mging panganay. pag ikaw may kylngan...</td>\n",
              "    </tr>\n",
              "    <tr>\n",
              "      <th>2</th>\n",
              "      <td>4.374240e+17</td>\n",
              "      <td>negative</td>\n",
              "      <td>RT @katie_rohaley: School on Monday is just go...</td>\n",
              "      <td>school on monday is just gonna be a great time</td>\n",
              "    </tr>\n",
              "    <tr>\n",
              "      <th>3</th>\n",
              "      <td>4.368360e+17</td>\n",
              "      <td>negative</td>\n",
              "      <td>Thanks manager for putting me on the schedule ...</td>\n",
              "      <td>thanks manager for putting me on the schedule ...</td>\n",
              "    </tr>\n",
              "    <tr>\n",
              "      <th>4</th>\n",
              "      <td>4.356710e+17</td>\n",
              "      <td>negative</td>\n",
              "      <td>Who needs sleep? It's not like I have a test t...</td>\n",
              "      <td>who needs sleep? it's not like i have a test t...</td>\n",
              "    </tr>\n",
              "    <tr>\n",
              "      <th>...</th>\n",
              "      <td>...</td>\n",
              "      <td>...</td>\n",
              "      <td>...</td>\n",
              "      <td>...</td>\n",
              "    </tr>\n",
              "    <tr>\n",
              "      <th>114213</th>\n",
              "      <td>2.192225e+09</td>\n",
              "      <td>positive</td>\n",
              "      <td>Hahaha! @futureguru100  that was just a work p...</td>\n",
              "      <td>hahaha! that was just a work project... he cou...</td>\n",
              "    </tr>\n",
              "    <tr>\n",
              "      <th>114214</th>\n",
              "      <td>2.191751e+09</td>\n",
              "      <td>positive</td>\n",
              "      <td>And the award for 'Longest Ever Interview' goe...</td>\n",
              "      <td>and the award for 'longest ever interview' goe...</td>\n",
              "    </tr>\n",
              "    <tr>\n",
              "      <th>114215</th>\n",
              "      <td>1.468895e+09</td>\n",
              "      <td>negative</td>\n",
              "      <td>Thinks!!!!!! i should have rented wheelman</td>\n",
              "      <td>thinks!!!!!! i should have rented wheelman</td>\n",
              "    </tr>\n",
              "    <tr>\n",
              "      <th>114216</th>\n",
              "      <td>1.469237e+09</td>\n",
              "      <td>negative</td>\n",
              "      <td>@MaryBethune I hate school right now! You are ...</td>\n",
              "      <td>i hate school right now! you are lucky you do...</td>\n",
              "    </tr>\n",
              "    <tr>\n",
              "      <th>114217</th>\n",
              "      <td>2.192630e+09</td>\n",
              "      <td>positive</td>\n",
              "      <td>@tjeffrey never too early - 10am is late in so...</td>\n",
              "      <td>never too early - 10am is late in some cultures</td>\n",
              "    </tr>\n",
              "  </tbody>\n",
              "</table>\n",
              "<p>114218 rows × 4 columns</p>\n",
              "</div>"
            ],
            "text/plain": [
              "             Column1  ...                                   Tweet_Clean_Text\n",
              "0       4.343150e+17  ...   wall to wall people on the platform at south ...\n",
              "1       4.376050e+17  ...  ang sarap mging panganay. pag ikaw may kylngan...\n",
              "2       4.374240e+17  ...     school on monday is just gonna be a great time\n",
              "3       4.368360e+17  ...  thanks manager for putting me on the schedule ...\n",
              "4       4.356710e+17  ...  who needs sleep? it's not like i have a test t...\n",
              "...              ...  ...                                                ...\n",
              "114213  2.192225e+09  ...  hahaha! that was just a work project... he cou...\n",
              "114214  2.191751e+09  ...  and the award for 'longest ever interview' goe...\n",
              "114215  1.468895e+09  ...        thinks!!!!!! i should have rented wheelman \n",
              "114216  1.469237e+09  ...   i hate school right now! you are lucky you do...\n",
              "114217  2.192630e+09  ...   never too early - 10am is late in some cultures \n",
              "\n",
              "[114218 rows x 4 columns]"
            ]
          },
          "metadata": {
            "tags": []
          },
          "execution_count": 89
        }
      ]
    },
    {
      "cell_type": "code",
      "metadata": {
        "colab": {
          "base_uri": "https://localhost:8080/"
        },
        "id": "4NXu5D_FrrEp",
        "outputId": "b4c762e6-bf55-436d-832a-adcad2581332"
      },
      "source": [
        "mega_frame['Column2'].value_counts()"
      ],
      "execution_count": 112,
      "outputs": [
        {
          "output_type": "execute_result",
          "data": {
            "text/plain": [
              "positive    47028\n",
              "negative    41842\n",
              "neutral     25348\n",
              "Name: Column2, dtype: int64"
            ]
          },
          "metadata": {
            "tags": []
          },
          "execution_count": 112
        }
      ]
    },
    {
      "cell_type": "markdown",
      "metadata": {
        "id": "gCBIW_j2jZB8"
      },
      "source": [
        "# Build the Inputs and LSTM network"
      ]
    },
    {
      "cell_type": "markdown",
      "metadata": {
        "id": "emSZC9JBjksH"
      },
      "source": [
        "**Change labels to integer as its easier to feed as an input / one hot encode them**"
      ]
    },
    {
      "cell_type": "code",
      "metadata": {
        "colab": {
          "base_uri": "https://localhost:8080/",
          "height": 402
        },
        "id": "WqBxPJKpjjak",
        "outputId": "5e3966a0-b212-48a1-f81f-4ba029e7b0a9"
      },
      "source": [
        "#from sklearn.preprocessing import LabelBinarizer\n",
        "#lb = LabelBinarizer()\n",
        "\n",
        "#Solution1\n",
        "mega_frame[\"Sentiment_Value\"] = mega_frame[\"Column2\"].map({\"neutral\": 0, \"positive\": 1, \"negative\": 2})\n",
        "lbl = to_categorical(mega_frame[\"Sentiment_Value\"], 3)\n",
        "\n",
        "#Solution2\n",
        "#one_hot = pd.get_dummies(mega_frame['Column2'])\n",
        "#mega_frame = mega_frame.join(one_hot)\n",
        "\n",
        "#Solution3\n",
        "#mega_frame = mega_frame.join(pd.DataFrame(lb.fit_transform(mega_frame[\"Column2\"]),\n",
        "#                          columns=lb.classes_, \n",
        "#                          index=mega_frame.index))\n",
        "mega_frame"
      ],
      "execution_count": 90,
      "outputs": [
        {
          "output_type": "execute_result",
          "data": {
            "text/html": [
              "<div>\n",
              "<style scoped>\n",
              "    .dataframe tbody tr th:only-of-type {\n",
              "        vertical-align: middle;\n",
              "    }\n",
              "\n",
              "    .dataframe tbody tr th {\n",
              "        vertical-align: top;\n",
              "    }\n",
              "\n",
              "    .dataframe thead th {\n",
              "        text-align: right;\n",
              "    }\n",
              "</style>\n",
              "<table border=\"1\" class=\"dataframe\">\n",
              "  <thead>\n",
              "    <tr style=\"text-align: right;\">\n",
              "      <th></th>\n",
              "      <th>Column1</th>\n",
              "      <th>Column2</th>\n",
              "      <th>Column3</th>\n",
              "      <th>Tweet_Clean_Text</th>\n",
              "      <th>Sentiment_Value</th>\n",
              "    </tr>\n",
              "  </thead>\n",
              "  <tbody>\n",
              "    <tr>\n",
              "      <th>0</th>\n",
              "      <td>4.343150e+17</td>\n",
              "      <td>negative</td>\n",
              "      <td>@MetroNorth wall to wall people on the platfor...</td>\n",
              "      <td>wall to wall people on the platform at south ...</td>\n",
              "      <td>2</td>\n",
              "    </tr>\n",
              "    <tr>\n",
              "      <th>1</th>\n",
              "      <td>4.376050e+17</td>\n",
              "      <td>neutral</td>\n",
              "      <td>ang sarap mging panganay. Pag ikaw may kylngan...</td>\n",
              "      <td>ang sarap mging panganay. pag ikaw may kylngan...</td>\n",
              "      <td>0</td>\n",
              "    </tr>\n",
              "    <tr>\n",
              "      <th>2</th>\n",
              "      <td>4.374240e+17</td>\n",
              "      <td>negative</td>\n",
              "      <td>RT @katie_rohaley: School on Monday is just go...</td>\n",
              "      <td>school on monday is just gonna be a great time</td>\n",
              "      <td>2</td>\n",
              "    </tr>\n",
              "    <tr>\n",
              "      <th>3</th>\n",
              "      <td>4.368360e+17</td>\n",
              "      <td>negative</td>\n",
              "      <td>Thanks manager for putting me on the schedule ...</td>\n",
              "      <td>thanks manager for putting me on the schedule ...</td>\n",
              "      <td>2</td>\n",
              "    </tr>\n",
              "    <tr>\n",
              "      <th>4</th>\n",
              "      <td>4.356710e+17</td>\n",
              "      <td>negative</td>\n",
              "      <td>Who needs sleep? It's not like I have a test t...</td>\n",
              "      <td>who needs sleep? it's not like i have a test t...</td>\n",
              "      <td>2</td>\n",
              "    </tr>\n",
              "    <tr>\n",
              "      <th>...</th>\n",
              "      <td>...</td>\n",
              "      <td>...</td>\n",
              "      <td>...</td>\n",
              "      <td>...</td>\n",
              "      <td>...</td>\n",
              "    </tr>\n",
              "    <tr>\n",
              "      <th>114213</th>\n",
              "      <td>2.192225e+09</td>\n",
              "      <td>positive</td>\n",
              "      <td>Hahaha! @futureguru100  that was just a work p...</td>\n",
              "      <td>hahaha! that was just a work project... he cou...</td>\n",
              "      <td>1</td>\n",
              "    </tr>\n",
              "    <tr>\n",
              "      <th>114214</th>\n",
              "      <td>2.191751e+09</td>\n",
              "      <td>positive</td>\n",
              "      <td>And the award for 'Longest Ever Interview' goe...</td>\n",
              "      <td>and the award for 'longest ever interview' goe...</td>\n",
              "      <td>1</td>\n",
              "    </tr>\n",
              "    <tr>\n",
              "      <th>114215</th>\n",
              "      <td>1.468895e+09</td>\n",
              "      <td>negative</td>\n",
              "      <td>Thinks!!!!!! i should have rented wheelman</td>\n",
              "      <td>thinks!!!!!! i should have rented wheelman</td>\n",
              "      <td>2</td>\n",
              "    </tr>\n",
              "    <tr>\n",
              "      <th>114216</th>\n",
              "      <td>1.469237e+09</td>\n",
              "      <td>negative</td>\n",
              "      <td>@MaryBethune I hate school right now! You are ...</td>\n",
              "      <td>i hate school right now! you are lucky you do...</td>\n",
              "      <td>2</td>\n",
              "    </tr>\n",
              "    <tr>\n",
              "      <th>114217</th>\n",
              "      <td>2.192630e+09</td>\n",
              "      <td>positive</td>\n",
              "      <td>@tjeffrey never too early - 10am is late in so...</td>\n",
              "      <td>never too early - 10am is late in some cultures</td>\n",
              "      <td>1</td>\n",
              "    </tr>\n",
              "  </tbody>\n",
              "</table>\n",
              "<p>114218 rows × 5 columns</p>\n",
              "</div>"
            ],
            "text/plain": [
              "             Column1  ... Sentiment_Value\n",
              "0       4.343150e+17  ...               2\n",
              "1       4.376050e+17  ...               0\n",
              "2       4.374240e+17  ...               2\n",
              "3       4.368360e+17  ...               2\n",
              "4       4.356710e+17  ...               2\n",
              "...              ...  ...             ...\n",
              "114213  2.192225e+09  ...               1\n",
              "114214  2.191751e+09  ...               1\n",
              "114215  1.468895e+09  ...               2\n",
              "114216  1.469237e+09  ...               2\n",
              "114217  2.192630e+09  ...               1\n",
              "\n",
              "[114218 rows x 5 columns]"
            ]
          },
          "metadata": {
            "tags": []
          },
          "execution_count": 90
        }
      ]
    },
    {
      "cell_type": "markdown",
      "metadata": {
        "id": "ndUMWSzDLn-q"
      },
      "source": [
        "**Vectorize and convert text into sequences**"
      ]
    },
    {
      "cell_type": "code",
      "metadata": {
        "id": "9phzbq3PLRno"
      },
      "source": [
        "# Approach 1 - Keras Tokenizer\n",
        "maxlen = mega_frame['Tweet_Clean_Text'].apply(lambda x: len(x.split())).max()\n",
        "tokenizer = Tokenizer()\n",
        "tokenizer.fit_on_texts(mega_frame['Tweet_Clean_Text'].values)\n",
        "num_features = len(tokenizer.word_index) + 1\n",
        "X = tokenizer.texts_to_sequences(mega_frame['Tweet_Clean_Text'].values)\n",
        "X = pad_sequences(X, maxlen=maxlen, padding='post')"
      ],
      "execution_count": 94,
      "outputs": []
    },
    {
      "cell_type": "code",
      "metadata": {
        "id": "3fFFVsafNvRl"
      },
      "source": [
        "# Approach 2 - GloVe embeddings\r\n",
        "def get_w2v(path):\r\n",
        "  file = open(path)\r\n",
        "  w2v = {}\r\n",
        "  for embedding_line in file:\r\n",
        "    embedding_word = embedding_line.split()[0]\r\n",
        "    embedding_value = np.asarray([float(value) for value in embedding_line.split()[1:]])\r\n",
        "    w2v[embedding_word] = embedding_value\r\n",
        "  return w2v"
      ],
      "execution_count": 95,
      "outputs": []
    },
    {
      "cell_type": "code",
      "metadata": {
        "id": "HArEwL18Tl_b"
      },
      "source": [
        "glove_file_path = \"drive/My Drive/Workspace/SentimentAnalysis/GloVe/glove.twitter.27B.200d.txt\"\r\n",
        "w2v = get_w2v(glove_file_path)"
      ],
      "execution_count": 96,
      "outputs": []
    },
    {
      "cell_type": "code",
      "metadata": {
        "id": "icnpqnh5of8p"
      },
      "source": [
        "emb_mat = np.zeros((num_features, 200))\r\n",
        "for word, i in tokenizer.word_index.items():\r\n",
        "  vector = w2v.get(word)\r\n",
        "  if vector is not None:\r\n",
        "    emb_mat[i] = vector\r\n",
        "  else:\r\n",
        "    emb_mat[i] = np.random.randn(200)"
      ],
      "execution_count": 97,
      "outputs": []
    },
    {
      "cell_type": "markdown",
      "metadata": {
        "id": "R87-Es7DmB1P"
      },
      "source": [
        "**Create Training, Validation, and Test Data splits**"
      ]
    },
    {
      "cell_type": "code",
      "metadata": {
        "id": "ALGB5lGcmDYh"
      },
      "source": [
        "#Y = mega_frame['Sentiment_Value']\n",
        "Y = lbl\n",
        "\n",
        "x_train, x_test, y_train, y_test = train_test_split(X, Y, test_size = 0.10, random_state = 1)\n",
        "\n",
        "x_train, x_val, y_train, y_val = train_test_split(x_train, y_train, test_size=0.10, random_state=1)"
      ],
      "execution_count": 98,
      "outputs": []
    },
    {
      "cell_type": "code",
      "metadata": {
        "colab": {
          "base_uri": "https://localhost:8080/"
        },
        "id": "1hvybpbohrHY",
        "outputId": "419818e5-096f-4338-ff20-919318ec5384"
      },
      "source": [
        "lbl"
      ],
      "execution_count": 99,
      "outputs": [
        {
          "output_type": "execute_result",
          "data": {
            "text/plain": [
              "array([[0., 0., 1.],\n",
              "       [1., 0., 0.],\n",
              "       [0., 0., 1.],\n",
              "       ...,\n",
              "       [0., 0., 1.],\n",
              "       [0., 0., 1.],\n",
              "       [0., 1., 0.]], dtype=float32)"
            ]
          },
          "metadata": {
            "tags": []
          },
          "execution_count": 99
        }
      ]
    },
    {
      "cell_type": "markdown",
      "metadata": {
        "id": "fxI8h7f-PI7b"
      },
      "source": [
        "**Define the model**"
      ]
    },
    {
      "cell_type": "code",
      "metadata": {
        "colab": {
          "base_uri": "https://localhost:8080/"
        },
        "id": "7GMYsz1rPIRL",
        "outputId": "3ec1055e-81a9-4e2b-aef0-049ff0e7a6a2"
      },
      "source": [
        "output_dims = 200\n",
        "lstm_out = 200\n",
        "\n",
        "model = keras.Sequential([\n",
        "    layers.Embedding(input_dim=num_features, output_dim=output_dims, input_length=X.shape[1], weights=[emb_mat], trainable=True),\n",
        "    layers.SpatialDropout1D(0.4),\n",
        "    layers.Bidirectional(layers.LSTM(units=lstm_out, dropout=0.4, recurrent_dropout=0.4, return_sequences=False)),\n",
        "    layers.Dense(units=3, activation='softmax')\n",
        "    ])"
      ],
      "execution_count": 101,
      "outputs": [
        {
          "output_type": "stream",
          "text": [
            "WARNING:tensorflow:Layer lstm will not use cuDNN kernel since it doesn't meet the cuDNN kernel criteria. It will use generic GPU kernel as fallback when running on GPU\n",
            "WARNING:tensorflow:Layer lstm will not use cuDNN kernel since it doesn't meet the cuDNN kernel criteria. It will use generic GPU kernel as fallback when running on GPU\n",
            "WARNING:tensorflow:Layer lstm will not use cuDNN kernel since it doesn't meet the cuDNN kernel criteria. It will use generic GPU kernel as fallback when running on GPU\n"
          ],
          "name": "stdout"
        }
      ]
    },
    {
      "cell_type": "code",
      "metadata": {
        "colab": {
          "base_uri": "https://localhost:8080/"
        },
        "id": "iSx_EXFWkYFn",
        "outputId": "00ce11ac-fab0-4e7f-b607-0b7f0de00d84"
      },
      "source": [
        "model.summary()"
      ],
      "execution_count": 102,
      "outputs": [
        {
          "output_type": "stream",
          "text": [
            "Model: \"sequential\"\n",
            "_________________________________________________________________\n",
            "Layer (type)                 Output Shape              Param #   \n",
            "=================================================================\n",
            "embedding (Embedding)        (None, 39, 200)           14691200  \n",
            "_________________________________________________________________\n",
            "spatial_dropout1d (SpatialDr (None, 39, 200)           0         \n",
            "_________________________________________________________________\n",
            "bidirectional (Bidirectional (None, 400)               641600    \n",
            "_________________________________________________________________\n",
            "dense (Dense)                (None, 3)                 1203      \n",
            "=================================================================\n",
            "Total params: 15,334,003\n",
            "Trainable params: 15,334,003\n",
            "Non-trainable params: 0\n",
            "_________________________________________________________________\n"
          ],
          "name": "stdout"
        }
      ]
    },
    {
      "cell_type": "code",
      "metadata": {
        "id": "Zjw5MIMtio_W"
      },
      "source": [
        "def recall_score(y_true, y_pred):\n",
        "    true_positives = K.sum(K.round(K.clip(y_true * y_pred, 0, 1)))\n",
        "    possible_positives = K.sum(K.round(K.clip(y_true, 0, 1)))\n",
        "    recall = true_positives / (possible_positives + K.epsilon())\n",
        "    recall_score.__name__ = 'recall'\n",
        "    return recall\n",
        "\n",
        "def precision_score(y_true, y_pred):\n",
        "    true_positives = K.sum(K.round(K.clip(y_true * y_pred, 0, 1)))\n",
        "    predicted_positives = K.sum(K.round(K.clip(y_pred, 0, 1)))\n",
        "    precision = true_positives / (predicted_positives + K.epsilon())\n",
        "    precision_score.__name__ = 'precision'\n",
        "    return precision\n",
        "\n",
        "def f1_metrics(y_true, y_pred):\n",
        "    precision = precision_score(y_true, y_pred)\n",
        "    recall = recall_score(y_true, y_pred)\n",
        "    f1_metrics.__name__ = 'f1'\n",
        "    return 2*((precision*recall)/(precision+recall+K.epsilon()))\n",
        "\n",
        "metrics = [\n",
        "           keras.metrics.CategoricalAccuracy(),\n",
        "           keras.metrics.Precision(name='precision'),\n",
        "           keras.metrics.Recall(name='recall'),\n",
        "           f1_metrics,\n",
        "           #keras.metrics.TruePositives(name='tp'),\n",
        "           #keras.metrics.FalsePositives(name='fp'),\n",
        "           #keras.metrics.TrueNegatives(name='tn'),\n",
        "           #keras.metrics.FalseNegatives(name='fn'),\n",
        "]\n",
        "\n",
        "model.compile(optimizer='adam',\n",
        "              loss=keras.losses.CategoricalCrossentropy(),\n",
        "              metrics=metrics)"
      ],
      "execution_count": 103,
      "outputs": []
    },
    {
      "cell_type": "markdown",
      "metadata": {
        "id": "eoRCiV9wCSlq"
      },
      "source": [
        "**Useful plot function**"
      ]
    },
    {
      "cell_type": "code",
      "metadata": {
        "id": "kL3P7mUS7UsF"
      },
      "source": [
        "colors = plt.rcParams['axes.prop_cycle'].by_key()['color']\n",
        "plt.rcParams['figure.figsize'] = 15, 10"
      ],
      "execution_count": 104,
      "outputs": []
    },
    {
      "cell_type": "code",
      "metadata": {
        "id": "YCCbd84GCXNF"
      },
      "source": [
        "def plot_metrics(history):\n",
        "  metrics = ['loss', 'categorical_accuracy', 'precision', 'recall', 'f1_metrics']\n",
        "  for n, metric in enumerate(metrics):\n",
        "    name = metric.replace(\"_\",\" \").capitalize()\n",
        "    plt.subplot(2,3,n+1)\n",
        "    plt.plot(history.epoch, history.history[metric], color=colors[0], label='Train')\n",
        "    plt.plot(history.epoch, history.history['val_'+metric],\n",
        "             color=colors[0], linestyle=\"--\", label='Val')\n",
        "    plt.xlabel('Epoch')\n",
        "    plt.ylabel(name)\n",
        "    if metric == 'loss':\n",
        "      plt.ylim([0, plt.ylim()[1]])\n",
        "    else:\n",
        "      plt.ylim([0,1])\n",
        "\n",
        "    plt.legend()"
      ],
      "execution_count": 105,
      "outputs": []
    },
    {
      "cell_type": "markdown",
      "metadata": {
        "id": "HDAZ3oYc4i4L"
      },
      "source": [
        "**Load Model Function**"
      ]
    },
    {
      "cell_type": "code",
      "metadata": {
        "id": "iTjvAuN34mFM"
      },
      "source": [
        "def load_model(path):\n",
        "  return keras.models.load_model(path)"
      ],
      "execution_count": 106,
      "outputs": []
    },
    {
      "cell_type": "markdown",
      "metadata": {
        "id": "1hyDaelS07Vj"
      },
      "source": [
        "**Save only the best weights and model(determined after every epoch)**"
      ]
    },
    {
      "cell_type": "code",
      "metadata": {
        "id": "BGhMWPZGyOy2"
      },
      "source": [
        "checkpoint_filepath = 'drive/My Drive/Workspace/SentimentAnalysis/Model'\n",
        "\n",
        "model_checkpoint_callback = keras.callbacks.ModelCheckpoint(\n",
        "    filepath=checkpoint_filepath,\n",
        "    save_weights_only=False,\n",
        "    monitor='val_f1_metrics',\n",
        "    mode='max',\n",
        "    save_best_only=True,\n",
        "    save_freq='epoch')\n",
        "\n",
        "early_stopping_callback = keras.callbacks.EarlyStopping(monitor='val_loss', patience=3)\n",
        "\n",
        "reduce_lr_callback = keras.callbacks.ReduceLROnPlateau(monitor='val_categorical_accuracy', factor=0.2, patience=3, min_lr=0.00001)"
      ],
      "execution_count": 108,
      "outputs": []
    },
    {
      "cell_type": "markdown",
      "metadata": {
        "id": "T9zSsDyA04oS"
      },
      "source": [
        "**Train Model**"
      ]
    },
    {
      "cell_type": "code",
      "metadata": {
        "colab": {
          "base_uri": "https://localhost:8080/"
        },
        "id": "qbdGYy7ajRFm",
        "outputId": "5e3f6e63-9643-4071-a082-195902e054c5"
      },
      "source": [
        "history = model.fit(x_train, y_train, epochs = 25, batch_size=3000, validation_data=(x_val,y_val), callbacks=[model_checkpoint_callback, early_stopping_callback, reduce_lr_callback])"
      ],
      "execution_count": 109,
      "outputs": [
        {
          "output_type": "stream",
          "text": [
            "Epoch 1/25\n",
            "31/31 [==============================] - 31s 727ms/step - loss: 1.0055 - categorical_accuracy: 0.4820 - precision: 0.6014 - recall: 0.1754 - f1_metrics: 0.2313 - val_loss: 0.7789 - val_categorical_accuracy: 0.6420 - val_precision: 0.6796 - val_recall: 0.5756 - val_f1_metrics: 0.6241\n",
            "INFO:tensorflow:Assets written to: drive/My Drive/Workspace/SentimentAnalysis/Model/assets\n",
            "Epoch 2/25\n",
            "31/31 [==============================] - 22s 720ms/step - loss: 0.8235 - categorical_accuracy: 0.6175 - precision: 0.6660 - recall: 0.5155 - f1_metrics: 0.5811 - val_loss: 0.7362 - val_categorical_accuracy: 0.6629 - val_precision: 0.6943 - val_recall: 0.6103 - val_f1_metrics: 0.6493\n",
            "INFO:tensorflow:Assets written to: drive/My Drive/Workspace/SentimentAnalysis/Model/assets\n",
            "Epoch 3/25\n",
            "31/31 [==============================] - 22s 720ms/step - loss: 0.7751 - categorical_accuracy: 0.6468 - precision: 0.6894 - recall: 0.5648 - f1_metrics: 0.6209 - val_loss: 0.7096 - val_categorical_accuracy: 0.6781 - val_precision: 0.7032 - val_recall: 0.6415 - val_f1_metrics: 0.6717\n",
            "INFO:tensorflow:Assets written to: drive/My Drive/Workspace/SentimentAnalysis/Model/assets\n",
            "Epoch 4/25\n",
            "31/31 [==============================] - 22s 721ms/step - loss: 0.7327 - categorical_accuracy: 0.6687 - precision: 0.7097 - recall: 0.5973 - f1_metrics: 0.6486 - val_loss: 0.6847 - val_categorical_accuracy: 0.6962 - val_precision: 0.7181 - val_recall: 0.6650 - val_f1_metrics: 0.6924\n",
            "INFO:tensorflow:Assets written to: drive/My Drive/Workspace/SentimentAnalysis/Model/assets\n",
            "Epoch 5/25\n",
            "31/31 [==============================] - 23s 728ms/step - loss: 0.7086 - categorical_accuracy: 0.6803 - precision: 0.7173 - recall: 0.6174 - f1_metrics: 0.6636 - val_loss: 0.6835 - val_categorical_accuracy: 0.6993 - val_precision: 0.7177 - val_recall: 0.6732 - val_f1_metrics: 0.6967\n",
            "INFO:tensorflow:Assets written to: drive/My Drive/Workspace/SentimentAnalysis/Model/assets\n",
            "Epoch 6/25\n",
            "31/31 [==============================] - 22s 721ms/step - loss: 0.6832 - categorical_accuracy: 0.6943 - precision: 0.7299 - recall: 0.6391 - f1_metrics: 0.6815 - val_loss: 0.6644 - val_categorical_accuracy: 0.7083 - val_precision: 0.7283 - val_recall: 0.6820 - val_f1_metrics: 0.7067\n",
            "INFO:tensorflow:Assets written to: drive/My Drive/Workspace/SentimentAnalysis/Model/assets\n",
            "Epoch 7/25\n",
            "31/31 [==============================] - 22s 722ms/step - loss: 0.6655 - categorical_accuracy: 0.7054 - precision: 0.7389 - recall: 0.6524 - f1_metrics: 0.6930 - val_loss: 0.6572 - val_categorical_accuracy: 0.7083 - val_precision: 0.7265 - val_recall: 0.6833 - val_f1_metrics: 0.7066\n",
            "Epoch 8/25\n",
            "31/31 [==============================] - 22s 702ms/step - loss: 0.6444 - categorical_accuracy: 0.7160 - precision: 0.7469 - recall: 0.6659 - f1_metrics: 0.7041 - val_loss: 0.6417 - val_categorical_accuracy: 0.7172 - val_precision: 0.7357 - val_recall: 0.6911 - val_f1_metrics: 0.7151\n",
            "INFO:tensorflow:Assets written to: drive/My Drive/Workspace/SentimentAnalysis/Model/assets\n",
            "Epoch 9/25\n",
            "31/31 [==============================] - 22s 721ms/step - loss: 0.6306 - categorical_accuracy: 0.7218 - precision: 0.7532 - recall: 0.6747 - f1_metrics: 0.7118 - val_loss: 0.6500 - val_categorical_accuracy: 0.7159 - val_precision: 0.7310 - val_recall: 0.6935 - val_f1_metrics: 0.7132\n",
            "Epoch 10/25\n",
            "31/31 [==============================] - 22s 706ms/step - loss: 0.6156 - categorical_accuracy: 0.7330 - precision: 0.7613 - recall: 0.6888 - f1_metrics: 0.7232 - val_loss: 0.6385 - val_categorical_accuracy: 0.7222 - val_precision: 0.7366 - val_recall: 0.7040 - val_f1_metrics: 0.7225\n",
            "INFO:tensorflow:Assets written to: drive/My Drive/Workspace/SentimentAnalysis/Model/assets\n",
            "Epoch 11/25\n",
            "31/31 [==============================] - 22s 724ms/step - loss: 0.6039 - categorical_accuracy: 0.7379 - precision: 0.7657 - recall: 0.6999 - f1_metrics: 0.7313 - val_loss: 0.6430 - val_categorical_accuracy: 0.7250 - val_precision: 0.7393 - val_recall: 0.7033 - val_f1_metrics: 0.7240\n",
            "INFO:tensorflow:Assets written to: drive/My Drive/Workspace/SentimentAnalysis/Model/assets\n",
            "Epoch 12/25\n",
            "31/31 [==============================] - 22s 717ms/step - loss: 0.5838 - categorical_accuracy: 0.7480 - precision: 0.7749 - recall: 0.7110 - f1_metrics: 0.7415 - val_loss: 0.6310 - val_categorical_accuracy: 0.7268 - val_precision: 0.7417 - val_recall: 0.7062 - val_f1_metrics: 0.7257\n",
            "INFO:tensorflow:Assets written to: drive/My Drive/Workspace/SentimentAnalysis/Model/assets\n",
            "Epoch 13/25\n",
            "31/31 [==============================] - 22s 721ms/step - loss: 0.5752 - categorical_accuracy: 0.7519 - precision: 0.7775 - recall: 0.7166 - f1_metrics: 0.7458 - val_loss: 0.6426 - val_categorical_accuracy: 0.7281 - val_precision: 0.7422 - val_recall: 0.7125 - val_f1_metrics: 0.7288\n",
            "INFO:tensorflow:Assets written to: drive/My Drive/Workspace/SentimentAnalysis/Model/assets\n",
            "Epoch 14/25\n",
            "31/31 [==============================] - 22s 719ms/step - loss: 0.5632 - categorical_accuracy: 0.7590 - precision: 0.7826 - recall: 0.7258 - f1_metrics: 0.7531 - val_loss: 0.6396 - val_categorical_accuracy: 0.7310 - val_precision: 0.7440 - val_recall: 0.7173 - val_f1_metrics: 0.7330\n",
            "INFO:tensorflow:Assets written to: drive/My Drive/Workspace/SentimentAnalysis/Model/assets\n",
            "Epoch 15/25\n",
            "31/31 [==============================] - 22s 722ms/step - loss: 0.5527 - categorical_accuracy: 0.7635 - precision: 0.7856 - recall: 0.7326 - f1_metrics: 0.7582 - val_loss: 0.6355 - val_categorical_accuracy: 0.7319 - val_precision: 0.7442 - val_recall: 0.7148 - val_f1_metrics: 0.7319\n"
          ],
          "name": "stdout"
        }
      ]
    },
    {
      "cell_type": "code",
      "metadata": {
        "colab": {
          "base_uri": "https://localhost:8080/",
          "height": 610
        },
        "id": "aYVzwdrW6a1K",
        "outputId": "29cde115-b5aa-4ccb-922e-6d2a766fd84e"
      },
      "source": [
        "plot_metrics(history)"
      ],
      "execution_count": 110,
      "outputs": [
        {
          "output_type": "display_data",
          "data": {
            "image/png": "[encoded data removed]",
            "text/plain": [
              "<Figure size 1080x720 with 5 Axes>"
            ]
          },
          "metadata": {
            "tags": [],
            "needs_background": "light"
          }
        }
      ]
    }
  ]
}