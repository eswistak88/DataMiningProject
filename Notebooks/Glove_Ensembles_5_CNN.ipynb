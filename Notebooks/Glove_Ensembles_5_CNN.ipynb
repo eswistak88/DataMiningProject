{
  "nbformat": 4,
  "nbformat_minor": 0,
  "metadata": {
    "colab": {
      "name": "Glove Ensembles_5 CNN.ipynb",
      "provenance": [],
      "collapsed_sections": []
    },
    "kernelspec": {
      "name": "python3",
      "display_name": "Python 3"
    },
    "accelerator": "GPU"
  },
  "cells": [
    {
      "cell_type": "code",
      "metadata": {
        "id": "-au6xYmT5TUc"
      },
      "source": [
        "import os\n",
        "import re\n",
        "import glob\n",
        "import struct\n",
        "from os import makedirs\n",
        "\n",
        "import numpy as np\n",
        "from numpy import asarray\n",
        "from numpy import zeros\n",
        "from nltk.stem.porter import *\n",
        "\n",
        "\n",
        "import pandas as pd\n",
        "import tensorflow as tf\n",
        "import tensorflow.keras as keras\n",
        "\n",
        "from keras.preprocessing.text import Tokenizer\n",
        "from keras.preprocessing.sequence import pad_sequences\n",
        "from keras.utils import to_categorical\n",
        "from keras import Model\n",
        "from keras.callbacks import ModelCheckpoint\n",
        "from keras.callbacks import EarlyStopping\n",
        "from keras.wrappers.scikit_learn import KerasClassifier\n",
        "from keras.models import Sequential\n",
        "from keras.layers import Input, Reshape, Conv2D, MaxPool2D, Dense, Dropout,BatchNormalization, Flatten, Embedding, Concatenate, Conv1D\n",
        "from keras.metrics import CategoricalAccuracy, Precision, Recall\n",
        "from keras import regularizers\n",
        "from keras import backend as K\n",
        "from keras.models import load_model\n",
        "\n",
        "\n",
        "import matplotlib.pyplot as plt\n"
      ],
      "execution_count": 27,
      "outputs": []
    },
    {
      "cell_type": "markdown",
      "metadata": {
        "id": "iBtvw0JSyyJ0"
      },
      "source": [
        "Load the Dataset\r\n"
      ]
    },
    {
      "cell_type": "code",
      "metadata": {
        "id": "33idFgY-BwTs"
      },
      "source": [
        "os.chdir(\"train\")\n",
        "\n",
        "extension = 'csv'\n",
        "all_filenames = [i for i in glob.glob('*.{}'.format(extension))]\n",
        "\n",
        "#combine all files in the list\n",
        "combined_csv = pd.concat([pd.read_csv(f) for f in all_filenames ])\n",
        "#export to csv\n",
        "combined_csv.to_csv( \"combined_csv.csv\", index=False, encoding='utf-8-sig')"
      ],
      "execution_count": 3,
      "outputs": []
    },
    {
      "cell_type": "code",
      "metadata": {
        "colab": {
          "base_uri": "https://localhost:8080/",
          "height": 204
        },
        "id": "kTFPtv5N5jVw",
        "outputId": "8e5388d7-ef03-4df7-edf2-a535f7d27e23"
      },
      "source": [
        "names = ['TweetID', 'Sentiment', 'Tweet']\n",
        "\n",
        "train = pd.read_csv('/content/train/combined_csv.csv')\n",
        "\n",
        "train.head()"
      ],
      "execution_count": 4,
      "outputs": [
        {
          "output_type": "execute_result",
          "data": {
            "text/html": [
              "<div>\n",
              "<style scoped>\n",
              "    .dataframe tbody tr th:only-of-type {\n",
              "        vertical-align: middle;\n",
              "    }\n",
              "\n",
              "    .dataframe tbody tr th {\n",
              "        vertical-align: top;\n",
              "    }\n",
              "\n",
              "    .dataframe thead th {\n",
              "        text-align: right;\n",
              "    }\n",
              "</style>\n",
              "<table border=\"1\" class=\"dataframe\">\n",
              "  <thead>\n",
              "    <tr style=\"text-align: right;\">\n",
              "      <th></th>\n",
              "      <th>Column1</th>\n",
              "      <th>Column2</th>\n",
              "      <th>Column3</th>\n",
              "    </tr>\n",
              "  </thead>\n",
              "  <tbody>\n",
              "    <tr>\n",
              "      <th>0</th>\n",
              "      <td>2.492980e+17</td>\n",
              "      <td>positive</td>\n",
              "      <td>i'm done writing code for the week! Looks like...</td>\n",
              "    </tr>\n",
              "    <tr>\n",
              "      <th>1</th>\n",
              "      <td>2.820310e+17</td>\n",
              "      <td>neutral</td>\n",
              "      <td>dec 21st 2012 will be know not as the end of t...</td>\n",
              "    </tr>\n",
              "    <tr>\n",
              "      <th>2</th>\n",
              "      <td>2.208800e+17</td>\n",
              "      <td>negative</td>\n",
              "      <td>@MacMiller hate my life, because i can't see y...</td>\n",
              "    </tr>\n",
              "    <tr>\n",
              "      <th>3</th>\n",
              "      <td>2.240010e+17</td>\n",
              "      <td>positive</td>\n",
              "      <td>Checked out Our Lady Peace at Bluesfest tonigh...</td>\n",
              "    </tr>\n",
              "    <tr>\n",
              "      <th>4</th>\n",
              "      <td>2.557130e+17</td>\n",
              "      <td>positive</td>\n",
              "      <td>Hello from the Foundation Trekkers! We're up i...</td>\n",
              "    </tr>\n",
              "  </tbody>\n",
              "</table>\n",
              "</div>"
            ],
            "text/plain": [
              "        Column1   Column2                                            Column3\n",
              "0  2.492980e+17  positive  i'm done writing code for the week! Looks like...\n",
              "1  2.820310e+17   neutral  dec 21st 2012 will be know not as the end of t...\n",
              "2  2.208800e+17  negative  @MacMiller hate my life, because i can't see y...\n",
              "3  2.240010e+17  positive  Checked out Our Lady Peace at Bluesfest tonigh...\n",
              "4  2.557130e+17  positive  Hello from the Foundation Trekkers! We're up i..."
            ]
          },
          "metadata": {
            "tags": []
          },
          "execution_count": 4
        }
      ]
    },
    {
      "cell_type": "markdown",
      "metadata": {
        "id": "PCffl4OOy7bR"
      },
      "source": [
        "Data Preprocessing"
      ]
    },
    {
      "cell_type": "code",
      "metadata": {
        "id": "YI6wwcXYMlVQ"
      },
      "source": [
        "def remove_pattern(input_txt, pattern):\n",
        "  r = re.findall(pattern, input_txt)\n",
        "  for i in r:\n",
        "    input_txt = re.sub(i, '', input_txt)        \n",
        "  return input_txt\n",
        "\n",
        "def clean_tweets(frame, column_name):\n",
        "  frame = frame.drop_duplicates().reset_index(drop=True) #remove duplicate rows\n",
        "  frame['Tweet_Clean_Text'] = np.vectorize(remove_pattern)(frame[column_name], \"RT @[\\w]*:\") #remove twitter return handle\n",
        "  frame.Tweet_Clean_Text = np.vectorize(remove_pattern)(frame['Tweet_Clean_Text'], \"@[\\w]*\") #remove twitter handle\n",
        "  frame.Tweet_Clean_Text = np.vectorize(remove_pattern)(frame['Tweet_Clean_Text'], \"https?://[A-Za-z0-9./]*\") #remove URLs\n",
        "  frame.Tweet_Clean_Text = frame.Tweet_Clean_Text.str.replace(\"[^a-zA-Z#]\", \" \") #remove special characters except for #\n",
        "  frame.Tweet_Clean_Text = frame.Tweet_Clean_Text.replace('\\s+', ' ', regex=True) #remove extra spaces in between words\n",
        "\n",
        "  return frame"
      ],
      "execution_count": 5,
      "outputs": []
    },
    {
      "cell_type": "code",
      "metadata": {
        "colab": {
          "base_uri": "https://localhost:8080/",
          "height": 204
        },
        "id": "F3Et4zHBMzXQ",
        "outputId": "1ae8f531-2547-4931-91ad-d074b33893ad"
      },
      "source": [
        "train_set = clean_tweets(train, 'Column3')\n",
        "train_set.head()"
      ],
      "execution_count": 6,
      "outputs": [
        {
          "output_type": "execute_result",
          "data": {
            "text/html": [
              "<div>\n",
              "<style scoped>\n",
              "    .dataframe tbody tr th:only-of-type {\n",
              "        vertical-align: middle;\n",
              "    }\n",
              "\n",
              "    .dataframe tbody tr th {\n",
              "        vertical-align: top;\n",
              "    }\n",
              "\n",
              "    .dataframe thead th {\n",
              "        text-align: right;\n",
              "    }\n",
              "</style>\n",
              "<table border=\"1\" class=\"dataframe\">\n",
              "  <thead>\n",
              "    <tr style=\"text-align: right;\">\n",
              "      <th></th>\n",
              "      <th>Column1</th>\n",
              "      <th>Column2</th>\n",
              "      <th>Column3</th>\n",
              "      <th>Tweet_Clean_Text</th>\n",
              "    </tr>\n",
              "  </thead>\n",
              "  <tbody>\n",
              "    <tr>\n",
              "      <th>0</th>\n",
              "      <td>2.492980e+17</td>\n",
              "      <td>positive</td>\n",
              "      <td>i'm done writing code for the week! Looks like...</td>\n",
              "      <td>i m done writing code for the week Looks like ...</td>\n",
              "    </tr>\n",
              "    <tr>\n",
              "      <th>1</th>\n",
              "      <td>2.820310e+17</td>\n",
              "      <td>neutral</td>\n",
              "      <td>dec 21st 2012 will be know not as the end of t...</td>\n",
              "      <td>dec st will be know not as the end of the worl...</td>\n",
              "    </tr>\n",
              "    <tr>\n",
              "      <th>2</th>\n",
              "      <td>2.208800e+17</td>\n",
              "      <td>negative</td>\n",
              "      <td>@MacMiller hate my life, because i can't see y...</td>\n",
              "      <td>hate my life because i can t see you at the r...</td>\n",
              "    </tr>\n",
              "    <tr>\n",
              "      <th>3</th>\n",
              "      <td>2.240010e+17</td>\n",
              "      <td>positive</td>\n",
              "      <td>Checked out Our Lady Peace at Bluesfest tonigh...</td>\n",
              "      <td>Checked out Our Lady Peace at Bluesfest tonigh...</td>\n",
              "    </tr>\n",
              "    <tr>\n",
              "      <th>4</th>\n",
              "      <td>2.557130e+17</td>\n",
              "      <td>positive</td>\n",
              "      <td>Hello from the Foundation Trekkers! We're up i...</td>\n",
              "      <td>Hello from the Foundation Trekkers We re up in...</td>\n",
              "    </tr>\n",
              "  </tbody>\n",
              "</table>\n",
              "</div>"
            ],
            "text/plain": [
              "        Column1  ...                                   Tweet_Clean_Text\n",
              "0  2.492980e+17  ...  i m done writing code for the week Looks like ...\n",
              "1  2.820310e+17  ...  dec st will be know not as the end of the worl...\n",
              "2  2.208800e+17  ...   hate my life because i can t see you at the r...\n",
              "3  2.240010e+17  ...  Checked out Our Lady Peace at Bluesfest tonigh...\n",
              "4  2.557130e+17  ...  Hello from the Foundation Trekkers We re up in...\n",
              "\n",
              "[5 rows x 4 columns]"
            ]
          },
          "metadata": {
            "tags": []
          },
          "execution_count": 6
        }
      ]
    },
    {
      "cell_type": "code",
      "metadata": {
        "colab": {
          "base_uri": "https://localhost:8080/",
          "height": 453
        },
        "id": "oz2kEFcsaT0b",
        "outputId": "84928547-3d8f-48de-f216-8b3396d66c7d"
      },
      "source": [
        "train_set[\"Sentiment_Value\"] = train_set[\"Column2\"].map({\"neutral\": 0, \"positive\": 1, \"negative\": 2})\r\n",
        "label = to_categorical(train_set[\"Sentiment_Value\"], 3)\r\n",
        "train_set"
      ],
      "execution_count": 7,
      "outputs": [
        {
          "output_type": "execute_result",
          "data": {
            "text/html": [
              "<div>\n",
              "<style scoped>\n",
              "    .dataframe tbody tr th:only-of-type {\n",
              "        vertical-align: middle;\n",
              "    }\n",
              "\n",
              "    .dataframe tbody tr th {\n",
              "        vertical-align: top;\n",
              "    }\n",
              "\n",
              "    .dataframe thead th {\n",
              "        text-align: right;\n",
              "    }\n",
              "</style>\n",
              "<table border=\"1\" class=\"dataframe\">\n",
              "  <thead>\n",
              "    <tr style=\"text-align: right;\">\n",
              "      <th></th>\n",
              "      <th>Column1</th>\n",
              "      <th>Column2</th>\n",
              "      <th>Column3</th>\n",
              "      <th>Tweet_Clean_Text</th>\n",
              "      <th>Sentiment_Value</th>\n",
              "    </tr>\n",
              "  </thead>\n",
              "  <tbody>\n",
              "    <tr>\n",
              "      <th>0</th>\n",
              "      <td>2.492980e+17</td>\n",
              "      <td>positive</td>\n",
              "      <td>i'm done writing code for the week! Looks like...</td>\n",
              "      <td>i m done writing code for the week Looks like ...</td>\n",
              "      <td>1</td>\n",
              "    </tr>\n",
              "    <tr>\n",
              "      <th>1</th>\n",
              "      <td>2.820310e+17</td>\n",
              "      <td>neutral</td>\n",
              "      <td>dec 21st 2012 will be know not as the end of t...</td>\n",
              "      <td>dec st will be know not as the end of the worl...</td>\n",
              "      <td>0</td>\n",
              "    </tr>\n",
              "    <tr>\n",
              "      <th>2</th>\n",
              "      <td>2.208800e+17</td>\n",
              "      <td>negative</td>\n",
              "      <td>@MacMiller hate my life, because i can't see y...</td>\n",
              "      <td>hate my life because i can t see you at the r...</td>\n",
              "      <td>2</td>\n",
              "    </tr>\n",
              "    <tr>\n",
              "      <th>3</th>\n",
              "      <td>2.240010e+17</td>\n",
              "      <td>positive</td>\n",
              "      <td>Checked out Our Lady Peace at Bluesfest tonigh...</td>\n",
              "      <td>Checked out Our Lady Peace at Bluesfest tonigh...</td>\n",
              "      <td>1</td>\n",
              "    </tr>\n",
              "    <tr>\n",
              "      <th>4</th>\n",
              "      <td>2.557130e+17</td>\n",
              "      <td>positive</td>\n",
              "      <td>Hello from the Foundation Trekkers! We're up i...</td>\n",
              "      <td>Hello from the Foundation Trekkers We re up in...</td>\n",
              "      <td>1</td>\n",
              "    </tr>\n",
              "    <tr>\n",
              "      <th>...</th>\n",
              "      <td>...</td>\n",
              "      <td>...</td>\n",
              "      <td>...</td>\n",
              "      <td>...</td>\n",
              "      <td>...</td>\n",
              "    </tr>\n",
              "    <tr>\n",
              "      <th>49710</th>\n",
              "      <td>6.409160e+17</td>\n",
              "      <td>positive</td>\n",
              "      <td>I need to become a celebrity so I can just be ...</td>\n",
              "      <td>I need to become a celebrity so I can just be ...</td>\n",
              "      <td>1</td>\n",
              "    </tr>\n",
              "    <tr>\n",
              "      <th>49711</th>\n",
              "      <td>6.410380e+17</td>\n",
              "      <td>positive</td>\n",
              "      <td>Snoop dogg may be the funniest human alive</td>\n",
              "      <td>Snoop dogg may be the funniest human alive</td>\n",
              "      <td>1</td>\n",
              "    </tr>\n",
              "    <tr>\n",
              "      <th>49712</th>\n",
              "      <td>6.412190e+17</td>\n",
              "      <td>neutral</td>\n",
              "      <td>I'm only ok with 3rd floor playing Snoop Dogg ...</td>\n",
              "      <td>I m only ok with rd floor playing Snoop Dogg t...</td>\n",
              "      <td>0</td>\n",
              "    </tr>\n",
              "    <tr>\n",
              "      <th>49713</th>\n",
              "      <td>6.413490e+17</td>\n",
              "      <td>positive</td>\n",
              "      <td>SNOOP DOGG AKA SNOOPADELIC friday friday only ...</td>\n",
              "      <td>SNOOP DOGG AKA SNOOPADELIC friday friday only ...</td>\n",
              "      <td>1</td>\n",
              "    </tr>\n",
              "    <tr>\n",
              "      <th>49714</th>\n",
              "      <td>6.416480e+17</td>\n",
              "      <td>positive</td>\n",
              "      <td>I can't stop thinking about the fact that I'm ...</td>\n",
              "      <td>I can t stop thinking about the fact that I m ...</td>\n",
              "      <td>1</td>\n",
              "    </tr>\n",
              "  </tbody>\n",
              "</table>\n",
              "<p>49715 rows × 5 columns</p>\n",
              "</div>"
            ],
            "text/plain": [
              "            Column1  ... Sentiment_Value\n",
              "0      2.492980e+17  ...               1\n",
              "1      2.820310e+17  ...               0\n",
              "2      2.208800e+17  ...               2\n",
              "3      2.240010e+17  ...               1\n",
              "4      2.557130e+17  ...               1\n",
              "...             ...  ...             ...\n",
              "49710  6.409160e+17  ...               1\n",
              "49711  6.410380e+17  ...               1\n",
              "49712  6.412190e+17  ...               0\n",
              "49713  6.413490e+17  ...               1\n",
              "49714  6.416480e+17  ...               1\n",
              "\n",
              "[49715 rows x 5 columns]"
            ]
          },
          "metadata": {
            "tags": []
          },
          "execution_count": 7
        }
      ]
    },
    {
      "cell_type": "code",
      "metadata": {
        "colab": {
          "base_uri": "https://localhost:8080/"
        },
        "id": "XwyqNJ1vjpU6",
        "outputId": "0b78783a-77e3-4bea-bfe5-a32ffc227590"
      },
      "source": [
        "train_set['Column2'].value_counts()"
      ],
      "execution_count": 8,
      "outputs": [
        {
          "output_type": "execute_result",
          "data": {
            "text/plain": [
              "neutral     22274\n",
              "positive    19688\n",
              "negative     7753\n",
              "Name: Column2, dtype: int64"
            ]
          },
          "metadata": {
            "tags": []
          },
          "execution_count": 8
        }
      ]
    },
    {
      "cell_type": "code",
      "metadata": {
        "colab": {
          "base_uri": "https://localhost:8080/"
        },
        "id": "qbRAhnz3FXOX",
        "outputId": "afa3f13c-8644-4abd-e01f-3ace1a12c07b"
      },
      "source": [
        "y_labels = train_set['Sentiment_Value']\r\n",
        "y_labels.shape"
      ],
      "execution_count": 9,
      "outputs": [
        {
          "output_type": "execute_result",
          "data": {
            "text/plain": [
              "(49715,)"
            ]
          },
          "metadata": {
            "tags": []
          },
          "execution_count": 9
        }
      ]
    },
    {
      "cell_type": "code",
      "metadata": {
        "colab": {
          "base_uri": "https://localhost:8080/"
        },
        "id": "lPrL0u6wqIuI",
        "outputId": "c7c88532-89fa-4b27-f9ed-b5887239cf9c"
      },
      "source": [
        "train['l'] = train_set['Tweet_Clean_Text'].apply(lambda x: len(str(x).split(' ')))\n",
        "print(\"mean length of sentence: \" + str(train.l.mean()))\n",
        "print(\"max length of sentence: \" + str(train.l.max()))\n",
        "print(\"std dev length of sentence: \" + str(train.l.std()))"
      ],
      "execution_count": 10,
      "outputs": [
        {
          "output_type": "stream",
          "text": [
            "mean length of sentence: 20.210278587951322\n",
            "max length of sentence: 47.0\n",
            "std dev length of sentence: 5.264851918216882\n"
          ],
          "name": "stdout"
        }
      ]
    },
    {
      "cell_type": "code",
      "metadata": {
        "id": "JmNsjX3Z1K7Q"
      },
      "source": [
        "sequence_length = 47 #using the maximum length "
      ],
      "execution_count": 11,
      "outputs": []
    },
    {
      "cell_type": "code",
      "metadata": {
        "colab": {
          "base_uri": "https://localhost:8080/"
        },
        "id": "7mrlqPjcqhUI",
        "outputId": "97ffd350-d414-4596-8547-1391cc743c5c"
      },
      "source": [
        "max_features = 2500\n",
        "tokenizer = Tokenizer(num_words=max_features, split=' ', oov_token='<unw>')\n",
        "tokenizer.fit_on_texts(train_set['Tweet_Clean_Text'].values)\n",
        "\n",
        "X = tokenizer.texts_to_sequences(train_set['Tweet_Clean_Text'].values)\n",
        "X = pad_sequences(X, sequence_length)\n",
        "x_train = X\n",
        "\n",
        "print(\"training size \" + str(len(x_train)))\n",
        "\n",
        "voc_size = len(tokenizer.word_index) + 1\n",
        "print(\"Vocab size: \", voc_size)\n",
        "print(\"Input shape: \", x_train.shape)\n",
        "print(\"Y_shape: \" , y_labels.shape)"
      ],
      "execution_count": 12,
      "outputs": [
        {
          "output_type": "stream",
          "text": [
            "training size 49715\n",
            "Vocab size:  42660\n",
            "Input shape:  (49715, 47)\n",
            "Y_shape:  (49715,)\n"
          ],
          "name": "stdout"
        }
      ]
    },
    {
      "cell_type": "markdown",
      "metadata": {
        "id": "vsv4hwJPzD7o"
      },
      "source": [
        "Spliting the dataset"
      ]
    },
    {
      "cell_type": "code",
      "metadata": {
        "id": "AhX8T4-NBO-A"
      },
      "source": [
        "X_train, X_dev, Y_train, Y_dev = train_test_split(x_train, y_labels, test_size=0.15, shuffle=True, random_state=10)"
      ],
      "execution_count": 13,
      "outputs": []
    },
    {
      "cell_type": "code",
      "metadata": {
        "colab": {
          "base_uri": "https://localhost:8080/"
        },
        "id": "l88mjPIXlDan",
        "outputId": "b3cf6f3b-c0dd-40cc-a4b7-11ecd91afa33"
      },
      "source": [
        "from google.colab import drive\n",
        "drive.mount('/content/drive')"
      ],
      "execution_count": 14,
      "outputs": [
        {
          "output_type": "stream",
          "text": [
            "Mounted at /content/drive\n"
          ],
          "name": "stdout"
        }
      ]
    },
    {
      "cell_type": "markdown",
      "metadata": {
        "id": "8ml2XYDrzKsZ"
      },
      "source": [
        "GloVe Embedding"
      ]
    },
    {
      "cell_type": "code",
      "metadata": {
        "colab": {
          "base_uri": "https://localhost:8080/"
        },
        "id": "lZf4uIiIm_6A",
        "outputId": "125b791c-b0f5-4ef1-eec4-259ff34040d2"
      },
      "source": [
        "embeddings_index = dict()\r\n",
        "f = open('/content/drive/MyDrive/twitter/glove.twitter.27B.200d.txt')\r\n",
        "for line in f:\r\n",
        "\tvalues = line.split()\r\n",
        "\tword = values[0]\r\n",
        "\tcoefs = asarray(values[1:], dtype='float32')\r\n",
        "\tembeddings_index[word] = coefs\r\n",
        "f.close()\r\n",
        "print('Loaded %s word vectors.' % len(embeddings_index))"
      ],
      "execution_count": 15,
      "outputs": [
        {
          "output_type": "stream",
          "text": [
            "Loaded 1193514 word vectors.\n"
          ],
          "name": "stdout"
        }
      ]
    },
    {
      "cell_type": "code",
      "metadata": {
        "id": "MoMjKu5Ln5ip"
      },
      "source": [
        "embedding_dim = 200\r\n",
        "embedding_matrix = np.zeros((voc_size, embedding_dim))\r\n",
        "for word, i in tokenizer.word_index.items():\r\n",
        "\tembedding_vector = embeddings_index.get(word)\r\n",
        "\tif embedding_vector is not None:\r\n",
        "\t\tembedding_matrix[i] = embedding_vector"
      ],
      "execution_count": 16,
      "outputs": []
    },
    {
      "cell_type": "markdown",
      "metadata": {
        "id": "EjkJUqRdzZbZ"
      },
      "source": [
        "**Stacked CNN Predictions Ensemble**"
      ]
    },
    {
      "cell_type": "code",
      "metadata": {
        "id": "BozDxovPxPyp"
      },
      "source": [
        "Y_train_cat = to_categorical(Y_train, 3)\r\n",
        "Y_dev_cat = to_categorical(Y_dev, 3)"
      ],
      "execution_count": 17,
      "outputs": []
    },
    {
      "cell_type": "code",
      "metadata": {
        "id": "483TEfXdo_OF"
      },
      "source": [
        "def recall_score(y_true, y_pred):\r\n",
        "    true_positives = K.sum(K.round(K.clip(y_true * y_pred, 0, 1)))\r\n",
        "    possible_positives = K.sum(K.round(K.clip(y_true, 0, 1)))\r\n",
        "    recall = true_positives / (possible_positives + K.epsilon())\r\n",
        "    recall_score.__name__ = 'recall'\r\n",
        "    return recall\r\n",
        "\r\n",
        "def precision_score(y_true, y_pred):\r\n",
        "    true_positives = K.sum(K.round(K.clip(y_true * y_pred, 0, 1)))\r\n",
        "    predicted_positives = K.sum(K.round(K.clip(y_pred, 0, 1)))\r\n",
        "    precision = true_positives / (predicted_positives + K.epsilon())\r\n",
        "    precision_score.__name__ = 'precision'\r\n",
        "    return precision\r\n",
        "\r\n",
        "def f1_metrics(y_true, y_pred):\r\n",
        "    precision = precision_score(y_true, y_pred)\r\n",
        "    recall = recall_score(y_true, y_pred)\r\n",
        "    f1_metrics.__name__ = 'f1'\r\n",
        "    return 2*((precision*recall)/(precision+recall+K.epsilon()))\r\n"
      ],
      "execution_count": 18,
      "outputs": []
    },
    {
      "cell_type": "code",
      "metadata": {
        "id": "OwhTPRwfpFGx"
      },
      "source": [
        "Metrics = [\r\n",
        "           keras.metrics.CategoricalAccuracy(name = 'categorical_accuracy'),\r\n",
        "           keras.metrics.Precision(name='precision'),\r\n",
        "           keras.metrics.Recall(name='recall'),\r\n",
        "           f1_metrics\r\n",
        "]"
      ],
      "execution_count": 19,
      "outputs": []
    },
    {
      "cell_type": "code",
      "metadata": {
        "id": "WHGiF4BTxRya"
      },
      "source": [
        "def fit_model(filter_size):\r\n",
        "  #define the model\r\n",
        "  model = Sequential()\r\n",
        "  model.add(keras.layers.Input(shape=(sequence_length, ), dtype='int32'))\r\n",
        "  model.add(Embedding(input_dim=voc_size, output_dim=embedding_dim, weights = [embedding_matrix],input_length=sequence_length))\r\n",
        "  model.add(Reshape((sequence_length, embedding_dim, 1)))\r\n",
        "  model.add(Conv2D(256, kernel_size=(filter_size, embedding_dim), activation='relu', kernel_regularizer=regularizers.l2(3)))\r\n",
        "  model.add(MaxPool2D(pool_size=(sequence_length - filter_size + 1, 1), strides=(1,1), padding='valid'))\r\n",
        "  model.add(Flatten())\r\n",
        "  model.add(Dropout(0.5))\r\n",
        "  model.add(Dense(units=352, activation='relu'))\r\n",
        "  model.add(Dense(units=3, activation='softmax'))\r\n",
        "  model.compile(loss='categorical_crossentropy', optimizer='adam', metrics=Metrics)\r\n",
        "  #fit the model\r\n",
        "  history = model.fit(x=X_train, y=Y_train_cat, validation_data=(X_dev, Y_dev_cat), batch_size=1028, epochs=20, verbose=2)\r\n",
        "  return model"
      ],
      "execution_count": 20,
      "outputs": []
    },
    {
      "cell_type": "code",
      "metadata": {
        "colab": {
          "base_uri": "https://localhost:8080/"
        },
        "id": "C21xzCl_vrHD",
        "outputId": "23a1183c-a32c-4e5f-b425-a40534722d56"
      },
      "source": [
        "filter_sizes = [3,5,7,9,11]\r\n",
        "\r\n",
        "n_members = 5\r\n",
        "for i in range(n_members):\r\n",
        "\t# fit model\r\n",
        "\tmodel = fit_model(filter_sizes[i])\r\n",
        "\t# save model\r\n",
        "\tfilename = 'models/model_' + str(i + 1) + '.h5'\r\n",
        "\tmodel.save(filename)\r\n",
        "\tprint('>Saved %s' % filename)"
      ],
      "execution_count": 21,
      "outputs": [
        {
          "output_type": "stream",
          "text": [
            "Epoch 1/20\n",
            "42/42 - 14s - loss: 1.5600 - categorical_accuracy: 0.4520 - precision: 0.5000 - recall: 0.0024 - f1_metrics: 0.0045 - val_loss: 1.0554 - val_categorical_accuracy: 0.4490 - val_precision: 0.0000e+00 - val_recall: 0.0000e+00 - val_f1_metrics: 0.0000e+00\n",
            "Epoch 2/20\n",
            "42/42 - 5s - loss: 1.0161 - categorical_accuracy: 0.5590 - precision: 0.6657 - recall: 0.2228 - f1_metrics: 0.3053 - val_loss: 1.0633 - val_categorical_accuracy: 0.5202 - val_precision: 0.5858 - val_recall: 0.3304 - val_f1_metrics: 0.4221\n",
            "Epoch 3/20\n",
            "42/42 - 5s - loss: 1.0282 - categorical_accuracy: 0.5890 - precision: 0.6358 - recall: 0.4621 - f1_metrics: 0.5343 - val_loss: 1.0128 - val_categorical_accuracy: 0.6035 - val_precision: 0.6423 - val_recall: 0.5225 - val_f1_metrics: 0.5818\n",
            "Epoch 4/20\n",
            "42/42 - 5s - loss: 1.0358 - categorical_accuracy: 0.5989 - precision: 0.6437 - recall: 0.4910 - f1_metrics: 0.5562 - val_loss: 1.0140 - val_categorical_accuracy: 0.6030 - val_precision: 0.6417 - val_recall: 0.5349 - val_f1_metrics: 0.5857\n",
            "Epoch 5/20\n",
            "42/42 - 5s - loss: 1.0252 - categorical_accuracy: 0.6096 - precision: 0.6574 - recall: 0.5104 - f1_metrics: 0.5755 - val_loss: 1.0087 - val_categorical_accuracy: 0.6283 - val_precision: 0.6925 - val_recall: 0.4946 - val_f1_metrics: 0.5793\n",
            "Epoch 6/20\n",
            "42/42 - 5s - loss: 1.0178 - categorical_accuracy: 0.6222 - precision: 0.6650 - recall: 0.5283 - f1_metrics: 0.5902 - val_loss: 1.1565 - val_categorical_accuracy: 0.5463 - val_precision: 0.5743 - val_recall: 0.4800 - val_f1_metrics: 0.5212\n",
            "Epoch 7/20\n",
            "42/42 - 5s - loss: 1.0186 - categorical_accuracy: 0.6219 - precision: 0.6600 - recall: 0.5381 - f1_metrics: 0.5919 - val_loss: 0.9533 - val_categorical_accuracy: 0.6309 - val_precision: 0.6830 - val_recall: 0.5280 - val_f1_metrics: 0.5991\n",
            "Epoch 8/20\n",
            "42/42 - 5s - loss: 0.9838 - categorical_accuracy: 0.6259 - precision: 0.6677 - recall: 0.5462 - f1_metrics: 0.5976 - val_loss: 0.9594 - val_categorical_accuracy: 0.6415 - val_precision: 0.6849 - val_recall: 0.5461 - val_f1_metrics: 0.6085\n",
            "Epoch 9/20\n",
            "42/42 - 5s - loss: 0.9834 - categorical_accuracy: 0.6313 - precision: 0.6703 - recall: 0.5501 - f1_metrics: 0.6037 - val_loss: 0.9703 - val_categorical_accuracy: 0.6373 - val_precision: 0.7078 - val_recall: 0.4878 - val_f1_metrics: 0.5804\n",
            "Epoch 10/20\n",
            "42/42 - 5s - loss: 0.9823 - categorical_accuracy: 0.6328 - precision: 0.6709 - recall: 0.5520 - f1_metrics: 0.6064 - val_loss: 0.9832 - val_categorical_accuracy: 0.6287 - val_precision: 0.6490 - val_recall: 0.5854 - val_f1_metrics: 0.6128\n",
            "Epoch 11/20\n",
            "42/42 - 5s - loss: 0.9667 - categorical_accuracy: 0.6336 - precision: 0.6720 - recall: 0.5600 - f1_metrics: 0.6100 - val_loss: 0.9392 - val_categorical_accuracy: 0.6429 - val_precision: 0.6759 - val_recall: 0.5650 - val_f1_metrics: 0.6178\n",
            "Epoch 12/20\n",
            "42/42 - 5s - loss: 0.9604 - categorical_accuracy: 0.6355 - precision: 0.6745 - recall: 0.5556 - f1_metrics: 0.6094 - val_loss: 0.9679 - val_categorical_accuracy: 0.6302 - val_precision: 0.6563 - val_recall: 0.5869 - val_f1_metrics: 0.6213\n",
            "Epoch 13/20\n",
            "42/42 - 5s - loss: 0.9584 - categorical_accuracy: 0.6353 - precision: 0.6738 - recall: 0.5571 - f1_metrics: 0.6090 - val_loss: 0.9623 - val_categorical_accuracy: 0.6196 - val_precision: 0.6680 - val_recall: 0.5016 - val_f1_metrics: 0.5733\n",
            "Epoch 14/20\n",
            "42/42 - 5s - loss: 0.9555 - categorical_accuracy: 0.6383 - precision: 0.6773 - recall: 0.5571 - f1_metrics: 0.6124 - val_loss: 0.9325 - val_categorical_accuracy: 0.6407 - val_precision: 0.6886 - val_recall: 0.5559 - val_f1_metrics: 0.6147\n",
            "Epoch 15/20\n",
            "42/42 - 5s - loss: 0.9460 - categorical_accuracy: 0.6414 - precision: 0.6794 - recall: 0.5671 - f1_metrics: 0.6177 - val_loss: 0.9601 - val_categorical_accuracy: 0.6333 - val_precision: 0.6584 - val_recall: 0.5760 - val_f1_metrics: 0.6167\n",
            "Epoch 16/20\n",
            "42/42 - 5s - loss: 0.9614 - categorical_accuracy: 0.6365 - precision: 0.6737 - recall: 0.5617 - f1_metrics: 0.6134 - val_loss: 0.9433 - val_categorical_accuracy: 0.6368 - val_precision: 0.6652 - val_recall: 0.5776 - val_f1_metrics: 0.6213\n",
            "Epoch 17/20\n",
            "42/42 - 5s - loss: 0.9446 - categorical_accuracy: 0.6401 - precision: 0.6797 - recall: 0.5664 - f1_metrics: 0.6190 - val_loss: 0.9652 - val_categorical_accuracy: 0.6329 - val_precision: 0.6572 - val_recall: 0.5932 - val_f1_metrics: 0.6249\n",
            "Epoch 18/20\n",
            "42/42 - 5s - loss: 0.9451 - categorical_accuracy: 0.6396 - precision: 0.6796 - recall: 0.5617 - f1_metrics: 0.6171 - val_loss: 0.9436 - val_categorical_accuracy: 0.6437 - val_precision: 0.6725 - val_recall: 0.5818 - val_f1_metrics: 0.6242\n",
            "Epoch 19/20\n",
            "42/42 - 5s - loss: 0.9358 - categorical_accuracy: 0.6402 - precision: 0.6808 - recall: 0.5647 - f1_metrics: 0.6172 - val_loss: 0.9521 - val_categorical_accuracy: 0.6341 - val_precision: 0.6709 - val_recall: 0.5472 - val_f1_metrics: 0.6015\n",
            "Epoch 20/20\n",
            "42/42 - 5s - loss: 0.9341 - categorical_accuracy: 0.6406 - precision: 0.6819 - recall: 0.5638 - f1_metrics: 0.6162 - val_loss: 0.9428 - val_categorical_accuracy: 0.6364 - val_precision: 0.6774 - val_recall: 0.5632 - val_f1_metrics: 0.6133\n",
            ">Saved models/model_1.h5\n",
            "Epoch 1/20\n",
            "42/42 - 7s - loss: 1.5413 - categorical_accuracy: 0.4820 - precision: 0.6734 - recall: 0.0851 - f1: 0.0014 - val_loss: 1.0651 - val_categorical_accuracy: 0.4449 - val_precision: 0.6994 - val_recall: 0.0162 - val_f1: 0.0294\n",
            "Epoch 2/20\n",
            "42/42 - 5s - loss: 1.0379 - categorical_accuracy: 0.5416 - precision: 0.6597 - recall: 0.1754 - f1: 0.2478 - val_loss: 1.0685 - val_categorical_accuracy: 0.5853 - val_precision: 0.6740 - val_recall: 0.3540 - val_f1: 0.4653\n",
            "Epoch 3/20\n",
            "42/42 - 5s - loss: 1.0714 - categorical_accuracy: 0.5800 - precision: 0.6233 - recall: 0.4384 - f1: 0.5120 - val_loss: 1.0593 - val_categorical_accuracy: 0.6050 - val_precision: 0.6804 - val_recall: 0.3993 - val_f1: 0.5039\n",
            "Epoch 4/20\n",
            "42/42 - 5s - loss: 1.0818 - categorical_accuracy: 0.5957 - precision: 0.6339 - recall: 0.4852 - f1: 0.5502 - val_loss: 1.0529 - val_categorical_accuracy: 0.6104 - val_precision: 0.6729 - val_recall: 0.4607 - val_f1: 0.5489\n",
            "Epoch 5/20\n",
            "42/42 - 5s - loss: 1.0639 - categorical_accuracy: 0.6065 - precision: 0.6504 - recall: 0.4968 - f1: 0.5609 - val_loss: 1.1174 - val_categorical_accuracy: 0.5880 - val_precision: 0.6225 - val_recall: 0.5056 - val_f1: 0.5613\n",
            "Epoch 6/20\n",
            "42/42 - 5s - loss: 1.0769 - categorical_accuracy: 0.6091 - precision: 0.6509 - recall: 0.5057 - f1: 0.5670 - val_loss: 1.0435 - val_categorical_accuracy: 0.6070 - val_precision: 0.6434 - val_recall: 0.5359 - val_f1: 0.5868\n",
            "Epoch 7/20\n",
            "42/42 - 5s - loss: 1.0569 - categorical_accuracy: 0.6224 - precision: 0.6640 - recall: 0.5325 - f1: 0.5905 - val_loss: 1.1240 - val_categorical_accuracy: 0.5503 - val_precision: 0.5876 - val_recall: 0.4588 - val_f1: 0.5123\n",
            "Epoch 8/20\n",
            "42/42 - 5s - loss: 1.0547 - categorical_accuracy: 0.6192 - precision: 0.6580 - recall: 0.5354 - f1: 0.5899 - val_loss: 1.0068 - val_categorical_accuracy: 0.6238 - val_precision: 0.6628 - val_recall: 0.5448 - val_f1: 0.6016\n",
            "Epoch 9/20\n",
            "42/42 - 5s - loss: 1.0327 - categorical_accuracy: 0.6243 - precision: 0.6579 - recall: 0.5436 - f1: 0.5959 - val_loss: 1.0023 - val_categorical_accuracy: 0.6281 - val_precision: 0.6717 - val_recall: 0.5396 - val_f1: 0.6002\n",
            "Epoch 10/20\n",
            "42/42 - 5s - loss: 1.0172 - categorical_accuracy: 0.6293 - precision: 0.6655 - recall: 0.5555 - f1: 0.6048 - val_loss: 1.0019 - val_categorical_accuracy: 0.6373 - val_precision: 0.6802 - val_recall: 0.5581 - val_f1: 0.6138\n",
            "Epoch 11/20\n",
            "42/42 - 5s - loss: 1.0278 - categorical_accuracy: 0.6286 - precision: 0.6623 - recall: 0.5568 - f1: 0.6041 - val_loss: 0.9798 - val_categorical_accuracy: 0.6361 - val_precision: 0.6762 - val_recall: 0.5618 - val_f1: 0.6148\n",
            "Epoch 12/20\n",
            "42/42 - 5s - loss: 1.0055 - categorical_accuracy: 0.6311 - precision: 0.6680 - recall: 0.5568 - f1: 0.6071 - val_loss: 0.9785 - val_categorical_accuracy: 0.6384 - val_precision: 0.6672 - val_recall: 0.5794 - val_f1: 0.6230\n",
            "Epoch 13/20\n",
            "42/42 - 5s - loss: 1.0051 - categorical_accuracy: 0.6311 - precision: 0.6652 - recall: 0.5588 - f1: 0.6062 - val_loss: 1.0042 - val_categorical_accuracy: 0.6217 - val_precision: 0.6886 - val_recall: 0.4739 - val_f1: 0.5622\n",
            "Epoch 14/20\n",
            "42/42 - 5s - loss: 1.0069 - categorical_accuracy: 0.6348 - precision: 0.6721 - recall: 0.5568 - f1: 0.6085 - val_loss: 0.9874 - val_categorical_accuracy: 0.6361 - val_precision: 0.6870 - val_recall: 0.5256 - val_f1: 0.5966\n",
            "Epoch 15/20\n",
            "42/42 - 5s - loss: 1.0068 - categorical_accuracy: 0.6323 - precision: 0.6698 - recall: 0.5563 - f1: 0.6093 - val_loss: 0.9759 - val_categorical_accuracy: 0.6322 - val_precision: 0.6515 - val_recall: 0.5779 - val_f1: 0.6150\n",
            "Epoch 16/20\n",
            "42/42 - 5s - loss: 0.9798 - categorical_accuracy: 0.6389 - precision: 0.6739 - recall: 0.5644 - f1: 0.6155 - val_loss: 0.9628 - val_categorical_accuracy: 0.6393 - val_precision: 0.6690 - val_recall: 0.5720 - val_f1: 0.6179\n",
            "Epoch 17/20\n",
            "42/42 - 5s - loss: 0.9877 - categorical_accuracy: 0.6385 - precision: 0.6759 - recall: 0.5652 - f1: 0.6145 - val_loss: 0.9922 - val_categorical_accuracy: 0.6369 - val_precision: 0.7010 - val_recall: 0.5071 - val_f1: 0.5906\n",
            "Epoch 18/20\n",
            "42/42 - 5s - loss: 1.0085 - categorical_accuracy: 0.6385 - precision: 0.6752 - recall: 0.5617 - f1: 0.6114 - val_loss: 0.9738 - val_categorical_accuracy: 0.6437 - val_precision: 0.6777 - val_recall: 0.5772 - val_f1: 0.6254\n",
            "Epoch 19/20\n",
            "42/42 - 5s - loss: 1.0011 - categorical_accuracy: 0.6392 - precision: 0.6760 - recall: 0.5635 - f1: 0.6128 - val_loss: 0.9730 - val_categorical_accuracy: 0.6380 - val_precision: 0.7024 - val_recall: 0.5194 - val_f1: 0.5986\n",
            "Epoch 20/20\n",
            "42/42 - 5s - loss: 0.9871 - categorical_accuracy: 0.6411 - precision: 0.6773 - recall: 0.5674 - f1: 0.6170 - val_loss: 0.9742 - val_categorical_accuracy: 0.6397 - val_precision: 0.6980 - val_recall: 0.5180 - val_f1: 0.5972\n",
            ">Saved models/model_2.h5\n",
            "Epoch 1/20\n",
            "42/42 - 7s - loss: 1.5422 - categorical_accuracy: 0.4838 - precision: 0.6792 - recall: 0.0838 - f1: 0.0130 - val_loss: 1.0899 - val_categorical_accuracy: 0.4449 - val_precision: 0.4476 - val_recall: 0.4370 - val_f1: 0.4425\n",
            "Epoch 2/20\n",
            "42/42 - 6s - loss: 1.0540 - categorical_accuracy: 0.5096 - precision: 0.6101 - recall: 0.1055 - f1: 0.1621 - val_loss: 1.1768 - val_categorical_accuracy: 0.4563 - val_precision: 0.4616 - val_recall: 0.4485 - val_f1: 0.4551\n",
            "Epoch 3/20\n",
            "42/42 - 6s - loss: 1.0838 - categorical_accuracy: 0.5653 - precision: 0.6160 - recall: 0.3946 - f1: 0.4801 - val_loss: 1.1178 - val_categorical_accuracy: 0.5833 - val_precision: 0.6217 - val_recall: 0.4729 - val_f1: 0.5383\n",
            "Epoch 4/20\n",
            "42/42 - 6s - loss: 1.0941 - categorical_accuracy: 0.5920 - precision: 0.6326 - recall: 0.4715 - f1: 0.5385 - val_loss: 1.1006 - val_categorical_accuracy: 0.5983 - val_precision: 0.6175 - val_recall: 0.5531 - val_f1: 0.5874\n",
            "Epoch 5/20\n",
            "42/42 - 6s - loss: 1.1007 - categorical_accuracy: 0.5953 - precision: 0.6367 - recall: 0.4845 - f1: 0.5490 - val_loss: 1.0932 - val_categorical_accuracy: 0.6112 - val_precision: 0.6584 - val_recall: 0.5048 - val_f1: 0.5719\n",
            "Epoch 6/20\n",
            "42/42 - 6s - loss: 1.0987 - categorical_accuracy: 0.6054 - precision: 0.6490 - recall: 0.5002 - f1: 0.5661 - val_loss: 1.0761 - val_categorical_accuracy: 0.5900 - val_precision: 0.6088 - val_recall: 0.5535 - val_f1: 0.5826\n",
            "Epoch 7/20\n",
            "42/42 - 6s - loss: 1.0804 - categorical_accuracy: 0.6146 - precision: 0.6563 - recall: 0.5165 - f1: 0.5764 - val_loss: 1.1524 - val_categorical_accuracy: 0.5972 - val_precision: 0.6648 - val_recall: 0.4391 - val_f1: 0.5345\n",
            "Epoch 8/20\n",
            "42/42 - 6s - loss: 1.0987 - categorical_accuracy: 0.6182 - precision: 0.6592 - recall: 0.5264 - f1: 0.5852 - val_loss: 1.0411 - val_categorical_accuracy: 0.6259 - val_precision: 0.6634 - val_recall: 0.5503 - val_f1: 0.6024\n",
            "Epoch 9/20\n",
            "42/42 - 6s - loss: 1.0732 - categorical_accuracy: 0.6236 - precision: 0.6608 - recall: 0.5393 - f1: 0.5937 - val_loss: 1.0309 - val_categorical_accuracy: 0.6352 - val_precision: 0.6743 - val_recall: 0.5656 - val_f1: 0.6186\n",
            "Epoch 10/20\n",
            "42/42 - 6s - loss: 1.0636 - categorical_accuracy: 0.6268 - precision: 0.6659 - recall: 0.5448 - f1: 0.5988 - val_loss: 1.0291 - val_categorical_accuracy: 0.6413 - val_precision: 0.6898 - val_recall: 0.5385 - val_f1: 0.6045\n",
            "Epoch 11/20\n",
            "42/42 - 6s - loss: 1.0593 - categorical_accuracy: 0.6276 - precision: 0.6656 - recall: 0.5504 - f1: 0.6031 - val_loss: 1.0349 - val_categorical_accuracy: 0.6411 - val_precision: 0.6904 - val_recall: 0.5355 - val_f1: 0.6035\n",
            "Epoch 12/20\n",
            "42/42 - 6s - loss: 1.0540 - categorical_accuracy: 0.6302 - precision: 0.6676 - recall: 0.5544 - f1: 0.6065 - val_loss: 1.0871 - val_categorical_accuracy: 0.5936 - val_precision: 0.6490 - val_recall: 0.4440 - val_f1: 0.5293\n",
            "Epoch 13/20\n",
            "42/42 - 6s - loss: 1.0493 - categorical_accuracy: 0.6294 - precision: 0.6668 - recall: 0.5544 - f1: 0.6044 - val_loss: 1.0740 - val_categorical_accuracy: 0.6138 - val_precision: 0.6511 - val_recall: 0.5157 - val_f1: 0.5740\n",
            "Epoch 14/20\n",
            "42/42 - 6s - loss: 1.0504 - categorical_accuracy: 0.6290 - precision: 0.6661 - recall: 0.5544 - f1: 0.6038 - val_loss: 1.0034 - val_categorical_accuracy: 0.6286 - val_precision: 0.6790 - val_recall: 0.5249 - val_f1: 0.5940\n",
            "Epoch 15/20\n",
            "42/42 - 6s - loss: 1.0089 - categorical_accuracy: 0.6342 - precision: 0.6728 - recall: 0.5585 - f1: 0.6106 - val_loss: 1.0086 - val_categorical_accuracy: 0.6266 - val_precision: 0.6610 - val_recall: 0.5574 - val_f1: 0.6081\n",
            "Epoch 16/20\n",
            "42/42 - 6s - loss: 1.0347 - categorical_accuracy: 0.6380 - precision: 0.6733 - recall: 0.5601 - f1: 0.6130 - val_loss: 1.0324 - val_categorical_accuracy: 0.6297 - val_precision: 0.6636 - val_recall: 0.5589 - val_f1: 0.6065\n",
            "Epoch 17/20\n",
            "42/42 - 6s - loss: 1.0233 - categorical_accuracy: 0.6326 - precision: 0.6730 - recall: 0.5582 - f1: 0.6109 - val_loss: 1.0040 - val_categorical_accuracy: 0.6417 - val_precision: 0.6702 - val_recall: 0.5713 - val_f1: 0.6181\n",
            "Epoch 18/20\n",
            "42/42 - 6s - loss: 1.0235 - categorical_accuracy: 0.6352 - precision: 0.6732 - recall: 0.5582 - f1: 0.6117 - val_loss: 1.0216 - val_categorical_accuracy: 0.6346 - val_precision: 0.6533 - val_recall: 0.5941 - val_f1: 0.6237\n",
            "Epoch 19/20\n",
            "42/42 - 6s - loss: 1.0272 - categorical_accuracy: 0.6343 - precision: 0.6725 - recall: 0.5587 - f1: 0.6100 - val_loss: 1.0145 - val_categorical_accuracy: 0.6368 - val_precision: 0.7007 - val_recall: 0.5074 - val_f1: 0.5891\n",
            "Epoch 20/20\n",
            "42/42 - 6s - loss: 1.0203 - categorical_accuracy: 0.6394 - precision: 0.6767 - recall: 0.5600 - f1: 0.6124 - val_loss: 1.0533 - val_categorical_accuracy: 0.6305 - val_precision: 0.6600 - val_recall: 0.5534 - val_f1: 0.6009\n",
            ">Saved models/model_3.h5\n",
            "Epoch 1/20\n",
            "42/42 - 8s - loss: 1.5457 - categorical_accuracy: 0.4806 - precision: 0.6473 - recall: 0.0885 - f1: 0.0115 - val_loss: 1.0748 - val_categorical_accuracy: 0.4827 - val_precision: 0.0000e+00 - val_recall: 0.0000e+00 - val_f1: 0.0000e+00\n",
            "Epoch 2/20\n",
            "42/42 - 6s - loss: 1.0738 - categorical_accuracy: 0.5085 - precision: 0.6019 - recall: 0.1231 - f1: 0.1839 - val_loss: 1.1490 - val_categorical_accuracy: 0.5131 - val_precision: 0.5387 - val_recall: 0.4385 - val_f1: 0.4852\n",
            "Epoch 3/20\n",
            "42/42 - 6s - loss: 1.1262 - categorical_accuracy: 0.5656 - precision: 0.6224 - recall: 0.3852 - f1: 0.4732 - val_loss: 1.1980 - val_categorical_accuracy: 0.5606 - val_precision: 0.5829 - val_recall: 0.4995 - val_f1: 0.5410\n",
            "Epoch 4/20\n",
            "42/42 - 6s - loss: 1.1423 - categorical_accuracy: 0.5864 - precision: 0.6386 - recall: 0.4493 - f1: 0.5264 - val_loss: 1.2074 - val_categorical_accuracy: 0.5775 - val_precision: 0.6209 - val_recall: 0.4791 - val_f1: 0.5387\n",
            "Epoch 5/20\n",
            "42/42 - 6s - loss: 1.1789 - categorical_accuracy: 0.5990 - precision: 0.6500 - recall: 0.4772 - f1: 0.5493 - val_loss: 1.1787 - val_categorical_accuracy: 0.5705 - val_precision: 0.5804 - val_recall: 0.5444 - val_f1: 0.5656\n",
            "Epoch 6/20\n",
            "42/42 - 6s - loss: 1.1543 - categorical_accuracy: 0.6005 - precision: 0.6459 - recall: 0.4916 - f1: 0.5582 - val_loss: 1.1411 - val_categorical_accuracy: 0.6022 - val_precision: 0.6232 - val_recall: 0.5657 - val_f1: 0.5965\n",
            "Epoch 7/20\n",
            "42/42 - 6s - loss: 1.1355 - categorical_accuracy: 0.6105 - precision: 0.6537 - recall: 0.5104 - f1: 0.5728 - val_loss: 1.1032 - val_categorical_accuracy: 0.6222 - val_precision: 0.6862 - val_recall: 0.4918 - val_f1: 0.5752\n",
            "Epoch 8/20\n",
            "42/42 - 6s - loss: 1.1124 - categorical_accuracy: 0.6198 - precision: 0.6631 - recall: 0.5253 - f1: 0.5855 - val_loss: 1.1005 - val_categorical_accuracy: 0.6188 - val_precision: 0.6675 - val_recall: 0.5117 - val_f1: 0.5784\n",
            "Epoch 9/20\n",
            "42/42 - 6s - loss: 1.1047 - categorical_accuracy: 0.6227 - precision: 0.6614 - recall: 0.5361 - f1: 0.5915 - val_loss: 1.0970 - val_categorical_accuracy: 0.6251 - val_precision: 0.6571 - val_recall: 0.5691 - val_f1: 0.6107\n",
            "Epoch 10/20\n",
            "42/42 - 6s - loss: 1.1229 - categorical_accuracy: 0.6228 - precision: 0.6614 - recall: 0.5430 - f1: 0.5960 - val_loss: 1.0651 - val_categorical_accuracy: 0.6360 - val_precision: 0.7057 - val_recall: 0.5042 - val_f1: 0.5924\n",
            "Epoch 11/20\n",
            "42/42 - 6s - loss: 1.0965 - categorical_accuracy: 0.6271 - precision: 0.6628 - recall: 0.5432 - f1: 0.5962 - val_loss: 1.0725 - val_categorical_accuracy: 0.6313 - val_precision: 0.6713 - val_recall: 0.5480 - val_f1: 0.6085\n",
            "Epoch 12/20\n",
            "42/42 - 6s - loss: 1.1005 - categorical_accuracy: 0.6284 - precision: 0.6666 - recall: 0.5492 - f1: 0.6011 - val_loss: 1.0775 - val_categorical_accuracy: 0.6298 - val_precision: 0.6498 - val_recall: 0.5806 - val_f1: 0.6145\n",
            "Epoch 13/20\n",
            "42/42 - 6s - loss: 1.0811 - categorical_accuracy: 0.6299 - precision: 0.6687 - recall: 0.5543 - f1: 0.6061 - val_loss: 1.0924 - val_categorical_accuracy: 0.6297 - val_precision: 0.7001 - val_recall: 0.4871 - val_f1: 0.5781\n",
            "Epoch 14/20\n",
            "42/42 - 6s - loss: 1.0814 - categorical_accuracy: 0.6304 - precision: 0.6709 - recall: 0.5540 - f1: 0.6066 - val_loss: 1.0545 - val_categorical_accuracy: 0.6388 - val_precision: 0.6654 - val_recall: 0.5862 - val_f1: 0.6267\n",
            "Epoch 15/20\n",
            "42/42 - 6s - loss: 1.0718 - categorical_accuracy: 0.6314 - precision: 0.6669 - recall: 0.5569 - f1: 0.6086 - val_loss: 1.0442 - val_categorical_accuracy: 0.6366 - val_precision: 0.6634 - val_recall: 0.5932 - val_f1: 0.6267\n",
            "Epoch 16/20\n",
            "42/42 - 6s - loss: 1.0427 - categorical_accuracy: 0.6308 - precision: 0.6694 - recall: 0.5507 - f1: 0.6037 - val_loss: 1.0116 - val_categorical_accuracy: 0.6357 - val_precision: 0.6714 - val_recall: 0.5646 - val_f1: 0.6177\n",
            "Epoch 17/20\n",
            "42/42 - 6s - loss: 1.0566 - categorical_accuracy: 0.6348 - precision: 0.6715 - recall: 0.5591 - f1: 0.6092 - val_loss: 1.0790 - val_categorical_accuracy: 0.6183 - val_precision: 0.6839 - val_recall: 0.4820 - val_f1: 0.5702\n",
            "Epoch 18/20\n",
            "42/42 - 6s - loss: 1.0584 - categorical_accuracy: 0.6323 - precision: 0.6718 - recall: 0.5521 - f1: 0.6058 - val_loss: 1.0800 - val_categorical_accuracy: 0.6401 - val_precision: 0.6740 - val_recall: 0.5657 - val_f1: 0.6177\n",
            "Epoch 19/20\n",
            "42/42 - 6s - loss: 1.0709 - categorical_accuracy: 0.6367 - precision: 0.6763 - recall: 0.5585 - f1: 0.6137 - val_loss: 1.0808 - val_categorical_accuracy: 0.6207 - val_precision: 0.6655 - val_recall: 0.5453 - val_f1: 0.6019\n",
            "Epoch 20/20\n",
            "42/42 - 6s - loss: 1.0709 - categorical_accuracy: 0.6338 - precision: 0.6746 - recall: 0.5561 - f1: 0.6090 - val_loss: 1.0853 - val_categorical_accuracy: 0.6254 - val_precision: 0.6438 - val_recall: 0.5855 - val_f1: 0.6159\n",
            ">Saved models/model_4.h5\n",
            "Epoch 1/20\n",
            "42/42 - 8s - loss: 1.5581 - categorical_accuracy: 0.4763 - precision: 0.6341 - recall: 0.0907 - f1: 0.0065 - val_loss: 1.0900 - val_categorical_accuracy: 0.4449 - val_precision: 0.5465 - val_recall: 0.1291 - val_f1: 0.2069\n",
            "Epoch 2/20\n",
            "42/42 - 6s - loss: 1.0758 - categorical_accuracy: 0.4800 - precision: 0.5481 - recall: 0.0770 - f1: 0.1203 - val_loss: 1.1390 - val_categorical_accuracy: 0.4481 - val_precision: 0.4679 - val_recall: 0.4335 - val_f1: 0.4501\n",
            "Epoch 3/20\n",
            "42/42 - 6s - loss: 1.1127 - categorical_accuracy: 0.5413 - precision: 0.6146 - recall: 0.2978 - f1: 0.3934 - val_loss: 1.1804 - val_categorical_accuracy: 0.5455 - val_precision: 0.5707 - val_recall: 0.4767 - val_f1: 0.5224\n",
            "Epoch 4/20\n",
            "42/42 - 6s - loss: 1.1671 - categorical_accuracy: 0.5830 - precision: 0.6348 - recall: 0.4355 - f1: 0.5142 - val_loss: 1.1852 - val_categorical_accuracy: 0.6109 - val_precision: 0.6618 - val_recall: 0.5062 - val_f1: 0.5761\n",
            "Epoch 5/20\n",
            "42/42 - 6s - loss: 1.2013 - categorical_accuracy: 0.5922 - precision: 0.6403 - recall: 0.4704 - f1: 0.5400 - val_loss: 1.1972 - val_categorical_accuracy: 0.6066 - val_precision: 0.7269 - val_recall: 0.3561 - val_f1: 0.4813\n",
            "Epoch 6/20\n",
            "42/42 - 6s - loss: 1.2038 - categorical_accuracy: 0.6011 - precision: 0.6485 - recall: 0.4861 - f1: 0.5561 - val_loss: 1.2112 - val_categorical_accuracy: 0.5886 - val_precision: 0.6003 - val_recall: 0.5607 - val_f1: 0.5835\n",
            "Epoch 7/20\n",
            "42/42 - 6s - loss: 1.1799 - categorical_accuracy: 0.6035 - precision: 0.6486 - recall: 0.4933 - f1: 0.5591 - val_loss: 1.1421 - val_categorical_accuracy: 0.6298 - val_precision: 0.7201 - val_recall: 0.4571 - val_f1: 0.5622\n",
            "Epoch 8/20\n",
            "42/42 - 6s - loss: 1.1752 - categorical_accuracy: 0.6132 - precision: 0.6555 - recall: 0.5183 - f1: 0.5801 - val_loss: 1.1242 - val_categorical_accuracy: 0.6189 - val_precision: 0.6605 - val_recall: 0.5334 - val_f1: 0.5920\n",
            "Epoch 9/20\n",
            "42/42 - 6s - loss: 1.1460 - categorical_accuracy: 0.6196 - precision: 0.6573 - recall: 0.5306 - f1: 0.5879 - val_loss: 1.1401 - val_categorical_accuracy: 0.6189 - val_precision: 0.6401 - val_recall: 0.5744 - val_f1: 0.6098\n",
            "Epoch 10/20\n",
            "42/42 - 6s - loss: 1.1475 - categorical_accuracy: 0.6198 - precision: 0.6579 - recall: 0.5373 - f1: 0.5925 - val_loss: 1.1206 - val_categorical_accuracy: 0.6222 - val_precision: 0.6455 - val_recall: 0.5755 - val_f1: 0.6093\n",
            "Epoch 11/20\n",
            "42/42 - 6s - loss: 1.1092 - categorical_accuracy: 0.6268 - precision: 0.6657 - recall: 0.5476 - f1: 0.6011 - val_loss: 1.1422 - val_categorical_accuracy: 0.6132 - val_precision: 0.6216 - val_recall: 0.5913 - val_f1: 0.6079\n",
            "Epoch 12/20\n",
            "42/42 - 6s - loss: 1.1233 - categorical_accuracy: 0.6260 - precision: 0.6600 - recall: 0.5478 - f1: 0.5977 - val_loss: 1.0983 - val_categorical_accuracy: 0.6348 - val_precision: 0.7020 - val_recall: 0.4934 - val_f1: 0.5822\n",
            "Epoch 13/20\n",
            "42/42 - 7s - loss: 1.1140 - categorical_accuracy: 0.6261 - precision: 0.6649 - recall: 0.5485 - f1: 0.6009 - val_loss: 1.0876 - val_categorical_accuracy: 0.6405 - val_precision: 0.6758 - val_recall: 0.5732 - val_f1: 0.6223\n",
            "Epoch 14/20\n",
            "42/42 - 6s - loss: 1.1026 - categorical_accuracy: 0.6316 - precision: 0.6680 - recall: 0.5561 - f1: 0.6064 - val_loss: 1.1336 - val_categorical_accuracy: 0.6252 - val_precision: 0.6522 - val_recall: 0.5719 - val_f1: 0.6070\n",
            "Epoch 15/20\n",
            "42/42 - 6s - loss: 1.1035 - categorical_accuracy: 0.6360 - precision: 0.6713 - recall: 0.5623 - f1: 0.6106 - val_loss: 1.1153 - val_categorical_accuracy: 0.6317 - val_precision: 0.6706 - val_recall: 0.5552 - val_f1: 0.6107\n",
            "Epoch 16/20\n",
            "42/42 - 6s - loss: 1.1355 - categorical_accuracy: 0.6337 - precision: 0.6708 - recall: 0.5598 - f1: 0.6097 - val_loss: 1.1213 - val_categorical_accuracy: 0.6433 - val_precision: 0.6732 - val_recall: 0.5815 - val_f1: 0.6240\n",
            "Epoch 17/20\n",
            "42/42 - 6s - loss: 1.1256 - categorical_accuracy: 0.6378 - precision: 0.6762 - recall: 0.5615 - f1: 0.6111 - val_loss: 1.1370 - val_categorical_accuracy: 0.6386 - val_precision: 0.6986 - val_recall: 0.5157 - val_f1: 0.5945\n",
            "Epoch 18/20\n",
            "42/42 - 6s - loss: 1.1381 - categorical_accuracy: 0.6344 - precision: 0.6724 - recall: 0.5574 - f1: 0.6118 - val_loss: 1.2446 - val_categorical_accuracy: 0.5947 - val_precision: 0.5972 - val_recall: 0.5835 - val_f1: 0.5933\n",
            "Epoch 19/20\n",
            "42/42 - 7s - loss: 1.1226 - categorical_accuracy: 0.6328 - precision: 0.6705 - recall: 0.5580 - f1: 0.6093 - val_loss: 1.0916 - val_categorical_accuracy: 0.6283 - val_precision: 0.6639 - val_recall: 0.5523 - val_f1: 0.6057\n",
            "Epoch 20/20\n",
            "42/42 - 6s - loss: 1.0792 - categorical_accuracy: 0.6396 - precision: 0.6751 - recall: 0.5652 - f1: 0.6159 - val_loss: 1.0957 - val_categorical_accuracy: 0.6416 - val_precision: 0.6917 - val_recall: 0.5452 - val_f1: 0.6116\n",
            ">Saved models/model_5.h5\n"
          ],
          "name": "stdout"
        }
      ]
    },
    {
      "cell_type": "code",
      "metadata": {
        "colab": {
          "base_uri": "https://localhost:8080/"
        },
        "id": "W6HRRra2zoS3",
        "outputId": "648cd5d3-e6ed-483f-93e6-eae0f5c97953"
      },
      "source": [
        "# stacked generalization with neural net meta model on blobs dataset\n",
        "from sklearn.metrics import accuracy_score\n",
        "from keras.models import load_model\n",
        "from keras.utils import to_categorical\n",
        "from keras.utils import plot_model\n",
        "from keras.models import Model\n",
        "from keras.layers import Input\n",
        "from keras.layers import Dense\n",
        "from keras.layers.merge import concatenate\n",
        "from numpy import argmax\n",
        "\n",
        "# load models from file\n",
        "def load_all_models(n_models):\n",
        "\tall_models = list()\n",
        "\tfor i in range(n_models):\n",
        "\t\t# define filename for this ensemble\n",
        "\t\tfilename = 'models/model_' + str(i + 1) + '.h5'\n",
        "\t\t# load model from file\n",
        "\t\tmodel = load_model(filename,custom_objects={'f1':f1_metrics,'precision':precision_score,'recall':recall_score})\n",
        "\t\t# add to list of members\n",
        "\t\tall_models.append(model)\n",
        "\t\tprint('>loaded %s' % filename)\n",
        "\treturn all_models\n",
        "\n",
        "# define stacked model from multiple member input models\n",
        "def define_stacked_model(members):\n",
        "\t# update all layers in all models to not be trainable\n",
        "\tfor i in range(len(members)):\n",
        "\t\tmodel = members[i]\n",
        "\t\tfor layer in model.layers:\n",
        "\t\t\t# make not trainable\n",
        "\t\t\tlayer.trainable = False\n",
        "\t\t\t# rename to avoid 'unique layer name' issue\n",
        "\t\t\tlayer._name = 'ensemble_' + str(i+1) + '_' + layer.name\n",
        "\t# define multi-headed input\n",
        "\tensemble_visible = [model.input for model in members]\n",
        "\t# concatenate merge output from each model\n",
        "\tensemble_outputs = [model.output for model in members]\n",
        "\tmerge = concatenate(ensemble_outputs)\n",
        "\thidden = Dense(10, activation='relu')(merge)\n",
        "\th1 = Dropout(0.2)(hidden)\n",
        "\th2 = BatchNormalization()(h1)\n",
        "\toutput = Dense(3, activation='softmax')(h2)\n",
        "\tmodel = Model(inputs=ensemble_visible, outputs=output)\n",
        "\t# plot graph of ensemble\n",
        "\tplot_model(model, show_shapes=True, to_file='model_graph.png')\n",
        "\t# compile\n",
        "\tmodel.compile(loss='categorical_crossentropy', optimizer='adam', metrics=Metrics)\n",
        "\treturn model\n",
        "\n",
        "# fit a stacked model\n",
        "def fit_stacked_model(model, inputX, inputy):\n",
        "\t# prepare input data\n",
        "\tX = [inputX for _ in range(len(model.input))]\n",
        "\tnewdev = [X_dev for _ in range(len(model.input))]\n",
        "\t# encode output data\n",
        "\t#inputy_enc = to_categorical(inputy)\n",
        "\t# fit model\n",
        "\thistory=model.fit(X, inputy, epochs=100, verbose=2,validation_data=(newdev, Y_dev_cat))\n",
        "\treturn history\n",
        "\t#model.fit(X, inputy, epochs=20, verbose=2)\n",
        "\n",
        "\n",
        "\n",
        "# make a prediction with a stacked model\n",
        "def predict_stacked_model(model, inputX):\n",
        "\t# prepare input data\n",
        "\tX = [inputX for _ in range(len(model.input))]\n",
        "\t# make prediction\n",
        "\treturn model.predict(X, verbose=0)\n",
        "\n",
        "\n",
        "# load all models\n",
        "n_members = 5\n",
        "members = load_all_models(n_members)\n",
        "print('Loaded %d models' % len(members))\n",
        "# define ensemble model\n",
        "stacked_model = define_stacked_model(members)\n",
        "# fit stacked model on test dataset\n",
        "history = fit_stacked_model(stacked_model, X_train,Y_train_cat)\n",
        "# make predictions and evaluate\n",
        "yhat = predict_stacked_model(stacked_model, X_dev)\n",
        "for i in range(yhat.shape[0]):\n",
        "  emo=np.where(yhat[i]==max(yhat[i]))[0][0]\n",
        "  yhat[i][emo]=1\n",
        "  yhat[i][(emo+1)%3]=0\n",
        "  yhat[i][(emo+2)%3]=0\n",
        "#yhat = np.array(yhat, dtype='int64')\n",
        "acc = accuracy_score(Y_dev_cat, yhat)\n",
        "print('Stacked Test Accuracy: %.3f' % acc)\n",
        "\n"
      ],
      "execution_count": 33,
      "outputs": [
        {
          "output_type": "stream",
          "text": [
            ">loaded models/model_1.h5\n",
            ">loaded models/model_2.h5\n",
            ">loaded models/model_3.h5\n",
            ">loaded models/model_4.h5\n",
            ">loaded models/model_5.h5\n",
            "Loaded 5 models\n",
            "Epoch 1/100\n",
            "1321/1321 - 14s - loss: 1.9811 - categorical_accuracy: 0.6387 - precision: 0.6892 - recall: 0.5398 - f1: 0.5985 - val_loss: 1.9365 - val_categorical_accuracy: 0.6499 - val_precision: 0.6897 - val_recall: 0.5814 - val_f1: 0.6294\n",
            "Epoch 2/100\n",
            "1321/1321 - 11s - loss: 1.9393 - categorical_accuracy: 0.6561 - precision: 0.7055 - recall: 0.5663 - f1: 0.6273 - val_loss: 1.9355 - val_categorical_accuracy: 0.6494 - val_precision: 0.6908 - val_recall: 0.5676 - val_f1: 0.6212\n",
            "Epoch 3/100\n",
            "1321/1321 - 11s - loss: 1.9372 - categorical_accuracy: 0.6549 - precision: 0.7034 - recall: 0.5635 - f1: 0.6249 - val_loss: 1.9329 - val_categorical_accuracy: 0.6482 - val_precision: 0.6915 - val_recall: 0.5750 - val_f1: 0.6264\n",
            "Epoch 4/100\n",
            "1321/1321 - 11s - loss: 1.9357 - categorical_accuracy: 0.6534 - precision: 0.7005 - recall: 0.5644 - f1: 0.6242 - val_loss: 1.9334 - val_categorical_accuracy: 0.6496 - val_precision: 0.6903 - val_recall: 0.5762 - val_f1: 0.6264\n",
            "Epoch 5/100\n",
            "1321/1321 - 11s - loss: 1.9324 - categorical_accuracy: 0.6605 - precision: 0.7061 - recall: 0.5725 - f1: 0.6315 - val_loss: 1.9330 - val_categorical_accuracy: 0.6474 - val_precision: 0.6855 - val_recall: 0.5842 - val_f1: 0.6292\n",
            "Epoch 6/100\n",
            "1321/1321 - 11s - loss: 1.9335 - categorical_accuracy: 0.6565 - precision: 0.7042 - recall: 0.5675 - f1: 0.6277 - val_loss: 1.9350 - val_categorical_accuracy: 0.6490 - val_precision: 0.6854 - val_recall: 0.5878 - val_f1: 0.6315\n",
            "Epoch 7/100\n",
            "1321/1321 - 11s - loss: 1.9334 - categorical_accuracy: 0.6584 - precision: 0.7044 - recall: 0.5674 - f1: 0.6278 - val_loss: 1.9322 - val_categorical_accuracy: 0.6452 - val_precision: 0.6993 - val_recall: 0.5579 - val_f1: 0.6190\n",
            "Epoch 8/100\n",
            "1321/1321 - 11s - loss: 1.9305 - categorical_accuracy: 0.6573 - precision: 0.7076 - recall: 0.5637 - f1: 0.6266 - val_loss: 1.9330 - val_categorical_accuracy: 0.6498 - val_precision: 0.6918 - val_recall: 0.5737 - val_f1: 0.6257\n",
            "Epoch 9/100\n",
            "1321/1321 - 11s - loss: 1.9321 - categorical_accuracy: 0.6594 - precision: 0.7053 - recall: 0.5722 - f1: 0.6311 - val_loss: 1.9313 - val_categorical_accuracy: 0.6516 - val_precision: 0.6892 - val_recall: 0.5843 - val_f1: 0.6309\n",
            "Epoch 10/100\n",
            "1321/1321 - 11s - loss: 1.9309 - categorical_accuracy: 0.6589 - precision: 0.7063 - recall: 0.5715 - f1: 0.6309 - val_loss: 1.9348 - val_categorical_accuracy: 0.6466 - val_precision: 0.6799 - val_recall: 0.5846 - val_f1: 0.6271\n",
            "Epoch 11/100\n",
            "1321/1321 - 11s - loss: 1.9329 - categorical_accuracy: 0.6572 - precision: 0.7057 - recall: 0.5701 - f1: 0.6299 - val_loss: 1.9335 - val_categorical_accuracy: 0.6488 - val_precision: 0.6878 - val_recall: 0.5805 - val_f1: 0.6280\n",
            "Epoch 12/100\n",
            "1321/1321 - 11s - loss: 1.9318 - categorical_accuracy: 0.6580 - precision: 0.7023 - recall: 0.5706 - f1: 0.6291 - val_loss: 1.9300 - val_categorical_accuracy: 0.6503 - val_precision: 0.6902 - val_recall: 0.5766 - val_f1: 0.6267\n",
            "Epoch 13/100\n",
            "1321/1321 - 11s - loss: 1.9325 - categorical_accuracy: 0.6555 - precision: 0.7013 - recall: 0.5676 - f1: 0.6266 - val_loss: 1.9309 - val_categorical_accuracy: 0.6467 - val_precision: 0.6894 - val_recall: 0.5764 - val_f1: 0.6264\n",
            "Epoch 14/100\n",
            "1321/1321 - 11s - loss: 1.9300 - categorical_accuracy: 0.6572 - precision: 0.7054 - recall: 0.5687 - f1: 0.6289 - val_loss: 1.9327 - val_categorical_accuracy: 0.6512 - val_precision: 0.6872 - val_recall: 0.5822 - val_f1: 0.6287\n",
            "Epoch 15/100\n",
            "1321/1321 - 11s - loss: 1.9314 - categorical_accuracy: 0.6567 - precision: 0.7044 - recall: 0.5707 - f1: 0.6298 - val_loss: 1.9332 - val_categorical_accuracy: 0.6492 - val_precision: 0.6804 - val_recall: 0.5936 - val_f1: 0.6327\n",
            "Epoch 16/100\n",
            "1321/1321 - 11s - loss: 1.9289 - categorical_accuracy: 0.6596 - precision: 0.7014 - recall: 0.5755 - f1: 0.6315 - val_loss: 1.9320 - val_categorical_accuracy: 0.6510 - val_precision: 0.6869 - val_recall: 0.5839 - val_f1: 0.6297\n",
            "Epoch 17/100\n",
            "1321/1321 - 11s - loss: 1.9289 - categorical_accuracy: 0.6558 - precision: 0.7041 - recall: 0.5663 - f1: 0.6269 - val_loss: 1.9338 - val_categorical_accuracy: 0.6494 - val_precision: 0.6971 - val_recall: 0.5574 - val_f1: 0.6174\n",
            "Epoch 18/100\n",
            "1321/1321 - 11s - loss: 1.9303 - categorical_accuracy: 0.6563 - precision: 0.7061 - recall: 0.5655 - f1: 0.6272 - val_loss: 1.9329 - val_categorical_accuracy: 0.6508 - val_precision: 0.6913 - val_recall: 0.5779 - val_f1: 0.6280\n",
            "Epoch 19/100\n",
            "1321/1321 - 11s - loss: 1.9328 - categorical_accuracy: 0.6573 - precision: 0.7041 - recall: 0.5682 - f1: 0.6279 - val_loss: 1.9310 - val_categorical_accuracy: 0.6498 - val_precision: 0.6906 - val_recall: 0.5760 - val_f1: 0.6266\n",
            "Epoch 20/100\n",
            "1321/1321 - 11s - loss: 1.9296 - categorical_accuracy: 0.6568 - precision: 0.7054 - recall: 0.5683 - f1: 0.6286 - val_loss: 1.9312 - val_categorical_accuracy: 0.6479 - val_precision: 0.6881 - val_recall: 0.5809 - val_f1: 0.6284\n",
            "Epoch 21/100\n",
            "1321/1321 - 11s - loss: 1.9269 - categorical_accuracy: 0.6567 - precision: 0.7068 - recall: 0.5687 - f1: 0.6294 - val_loss: 1.9320 - val_categorical_accuracy: 0.6488 - val_precision: 0.6936 - val_recall: 0.5649 - val_f1: 0.6208\n",
            "Epoch 22/100\n",
            "1321/1321 - 11s - loss: 1.9307 - categorical_accuracy: 0.6568 - precision: 0.7059 - recall: 0.5628 - f1: 0.6254 - val_loss: 1.9319 - val_categorical_accuracy: 0.6506 - val_precision: 0.6895 - val_recall: 0.5752 - val_f1: 0.6256\n",
            "Epoch 23/100\n",
            "1321/1321 - 11s - loss: 1.9310 - categorical_accuracy: 0.6564 - precision: 0.7046 - recall: 0.5667 - f1: 0.6275 - val_loss: 1.9301 - val_categorical_accuracy: 0.6500 - val_precision: 0.6986 - val_recall: 0.5573 - val_f1: 0.6180\n",
            "Epoch 24/100\n",
            "1321/1321 - 11s - loss: 1.9286 - categorical_accuracy: 0.6562 - precision: 0.7052 - recall: 0.5649 - f1: 0.6266 - val_loss: 1.9316 - val_categorical_accuracy: 0.6511 - val_precision: 0.6893 - val_recall: 0.5827 - val_f1: 0.6301\n",
            "Epoch 25/100\n",
            "1321/1321 - 11s - loss: 1.9304 - categorical_accuracy: 0.6571 - precision: 0.7050 - recall: 0.5655 - f1: 0.6266 - val_loss: 1.9312 - val_categorical_accuracy: 0.6512 - val_precision: 0.6898 - val_recall: 0.5791 - val_f1: 0.6280\n",
            "Epoch 26/100\n",
            "1321/1321 - 11s - loss: 1.9293 - categorical_accuracy: 0.6571 - precision: 0.7064 - recall: 0.5658 - f1: 0.6274 - val_loss: 1.9320 - val_categorical_accuracy: 0.6483 - val_precision: 0.6915 - val_recall: 0.5713 - val_f1: 0.6240\n",
            "Epoch 27/100\n",
            "1321/1321 - 11s - loss: 1.9287 - categorical_accuracy: 0.6582 - precision: 0.7047 - recall: 0.5687 - f1: 0.6286 - val_loss: 1.9306 - val_categorical_accuracy: 0.6507 - val_precision: 0.6893 - val_recall: 0.5783 - val_f1: 0.6275\n",
            "Epoch 28/100\n",
            "1321/1321 - 11s - loss: 1.9318 - categorical_accuracy: 0.6567 - precision: 0.7071 - recall: 0.5652 - f1: 0.6274 - val_loss: 1.9321 - val_categorical_accuracy: 0.6491 - val_precision: 0.6894 - val_recall: 0.5747 - val_f1: 0.6252\n",
            "Epoch 29/100\n",
            "1321/1321 - 11s - loss: 1.9298 - categorical_accuracy: 0.6586 - precision: 0.7070 - recall: 0.5693 - f1: 0.6299 - val_loss: 1.9316 - val_categorical_accuracy: 0.6492 - val_precision: 0.6868 - val_recall: 0.5850 - val_f1: 0.6302\n",
            "Epoch 30/100\n",
            "1321/1321 - 11s - loss: 1.9305 - categorical_accuracy: 0.6602 - precision: 0.7082 - recall: 0.5707 - f1: 0.6312 - val_loss: 1.9303 - val_categorical_accuracy: 0.6527 - val_precision: 0.6935 - val_recall: 0.5668 - val_f1: 0.6218\n",
            "Epoch 31/100\n",
            "1321/1321 - 11s - loss: 1.9290 - categorical_accuracy: 0.6551 - precision: 0.7030 - recall: 0.5641 - f1: 0.6251 - val_loss: 1.9296 - val_categorical_accuracy: 0.6522 - val_precision: 0.6916 - val_recall: 0.5724 - val_f1: 0.6246\n",
            "Epoch 32/100\n",
            "1321/1321 - 11s - loss: 1.9286 - categorical_accuracy: 0.6571 - precision: 0.7048 - recall: 0.5664 - f1: 0.6272 - val_loss: 1.9305 - val_categorical_accuracy: 0.6527 - val_precision: 0.6922 - val_recall: 0.5709 - val_f1: 0.6240\n",
            "Epoch 33/100\n",
            "1321/1321 - 11s - loss: 1.9303 - categorical_accuracy: 0.6577 - precision: 0.7073 - recall: 0.5677 - f1: 0.6292 - val_loss: 1.9320 - val_categorical_accuracy: 0.6510 - val_precision: 0.6901 - val_recall: 0.5821 - val_f1: 0.6299\n",
            "Epoch 34/100\n",
            "1321/1321 - 11s - loss: 1.9290 - categorical_accuracy: 0.6594 - precision: 0.7045 - recall: 0.5688 - f1: 0.6287 - val_loss: 1.9331 - val_categorical_accuracy: 0.6496 - val_precision: 0.6854 - val_recall: 0.5839 - val_f1: 0.6292\n",
            "Epoch 35/100\n",
            "1321/1321 - 11s - loss: 1.9289 - categorical_accuracy: 0.6595 - precision: 0.7064 - recall: 0.5697 - f1: 0.6301 - val_loss: 1.9319 - val_categorical_accuracy: 0.6500 - val_precision: 0.6914 - val_recall: 0.5737 - val_f1: 0.6257\n",
            "Epoch 36/100\n",
            "1321/1321 - 11s - loss: 1.9287 - categorical_accuracy: 0.6600 - precision: 0.7065 - recall: 0.5667 - f1: 0.6281 - val_loss: 1.9337 - val_categorical_accuracy: 0.6487 - val_precision: 0.6904 - val_recall: 0.5750 - val_f1: 0.6258\n",
            "Epoch 37/100\n",
            "1321/1321 - 11s - loss: 1.9302 - categorical_accuracy: 0.6575 - precision: 0.7073 - recall: 0.5667 - f1: 0.6284 - val_loss: 1.9337 - val_categorical_accuracy: 0.6495 - val_precision: 0.6808 - val_recall: 0.5922 - val_f1: 0.6321\n",
            "Epoch 38/100\n",
            "1321/1321 - 11s - loss: 1.9308 - categorical_accuracy: 0.6585 - precision: 0.7064 - recall: 0.5683 - f1: 0.6289 - val_loss: 1.9303 - val_categorical_accuracy: 0.6510 - val_precision: 0.6911 - val_recall: 0.5756 - val_f1: 0.6264\n",
            "Epoch 39/100\n",
            "1321/1321 - 11s - loss: 1.9299 - categorical_accuracy: 0.6557 - precision: 0.7052 - recall: 0.5674 - f1: 0.6281 - val_loss: 1.9321 - val_categorical_accuracy: 0.6522 - val_precision: 0.6911 - val_recall: 0.5772 - val_f1: 0.6274\n",
            "Epoch 40/100\n",
            "1321/1321 - 11s - loss: 1.9311 - categorical_accuracy: 0.6562 - precision: 0.7067 - recall: 0.5640 - f1: 0.6265 - val_loss: 1.9324 - val_categorical_accuracy: 0.6486 - val_precision: 0.6886 - val_recall: 0.5800 - val_f1: 0.6284\n",
            "Epoch 41/100\n",
            "1321/1321 - 11s - loss: 1.9289 - categorical_accuracy: 0.6587 - precision: 0.7067 - recall: 0.5666 - f1: 0.6281 - val_loss: 1.9298 - val_categorical_accuracy: 0.6498 - val_precision: 0.6932 - val_recall: 0.5701 - val_f1: 0.6239\n",
            "Epoch 42/100\n",
            "1321/1321 - 11s - loss: 1.9304 - categorical_accuracy: 0.6548 - precision: 0.7017 - recall: 0.5651 - f1: 0.6253 - val_loss: 1.9294 - val_categorical_accuracy: 0.6503 - val_precision: 0.6930 - val_recall: 0.5661 - val_f1: 0.6216\n",
            "Epoch 43/100\n",
            "1321/1321 - 11s - loss: 1.9300 - categorical_accuracy: 0.6571 - precision: 0.7049 - recall: 0.5679 - f1: 0.6281 - val_loss: 1.9350 - val_categorical_accuracy: 0.6487 - val_precision: 0.6884 - val_recall: 0.5791 - val_f1: 0.6275\n",
            "Epoch 44/100\n",
            "1321/1321 - 11s - loss: 1.9302 - categorical_accuracy: 0.6554 - precision: 0.7040 - recall: 0.5608 - f1: 0.6235 - val_loss: 1.9327 - val_categorical_accuracy: 0.6504 - val_precision: 0.6983 - val_recall: 0.5570 - val_f1: 0.6177\n",
            "Epoch 45/100\n",
            "1321/1321 - 11s - loss: 1.9298 - categorical_accuracy: 0.6556 - precision: 0.7067 - recall: 0.5613 - f1: 0.6249 - val_loss: 1.9315 - val_categorical_accuracy: 0.6508 - val_precision: 0.6907 - val_recall: 0.5798 - val_f1: 0.6289\n",
            "Epoch 46/100\n",
            "1321/1321 - 11s - loss: 1.9300 - categorical_accuracy: 0.6563 - precision: 0.7053 - recall: 0.5637 - f1: 0.6258 - val_loss: 1.9302 - val_categorical_accuracy: 0.6511 - val_precision: 0.6916 - val_recall: 0.5731 - val_f1: 0.6251\n",
            "Epoch 47/100\n",
            "1321/1321 - 11s - loss: 1.9323 - categorical_accuracy: 0.6557 - precision: 0.7047 - recall: 0.5652 - f1: 0.6264 - val_loss: 1.9343 - val_categorical_accuracy: 0.6507 - val_precision: 0.6845 - val_recall: 0.5873 - val_f1: 0.6307\n",
            "Epoch 48/100\n",
            "1321/1321 - 11s - loss: 1.9308 - categorical_accuracy: 0.6576 - precision: 0.7070 - recall: 0.5635 - f1: 0.6262 - val_loss: 1.9314 - val_categorical_accuracy: 0.6507 - val_precision: 0.7003 - val_recall: 0.5515 - val_f1: 0.6148\n",
            "Epoch 49/100\n",
            "1321/1321 - 11s - loss: 1.9316 - categorical_accuracy: 0.6593 - precision: 0.7072 - recall: 0.5668 - f1: 0.6285 - val_loss: 1.9302 - val_categorical_accuracy: 0.6498 - val_precision: 0.6905 - val_recall: 0.5774 - val_f1: 0.6273\n",
            "Epoch 50/100\n",
            "1321/1321 - 11s - loss: 1.9285 - categorical_accuracy: 0.6591 - precision: 0.7064 - recall: 0.5670 - f1: 0.6282 - val_loss: 1.9322 - val_categorical_accuracy: 0.6522 - val_precision: 0.6913 - val_recall: 0.5747 - val_f1: 0.6260\n",
            "Epoch 51/100\n",
            "1321/1321 - 11s - loss: 1.9306 - categorical_accuracy: 0.6577 - precision: 0.7054 - recall: 0.5645 - f1: 0.6262 - val_loss: 1.9300 - val_categorical_accuracy: 0.6512 - val_precision: 0.6984 - val_recall: 0.5542 - val_f1: 0.6161\n",
            "Epoch 52/100\n",
            "1321/1321 - 11s - loss: 1.9309 - categorical_accuracy: 0.6557 - precision: 0.7042 - recall: 0.5605 - f1: 0.6233 - val_loss: 1.9353 - val_categorical_accuracy: 0.6479 - val_precision: 0.6871 - val_recall: 0.5803 - val_f1: 0.6277\n",
            "Epoch 53/100\n",
            "1321/1321 - 11s - loss: 1.9305 - categorical_accuracy: 0.6566 - precision: 0.7043 - recall: 0.5656 - f1: 0.6265 - val_loss: 1.9342 - val_categorical_accuracy: 0.6503 - val_precision: 0.6880 - val_recall: 0.5861 - val_f1: 0.6314\n",
            "Epoch 54/100\n",
            "1321/1321 - 11s - loss: 1.9305 - categorical_accuracy: 0.6567 - precision: 0.7044 - recall: 0.5683 - f1: 0.6282 - val_loss: 1.9316 - val_categorical_accuracy: 0.6515 - val_precision: 0.6924 - val_recall: 0.5720 - val_f1: 0.6248\n",
            "Epoch 55/100\n",
            "1321/1321 - 11s - loss: 1.9303 - categorical_accuracy: 0.6554 - precision: 0.7052 - recall: 0.5627 - f1: 0.6253 - val_loss: 1.9311 - val_categorical_accuracy: 0.6480 - val_precision: 0.6910 - val_recall: 0.5795 - val_f1: 0.6288\n",
            "Epoch 56/100\n",
            "1321/1321 - 11s - loss: 1.9309 - categorical_accuracy: 0.6574 - precision: 0.7055 - recall: 0.5664 - f1: 0.6275 - val_loss: 1.9321 - val_categorical_accuracy: 0.6470 - val_precision: 0.6897 - val_recall: 0.5732 - val_f1: 0.6244\n",
            "Epoch 57/100\n",
            "1321/1321 - 11s - loss: 1.9309 - categorical_accuracy: 0.6553 - precision: 0.7082 - recall: 0.5608 - f1: 0.6252 - val_loss: 1.9336 - val_categorical_accuracy: 0.6507 - val_precision: 0.6872 - val_recall: 0.5822 - val_f1: 0.6288\n",
            "Epoch 58/100\n",
            "1321/1321 - 11s - loss: 1.9282 - categorical_accuracy: 0.6581 - precision: 0.7075 - recall: 0.5690 - f1: 0.6299 - val_loss: 1.9324 - val_categorical_accuracy: 0.6519 - val_precision: 0.6885 - val_recall: 0.5813 - val_f1: 0.6287\n",
            "Epoch 59/100\n",
            "1321/1321 - 11s - loss: 1.9301 - categorical_accuracy: 0.6596 - precision: 0.7083 - recall: 0.5630 - f1: 0.6264 - val_loss: 1.9289 - val_categorical_accuracy: 0.6521 - val_precision: 0.6947 - val_recall: 0.5665 - val_f1: 0.6222\n",
            "Epoch 60/100\n",
            "1321/1321 - 11s - loss: 1.9291 - categorical_accuracy: 0.6605 - precision: 0.7093 - recall: 0.5657 - f1: 0.6286 - val_loss: 1.9313 - val_categorical_accuracy: 0.6490 - val_precision: 0.6872 - val_recall: 0.5815 - val_f1: 0.6284\n",
            "Epoch 61/100\n",
            "1321/1321 - 11s - loss: 1.9297 - categorical_accuracy: 0.6602 - precision: 0.7091 - recall: 0.5699 - f1: 0.6310 - val_loss: 1.9309 - val_categorical_accuracy: 0.6512 - val_precision: 0.6913 - val_recall: 0.5763 - val_f1: 0.6269\n",
            "Epoch 62/100\n",
            "1321/1321 - 11s - loss: 1.9286 - categorical_accuracy: 0.6584 - precision: 0.7070 - recall: 0.5710 - f1: 0.6308 - val_loss: 1.9313 - val_categorical_accuracy: 0.6538 - val_precision: 0.6982 - val_recall: 0.5589 - val_f1: 0.6187\n",
            "Epoch 63/100\n",
            "1321/1321 - 11s - loss: 1.9265 - categorical_accuracy: 0.6598 - precision: 0.7102 - recall: 0.5654 - f1: 0.6286 - val_loss: 1.9301 - val_categorical_accuracy: 0.6495 - val_precision: 0.6961 - val_recall: 0.5638 - val_f1: 0.6210\n",
            "Epoch 64/100\n",
            "1321/1321 - 11s - loss: 1.9266 - categorical_accuracy: 0.6598 - precision: 0.7101 - recall: 0.5620 - f1: 0.6265 - val_loss: 1.9317 - val_categorical_accuracy: 0.6495 - val_precision: 0.6859 - val_recall: 0.5858 - val_f1: 0.6303\n",
            "Epoch 65/100\n",
            "1321/1321 - 11s - loss: 1.9296 - categorical_accuracy: 0.6590 - precision: 0.7061 - recall: 0.5682 - f1: 0.6289 - val_loss: 1.9320 - val_categorical_accuracy: 0.6502 - val_precision: 0.6929 - val_recall: 0.5723 - val_f1: 0.6251\n",
            "Epoch 66/100\n",
            "1321/1321 - 11s - loss: 1.9313 - categorical_accuracy: 0.6582 - precision: 0.7056 - recall: 0.5660 - f1: 0.6274 - val_loss: 1.9310 - val_categorical_accuracy: 0.6507 - val_precision: 0.6888 - val_recall: 0.5794 - val_f1: 0.6276\n",
            "Epoch 67/100\n",
            "1321/1321 - 11s - loss: 1.9294 - categorical_accuracy: 0.6595 - precision: 0.7081 - recall: 0.5692 - f1: 0.6305 - val_loss: 1.9302 - val_categorical_accuracy: 0.6498 - val_precision: 0.6887 - val_recall: 0.5807 - val_f1: 0.6286\n",
            "Epoch 68/100\n",
            "1321/1321 - 11s - loss: 1.9267 - categorical_accuracy: 0.6604 - precision: 0.7095 - recall: 0.5669 - f1: 0.6293 - val_loss: 1.9326 - val_categorical_accuracy: 0.6507 - val_precision: 0.6860 - val_recall: 0.5841 - val_f1: 0.6294\n",
            "Epoch 69/100\n",
            "1321/1321 - 11s - loss: 1.9301 - categorical_accuracy: 0.6587 - precision: 0.7091 - recall: 0.5648 - f1: 0.6279 - val_loss: 1.9315 - val_categorical_accuracy: 0.6500 - val_precision: 0.6878 - val_recall: 0.5794 - val_f1: 0.6273\n",
            "Epoch 70/100\n",
            "1321/1321 - 11s - loss: 1.9309 - categorical_accuracy: 0.6576 - precision: 0.7059 - recall: 0.5662 - f1: 0.6276 - val_loss: 1.9294 - val_categorical_accuracy: 0.6495 - val_precision: 0.6918 - val_recall: 0.5741 - val_f1: 0.6259\n",
            "Epoch 71/100\n",
            "1321/1321 - 11s - loss: 1.9304 - categorical_accuracy: 0.6560 - precision: 0.7070 - recall: 0.5625 - f1: 0.6256 - val_loss: 1.9328 - val_categorical_accuracy: 0.6462 - val_precision: 0.6916 - val_recall: 0.5630 - val_f1: 0.6187\n",
            "Epoch 72/100\n",
            "1321/1321 - 11s - loss: 1.9298 - categorical_accuracy: 0.6600 - precision: 0.7077 - recall: 0.5663 - f1: 0.6283 - val_loss: 1.9305 - val_categorical_accuracy: 0.6478 - val_precision: 0.6892 - val_recall: 0.5759 - val_f1: 0.6258\n",
            "Epoch 73/100\n",
            "1321/1321 - 11s - loss: 1.9294 - categorical_accuracy: 0.6579 - precision: 0.7069 - recall: 0.5697 - f1: 0.6301 - val_loss: 1.9298 - val_categorical_accuracy: 0.6503 - val_precision: 0.6928 - val_recall: 0.5712 - val_f1: 0.6243\n",
            "Epoch 74/100\n",
            "1321/1321 - 11s - loss: 1.9286 - categorical_accuracy: 0.6578 - precision: 0.7084 - recall: 0.5630 - f1: 0.6265 - val_loss: 1.9333 - val_categorical_accuracy: 0.6502 - val_precision: 0.6796 - val_recall: 0.5929 - val_f1: 0.6320\n",
            "Epoch 75/100\n",
            "1321/1321 - 11s - loss: 1.9275 - categorical_accuracy: 0.6597 - precision: 0.7068 - recall: 0.5704 - f1: 0.6305 - val_loss: 1.9320 - val_categorical_accuracy: 0.6479 - val_precision: 0.6887 - val_recall: 0.5762 - val_f1: 0.6258\n",
            "Epoch 76/100\n",
            "1321/1321 - 11s - loss: 1.9283 - categorical_accuracy: 0.6598 - precision: 0.7069 - recall: 0.5696 - f1: 0.6302 - val_loss: 1.9312 - val_categorical_accuracy: 0.6495 - val_precision: 0.6893 - val_recall: 0.5762 - val_f1: 0.6260\n",
            "Epoch 77/100\n",
            "1321/1321 - 11s - loss: 1.9300 - categorical_accuracy: 0.6583 - precision: 0.7065 - recall: 0.5640 - f1: 0.6263 - val_loss: 1.9330 - val_categorical_accuracy: 0.6502 - val_precision: 0.6884 - val_recall: 0.5787 - val_f1: 0.6273\n",
            "Epoch 78/100\n",
            "1321/1321 - 11s - loss: 1.9302 - categorical_accuracy: 0.6572 - precision: 0.7052 - recall: 0.5644 - f1: 0.6262 - val_loss: 1.9312 - val_categorical_accuracy: 0.6498 - val_precision: 0.6907 - val_recall: 0.5782 - val_f1: 0.6279\n",
            "Epoch 79/100\n",
            "1321/1321 - 11s - loss: 1.9302 - categorical_accuracy: 0.6566 - precision: 0.7042 - recall: 0.5665 - f1: 0.6271 - val_loss: 1.9291 - val_categorical_accuracy: 0.6506 - val_precision: 0.6902 - val_recall: 0.5771 - val_f1: 0.6271\n",
            "Epoch 80/100\n",
            "1321/1321 - 11s - loss: 1.9275 - categorical_accuracy: 0.6584 - precision: 0.7083 - recall: 0.5646 - f1: 0.6274 - val_loss: 1.9321 - val_categorical_accuracy: 0.6508 - val_precision: 0.6961 - val_recall: 0.5574 - val_f1: 0.6171\n",
            "Epoch 81/100\n",
            "1321/1321 - 11s - loss: 1.9305 - categorical_accuracy: 0.6588 - precision: 0.7080 - recall: 0.5625 - f1: 0.6261 - val_loss: 1.9322 - val_categorical_accuracy: 0.6500 - val_precision: 0.6893 - val_recall: 0.5819 - val_f1: 0.6294\n",
            "Epoch 82/100\n",
            "1321/1321 - 11s - loss: 1.9285 - categorical_accuracy: 0.6588 - precision: 0.7085 - recall: 0.5661 - f1: 0.6284 - val_loss: 1.9304 - val_categorical_accuracy: 0.6521 - val_precision: 0.6917 - val_recall: 0.5739 - val_f1: 0.6255\n",
            "Epoch 83/100\n",
            "1321/1321 - 11s - loss: 1.9254 - categorical_accuracy: 0.6585 - precision: 0.7069 - recall: 0.5639 - f1: 0.6265 - val_loss: 1.9319 - val_categorical_accuracy: 0.6490 - val_precision: 0.6921 - val_recall: 0.5661 - val_f1: 0.6211\n",
            "Epoch 84/100\n",
            "1321/1321 - 11s - loss: 1.9292 - categorical_accuracy: 0.6560 - precision: 0.7079 - recall: 0.5616 - f1: 0.6253 - val_loss: 1.9315 - val_categorical_accuracy: 0.6484 - val_precision: 0.6944 - val_recall: 0.5621 - val_f1: 0.6196\n",
            "Epoch 85/100\n",
            "1321/1321 - 11s - loss: 1.9279 - categorical_accuracy: 0.6566 - precision: 0.7067 - recall: 0.5629 - f1: 0.6257 - val_loss: 1.9317 - val_categorical_accuracy: 0.6504 - val_precision: 0.6875 - val_recall: 0.5806 - val_f1: 0.6280\n",
            "Epoch 86/100\n",
            "1321/1321 - 11s - loss: 1.9277 - categorical_accuracy: 0.6590 - precision: 0.7078 - recall: 0.5655 - f1: 0.6280 - val_loss: 1.9333 - val_categorical_accuracy: 0.6486 - val_precision: 0.6861 - val_recall: 0.5791 - val_f1: 0.6266\n",
            "Epoch 87/100\n",
            "1321/1321 - 11s - loss: 1.9298 - categorical_accuracy: 0.6571 - precision: 0.7082 - recall: 0.5654 - f1: 0.6280 - val_loss: 1.9310 - val_categorical_accuracy: 0.6496 - val_precision: 0.6915 - val_recall: 0.5737 - val_f1: 0.6254\n",
            "Epoch 88/100\n",
            "1321/1321 - 11s - loss: 1.9296 - categorical_accuracy: 0.6564 - precision: 0.7066 - recall: 0.5636 - f1: 0.6262 - val_loss: 1.9326 - val_categorical_accuracy: 0.6511 - val_precision: 0.6871 - val_recall: 0.5827 - val_f1: 0.6291\n",
            "Epoch 89/100\n",
            "1321/1321 - 11s - loss: 1.9285 - categorical_accuracy: 0.6564 - precision: 0.7047 - recall: 0.5666 - f1: 0.6273 - val_loss: 1.9311 - val_categorical_accuracy: 0.6500 - val_precision: 0.6866 - val_recall: 0.5846 - val_f1: 0.6299\n",
            "Epoch 90/100\n",
            "1321/1321 - 11s - loss: 1.9316 - categorical_accuracy: 0.6576 - precision: 0.7076 - recall: 0.5612 - f1: 0.6251 - val_loss: 1.9313 - val_categorical_accuracy: 0.6496 - val_precision: 0.6958 - val_recall: 0.5682 - val_f1: 0.6237\n",
            "Epoch 91/100\n",
            "1321/1321 - 11s - loss: 1.9309 - categorical_accuracy: 0.6563 - precision: 0.7072 - recall: 0.5618 - f1: 0.6254 - val_loss: 1.9290 - val_categorical_accuracy: 0.6504 - val_precision: 0.6947 - val_recall: 0.5648 - val_f1: 0.6211\n",
            "Epoch 92/100\n",
            "1321/1321 - 11s - loss: 1.9298 - categorical_accuracy: 0.6578 - precision: 0.7093 - recall: 0.5655 - f1: 0.6285 - val_loss: 1.9309 - val_categorical_accuracy: 0.6511 - val_precision: 0.6896 - val_recall: 0.5794 - val_f1: 0.6281\n",
            "Epoch 93/100\n",
            "1321/1321 - 11s - loss: 1.9278 - categorical_accuracy: 0.6564 - precision: 0.7066 - recall: 0.5651 - f1: 0.6272 - val_loss: 1.9309 - val_categorical_accuracy: 0.6514 - val_precision: 0.6894 - val_recall: 0.5809 - val_f1: 0.6288\n",
            "Epoch 94/100\n",
            "1321/1321 - 11s - loss: 1.9312 - categorical_accuracy: 0.6567 - precision: 0.7080 - recall: 0.5639 - f1: 0.6269 - val_loss: 1.9307 - val_categorical_accuracy: 0.6516 - val_precision: 0.6945 - val_recall: 0.5713 - val_f1: 0.6253\n",
            "Epoch 95/100\n",
            "1321/1321 - 11s - loss: 1.9296 - categorical_accuracy: 0.6566 - precision: 0.7076 - recall: 0.5638 - f1: 0.6267 - val_loss: 1.9307 - val_categorical_accuracy: 0.6494 - val_precision: 0.6985 - val_recall: 0.5559 - val_f1: 0.6170\n",
            "Epoch 96/100\n",
            "1321/1321 - 11s - loss: 1.9290 - categorical_accuracy: 0.6566 - precision: 0.7074 - recall: 0.5612 - f1: 0.6250 - val_loss: 1.9307 - val_categorical_accuracy: 0.6526 - val_precision: 0.6940 - val_recall: 0.5693 - val_f1: 0.6237\n",
            "Epoch 97/100\n",
            "1321/1321 - 11s - loss: 1.9291 - categorical_accuracy: 0.6572 - precision: 0.7055 - recall: 0.5661 - f1: 0.6273 - val_loss: 1.9306 - val_categorical_accuracy: 0.6521 - val_precision: 0.6889 - val_recall: 0.5791 - val_f1: 0.6277\n",
            "Epoch 98/100\n",
            "1321/1321 - 11s - loss: 1.9302 - categorical_accuracy: 0.6575 - precision: 0.7068 - recall: 0.5628 - f1: 0.6258 - val_loss: 1.9293 - val_categorical_accuracy: 0.6518 - val_precision: 0.6933 - val_recall: 0.5668 - val_f1: 0.6219\n",
            "Epoch 99/100\n",
            "1321/1321 - 12s - loss: 1.9311 - categorical_accuracy: 0.6549 - precision: 0.7055 - recall: 0.5602 - f1: 0.6238 - val_loss: 1.9303 - val_categorical_accuracy: 0.6523 - val_precision: 0.6906 - val_recall: 0.5782 - val_f1: 0.6277\n",
            "Epoch 100/100\n",
            "1321/1321 - 11s - loss: 1.9295 - categorical_accuracy: 0.6563 - precision: 0.7070 - recall: 0.5636 - f1: 0.6263 - val_loss: 1.9314 - val_categorical_accuracy: 0.6499 - val_precision: 0.6945 - val_recall: 0.5636 - val_f1: 0.6204\n",
            "Stacked Test Accuracy: 0.650\n"
          ],
          "name": "stdout"
        }
      ]
    },
    {
      "cell_type": "code",
      "metadata": {
        "id": "dZu8WW4iWL_m"
      },
      "source": [
        "def plot_metrics(history):\n",
        "  metrics = ['loss', 'categorical_accuracy', 'precision', 'recall', 'f1']\n",
        "  for n, metric in enumerate(metrics):\n",
        "    name = metric.replace(\"_\",\" \").capitalize()\n",
        "    plt.subplot(2,3,n+1)\n",
        "    plt.plot(history.epoch, history.history[metric], color=colors[0], label='Train')\n",
        "    plt.plot(history.epoch, history.history['val_'+metric],\n",
        "             color=colors[0], linestyle=\"--\", label='Val')\n",
        "    plt.xlabel('Epoch')\n",
        "    plt.ylabel(name)\n",
        "    if metric == 'loss':\n",
        "      plt.ylim([0, plt.ylim()[1]])\n",
        "    else:\n",
        "      plt.ylim([0,1])\n",
        "\n",
        "    plt.legend()"
      ],
      "execution_count": 34,
      "outputs": []
    },
    {
      "cell_type": "code",
      "metadata": {
        "colab": {
          "base_uri": "https://localhost:8080/",
          "height": 610
        },
        "id": "5PPmhGLrWObi",
        "outputId": "e293bbcc-07ad-4cf3-90c0-e1a2e7c1c37b"
      },
      "source": [
        "colors = plt.rcParams['axes.prop_cycle'].by_key()['color']\n",
        "plt.rcParams['figure.figsize'] = 15, 10\n",
        "plot_metrics(history)"
      ],
      "execution_count": 35,
      "outputs": [
        {
          "output_type": "display_data",
          "data": {
            "image/png": "[encoded data removed]",
            "text/plain": [
              "<Figure size 1080x720 with 5 Axes>"
            ]
          },
          "metadata": {
            "tags": [],
            "needs_background": "light"
          }
        }
      ]
    }
  ]
}