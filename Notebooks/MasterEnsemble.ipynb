{
  "nbformat": 4,
  "nbformat_minor": 0,
  "metadata": {
    "kernelspec": {
      "display_name": "Python 3",
      "language": "python",
      "name": "python3"
    },
    "language_info": {
      "codemirror_mode": {
        "name": "ipython",
        "version": 3
      },
      "file_extension": ".py",
      "mimetype": "text/x-python",
      "name": "python",
      "nbconvert_exporter": "python",
      "pygments_lexer": "ipython3",
      "version": "3.7.9"
    },
    "colab": {
      "name": "MasterEnsemble.ipynb",
      "provenance": [],
      "collapsed_sections": [
        "v-uPdpUURUp3",
        "cEu-Sn1fRbbj",
        "d-Si45tRRlNc",
        "fP3fDpqKRtQg",
        "EORyGP0nn98p",
        "gJEcshIInsgV",
        "ilFJHA_NoLKW",
        "80NeEqnQoXyq",
        "iSbv5O_RSGHc",
        "VVFMICNsfqUm"
      ]
    },
    "accelerator": "GPU"
  },
  "cells": [
    {
      "cell_type": "markdown",
      "metadata": {
        "id": "v-uPdpUURUp3"
      },
      "source": [
        "# **1. Import necessary libraries**"
      ]
    },
    {
      "cell_type": "code",
      "metadata": {
        "id": "HxSQ0GBTOx8i"
      },
      "source": [
        "import os\n",
        "import tweepy as tw\n",
        "import pandas as pd\n",
        "import csv\n",
        "import pandas as pd\n",
        "import glob\n",
        "from nltk.corpus import stopwords\n",
        "#from vaderSentiment.vaderSentiment import SentimentIntensityAnalyzer\n",
        "import numpy as np\n",
        "import re\n",
        "from keras.preprocessing.text import Tokenizer\n",
        "from keras.preprocessing.sequence import pad_sequences\n",
        "import tensorflow.keras as keras\n",
        "import tensorflow.keras.layers as layers\n",
        "from sklearn.model_selection import train_test_split\n",
        "import keras.models\n",
        "import matplotlib.pyplot as plt\n",
        "from keras.utils import to_categorical\n",
        "from keras import backend as K\n",
        "from sklearn.metrics import accuracy_score\n",
        "from keras.models import load_model\n",
        "from keras.utils import to_categorical\n",
        "from keras.utils import plot_model\n",
        "from keras.models import Model\n",
        "from keras.layers import Input\n",
        "from keras.layers import Dense\n",
        "from keras.layers import Flatten\n",
        "from keras.layers import BatchNormalization\n",
        "from keras.layers import Dropout\n",
        "from keras.layers.merge import concatenate\n",
        "from numpy import argmax\n",
        "import pickle"
      ],
      "execution_count": 1,
      "outputs": []
    },
    {
      "cell_type": "code",
      "metadata": {
        "colab": {
          "base_uri": "https://localhost:8080/"
        },
        "id": "SFGsFBF0PIN3",
        "outputId": "b3de4b57-c2ab-42dd-86cc-ca2b33c7675d"
      },
      "source": [
        "from google.colab import drive\r\n",
        "drive.mount('/content/drive')"
      ],
      "execution_count": 2,
      "outputs": [
        {
          "output_type": "stream",
          "text": [
            "Mounted at /content/drive\n"
          ],
          "name": "stdout"
        }
      ]
    },
    {
      "cell_type": "markdown",
      "metadata": {
        "id": "cEu-Sn1fRbbj"
      },
      "source": [
        "# **2. Necessary Data Cleaning Functions**"
      ]
    },
    {
      "cell_type": "code",
      "metadata": {
        "id": "H1GQXlPMOx8k"
      },
      "source": [
        "def create_data_corpus(path):\n",
        "  files = glob.glob(path + \"/*.csv\")\n",
        "  df_list = []\n",
        "  \n",
        "  for file in files:\n",
        "    df = pd.read_csv(file, index_col=None, header=0, engine='python')\n",
        "    df_list.append(df)\n",
        "\n",
        "  frame = pd.concat(df_list, axis=0, ignore_index=True)\n",
        "  return frame"
      ],
      "execution_count": 3,
      "outputs": []
    },
    {
      "cell_type": "code",
      "metadata": {
        "id": "Zl2_zX5UOx8n"
      },
      "source": [
        "def remove_pattern(input_txt, pattern):\n",
        "  r = re.findall(pattern, input_txt)\n",
        "  for i in r:\n",
        "    input_txt = re.sub(i, '', input_txt)        \n",
        "  return input_txt"
      ],
      "execution_count": 4,
      "outputs": []
    },
    {
      "cell_type": "code",
      "metadata": {
        "id": "UHMAxp3_Gjea"
      },
      "source": [
        "def clean_tweets(frame, column_name, remove_stop_words=True, lower_case=True, remove_special=True):\r\n",
        "  frame = frame.drop_duplicates().reset_index(drop=True) #remove duplicate rows\r\n",
        "  frame['Tweet_Clean_Text'] = np.vectorize(remove_pattern)(frame[column_name], \"RT @[\\w]*:\") #remove twitter return handle\r\n",
        "  frame.Tweet_Clean_Text = np.vectorize(remove_pattern)(frame['Tweet_Clean_Text'], \"@[\\w]*\") #remove twitter handle\r\n",
        "  frame.Tweet_Clean_Text = np.vectorize(remove_pattern)(frame['Tweet_Clean_Text'], \"https?://[A-Za-z0-9./]*\") #remove URLs\r\n",
        "\r\n",
        "  if remove_special:\r\n",
        "    frame.Tweet_Clean_Text = frame.Tweet_Clean_Text.str.replace(\"[^a-zA-Z#]\", \" \") #remove special characters except for #\r\n",
        "  frame.Tweet_Clean_Text = frame.Tweet_Clean_Text.replace('\\s+', ' ', regex=True) #remove extra spaces in between words\r\n",
        "  if lower_case:\r\n",
        "    frame.Tweet_Clean_Text = frame.Tweet_Clean_Text.apply(lambda x: x.lower())\r\n",
        "  if remove_stop_words:\r\n",
        "    frame.Tweet_Clean_Text = frame.Tweet_Clean_Text.apply(lambda x: ' '.join([word for word in x.split() if word not in stopwords.words('english')])) #remove stop words\r\n",
        "\r\n",
        "  return frame"
      ],
      "execution_count": 5,
      "outputs": []
    },
    {
      "cell_type": "markdown",
      "metadata": {
        "id": "d-Si45tRRlNc"
      },
      "source": [
        "# **3. Preprocess the Dataset(Combined corpus of SemEval2017 + Airlines + subset of Sentiment140) for training the Networks**"
      ]
    },
    {
      "cell_type": "code",
      "metadata": {
        "colab": {
          "base_uri": "https://localhost:8080/",
          "height": 0
        },
        "id": "ueTzZRHxOx8t",
        "outputId": "a4ce2c71-773c-4ff2-f648-62f33f3e784a"
      },
      "source": [
        "mega_frame = create_data_corpus('drive/My Drive/SentimentAnalysis/MegaData') #Use this path only (Modify if needed)\n",
        "mega_frame = clean_tweets(frame=mega_frame, column_name='Column3', remove_stop_words=False, remove_special=False)\n",
        "mega_frame"
      ],
      "execution_count": 6,
      "outputs": [
        {
          "output_type": "execute_result",
          "data": {
            "text/html": [
              "<div>\n",
              "<style scoped>\n",
              "    .dataframe tbody tr th:only-of-type {\n",
              "        vertical-align: middle;\n",
              "    }\n",
              "\n",
              "    .dataframe tbody tr th {\n",
              "        vertical-align: top;\n",
              "    }\n",
              "\n",
              "    .dataframe thead th {\n",
              "        text-align: right;\n",
              "    }\n",
              "</style>\n",
              "<table border=\"1\" class=\"dataframe\">\n",
              "  <thead>\n",
              "    <tr style=\"text-align: right;\">\n",
              "      <th></th>\n",
              "      <th>Column1</th>\n",
              "      <th>Column2</th>\n",
              "      <th>Column3</th>\n",
              "      <th>Tweet_Clean_Text</th>\n",
              "    </tr>\n",
              "  </thead>\n",
              "  <tbody>\n",
              "    <tr>\n",
              "      <th>0</th>\n",
              "      <td>4.343150e+17</td>\n",
              "      <td>negative</td>\n",
              "      <td>@MetroNorth wall to wall people on the platfor...</td>\n",
              "      <td>wall to wall people on the platform at south ...</td>\n",
              "    </tr>\n",
              "    <tr>\n",
              "      <th>1</th>\n",
              "      <td>4.376050e+17</td>\n",
              "      <td>neutral</td>\n",
              "      <td>ang sarap mging panganay. Pag ikaw may kylngan...</td>\n",
              "      <td>ang sarap mging panganay. pag ikaw may kylngan...</td>\n",
              "    </tr>\n",
              "    <tr>\n",
              "      <th>2</th>\n",
              "      <td>4.374240e+17</td>\n",
              "      <td>negative</td>\n",
              "      <td>RT @katie_rohaley: School on Monday is just go...</td>\n",
              "      <td>school on monday is just gonna be a great time</td>\n",
              "    </tr>\n",
              "    <tr>\n",
              "      <th>3</th>\n",
              "      <td>4.368360e+17</td>\n",
              "      <td>negative</td>\n",
              "      <td>Thanks manager for putting me on the schedule ...</td>\n",
              "      <td>thanks manager for putting me on the schedule ...</td>\n",
              "    </tr>\n",
              "    <tr>\n",
              "      <th>4</th>\n",
              "      <td>4.356710e+17</td>\n",
              "      <td>negative</td>\n",
              "      <td>Who needs sleep? It's not like I have a test t...</td>\n",
              "      <td>who needs sleep? it's not like i have a test t...</td>\n",
              "    </tr>\n",
              "    <tr>\n",
              "      <th>...</th>\n",
              "      <td>...</td>\n",
              "      <td>...</td>\n",
              "      <td>...</td>\n",
              "      <td>...</td>\n",
              "    </tr>\n",
              "    <tr>\n",
              "      <th>114213</th>\n",
              "      <td>2.192225e+09</td>\n",
              "      <td>positive</td>\n",
              "      <td>Hahaha! @futureguru100  that was just a work p...</td>\n",
              "      <td>hahaha! that was just a work project... he cou...</td>\n",
              "    </tr>\n",
              "    <tr>\n",
              "      <th>114214</th>\n",
              "      <td>2.191751e+09</td>\n",
              "      <td>positive</td>\n",
              "      <td>And the award for 'Longest Ever Interview' goe...</td>\n",
              "      <td>and the award for 'longest ever interview' goe...</td>\n",
              "    </tr>\n",
              "    <tr>\n",
              "      <th>114215</th>\n",
              "      <td>1.468895e+09</td>\n",
              "      <td>negative</td>\n",
              "      <td>Thinks!!!!!! i should have rented wheelman</td>\n",
              "      <td>thinks!!!!!! i should have rented wheelman</td>\n",
              "    </tr>\n",
              "    <tr>\n",
              "      <th>114216</th>\n",
              "      <td>1.469237e+09</td>\n",
              "      <td>negative</td>\n",
              "      <td>@MaryBethune I hate school right now! You are ...</td>\n",
              "      <td>i hate school right now! you are lucky you do...</td>\n",
              "    </tr>\n",
              "    <tr>\n",
              "      <th>114217</th>\n",
              "      <td>2.192630e+09</td>\n",
              "      <td>positive</td>\n",
              "      <td>@tjeffrey never too early - 10am is late in so...</td>\n",
              "      <td>never too early - 10am is late in some cultures</td>\n",
              "    </tr>\n",
              "  </tbody>\n",
              "</table>\n",
              "<p>114218 rows × 4 columns</p>\n",
              "</div>"
            ],
            "text/plain": [
              "             Column1  ...                                   Tweet_Clean_Text\n",
              "0       4.343150e+17  ...   wall to wall people on the platform at south ...\n",
              "1       4.376050e+17  ...  ang sarap mging panganay. pag ikaw may kylngan...\n",
              "2       4.374240e+17  ...     school on monday is just gonna be a great time\n",
              "3       4.368360e+17  ...  thanks manager for putting me on the schedule ...\n",
              "4       4.356710e+17  ...  who needs sleep? it's not like i have a test t...\n",
              "...              ...  ...                                                ...\n",
              "114213  2.192225e+09  ...  hahaha! that was just a work project... he cou...\n",
              "114214  2.191751e+09  ...  and the award for 'longest ever interview' goe...\n",
              "114215  1.468895e+09  ...        thinks!!!!!! i should have rented wheelman \n",
              "114216  1.469237e+09  ...   i hate school right now! you are lucky you do...\n",
              "114217  2.192630e+09  ...   never too early - 10am is late in some cultures \n",
              "\n",
              "[114218 rows x 4 columns]"
            ]
          },
          "metadata": {
            "tags": []
          },
          "execution_count": 6
        }
      ]
    },
    {
      "cell_type": "markdown",
      "metadata": {
        "id": "fP3fDpqKRtQg"
      },
      "source": [
        "# **4. Build the Inputs to our networks**"
      ]
    },
    {
      "cell_type": "markdown",
      "metadata": {
        "id": "Ta7Ppys_Rxk0"
      },
      "source": [
        "**One-hot encode the labels**"
      ]
    },
    {
      "cell_type": "code",
      "metadata": {
        "colab": {
          "base_uri": "https://localhost:8080/",
          "height": 0
        },
        "id": "b1tquqkVt2qN",
        "outputId": "ad0b373e-b90b-4b96-c10b-104f1eaf1540"
      },
      "source": [
        "mega_frame[\"Sentiment_Value\"] = mega_frame[\"Column2\"].map({\"neutral\": 0, \"positive\": 1, \"negative\": 2})\r\n",
        "labels = to_categorical(mega_frame[\"Sentiment_Value\"], 3)\r\n",
        "mega_frame"
      ],
      "execution_count": 7,
      "outputs": [
        {
          "output_type": "execute_result",
          "data": {
            "text/html": [
              "<div>\n",
              "<style scoped>\n",
              "    .dataframe tbody tr th:only-of-type {\n",
              "        vertical-align: middle;\n",
              "    }\n",
              "\n",
              "    .dataframe tbody tr th {\n",
              "        vertical-align: top;\n",
              "    }\n",
              "\n",
              "    .dataframe thead th {\n",
              "        text-align: right;\n",
              "    }\n",
              "</style>\n",
              "<table border=\"1\" class=\"dataframe\">\n",
              "  <thead>\n",
              "    <tr style=\"text-align: right;\">\n",
              "      <th></th>\n",
              "      <th>Column1</th>\n",
              "      <th>Column2</th>\n",
              "      <th>Column3</th>\n",
              "      <th>Tweet_Clean_Text</th>\n",
              "      <th>Sentiment_Value</th>\n",
              "    </tr>\n",
              "  </thead>\n",
              "  <tbody>\n",
              "    <tr>\n",
              "      <th>0</th>\n",
              "      <td>4.343150e+17</td>\n",
              "      <td>negative</td>\n",
              "      <td>@MetroNorth wall to wall people on the platfor...</td>\n",
              "      <td>wall to wall people on the platform at south ...</td>\n",
              "      <td>2</td>\n",
              "    </tr>\n",
              "    <tr>\n",
              "      <th>1</th>\n",
              "      <td>4.376050e+17</td>\n",
              "      <td>neutral</td>\n",
              "      <td>ang sarap mging panganay. Pag ikaw may kylngan...</td>\n",
              "      <td>ang sarap mging panganay. pag ikaw may kylngan...</td>\n",
              "      <td>0</td>\n",
              "    </tr>\n",
              "    <tr>\n",
              "      <th>2</th>\n",
              "      <td>4.374240e+17</td>\n",
              "      <td>negative</td>\n",
              "      <td>RT @katie_rohaley: School on Monday is just go...</td>\n",
              "      <td>school on monday is just gonna be a great time</td>\n",
              "      <td>2</td>\n",
              "    </tr>\n",
              "    <tr>\n",
              "      <th>3</th>\n",
              "      <td>4.368360e+17</td>\n",
              "      <td>negative</td>\n",
              "      <td>Thanks manager for putting me on the schedule ...</td>\n",
              "      <td>thanks manager for putting me on the schedule ...</td>\n",
              "      <td>2</td>\n",
              "    </tr>\n",
              "    <tr>\n",
              "      <th>4</th>\n",
              "      <td>4.356710e+17</td>\n",
              "      <td>negative</td>\n",
              "      <td>Who needs sleep? It's not like I have a test t...</td>\n",
              "      <td>who needs sleep? it's not like i have a test t...</td>\n",
              "      <td>2</td>\n",
              "    </tr>\n",
              "    <tr>\n",
              "      <th>...</th>\n",
              "      <td>...</td>\n",
              "      <td>...</td>\n",
              "      <td>...</td>\n",
              "      <td>...</td>\n",
              "      <td>...</td>\n",
              "    </tr>\n",
              "    <tr>\n",
              "      <th>114213</th>\n",
              "      <td>2.192225e+09</td>\n",
              "      <td>positive</td>\n",
              "      <td>Hahaha! @futureguru100  that was just a work p...</td>\n",
              "      <td>hahaha! that was just a work project... he cou...</td>\n",
              "      <td>1</td>\n",
              "    </tr>\n",
              "    <tr>\n",
              "      <th>114214</th>\n",
              "      <td>2.191751e+09</td>\n",
              "      <td>positive</td>\n",
              "      <td>And the award for 'Longest Ever Interview' goe...</td>\n",
              "      <td>and the award for 'longest ever interview' goe...</td>\n",
              "      <td>1</td>\n",
              "    </tr>\n",
              "    <tr>\n",
              "      <th>114215</th>\n",
              "      <td>1.468895e+09</td>\n",
              "      <td>negative</td>\n",
              "      <td>Thinks!!!!!! i should have rented wheelman</td>\n",
              "      <td>thinks!!!!!! i should have rented wheelman</td>\n",
              "      <td>2</td>\n",
              "    </tr>\n",
              "    <tr>\n",
              "      <th>114216</th>\n",
              "      <td>1.469237e+09</td>\n",
              "      <td>negative</td>\n",
              "      <td>@MaryBethune I hate school right now! You are ...</td>\n",
              "      <td>i hate school right now! you are lucky you do...</td>\n",
              "      <td>2</td>\n",
              "    </tr>\n",
              "    <tr>\n",
              "      <th>114217</th>\n",
              "      <td>2.192630e+09</td>\n",
              "      <td>positive</td>\n",
              "      <td>@tjeffrey never too early - 10am is late in so...</td>\n",
              "      <td>never too early - 10am is late in some cultures</td>\n",
              "      <td>1</td>\n",
              "    </tr>\n",
              "  </tbody>\n",
              "</table>\n",
              "<p>114218 rows × 5 columns</p>\n",
              "</div>"
            ],
            "text/plain": [
              "             Column1  ... Sentiment_Value\n",
              "0       4.343150e+17  ...               2\n",
              "1       4.376050e+17  ...               0\n",
              "2       4.374240e+17  ...               2\n",
              "3       4.368360e+17  ...               2\n",
              "4       4.356710e+17  ...               2\n",
              "...              ...  ...             ...\n",
              "114213  2.192225e+09  ...               1\n",
              "114214  2.191751e+09  ...               1\n",
              "114215  1.468895e+09  ...               2\n",
              "114216  1.469237e+09  ...               2\n",
              "114217  2.192630e+09  ...               1\n",
              "\n",
              "[114218 rows x 5 columns]"
            ]
          },
          "metadata": {
            "tags": []
          },
          "execution_count": 7
        }
      ]
    },
    {
      "cell_type": "markdown",
      "metadata": {
        "id": "UEyjO7dbR1JN"
      },
      "source": [
        "**Get statistics of our data**"
      ]
    },
    {
      "cell_type": "code",
      "metadata": {
        "colab": {
          "base_uri": "https://localhost:8080/"
        },
        "id": "CYnFABQ1Gd7o",
        "outputId": "8b5ea1f5-dae3-462e-d186-92b171df7556"
      },
      "source": [
        "mega_frame['test'] = mega_frame['Tweet_Clean_Text'].apply(lambda x: len(str(x).split()))\r\n",
        "print(\"mean length of sentence: \" + str(mega_frame.test.mean()))\r\n",
        "print(\"max length of sentence: \" + str(mega_frame.test.max()))\r\n",
        "print(\"std dev length of sentence: \" + str(mega_frame.test.std()))"
      ],
      "execution_count": 8,
      "outputs": [
        {
          "output_type": "stream",
          "text": [
            "mean length of sentence: 15.85478646097813\n",
            "max length of sentence: 39\n",
            "std dev length of sentence: 6.794046007912811\n"
          ],
          "name": "stdout"
        }
      ]
    },
    {
      "cell_type": "markdown",
      "metadata": {
        "id": "yNFkxqFnR48N"
      },
      "source": [
        "**Vectorize and convert text into sequences**"
      ]
    },
    {
      "cell_type": "code",
      "metadata": {
        "colab": {
          "base_uri": "https://localhost:8080/"
        },
        "id": "0BrfvQmpOx8v",
        "outputId": "f1fcc0e2-c08e-4c71-b1c7-a890599dee4a"
      },
      "source": [
        "maxlen = mega_frame.test.max()\n",
        "with open('tokenizer.pickle', 'rb') as handle:\n",
        "  tokenizer = pickle.load(handle)\n",
        "  \n",
        "tokenizer.fit_on_texts(mega_frame['Tweet_Clean_Text'].values)\n",
        "num_features = len(tokenizer.word_index) + 1\n",
        "X = tokenizer.texts_to_sequences(mega_frame['Tweet_Clean_Text'].values)\n",
        "X = pad_sequences(X, maxlen=maxlen, padding='post')\n",
        "\n",
        "print(\"Vocab size: \", num_features)\n",
        "print(\"Input shape: \", X.shape)\n",
        "print(\"Labels shape: \" , labels.shape)"
      ],
      "execution_count": 9,
      "outputs": [
        {
          "output_type": "stream",
          "text": [
            "Vocab size:  73456\n",
            "Input shape:  (114218, 39)\n",
            "Labels shape:  (114218, 3)\n"
          ],
          "name": "stdout"
        }
      ]
    },
    {
      "cell_type": "markdown",
      "metadata": {
        "id": "3gth3qHyR9Q3"
      },
      "source": [
        "**Create Training, Validation, and Test Data splits**"
      ]
    },
    {
      "cell_type": "code",
      "metadata": {
        "id": "n9Cb6FfSOx8w"
      },
      "source": [
        "#FINAL DATASETS (Please note case sensitivity)- TRAINING: (X_train,Y_train)  VALIDATION: (X_val, Y_val)  TEST: (X_test, Y_test)\r\n",
        "\r\n",
        "Y = labels\r\n",
        "\r\n",
        "x_train, X_test, y_train, Y_test = train_test_split(X, Y, test_size = 0.10, random_state = 1)\r\n",
        "\r\n",
        "X_train, X_val, Y_train, Y_val = train_test_split(x_train, y_train, test_size=0.10, random_state=1)"
      ],
      "execution_count": 10,
      "outputs": []
    },
    {
      "cell_type": "markdown",
      "metadata": {
        "id": "EORyGP0nn98p"
      },
      "source": [
        "# **Model helpers (metrics, callbacks, plots)**"
      ]
    },
    {
      "cell_type": "markdown",
      "metadata": {
        "id": "gJEcshIInsgV"
      },
      "source": [
        "### **Metrics**"
      ]
    },
    {
      "cell_type": "code",
      "metadata": {
        "id": "rsnkTWO-Ox8w"
      },
      "source": [
        "def recall_score(y_true, y_pred):\n",
        "    true_positives = K.sum(K.round(K.clip(y_true * y_pred, 0, 1)))\n",
        "    possible_positives = K.sum(K.round(K.clip(y_true, 0, 1)))\n",
        "    recall = true_positives / (possible_positives + K.epsilon())\n",
        "    recall_score.__name__ = 'recall'\n",
        "    return recall\n",
        "\n",
        "def precision_score(y_true, y_pred):\n",
        "    true_positives = K.sum(K.round(K.clip(y_true * y_pred, 0, 1)))\n",
        "    predicted_positives = K.sum(K.round(K.clip(y_pred, 0, 1)))\n",
        "    precision = true_positives / (predicted_positives + K.epsilon())\n",
        "    precision_score.__name__ = 'precision'\n",
        "    return precision\n",
        "\n",
        "def f1_metrics(y_true, y_pred):\n",
        "    precision = precision_score(y_true, y_pred)\n",
        "    recall = recall_score(y_true, y_pred)\n",
        "    f1_metrics.__name__ = 'f1_metrics'\n",
        "    return 2*((precision*recall)/(precision+recall+K.epsilon()))\n",
        "\n",
        "metrics = [\n",
        "           keras.metrics.CategoricalAccuracy(),\n",
        "           keras.metrics.Precision(name='precision'),\n",
        "           keras.metrics.Recall(name='recall'),\n",
        "           f1_metrics,\n",
        "]"
      ],
      "execution_count": 11,
      "outputs": []
    },
    {
      "cell_type": "markdown",
      "metadata": {
        "id": "ilFJHA_NoLKW"
      },
      "source": [
        "### **Training Plots**"
      ]
    },
    {
      "cell_type": "code",
      "metadata": {
        "id": "pZn35DB6oNqh"
      },
      "source": [
        "colors = plt.rcParams['axes.prop_cycle'].by_key()['color']\r\n",
        "plt.rcParams['figure.figsize'] = 15, 10\r\n",
        "\r\n",
        "def plot_metrics(history):\r\n",
        "  metrics = ['loss', 'categorical_accuracy', 'precision', 'recall', 'f1_metrics']\r\n",
        "  for n, metric in enumerate(metrics):\r\n",
        "    name = metric.replace(\"_\",\" \").capitalize()\r\n",
        "    plt.subplot(2,3,n+1)\r\n",
        "    plt.plot(history.epoch, history.history[metric], color=colors[0], label='Train')\r\n",
        "    plt.plot(history.epoch, history.history['val_'+metric],\r\n",
        "             color=colors[0], linestyle=\"--\", label='Val')\r\n",
        "    plt.xlabel('Epoch')\r\n",
        "    plt.ylabel(name)\r\n",
        "    if metric == 'loss':\r\n",
        "      plt.ylim([0, plt.ylim()[1]])\r\n",
        "    else:\r\n",
        "      plt.ylim([0,1])\r\n",
        "\r\n",
        "    plt.legend()"
      ],
      "execution_count": 12,
      "outputs": []
    },
    {
      "cell_type": "markdown",
      "metadata": {
        "id": "80NeEqnQoXyq"
      },
      "source": [
        "### **Callbacks**"
      ]
    },
    {
      "cell_type": "code",
      "metadata": {
        "id": "ryen2akVoaO5"
      },
      "source": [
        "early_stopping_callback = keras.callbacks.EarlyStopping(monitor='val_loss', patience=7)\r\n",
        "\r\n",
        "reduce_lr_callback = keras.callbacks.ReduceLROnPlateau(monitor='val_categorical_accuracy', factor=0.5, patience=3, verbose=1)"
      ],
      "execution_count": 13,
      "outputs": []
    },
    {
      "cell_type": "markdown",
      "metadata": {
        "id": "iSbv5O_RSGHc"
      },
      "source": [
        "# **Ensembling Techniques**"
      ]
    },
    {
      "cell_type": "markdown",
      "metadata": {
        "id": "VVFMICNsfqUm"
      },
      "source": [
        "## **Stacked Predictions**"
      ]
    },
    {
      "cell_type": "code",
      "metadata": {
        "colab": {
          "base_uri": "https://localhost:8080/"
        },
        "id": "btoXteOMOx8y",
        "outputId": "8680dc20-4894-4df9-e7b1-1beba377cccf"
      },
      "source": [
        "# stacked generalization with neural net meta model on blobs dataset\n",
        "\n",
        "# load models from file\n",
        "def load_all_models(model_names):\n",
        "\tall_models = list()\n",
        "\tfor model_name in model_names:\n",
        "\t\t# define filename for this ensemble\n",
        "\t\tfilename = '/content/drive/MyDrive/SentimentAnalysis/Models/' + model_name\n",
        "\t\t# load model from file\n",
        "\t\tmodel = load_model(filename,custom_objects={'f1_metrics':f1_metrics,'precision':precision_score,'recall':recall_score})\n",
        "\t\t# add to list of members\n",
        "\t\tall_models.append(model)\n",
        "\t\tprint('>loaded %s' % filename)\n",
        "\treturn all_models\n",
        "\n",
        "# load all models\n",
        "members = ['LSTM200.h5','LSTM50.h5','LSTM100.h5','LSTM150.h5','LSTM250.h5','FLATCNN[2, 3, 4].h5','FLATCNN[3, 4, 5].h5','FLATCNN[5, 6, 7].h5','FLATCNN[7, 8, 9].h5','FLATCNN[9, 10, 11].h5']\n",
        "members = load_all_models(members)\n",
        "\n",
        "members_lstm = members[0:5]\n",
        "members_cnn = members[5:]\n",
        "\n",
        "print('Loaded %d models' % len(members))"
      ],
      "execution_count": 14,
      "outputs": [
        {
          "output_type": "stream",
          "text": [
            "WARNING:tensorflow:Layer lstm will not use cuDNN kernel since it doesn't meet the cuDNN kernel criteria. It will use generic GPU kernel as fallback when running on GPU\n",
            "WARNING:tensorflow:Layer lstm will not use cuDNN kernel since it doesn't meet the cuDNN kernel criteria. It will use generic GPU kernel as fallback when running on GPU\n",
            "WARNING:tensorflow:Layer lstm will not use cuDNN kernel since it doesn't meet the cuDNN kernel criteria. It will use generic GPU kernel as fallback when running on GPU\n",
            ">loaded /content/drive/MyDrive/SentimentAnalysis/Models/LSTM200.h5\n",
            "WARNING:tensorflow:Layer lstm_3 will not use cuDNN kernel since it doesn't meet the cuDNN kernel criteria. It will use generic GPU kernel as fallback when running on GPU\n",
            "WARNING:tensorflow:Layer lstm_3 will not use cuDNN kernel since it doesn't meet the cuDNN kernel criteria. It will use generic GPU kernel as fallback when running on GPU\n",
            "WARNING:tensorflow:Layer lstm_3 will not use cuDNN kernel since it doesn't meet the cuDNN kernel criteria. It will use generic GPU kernel as fallback when running on GPU\n",
            ">loaded /content/drive/MyDrive/SentimentAnalysis/Models/LSTM50.h5\n",
            "WARNING:tensorflow:Layer lstm_3 will not use cuDNN kernel since it doesn't meet the cuDNN kernel criteria. It will use generic GPU kernel as fallback when running on GPU\n",
            "WARNING:tensorflow:Layer lstm_3 will not use cuDNN kernel since it doesn't meet the cuDNN kernel criteria. It will use generic GPU kernel as fallback when running on GPU\n",
            "WARNING:tensorflow:Layer lstm_3 will not use cuDNN kernel since it doesn't meet the cuDNN kernel criteria. It will use generic GPU kernel as fallback when running on GPU\n",
            ">loaded /content/drive/MyDrive/SentimentAnalysis/Models/LSTM100.h5\n",
            "WARNING:tensorflow:Layer lstm_3 will not use cuDNN kernel since it doesn't meet the cuDNN kernel criteria. It will use generic GPU kernel as fallback when running on GPU\n",
            "WARNING:tensorflow:Layer lstm_3 will not use cuDNN kernel since it doesn't meet the cuDNN kernel criteria. It will use generic GPU kernel as fallback when running on GPU\n",
            "WARNING:tensorflow:Layer lstm_3 will not use cuDNN kernel since it doesn't meet the cuDNN kernel criteria. It will use generic GPU kernel as fallback when running on GPU\n",
            ">loaded /content/drive/MyDrive/SentimentAnalysis/Models/LSTM150.h5\n",
            "WARNING:tensorflow:Layer lstm_4 will not use cuDNN kernel since it doesn't meet the cuDNN kernel criteria. It will use generic GPU kernel as fallback when running on GPU\n",
            "WARNING:tensorflow:Layer lstm_4 will not use cuDNN kernel since it doesn't meet the cuDNN kernel criteria. It will use generic GPU kernel as fallback when running on GPU\n",
            "WARNING:tensorflow:Layer lstm_4 will not use cuDNN kernel since it doesn't meet the cuDNN kernel criteria. It will use generic GPU kernel as fallback when running on GPU\n",
            ">loaded /content/drive/MyDrive/SentimentAnalysis/Models/LSTM250.h5\n",
            ">loaded /content/drive/MyDrive/SentimentAnalysis/Models/FLATCNN[2, 3, 4].h5\n",
            ">loaded /content/drive/MyDrive/SentimentAnalysis/Models/FLATCNN[3, 4, 5].h5\n",
            ">loaded /content/drive/MyDrive/SentimentAnalysis/Models/FLATCNN[5, 6, 7].h5\n",
            ">loaded /content/drive/MyDrive/SentimentAnalysis/Models/FLATCNN[7, 8, 9].h5\n",
            ">loaded /content/drive/MyDrive/SentimentAnalysis/Models/FLATCNN[9, 10, 11].h5\n",
            "Loaded 10 models\n"
          ],
          "name": "stdout"
        }
      ]
    },
    {
      "cell_type": "code",
      "metadata": {
        "id": "ts7nzrr-MLIl",
        "colab": {
          "base_uri": "https://localhost:8080/"
        },
        "outputId": "c62a17d4-19a9-4e0d-c743-b0827b8646c0"
      },
      "source": [
        "for i, model in enumerate(members):\r\n",
        "  model.compile(loss='categorical_crossentropy', optimizer='adam', metrics=metrics)\r\n",
        "  if i<5: \r\n",
        "    print(\"\\nLSTM_Model_{0}\".format(i+1))\r\n",
        "  else:\r\n",
        "    print(\"\\nCNN_Model_{0}\".format(i-4))\r\n",
        "    \r\n",
        "  model.evaluate(X_test, Y_test, batch_size=1000)\r\n"
      ],
      "execution_count": 15,
      "outputs": [
        {
          "output_type": "stream",
          "text": [
            "\n",
            "LSTM_Model_1\n",
            "12/12 [==============================] - 5s 52ms/step - loss: 0.6433 - categorical_accuracy: 0.7230 - precision: 0.7380 - recall: 0.7081 - f1_metrics: 0.7227\n",
            "\n",
            "LSTM_Model_2\n",
            "12/12 [==============================] - 2s 39ms/step - loss: 0.6618 - categorical_accuracy: 0.7194 - precision: 0.7354 - recall: 0.7015 - f1_metrics: 0.7096\n",
            "\n",
            "LSTM_Model_3\n",
            "12/12 [==============================] - 2s 40ms/step - loss: 0.6618 - categorical_accuracy: 0.7174 - precision: 0.7339 - recall: 0.6977 - f1_metrics: 0.7096\n",
            "\n",
            "LSTM_Model_4\n",
            "12/12 [==============================] - 2s 39ms/step - loss: 0.6618 - categorical_accuracy: 0.7166 - precision: 0.7333 - recall: 0.6961 - f1_metrics: 0.7096\n",
            "\n",
            "LSTM_Model_5\n",
            "12/12 [==============================] - 2s 53ms/step - loss: 0.6571 - categorical_accuracy: 0.7162 - precision: 0.7329 - recall: 0.6955 - f1_metrics: 0.7119\n",
            "\n",
            "CNN_Model_1\n",
            "12/12 [==============================] - 30s 38ms/step - loss: 0.7773 - categorical_accuracy: 0.7121 - precision: 0.7289 - recall: 0.6896 - f1_metrics: 0.6669\n",
            "\n",
            "CNN_Model_2\n",
            "12/12 [==============================] - 1s 14ms/step - loss: 0.7773 - categorical_accuracy: 0.7064 - precision: 0.7233 - recall: 0.6816 - f1_metrics: 0.6669\n",
            "\n",
            "CNN_Model_3\n",
            "12/12 [==============================] - 1s 18ms/step - loss: 0.7773 - categorical_accuracy: 0.7022 - precision: 0.7192 - recall: 0.6758 - f1_metrics: 0.6669\n",
            "\n",
            "CNN_Model_4\n",
            "12/12 [==============================] - 1s 16ms/step - loss: 0.7773 - categorical_accuracy: 0.6990 - precision: 0.7160 - recall: 0.6713 - f1_metrics: 0.6669\n",
            "\n",
            "CNN_Model_5\n",
            "12/12 [==============================] - 1s 18ms/step - loss: 0.7773 - categorical_accuracy: 0.6964 - precision: 0.7135 - recall: 0.6678 - f1_metrics: 0.6669\n"
          ],
          "name": "stdout"
        }
      ]
    },
    {
      "cell_type": "code",
      "metadata": {
        "colab": {
          "base_uri": "https://localhost:8080/"
        },
        "id": "3TbS2J7byJoA",
        "outputId": "726e2dbf-0663-4095-a973-b57a65bab985"
      },
      "source": [
        "train_predictions = []\r\n",
        "val_predictions = []\r\n",
        "test_predictions = []\r\n",
        "\r\n",
        "train_lstm_predictions = []\r\n",
        "val_lstm_predictions = []\r\n",
        "test_lstm_predictions = []\r\n",
        "\r\n",
        "train_cnn_predictions = []\r\n",
        "val_cnn_predictions = []\r\n",
        "test_cnn_predictions = []\r\n",
        "\r\n",
        "for model in members:\r\n",
        "  train_predictions.append(model.predict([X_train], batch_size=1024))\r\n",
        "  val_predictions.append(model.predict([X_val], batch_size=1024))\r\n",
        "  test_predictions.append(model.predict([X_test], batch_size=1024))\r\n",
        "  print('Predicted one thing')\r\n",
        "\r\n",
        "for lstm_model in members_lstm:\r\n",
        "  train_lstm_predictions.append(lstm_model.predict([X_train], batch_size=1024))\r\n",
        "  val_lstm_predictions.append(lstm_model.predict([X_val], batch_size=1024))\r\n",
        "  test_lstm_predictions.append(lstm_model.predict([X_test], batch_size=1024))\r\n",
        "  print('Predicted using lstm model')\r\n",
        "\r\n",
        "for cnn_model in members_cnn:\r\n",
        "  train_cnn_predictions.append(cnn_model.predict([X_train], batch_size=1024))\r\n",
        "  val_cnn_predictions.append(cnn_model.predict([X_val], batch_size=1024))\r\n",
        "  test_cnn_predictions.append(cnn_model.predict([X_test], batch_size=1024))\r\n",
        "  print('Predicted using cnn model')\r\n"
      ],
      "execution_count": 16,
      "outputs": [
        {
          "output_type": "stream",
          "text": [
            "Predicted one thing\n",
            "Predicted one thing\n",
            "Predicted one thing\n",
            "Predicted one thing\n",
            "Predicted one thing\n",
            "Predicted one thing\n",
            "Predicted one thing\n",
            "Predicted one thing\n",
            "Predicted one thing\n",
            "Predicted one thing\n",
            "Predicted using lstm model\n",
            "Predicted using lstm model\n",
            "Predicted using lstm model\n",
            "Predicted using lstm model\n",
            "Predicted using lstm model\n",
            "Predicted using cnn model\n",
            "Predicted using cnn model\n",
            "Predicted using cnn model\n",
            "Predicted using cnn model\n",
            "Predicted using cnn model\n"
          ],
          "name": "stdout"
        }
      ]
    },
    {
      "cell_type": "code",
      "metadata": {
        "id": "yPWOodkLl7hj"
      },
      "source": [
        "from keras.layers import BatchNormalization\r\n",
        "def ensemble(predictions, targets, xval, yval):\r\n",
        "    layer_size = len(predictions)\r\n",
        "    inp = Input(shape=(layer_size,3))\r\n",
        "    f0 = Flatten()(inp)\r\n",
        "    d0 = Dropout(0.2)(f0)\r\n",
        "    d0 = Dense(pow(layer_size, 4))(d0)\r\n",
        "    d1 = Dropout(0.2)(d0)\r\n",
        "    d1 = Dense(20 * layer_size)(d1)\r\n",
        "    b = BatchNormalization()(d1)\r\n",
        "    out = Dropout(0.2)(b)\r\n",
        "    out = Dense(3, activation='sigmoid')(out)\r\n",
        "\r\n",
        "    model = Model(inputs=inp, outputs=out)\r\n",
        "    metrics = [\r\n",
        "           keras.metrics.CategoricalAccuracy(),\r\n",
        "           keras.metrics.Precision(name='precision'),\r\n",
        "           keras.metrics.Recall(name='recall'),\r\n",
        "           f1_metrics,\r\n",
        "  ]\r\n",
        "    model.compile(loss='categorical_crossentropy', optimizer='adam', metrics=metrics)\r\n",
        "    model.summary()\r\n",
        "\r\n",
        "    x = np.array(list(zip(*np.squeeze(predictions))))\r\n",
        "    y = targets\r\n",
        "    print(np.shape(x))\r\n",
        "    print(np.shape(y))\r\n",
        "\r\n",
        "    xval = np.array(list(zip(*np.squeeze(xval))))\r\n",
        "    yval = yval\r\n",
        "    \r\n",
        "    history = model.fit(x=x, y=y, epochs=50,batch_size=3000, validation_data=(xval,yval), verbose=2, callbacks=[early_stopping_callback, reduce_lr_callback])\r\n",
        "    #display_model_history(history_flat_CNN) \r\n",
        "    #plot_metrics(history_flat_CNN)\r\n",
        "    return model, history"
      ],
      "execution_count": 17,
      "outputs": []
    },
    {
      "cell_type": "code",
      "metadata": {
        "colab": {
          "base_uri": "https://localhost:8080/"
        },
        "id": "Torxmyr7Ox8z",
        "outputId": "5ed44aca-f1e4-4149-85b0-e5be3251a0bc"
      },
      "source": [
        "y_train_cat = Y_train\r\n",
        "y_val_cat = Y_val\r\n",
        "y_test_cat = Y_test  \r\n",
        "\r\n",
        "# Combined model\r\n",
        "stack_model, history = ensemble(train_predictions, y_train_cat, val_predictions, y_val_cat)\r\n",
        "\r\n",
        "stacked_test_predictions = np.array(list(zip(*np.squeeze(test_predictions))))\r\n",
        "stacked_test_predictions = stack_model.predict(stacked_test_predictions, batch_size=1024)"
      ],
      "execution_count": 18,
      "outputs": [
        {
          "output_type": "stream",
          "text": [
            "Model: \"model\"\n",
            "_________________________________________________________________\n",
            "Layer (type)                 Output Shape              Param #   \n",
            "=================================================================\n",
            "input_1 (InputLayer)         [(None, 10, 3)]           0         \n",
            "_________________________________________________________________\n",
            "flatten (Flatten)            (None, 30)                0         \n",
            "_________________________________________________________________\n",
            "dropout (Dropout)            (None, 30)                0         \n",
            "_________________________________________________________________\n",
            "dense (Dense)                (None, 10000)             310000    \n",
            "_________________________________________________________________\n",
            "dropout_1 (Dropout)          (None, 10000)             0         \n",
            "_________________________________________________________________\n",
            "dense_1 (Dense)              (None, 200)               2000200   \n",
            "_________________________________________________________________\n",
            "batch_normalization (BatchNo (None, 200)               800       \n",
            "_________________________________________________________________\n",
            "dropout_2 (Dropout)          (None, 200)               0         \n",
            "_________________________________________________________________\n",
            "dense_2 (Dense)              (None, 3)                 603       \n",
            "=================================================================\n",
            "Total params: 2,311,603\n",
            "Trainable params: 2,311,203\n",
            "Non-trainable params: 400\n",
            "_________________________________________________________________\n",
            "(92516, 10, 3)\n",
            "(92516, 3)\n",
            "Epoch 1/50\n",
            "31/31 - 2s - loss: 1.1690 - categorical_accuracy: 0.8289 - precision: 0.6946 - recall: 0.8940 - f1_metrics: 0.7836 - val_loss: 2.2782 - val_categorical_accuracy: 0.6946 - val_precision: 0.5432 - val_recall: 0.7946 - val_f1_metrics: 0.6455\n",
            "Epoch 2/50\n",
            "31/31 - 1s - loss: 0.5495 - categorical_accuracy: 0.8485 - precision: 0.6416 - recall: 0.8939 - f1_metrics: 0.7473 - val_loss: 0.9178 - val_categorical_accuracy: 0.6740 - val_precision: 0.4700 - val_recall: 0.8229 - val_f1_metrics: 0.5988\n",
            "Epoch 3/50\n",
            "31/31 - 1s - loss: 0.4349 - categorical_accuracy: 0.8482 - precision: 0.6860 - recall: 0.8874 - f1_metrics: 0.7739 - val_loss: 0.8617 - val_categorical_accuracy: 0.6981 - val_precision: 0.6273 - val_recall: 0.8037 - val_f1_metrics: 0.7052\n",
            "Epoch 4/50\n",
            "31/31 - 1s - loss: 0.4242 - categorical_accuracy: 0.8502 - precision: 0.7061 - recall: 0.8852 - f1_metrics: 0.7856 - val_loss: 0.8661 - val_categorical_accuracy: 0.6966 - val_precision: 0.6368 - val_recall: 0.7811 - val_f1_metrics: 0.7018\n",
            "Epoch 5/50\n",
            "31/31 - 1s - loss: 0.4237 - categorical_accuracy: 0.8498 - precision: 0.7080 - recall: 0.8847 - f1_metrics: 0.7866 - val_loss: 0.8487 - val_categorical_accuracy: 0.6986 - val_precision: 0.6384 - val_recall: 0.7802 - val_f1_metrics: 0.7026\n",
            "Epoch 6/50\n",
            "31/31 - 1s - loss: 0.4217 - categorical_accuracy: 0.8506 - precision: 0.7070 - recall: 0.8883 - f1_metrics: 0.7874 - val_loss: 0.8593 - val_categorical_accuracy: 0.6991 - val_precision: 0.6355 - val_recall: 0.7795 - val_f1_metrics: 0.7004\n",
            "Epoch 7/50\n",
            "31/31 - 1s - loss: 0.4206 - categorical_accuracy: 0.8505 - precision: 0.7088 - recall: 0.8883 - f1_metrics: 0.7884 - val_loss: 0.8500 - val_categorical_accuracy: 0.6997 - val_precision: 0.6359 - val_recall: 0.7794 - val_f1_metrics: 0.7004\n",
            "Epoch 8/50\n",
            "31/31 - 1s - loss: 0.4198 - categorical_accuracy: 0.8498 - precision: 0.7078 - recall: 0.8926 - f1_metrics: 0.7896 - val_loss: 0.8280 - val_categorical_accuracy: 0.7005 - val_precision: 0.6391 - val_recall: 0.7758 - val_f1_metrics: 0.7011\n",
            "Epoch 9/50\n",
            "31/31 - 1s - loss: 0.4193 - categorical_accuracy: 0.8503 - precision: 0.7097 - recall: 0.8961 - f1_metrics: 0.7921 - val_loss: 0.8381 - val_categorical_accuracy: 0.6996 - val_precision: 0.6461 - val_recall: 0.7751 - val_f1_metrics: 0.7051\n",
            "Epoch 10/50\n",
            "31/31 - 1s - loss: 0.4171 - categorical_accuracy: 0.8503 - precision: 0.7069 - recall: 0.8970 - f1_metrics: 0.7907 - val_loss: 0.8219 - val_categorical_accuracy: 0.7018 - val_precision: 0.6446 - val_recall: 0.7806 - val_f1_metrics: 0.7062\n",
            "Epoch 11/50\n",
            "31/31 - 1s - loss: 0.4168 - categorical_accuracy: 0.8503 - precision: 0.7064 - recall: 0.8964 - f1_metrics: 0.7902 - val_loss: 0.8280 - val_categorical_accuracy: 0.7015 - val_precision: 0.6468 - val_recall: 0.7799 - val_f1_metrics: 0.7073\n",
            "Epoch 12/50\n",
            "31/31 - 1s - loss: 0.4147 - categorical_accuracy: 0.8512 - precision: 0.7093 - recall: 0.8988 - f1_metrics: 0.7929 - val_loss: 0.8242 - val_categorical_accuracy: 0.6996 - val_precision: 0.6449 - val_recall: 0.7801 - val_f1_metrics: 0.7067\n",
            "Epoch 13/50\n",
            "31/31 - 1s - loss: 0.4149 - categorical_accuracy: 0.8511 - precision: 0.7079 - recall: 0.9010 - f1_metrics: 0.7929 - val_loss: 0.8119 - val_categorical_accuracy: 0.7005 - val_precision: 0.6438 - val_recall: 0.7807 - val_f1_metrics: 0.7058\n",
            "\n",
            "Epoch 00013: ReduceLROnPlateau reducing learning rate to 0.0005000000237487257.\n",
            "Epoch 14/50\n",
            "31/31 - 1s - loss: 0.4139 - categorical_accuracy: 0.8518 - precision: 0.7097 - recall: 0.9024 - f1_metrics: 0.7945 - val_loss: 0.8232 - val_categorical_accuracy: 0.7010 - val_precision: 0.6466 - val_recall: 0.7797 - val_f1_metrics: 0.7072\n",
            "Epoch 15/50\n",
            "31/31 - 1s - loss: 0.4153 - categorical_accuracy: 0.8507 - precision: 0.7116 - recall: 0.9020 - f1_metrics: 0.7955 - val_loss: 0.8093 - val_categorical_accuracy: 0.7003 - val_precision: 0.6394 - val_recall: 0.7839 - val_f1_metrics: 0.7048\n",
            "Epoch 16/50\n",
            "31/31 - 1s - loss: 0.4150 - categorical_accuracy: 0.8514 - precision: 0.7118 - recall: 0.9045 - f1_metrics: 0.7967 - val_loss: 0.8033 - val_categorical_accuracy: 0.6992 - val_precision: 0.6418 - val_recall: 0.7826 - val_f1_metrics: 0.7056\n",
            "\n",
            "Epoch 00016: ReduceLROnPlateau reducing learning rate to 0.0002500000118743628.\n",
            "Epoch 17/50\n",
            "31/31 - 1s - loss: 0.4137 - categorical_accuracy: 0.8508 - precision: 0.7134 - recall: 0.9034 - f1_metrics: 0.7972 - val_loss: 0.8074 - val_categorical_accuracy: 0.6997 - val_precision: 0.6410 - val_recall: 0.7853 - val_f1_metrics: 0.7060\n",
            "Epoch 18/50\n",
            "31/31 - 1s - loss: 0.4147 - categorical_accuracy: 0.8512 - precision: 0.7128 - recall: 0.9044 - f1_metrics: 0.7973 - val_loss: 0.8056 - val_categorical_accuracy: 0.7000 - val_precision: 0.6395 - val_recall: 0.7851 - val_f1_metrics: 0.7050\n",
            "Epoch 19/50\n",
            "31/31 - 1s - loss: 0.4147 - categorical_accuracy: 0.8514 - precision: 0.7128 - recall: 0.9061 - f1_metrics: 0.7979 - val_loss: 0.8066 - val_categorical_accuracy: 0.7003 - val_precision: 0.6417 - val_recall: 0.7851 - val_f1_metrics: 0.7066\n",
            "\n",
            "Epoch 00019: ReduceLROnPlateau reducing learning rate to 0.0001250000059371814.\n",
            "Epoch 20/50\n",
            "31/31 - 1s - loss: 0.4143 - categorical_accuracy: 0.8514 - precision: 0.7131 - recall: 0.9053 - f1_metrics: 0.7978 - val_loss: 0.8022 - val_categorical_accuracy: 0.6999 - val_precision: 0.6421 - val_recall: 0.7863 - val_f1_metrics: 0.7074\n",
            "Epoch 21/50\n",
            "31/31 - 1s - loss: 0.4128 - categorical_accuracy: 0.8516 - precision: 0.7130 - recall: 0.9050 - f1_metrics: 0.7976 - val_loss: 0.8022 - val_categorical_accuracy: 0.6995 - val_precision: 0.6420 - val_recall: 0.7858 - val_f1_metrics: 0.7072\n",
            "Epoch 22/50\n",
            "31/31 - 1s - loss: 0.4133 - categorical_accuracy: 0.8516 - precision: 0.7134 - recall: 0.9053 - f1_metrics: 0.7980 - val_loss: 0.7993 - val_categorical_accuracy: 0.6997 - val_precision: 0.6404 - val_recall: 0.7878 - val_f1_metrics: 0.7069\n",
            "\n",
            "Epoch 00022: ReduceLROnPlateau reducing learning rate to 6.25000029685907e-05.\n",
            "Epoch 23/50\n",
            "31/31 - 1s - loss: 0.4142 - categorical_accuracy: 0.8503 - precision: 0.7103 - recall: 0.9067 - f1_metrics: 0.7966 - val_loss: 0.7999 - val_categorical_accuracy: 0.7000 - val_precision: 0.6409 - val_recall: 0.7875 - val_f1_metrics: 0.7071\n",
            "Epoch 24/50\n",
            "31/31 - 1s - loss: 0.4134 - categorical_accuracy: 0.8505 - precision: 0.7123 - recall: 0.9061 - f1_metrics: 0.7976 - val_loss: 0.8009 - val_categorical_accuracy: 0.7006 - val_precision: 0.6409 - val_recall: 0.7882 - val_f1_metrics: 0.7073\n",
            "Epoch 25/50\n",
            "31/31 - 1s - loss: 0.4134 - categorical_accuracy: 0.8516 - precision: 0.7116 - recall: 0.9064 - f1_metrics: 0.7973 - val_loss: 0.7989 - val_categorical_accuracy: 0.7003 - val_precision: 0.6411 - val_recall: 0.7877 - val_f1_metrics: 0.7072\n",
            "\n",
            "Epoch 00025: ReduceLROnPlateau reducing learning rate to 3.125000148429535e-05.\n",
            "Epoch 26/50\n",
            "31/31 - 1s - loss: 0.4128 - categorical_accuracy: 0.8516 - precision: 0.7116 - recall: 0.9065 - f1_metrics: 0.7973 - val_loss: 0.7992 - val_categorical_accuracy: 0.7002 - val_precision: 0.6414 - val_recall: 0.7877 - val_f1_metrics: 0.7075\n",
            "Epoch 27/50\n",
            "31/31 - 1s - loss: 0.4141 - categorical_accuracy: 0.8512 - precision: 0.7126 - recall: 0.9058 - f1_metrics: 0.7977 - val_loss: 0.7992 - val_categorical_accuracy: 0.7003 - val_precision: 0.6415 - val_recall: 0.7878 - val_f1_metrics: 0.7076\n",
            "Epoch 28/50\n",
            "31/31 - 1s - loss: 0.4142 - categorical_accuracy: 0.8509 - precision: 0.7119 - recall: 0.9061 - f1_metrics: 0.7974 - val_loss: 0.7985 - val_categorical_accuracy: 0.7005 - val_precision: 0.6413 - val_recall: 0.7880 - val_f1_metrics: 0.7075\n",
            "\n",
            "Epoch 00028: ReduceLROnPlateau reducing learning rate to 1.5625000742147677e-05.\n",
            "Epoch 29/50\n",
            "31/31 - 1s - loss: 0.4131 - categorical_accuracy: 0.8515 - precision: 0.7118 - recall: 0.9059 - f1_metrics: 0.7973 - val_loss: 0.7981 - val_categorical_accuracy: 0.7004 - val_precision: 0.6414 - val_recall: 0.7875 - val_f1_metrics: 0.7075\n",
            "Epoch 30/50\n",
            "31/31 - 1s - loss: 0.4137 - categorical_accuracy: 0.8500 - precision: 0.7107 - recall: 0.9060 - f1_metrics: 0.7965 - val_loss: 0.7982 - val_categorical_accuracy: 0.7004 - val_precision: 0.6411 - val_recall: 0.7878 - val_f1_metrics: 0.7075\n",
            "Epoch 31/50\n",
            "31/31 - 1s - loss: 0.4133 - categorical_accuracy: 0.8513 - precision: 0.7116 - recall: 0.9059 - f1_metrics: 0.7971 - val_loss: 0.7981 - val_categorical_accuracy: 0.7004 - val_precision: 0.6416 - val_recall: 0.7878 - val_f1_metrics: 0.7077\n",
            "\n",
            "Epoch 00031: ReduceLROnPlateau reducing learning rate to 7.812500371073838e-06.\n",
            "Epoch 32/50\n",
            "31/31 - 1s - loss: 0.4160 - categorical_accuracy: 0.8506 - precision: 0.7116 - recall: 0.9058 - f1_metrics: 0.7971 - val_loss: 0.7979 - val_categorical_accuracy: 0.7004 - val_precision: 0.6415 - val_recall: 0.7877 - val_f1_metrics: 0.7077\n",
            "Epoch 33/50\n",
            "31/31 - 1s - loss: 0.4132 - categorical_accuracy: 0.8515 - precision: 0.7121 - recall: 0.9071 - f1_metrics: 0.7978 - val_loss: 0.7981 - val_categorical_accuracy: 0.7004 - val_precision: 0.6417 - val_recall: 0.7874 - val_f1_metrics: 0.7077\n",
            "Epoch 34/50\n",
            "31/31 - 1s - loss: 0.4132 - categorical_accuracy: 0.8503 - precision: 0.7114 - recall: 0.9058 - f1_metrics: 0.7970 - val_loss: 0.7981 - val_categorical_accuracy: 0.7004 - val_precision: 0.6418 - val_recall: 0.7873 - val_f1_metrics: 0.7078\n",
            "\n",
            "Epoch 00034: ReduceLROnPlateau reducing learning rate to 3.906250185536919e-06.\n",
            "Epoch 35/50\n",
            "31/31 - 1s - loss: 0.4131 - categorical_accuracy: 0.8501 - precision: 0.7110 - recall: 0.9063 - f1_metrics: 0.7969 - val_loss: 0.7978 - val_categorical_accuracy: 0.7004 - val_precision: 0.6415 - val_recall: 0.7875 - val_f1_metrics: 0.7076\n",
            "Epoch 36/50\n",
            "31/31 - 1s - loss: 0.4142 - categorical_accuracy: 0.8515 - precision: 0.7117 - recall: 0.9057 - f1_metrics: 0.7971 - val_loss: 0.7981 - val_categorical_accuracy: 0.7004 - val_precision: 0.6416 - val_recall: 0.7873 - val_f1_metrics: 0.7075\n",
            "Epoch 37/50\n",
            "31/31 - 1s - loss: 0.4127 - categorical_accuracy: 0.8523 - precision: 0.7119 - recall: 0.9070 - f1_metrics: 0.7977 - val_loss: 0.7980 - val_categorical_accuracy: 0.7004 - val_precision: 0.6414 - val_recall: 0.7873 - val_f1_metrics: 0.7075\n",
            "\n",
            "Epoch 00037: ReduceLROnPlateau reducing learning rate to 1.9531250927684596e-06.\n",
            "Epoch 38/50\n",
            "31/31 - 1s - loss: 0.4143 - categorical_accuracy: 0.8509 - precision: 0.7117 - recall: 0.9053 - f1_metrics: 0.7969 - val_loss: 0.7980 - val_categorical_accuracy: 0.7004 - val_precision: 0.6415 - val_recall: 0.7874 - val_f1_metrics: 0.7075\n",
            "Epoch 39/50\n",
            "31/31 - 1s - loss: 0.4126 - categorical_accuracy: 0.8507 - precision: 0.7111 - recall: 0.9064 - f1_metrics: 0.7970 - val_loss: 0.7978 - val_categorical_accuracy: 0.7004 - val_precision: 0.6414 - val_recall: 0.7873 - val_f1_metrics: 0.7074\n",
            "Epoch 40/50\n",
            "31/31 - 1s - loss: 0.4145 - categorical_accuracy: 0.8508 - precision: 0.7131 - recall: 0.9063 - f1_metrics: 0.7982 - val_loss: 0.7978 - val_categorical_accuracy: 0.7004 - val_precision: 0.6415 - val_recall: 0.7874 - val_f1_metrics: 0.7075\n",
            "\n",
            "Epoch 00040: ReduceLROnPlateau reducing learning rate to 9.765625463842298e-07.\n",
            "Epoch 41/50\n",
            "31/31 - 1s - loss: 0.4130 - categorical_accuracy: 0.8513 - precision: 0.7127 - recall: 0.9057 - f1_metrics: 0.7978 - val_loss: 0.7976 - val_categorical_accuracy: 0.7004 - val_precision: 0.6414 - val_recall: 0.7872 - val_f1_metrics: 0.7074\n",
            "Epoch 42/50\n",
            "31/31 - 1s - loss: 0.4140 - categorical_accuracy: 0.8517 - precision: 0.7124 - recall: 0.9063 - f1_metrics: 0.7977 - val_loss: 0.7978 - val_categorical_accuracy: 0.7005 - val_precision: 0.6415 - val_recall: 0.7872 - val_f1_metrics: 0.7075\n",
            "Epoch 43/50\n",
            "31/31 - 1s - loss: 0.4148 - categorical_accuracy: 0.8506 - precision: 0.7110 - recall: 0.9059 - f1_metrics: 0.7967 - val_loss: 0.7978 - val_categorical_accuracy: 0.7004 - val_precision: 0.6414 - val_recall: 0.7873 - val_f1_metrics: 0.7074\n",
            "\n",
            "Epoch 00043: ReduceLROnPlateau reducing learning rate to 4.882812731921149e-07.\n",
            "Epoch 44/50\n",
            "31/31 - 1s - loss: 0.4136 - categorical_accuracy: 0.8522 - precision: 0.7114 - recall: 0.9060 - f1_metrics: 0.7970 - val_loss: 0.7977 - val_categorical_accuracy: 0.7004 - val_precision: 0.6414 - val_recall: 0.7872 - val_f1_metrics: 0.7074\n",
            "Epoch 45/50\n",
            "31/31 - 1s - loss: 0.4137 - categorical_accuracy: 0.8512 - precision: 0.7123 - recall: 0.9056 - f1_metrics: 0.7974 - val_loss: 0.7976 - val_categorical_accuracy: 0.7004 - val_precision: 0.6414 - val_recall: 0.7872 - val_f1_metrics: 0.7074\n",
            "Epoch 46/50\n",
            "31/31 - 1s - loss: 0.4135 - categorical_accuracy: 0.8512 - precision: 0.7123 - recall: 0.9058 - f1_metrics: 0.7974 - val_loss: 0.7977 - val_categorical_accuracy: 0.7004 - val_precision: 0.6414 - val_recall: 0.7872 - val_f1_metrics: 0.7074\n",
            "\n",
            "Epoch 00046: ReduceLROnPlateau reducing learning rate to 2.4414063659605745e-07.\n",
            "Epoch 47/50\n",
            "31/31 - 1s - loss: 0.4140 - categorical_accuracy: 0.8510 - precision: 0.7115 - recall: 0.9055 - f1_metrics: 0.7969 - val_loss: 0.7977 - val_categorical_accuracy: 0.7004 - val_precision: 0.6413 - val_recall: 0.7872 - val_f1_metrics: 0.7074\n",
            "Epoch 48/50\n",
            "31/31 - 1s - loss: 0.4132 - categorical_accuracy: 0.8514 - precision: 0.7127 - recall: 0.9060 - f1_metrics: 0.7978 - val_loss: 0.7977 - val_categorical_accuracy: 0.7004 - val_precision: 0.6413 - val_recall: 0.7872 - val_f1_metrics: 0.7074\n",
            "Epoch 49/50\n",
            "31/31 - 1s - loss: 0.4146 - categorical_accuracy: 0.8508 - precision: 0.7099 - recall: 0.9053 - f1_metrics: 0.7958 - val_loss: 0.7978 - val_categorical_accuracy: 0.7004 - val_precision: 0.6413 - val_recall: 0.7872 - val_f1_metrics: 0.7074\n",
            "\n",
            "Epoch 00049: ReduceLROnPlateau reducing learning rate to 1.2207031829802872e-07.\n",
            "Epoch 50/50\n",
            "31/31 - 1s - loss: 0.4135 - categorical_accuracy: 0.8508 - precision: 0.7111 - recall: 0.9057 - f1_metrics: 0.7967 - val_loss: 0.7979 - val_categorical_accuracy: 0.7004 - val_precision: 0.6414 - val_recall: 0.7873 - val_f1_metrics: 0.7075\n"
          ],
          "name": "stdout"
        }
      ]
    },
    {
      "cell_type": "code",
      "metadata": {
        "colab": {
          "base_uri": "https://localhost:8080/"
        },
        "id": "zy0HBy0D3zFy",
        "outputId": "2391a83d-1ec6-48d8-ca53-0d62a0be6ee9"
      },
      "source": [
        "# Combined lstm models\r\n",
        "stacked_model_lstm, history_stacked_lstm = ensemble(train_lstm_predictions, y_train_cat, val_lstm_predictions, y_val_cat)\r\n",
        "\r\n",
        "stacked_test_lstm_predictions = np.array(list(zip(*np.squeeze(test_lstm_predictions))))\r\n",
        "stacked_test_lstm_predictions = stacked_model_lstm.predict(stacked_test_lstm_predictions, batch_size=1024)"
      ],
      "execution_count": 20,
      "outputs": [
        {
          "output_type": "stream",
          "text": [
            "Model: \"model_2\"\n",
            "_________________________________________________________________\n",
            "Layer (type)                 Output Shape              Param #   \n",
            "=================================================================\n",
            "input_3 (InputLayer)         [(None, 5, 3)]            0         \n",
            "_________________________________________________________________\n",
            "flatten_2 (Flatten)          (None, 15)                0         \n",
            "_________________________________________________________________\n",
            "dropout_6 (Dropout)          (None, 15)                0         \n",
            "_________________________________________________________________\n",
            "dense_6 (Dense)              (None, 625)               10000     \n",
            "_________________________________________________________________\n",
            "dropout_7 (Dropout)          (None, 625)               0         \n",
            "_________________________________________________________________\n",
            "dense_7 (Dense)              (None, 100)               62600     \n",
            "_________________________________________________________________\n",
            "batch_normalization_2 (Batch (None, 100)               400       \n",
            "_________________________________________________________________\n",
            "dropout_8 (Dropout)          (None, 100)               0         \n",
            "_________________________________________________________________\n",
            "dense_8 (Dense)              (None, 3)                 303       \n",
            "=================================================================\n",
            "Total params: 73,303\n",
            "Trainable params: 73,103\n",
            "Non-trainable params: 200\n",
            "_________________________________________________________________\n",
            "(92516, 5, 3)\n",
            "(92516, 3)\n",
            "Epoch 1/50\n",
            "31/31 - 1s - loss: 0.7273 - categorical_accuracy: 0.7720 - precision: 0.6222 - recall: 0.8488 - f1_metrics: 0.7190 - val_loss: 0.8349 - val_categorical_accuracy: 0.7204 - val_precision: 0.7171 - val_recall: 0.7283 - val_f1_metrics: 0.7240\n",
            "Epoch 2/50\n",
            "31/31 - 0s - loss: 0.5764 - categorical_accuracy: 0.7942 - precision: 0.6428 - recall: 0.8687 - f1_metrics: 0.7389 - val_loss: 0.7831 - val_categorical_accuracy: 0.7152 - val_precision: 0.6773 - val_recall: 0.7746 - val_f1_metrics: 0.7241\n",
            "Epoch 3/50\n",
            "31/31 - 0s - loss: 0.5644 - categorical_accuracy: 0.7951 - precision: 0.6499 - recall: 0.8722 - f1_metrics: 0.7449 - val_loss: 0.7419 - val_categorical_accuracy: 0.7160 - val_precision: 0.6572 - val_recall: 0.7963 - val_f1_metrics: 0.7208\n",
            "Epoch 4/50\n",
            "31/31 - 0s - loss: 0.5587 - categorical_accuracy: 0.7955 - precision: 0.6507 - recall: 0.8734 - f1_metrics: 0.7458 - val_loss: 0.7120 - val_categorical_accuracy: 0.7154 - val_precision: 0.6434 - val_recall: 0.8120 - val_f1_metrics: 0.7186\n",
            "\n",
            "Epoch 00004: ReduceLROnPlateau reducing learning rate to 0.0005000000237487257.\n",
            "Epoch 5/50\n",
            "31/31 - 0s - loss: 0.5545 - categorical_accuracy: 0.7974 - precision: 0.6532 - recall: 0.8748 - f1_metrics: 0.7479 - val_loss: 0.6915 - val_categorical_accuracy: 0.7186 - val_precision: 0.6555 - val_recall: 0.8125 - val_f1_metrics: 0.7259\n",
            "Epoch 6/50\n",
            "31/31 - 0s - loss: 0.5530 - categorical_accuracy: 0.7968 - precision: 0.6527 - recall: 0.8756 - f1_metrics: 0.7479 - val_loss: 0.6791 - val_categorical_accuracy: 0.7197 - val_precision: 0.6570 - val_recall: 0.8145 - val_f1_metrics: 0.7278\n",
            "Epoch 7/50\n",
            "31/31 - 0s - loss: 0.5532 - categorical_accuracy: 0.7973 - precision: 0.6541 - recall: 0.8773 - f1_metrics: 0.7495 - val_loss: 0.6739 - val_categorical_accuracy: 0.7208 - val_precision: 0.6585 - val_recall: 0.8136 - val_f1_metrics: 0.7282\n",
            "Epoch 8/50\n",
            "31/31 - 0s - loss: 0.5494 - categorical_accuracy: 0.7988 - precision: 0.6544 - recall: 0.8761 - f1_metrics: 0.7492 - val_loss: 0.6740 - val_categorical_accuracy: 0.7217 - val_precision: 0.6606 - val_recall: 0.8139 - val_f1_metrics: 0.7298\n",
            "Epoch 9/50\n",
            "31/31 - 0s - loss: 0.5477 - categorical_accuracy: 0.7972 - precision: 0.6550 - recall: 0.8765 - f1_metrics: 0.7497 - val_loss: 0.6760 - val_categorical_accuracy: 0.7211 - val_precision: 0.6611 - val_recall: 0.8137 - val_f1_metrics: 0.7299\n",
            "Epoch 10/50\n",
            "31/31 - 0s - loss: 0.5453 - categorical_accuracy: 0.7976 - precision: 0.6569 - recall: 0.8776 - f1_metrics: 0.7514 - val_loss: 0.6779 - val_categorical_accuracy: 0.7219 - val_precision: 0.6632 - val_recall: 0.8105 - val_f1_metrics: 0.7303\n",
            "Epoch 11/50\n",
            "31/31 - 0s - loss: 0.5450 - categorical_accuracy: 0.7977 - precision: 0.6569 - recall: 0.8777 - f1_metrics: 0.7513 - val_loss: 0.6846 - val_categorical_accuracy: 0.7231 - val_precision: 0.6638 - val_recall: 0.8086 - val_f1_metrics: 0.7297\n",
            "Epoch 12/50\n",
            "31/31 - 0s - loss: 0.5442 - categorical_accuracy: 0.7978 - precision: 0.6568 - recall: 0.8768 - f1_metrics: 0.7511 - val_loss: 0.6890 - val_categorical_accuracy: 0.7225 - val_precision: 0.6632 - val_recall: 0.8087 - val_f1_metrics: 0.7295\n",
            "Epoch 13/50\n",
            "31/31 - 0s - loss: 0.5422 - categorical_accuracy: 0.7983 - precision: 0.6577 - recall: 0.8766 - f1_metrics: 0.7515 - val_loss: 0.6924 - val_categorical_accuracy: 0.7234 - val_precision: 0.6651 - val_recall: 0.8062 - val_f1_metrics: 0.7298\n",
            "Epoch 14/50\n",
            "31/31 - 0s - loss: 0.5421 - categorical_accuracy: 0.7994 - precision: 0.6591 - recall: 0.8764 - f1_metrics: 0.7524 - val_loss: 0.6971 - val_categorical_accuracy: 0.7233 - val_precision: 0.6655 - val_recall: 0.8103 - val_f1_metrics: 0.7314\n"
          ],
          "name": "stdout"
        }
      ]
    },
    {
      "cell_type": "code",
      "metadata": {
        "colab": {
          "base_uri": "https://localhost:8080/"
        },
        "id": "vDvRM_IV39m7",
        "outputId": "98cdb21b-8dd0-4349-de70-c470457478ba"
      },
      "source": [
        "# Combined cnn models\r\n",
        "stacked_model_cnn, history_stacked_cnn = ensemble(train_cnn_predictions, y_train_cat, val_cnn_predictions, y_val_cat)\r\n",
        "\r\n",
        "stacked_test_cnn_predictions = np.array(list(zip(*np.squeeze(test_cnn_predictions))))\r\n",
        "stacked_test_cnn_predictions = stacked_model_cnn.predict(stacked_test_cnn_predictions, batch_size=1024)"
      ],
      "execution_count": 22,
      "outputs": [
        {
          "output_type": "stream",
          "text": [
            "Model: \"model_4\"\n",
            "_________________________________________________________________\n",
            "Layer (type)                 Output Shape              Param #   \n",
            "=================================================================\n",
            "input_5 (InputLayer)         [(None, 5, 3)]            0         \n",
            "_________________________________________________________________\n",
            "flatten_4 (Flatten)          (None, 15)                0         \n",
            "_________________________________________________________________\n",
            "dropout_12 (Dropout)         (None, 15)                0         \n",
            "_________________________________________________________________\n",
            "dense_12 (Dense)             (None, 625)               10000     \n",
            "_________________________________________________________________\n",
            "dropout_13 (Dropout)         (None, 625)               0         \n",
            "_________________________________________________________________\n",
            "dense_13 (Dense)             (None, 100)               62600     \n",
            "_________________________________________________________________\n",
            "batch_normalization_4 (Batch (None, 100)               400       \n",
            "_________________________________________________________________\n",
            "dropout_14 (Dropout)         (None, 100)               0         \n",
            "_________________________________________________________________\n",
            "dense_14 (Dense)             (None, 3)                 303       \n",
            "=================================================================\n",
            "Total params: 73,303\n",
            "Trainable params: 73,103\n",
            "Non-trainable params: 200\n",
            "_________________________________________________________________\n",
            "(92516, 5, 3)\n",
            "(92516, 3)\n",
            "Epoch 1/50\n",
            "31/31 - 1s - loss: 0.6407 - categorical_accuracy: 0.8148 - precision: 0.6769 - recall: 0.8617 - f1_metrics: 0.7608 - val_loss: 0.7961 - val_categorical_accuracy: 0.6795 - val_precision: 0.4767 - val_recall: 0.8606 - val_f1_metrics: 0.6138\n",
            "Epoch 2/50\n",
            "31/31 - 0s - loss: 0.4630 - categorical_accuracy: 0.8420 - precision: 0.6850 - recall: 0.8933 - f1_metrics: 0.7755 - val_loss: 0.7697 - val_categorical_accuracy: 0.6778 - val_precision: 0.5755 - val_recall: 0.8357 - val_f1_metrics: 0.6827\n",
            "Epoch 3/50\n",
            "31/31 - 0s - loss: 0.4549 - categorical_accuracy: 0.8435 - precision: 0.6899 - recall: 0.8974 - f1_metrics: 0.7802 - val_loss: 0.7644 - val_categorical_accuracy: 0.6765 - val_precision: 0.5551 - val_recall: 0.8339 - val_f1_metrics: 0.6668\n",
            "Epoch 4/50\n",
            "31/31 - 0s - loss: 0.4526 - categorical_accuracy: 0.8436 - precision: 0.6842 - recall: 0.9004 - f1_metrics: 0.7776 - val_loss: 0.7685 - val_categorical_accuracy: 0.6747 - val_precision: 0.5249 - val_recall: 0.8315 - val_f1_metrics: 0.6438\n",
            "\n",
            "Epoch 00004: ReduceLROnPlateau reducing learning rate to 0.0005000000237487257.\n",
            "Epoch 5/50\n",
            "31/31 - 0s - loss: 0.4489 - categorical_accuracy: 0.8442 - precision: 0.6853 - recall: 0.9047 - f1_metrics: 0.7799 - val_loss: 0.7707 - val_categorical_accuracy: 0.6760 - val_precision: 0.5676 - val_recall: 0.8141 - val_f1_metrics: 0.6687\n",
            "Epoch 6/50\n",
            "31/31 - 0s - loss: 0.4459 - categorical_accuracy: 0.8441 - precision: 0.6821 - recall: 0.9033 - f1_metrics: 0.7773 - val_loss: 0.7816 - val_categorical_accuracy: 0.6762 - val_precision: 0.5917 - val_recall: 0.8028 - val_f1_metrics: 0.6817\n",
            "Epoch 7/50\n",
            "31/31 - 0s - loss: 0.4487 - categorical_accuracy: 0.8446 - precision: 0.6800 - recall: 0.9029 - f1_metrics: 0.7758 - val_loss: 0.7949 - val_categorical_accuracy: 0.6771 - val_precision: 0.5918 - val_recall: 0.8024 - val_f1_metrics: 0.6819\n",
            "\n",
            "Epoch 00007: ReduceLROnPlateau reducing learning rate to 0.0002500000118743628.\n",
            "Epoch 8/50\n",
            "31/31 - 0s - loss: 0.4467 - categorical_accuracy: 0.8446 - precision: 0.6808 - recall: 0.9048 - f1_metrics: 0.7770 - val_loss: 0.8082 - val_categorical_accuracy: 0.6798 - val_precision: 0.6063 - val_recall: 0.7929 - val_f1_metrics: 0.6878\n",
            "Epoch 9/50\n",
            "31/31 - 0s - loss: 0.4466 - categorical_accuracy: 0.8447 - precision: 0.6818 - recall: 0.9039 - f1_metrics: 0.7773 - val_loss: 0.8218 - val_categorical_accuracy: 0.6799 - val_precision: 0.6173 - val_recall: 0.7830 - val_f1_metrics: 0.6907\n",
            "Epoch 10/50\n",
            "31/31 - 0s - loss: 0.4421 - categorical_accuracy: 0.8462 - precision: 0.6822 - recall: 0.9046 - f1_metrics: 0.7778 - val_loss: 0.8351 - val_categorical_accuracy: 0.6811 - val_precision: 0.6171 - val_recall: 0.7829 - val_f1_metrics: 0.6909\n"
          ],
          "name": "stdout"
        }
      ]
    },
    {
      "cell_type": "code",
      "metadata": {
        "colab": {
          "base_uri": "https://localhost:8080/",
          "height": 610
        },
        "id": "Qn62GNUW5A0A",
        "outputId": "3ac1176f-58f6-472d-81bb-bb7f857a7d73"
      },
      "source": [
        "plot_metrics(history)"
      ],
      "execution_count": 23,
      "outputs": [
        {
          "output_type": "display_data",
          "data": {
            "image/png": "[encoded data removed]",
            "text/plain": [
              "<Figure size 1080x720 with 5 Axes>"
            ]
          },
          "metadata": {
            "tags": [],
            "needs_background": "light"
          }
        }
      ]
    },
    {
      "cell_type": "code",
      "metadata": {
        "colab": {
          "base_uri": "https://localhost:8080/",
          "height": 610
        },
        "id": "ItpLGVC65FKW",
        "outputId": "fdfb28c5-6c97-4517-cb3d-d8d90aeaa94f"
      },
      "source": [
        "plot_metrics(history_stacked_lstm)"
      ],
      "execution_count": 24,
      "outputs": [
        {
          "output_type": "display_data",
          "data": {
            "image/png": "[encoded data removed]",
            "text/plain": [
              "<Figure size 1080x720 with 5 Axes>"
            ]
          },
          "metadata": {
            "tags": [],
            "needs_background": "light"
          }
        }
      ]
    },
    {
      "cell_type": "code",
      "metadata": {
        "colab": {
          "base_uri": "https://localhost:8080/",
          "height": 610
        },
        "id": "NFapvkXo5Swg",
        "outputId": "84bbe1b6-6af9-4b9f-d7d3-5813884db940"
      },
      "source": [
        "plot_metrics(history_stacked_cnn)"
      ],
      "execution_count": 25,
      "outputs": [
        {
          "output_type": "display_data",
          "data": {
            "image/png": "[encoded data removed]",
            "text/plain": [
              "<Figure size 1080x720 with 5 Axes>"
            ]
          },
          "metadata": {
            "tags": [],
            "needs_background": "light"
          }
        }
      ]
    },
    {
      "cell_type": "code",
      "metadata": {
        "colab": {
          "base_uri": "https://localhost:8080/"
        },
        "id": "DWJYjYGol_Cs",
        "outputId": "adab4d6a-cb41-4426-ea37-2835bd98faad"
      },
      "source": [
        "stack_model.evaluate(np.array(list(zip(*np.squeeze(test_predictions)))),y_test_cat)"
      ],
      "execution_count": 26,
      "outputs": [
        {
          "output_type": "stream",
          "text": [
            "357/357 [==============================] - 1s 3ms/step - loss: 0.8161 - categorical_accuracy: 0.6923 - precision: 0.6346 - recall: 0.7797 - f1_metrics: 0.7000\n"
          ],
          "name": "stdout"
        },
        {
          "output_type": "execute_result",
          "data": {
            "text/plain": [
              "[0.8161458373069763,\n",
              " 0.6923481225967407,\n",
              " 0.6346468925476074,\n",
              " 0.7797233462333679,\n",
              " 0.7000247240066528]"
            ]
          },
          "metadata": {
            "tags": []
          },
          "execution_count": 26
        }
      ]
    },
    {
      "cell_type": "code",
      "metadata": {
        "colab": {
          "base_uri": "https://localhost:8080/"
        },
        "id": "1ojXRymedsGF",
        "outputId": "b687cc04-7974-4423-c5b1-dbb8213e675c"
      },
      "source": [
        "stacked_model_lstm.evaluate(np.array(list(zip(*np.squeeze(test_lstm_predictions)))),y_test_cat)"
      ],
      "execution_count": 27,
      "outputs": [
        {
          "output_type": "stream",
          "text": [
            "357/357 [==============================] - 1s 3ms/step - loss: 0.6976 - categorical_accuracy: 0.7190 - precision: 0.6626 - recall: 0.8087 - f1_metrics: 0.7288\n"
          ],
          "name": "stdout"
        },
        {
          "output_type": "execute_result",
          "data": {
            "text/plain": [
              "[0.6975862979888916,\n",
              " 0.7189633846282959,\n",
              " 0.6626255512237549,\n",
              " 0.8087025284767151,\n",
              " 0.7287685871124268]"
            ]
          },
          "metadata": {
            "tags": []
          },
          "execution_count": 27
        }
      ]
    },
    {
      "cell_type": "code",
      "metadata": {
        "colab": {
          "base_uri": "https://localhost:8080/"
        },
        "id": "ElcZR71YffbH",
        "outputId": "c5471786-4fb3-4bf3-dcb2-a99da71b8163"
      },
      "source": [
        "stacked_model_cnn.evaluate(np.array(list(zip(*np.squeeze(test_cnn_predictions)))),y_test_cat)"
      ],
      "execution_count": 28,
      "outputs": [
        {
          "output_type": "stream",
          "text": [
            "357/357 [==============================] - 1s 3ms/step - loss: 0.8563 - categorical_accuracy: 0.6724 - precision: 0.6083 - recall: 0.7728 - f1_metrics: 0.6811\n"
          ],
          "name": "stdout"
        },
        {
          "output_type": "execute_result",
          "data": {
            "text/plain": [
              "[0.8562695384025574,\n",
              " 0.672386646270752,\n",
              " 0.6082552075386047,\n",
              " 0.7728068828582764,\n",
              " 0.681106686592102]"
            ]
          },
          "metadata": {
            "tags": []
          },
          "execution_count": 28
        }
      ]
    }
  ]
}