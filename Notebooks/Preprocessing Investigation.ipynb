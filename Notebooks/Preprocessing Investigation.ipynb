{
 "cells": [
  {
   "cell_type": "markdown",
   "metadata": {},
   "source": [
    "Borrowed Heavily from https://www.kaggle.com/nitin194/twitter-sentiment-analysis-word2vec-doc2vec"
   ]
  },
  {
   "cell_type": "code",
   "execution_count": 2,
   "metadata": {},
   "outputs": [],
   "source": [
    "import re\n",
    "import nltk\n",
    "import string\n",
    "import warnings\n",
    "import numpy as np\n",
    "import pandas as pd\n",
    "import seaborn as sns\n",
    "import matplotlib.pyplot as plt\n",
    "import gensim\n",
    "from nltk.stem.porter import *\n",
    "\n",
    "\n",
    "%matplotlib inline"
   ]
  },
  {
   "cell_type": "markdown",
   "metadata": {},
   "source": [
    "First off let's access some of the data files for this task"
   ]
  },
  {
   "cell_type": "code",
   "execution_count": 3,
   "metadata": {},
   "outputs": [],
   "source": [
    "names = ['TweetID', 'Sentiment', 'Tweet']\n",
    "\n",
    "train = pd.read_csv('../Datasets/dataset/train/twitter-2016train-A.txt', delimiter='\\t', names=names)\n",
    "test = pd.read_csv('../Datasets/dataset/train/twitter-2016test-A.txt', delimiter='\\t', names=['TweetID', 'Sentiment', 'Tweet', 'tidy_tweet'])"
   ]
  },
  {
   "cell_type": "markdown",
   "metadata": {},
   "source": [
    "Now let's examine what the content looks like for positive, negative, and neutral tweets"
   ]
  },
  {
   "cell_type": "code",
   "execution_count": 4,
   "metadata": {},
   "outputs": [
    {
     "data": {
      "text/html": [
       "<div>\n",
       "<style scoped>\n",
       "    .dataframe tbody tr th:only-of-type {\n",
       "        vertical-align: middle;\n",
       "    }\n",
       "\n",
       "    .dataframe tbody tr th {\n",
       "        vertical-align: top;\n",
       "    }\n",
       "\n",
       "    .dataframe thead th {\n",
       "        text-align: right;\n",
       "    }\n",
       "</style>\n",
       "<table border=\"1\" class=\"dataframe\">\n",
       "  <thead>\n",
       "    <tr style=\"text-align: right;\">\n",
       "      <th></th>\n",
       "      <th>TweetID</th>\n",
       "      <th>Sentiment</th>\n",
       "      <th>Tweet</th>\n",
       "    </tr>\n",
       "  </thead>\n",
       "  <tbody>\n",
       "    <tr>\n",
       "      <th>5</th>\n",
       "      <td>629226490152914944</td>\n",
       "      <td>positive</td>\n",
       "      <td>Microsoft, I may not prefer your gaming branch...</td>\n",
       "    </tr>\n",
       "    <tr>\n",
       "      <th>8</th>\n",
       "      <td>629650766580609026</td>\n",
       "      <td>positive</td>\n",
       "      <td>Just ordered my 1st ever tablet; @Microsoft Su...</td>\n",
       "    </tr>\n",
       "    <tr>\n",
       "      <th>10</th>\n",
       "      <td>630159517058142208</td>\n",
       "      <td>positive</td>\n",
       "      <td>Sunday morning, quiet day so time to welcome i...</td>\n",
       "    </tr>\n",
       "    <tr>\n",
       "      <th>14</th>\n",
       "      <td>630818265799921664</td>\n",
       "      <td>positive</td>\n",
       "      <td>Innovation for jobs is just around the corner ...</td>\n",
       "    </tr>\n",
       "    <tr>\n",
       "      <th>19</th>\n",
       "      <td>631368262979297281</td>\n",
       "      <td>positive</td>\n",
       "      <td>#Vote for @AIESEC to become the 10th Global no...</td>\n",
       "    </tr>\n",
       "  </tbody>\n",
       "</table>\n",
       "</div>"
      ],
      "text/plain": [
       "               TweetID Sentiment  \\\n",
       "5   629226490152914944  positive   \n",
       "8   629650766580609026  positive   \n",
       "10  630159517058142208  positive   \n",
       "14  630818265799921664  positive   \n",
       "19  631368262979297281  positive   \n",
       "\n",
       "                                                Tweet  \n",
       "5   Microsoft, I may not prefer your gaming branch...  \n",
       "8   Just ordered my 1st ever tablet; @Microsoft Su...  \n",
       "10  Sunday morning, quiet day so time to welcome i...  \n",
       "14  Innovation for jobs is just around the corner ...  \n",
       "19  #Vote for @AIESEC to become the 10th Global no...  "
      ]
     },
     "execution_count": 4,
     "metadata": {},
     "output_type": "execute_result"
    }
   ],
   "source": [
    "train[train['Sentiment']=='positive'].head()"
   ]
  },
  {
   "cell_type": "code",
   "execution_count": 5,
   "metadata": {},
   "outputs": [
    {
     "data": {
      "text/html": [
       "<div>\n",
       "<style scoped>\n",
       "    .dataframe tbody tr th:only-of-type {\n",
       "        vertical-align: middle;\n",
       "    }\n",
       "\n",
       "    .dataframe tbody tr th {\n",
       "        vertical-align: top;\n",
       "    }\n",
       "\n",
       "    .dataframe thead th {\n",
       "        text-align: right;\n",
       "    }\n",
       "</style>\n",
       "<table border=\"1\" class=\"dataframe\">\n",
       "  <thead>\n",
       "    <tr style=\"text-align: right;\">\n",
       "      <th></th>\n",
       "      <th>TweetID</th>\n",
       "      <th>Sentiment</th>\n",
       "      <th>Tweet</th>\n",
       "    </tr>\n",
       "  </thead>\n",
       "  <tbody>\n",
       "    <tr>\n",
       "      <th>0</th>\n",
       "      <td>628949369883000832</td>\n",
       "      <td>negative</td>\n",
       "      <td>dear @Microsoft the newOoffice for Mac is grea...</td>\n",
       "    </tr>\n",
       "    <tr>\n",
       "      <th>1</th>\n",
       "      <td>628976607420645377</td>\n",
       "      <td>negative</td>\n",
       "      <td>@Microsoft how about you make a system that do...</td>\n",
       "    </tr>\n",
       "    <tr>\n",
       "      <th>2</th>\n",
       "      <td>629023169169518592</td>\n",
       "      <td>negative</td>\n",
       "      <td>I may be ignorant on this issue but... should ...</td>\n",
       "    </tr>\n",
       "    <tr>\n",
       "      <th>3</th>\n",
       "      <td>629179223232479232</td>\n",
       "      <td>negative</td>\n",
       "      <td>Thanks to @microsoft, I just may be switching ...</td>\n",
       "    </tr>\n",
       "    <tr>\n",
       "      <th>6</th>\n",
       "      <td>629345637155360768</td>\n",
       "      <td>negative</td>\n",
       "      <td>@MikeWolf1980 @Microsoft I will be downgrading...</td>\n",
       "    </tr>\n",
       "  </tbody>\n",
       "</table>\n",
       "</div>"
      ],
      "text/plain": [
       "              TweetID Sentiment  \\\n",
       "0  628949369883000832  negative   \n",
       "1  628976607420645377  negative   \n",
       "2  629023169169518592  negative   \n",
       "3  629179223232479232  negative   \n",
       "6  629345637155360768  negative   \n",
       "\n",
       "                                               Tweet  \n",
       "0  dear @Microsoft the newOoffice for Mac is grea...  \n",
       "1  @Microsoft how about you make a system that do...  \n",
       "2  I may be ignorant on this issue but... should ...  \n",
       "3  Thanks to @microsoft, I just may be switching ...  \n",
       "6  @MikeWolf1980 @Microsoft I will be downgrading...  "
      ]
     },
     "execution_count": 5,
     "metadata": {},
     "output_type": "execute_result"
    }
   ],
   "source": [
    "train[train['Sentiment']=='negative'].head()"
   ]
  },
  {
   "cell_type": "code",
   "execution_count": 6,
   "metadata": {},
   "outputs": [
    {
     "data": {
      "text/html": [
       "<div>\n",
       "<style scoped>\n",
       "    .dataframe tbody tr th:only-of-type {\n",
       "        vertical-align: middle;\n",
       "    }\n",
       "\n",
       "    .dataframe tbody tr th {\n",
       "        vertical-align: top;\n",
       "    }\n",
       "\n",
       "    .dataframe thead th {\n",
       "        text-align: right;\n",
       "    }\n",
       "</style>\n",
       "<table border=\"1\" class=\"dataframe\">\n",
       "  <thead>\n",
       "    <tr style=\"text-align: right;\">\n",
       "      <th></th>\n",
       "      <th>TweetID</th>\n",
       "      <th>Sentiment</th>\n",
       "      <th>Tweet</th>\n",
       "    </tr>\n",
       "  </thead>\n",
       "  <tbody>\n",
       "    <tr>\n",
       "      <th>4</th>\n",
       "      <td>629186282179153920</td>\n",
       "      <td>neutral</td>\n",
       "      <td>If I make a game as a #windows10 Universal App...</td>\n",
       "    </tr>\n",
       "    <tr>\n",
       "      <th>13</th>\n",
       "      <td>630807124872970240</td>\n",
       "      <td>neutral</td>\n",
       "      <td>@spyderharrison @Microsoft the reason I ask is...</td>\n",
       "    </tr>\n",
       "    <tr>\n",
       "      <th>15</th>\n",
       "      <td>630909171437801472</td>\n",
       "      <td>neutral</td>\n",
       "      <td>OK this is my pure speculation.  @Microsoft ow...</td>\n",
       "    </tr>\n",
       "    <tr>\n",
       "      <th>16</th>\n",
       "      <td>630982270409572352</td>\n",
       "      <td>neutral</td>\n",
       "      <td>We are still taking registrations for our Educ...</td>\n",
       "    </tr>\n",
       "    <tr>\n",
       "      <th>26</th>\n",
       "      <td>631936716522278912</td>\n",
       "      <td>neutral</td>\n",
       "      <td>@kenttaylor333 @YourAnonNews @Microsoft the op...</td>\n",
       "    </tr>\n",
       "  </tbody>\n",
       "</table>\n",
       "</div>"
      ],
      "text/plain": [
       "               TweetID Sentiment  \\\n",
       "4   629186282179153920   neutral   \n",
       "13  630807124872970240   neutral   \n",
       "15  630909171437801472   neutral   \n",
       "16  630982270409572352   neutral   \n",
       "26  631936716522278912   neutral   \n",
       "\n",
       "                                                Tweet  \n",
       "4   If I make a game as a #windows10 Universal App...  \n",
       "13  @spyderharrison @Microsoft the reason I ask is...  \n",
       "15  OK this is my pure speculation.  @Microsoft ow...  \n",
       "16  We are still taking registrations for our Educ...  \n",
       "26  @kenttaylor333 @YourAnonNews @Microsoft the op...  "
      ]
     },
     "execution_count": 6,
     "metadata": {},
     "output_type": "execute_result"
    }
   ],
   "source": [
    "train[train['Sentiment']=='neutral'].head()"
   ]
  },
  {
   "cell_type": "markdown",
   "metadata": {},
   "source": [
    "Basic statistics on data"
   ]
  },
  {
   "cell_type": "code",
   "execution_count": 7,
   "metadata": {},
   "outputs": [
    {
     "data": {
      "text/plain": [
       "positive    3017\n",
       "neutral     2001\n",
       "negative     850\n",
       "Name: Sentiment, dtype: int64"
      ]
     },
     "execution_count": 7,
     "metadata": {},
     "output_type": "execute_result"
    }
   ],
   "source": [
    "train['Sentiment'].value_counts()"
   ]
  },
  {
   "cell_type": "code",
   "execution_count": 8,
   "metadata": {},
   "outputs": [
    {
     "data": {
      "image/png": "[encoded data removed]",
      "text/plain": [
       "<Figure size 432x288 with 1 Axes>"
      ]
     },
     "metadata": {
      "needs_background": "light"
     },
     "output_type": "display_data"
    }
   ],
   "source": [
    "plt.hist(train.Tweet.str.len(), label='train', bins=14, range=[0,140])\n",
    "plt.hist(test.Tweet.str.len(), label='test', bins=14, range=[0,140])\n",
    "plt.legend()\n",
    "plt.show()"
   ]
  },
  {
   "cell_type": "markdown",
   "metadata": {},
   "source": [
    "So now we want to do some data cleaning to get rid of unwanted stuff not relevant to sentiment classification"
   ]
  },
  {
   "cell_type": "code",
   "execution_count": 9,
   "metadata": {},
   "outputs": [],
   "source": [
    "def remove_pattern(input_txt, pattern):\n",
    "    r = re.findall(pattern, input_txt)\n",
    "    for i in r:\n",
    "        input_txt = re.sub(i, '', input_txt)\n",
    "    return input_txt"
   ]
  },
  {
   "cell_type": "markdown",
   "metadata": {},
   "source": [
    "We want to remove several things out of raw tweets\n",
    "1. Twitter handles due to privacy concerns\n",
    "2. Punctuation, numbers, and special characters\n",
    "3. Small words\n",
    "4. Normalize textual data so we don't have different bases"
   ]
  },
  {
   "cell_type": "markdown",
   "metadata": {},
   "source": [
    "1. Removing Twitter Handles"
   ]
  },
  {
   "cell_type": "code",
   "execution_count": 10,
   "metadata": {},
   "outputs": [
    {
     "data": {
      "text/html": [
       "<div>\n",
       "<style scoped>\n",
       "    .dataframe tbody tr th:only-of-type {\n",
       "        vertical-align: middle;\n",
       "    }\n",
       "\n",
       "    .dataframe tbody tr th {\n",
       "        vertical-align: top;\n",
       "    }\n",
       "\n",
       "    .dataframe thead th {\n",
       "        text-align: right;\n",
       "    }\n",
       "</style>\n",
       "<table border=\"1\" class=\"dataframe\">\n",
       "  <thead>\n",
       "    <tr style=\"text-align: right;\">\n",
       "      <th></th>\n",
       "      <th>TweetID</th>\n",
       "      <th>Sentiment</th>\n",
       "      <th>Tweet</th>\n",
       "      <th>tidy_tweet</th>\n",
       "    </tr>\n",
       "  </thead>\n",
       "  <tbody>\n",
       "    <tr>\n",
       "      <th>0</th>\n",
       "      <td>628949369883000832</td>\n",
       "      <td>negative</td>\n",
       "      <td>dear @Microsoft the newOoffice for Mac is grea...</td>\n",
       "      <td>dear  the newOoffice for Mac is great and all,...</td>\n",
       "    </tr>\n",
       "    <tr>\n",
       "      <th>1</th>\n",
       "      <td>628976607420645377</td>\n",
       "      <td>negative</td>\n",
       "      <td>@Microsoft how about you make a system that do...</td>\n",
       "      <td>how about you make a system that doesn't eat ...</td>\n",
       "    </tr>\n",
       "    <tr>\n",
       "      <th>2</th>\n",
       "      <td>629023169169518592</td>\n",
       "      <td>negative</td>\n",
       "      <td>I may be ignorant on this issue but... should ...</td>\n",
       "      <td>I may be ignorant on this issue but... should ...</td>\n",
       "    </tr>\n",
       "    <tr>\n",
       "      <th>3</th>\n",
       "      <td>629179223232479232</td>\n",
       "      <td>negative</td>\n",
       "      <td>Thanks to @microsoft, I just may be switching ...</td>\n",
       "      <td>Thanks to , I just may be switching over to .</td>\n",
       "    </tr>\n",
       "    <tr>\n",
       "      <th>4</th>\n",
       "      <td>629186282179153920</td>\n",
       "      <td>neutral</td>\n",
       "      <td>If I make a game as a #windows10 Universal App...</td>\n",
       "      <td>If I make a game as a #windows10 Universal App...</td>\n",
       "    </tr>\n",
       "  </tbody>\n",
       "</table>\n",
       "</div>"
      ],
      "text/plain": [
       "              TweetID Sentiment  \\\n",
       "0  628949369883000832  negative   \n",
       "1  628976607420645377  negative   \n",
       "2  629023169169518592  negative   \n",
       "3  629179223232479232  negative   \n",
       "4  629186282179153920   neutral   \n",
       "\n",
       "                                               Tweet  \\\n",
       "0  dear @Microsoft the newOoffice for Mac is grea...   \n",
       "1  @Microsoft how about you make a system that do...   \n",
       "2  I may be ignorant on this issue but... should ...   \n",
       "3  Thanks to @microsoft, I just may be switching ...   \n",
       "4  If I make a game as a #windows10 Universal App...   \n",
       "\n",
       "                                          tidy_tweet  \n",
       "0  dear  the newOoffice for Mac is great and all,...  \n",
       "1   how about you make a system that doesn't eat ...  \n",
       "2  I may be ignorant on this issue but... should ...  \n",
       "3      Thanks to , I just may be switching over to .  \n",
       "4  If I make a game as a #windows10 Universal App...  "
      ]
     },
     "execution_count": 10,
     "metadata": {},
     "output_type": "execute_result"
    }
   ],
   "source": [
    "train['tidy_tweet'] = np.vectorize(remove_pattern)(train['Tweet'], \"@[\\w]*\")\n",
    "train.head()"
   ]
  },
  {
   "cell_type": "markdown",
   "metadata": {},
   "source": [
    "2. Removing Punctuations, Numbers, and Special Characters"
   ]
  },
  {
   "cell_type": "code",
   "execution_count": 11,
   "metadata": {},
   "outputs": [
    {
     "data": {
      "text/html": [
       "<div>\n",
       "<style scoped>\n",
       "    .dataframe tbody tr th:only-of-type {\n",
       "        vertical-align: middle;\n",
       "    }\n",
       "\n",
       "    .dataframe tbody tr th {\n",
       "        vertical-align: top;\n",
       "    }\n",
       "\n",
       "    .dataframe thead th {\n",
       "        text-align: right;\n",
       "    }\n",
       "</style>\n",
       "<table border=\"1\" class=\"dataframe\">\n",
       "  <thead>\n",
       "    <tr style=\"text-align: right;\">\n",
       "      <th></th>\n",
       "      <th>TweetID</th>\n",
       "      <th>Sentiment</th>\n",
       "      <th>Tweet</th>\n",
       "      <th>tidy_tweet</th>\n",
       "    </tr>\n",
       "  </thead>\n",
       "  <tbody>\n",
       "    <tr>\n",
       "      <th>0</th>\n",
       "      <td>628949369883000832</td>\n",
       "      <td>negative</td>\n",
       "      <td>dear @Microsoft the newOoffice for Mac is grea...</td>\n",
       "      <td>dear  the newOoffice for Mac is great and all ...</td>\n",
       "    </tr>\n",
       "    <tr>\n",
       "      <th>1</th>\n",
       "      <td>628976607420645377</td>\n",
       "      <td>negative</td>\n",
       "      <td>@Microsoft how about you make a system that do...</td>\n",
       "      <td>how about you make a system that doesn t eat ...</td>\n",
       "    </tr>\n",
       "    <tr>\n",
       "      <th>2</th>\n",
       "      <td>629023169169518592</td>\n",
       "      <td>negative</td>\n",
       "      <td>I may be ignorant on this issue but... should ...</td>\n",
       "      <td>I may be ignorant on this issue but    should ...</td>\n",
       "    </tr>\n",
       "    <tr>\n",
       "      <th>3</th>\n",
       "      <td>629179223232479232</td>\n",
       "      <td>negative</td>\n",
       "      <td>Thanks to @microsoft, I just may be switching ...</td>\n",
       "      <td>Thanks to   I just may be switching over to</td>\n",
       "    </tr>\n",
       "    <tr>\n",
       "      <th>4</th>\n",
       "      <td>629186282179153920</td>\n",
       "      <td>neutral</td>\n",
       "      <td>If I make a game as a #windows10 Universal App...</td>\n",
       "      <td>If I make a game as a #windows   Universal App...</td>\n",
       "    </tr>\n",
       "  </tbody>\n",
       "</table>\n",
       "</div>"
      ],
      "text/plain": [
       "              TweetID Sentiment  \\\n",
       "0  628949369883000832  negative   \n",
       "1  628976607420645377  negative   \n",
       "2  629023169169518592  negative   \n",
       "3  629179223232479232  negative   \n",
       "4  629186282179153920   neutral   \n",
       "\n",
       "                                               Tweet  \\\n",
       "0  dear @Microsoft the newOoffice for Mac is grea...   \n",
       "1  @Microsoft how about you make a system that do...   \n",
       "2  I may be ignorant on this issue but... should ...   \n",
       "3  Thanks to @microsoft, I just may be switching ...   \n",
       "4  If I make a game as a #windows10 Universal App...   \n",
       "\n",
       "                                          tidy_tweet  \n",
       "0  dear  the newOoffice for Mac is great and all ...  \n",
       "1   how about you make a system that doesn t eat ...  \n",
       "2  I may be ignorant on this issue but    should ...  \n",
       "3      Thanks to   I just may be switching over to    \n",
       "4  If I make a game as a #windows   Universal App...  "
      ]
     },
     "execution_count": 11,
     "metadata": {},
     "output_type": "execute_result"
    }
   ],
   "source": [
    "train.tidy_tweet = train.tidy_tweet.str.replace(\"[^a-zA-Z#]\", \" \")\n",
    "train.head()"
   ]
  },
  {
   "cell_type": "markdown",
   "metadata": {},
   "source": [
    "3. Removing Short Words"
   ]
  },
  {
   "cell_type": "code",
   "execution_count": 12,
   "metadata": {},
   "outputs": [
    {
     "data": {
      "text/html": [
       "<div>\n",
       "<style scoped>\n",
       "    .dataframe tbody tr th:only-of-type {\n",
       "        vertical-align: middle;\n",
       "    }\n",
       "\n",
       "    .dataframe tbody tr th {\n",
       "        vertical-align: top;\n",
       "    }\n",
       "\n",
       "    .dataframe thead th {\n",
       "        text-align: right;\n",
       "    }\n",
       "</style>\n",
       "<table border=\"1\" class=\"dataframe\">\n",
       "  <thead>\n",
       "    <tr style=\"text-align: right;\">\n",
       "      <th></th>\n",
       "      <th>TweetID</th>\n",
       "      <th>Sentiment</th>\n",
       "      <th>Tweet</th>\n",
       "      <th>tidy_tweet</th>\n",
       "    </tr>\n",
       "  </thead>\n",
       "  <tbody>\n",
       "    <tr>\n",
       "      <th>0</th>\n",
       "      <td>628949369883000832</td>\n",
       "      <td>negative</td>\n",
       "      <td>dear @Microsoft the newOoffice for Mac is grea...</td>\n",
       "      <td>dear newOoffice great Lync update</td>\n",
       "    </tr>\n",
       "    <tr>\n",
       "      <th>1</th>\n",
       "      <td>628976607420645377</td>\n",
       "      <td>negative</td>\n",
       "      <td>@Microsoft how about you make a system that do...</td>\n",
       "      <td>about make system that doesn friggin discs Thi...</td>\n",
       "    </tr>\n",
       "    <tr>\n",
       "      <th>2</th>\n",
       "      <td>629023169169518592</td>\n",
       "      <td>negative</td>\n",
       "      <td>I may be ignorant on this issue but... should ...</td>\n",
       "      <td>ignorant this issue should celebrate parental ...</td>\n",
       "    </tr>\n",
       "    <tr>\n",
       "      <th>3</th>\n",
       "      <td>629179223232479232</td>\n",
       "      <td>negative</td>\n",
       "      <td>Thanks to @microsoft, I just may be switching ...</td>\n",
       "      <td>Thanks just switching over</td>\n",
       "    </tr>\n",
       "    <tr>\n",
       "      <th>4</th>\n",
       "      <td>629186282179153920</td>\n",
       "      <td>neutral</td>\n",
       "      <td>If I make a game as a #windows10 Universal App...</td>\n",
       "      <td>make game #windows Universal Will #xboxone own...</td>\n",
       "    </tr>\n",
       "  </tbody>\n",
       "</table>\n",
       "</div>"
      ],
      "text/plain": [
       "              TweetID Sentiment  \\\n",
       "0  628949369883000832  negative   \n",
       "1  628976607420645377  negative   \n",
       "2  629023169169518592  negative   \n",
       "3  629179223232479232  negative   \n",
       "4  629186282179153920   neutral   \n",
       "\n",
       "                                               Tweet  \\\n",
       "0  dear @Microsoft the newOoffice for Mac is grea...   \n",
       "1  @Microsoft how about you make a system that do...   \n",
       "2  I may be ignorant on this issue but... should ...   \n",
       "3  Thanks to @microsoft, I just may be switching ...   \n",
       "4  If I make a game as a #windows10 Universal App...   \n",
       "\n",
       "                                          tidy_tweet  \n",
       "0                  dear newOoffice great Lync update  \n",
       "1  about make system that doesn friggin discs Thi...  \n",
       "2  ignorant this issue should celebrate parental ...  \n",
       "3                         Thanks just switching over  \n",
       "4  make game #windows Universal Will #xboxone own...  "
      ]
     },
     "execution_count": 12,
     "metadata": {},
     "output_type": "execute_result"
    }
   ],
   "source": [
    "train.tidy_tweet = train.tidy_tweet.apply(lambda x: ' '.join([w for w in x.split() if len(w) > 3]))\n",
    "train.head()"
   ]
  },
  {
   "cell_type": "markdown",
   "metadata": {},
   "source": [
    "4. Text Normalization"
   ]
  },
  {
   "cell_type": "code",
   "execution_count": 13,
   "metadata": {},
   "outputs": [
    {
     "data": {
      "text/plain": [
       "0              [dear, newOoffice, great, Lync, update]\n",
       "1    [about, make, system, that, doesn, friggin, di...\n",
       "2    [ignorant, this, issue, should, celebrate, par...\n",
       "3                      [Thanks, just, switching, over]\n",
       "4    [make, game, #windows, Universal, Will, #xboxo...\n",
       "Name: tidy_tweet, dtype: object"
      ]
     },
     "execution_count": 13,
     "metadata": {},
     "output_type": "execute_result"
    }
   ],
   "source": [
    "tokenized_tweet = train.tidy_tweet.apply(lambda x: x.split())\n",
    "tokenized_tweet.head()"
   ]
  },
  {
   "cell_type": "code",
   "execution_count": 14,
   "metadata": {},
   "outputs": [
    {
     "data": {
      "text/plain": [
       "0                [dear, newooffic, great, lync, updat]\n",
       "1    [about, make, system, that, doesn, friggin, di...\n",
       "2    [ignor, thi, issu, should, celebr, parent, lea...\n",
       "3                          [thank, just, switch, over]\n",
       "4    [make, game, #window, univers, will, #xboxon, ...\n",
       "Name: tidy_tweet, dtype: object"
      ]
     },
     "execution_count": 14,
     "metadata": {},
     "output_type": "execute_result"
    }
   ],
   "source": [
    "stemmer = PorterStemmer()\n",
    "tokenized_tweet = tokenized_tweet.apply(lambda x: [stemmer.stem(i) for i in x])\n",
    "tokenized_tweet.head()"
   ]
  },
  {
   "cell_type": "code",
   "execution_count": 15,
   "metadata": {},
   "outputs": [
    {
     "data": {
      "text/html": [
       "<div>\n",
       "<style scoped>\n",
       "    .dataframe tbody tr th:only-of-type {\n",
       "        vertical-align: middle;\n",
       "    }\n",
       "\n",
       "    .dataframe tbody tr th {\n",
       "        vertical-align: top;\n",
       "    }\n",
       "\n",
       "    .dataframe thead th {\n",
       "        text-align: right;\n",
       "    }\n",
       "</style>\n",
       "<table border=\"1\" class=\"dataframe\">\n",
       "  <thead>\n",
       "    <tr style=\"text-align: right;\">\n",
       "      <th></th>\n",
       "      <th>TweetID</th>\n",
       "      <th>Sentiment</th>\n",
       "      <th>Tweet</th>\n",
       "      <th>tidy_tweet</th>\n",
       "    </tr>\n",
       "  </thead>\n",
       "  <tbody>\n",
       "    <tr>\n",
       "      <th>0</th>\n",
       "      <td>628949369883000832</td>\n",
       "      <td>negative</td>\n",
       "      <td>dear @Microsoft the newOoffice for Mac is grea...</td>\n",
       "      <td>dear newooffic great lync updat</td>\n",
       "    </tr>\n",
       "    <tr>\n",
       "      <th>1</th>\n",
       "      <td>628976607420645377</td>\n",
       "      <td>negative</td>\n",
       "      <td>@Microsoft how about you make a system that do...</td>\n",
       "      <td>about make system that doesn friggin disc thi ...</td>\n",
       "    </tr>\n",
       "    <tr>\n",
       "      <th>2</th>\n",
       "      <td>629023169169518592</td>\n",
       "      <td>negative</td>\n",
       "      <td>I may be ignorant on this issue but... should ...</td>\n",
       "      <td>ignor thi issu should celebr parent leav chang...</td>\n",
       "    </tr>\n",
       "    <tr>\n",
       "      <th>3</th>\n",
       "      <td>629179223232479232</td>\n",
       "      <td>negative</td>\n",
       "      <td>Thanks to @microsoft, I just may be switching ...</td>\n",
       "      <td>thank just switch over</td>\n",
       "    </tr>\n",
       "    <tr>\n",
       "      <th>4</th>\n",
       "      <td>629186282179153920</td>\n",
       "      <td>neutral</td>\n",
       "      <td>If I make a game as a #windows10 Universal App...</td>\n",
       "      <td>make game #window univers will #xboxon owner a...</td>\n",
       "    </tr>\n",
       "  </tbody>\n",
       "</table>\n",
       "</div>"
      ],
      "text/plain": [
       "              TweetID Sentiment  \\\n",
       "0  628949369883000832  negative   \n",
       "1  628976607420645377  negative   \n",
       "2  629023169169518592  negative   \n",
       "3  629179223232479232  negative   \n",
       "4  629186282179153920   neutral   \n",
       "\n",
       "                                               Tweet  \\\n",
       "0  dear @Microsoft the newOoffice for Mac is grea...   \n",
       "1  @Microsoft how about you make a system that do...   \n",
       "2  I may be ignorant on this issue but... should ...   \n",
       "3  Thanks to @microsoft, I just may be switching ...   \n",
       "4  If I make a game as a #windows10 Universal App...   \n",
       "\n",
       "                                          tidy_tweet  \n",
       "0                    dear newooffic great lync updat  \n",
       "1  about make system that doesn friggin disc thi ...  \n",
       "2  ignor thi issu should celebr parent leav chang...  \n",
       "3                             thank just switch over  \n",
       "4  make game #window univers will #xboxon owner a...  "
      ]
     },
     "execution_count": 15,
     "metadata": {},
     "output_type": "execute_result"
    }
   ],
   "source": [
    "for i in range(len(tokenized_tweet)):\n",
    "    tokenized_tweet[i] = ' '.join(tokenized_tweet[i])\n",
    "train['tidy_tweet'] = tokenized_tweet\n",
    "train.head()"
   ]
  },
  {
   "cell_type": "markdown",
   "metadata": {},
   "source": [
    "Just for convenience sake I'll make a single function that does all that for you"
   ]
  },
  {
   "cell_type": "code",
   "execution_count": 16,
   "metadata": {},
   "outputs": [
    {
     "data": {
      "text/html": [
       "<div>\n",
       "<style scoped>\n",
       "    .dataframe tbody tr th:only-of-type {\n",
       "        vertical-align: middle;\n",
       "    }\n",
       "\n",
       "    .dataframe tbody tr th {\n",
       "        vertical-align: top;\n",
       "    }\n",
       "\n",
       "    .dataframe thead th {\n",
       "        text-align: right;\n",
       "    }\n",
       "</style>\n",
       "<table border=\"1\" class=\"dataframe\">\n",
       "  <thead>\n",
       "    <tr style=\"text-align: right;\">\n",
       "      <th></th>\n",
       "      <th>TweetID</th>\n",
       "      <th>Sentiment</th>\n",
       "      <th>Tweet</th>\n",
       "      <th>tidy_tweet</th>\n",
       "    </tr>\n",
       "  </thead>\n",
       "  <tbody>\n",
       "    <tr>\n",
       "      <th>0</th>\n",
       "      <td>619950566786113536</td>\n",
       "      <td>neutral</td>\n",
       "      <td>Picturehouse's, Pink Floyd's, 'Roger Waters: T...</td>\n",
       "      <td>NaN</td>\n",
       "    </tr>\n",
       "    <tr>\n",
       "      <th>1</th>\n",
       "      <td>619969366986235905</td>\n",
       "      <td>neutral</td>\n",
       "      <td>Order Go Set a Watchman in store or through ou...</td>\n",
       "      <td>NaN</td>\n",
       "    </tr>\n",
       "    <tr>\n",
       "      <th>2</th>\n",
       "      <td>619971047195045888</td>\n",
       "      <td>negative</td>\n",
       "      <td>If these runway renovations at the airport pre...</td>\n",
       "      <td>NaN</td>\n",
       "    </tr>\n",
       "    <tr>\n",
       "      <th>3</th>\n",
       "      <td>619974445185302528</td>\n",
       "      <td>neutral</td>\n",
       "      <td>If you could ask an onstage interview question...</td>\n",
       "      <td>NaN</td>\n",
       "    </tr>\n",
       "    <tr>\n",
       "      <th>4</th>\n",
       "      <td>619987808317407232</td>\n",
       "      <td>positive</td>\n",
       "      <td>A portion of book sales from our Harper Lee/Go...</td>\n",
       "      <td>NaN</td>\n",
       "    </tr>\n",
       "  </tbody>\n",
       "</table>\n",
       "</div>"
      ],
      "text/plain": [
       "              TweetID Sentiment  \\\n",
       "0  619950566786113536   neutral   \n",
       "1  619969366986235905   neutral   \n",
       "2  619971047195045888  negative   \n",
       "3  619974445185302528   neutral   \n",
       "4  619987808317407232  positive   \n",
       "\n",
       "                                               Tweet tidy_tweet  \n",
       "0  Picturehouse's, Pink Floyd's, 'Roger Waters: T...        NaN  \n",
       "1  Order Go Set a Watchman in store or through ou...        NaN  \n",
       "2  If these runway renovations at the airport pre...        NaN  \n",
       "3  If you could ask an onstage interview question...        NaN  \n",
       "4  A portion of book sales from our Harper Lee/Go...        NaN  "
      ]
     },
     "execution_count": 16,
     "metadata": {},
     "output_type": "execute_result"
    }
   ],
   "source": [
    "test.head()"
   ]
  },
  {
   "cell_type": "code",
   "execution_count": 17,
   "metadata": {},
   "outputs": [
    {
     "data": {
      "text/html": [
       "<div>\n",
       "<style scoped>\n",
       "    .dataframe tbody tr th:only-of-type {\n",
       "        vertical-align: middle;\n",
       "    }\n",
       "\n",
       "    .dataframe tbody tr th {\n",
       "        vertical-align: top;\n",
       "    }\n",
       "\n",
       "    .dataframe thead th {\n",
       "        text-align: right;\n",
       "    }\n",
       "</style>\n",
       "<table border=\"1\" class=\"dataframe\">\n",
       "  <thead>\n",
       "    <tr style=\"text-align: right;\">\n",
       "      <th></th>\n",
       "      <th>TweetID</th>\n",
       "      <th>Sentiment</th>\n",
       "      <th>Tweet</th>\n",
       "      <th>tidy_tweet</th>\n",
       "    </tr>\n",
       "  </thead>\n",
       "  <tbody>\n",
       "    <tr>\n",
       "      <th>0</th>\n",
       "      <td>619950566786113536</td>\n",
       "      <td>neutral</td>\n",
       "      <td>Picturehouse's, Pink Floyd's, 'Roger Waters: T...</td>\n",
       "      <td>picturehous pink floyd roger water walll open ...</td>\n",
       "    </tr>\n",
       "    <tr>\n",
       "      <th>1</th>\n",
       "      <td>619969366986235905</td>\n",
       "      <td>neutral</td>\n",
       "      <td>Order Go Set a Watchman in store or through ou...</td>\n",
       "      <td>order watchman store through websit befor tues...</td>\n",
       "    </tr>\n",
       "    <tr>\n",
       "      <th>2</th>\n",
       "      <td>619971047195045888</td>\n",
       "      <td>negative</td>\n",
       "      <td>If these runway renovations at the airport pre...</td>\n",
       "      <td>these runway renov airport prevent from see ta...</td>\n",
       "    </tr>\n",
       "    <tr>\n",
       "      <th>3</th>\n",
       "      <td>619974445185302528</td>\n",
       "      <td>neutral</td>\n",
       "      <td>If you could ask an onstage interview question...</td>\n",
       "      <td>could onstag interview question miss tomorrow ...</td>\n",
       "    </tr>\n",
       "    <tr>\n",
       "      <th>4</th>\n",
       "      <td>619987808317407232</td>\n",
       "      <td>positive</td>\n",
       "      <td>A portion of book sales from our Harper Lee/Go...</td>\n",
       "      <td>portion book sale from harper watchman releas ...</td>\n",
       "    </tr>\n",
       "  </tbody>\n",
       "</table>\n",
       "</div>"
      ],
      "text/plain": [
       "              TweetID Sentiment  \\\n",
       "0  619950566786113536   neutral   \n",
       "1  619969366986235905   neutral   \n",
       "2  619971047195045888  negative   \n",
       "3  619974445185302528   neutral   \n",
       "4  619987808317407232  positive   \n",
       "\n",
       "                                               Tweet  \\\n",
       "0  Picturehouse's, Pink Floyd's, 'Roger Waters: T...   \n",
       "1  Order Go Set a Watchman in store or through ou...   \n",
       "2  If these runway renovations at the airport pre...   \n",
       "3  If you could ask an onstage interview question...   \n",
       "4  A portion of book sales from our Harper Lee/Go...   \n",
       "\n",
       "                                          tidy_tweet  \n",
       "0  picturehous pink floyd roger water walll open ...  \n",
       "1  order watchman store through websit befor tues...  \n",
       "2  these runway renov airport prevent from see ta...  \n",
       "3  could onstag interview question miss tomorrow ...  \n",
       "4  portion book sale from harper watchman releas ...  "
      ]
     },
     "execution_count": 17,
     "metadata": {},
     "output_type": "execute_result"
    }
   ],
   "source": [
    "def remove_pattern(input_txt, pattern):\n",
    "    r = re.findall(pattern, input_txt)\n",
    "    for i in r:\n",
    "        input_txt = re.sub(i, '', input_txt)\n",
    "    return input_txt\n",
    "\n",
    "def tidy_tweet(dataset, min_len=3):\n",
    "    dataset['tidy_tweet'] = np.vectorize(remove_pattern)(dataset['Tweet'], \"@[\\w]*\")\n",
    "    dataset.tidy_tweet = dataset.tidy_tweet.str.replace(\"[^a-zA-Z#]\", \" \")\n",
    "    dataset.tidy_tweet = dataset.tidy_tweet.apply(lambda x: ' '.join([w for w in x.split() if len(w) > min_len]))\n",
    "    tokenized_tweet = dataset.tidy_tweet.apply(lambda x: x.split())\n",
    "\n",
    "    stemmer = PorterStemmer()\n",
    "    tokenized_tweet = tokenized_tweet.apply(lambda x: [stemmer.stem(i) for i in x])\n",
    "    tokenized_tweet.head()\n",
    "    for i in range(len(tokenized_tweet)):\n",
    "        tokenized_tweet[i] = ' '.join(tokenized_tweet[i])\n",
    "    dataset['tidy_tweet'] = tokenized_tweet\n",
    "    return dataset\n",
    "\n",
    "test = tidy_tweet(test)\n",
    "test.head()"
   ]
  },
  {
   "cell_type": "markdown",
   "metadata": {},
   "source": [
    "Next Step Is We Need to Train Word2Vec on our Corpus"
   ]
  },
  {
   "cell_type": "code",
   "execution_count": 18,
   "metadata": {},
   "outputs": [
    {
     "name": "stdout",
     "output_type": "stream",
     "text": [
      "Wall time: 25.5 s\n"
     ]
    },
    {
     "data": {
      "text/plain": [
       "(1046178, 1331040)"
      ]
     },
     "execution_count": 18,
     "metadata": {},
     "output_type": "execute_result"
    }
   ],
   "source": [
    "%%time\n",
    "\n",
    "tokenized_tweet = train['tidy_tweet'].apply(lambda x: x.split())\n",
    "\n",
    "model_w2v = gensim.models.Word2Vec(\n",
    "            tokenized_tweet,\n",
    "            size = 200, #desired number of features, 200 seems to be a common width, no idea why\n",
    "            window = 5, #context window size\n",
    "            min_count =2, #ignores all words with total freq lower than 2\n",
    "            sg = 1, #encoding for skip-gram model\n",
    "            hs = 0,\n",
    "            negative = 10, #for negative sampling\n",
    "            workers = 2, #no. of cores\n",
    "            seed = 34\n",
    ")\n",
    "\n",
    "model_w2v.train(tokenized_tweet, total_examples = len(train['tidy_tweet']), epochs=20)"
   ]
  },
  {
   "cell_type": "code",
   "execution_count": 19,
   "metadata": {},
   "outputs": [
    {
     "data": {
      "text/plain": [
       "[('donald', 0.8051669001579285),\n",
       " ('protest', 0.7070713043212891),\n",
       " ('cruz', 0.6580299139022827),\n",
       " ('loyalti', 0.6494956016540527),\n",
       " ('#makeamericagreatagain', 0.6474908590316772),\n",
       " ('english', 0.6439023017883301),\n",
       " ('runner', 0.6393129825592041),\n",
       " ('bush', 0.6370007991790771),\n",
       " ('#trump', 0.6348357796669006),\n",
       " ('spanish', 0.6298032999038696)]"
      ]
     },
     "execution_count": 19,
     "metadata": {},
     "output_type": "execute_result"
    }
   ],
   "source": [
    "model_w2v.wv.most_similar(positive=\"trump\")"
   ]
  },
  {
   "cell_type": "markdown",
   "metadata": {},
   "source": [
    "The dimensionality of our embedding space is 200, that means that each word is represented by a vector of 200 floating point numbers, isn't that convenient :).\n",
    "\n",
    "But in order to make this dataset directly applicable to our neural networks we will need to produce a feature vector for all of the tweets.\n",
    "\n",
    "Now since we are eliminating any words that are less than 3 chars in length, the max number of words we could have is 140/5, because each word has a space after it,  but we have to account for the fact that there will always be n-1 spaces so we'll add one and make the vector length 29."
   ]
  },
  {
   "cell_type": "code",
   "execution_count": 20,
   "metadata": {},
   "outputs": [
    {
     "name": "stderr",
     "output_type": "stream",
     "text": [
      "C:\\ProgramData\\Anaconda3\\lib\\site-packages\\ipykernel_launcher.py:1: DeprecationWarning: Call to deprecated `__getitem__` (Method will be removed in 4.0.0, use self.wv.__getitem__() instead).\n",
      "  \"\"\"Entry point for launching an IPython kernel.\n"
     ]
    },
    {
     "data": {
      "text/plain": [
       "array([ 1.38560668e-01, -1.31284967e-01,  3.92329156e-01,  6.22116446e-01,\n",
       "       -7.02205375e-02, -2.11930171e-01,  2.17334032e-01, -5.17392755e-01,\n",
       "        2.52419859e-01, -2.24026501e-01,  8.80015433e-01, -3.46899033e-02,\n",
       "       -4.27762151e-01,  5.89991689e-01, -1.83441937e-01, -1.00050569e+00,\n",
       "        9.52548981e-02, -5.03819346e-01, -1.29338965e-01, -5.22997558e-01,\n",
       "       -3.95571679e-01, -3.59569103e-01,  1.90603644e-01, -8.68877053e-01,\n",
       "        3.42198253e-01, -2.77321905e-01, -1.08596962e-02,  3.59900028e-01,\n",
       "       -2.19381735e-01,  3.16402137e-01, -4.52018946e-01,  2.30322286e-01,\n",
       "       -6.65033832e-02, -2.38108337e-01,  2.14896962e-01,  3.53187621e-01,\n",
       "        5.45436800e-01,  4.33614522e-01, -3.99256963e-03,  1.56217322e-01,\n",
       "        3.97722572e-01,  1.21240042e-01, -2.58577943e-01,  9.22969759e-01,\n",
       "       -2.06543859e-02,  5.10485709e-01,  1.33597925e-02,  5.97124875e-01,\n",
       "       -1.11721065e-02,  3.01240683e-01,  5.38231075e-01,  1.63770854e-01,\n",
       "       -1.47710443e-01,  6.68412268e-01,  1.12946801e-01, -9.72723365e-02,\n",
       "        2.97501326e-01, -1.35767564e-01,  2.85603017e-01,  1.10119045e+00,\n",
       "        1.99538112e-01, -2.94978544e-02,  5.46577275e-02,  6.13624491e-02,\n",
       "       -1.90894395e-01,  7.57485926e-01, -4.13502216e-01,  3.47315520e-01,\n",
       "        1.30576953e-01,  1.66571081e-01,  4.74507883e-02, -3.46380174e-01,\n",
       "        1.66204989e-01, -6.12989515e-02, -1.97936624e-01,  3.84932607e-02,\n",
       "        2.18173111e-04, -3.86698842e-02, -3.80097568e-01,  2.11853623e-01,\n",
       "       -3.54429074e-02, -1.81769043e-01,  3.13212603e-01,  3.24634016e-02,\n",
       "        6.68957308e-02, -5.30946016e-01,  2.92800277e-01,  6.50249004e-01,\n",
       "       -4.51932609e-01, -7.34741017e-02, -5.59397861e-02, -1.32053643e-01,\n",
       "        7.63751119e-02,  4.88719195e-01, -2.66887285e-02,  9.63843405e-01,\n",
       "       -2.82489240e-01,  5.81899226e-01,  4.63629812e-01, -2.21886322e-01,\n",
       "       -5.08986533e-01, -6.23351097e-01,  8.07629004e-02,  7.85104483e-02,\n",
       "       -3.06821555e-01,  1.27285212e-01, -1.25975847e-01,  1.21545762e-01,\n",
       "        6.05124980e-03, -5.65593280e-02,  2.29508579e-02,  6.02470897e-03,\n",
       "        7.18050480e-01, -6.67363182e-02,  4.23361957e-02, -3.57913375e-02,\n",
       "       -4.77623120e-02,  3.11286271e-01,  3.47564846e-01, -1.48397028e-01,\n",
       "       -2.00894009e-02, -3.03544015e-01,  2.84762889e-01, -1.05418360e+00,\n",
       "       -1.35133773e-01, -3.91422451e-01,  2.51804978e-01,  2.91494410e-02,\n",
       "        2.09096968e-01,  2.36545295e-01,  2.23897204e-01, -4.98093009e-01,\n",
       "       -4.03807819e-01, -2.33934373e-01, -7.41136223e-02,  3.82247977e-02,\n",
       "        1.28571868e-01, -5.42913973e-01, -5.45980513e-01, -2.47373462e-01,\n",
       "       -8.27155113e-01,  9.70100045e-01, -2.48120949e-01,  1.57445833e-01,\n",
       "       -3.63925099e-01, -2.53016651e-01, -3.58103842e-01, -1.81968510e-01,\n",
       "       -2.70215094e-01, -8.54590312e-02, -2.79716790e-01,  2.77095050e-01,\n",
       "        5.10198176e-01,  7.22186938e-02, -8.79274487e-01, -3.85602176e-01,\n",
       "       -5.12249172e-01,  3.33214939e-01, -4.07896303e-02,  1.72054335e-01,\n",
       "       -9.36041325e-02, -6.13930225e-01,  2.84137093e-02,  1.56471059e-02,\n",
       "        5.25835454e-01,  5.63169420e-01, -2.71738470e-01,  4.04182911e-01,\n",
       "        3.59076709e-01, -1.00331247e-01, -2.62861818e-01,  1.53609753e-01,\n",
       "       -1.81127563e-01,  3.03208199e-03,  4.37565774e-01, -6.96963668e-02,\n",
       "        9.08386707e-01, -8.45395803e-01, -1.05853220e-02,  5.67430139e-01,\n",
       "       -4.51445907e-01, -3.18142056e-01, -6.36246860e-01, -2.34859288e-02,\n",
       "        3.40611413e-02, -3.98340404e-01,  3.53114724e-01,  5.86366773e-01,\n",
       "       -2.99198896e-01, -6.47578575e-03, -3.66304278e-01, -3.69155519e-02,\n",
       "        2.17916772e-01, -7.43535981e-02,  7.26800691e-03, -1.14664890e-01,\n",
       "        3.46939147e-01,  4.37294662e-01,  5.54946959e-01, -3.56723607e-01],\n",
       "      dtype=float32)"
      ]
     },
     "execution_count": 20,
     "metadata": {},
     "output_type": "execute_result"
    }
   ],
   "source": [
    "model_w2v['trump']"
   ]
  },
  {
   "cell_type": "code",
   "execution_count": 21,
   "metadata": {},
   "outputs": [
    {
     "name": "stderr",
     "output_type": "stream",
     "text": [
      "C:\\ProgramData\\Anaconda3\\lib\\site-packages\\ipykernel_launcher.py:1: DeprecationWarning: Call to deprecated `__getitem__` (Method will be removed in 4.0.0, use self.wv.__getitem__() instead).\n",
      "  \"\"\"Entry point for launching an IPython kernel.\n"
     ]
    },
    {
     "data": {
      "text/plain": [
       "200"
      ]
     },
     "execution_count": 21,
     "metadata": {},
     "output_type": "execute_result"
    }
   ],
   "source": [
    "len(model_w2v['trump'])"
   ]
  },
  {
   "cell_type": "markdown",
   "metadata": {},
   "source": [
    "Here we need to define a function that we can map onto our Tweets, the only reason being we'll get an error if the model can't find the word embedding. My solution to this is just to return a 0 vector if the word doesn't exist in our corpus."
   ]
  },
  {
   "cell_type": "code",
   "execution_count": 22,
   "metadata": {},
   "outputs": [
    {
     "name": "stderr",
     "output_type": "stream",
     "text": [
      "C:\\ProgramData\\Anaconda3\\lib\\site-packages\\ipykernel_launcher.py:3: DeprecationWarning: Call to deprecated `__getitem__` (Method will be removed in 4.0.0, use self.wv.__getitem__() instead).\n",
      "  This is separate from the ipykernel package so we can avoid doing imports until\n"
     ]
    },
    {
     "data": {
      "text/plain": [
       "array([0., 0., 0., 0., 0., 0., 0., 0., 0., 0., 0., 0., 0., 0., 0., 0., 0.,\n",
       "       0., 0., 0., 0., 0., 0., 0., 0., 0., 0., 0., 0., 0., 0., 0., 0., 0.,\n",
       "       0., 0., 0., 0., 0., 0., 0., 0., 0., 0., 0., 0., 0., 0., 0., 0., 0.,\n",
       "       0., 0., 0., 0., 0., 0., 0., 0., 0., 0., 0., 0., 0., 0., 0., 0., 0.,\n",
       "       0., 0., 0., 0., 0., 0., 0., 0., 0., 0., 0., 0., 0., 0., 0., 0., 0.,\n",
       "       0., 0., 0., 0., 0., 0., 0., 0., 0., 0., 0., 0., 0., 0., 0., 0., 0.,\n",
       "       0., 0., 0., 0., 0., 0., 0., 0., 0., 0., 0., 0., 0., 0., 0., 0., 0.,\n",
       "       0., 0., 0., 0., 0., 0., 0., 0., 0., 0., 0., 0., 0., 0., 0., 0., 0.,\n",
       "       0., 0., 0., 0., 0., 0., 0., 0., 0., 0., 0., 0., 0., 0., 0., 0., 0.,\n",
       "       0., 0., 0., 0., 0., 0., 0., 0., 0., 0., 0., 0., 0., 0., 0., 0., 0.,\n",
       "       0., 0., 0., 0., 0., 0., 0., 0., 0., 0., 0., 0., 0., 0., 0., 0., 0.,\n",
       "       0., 0., 0., 0., 0., 0., 0., 0., 0., 0., 0., 0., 0.])"
      ]
     },
     "execution_count": 22,
     "metadata": {},
     "output_type": "execute_result"
    }
   ],
   "source": [
    "def apply_model(model, token, dim=200):\n",
    "    try:\n",
    "        return model[token]\n",
    "    except(KeyError):\n",
    "        return np.zeros(dim)\n",
    "    \n",
    "apply_model(model_w2v, 'schmup') #Testing, yep, this word doesn't exist\n",
    "        "
   ]
  },
  {
   "cell_type": "code",
   "execution_count": 23,
   "metadata": {},
   "outputs": [
    {
     "name": "stderr",
     "output_type": "stream",
     "text": [
      "C:\\ProgramData\\Anaconda3\\lib\\site-packages\\ipykernel_launcher.py:3: DeprecationWarning: Call to deprecated `__getitem__` (Method will be removed in 4.0.0, use self.wv.__getitem__() instead).\n",
      "  This is separate from the ipykernel package so we can avoid doing imports until\n"
     ]
    },
    {
     "data": {
      "text/plain": [
       "(55, 200)"
      ]
     },
     "execution_count": 23,
     "metadata": {},
     "output_type": "execute_result"
    }
   ],
   "source": [
    "inputs = []\n",
    "for tweet_ind in range(len(tokenized_tweet)):\n",
    "    feature_map = []\n",
    "    for word in tokenized_tweet[tweet_ind]:\n",
    "        feature_map.append(apply_model(model_w2v, word))\n",
    "    for i in range(55 - len(feature_map)):\n",
    "        feature_map.append(np.zeros(200))\n",
    "    inputs.append(feature_map)\n",
    "np.shape(inputs[5])"
   ]
  },
  {
   "cell_type": "code",
   "execution_count": 24,
   "metadata": {},
   "outputs": [
    {
     "name": "stdout",
     "output_type": "stream",
     "text": [
      "['dear', 'newooffic', 'great', 'lync', 'updat']\n"
     ]
    }
   ],
   "source": [
    "print(tokenized_tweet[0])"
   ]
  },
  {
   "cell_type": "code",
   "execution_count": 25,
   "metadata": {},
   "outputs": [
    {
     "name": "stdout",
     "output_type": "stream",
     "text": [
      "[1064, 1878, 2134, 3336, 3692]\n"
     ]
    }
   ],
   "source": [
    "print([i for i,v in enumerate(tokenized_tweet) if len(v) > 55])"
   ]
  },
  {
   "cell_type": "code",
   "execution_count": null,
   "metadata": {},
   "outputs": [],
   "source": [
    "tokenized_tweet[1878]"
   ]
  },
  {
   "cell_type": "code",
   "execution_count": null,
   "metadata": {},
   "outputs": [],
   "source": []
  }
 ],
 "metadata": {
  "kernelspec": {
   "display_name": "Python 3",
   "language": "python",
   "name": "python3"
  },
  "language_info": {
   "codemirror_mode": {
    "name": "ipython",
    "version": 3
   },
   "file_extension": ".py",
   "mimetype": "text/x-python",
   "name": "python",
   "nbconvert_exporter": "python",
   "pygments_lexer": "ipython3",
   "version": "3.7.6"
  }
 },
 "nbformat": 4,
 "nbformat_minor": 4
}
