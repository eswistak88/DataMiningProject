{
  "nbformat": 4,
  "nbformat_minor": 0,
  "metadata": {
    "colab": {
      "name": "Ensembles_CNN.ipynb",
      "provenance": [],
      "collapsed_sections": [],
      "mount_file_id": "1tfYUdshSi0VK1JNXsPjlmCYxr4fllBrF",
      "authorship_tag": "ABX9TyM+GlJa0oVk5b5Gui8ZHSNP",
      "include_colab_link": true
    },
    "kernelspec": {
      "name": "python3",
      "display_name": "Python 3"
    },
    "accelerator": "GPU"
  },
  "cells": [
    {
      "cell_type": "markdown",
      "metadata": {
        "id": "view-in-github",
        "colab_type": "text"
      },
      "source": [
        "<a href=\"https://colab.research.google.com/github/eswistak88/DataMiningProject/blob/sabiya/Ensembles_CNN.ipynb\" target=\"_parent\"><img src=\"https://colab.research.google.com/assets/colab-badge.svg\" alt=\"Open In Colab\"/></a>"
      ]
    },
    {
      "cell_type": "code",
      "metadata": {
        "id": "-au6xYmT5TUc"
      },
      "source": [
        "import os\n",
        "import re\n",
        "import glob\n",
        "import struct\n",
        "from os import makedirs\n",
        "\n",
        "import numpy as np\n",
        "from numpy import asarray\n",
        "from numpy import zeros\n",
        "from nltk.stem.porter import *\n",
        "\n",
        "\n",
        "import pandas as pd\n",
        "import tensorflow as tf\n",
        "import tensorflow.keras as keras\n",
        "\n",
        "from keras.preprocessing.text import Tokenizer\n",
        "from keras.preprocessing.sequence import pad_sequences\n",
        "from keras.utils import to_categorical\n",
        "from keras import Model\n",
        "from keras.callbacks import ModelCheckpoint\n",
        "from keras.callbacks import EarlyStopping\n",
        "from keras.wrappers.scikit_learn import KerasClassifier\n",
        "from keras.models import Sequential\n",
        "from keras.layers import Input, Reshape, Conv2D, MaxPool2D, Dense, Dropout, Flatten, Embedding, Concatenate, Conv1D\n",
        "from keras.metrics import CategoricalAccuracy, Precision, Recall\n",
        "from keras import regularizers\n",
        "from keras import backend as K\n",
        "from keras.models import load_model\n",
        "\n",
        "import sklearn\n",
        "from sklearn.ensemble import AdaBoostClassifier\n",
        "from sklearn.model_selection import train_test_split\n",
        "from sklearn import metrics\n",
        "from sklearn.metrics import confusion_matrix\n",
        "from sklearn.model_selection import cross_val_score\n",
        "from sklearn.model_selection import RepeatedStratifiedKFold\n",
        "from sklearn.ensemble import StackingClassifier\n",
        "\n",
        "import matplotlib.pyplot as plt\n"
      ],
      "execution_count": 88,
      "outputs": []
    },
    {
      "cell_type": "markdown",
      "metadata": {
        "id": "iBtvw0JSyyJ0"
      },
      "source": [
        "Load the Dataset\r\n"
      ]
    },
    {
      "cell_type": "code",
      "metadata": {
        "id": "33idFgY-BwTs"
      },
      "source": [
        "os.chdir(\"/content/drive/MyDrive/twit/train\")\n",
        "\n",
        "extension = 'csv'\n",
        "all_filenames = [i for i in glob.glob('*.{}'.format(extension))]\n",
        "\n",
        "#combine all files in the list\n",
        "combined_csv = pd.concat([pd.read_csv(f) for f in all_filenames ])\n",
        "#export to csv\n",
        "combined_csv.to_csv( \"combined_csv.csv\", index=False, encoding='utf-8-sig')"
      ],
      "execution_count": 2,
      "outputs": []
    },
    {
      "cell_type": "code",
      "metadata": {
        "colab": {
          "base_uri": "https://localhost:8080/",
          "height": 195
        },
        "id": "kTFPtv5N5jVw",
        "outputId": "75c8d5e8-c5cc-452f-a6f7-d7f9c7a3911f"
      },
      "source": [
        "names = ['TweetID', 'Sentiment', 'Tweet']\n",
        "\n",
        "train = pd.read_csv('/content/drive/MyDrive/twit/train/combined_csv.csv')\n",
        "\n",
        "train.head()"
      ],
      "execution_count": 3,
      "outputs": [
        {
          "output_type": "execute_result",
          "data": {
            "text/html": [
              "<div>\n",
              "<style scoped>\n",
              "    .dataframe tbody tr th:only-of-type {\n",
              "        vertical-align: middle;\n",
              "    }\n",
              "\n",
              "    .dataframe tbody tr th {\n",
              "        vertical-align: top;\n",
              "    }\n",
              "\n",
              "    .dataframe thead th {\n",
              "        text-align: right;\n",
              "    }\n",
              "</style>\n",
              "<table border=\"1\" class=\"dataframe\">\n",
              "  <thead>\n",
              "    <tr style=\"text-align: right;\">\n",
              "      <th></th>\n",
              "      <th>Column1</th>\n",
              "      <th>Column2</th>\n",
              "      <th>Column3</th>\n",
              "    </tr>\n",
              "  </thead>\n",
              "  <tbody>\n",
              "    <tr>\n",
              "      <th>0</th>\n",
              "      <td>2.641840e+17</td>\n",
              "      <td>positive</td>\n",
              "      <td>Gas by my house hit $3.39!!!! I\\u2019m going t...</td>\n",
              "    </tr>\n",
              "    <tr>\n",
              "      <th>1</th>\n",
              "      <td>2.634050e+17</td>\n",
              "      <td>negative</td>\n",
              "      <td>Theo Walcott is still shit\\u002c watch Rafa an...</td>\n",
              "    </tr>\n",
              "    <tr>\n",
              "      <th>2</th>\n",
              "      <td>2.621630e+17</td>\n",
              "      <td>negative</td>\n",
              "      <td>its not that I\\u2019m a GSP fan\\u002c i just h...</td>\n",
              "    </tr>\n",
              "    <tr>\n",
              "      <th>3</th>\n",
              "      <td>2.642490e+17</td>\n",
              "      <td>negative</td>\n",
              "      <td>Iranian general says Israel\\u2019s Iron Dome c...</td>\n",
              "    </tr>\n",
              "    <tr>\n",
              "      <th>4</th>\n",
              "      <td>2.626820e+17</td>\n",
              "      <td>neutral</td>\n",
              "      <td>Tehran\\u002c Mon Amour: Obama Tried to Establi...</td>\n",
              "    </tr>\n",
              "  </tbody>\n",
              "</table>\n",
              "</div>"
            ],
            "text/plain": [
              "        Column1   Column2                                            Column3\n",
              "0  2.641840e+17  positive  Gas by my house hit $3.39!!!! I\\u2019m going t...\n",
              "1  2.634050e+17  negative  Theo Walcott is still shit\\u002c watch Rafa an...\n",
              "2  2.621630e+17  negative  its not that I\\u2019m a GSP fan\\u002c i just h...\n",
              "3  2.642490e+17  negative  Iranian general says Israel\\u2019s Iron Dome c...\n",
              "4  2.626820e+17   neutral  Tehran\\u002c Mon Amour: Obama Tried to Establi..."
            ]
          },
          "metadata": {
            "tags": []
          },
          "execution_count": 3
        }
      ]
    },
    {
      "cell_type": "markdown",
      "metadata": {
        "id": "PCffl4OOy7bR"
      },
      "source": [
        "Data Preprocessing"
      ]
    },
    {
      "cell_type": "code",
      "metadata": {
        "id": "YI6wwcXYMlVQ"
      },
      "source": [
        "def remove_pattern(input_txt, pattern):\n",
        "  r = re.findall(pattern, input_txt)\n",
        "  for i in r:\n",
        "    input_txt = re.sub(i, '', input_txt)        \n",
        "  return input_txt\n",
        "\n",
        "def clean_tweets(frame, column_name):\n",
        "  frame = frame.drop_duplicates().reset_index(drop=True) #remove duplicate rows\n",
        "  frame['Tweet_Clean_Text'] = np.vectorize(remove_pattern)(frame[column_name], \"RT @[\\w]*:\") #remove twitter return handle\n",
        "  frame.Tweet_Clean_Text = np.vectorize(remove_pattern)(frame['Tweet_Clean_Text'], \"@[\\w]*\") #remove twitter handle\n",
        "  frame.Tweet_Clean_Text = np.vectorize(remove_pattern)(frame['Tweet_Clean_Text'], \"https?://[A-Za-z0-9./]*\") #remove URLs\n",
        "  frame.Tweet_Clean_Text = frame.Tweet_Clean_Text.str.replace(\"[^a-zA-Z#]\", \" \") #remove special characters except for #\n",
        "  frame.Tweet_Clean_Text = frame.Tweet_Clean_Text.replace('\\s+', ' ', regex=True) #remove extra spaces in between words\n",
        "\n",
        "  return frame"
      ],
      "execution_count": 4,
      "outputs": []
    },
    {
      "cell_type": "code",
      "metadata": {
        "colab": {
          "base_uri": "https://localhost:8080/",
          "height": 195
        },
        "id": "F3Et4zHBMzXQ",
        "outputId": "5ec85922-286b-451b-8e89-1e44664ca668"
      },
      "source": [
        "train_set = clean_tweets(train, 'Column3')\n",
        "train_set.head()"
      ],
      "execution_count": 5,
      "outputs": [
        {
          "output_type": "execute_result",
          "data": {
            "text/html": [
              "<div>\n",
              "<style scoped>\n",
              "    .dataframe tbody tr th:only-of-type {\n",
              "        vertical-align: middle;\n",
              "    }\n",
              "\n",
              "    .dataframe tbody tr th {\n",
              "        vertical-align: top;\n",
              "    }\n",
              "\n",
              "    .dataframe thead th {\n",
              "        text-align: right;\n",
              "    }\n",
              "</style>\n",
              "<table border=\"1\" class=\"dataframe\">\n",
              "  <thead>\n",
              "    <tr style=\"text-align: right;\">\n",
              "      <th></th>\n",
              "      <th>Column1</th>\n",
              "      <th>Column2</th>\n",
              "      <th>Column3</th>\n",
              "      <th>Tweet_Clean_Text</th>\n",
              "    </tr>\n",
              "  </thead>\n",
              "  <tbody>\n",
              "    <tr>\n",
              "      <th>0</th>\n",
              "      <td>2.641840e+17</td>\n",
              "      <td>positive</td>\n",
              "      <td>Gas by my house hit $3.39!!!! I\\u2019m going t...</td>\n",
              "      <td>Gas by my house hit I u m going to Chapel Hill...</td>\n",
              "    </tr>\n",
              "    <tr>\n",
              "      <th>1</th>\n",
              "      <td>2.634050e+17</td>\n",
              "      <td>negative</td>\n",
              "      <td>Theo Walcott is still shit\\u002c watch Rafa an...</td>\n",
              "      <td>Theo Walcott is still shit u c watch Rafa and ...</td>\n",
              "    </tr>\n",
              "    <tr>\n",
              "      <th>2</th>\n",
              "      <td>2.621630e+17</td>\n",
              "      <td>negative</td>\n",
              "      <td>its not that I\\u2019m a GSP fan\\u002c i just h...</td>\n",
              "      <td>its not that I u m a GSP fan u c i just hate N...</td>\n",
              "    </tr>\n",
              "    <tr>\n",
              "      <th>3</th>\n",
              "      <td>2.642490e+17</td>\n",
              "      <td>negative</td>\n",
              "      <td>Iranian general says Israel\\u2019s Iron Dome c...</td>\n",
              "      <td>Iranian general says Israel u s Iron Dome can ...</td>\n",
              "    </tr>\n",
              "    <tr>\n",
              "      <th>4</th>\n",
              "      <td>2.626820e+17</td>\n",
              "      <td>neutral</td>\n",
              "      <td>Tehran\\u002c Mon Amour: Obama Tried to Establi...</td>\n",
              "      <td>Tehran u c Mon Amour Obama Tried to Establish ...</td>\n",
              "    </tr>\n",
              "  </tbody>\n",
              "</table>\n",
              "</div>"
            ],
            "text/plain": [
              "        Column1  ...                                   Tweet_Clean_Text\n",
              "0  2.641840e+17  ...  Gas by my house hit I u m going to Chapel Hill...\n",
              "1  2.634050e+17  ...  Theo Walcott is still shit u c watch Rafa and ...\n",
              "2  2.621630e+17  ...  its not that I u m a GSP fan u c i just hate N...\n",
              "3  2.642490e+17  ...  Iranian general says Israel u s Iron Dome can ...\n",
              "4  2.626820e+17  ...  Tehran u c Mon Amour Obama Tried to Establish ...\n",
              "\n",
              "[5 rows x 4 columns]"
            ]
          },
          "metadata": {
            "tags": []
          },
          "execution_count": 5
        }
      ]
    },
    {
      "cell_type": "code",
      "metadata": {
        "colab": {
          "base_uri": "https://localhost:8080/",
          "height": 402
        },
        "id": "oz2kEFcsaT0b",
        "outputId": "20d048fb-427d-45dd-e9de-19645bbff639"
      },
      "source": [
        "train_set[\"Sentiment_Value\"] = train_set[\"Column2\"].map({\"neutral\": 0, \"positive\": 1, \"negative\": 2})\r\n",
        "label = to_categorical(train_set[\"Sentiment_Value\"], 3)\r\n",
        "train_set"
      ],
      "execution_count": 6,
      "outputs": [
        {
          "output_type": "execute_result",
          "data": {
            "text/html": [
              "<div>\n",
              "<style scoped>\n",
              "    .dataframe tbody tr th:only-of-type {\n",
              "        vertical-align: middle;\n",
              "    }\n",
              "\n",
              "    .dataframe tbody tr th {\n",
              "        vertical-align: top;\n",
              "    }\n",
              "\n",
              "    .dataframe thead th {\n",
              "        text-align: right;\n",
              "    }\n",
              "</style>\n",
              "<table border=\"1\" class=\"dataframe\">\n",
              "  <thead>\n",
              "    <tr style=\"text-align: right;\">\n",
              "      <th></th>\n",
              "      <th>Column1</th>\n",
              "      <th>Column2</th>\n",
              "      <th>Column3</th>\n",
              "      <th>Tweet_Clean_Text</th>\n",
              "      <th>Sentiment_Value</th>\n",
              "    </tr>\n",
              "  </thead>\n",
              "  <tbody>\n",
              "    <tr>\n",
              "      <th>0</th>\n",
              "      <td>2.641840e+17</td>\n",
              "      <td>positive</td>\n",
              "      <td>Gas by my house hit $3.39!!!! I\\u2019m going t...</td>\n",
              "      <td>Gas by my house hit I u m going to Chapel Hill...</td>\n",
              "      <td>1</td>\n",
              "    </tr>\n",
              "    <tr>\n",
              "      <th>1</th>\n",
              "      <td>2.634050e+17</td>\n",
              "      <td>negative</td>\n",
              "      <td>Theo Walcott is still shit\\u002c watch Rafa an...</td>\n",
              "      <td>Theo Walcott is still shit u c watch Rafa and ...</td>\n",
              "      <td>2</td>\n",
              "    </tr>\n",
              "    <tr>\n",
              "      <th>2</th>\n",
              "      <td>2.621630e+17</td>\n",
              "      <td>negative</td>\n",
              "      <td>its not that I\\u2019m a GSP fan\\u002c i just h...</td>\n",
              "      <td>its not that I u m a GSP fan u c i just hate N...</td>\n",
              "      <td>2</td>\n",
              "    </tr>\n",
              "    <tr>\n",
              "      <th>3</th>\n",
              "      <td>2.642490e+17</td>\n",
              "      <td>negative</td>\n",
              "      <td>Iranian general says Israel\\u2019s Iron Dome c...</td>\n",
              "      <td>Iranian general says Israel u s Iron Dome can ...</td>\n",
              "      <td>2</td>\n",
              "    </tr>\n",
              "    <tr>\n",
              "      <th>4</th>\n",
              "      <td>2.626820e+17</td>\n",
              "      <td>neutral</td>\n",
              "      <td>Tehran\\u002c Mon Amour: Obama Tried to Establi...</td>\n",
              "      <td>Tehran u c Mon Amour Obama Tried to Establish ...</td>\n",
              "      <td>0</td>\n",
              "    </tr>\n",
              "    <tr>\n",
              "      <th>...</th>\n",
              "      <td>...</td>\n",
              "      <td>...</td>\n",
              "      <td>...</td>\n",
              "      <td>...</td>\n",
              "      <td>...</td>\n",
              "    </tr>\n",
              "    <tr>\n",
              "      <th>49710</th>\n",
              "      <td>6.820000e+17</td>\n",
              "      <td>neutral</td>\n",
              "      <td>@ShaquilleHoNeal from what I think you're aski...</td>\n",
              "      <td>from what I think you re asking in no order F...</td>\n",
              "      <td>0</td>\n",
              "    </tr>\n",
              "    <tr>\n",
              "      <th>49711</th>\n",
              "      <td>6.820000e+17</td>\n",
              "      <td>positive</td>\n",
              "      <td>Iran ranks 1st in liver surgeries, Allah bless...</td>\n",
              "      <td>Iran ranks st in liver surgeries Allah bless t...</td>\n",
              "      <td>1</td>\n",
              "    </tr>\n",
              "    <tr>\n",
              "      <th>49712</th>\n",
              "      <td>6.820000e+17</td>\n",
              "      <td>neutral</td>\n",
              "      <td>Hours before he arrived in Saudi Arabia on Tue...</td>\n",
              "      <td>Hours before he arrived in Saudi Arabia on Tue...</td>\n",
              "      <td>0</td>\n",
              "    </tr>\n",
              "    <tr>\n",
              "      <th>49713</th>\n",
              "      <td>6.820000e+17</td>\n",
              "      <td>negative</td>\n",
              "      <td>@VanityFair  Alex Kim Kardashian worth how to ...</td>\n",
              "      <td>Alex Kim Kardashian worth how to love Kim Kar...</td>\n",
              "      <td>2</td>\n",
              "    </tr>\n",
              "    <tr>\n",
              "      <th>49714</th>\n",
              "      <td>6.820000e+17</td>\n",
              "      <td>neutral</td>\n",
              "      <td>I guess even Pandora knows Justin Bieber is a ...</td>\n",
              "      <td>I guess even Pandora knows Justin Bieber is a ...</td>\n",
              "      <td>0</td>\n",
              "    </tr>\n",
              "  </tbody>\n",
              "</table>\n",
              "<p>49715 rows × 5 columns</p>\n",
              "</div>"
            ],
            "text/plain": [
              "            Column1  ... Sentiment_Value\n",
              "0      2.641840e+17  ...               1\n",
              "1      2.634050e+17  ...               2\n",
              "2      2.621630e+17  ...               2\n",
              "3      2.642490e+17  ...               2\n",
              "4      2.626820e+17  ...               0\n",
              "...             ...  ...             ...\n",
              "49710  6.820000e+17  ...               0\n",
              "49711  6.820000e+17  ...               1\n",
              "49712  6.820000e+17  ...               0\n",
              "49713  6.820000e+17  ...               2\n",
              "49714  6.820000e+17  ...               0\n",
              "\n",
              "[49715 rows x 5 columns]"
            ]
          },
          "metadata": {
            "tags": []
          },
          "execution_count": 6
        }
      ]
    },
    {
      "cell_type": "code",
      "metadata": {
        "colab": {
          "base_uri": "https://localhost:8080/"
        },
        "id": "qbRAhnz3FXOX",
        "outputId": "d291840f-a2bb-49da-c5c7-6f00ebb924ab"
      },
      "source": [
        "y_labels = train_set['Sentiment_Value']\r\n",
        "y_labels.shape"
      ],
      "execution_count": 7,
      "outputs": [
        {
          "output_type": "execute_result",
          "data": {
            "text/plain": [
              "(49715,)"
            ]
          },
          "metadata": {
            "tags": []
          },
          "execution_count": 7
        }
      ]
    },
    {
      "cell_type": "code",
      "metadata": {
        "colab": {
          "base_uri": "https://localhost:8080/"
        },
        "id": "lPrL0u6wqIuI",
        "outputId": "38dd4aa4-ec9a-48cf-8626-16d99c916137"
      },
      "source": [
        "train['l'] = train_set['Tweet_Clean_Text'].apply(lambda x: len(str(x).split(' ')))\n",
        "print(\"mean length of sentence: \" + str(train.l.mean()))\n",
        "print(\"max length of sentence: \" + str(train.l.max()))\n",
        "print(\"std dev length of sentence: \" + str(train.l.std()))"
      ],
      "execution_count": 8,
      "outputs": [
        {
          "output_type": "stream",
          "text": [
            "mean length of sentence: 20.210278587951322\n",
            "max length of sentence: 47.0\n",
            "std dev length of sentence: 5.2648519182168725\n"
          ],
          "name": "stdout"
        }
      ]
    },
    {
      "cell_type": "code",
      "metadata": {
        "id": "JmNsjX3Z1K7Q"
      },
      "source": [
        "sequence_length = 47 #using the maximum length "
      ],
      "execution_count": 9,
      "outputs": []
    },
    {
      "cell_type": "code",
      "metadata": {
        "colab": {
          "base_uri": "https://localhost:8080/"
        },
        "id": "7mrlqPjcqhUI",
        "outputId": "30151b7e-b51e-46c7-c7ea-91e18cbc79f7"
      },
      "source": [
        "max_features = 2500\n",
        "tokenizer = Tokenizer(num_words=max_features, split=' ', oov_token='<unw>')\n",
        "tokenizer.fit_on_texts(train_set['Tweet_Clean_Text'].values)\n",
        "\n",
        "X = tokenizer.texts_to_sequences(train_set['Tweet_Clean_Text'].values)\n",
        "X = pad_sequences(X, sequence_length)\n",
        "x_train = X\n",
        "\n",
        "print(\"training size \" + str(len(x_train)))\n",
        "\n",
        "voc_size = len(tokenizer.word_index) + 1\n",
        "print(\"Vocab size: \", voc_size)\n",
        "print(\"Input shape: \", x_train.shape)\n",
        "print(\"Y_shape: \" , y_labels.shape)"
      ],
      "execution_count": 10,
      "outputs": [
        {
          "output_type": "stream",
          "text": [
            "training size 49715\n",
            "Vocab size:  42660\n",
            "Input shape:  (49715, 47)\n",
            "Y_shape:  (49715,)\n"
          ],
          "name": "stdout"
        }
      ]
    },
    {
      "cell_type": "markdown",
      "metadata": {
        "id": "vsv4hwJPzD7o"
      },
      "source": [
        "Spliting the dataset"
      ]
    },
    {
      "cell_type": "code",
      "metadata": {
        "id": "AhX8T4-NBO-A"
      },
      "source": [
        "X_train, X_dev, Y_train, Y_dev = train_test_split(x_train, y_labels, test_size=0.15, shuffle=True, random_state=10)"
      ],
      "execution_count": 11,
      "outputs": []
    },
    {
      "cell_type": "markdown",
      "metadata": {
        "id": "8ml2XYDrzKsZ"
      },
      "source": [
        "GloVe Embedding"
      ]
    },
    {
      "cell_type": "code",
      "metadata": {
        "colab": {
          "base_uri": "https://localhost:8080/"
        },
        "id": "lZf4uIiIm_6A",
        "outputId": "5d2007ec-8511-4fb4-9a17-5d7bfbad1a36"
      },
      "source": [
        "embeddings_index = dict()\r\n",
        "f = open('/content/drive/MyDrive/glove.twitter.27B/glove.twitter.27B.200d.txt')\r\n",
        "for line in f:\r\n",
        "\tvalues = line.split()\r\n",
        "\tword = values[0]\r\n",
        "\tcoefs = asarray(values[1:], dtype='float32')\r\n",
        "\tembeddings_index[word] = coefs\r\n",
        "f.close()\r\n",
        "print('Loaded %s word vectors.' % len(embeddings_index))"
      ],
      "execution_count": 12,
      "outputs": [
        {
          "output_type": "stream",
          "text": [
            "Loaded 1193514 word vectors.\n"
          ],
          "name": "stdout"
        }
      ]
    },
    {
      "cell_type": "code",
      "metadata": {
        "id": "MoMjKu5Ln5ip"
      },
      "source": [
        "embedding_dim = 200\r\n",
        "embedding_matrix = np.zeros((voc_size, embedding_dim))\r\n",
        "for word, i in tokenizer.word_index.items():\r\n",
        "\tembedding_vector = embeddings_index.get(word)\r\n",
        "\tif embedding_vector is not None:\r\n",
        "\t\tembedding_matrix[i] = embedding_vector"
      ],
      "execution_count": 60,
      "outputs": []
    },
    {
      "cell_type": "markdown",
      "metadata": {
        "id": "EjkJUqRdzZbZ"
      },
      "source": [
        "**Stacked CNN Predictions Ensemble**"
      ]
    },
    {
      "cell_type": "code",
      "metadata": {
        "id": "-V1hQ64eu5Dz"
      },
      "source": [
        "import seaborn as sns\r\n",
        "from sklearn import metrics\r\n",
        "\r\n",
        "THRESHOLD = 0.35\r\n",
        "\r\n",
        "class EpochMetricsCallback(keras.callbacks.Callback):\r\n",
        "    def on_train_begin(self, logs={}):\r\n",
        "        self.f1s = []\r\n",
        "        self.precisions = []\r\n",
        "        self.recalls = []\r\n",
        "        \r\n",
        "    def on_epoch_end(self, epoch, logs={}):\r\n",
        "        predictions = self.model.predict(self.validation_data[0])\r\n",
        "        predictions = (predictions > THRESHOLD).astype(int)\r\n",
        "        predictions = np.asarray(predictions)\r\n",
        "        targets = self.validation_data[1]\r\n",
        "        f1 = metrics.f1_score(targets, predictions)\r\n",
        "        precision = metrics.precision_score(targets, predictions)\r\n",
        "        recall = metrics.recall_score(targets, predictions)\r\n",
        "\r\n",
        "        print(\" - F1 score: {0:.4f}, Precision: {1:.4f}, Recall: {2:.4f}\"\r\n",
        "              .format(f1, precision, recall))\r\n",
        "        self.f1s.append(f1)\r\n",
        "        self.precisions.append(precision)\r\n",
        "        self.recalls.append(recall)\r\n",
        "        return\r\n",
        "    \r\n",
        "def display_model_history(history):\r\n",
        "    data = pd.DataFrame(data={'Train': history.history['loss'], 'Test': history.history['val_loss']})\r\n",
        "    ax = sns.lineplot(data=data, palette=\"pastel\", linewidth=2.5, dashes=False)\r\n",
        "    ax.set(xlabel='Epoch', ylabel='Loss', title='Loss')\r\n",
        "    plt.show()\r\n",
        "\r\n",
        "def display_model_epoch_metrics(epoch_callback):\r\n",
        "    fig, axes = plt.subplots(1, 3, figsize = (15, 5), sharey=False)\r\n",
        "    a1, a2, a3 = axes\r\n",
        "    \r\n",
        "    a1.set_title('F1')\r\n",
        "    a1.set(xlabel='Epoch', title='F1')\r\n",
        "    sns.lineplot(data=pd.DataFrame(data={'F1': epoch_callback.f1s}),\r\n",
        "                 palette=\"pastel\", linewidth=2.5, dashes=False, ax=a1, legend=False)\r\n",
        "\r\n",
        "    a2.set_title('Precision')\r\n",
        "    a2.set(xlabel='Epoch', title='Precision')\r\n",
        "    sns.lineplot(data=pd.DataFrame(data={'Precision': epoch_callback.precisions}),\r\n",
        "                 palette=\"pastel\", linewidth=2.5, dashes=False, ax=a2, legend=False)\r\n",
        "\r\n",
        "    a3.set_title('Recall')\r\n",
        "    a3.set(xlabel='Epoch', title='Recall')\r\n",
        "    sns.lineplot(data=pd.DataFrame(data={'Recall': epoch_callback.recalls}),\r\n",
        "                 palette=\"pastel\", linewidth=2.5, dashes=False, ax=a3, legend=False)\r\n",
        "\r\n",
        "    plt.show()"
      ],
      "execution_count": 14,
      "outputs": []
    },
    {
      "cell_type": "code",
      "metadata": {
        "id": "BozDxovPxPyp"
      },
      "source": [
        "Y_train_cat = to_categorical(Y_train, 3)\r\n",
        "Y_dev_cat = to_categorical(Y_dev, 3)"
      ],
      "execution_count": 15,
      "outputs": []
    },
    {
      "cell_type": "code",
      "metadata": {
        "id": "483TEfXdo_OF"
      },
      "source": [
        "def recall_score(y_true, y_pred):\r\n",
        "    true_positives = K.sum(K.round(K.clip(y_true * y_pred, 0, 1)))\r\n",
        "    possible_positives = K.sum(K.round(K.clip(y_true, 0, 1)))\r\n",
        "    recall = true_positives / (possible_positives + K.epsilon())\r\n",
        "    recall_score.__name__ = 'recall'\r\n",
        "    return recall\r\n",
        "\r\n",
        "def precision_score(y_true, y_pred):\r\n",
        "    true_positives = K.sum(K.round(K.clip(y_true * y_pred, 0, 1)))\r\n",
        "    predicted_positives = K.sum(K.round(K.clip(y_pred, 0, 1)))\r\n",
        "    precision = true_positives / (predicted_positives + K.epsilon())\r\n",
        "    precision_score.__name__ = 'precision'\r\n",
        "    return precision\r\n",
        "\r\n",
        "def f1_metrics(y_true, y_pred):\r\n",
        "    precision = precision_score(y_true, y_pred)\r\n",
        "    recall = recall_score(y_true, y_pred)\r\n",
        "    f1_metrics.__name__ = 'f1'\r\n",
        "    return 2*((precision*recall)/(precision+recall+K.epsilon()))\r\n"
      ],
      "execution_count": 16,
      "outputs": []
    },
    {
      "cell_type": "code",
      "metadata": {
        "id": "OwhTPRwfpFGx"
      },
      "source": [
        "Metrics = [\r\n",
        "           keras.metrics.CategoricalAccuracy(name = 'categorical_accuracy'),\r\n",
        "           keras.metrics.Precision(name='precision'),\r\n",
        "           keras.metrics.Recall(name='recall'),\r\n",
        "           f1_metrics\r\n",
        "]"
      ],
      "execution_count": 17,
      "outputs": []
    },
    {
      "cell_type": "code",
      "metadata": {
        "id": "WHGiF4BTxRya"
      },
      "source": [
        "def cnn(filter_size):\r\n",
        "  model = Sequential()\r\n",
        "  model.add(keras.layers.Input(shape=(sequence_length, ), dtype='int32'))\r\n",
        "  model.add(Embedding(input_dim=voc_size, output_dim=embedding_dim, weights = [embedding_matrix],input_length=sequence_length))\r\n",
        "  model.add(Reshape((sequence_length, embedding_dim, 1)))\r\n",
        "  model.add(Conv2D(256, kernel_size=(filter_size, embedding_dim), activation='relu', kernel_regularizer=regularizers.l2(3)))\r\n",
        "  model.add(MaxPool2D(pool_size=(sequence_length - filter_size + 1, 1), strides=(1,1), padding='valid'))\r\n",
        "  model.add(Flatten())\r\n",
        "  model.add(Dropout(0.5))\r\n",
        "  model.add(Dense(units=352, activation='relu'))\r\n",
        "  model.add(Dense(units=3, activation='softmax'))\r\n",
        "  model.compile(loss='categorical_crossentropy', optimizer='adam', metrics=Metrics)\r\n",
        "  model.summary()\r\n",
        "  return model"
      ],
      "execution_count": 21,
      "outputs": []
    },
    {
      "cell_type": "code",
      "metadata": {
        "colab": {
          "base_uri": "https://localhost:8080/",
          "height": 1000
        },
        "id": "C21xzCl_vrHD",
        "outputId": "fd7e09df-9fd1-4181-9c43-20a4c7823e6a"
      },
      "source": [
        "train_predictions = []\r\n",
        "test_predictions = []\r\n",
        "\r\n",
        "filter_sizes = [3,5,7,9,11]\r\n",
        "\r\n",
        "\r\n",
        "for f in filter_sizes:\r\n",
        "  print(\"CNN MODEL WITH FILTER OF SIZE {0}\".format(f))\r\n",
        "  model = cnn(f)\r\n",
        "\r\n",
        "  history = model.fit(x=X_train, y=Y_train_cat, validation_data=(X_dev, Y_dev_cat), batch_size=1028, epochs=20, verbose=2)\r\n",
        "  display_model_history(history)\r\n",
        "\r\n",
        "    \r\n",
        "  train_predictions.append(model.predict_classes([X_train], batch_size=1024, verbose=2))\r\n",
        "  test_predictions.append(model.predict_classes([X_dev], batch_size=1024, verbose=2))\r\n"
      ],
      "execution_count": 23,
      "outputs": [
        {
          "output_type": "stream",
          "text": [
            "CNN MODEL WITH FILTER OF SIZE 3\n",
            "Model: \"sequential_2\"\n",
            "_________________________________________________________________\n",
            "Layer (type)                 Output Shape              Param #   \n",
            "=================================================================\n",
            "embedding_2 (Embedding)      (None, 47, 200)           8532000   \n",
            "_________________________________________________________________\n",
            "reshape_2 (Reshape)          (None, 47, 200, 1)        0         \n",
            "_________________________________________________________________\n",
            "conv2d_2 (Conv2D)            (None, 45, 1, 256)        153856    \n",
            "_________________________________________________________________\n",
            "max_pooling2d_2 (MaxPooling2 (None, 1, 1, 256)         0         \n",
            "_________________________________________________________________\n",
            "flatten_2 (Flatten)          (None, 256)               0         \n",
            "_________________________________________________________________\n",
            "dropout_2 (Dropout)          (None, 256)               0         \n",
            "_________________________________________________________________\n",
            "dense_4 (Dense)              (None, 352)               90464     \n",
            "_________________________________________________________________\n",
            "dense_5 (Dense)              (None, 3)                 1059      \n",
            "=================================================================\n",
            "Total params: 8,777,379\n",
            "Trainable params: 8,777,379\n",
            "Non-trainable params: 0\n",
            "_________________________________________________________________\n",
            "Epoch 1/20\n",
            "42/42 - 6s - loss: 1.5569 - categorical_accuracy: 0.5067 - precision: 0.6350 - recall: 0.1883 - f1: 0.0021 - val_loss: 1.0609 - val_categorical_accuracy: 0.4788 - val_precision: 0.0000e+00 - val_recall: 0.0000e+00 - val_f1: 0.0000e+00\n",
            "Epoch 2/20\n",
            "42/42 - 5s - loss: 1.0258 - categorical_accuracy: 0.5126 - precision: 0.7200 - recall: 0.0465 - f1: 0.0818 - val_loss: 1.0145 - val_categorical_accuracy: 0.5756 - val_precision: 0.6150 - val_recall: 0.4461 - val_f1: 0.5159\n",
            "Epoch 3/20\n",
            "42/42 - 5s - loss: 1.0132 - categorical_accuracy: 0.5862 - precision: 0.6413 - recall: 0.4221 - f1: 0.5055 - val_loss: 1.0265 - val_categorical_accuracy: 0.5917 - val_precision: 0.6183 - val_recall: 0.5314 - val_f1: 0.5713\n",
            "Epoch 4/20\n",
            "42/42 - 5s - loss: 1.0305 - categorical_accuracy: 0.5995 - precision: 0.6403 - recall: 0.4862 - f1: 0.5521 - val_loss: 1.0209 - val_categorical_accuracy: 0.6082 - val_precision: 0.6774 - val_recall: 0.4263 - val_f1: 0.5213\n",
            "Epoch 5/20\n",
            "42/42 - 5s - loss: 1.0307 - categorical_accuracy: 0.6070 - precision: 0.6529 - recall: 0.4994 - f1: 0.5667 - val_loss: 1.0472 - val_categorical_accuracy: 0.5980 - val_precision: 0.6343 - val_recall: 0.5350 - val_f1: 0.5796\n",
            "Epoch 6/20\n",
            "42/42 - 5s - loss: 1.0314 - categorical_accuracy: 0.6166 - precision: 0.6617 - recall: 0.5158 - f1: 0.5791 - val_loss: 1.0523 - val_categorical_accuracy: 0.6118 - val_precision: 0.6312 - val_recall: 0.5731 - val_f1: 0.6017\n",
            "Epoch 7/20\n",
            "42/42 - 5s - loss: 1.0202 - categorical_accuracy: 0.6196 - precision: 0.6611 - recall: 0.5313 - f1: 0.5905 - val_loss: 1.0031 - val_categorical_accuracy: 0.6222 - val_precision: 0.6535 - val_recall: 0.5522 - val_f1: 0.5975\n",
            "Epoch 8/20\n",
            "42/42 - 5s - loss: 1.0048 - categorical_accuracy: 0.6256 - precision: 0.6625 - recall: 0.5476 - f1: 0.5981 - val_loss: 0.9901 - val_categorical_accuracy: 0.6289 - val_precision: 0.6869 - val_recall: 0.5086 - val_f1: 0.5863\n",
            "Epoch 9/20\n",
            "42/42 - 5s - loss: 0.9958 - categorical_accuracy: 0.6292 - precision: 0.6669 - recall: 0.5484 - f1: 0.6006 - val_loss: 0.9757 - val_categorical_accuracy: 0.6378 - val_precision: 0.7066 - val_recall: 0.4992 - val_f1: 0.5846\n",
            "Epoch 10/20\n",
            "42/42 - 5s - loss: 0.9849 - categorical_accuracy: 0.6310 - precision: 0.6706 - recall: 0.5512 - f1: 0.6041 - val_loss: 0.9532 - val_categorical_accuracy: 0.6459 - val_precision: 0.6889 - val_recall: 0.5520 - val_f1: 0.6134\n",
            "Epoch 11/20\n",
            "42/42 - 5s - loss: 0.9784 - categorical_accuracy: 0.6334 - precision: 0.6708 - recall: 0.5573 - f1: 0.6098 - val_loss: 0.9888 - val_categorical_accuracy: 0.6234 - val_precision: 0.6552 - val_recall: 0.5569 - val_f1: 0.6022\n",
            "Epoch 12/20\n",
            "42/42 - 5s - loss: 0.9656 - categorical_accuracy: 0.6337 - precision: 0.6732 - recall: 0.5569 - f1: 0.6110 - val_loss: 0.9758 - val_categorical_accuracy: 0.6354 - val_precision: 0.6589 - val_recall: 0.5980 - val_f1: 0.6289\n",
            "Epoch 13/20\n",
            "42/42 - 5s - loss: 0.9576 - categorical_accuracy: 0.6356 - precision: 0.6707 - recall: 0.5620 - f1: 0.6118 - val_loss: 0.9408 - val_categorical_accuracy: 0.6411 - val_precision: 0.6821 - val_recall: 0.5664 - val_f1: 0.6198\n",
            "Epoch 14/20\n",
            "42/42 - 5s - loss: 0.9610 - categorical_accuracy: 0.6368 - precision: 0.6754 - recall: 0.5649 - f1: 0.6153 - val_loss: 0.9794 - val_categorical_accuracy: 0.6209 - val_precision: 0.6760 - val_recall: 0.5186 - val_f1: 0.5856\n",
            "Epoch 15/20\n",
            "42/42 - 5s - loss: 0.9577 - categorical_accuracy: 0.6356 - precision: 0.6718 - recall: 0.5616 - f1: 0.6110 - val_loss: 0.9294 - val_categorical_accuracy: 0.6459 - val_precision: 0.6839 - val_recall: 0.5708 - val_f1: 0.6205\n",
            "Epoch 16/20\n",
            "42/42 - 5s - loss: 0.9455 - categorical_accuracy: 0.6376 - precision: 0.6761 - recall: 0.5643 - f1: 0.6156 - val_loss: 0.9612 - val_categorical_accuracy: 0.6335 - val_precision: 0.6624 - val_recall: 0.5782 - val_f1: 0.6188\n",
            "Epoch 17/20\n",
            "42/42 - 5s - loss: 0.9565 - categorical_accuracy: 0.6391 - precision: 0.6789 - recall: 0.5631 - f1: 0.6160 - val_loss: 0.9555 - val_categorical_accuracy: 0.6368 - val_precision: 0.6709 - val_recall: 0.5748 - val_f1: 0.6211\n",
            "Epoch 18/20\n",
            "42/42 - 5s - loss: 0.9408 - categorical_accuracy: 0.6394 - precision: 0.6819 - recall: 0.5663 - f1: 0.6180 - val_loss: 0.9424 - val_categorical_accuracy: 0.6254 - val_precision: 0.7024 - val_recall: 0.4808 - val_f1: 0.5731\n",
            "Epoch 19/20\n",
            "42/42 - 5s - loss: 0.9410 - categorical_accuracy: 0.6408 - precision: 0.6808 - recall: 0.5583 - f1: 0.6119 - val_loss: 0.9428 - val_categorical_accuracy: 0.6302 - val_precision: 0.6914 - val_recall: 0.5122 - val_f1: 0.5878\n",
            "Epoch 20/20\n",
            "42/42 - 5s - loss: 0.9465 - categorical_accuracy: 0.6377 - precision: 0.6785 - recall: 0.5616 - f1: 0.6139 - val_loss: 0.9318 - val_categorical_accuracy: 0.6407 - val_precision: 0.6834 - val_recall: 0.5451 - val_f1: 0.6083\n"
          ],
          "name": "stdout"
        },
        {
          "output_type": "display_data",
          "data": {
            "image/png": "[encoded data removed]",
            "text/plain": [
              "<Figure size 432x288 with 1 Axes>"
            ]
          },
          "metadata": {
            "tags": [],
            "needs_background": "light"
          }
        },
        {
          "output_type": "stream",
          "text": [
            "/usr/local/lib/python3.6/dist-packages/tensorflow/python/keras/engine/sequential.py:450: UserWarning: `model.predict_classes()` is deprecated and will be removed after 2021-01-01. Please use instead:* `np.argmax(model.predict(x), axis=-1)`,   if your model does multi-class classification   (e.g. if it uses a `softmax` last-layer activation).* `(model.predict(x) > 0.5).astype(\"int32\")`,   if your model does binary classification   (e.g. if it uses a `sigmoid` last-layer activation).\n",
            "  warnings.warn('`model.predict_classes()` is deprecated and '\n"
          ],
          "name": "stderr"
        },
        {
          "output_type": "stream",
          "text": [
            "42/42 - 1s\n",
            "8/8 - 0s\n",
            "CNN MODEL WITH FILTER OF SIZE 5\n",
            "Model: \"sequential_3\"\n",
            "_________________________________________________________________\n",
            "Layer (type)                 Output Shape              Param #   \n",
            "=================================================================\n",
            "embedding_3 (Embedding)      (None, 47, 200)           8532000   \n",
            "_________________________________________________________________\n",
            "reshape_3 (Reshape)          (None, 47, 200, 1)        0         \n",
            "_________________________________________________________________\n",
            "conv2d_3 (Conv2D)            (None, 43, 1, 256)        256256    \n",
            "_________________________________________________________________\n",
            "max_pooling2d_3 (MaxPooling2 (None, 1, 1, 256)         0         \n",
            "_________________________________________________________________\n",
            "flatten_3 (Flatten)          (None, 256)               0         \n",
            "_________________________________________________________________\n",
            "dropout_3 (Dropout)          (None, 256)               0         \n",
            "_________________________________________________________________\n",
            "dense_6 (Dense)              (None, 352)               90464     \n",
            "_________________________________________________________________\n",
            "dense_7 (Dense)              (None, 3)                 1059      \n",
            "=================================================================\n",
            "Total params: 8,879,779\n",
            "Trainable params: 8,879,779\n",
            "Non-trainable params: 0\n",
            "_________________________________________________________________\n",
            "Epoch 1/20\n",
            "42/42 - 7s - loss: 1.5434 - categorical_accuracy: 0.4796 - precision: 0.6760 - recall: 0.0833 - f1: 0.0034 - val_loss: 1.0787 - val_categorical_accuracy: 0.4504 - val_precision: 0.6237 - val_recall: 0.0967 - val_f1: 0.1654\n",
            "Epoch 2/20\n",
            "42/42 - 5s - loss: 1.0424 - categorical_accuracy: 0.5048 - precision: 0.6406 - recall: 0.1045 - f1: 0.1640 - val_loss: 1.0470 - val_categorical_accuracy: 0.5748 - val_precision: 0.7056 - val_recall: 0.2124 - val_f1: 0.3288\n",
            "Epoch 3/20\n",
            "42/42 - 5s - loss: 1.0683 - categorical_accuracy: 0.5744 - precision: 0.6230 - recall: 0.4182 - f1: 0.4981 - val_loss: 1.1354 - val_categorical_accuracy: 0.5329 - val_precision: 0.5482 - val_recall: 0.4916 - val_f1: 0.5156\n",
            "Epoch 4/20\n",
            "42/42 - 5s - loss: 1.0520 - categorical_accuracy: 0.5931 - precision: 0.6384 - recall: 0.4693 - f1: 0.5399 - val_loss: 1.0623 - val_categorical_accuracy: 0.5981 - val_precision: 0.6213 - val_recall: 0.5590 - val_f1: 0.5882\n",
            "Epoch 5/20\n",
            "42/42 - 5s - loss: 1.0538 - categorical_accuracy: 0.6041 - precision: 0.6485 - recall: 0.4919 - f1: 0.5583 - val_loss: 1.0336 - val_categorical_accuracy: 0.6101 - val_precision: 0.6907 - val_recall: 0.4812 - val_f1: 0.5660\n",
            "Epoch 6/20\n",
            "42/42 - 5s - loss: 1.0680 - categorical_accuracy: 0.6143 - precision: 0.6581 - recall: 0.5126 - f1: 0.5750 - val_loss: 1.0499 - val_categorical_accuracy: 0.6268 - val_precision: 0.6889 - val_recall: 0.5088 - val_f1: 0.5855\n",
            "Epoch 7/20\n",
            "42/42 - 5s - loss: 1.0771 - categorical_accuracy: 0.6146 - precision: 0.6559 - recall: 0.5241 - f1: 0.5842 - val_loss: 1.0312 - val_categorical_accuracy: 0.6290 - val_precision: 0.6760 - val_recall: 0.5416 - val_f1: 0.6020\n",
            "Epoch 8/20\n",
            "42/42 - 5s - loss: 1.0525 - categorical_accuracy: 0.6236 - precision: 0.6608 - recall: 0.5423 - f1: 0.5938 - val_loss: 1.0142 - val_categorical_accuracy: 0.6398 - val_precision: 0.7209 - val_recall: 0.4831 - val_f1: 0.5770\n",
            "Epoch 9/20\n",
            "42/42 - 5s - loss: 1.0460 - categorical_accuracy: 0.6214 - precision: 0.6603 - recall: 0.5397 - f1: 0.5943 - val_loss: 0.9959 - val_categorical_accuracy: 0.6390 - val_precision: 0.6900 - val_recall: 0.5432 - val_f1: 0.6100\n",
            "Epoch 10/20\n",
            "42/42 - 5s - loss: 1.0198 - categorical_accuracy: 0.6262 - precision: 0.6665 - recall: 0.5458 - f1: 0.5990 - val_loss: 0.9993 - val_categorical_accuracy: 0.6362 - val_precision: 0.6697 - val_recall: 0.5728 - val_f1: 0.6194\n",
            "Epoch 11/20\n",
            "42/42 - 5s - loss: 1.0224 - categorical_accuracy: 0.6330 - precision: 0.6706 - recall: 0.5519 - f1: 0.6063 - val_loss: 1.0013 - val_categorical_accuracy: 0.6428 - val_precision: 0.6695 - val_recall: 0.5845 - val_f1: 0.6247\n",
            "Epoch 12/20\n",
            "42/42 - 5s - loss: 1.0270 - categorical_accuracy: 0.6318 - precision: 0.6698 - recall: 0.5535 - f1: 0.6038 - val_loss: 0.9978 - val_categorical_accuracy: 0.6409 - val_precision: 0.6979 - val_recall: 0.5311 - val_f1: 0.6035\n",
            "Epoch 13/20\n",
            "42/42 - 5s - loss: 1.0197 - categorical_accuracy: 0.6327 - precision: 0.6687 - recall: 0.5528 - f1: 0.6053 - val_loss: 1.0582 - val_categorical_accuracy: 0.5992 - val_precision: 0.6418 - val_recall: 0.4999 - val_f1: 0.5622\n",
            "Epoch 14/20\n",
            "42/42 - 5s - loss: 1.0075 - categorical_accuracy: 0.6321 - precision: 0.6692 - recall: 0.5515 - f1: 0.6050 - val_loss: 0.9646 - val_categorical_accuracy: 0.6421 - val_precision: 0.6774 - val_recall: 0.5767 - val_f1: 0.6252\n",
            "Epoch 15/20\n",
            "42/42 - 5s - loss: 0.9850 - categorical_accuracy: 0.6380 - precision: 0.6738 - recall: 0.5628 - f1: 0.6146 - val_loss: 0.9783 - val_categorical_accuracy: 0.6413 - val_precision: 0.6744 - val_recall: 0.5796 - val_f1: 0.6260\n",
            "Epoch 16/20\n",
            "42/42 - 5s - loss: 0.9964 - categorical_accuracy: 0.6345 - precision: 0.6738 - recall: 0.5609 - f1: 0.6115 - val_loss: 0.9744 - val_categorical_accuracy: 0.6368 - val_precision: 0.6757 - val_recall: 0.5666 - val_f1: 0.6171\n",
            "Epoch 17/20\n",
            "42/42 - 5s - loss: 1.0001 - categorical_accuracy: 0.6396 - precision: 0.6761 - recall: 0.5647 - f1: 0.6149 - val_loss: 0.9984 - val_categorical_accuracy: 0.6354 - val_precision: 0.6623 - val_recall: 0.5917 - val_f1: 0.6281\n",
            "Epoch 18/20\n",
            "42/42 - 5s - loss: 0.9957 - categorical_accuracy: 0.6389 - precision: 0.6750 - recall: 0.5632 - f1: 0.6135 - val_loss: 0.9911 - val_categorical_accuracy: 0.6295 - val_precision: 0.6746 - val_recall: 0.5393 - val_f1: 0.6016\n",
            "Epoch 19/20\n",
            "42/42 - 5s - loss: 0.9944 - categorical_accuracy: 0.6368 - precision: 0.6761 - recall: 0.5574 - f1: 0.6106 - val_loss: 0.9781 - val_categorical_accuracy: 0.6291 - val_precision: 0.6561 - val_recall: 0.5768 - val_f1: 0.6136\n",
            "Epoch 20/20\n",
            "42/42 - 5s - loss: 0.9881 - categorical_accuracy: 0.6387 - precision: 0.6768 - recall: 0.5593 - f1: 0.6125 - val_loss: 0.9625 - val_categorical_accuracy: 0.6409 - val_precision: 0.6847 - val_recall: 0.5607 - val_f1: 0.6182\n"
          ],
          "name": "stdout"
        },
        {
          "output_type": "display_data",
          "data": {
            "image/png": "[encoded data removed]",
            "text/plain": [
              "<Figure size 432x288 with 1 Axes>"
            ]
          },
          "metadata": {
            "tags": [],
            "needs_background": "light"
          }
        },
        {
          "output_type": "stream",
          "text": [
            "/usr/local/lib/python3.6/dist-packages/tensorflow/python/keras/engine/sequential.py:450: UserWarning: `model.predict_classes()` is deprecated and will be removed after 2021-01-01. Please use instead:* `np.argmax(model.predict(x), axis=-1)`,   if your model does multi-class classification   (e.g. if it uses a `softmax` last-layer activation).* `(model.predict(x) > 0.5).astype(\"int32\")`,   if your model does binary classification   (e.g. if it uses a `sigmoid` last-layer activation).\n",
            "  warnings.warn('`model.predict_classes()` is deprecated and '\n"
          ],
          "name": "stderr"
        },
        {
          "output_type": "stream",
          "text": [
            "42/42 - 1s\n",
            "8/8 - 0s\n",
            "CNN MODEL WITH FILTER OF SIZE 7\n",
            "Model: \"sequential_4\"\n",
            "_________________________________________________________________\n",
            "Layer (type)                 Output Shape              Param #   \n",
            "=================================================================\n",
            "embedding_4 (Embedding)      (None, 47, 200)           8532000   \n",
            "_________________________________________________________________\n",
            "reshape_4 (Reshape)          (None, 47, 200, 1)        0         \n",
            "_________________________________________________________________\n",
            "conv2d_4 (Conv2D)            (None, 41, 1, 256)        358656    \n",
            "_________________________________________________________________\n",
            "max_pooling2d_4 (MaxPooling2 (None, 1, 1, 256)         0         \n",
            "_________________________________________________________________\n",
            "flatten_4 (Flatten)          (None, 256)               0         \n",
            "_________________________________________________________________\n",
            "dropout_4 (Dropout)          (None, 256)               0         \n",
            "_________________________________________________________________\n",
            "dense_8 (Dense)              (None, 352)               90464     \n",
            "_________________________________________________________________\n",
            "dense_9 (Dense)              (None, 3)                 1059      \n",
            "=================================================================\n",
            "Total params: 8,982,179\n",
            "Trainable params: 8,982,179\n",
            "Non-trainable params: 0\n",
            "_________________________________________________________________\n",
            "Epoch 1/20\n",
            "42/42 - 7s - loss: 1.5450 - categorical_accuracy: 0.4836 - precision: 0.6759 - recall: 0.0866 - f1: 0.0054 - val_loss: 1.0920 - val_categorical_accuracy: 0.4019 - val_precision: 0.6421 - val_recall: 0.0842 - val_f1: 0.1505\n",
            "Epoch 2/20\n",
            "42/42 - 6s - loss: 1.0539 - categorical_accuracy: 0.5073 - precision: 0.6252 - recall: 0.0937 - f1: 0.1533 - val_loss: 1.0719 - val_categorical_accuracy: 0.5937 - val_precision: 0.7372 - val_recall: 0.2434 - val_f1: 0.3659\n",
            "Epoch 3/20\n",
            "42/42 - 6s - loss: 1.0910 - categorical_accuracy: 0.5741 - precision: 0.6247 - recall: 0.3999 - f1: 0.4856 - val_loss: 1.0839 - val_categorical_accuracy: 0.6007 - val_precision: 0.6582 - val_recall: 0.4574 - val_f1: 0.5404\n",
            "Epoch 4/20\n",
            "42/42 - 6s - loss: 1.1105 - categorical_accuracy: 0.5929 - precision: 0.6367 - recall: 0.4721 - f1: 0.5401 - val_loss: 1.1076 - val_categorical_accuracy: 0.5999 - val_precision: 0.6338 - val_recall: 0.5400 - val_f1: 0.5845\n",
            "Epoch 5/20\n",
            "42/42 - 6s - loss: 1.1285 - categorical_accuracy: 0.5987 - precision: 0.6440 - recall: 0.4818 - f1: 0.5506 - val_loss: 1.1176 - val_categorical_accuracy: 0.5928 - val_precision: 0.6095 - val_recall: 0.5590 - val_f1: 0.5828\n",
            "Epoch 6/20\n",
            "42/42 - 6s - loss: 1.1007 - categorical_accuracy: 0.6066 - precision: 0.6521 - recall: 0.5040 - f1: 0.5674 - val_loss: 1.1273 - val_categorical_accuracy: 0.6034 - val_precision: 0.6708 - val_recall: 0.4816 - val_f1: 0.5603\n",
            "Epoch 7/20\n",
            "42/42 - 6s - loss: 1.1188 - categorical_accuracy: 0.6172 - precision: 0.6621 - recall: 0.5187 - f1: 0.5805 - val_loss: 1.1257 - val_categorical_accuracy: 0.6165 - val_precision: 0.6475 - val_recall: 0.5605 - val_f1: 0.6043\n",
            "Epoch 8/20\n",
            "42/42 - 6s - loss: 1.0983 - categorical_accuracy: 0.6204 - precision: 0.6595 - recall: 0.5359 - f1: 0.5919 - val_loss: 1.0648 - val_categorical_accuracy: 0.6310 - val_precision: 0.6982 - val_recall: 0.4966 - val_f1: 0.5810\n",
            "Epoch 9/20\n",
            "42/42 - 6s - loss: 1.0764 - categorical_accuracy: 0.6230 - precision: 0.6607 - recall: 0.5385 - f1: 0.5923 - val_loss: 1.1004 - val_categorical_accuracy: 0.5888 - val_precision: 0.6347 - val_recall: 0.4753 - val_f1: 0.5448\n",
            "Epoch 10/20\n",
            "42/42 - 6s - loss: 1.0642 - categorical_accuracy: 0.6249 - precision: 0.6623 - recall: 0.5490 - f1: 0.6011 - val_loss: 1.0634 - val_categorical_accuracy: 0.6298 - val_precision: 0.6591 - val_recall: 0.5707 - val_f1: 0.6149\n",
            "Epoch 11/20\n",
            "42/42 - 6s - loss: 1.0609 - categorical_accuracy: 0.6292 - precision: 0.6654 - recall: 0.5522 - f1: 0.6026 - val_loss: 1.0160 - val_categorical_accuracy: 0.6314 - val_precision: 0.6746 - val_recall: 0.5516 - val_f1: 0.6116\n",
            "Epoch 12/20\n",
            "42/42 - 6s - loss: 1.0352 - categorical_accuracy: 0.6281 - precision: 0.6649 - recall: 0.5497 - f1: 0.6022 - val_loss: 1.0134 - val_categorical_accuracy: 0.6376 - val_precision: 0.6917 - val_recall: 0.5358 - val_f1: 0.6044\n",
            "Epoch 13/20\n",
            "42/42 - 6s - loss: 1.0478 - categorical_accuracy: 0.6283 - precision: 0.6657 - recall: 0.5520 - f1: 0.6032 - val_loss: 1.0163 - val_categorical_accuracy: 0.6389 - val_precision: 0.6920 - val_recall: 0.5429 - val_f1: 0.6076\n",
            "Epoch 14/20\n",
            "42/42 - 6s - loss: 1.0465 - categorical_accuracy: 0.6345 - precision: 0.6708 - recall: 0.5563 - f1: 0.6107 - val_loss: 1.0901 - val_categorical_accuracy: 0.6232 - val_precision: 0.6342 - val_recall: 0.6051 - val_f1: 0.6222\n",
            "Epoch 15/20\n",
            "42/42 - 6s - loss: 1.0400 - categorical_accuracy: 0.6332 - precision: 0.6691 - recall: 0.5566 - f1: 0.6069 - val_loss: 1.0022 - val_categorical_accuracy: 0.6447 - val_precision: 0.6982 - val_recall: 0.5480 - val_f1: 0.6141\n",
            "Epoch 16/20\n",
            "42/42 - 6s - loss: 1.0274 - categorical_accuracy: 0.6324 - precision: 0.6701 - recall: 0.5583 - f1: 0.6078 - val_loss: 0.9906 - val_categorical_accuracy: 0.6427 - val_precision: 0.6902 - val_recall: 0.5579 - val_f1: 0.6185\n",
            "Epoch 17/20\n",
            "42/42 - 6s - loss: 1.0337 - categorical_accuracy: 0.6357 - precision: 0.6723 - recall: 0.5629 - f1: 0.6121 - val_loss: 1.0122 - val_categorical_accuracy: 0.6409 - val_precision: 0.6906 - val_recall: 0.5570 - val_f1: 0.6153\n",
            "Epoch 18/20\n",
            "42/42 - 6s - loss: 1.0375 - categorical_accuracy: 0.6393 - precision: 0.6745 - recall: 0.5639 - f1: 0.6141 - val_loss: 1.0205 - val_categorical_accuracy: 0.6439 - val_precision: 0.6970 - val_recall: 0.5349 - val_f1: 0.6059\n",
            "Epoch 19/20\n",
            "42/42 - 6s - loss: 1.0305 - categorical_accuracy: 0.6384 - precision: 0.6758 - recall: 0.5603 - f1: 0.6150 - val_loss: 1.0098 - val_categorical_accuracy: 0.6390 - val_precision: 0.7030 - val_recall: 0.5349 - val_f1: 0.6082\n",
            "Epoch 20/20\n",
            "42/42 - 6s - loss: 1.0286 - categorical_accuracy: 0.6359 - precision: 0.6730 - recall: 0.5584 - f1: 0.6100 - val_loss: 1.0108 - val_categorical_accuracy: 0.6334 - val_precision: 0.6632 - val_recall: 0.5770 - val_f1: 0.6184\n"
          ],
          "name": "stdout"
        },
        {
          "output_type": "display_data",
          "data": {
            "image/png": "[encoded data removed]",
            "text/plain": [
              "<Figure size 432x288 with 1 Axes>"
            ]
          },
          "metadata": {
            "tags": [],
            "needs_background": "light"
          }
        },
        {
          "output_type": "stream",
          "text": [
            "/usr/local/lib/python3.6/dist-packages/tensorflow/python/keras/engine/sequential.py:450: UserWarning: `model.predict_classes()` is deprecated and will be removed after 2021-01-01. Please use instead:* `np.argmax(model.predict(x), axis=-1)`,   if your model does multi-class classification   (e.g. if it uses a `softmax` last-layer activation).* `(model.predict(x) > 0.5).astype(\"int32\")`,   if your model does binary classification   (e.g. if it uses a `sigmoid` last-layer activation).\n",
            "  warnings.warn('`model.predict_classes()` is deprecated and '\n"
          ],
          "name": "stderr"
        },
        {
          "output_type": "stream",
          "text": [
            "42/42 - 1s\n",
            "8/8 - 0s\n",
            "CNN MODEL WITH FILTER OF SIZE 9\n",
            "Model: \"sequential_5\"\n",
            "_________________________________________________________________\n",
            "Layer (type)                 Output Shape              Param #   \n",
            "=================================================================\n",
            "embedding_5 (Embedding)      (None, 47, 200)           8532000   \n",
            "_________________________________________________________________\n",
            "reshape_5 (Reshape)          (None, 47, 200, 1)        0         \n",
            "_________________________________________________________________\n",
            "conv2d_5 (Conv2D)            (None, 39, 1, 256)        461056    \n",
            "_________________________________________________________________\n",
            "max_pooling2d_5 (MaxPooling2 (None, 1, 1, 256)         0         \n",
            "_________________________________________________________________\n",
            "flatten_5 (Flatten)          (None, 256)               0         \n",
            "_________________________________________________________________\n",
            "dropout_5 (Dropout)          (None, 256)               0         \n",
            "_________________________________________________________________\n",
            "dense_10 (Dense)             (None, 352)               90464     \n",
            "_________________________________________________________________\n",
            "dense_11 (Dense)             (None, 3)                 1059      \n",
            "=================================================================\n",
            "Total params: 9,084,579\n",
            "Trainable params: 9,084,579\n",
            "Non-trainable params: 0\n",
            "_________________________________________________________________\n",
            "Epoch 1/20\n",
            "42/42 - 8s - loss: 1.5513 - categorical_accuracy: 0.4828 - precision: 0.6367 - recall: 0.0968 - f1: 0.0213 - val_loss: 1.0824 - val_categorical_accuracy: 0.4834 - val_precision: 1.0000 - val_recall: 1.3408e-04 - val_f1: 2.4295e-04\n",
            "Epoch 2/20\n",
            "42/42 - 6s - loss: 1.0795 - categorical_accuracy: 0.5145 - precision: 0.5933 - recall: 0.1559 - f1: 0.2282 - val_loss: 1.1068 - val_categorical_accuracy: 0.5842 - val_precision: 0.6375 - val_recall: 0.4143 - val_f1: 0.5030\n",
            "Epoch 3/20\n",
            "42/42 - 6s - loss: 1.1318 - categorical_accuracy: 0.5747 - precision: 0.6239 - recall: 0.4101 - f1: 0.4925 - val_loss: 1.1491 - val_categorical_accuracy: 0.5999 - val_precision: 0.6619 - val_recall: 0.4580 - val_f1: 0.5413\n",
            "Epoch 4/20\n",
            "42/42 - 6s - loss: 1.1378 - categorical_accuracy: 0.5949 - precision: 0.6403 - recall: 0.4691 - f1: 0.5418 - val_loss: 1.2306 - val_categorical_accuracy: 0.5813 - val_precision: 0.6340 - val_recall: 0.4681 - val_f1: 0.5383\n",
            "Epoch 5/20\n",
            "42/42 - 6s - loss: 1.1846 - categorical_accuracy: 0.6001 - precision: 0.6474 - recall: 0.4900 - f1: 0.5572 - val_loss: 1.2218 - val_categorical_accuracy: 0.5961 - val_precision: 0.6562 - val_recall: 0.4661 - val_f1: 0.5428\n",
            "Epoch 6/20\n",
            "42/42 - 6s - loss: 1.1536 - categorical_accuracy: 0.6048 - precision: 0.6470 - recall: 0.5045 - f1: 0.5654 - val_loss: 1.1584 - val_categorical_accuracy: 0.5983 - val_precision: 0.6778 - val_recall: 0.3698 - val_f1: 0.4798\n",
            "Epoch 7/20\n",
            "42/42 - 6s - loss: 1.1423 - categorical_accuracy: 0.6135 - precision: 0.6575 - recall: 0.5205 - f1: 0.5816 - val_loss: 1.1168 - val_categorical_accuracy: 0.6173 - val_precision: 0.6434 - val_recall: 0.5666 - val_f1: 0.6031\n",
            "Epoch 8/20\n",
            "42/42 - 6s - loss: 1.1282 - categorical_accuracy: 0.6153 - precision: 0.6515 - recall: 0.5325 - f1: 0.5861 - val_loss: 1.1470 - val_categorical_accuracy: 0.5877 - val_precision: 0.6358 - val_recall: 0.4785 - val_f1: 0.5466\n",
            "Epoch 9/20\n",
            "42/42 - 6s - loss: 1.1129 - categorical_accuracy: 0.6212 - precision: 0.6596 - recall: 0.5390 - f1: 0.5950 - val_loss: 1.1454 - val_categorical_accuracy: 0.6138 - val_precision: 0.6352 - val_recall: 0.5880 - val_f1: 0.6130\n",
            "Epoch 10/20\n",
            "42/42 - 6s - loss: 1.0935 - categorical_accuracy: 0.6260 - precision: 0.6621 - recall: 0.5449 - f1: 0.5981 - val_loss: 1.0987 - val_categorical_accuracy: 0.6168 - val_precision: 0.6335 - val_recall: 0.5878 - val_f1: 0.6107\n",
            "Epoch 11/20\n",
            "42/42 - 6s - loss: 1.0847 - categorical_accuracy: 0.6261 - precision: 0.6607 - recall: 0.5492 - f1: 0.5981 - val_loss: 1.0999 - val_categorical_accuracy: 0.6055 - val_precision: 0.6760 - val_recall: 0.4548 - val_f1: 0.5456\n",
            "Epoch 12/20\n",
            "42/42 - 6s - loss: 1.0962 - categorical_accuracy: 0.6278 - precision: 0.6639 - recall: 0.5501 - f1: 0.5993 - val_loss: 1.2088 - val_categorical_accuracy: 0.5751 - val_precision: 0.6135 - val_recall: 0.4839 - val_f1: 0.5368\n",
            "Epoch 13/20\n",
            "42/42 - 6s - loss: 1.0857 - categorical_accuracy: 0.6286 - precision: 0.6632 - recall: 0.5485 - f1: 0.5985 - val_loss: 1.0551 - val_categorical_accuracy: 0.6348 - val_precision: 0.6625 - val_recall: 0.5806 - val_f1: 0.6221\n",
            "Epoch 14/20\n",
            "42/42 - 6s - loss: 1.0727 - categorical_accuracy: 0.6299 - precision: 0.6663 - recall: 0.5584 - f1: 0.6077 - val_loss: 1.1304 - val_categorical_accuracy: 0.5893 - val_precision: 0.6262 - val_recall: 0.5161 - val_f1: 0.5606\n",
            "Epoch 15/20\n",
            "42/42 - 6s - loss: 1.0587 - categorical_accuracy: 0.6282 - precision: 0.6657 - recall: 0.5490 - f1: 0.6024 - val_loss: 1.0546 - val_categorical_accuracy: 0.6337 - val_precision: 0.6859 - val_recall: 0.5394 - val_f1: 0.6046\n",
            "Epoch 16/20\n",
            "42/42 - 6s - loss: 1.0683 - categorical_accuracy: 0.6356 - precision: 0.6722 - recall: 0.5587 - f1: 0.6087 - val_loss: 1.0951 - val_categorical_accuracy: 0.6392 - val_precision: 0.6963 - val_recall: 0.5342 - val_f1: 0.6059\n",
            "Epoch 17/20\n",
            "42/42 - 6s - loss: 1.0835 - categorical_accuracy: 0.6341 - precision: 0.6700 - recall: 0.5594 - f1: 0.6080 - val_loss: 1.0973 - val_categorical_accuracy: 0.6423 - val_precision: 0.6855 - val_recall: 0.5457 - val_f1: 0.6090\n",
            "Epoch 18/20\n",
            "42/42 - 6s - loss: 1.0898 - categorical_accuracy: 0.6327 - precision: 0.6705 - recall: 0.5585 - f1: 0.6098 - val_loss: 1.0324 - val_categorical_accuracy: 0.6392 - val_precision: 0.6987 - val_recall: 0.5385 - val_f1: 0.6089\n",
            "Epoch 19/20\n",
            "42/42 - 6s - loss: 1.0555 - categorical_accuracy: 0.6386 - precision: 0.6747 - recall: 0.5622 - f1: 0.6135 - val_loss: 1.0887 - val_categorical_accuracy: 0.6303 - val_precision: 0.6605 - val_recall: 0.5644 - val_f1: 0.6096\n",
            "Epoch 20/20\n",
            "42/42 - 6s - loss: 1.0751 - categorical_accuracy: 0.6377 - precision: 0.6732 - recall: 0.5651 - f1: 0.6142 - val_loss: 1.0866 - val_categorical_accuracy: 0.6295 - val_precision: 0.6580 - val_recall: 0.5857 - val_f1: 0.6211\n"
          ],
          "name": "stdout"
        },
        {
          "output_type": "display_data",
          "data": {
            "image/png": "[encoded data removed]",
            "text/plain": [
              "<Figure size 432x288 with 1 Axes>"
            ]
          },
          "metadata": {
            "tags": [],
            "needs_background": "light"
          }
        },
        {
          "output_type": "stream",
          "text": [
            "/usr/local/lib/python3.6/dist-packages/tensorflow/python/keras/engine/sequential.py:450: UserWarning: `model.predict_classes()` is deprecated and will be removed after 2021-01-01. Please use instead:* `np.argmax(model.predict(x), axis=-1)`,   if your model does multi-class classification   (e.g. if it uses a `softmax` last-layer activation).* `(model.predict(x) > 0.5).astype(\"int32\")`,   if your model does binary classification   (e.g. if it uses a `sigmoid` last-layer activation).\n",
            "  warnings.warn('`model.predict_classes()` is deprecated and '\n"
          ],
          "name": "stderr"
        },
        {
          "output_type": "stream",
          "text": [
            "42/42 - 1s\n",
            "8/8 - 0s\n",
            "CNN MODEL WITH FILTER OF SIZE 11\n",
            "Model: \"sequential_6\"\n",
            "_________________________________________________________________\n",
            "Layer (type)                 Output Shape              Param #   \n",
            "=================================================================\n",
            "embedding_6 (Embedding)      (None, 47, 200)           8532000   \n",
            "_________________________________________________________________\n",
            "reshape_6 (Reshape)          (None, 47, 200, 1)        0         \n",
            "_________________________________________________________________\n",
            "conv2d_6 (Conv2D)            (None, 37, 1, 256)        563456    \n",
            "_________________________________________________________________\n",
            "max_pooling2d_6 (MaxPooling2 (None, 1, 1, 256)         0         \n",
            "_________________________________________________________________\n",
            "flatten_6 (Flatten)          (None, 256)               0         \n",
            "_________________________________________________________________\n",
            "dropout_6 (Dropout)          (None, 256)               0         \n",
            "_________________________________________________________________\n",
            "dense_12 (Dense)             (None, 352)               90464     \n",
            "_________________________________________________________________\n",
            "dense_13 (Dense)             (None, 3)                 1059      \n",
            "=================================================================\n",
            "Total params: 9,186,979\n",
            "Trainable params: 9,186,979\n",
            "Non-trainable params: 0\n",
            "_________________________________________________________________\n",
            "Epoch 1/20\n",
            "42/42 - 8s - loss: 1.5550 - categorical_accuracy: 0.4850 - precision: 0.6416 - recall: 0.0933 - f1: 0.0116 - val_loss: 1.0949 - val_categorical_accuracy: 0.4515 - val_precision: 0.6518 - val_recall: 0.0979 - val_f1: 0.1650\n",
            "Epoch 2/20\n",
            "42/42 - 6s - loss: 1.0911 - categorical_accuracy: 0.5006 - precision: 0.5704 - recall: 0.1474 - f1: 0.2195 - val_loss: 1.1872 - val_categorical_accuracy: 0.4305 - val_precision: 0.4943 - val_recall: 0.3308 - val_f1: 0.4009\n",
            "Epoch 3/20\n",
            "42/42 - 6s - loss: 1.1337 - categorical_accuracy: 0.5569 - precision: 0.6221 - recall: 0.3426 - f1: 0.4356 - val_loss: 1.1465 - val_categorical_accuracy: 0.5990 - val_precision: 0.6651 - val_recall: 0.4482 - val_f1: 0.5364\n",
            "Epoch 4/20\n",
            "42/42 - 6s - loss: 1.1707 - categorical_accuracy: 0.5885 - precision: 0.6436 - recall: 0.4465 - f1: 0.5252 - val_loss: 1.2086 - val_categorical_accuracy: 0.5931 - val_precision: 0.6375 - val_recall: 0.4815 - val_f1: 0.5485\n",
            "Epoch 5/20\n",
            "42/42 - 6s - loss: 1.2082 - categorical_accuracy: 0.5987 - precision: 0.6472 - recall: 0.4808 - f1: 0.5537 - val_loss: 1.2294 - val_categorical_accuracy: 0.5990 - val_precision: 0.6162 - val_recall: 0.5563 - val_f1: 0.5845\n",
            "Epoch 6/20\n",
            "42/42 - 6s - loss: 1.1950 - categorical_accuracy: 0.6043 - precision: 0.6457 - recall: 0.4972 - f1: 0.5611 - val_loss: 1.2112 - val_categorical_accuracy: 0.5955 - val_precision: 0.6208 - val_recall: 0.5414 - val_f1: 0.5799\n",
            "Epoch 7/20\n",
            "42/42 - 6s - loss: 1.1583 - categorical_accuracy: 0.6133 - precision: 0.6557 - recall: 0.5176 - f1: 0.5786 - val_loss: 1.1545 - val_categorical_accuracy: 0.6361 - val_precision: 0.6842 - val_recall: 0.5217 - val_f1: 0.5926\n",
            "Epoch 8/20\n",
            "42/42 - 6s - loss: 1.1826 - categorical_accuracy: 0.6194 - precision: 0.6569 - recall: 0.5295 - f1: 0.5843 - val_loss: 1.2273 - val_categorical_accuracy: 0.5728 - val_precision: 0.6117 - val_recall: 0.4851 - val_f1: 0.5403\n",
            "Epoch 9/20\n",
            "42/42 - 6s - loss: 1.1289 - categorical_accuracy: 0.6197 - precision: 0.6601 - recall: 0.5308 - f1: 0.5879 - val_loss: 1.1354 - val_categorical_accuracy: 0.6207 - val_precision: 0.6529 - val_recall: 0.5650 - val_f1: 0.6075\n",
            "Epoch 10/20\n",
            "42/42 - 6s - loss: 1.1415 - categorical_accuracy: 0.6247 - precision: 0.6608 - recall: 0.5448 - f1: 0.5957 - val_loss: 1.1948 - val_categorical_accuracy: 0.5893 - val_precision: 0.6285 - val_recall: 0.4980 - val_f1: 0.5578\n",
            "Epoch 11/20\n",
            "42/42 - 6s - loss: 1.1151 - categorical_accuracy: 0.6246 - precision: 0.6624 - recall: 0.5450 - f1: 0.5978 - val_loss: 1.0768 - val_categorical_accuracy: 0.6364 - val_precision: 0.6845 - val_recall: 0.5392 - val_f1: 0.6052\n",
            "Epoch 12/20\n",
            "42/42 - 6s - loss: 1.0921 - categorical_accuracy: 0.6316 - precision: 0.6645 - recall: 0.5559 - f1: 0.6052 - val_loss: 1.1438 - val_categorical_accuracy: 0.6255 - val_precision: 0.6675 - val_recall: 0.5433 - val_f1: 0.5990\n",
            "Epoch 13/20\n",
            "42/42 - 6s - loss: 1.1146 - categorical_accuracy: 0.6307 - precision: 0.6676 - recall: 0.5562 - f1: 0.6066 - val_loss: 1.0788 - val_categorical_accuracy: 0.6408 - val_precision: 0.6784 - val_recall: 0.5681 - val_f1: 0.6180\n",
            "Epoch 14/20\n",
            "42/42 - 6s - loss: 1.1023 - categorical_accuracy: 0.6329 - precision: 0.6681 - recall: 0.5588 - f1: 0.6080 - val_loss: 1.1058 - val_categorical_accuracy: 0.6361 - val_precision: 0.6902 - val_recall: 0.5359 - val_f1: 0.6026\n",
            "Epoch 15/20\n",
            "42/42 - 6s - loss: 1.1120 - categorical_accuracy: 0.6337 - precision: 0.6679 - recall: 0.5602 - f1: 0.6092 - val_loss: 1.1831 - val_categorical_accuracy: 0.5854 - val_precision: 0.6537 - val_recall: 0.4478 - val_f1: 0.5289\n",
            "Epoch 16/20\n",
            "42/42 - 6s - loss: 1.0814 - categorical_accuracy: 0.6334 - precision: 0.6713 - recall: 0.5543 - f1: 0.6068 - val_loss: 1.0428 - val_categorical_accuracy: 0.6385 - val_precision: 0.6757 - val_recall: 0.5594 - val_f1: 0.6148\n",
            "Epoch 17/20\n",
            "42/42 - 6s - loss: 1.0770 - categorical_accuracy: 0.6331 - precision: 0.6718 - recall: 0.5604 - f1: 0.6117 - val_loss: 1.0441 - val_categorical_accuracy: 0.6492 - val_precision: 0.6817 - val_recall: 0.5791 - val_f1: 0.6272\n",
            "Epoch 18/20\n",
            "42/42 - 6s - loss: 1.0772 - categorical_accuracy: 0.6343 - precision: 0.6688 - recall: 0.5588 - f1: 0.6118 - val_loss: 1.0671 - val_categorical_accuracy: 0.6468 - val_precision: 0.6733 - val_recall: 0.5889 - val_f1: 0.6305\n",
            "Epoch 19/20\n",
            "42/42 - 6s - loss: 1.0712 - categorical_accuracy: 0.6408 - precision: 0.6749 - recall: 0.5686 - f1: 0.6180 - val_loss: 1.0975 - val_categorical_accuracy: 0.6392 - val_precision: 0.6770 - val_recall: 0.5719 - val_f1: 0.6219\n",
            "Epoch 20/20\n",
            "42/42 - 6s - loss: 1.1067 - categorical_accuracy: 0.6414 - precision: 0.6777 - recall: 0.5664 - f1: 0.6176 - val_loss: 1.1155 - val_categorical_accuracy: 0.6419 - val_precision: 0.6609 - val_recall: 0.5996 - val_f1: 0.6309\n"
          ],
          "name": "stdout"
        },
        {
          "output_type": "display_data",
          "data": {
            "image/png": "[encoded data removed]",
            "text/plain": [
              "<Figure size 432x288 with 1 Axes>"
            ]
          },
          "metadata": {
            "tags": [],
            "needs_background": "light"
          }
        },
        {
          "output_type": "stream",
          "text": [
            "/usr/local/lib/python3.6/dist-packages/tensorflow/python/keras/engine/sequential.py:450: UserWarning: `model.predict_classes()` is deprecated and will be removed after 2021-01-01. Please use instead:* `np.argmax(model.predict(x), axis=-1)`,   if your model does multi-class classification   (e.g. if it uses a `softmax` last-layer activation).* `(model.predict(x) > 0.5).astype(\"int32\")`,   if your model does binary classification   (e.g. if it uses a `sigmoid` last-layer activation).\n",
            "  warnings.warn('`model.predict_classes()` is deprecated and '\n"
          ],
          "name": "stderr"
        },
        {
          "output_type": "stream",
          "text": [
            "42/42 - 1s\n",
            "8/8 - 0s\n"
          ],
          "name": "stdout"
        }
      ]
    },
    {
      "cell_type": "code",
      "metadata": {
        "colab": {
          "base_uri": "https://localhost:8080/"
        },
        "id": "s9sG5V2N_24j",
        "outputId": "2c7ebdf0-b880-4a64-b609-432fe630bbcf"
      },
      "source": [
        "model.evaluate(X_train,Y_train_cat,batch_size=1028)"
      ],
      "execution_count": 24,
      "outputs": [
        {
          "output_type": "stream",
          "text": [
            "42/42 [==============================] - 1s 27ms/step - loss: 1.0687 - categorical_accuracy: 0.6677 - precision: 0.6908 - recall: 0.6247 - f1: 0.6561\n"
          ],
          "name": "stdout"
        },
        {
          "output_type": "execute_result",
          "data": {
            "text/plain": [
              "[1.068670630455017,\n",
              " 0.6676527261734009,\n",
              " 0.6908039450645447,\n",
              " 0.6246775388717651,\n",
              " 0.6560879349708557]"
            ]
          },
          "metadata": {
            "tags": []
          },
          "execution_count": 24
        }
      ]
    },
    {
      "cell_type": "code",
      "metadata": {
        "colab": {
          "base_uri": "https://localhost:8080/",
          "height": 1000
        },
        "id": "sFoVCjIhzk58",
        "outputId": "2f83f034-db43-468e-ab41-f4fe52d947cb"
      },
      "source": [
        "from keras.layers import BatchNormalization\r\n",
        "def stack_models(predictions, targets):\r\n",
        "    layer_size = len(predictions)\r\n",
        "    inp = Input(shape=(layer_size,))\r\n",
        "    d0 = Dropout(0.2)(inp)\r\n",
        "    d0 = Dense(pow(layer_size, 4))(d0)\r\n",
        "    d1 = Dropout(0.2)(d0)\r\n",
        "    d1 = Dense(20 * layer_size)(d1)\r\n",
        "    b = BatchNormalization()(d1)\r\n",
        "    out = Dropout(0.2)(b)\r\n",
        "    out = Dense(3, activation='sigmoid')(out)\r\n",
        "\r\n",
        "    model = Model(inputs=inp, outputs=out)\r\n",
        "    model.compile(loss='categorical_crossentropy', optimizer='adam', metrics=Metrics)\r\n",
        "    model.summary()\r\n",
        "\r\n",
        "    x = np.array(list(zip(*np.squeeze(predictions))))\r\n",
        "    y = targets\r\n",
        "    print(np.shape(x))\r\n",
        "    print(np.shape(y))\r\n",
        "    \r\n",
        "    history = model.fit(x=x, y=y, epochs=100, validation_split=0.02, verbose=2)\r\n",
        "    display_model_history(history) \r\n",
        "    return model\r\n",
        "    \r\n",
        "model = stack_models(test_predictions, Y_dev_cat)\r\n",
        "\r\n",
        "stacked_test_predictions = np.array(list(zip(*np.squeeze(test_predictions))))\r\n",
        "stacked_test_predictions = model.predict(stacked_test_predictions, batch_size=1024)"
      ],
      "execution_count": 31,
      "outputs": [
        {
          "output_type": "stream",
          "text": [
            "Model: \"model_3\"\n",
            "_________________________________________________________________\n",
            "Layer (type)                 Output Shape              Param #   \n",
            "=================================================================\n",
            "input_11 (InputLayer)        [(None, 5)]               0         \n",
            "_________________________________________________________________\n",
            "dropout_16 (Dropout)         (None, 5)                 0         \n",
            "_________________________________________________________________\n",
            "dense_23 (Dense)             (None, 625)               3750      \n",
            "_________________________________________________________________\n",
            "dropout_17 (Dropout)         (None, 625)               0         \n",
            "_________________________________________________________________\n",
            "dense_24 (Dense)             (None, 100)               62600     \n",
            "_________________________________________________________________\n",
            "batch_normalization_3 (Batch (None, 100)               400       \n",
            "_________________________________________________________________\n",
            "dropout_18 (Dropout)         (None, 100)               0         \n",
            "_________________________________________________________________\n",
            "dense_25 (Dense)             (None, 3)                 303       \n",
            "=================================================================\n",
            "Total params: 67,053\n",
            "Trainable params: 66,853\n",
            "Non-trainable params: 200\n",
            "_________________________________________________________________\n",
            "(7458, 5)\n",
            "(7458, 3)\n",
            "Epoch 1/100\n",
            "229/229 - 2s - loss: 1.1456 - categorical_accuracy: 0.5335 - precision: 0.4560 - recall: 0.6138 - f1: 0.5209 - val_loss: 0.9088 - val_categorical_accuracy: 0.6200 - val_precision: 0.4771 - val_recall: 0.6933 - val_f1: 0.5583\n",
            "Epoch 2/100\n",
            "229/229 - 1s - loss: 1.0425 - categorical_accuracy: 0.5517 - precision: 0.4564 - recall: 0.6286 - f1: 0.5286 - val_loss: 0.9024 - val_categorical_accuracy: 0.6333 - val_precision: 0.5093 - val_recall: 0.7267 - val_f1: 0.5972\n",
            "Epoch 3/100\n",
            "229/229 - 1s - loss: 1.0020 - categorical_accuracy: 0.5747 - precision: 0.4676 - recall: 0.6468 - f1: 0.5430 - val_loss: 0.8785 - val_categorical_accuracy: 0.6533 - val_precision: 0.4249 - val_recall: 0.7733 - val_f1: 0.5488\n",
            "Epoch 4/100\n",
            "229/229 - 1s - loss: 0.9814 - categorical_accuracy: 0.5831 - precision: 0.4735 - recall: 0.6665 - f1: 0.5540 - val_loss: 0.8857 - val_categorical_accuracy: 0.6467 - val_precision: 0.5088 - val_recall: 0.7667 - val_f1: 0.6129\n",
            "Epoch 5/100\n",
            "229/229 - 1s - loss: 0.9668 - categorical_accuracy: 0.5902 - precision: 0.4784 - recall: 0.6747 - f1: 0.5594 - val_loss: 0.8795 - val_categorical_accuracy: 0.6667 - val_precision: 0.4826 - val_recall: 0.7400 - val_f1: 0.5790\n",
            "Epoch 6/100\n",
            "229/229 - 1s - loss: 0.9631 - categorical_accuracy: 0.5956 - precision: 0.4822 - recall: 0.6918 - f1: 0.5686 - val_loss: 0.8802 - val_categorical_accuracy: 0.6333 - val_precision: 0.5130 - val_recall: 0.7867 - val_f1: 0.6224\n",
            "Epoch 7/100\n",
            "229/229 - 1s - loss: 0.9576 - categorical_accuracy: 0.5981 - precision: 0.4821 - recall: 0.6834 - f1: 0.5651 - val_loss: 0.8753 - val_categorical_accuracy: 0.6600 - val_precision: 0.6022 - val_recall: 0.7267 - val_f1: 0.6542\n",
            "Epoch 8/100\n",
            "229/229 - 1s - loss: 0.9582 - categorical_accuracy: 0.5989 - precision: 0.4822 - recall: 0.6856 - f1: 0.5660 - val_loss: 0.8770 - val_categorical_accuracy: 0.6533 - val_precision: 0.5180 - val_recall: 0.7667 - val_f1: 0.6203\n",
            "Epoch 9/100\n",
            "229/229 - 1s - loss: 0.9439 - categorical_accuracy: 0.6044 - precision: 0.4863 - recall: 0.6860 - f1: 0.5694 - val_loss: 0.8772 - val_categorical_accuracy: 0.6733 - val_precision: 0.5955 - val_recall: 0.7067 - val_f1: 0.6434\n",
            "Epoch 10/100\n",
            "229/229 - 1s - loss: 0.9462 - categorical_accuracy: 0.6007 - precision: 0.4842 - recall: 0.6871 - f1: 0.5680 - val_loss: 0.8781 - val_categorical_accuracy: 0.6600 - val_precision: 0.5202 - val_recall: 0.7733 - val_f1: 0.6237\n",
            "Epoch 11/100\n",
            "229/229 - 1s - loss: 0.9431 - categorical_accuracy: 0.6055 - precision: 0.4857 - recall: 0.6832 - f1: 0.5685 - val_loss: 0.8753 - val_categorical_accuracy: 0.6400 - val_precision: 0.5110 - val_recall: 0.7733 - val_f1: 0.6170\n",
            "Epoch 12/100\n",
            "229/229 - 1s - loss: 0.9429 - categorical_accuracy: 0.6056 - precision: 0.4857 - recall: 0.6809 - f1: 0.5676 - val_loss: 0.8701 - val_categorical_accuracy: 0.6533 - val_precision: 0.6082 - val_recall: 0.6933 - val_f1: 0.6453\n",
            "Epoch 13/100\n",
            "229/229 - 1s - loss: 0.9428 - categorical_accuracy: 0.6052 - precision: 0.4922 - recall: 0.6834 - f1: 0.5727 - val_loss: 0.8750 - val_categorical_accuracy: 0.6533 - val_precision: 0.6080 - val_recall: 0.7133 - val_f1: 0.6537\n",
            "Epoch 14/100\n",
            "229/229 - 1s - loss: 0.9459 - categorical_accuracy: 0.6055 - precision: 0.4922 - recall: 0.6827 - f1: 0.5716 - val_loss: 0.8750 - val_categorical_accuracy: 0.6600 - val_precision: 0.6089 - val_recall: 0.7267 - val_f1: 0.6580\n",
            "Epoch 15/100\n",
            "229/229 - 1s - loss: 0.9441 - categorical_accuracy: 0.6052 - precision: 0.4855 - recall: 0.6791 - f1: 0.5664 - val_loss: 0.8806 - val_categorical_accuracy: 0.6600 - val_precision: 0.6163 - val_recall: 0.7067 - val_f1: 0.6547\n",
            "Epoch 16/100\n",
            "229/229 - 1s - loss: 0.9465 - categorical_accuracy: 0.6039 - precision: 0.4903 - recall: 0.6790 - f1: 0.5701 - val_loss: 0.8746 - val_categorical_accuracy: 0.6600 - val_precision: 0.6023 - val_recall: 0.7067 - val_f1: 0.6470\n",
            "Epoch 17/100\n",
            "229/229 - 1s - loss: 0.9431 - categorical_accuracy: 0.6060 - precision: 0.4954 - recall: 0.6830 - f1: 0.5746 - val_loss: 0.8907 - val_categorical_accuracy: 0.6467 - val_precision: 0.5278 - val_recall: 0.7600 - val_f1: 0.6253\n",
            "Epoch 18/100\n",
            "229/229 - 1s - loss: 0.9421 - categorical_accuracy: 0.6071 - precision: 0.5023 - recall: 0.6883 - f1: 0.5811 - val_loss: 0.8869 - val_categorical_accuracy: 0.6600 - val_precision: 0.5111 - val_recall: 0.7667 - val_f1: 0.6149\n",
            "Epoch 19/100\n",
            "229/229 - 1s - loss: 0.9404 - categorical_accuracy: 0.6059 - precision: 0.5046 - recall: 0.6886 - f1: 0.5824 - val_loss: 0.8818 - val_categorical_accuracy: 0.6467 - val_precision: 0.4977 - val_recall: 0.7200 - val_f1: 0.5821\n",
            "Epoch 20/100\n",
            "229/229 - 1s - loss: 0.9457 - categorical_accuracy: 0.6032 - precision: 0.5012 - recall: 0.6876 - f1: 0.5796 - val_loss: 0.8886 - val_categorical_accuracy: 0.6600 - val_precision: 0.5158 - val_recall: 0.7600 - val_f1: 0.6151\n",
            "Epoch 21/100\n",
            "229/229 - 1s - loss: 0.9437 - categorical_accuracy: 0.6054 - precision: 0.5061 - recall: 0.6903 - f1: 0.5840 - val_loss: 0.8798 - val_categorical_accuracy: 0.6600 - val_precision: 0.6011 - val_recall: 0.7333 - val_f1: 0.6564\n",
            "Epoch 22/100\n",
            "229/229 - 1s - loss: 0.9465 - categorical_accuracy: 0.6045 - precision: 0.5030 - recall: 0.6925 - f1: 0.5829 - val_loss: 0.8912 - val_categorical_accuracy: 0.6533 - val_precision: 0.5130 - val_recall: 0.7867 - val_f1: 0.6218\n",
            "Epoch 23/100\n",
            "229/229 - 1s - loss: 0.9397 - categorical_accuracy: 0.6041 - precision: 0.5033 - recall: 0.6940 - f1: 0.5837 - val_loss: 0.8789 - val_categorical_accuracy: 0.6600 - val_precision: 0.6114 - val_recall: 0.7133 - val_f1: 0.6553\n",
            "Epoch 24/100\n",
            "229/229 - 1s - loss: 0.9418 - categorical_accuracy: 0.6065 - precision: 0.5105 - recall: 0.6812 - f1: 0.5840 - val_loss: 0.8861 - val_categorical_accuracy: 0.6667 - val_precision: 0.5180 - val_recall: 0.7667 - val_f1: 0.6201\n",
            "Epoch 25/100\n",
            "229/229 - 1s - loss: 0.9396 - categorical_accuracy: 0.6063 - precision: 0.5013 - recall: 0.6802 - f1: 0.5772 - val_loss: 0.8883 - val_categorical_accuracy: 0.6467 - val_precision: 0.5202 - val_recall: 0.7733 - val_f1: 0.6231\n",
            "Epoch 26/100\n",
            "229/229 - 1s - loss: 0.9413 - categorical_accuracy: 0.6080 - precision: 0.5091 - recall: 0.6738 - f1: 0.5803 - val_loss: 0.8751 - val_categorical_accuracy: 0.6533 - val_precision: 0.6080 - val_recall: 0.7133 - val_f1: 0.6521\n",
            "Epoch 27/100\n",
            "229/229 - 1s - loss: 0.9390 - categorical_accuracy: 0.6029 - precision: 0.5196 - recall: 0.6832 - f1: 0.5900 - val_loss: 0.8774 - val_categorical_accuracy: 0.6533 - val_precision: 0.6105 - val_recall: 0.7000 - val_f1: 0.6497\n",
            "Epoch 28/100\n",
            "229/229 - 1s - loss: 0.9406 - categorical_accuracy: 0.6034 - precision: 0.5231 - recall: 0.6738 - f1: 0.5886 - val_loss: 0.8784 - val_categorical_accuracy: 0.6533 - val_precision: 0.6092 - val_recall: 0.7067 - val_f1: 0.6513\n",
            "Epoch 29/100\n",
            "229/229 - 1s - loss: 0.9403 - categorical_accuracy: 0.6065 - precision: 0.5219 - recall: 0.6700 - f1: 0.5874 - val_loss: 0.8778 - val_categorical_accuracy: 0.6467 - val_precision: 0.6034 - val_recall: 0.7200 - val_f1: 0.6532\n",
            "Epoch 30/100\n",
            "229/229 - 1s - loss: 0.9399 - categorical_accuracy: 0.6037 - precision: 0.5236 - recall: 0.6746 - f1: 0.5905 - val_loss: 0.8734 - val_categorical_accuracy: 0.6600 - val_precision: 0.6199 - val_recall: 0.7067 - val_f1: 0.6571\n",
            "Epoch 31/100\n",
            "229/229 - 1s - loss: 0.9430 - categorical_accuracy: 0.6030 - precision: 0.5221 - recall: 0.6667 - f1: 0.5862 - val_loss: 0.8758 - val_categorical_accuracy: 0.6600 - val_precision: 0.6243 - val_recall: 0.7200 - val_f1: 0.6645\n",
            "Epoch 32/100\n",
            "229/229 - 1s - loss: 0.9410 - categorical_accuracy: 0.6047 - precision: 0.5267 - recall: 0.6624 - f1: 0.5872 - val_loss: 0.8769 - val_categorical_accuracy: 0.6533 - val_precision: 0.6114 - val_recall: 0.7133 - val_f1: 0.6520\n",
            "Epoch 33/100\n",
            "229/229 - 1s - loss: 0.9386 - categorical_accuracy: 0.6088 - precision: 0.5351 - recall: 0.6669 - f1: 0.5942 - val_loss: 0.8804 - val_categorical_accuracy: 0.6533 - val_precision: 0.6149 - val_recall: 0.7133 - val_f1: 0.6543\n",
            "Epoch 34/100\n",
            "229/229 - 1s - loss: 0.9415 - categorical_accuracy: 0.6007 - precision: 0.5326 - recall: 0.6623 - f1: 0.5909 - val_loss: 0.8755 - val_categorical_accuracy: 0.6533 - val_precision: 0.6229 - val_recall: 0.7267 - val_f1: 0.6666\n",
            "Epoch 35/100\n",
            "229/229 - 1s - loss: 0.9380 - categorical_accuracy: 0.6085 - precision: 0.5304 - recall: 0.6667 - f1: 0.5916 - val_loss: 0.8723 - val_categorical_accuracy: 0.6533 - val_precision: 0.6294 - val_recall: 0.7133 - val_f1: 0.6649\n",
            "Epoch 36/100\n",
            "229/229 - 1s - loss: 0.9380 - categorical_accuracy: 0.6123 - precision: 0.5314 - recall: 0.6702 - f1: 0.5925 - val_loss: 0.8781 - val_categorical_accuracy: 0.6467 - val_precision: 0.6243 - val_recall: 0.7200 - val_f1: 0.6645\n",
            "Epoch 37/100\n",
            "229/229 - 1s - loss: 0.9408 - categorical_accuracy: 0.6041 - precision: 0.5291 - recall: 0.6596 - f1: 0.5875 - val_loss: 0.8714 - val_categorical_accuracy: 0.6667 - val_precision: 0.6089 - val_recall: 0.7267 - val_f1: 0.6588\n",
            "Epoch 38/100\n",
            "229/229 - 1s - loss: 0.9433 - categorical_accuracy: 0.6037 - precision: 0.5270 - recall: 0.6641 - f1: 0.5884 - val_loss: 0.8739 - val_categorical_accuracy: 0.6533 - val_precision: 0.6102 - val_recall: 0.7200 - val_f1: 0.6570\n",
            "Epoch 39/100\n",
            "229/229 - 1s - loss: 0.9414 - categorical_accuracy: 0.6013 - precision: 0.5298 - recall: 0.6712 - f1: 0.5925 - val_loss: 0.8789 - val_categorical_accuracy: 0.6467 - val_precision: 0.6257 - val_recall: 0.7133 - val_f1: 0.6628\n",
            "Epoch 40/100\n",
            "229/229 - 1s - loss: 0.9378 - categorical_accuracy: 0.6088 - precision: 0.5412 - recall: 0.6709 - f1: 0.6000 - val_loss: 0.8761 - val_categorical_accuracy: 0.6600 - val_precision: 0.6229 - val_recall: 0.7267 - val_f1: 0.6666\n",
            "Epoch 41/100\n",
            "229/229 - 1s - loss: 0.9371 - categorical_accuracy: 0.6082 - precision: 0.5381 - recall: 0.6682 - f1: 0.5962 - val_loss: 0.8792 - val_categorical_accuracy: 0.6533 - val_precision: 0.6193 - val_recall: 0.7267 - val_f1: 0.6646\n",
            "Epoch 42/100\n",
            "229/229 - 1s - loss: 0.9404 - categorical_accuracy: 0.6045 - precision: 0.5433 - recall: 0.6713 - f1: 0.6010 - val_loss: 0.8735 - val_categorical_accuracy: 0.6533 - val_precision: 0.6124 - val_recall: 0.7267 - val_f1: 0.6607\n",
            "Epoch 43/100\n",
            "229/229 - 1s - loss: 0.9409 - categorical_accuracy: 0.6060 - precision: 0.5401 - recall: 0.6739 - f1: 0.5997 - val_loss: 0.8743 - val_categorical_accuracy: 0.6533 - val_precision: 0.6353 - val_recall: 0.7200 - val_f1: 0.6683\n",
            "Epoch 44/100\n",
            "229/229 - 1s - loss: 0.9412 - categorical_accuracy: 0.6036 - precision: 0.5381 - recall: 0.6787 - f1: 0.6004 - val_loss: 0.8791 - val_categorical_accuracy: 0.6533 - val_precision: 0.6193 - val_recall: 0.7267 - val_f1: 0.6618\n",
            "Epoch 45/100\n",
            "229/229 - 1s - loss: 0.9370 - categorical_accuracy: 0.6085 - precision: 0.5406 - recall: 0.6788 - f1: 0.6021 - val_loss: 0.8721 - val_categorical_accuracy: 0.6600 - val_precision: 0.6145 - val_recall: 0.7333 - val_f1: 0.6642\n",
            "Epoch 46/100\n",
            "229/229 - 1s - loss: 0.9362 - categorical_accuracy: 0.6115 - precision: 0.5436 - recall: 0.6828 - f1: 0.6057 - val_loss: 0.8731 - val_categorical_accuracy: 0.6533 - val_precision: 0.6193 - val_recall: 0.7267 - val_f1: 0.6646\n",
            "Epoch 47/100\n",
            "229/229 - 1s - loss: 0.9416 - categorical_accuracy: 0.6060 - precision: 0.5407 - recall: 0.6830 - f1: 0.6035 - val_loss: 0.8759 - val_categorical_accuracy: 0.6600 - val_precision: 0.6229 - val_recall: 0.7267 - val_f1: 0.6666\n",
            "Epoch 48/100\n",
            "229/229 - 1s - loss: 0.9411 - categorical_accuracy: 0.6004 - precision: 0.5349 - recall: 0.6802 - f1: 0.5991 - val_loss: 0.8760 - val_categorical_accuracy: 0.6533 - val_precision: 0.6158 - val_recall: 0.7267 - val_f1: 0.6621\n",
            "Epoch 49/100\n",
            "229/229 - 1s - loss: 0.9401 - categorical_accuracy: 0.6028 - precision: 0.5420 - recall: 0.6791 - f1: 0.6031 - val_loss: 0.8762 - val_categorical_accuracy: 0.6600 - val_precision: 0.6158 - val_recall: 0.7267 - val_f1: 0.6626\n",
            "Epoch 50/100\n",
            "229/229 - 1s - loss: 0.9375 - categorical_accuracy: 0.6066 - precision: 0.5440 - recall: 0.6857 - f1: 0.6073 - val_loss: 0.8798 - val_categorical_accuracy: 0.6467 - val_precision: 0.6136 - val_recall: 0.7200 - val_f1: 0.6566\n",
            "Epoch 51/100\n",
            "229/229 - 1s - loss: 0.9400 - categorical_accuracy: 0.6056 - precision: 0.5377 - recall: 0.6905 - f1: 0.6050 - val_loss: 0.8729 - val_categorical_accuracy: 0.6600 - val_precision: 0.6034 - val_recall: 0.7200 - val_f1: 0.6531\n",
            "Epoch 52/100\n",
            "229/229 - 1s - loss: 0.9392 - categorical_accuracy: 0.6022 - precision: 0.5365 - recall: 0.6944 - f1: 0.6054 - val_loss: 0.8826 - val_categorical_accuracy: 0.6600 - val_precision: 0.5989 - val_recall: 0.7067 - val_f1: 0.6454\n",
            "Epoch 53/100\n",
            "229/229 - 1s - loss: 0.9412 - categorical_accuracy: 0.6076 - precision: 0.5412 - recall: 0.6969 - f1: 0.6092 - val_loss: 0.8800 - val_categorical_accuracy: 0.6533 - val_precision: 0.6089 - val_recall: 0.7267 - val_f1: 0.6568\n",
            "Epoch 54/100\n",
            "229/229 - 1s - loss: 0.9391 - categorical_accuracy: 0.6066 - precision: 0.5386 - recall: 0.6924 - f1: 0.6065 - val_loss: 0.8735 - val_categorical_accuracy: 0.6600 - val_precision: 0.6092 - val_recall: 0.7067 - val_f1: 0.6493\n",
            "Epoch 55/100\n",
            "229/229 - 1s - loss: 0.9380 - categorical_accuracy: 0.6055 - precision: 0.5418 - recall: 0.6946 - f1: 0.6087 - val_loss: 0.8750 - val_categorical_accuracy: 0.6533 - val_precision: 0.6056 - val_recall: 0.7267 - val_f1: 0.6542\n",
            "Epoch 56/100\n",
            "229/229 - 1s - loss: 0.9368 - categorical_accuracy: 0.6048 - precision: 0.5397 - recall: 0.6959 - f1: 0.6077 - val_loss: 0.8868 - val_categorical_accuracy: 0.6600 - val_precision: 0.5944 - val_recall: 0.7133 - val_f1: 0.6449\n",
            "Epoch 57/100\n",
            "229/229 - 1s - loss: 0.9376 - categorical_accuracy: 0.6050 - precision: 0.5394 - recall: 0.7005 - f1: 0.6099 - val_loss: 0.8772 - val_categorical_accuracy: 0.6600 - val_precision: 0.6102 - val_recall: 0.7200 - val_f1: 0.6564\n",
            "Epoch 58/100\n",
            "229/229 - 1s - loss: 0.9428 - categorical_accuracy: 0.5993 - precision: 0.5441 - recall: 0.6840 - f1: 0.6061 - val_loss: 0.8776 - val_categorical_accuracy: 0.6467 - val_precision: 0.5956 - val_recall: 0.7267 - val_f1: 0.6517\n",
            "Epoch 59/100\n",
            "229/229 - 1s - loss: 0.9393 - categorical_accuracy: 0.6067 - precision: 0.5446 - recall: 0.6912 - f1: 0.6096 - val_loss: 0.8748 - val_categorical_accuracy: 0.6533 - val_precision: 0.6011 - val_recall: 0.7333 - val_f1: 0.6575\n",
            "Epoch 60/100\n",
            "229/229 - 1s - loss: 0.9369 - categorical_accuracy: 0.6069 - precision: 0.5495 - recall: 0.6927 - f1: 0.6136 - val_loss: 0.8797 - val_categorical_accuracy: 0.6600 - val_precision: 0.5978 - val_recall: 0.7333 - val_f1: 0.6550\n",
            "Epoch 61/100\n",
            "229/229 - 1s - loss: 0.9403 - categorical_accuracy: 0.6006 - precision: 0.5399 - recall: 0.6976 - f1: 0.6087 - val_loss: 0.8779 - val_categorical_accuracy: 0.6600 - val_precision: 0.6034 - val_recall: 0.7200 - val_f1: 0.6526\n",
            "Epoch 62/100\n",
            "229/229 - 1s - loss: 0.9377 - categorical_accuracy: 0.6054 - precision: 0.5406 - recall: 0.6998 - f1: 0.6105 - val_loss: 0.8806 - val_categorical_accuracy: 0.6600 - val_precision: 0.5989 - val_recall: 0.7267 - val_f1: 0.6525\n",
            "Epoch 63/100\n",
            "229/229 - 1s - loss: 0.9365 - categorical_accuracy: 0.6069 - precision: 0.5445 - recall: 0.6951 - f1: 0.6113 - val_loss: 0.8776 - val_categorical_accuracy: 0.6600 - val_precision: 0.5932 - val_recall: 0.7000 - val_f1: 0.6368\n",
            "Epoch 64/100\n",
            "229/229 - 1s - loss: 0.9395 - categorical_accuracy: 0.6055 - precision: 0.5468 - recall: 0.6958 - f1: 0.6127 - val_loss: 0.8749 - val_categorical_accuracy: 0.6600 - val_precision: 0.6102 - val_recall: 0.7200 - val_f1: 0.6565\n",
            "Epoch 65/100\n",
            "229/229 - 1s - loss: 0.9373 - categorical_accuracy: 0.6073 - precision: 0.5520 - recall: 0.6959 - f1: 0.6159 - val_loss: 0.8740 - val_categorical_accuracy: 0.6600 - val_precision: 0.6045 - val_recall: 0.7133 - val_f1: 0.6486\n",
            "Epoch 66/100\n",
            "229/229 - 1s - loss: 0.9372 - categorical_accuracy: 0.6100 - precision: 0.5468 - recall: 0.6977 - f1: 0.6138 - val_loss: 0.8766 - val_categorical_accuracy: 0.6600 - val_precision: 0.6080 - val_recall: 0.7133 - val_f1: 0.6502\n",
            "Epoch 67/100\n",
            "229/229 - 1s - loss: 0.9368 - categorical_accuracy: 0.6030 - precision: 0.5474 - recall: 0.6939 - f1: 0.6119 - val_loss: 0.8796 - val_categorical_accuracy: 0.6600 - val_precision: 0.6059 - val_recall: 0.6867 - val_f1: 0.6366\n",
            "Epoch 68/100\n",
            "229/229 - 1s - loss: 0.9366 - categorical_accuracy: 0.6091 - precision: 0.5503 - recall: 0.6983 - f1: 0.6151 - val_loss: 0.8790 - val_categorical_accuracy: 0.6467 - val_precision: 0.6011 - val_recall: 0.7133 - val_f1: 0.6464\n",
            "Epoch 69/100\n",
            "229/229 - 1s - loss: 0.9395 - categorical_accuracy: 0.6071 - precision: 0.5430 - recall: 0.6959 - f1: 0.6099 - val_loss: 0.8782 - val_categorical_accuracy: 0.6600 - val_precision: 0.6011 - val_recall: 0.7133 - val_f1: 0.6470\n",
            "Epoch 70/100\n",
            "229/229 - 1s - loss: 0.9353 - categorical_accuracy: 0.6014 - precision: 0.5539 - recall: 0.6929 - f1: 0.6160 - val_loss: 0.8718 - val_categorical_accuracy: 0.6600 - val_precision: 0.6011 - val_recall: 0.7133 - val_f1: 0.6468\n",
            "Epoch 71/100\n",
            "229/229 - 1s - loss: 0.9353 - categorical_accuracy: 0.6033 - precision: 0.5493 - recall: 0.6969 - f1: 0.6148 - val_loss: 0.8780 - val_categorical_accuracy: 0.6600 - val_precision: 0.6000 - val_recall: 0.7200 - val_f1: 0.6490\n",
            "Epoch 72/100\n",
            "229/229 - 1s - loss: 0.9393 - categorical_accuracy: 0.6033 - precision: 0.5496 - recall: 0.6866 - f1: 0.6105 - val_loss: 0.8834 - val_categorical_accuracy: 0.6600 - val_precision: 0.6011 - val_recall: 0.7133 - val_f1: 0.6463\n",
            "Epoch 73/100\n",
            "229/229 - 1s - loss: 0.9391 - categorical_accuracy: 0.6070 - precision: 0.5531 - recall: 0.6928 - f1: 0.6153 - val_loss: 0.8783 - val_categorical_accuracy: 0.6600 - val_precision: 0.5922 - val_recall: 0.7067 - val_f1: 0.6418\n",
            "Epoch 74/100\n",
            "229/229 - 1s - loss: 0.9357 - categorical_accuracy: 0.6088 - precision: 0.5537 - recall: 0.6907 - f1: 0.6151 - val_loss: 0.8743 - val_categorical_accuracy: 0.6600 - val_precision: 0.6092 - val_recall: 0.7067 - val_f1: 0.6488\n",
            "Epoch 75/100\n",
            "229/229 - 1s - loss: 0.9366 - categorical_accuracy: 0.6040 - precision: 0.5558 - recall: 0.6943 - f1: 0.6177 - val_loss: 0.8753 - val_categorical_accuracy: 0.6533 - val_precision: 0.6045 - val_recall: 0.7133 - val_f1: 0.6508\n",
            "Epoch 76/100\n",
            "229/229 - 1s - loss: 0.9400 - categorical_accuracy: 0.6085 - precision: 0.5525 - recall: 0.6955 - f1: 0.6160 - val_loss: 0.8746 - val_categorical_accuracy: 0.6600 - val_precision: 0.6080 - val_recall: 0.7133 - val_f1: 0.6508\n",
            "Epoch 77/100\n",
            "229/229 - 1s - loss: 0.9373 - categorical_accuracy: 0.6008 - precision: 0.5496 - recall: 0.6958 - f1: 0.6142 - val_loss: 0.8768 - val_categorical_accuracy: 0.6533 - val_precision: 0.6057 - val_recall: 0.7067 - val_f1: 0.6467\n",
            "Epoch 78/100\n",
            "229/229 - 1s - loss: 0.9377 - categorical_accuracy: 0.6052 - precision: 0.5537 - recall: 0.6897 - f1: 0.6148 - val_loss: 0.8771 - val_categorical_accuracy: 0.6600 - val_precision: 0.6000 - val_recall: 0.7000 - val_f1: 0.6413\n",
            "Epoch 79/100\n",
            "229/229 - 1s - loss: 0.9350 - categorical_accuracy: 0.6095 - precision: 0.5521 - recall: 0.7002 - f1: 0.6177 - val_loss: 0.8723 - val_categorical_accuracy: 0.6600 - val_precision: 0.6067 - val_recall: 0.7200 - val_f1: 0.6526\n",
            "Epoch 80/100\n",
            "229/229 - 1s - loss: 0.9408 - categorical_accuracy: 0.6011 - precision: 0.5444 - recall: 0.6933 - f1: 0.6101 - val_loss: 0.8749 - val_categorical_accuracy: 0.6600 - val_precision: 0.6000 - val_recall: 0.7000 - val_f1: 0.6413\n",
            "Epoch 81/100\n",
            "229/229 - 1s - loss: 0.9368 - categorical_accuracy: 0.6048 - precision: 0.5502 - recall: 0.6953 - f1: 0.6142 - val_loss: 0.8771 - val_categorical_accuracy: 0.6600 - val_precision: 0.6023 - val_recall: 0.7067 - val_f1: 0.6449\n",
            "Epoch 82/100\n",
            "229/229 - 1s - loss: 0.9368 - categorical_accuracy: 0.6060 - precision: 0.5473 - recall: 0.7027 - f1: 0.6157 - val_loss: 0.8778 - val_categorical_accuracy: 0.6533 - val_precision: 0.5789 - val_recall: 0.7333 - val_f1: 0.6446\n",
            "Epoch 83/100\n",
            "229/229 - 1s - loss: 0.9384 - categorical_accuracy: 0.6082 - precision: 0.5422 - recall: 0.7126 - f1: 0.6154 - val_loss: 0.8774 - val_categorical_accuracy: 0.6600 - val_precision: 0.5946 - val_recall: 0.7333 - val_f1: 0.6534\n",
            "Epoch 84/100\n",
            "229/229 - 1s - loss: 0.9343 - categorical_accuracy: 0.6073 - precision: 0.5426 - recall: 0.7135 - f1: 0.6169 - val_loss: 0.8795 - val_categorical_accuracy: 0.6600 - val_precision: 0.6000 - val_recall: 0.7200 - val_f1: 0.6509\n",
            "Epoch 85/100\n",
            "229/229 - 1s - loss: 0.9361 - categorical_accuracy: 0.6059 - precision: 0.5483 - recall: 0.7032 - f1: 0.6161 - val_loss: 0.8754 - val_categorical_accuracy: 0.6533 - val_precision: 0.5924 - val_recall: 0.7267 - val_f1: 0.6471\n",
            "Epoch 86/100\n",
            "229/229 - 1s - loss: 0.9370 - categorical_accuracy: 0.6033 - precision: 0.5422 - recall: 0.7110 - f1: 0.6154 - val_loss: 0.8726 - val_categorical_accuracy: 0.6600 - val_precision: 0.6000 - val_recall: 0.7200 - val_f1: 0.6489\n",
            "Epoch 87/100\n",
            "229/229 - 1s - loss: 0.9356 - categorical_accuracy: 0.6073 - precision: 0.5439 - recall: 0.7124 - f1: 0.6175 - val_loss: 0.8759 - val_categorical_accuracy: 0.6600 - val_precision: 0.6067 - val_recall: 0.7200 - val_f1: 0.6549\n",
            "Epoch 88/100\n",
            "229/229 - 1s - loss: 0.9364 - categorical_accuracy: 0.6080 - precision: 0.5490 - recall: 0.6996 - f1: 0.6157 - val_loss: 0.8774 - val_categorical_accuracy: 0.6533 - val_precision: 0.6023 - val_recall: 0.7067 - val_f1: 0.6449\n",
            "Epoch 89/100\n",
            "229/229 - 1s - loss: 0.9398 - categorical_accuracy: 0.6039 - precision: 0.5448 - recall: 0.7051 - f1: 0.6152 - val_loss: 0.8769 - val_categorical_accuracy: 0.6600 - val_precision: 0.5870 - val_recall: 0.7200 - val_f1: 0.6413\n",
            "Epoch 90/100\n",
            "229/229 - 1s - loss: 0.9411 - categorical_accuracy: 0.6071 - precision: 0.5410 - recall: 0.7087 - f1: 0.6144 - val_loss: 0.8769 - val_categorical_accuracy: 0.6467 - val_precision: 0.5798 - val_recall: 0.7267 - val_f1: 0.6428\n",
            "Epoch 91/100\n",
            "229/229 - 1s - loss: 0.9369 - categorical_accuracy: 0.6069 - precision: 0.5464 - recall: 0.7109 - f1: 0.6182 - val_loss: 0.8756 - val_categorical_accuracy: 0.6533 - val_precision: 0.5851 - val_recall: 0.7333 - val_f1: 0.6479\n",
            "Epoch 92/100\n",
            "229/229 - 1s - loss: 0.9394 - categorical_accuracy: 0.6076 - precision: 0.5429 - recall: 0.7089 - f1: 0.6156 - val_loss: 0.8851 - val_categorical_accuracy: 0.6600 - val_precision: 0.5978 - val_recall: 0.7133 - val_f1: 0.6451\n",
            "Epoch 93/100\n",
            "229/229 - 1s - loss: 0.9359 - categorical_accuracy: 0.6067 - precision: 0.5444 - recall: 0.7113 - f1: 0.6170 - val_loss: 0.8758 - val_categorical_accuracy: 0.6600 - val_precision: 0.5956 - val_recall: 0.7267 - val_f1: 0.6513\n",
            "Epoch 94/100\n",
            "229/229 - 1s - loss: 0.9346 - categorical_accuracy: 0.6051 - precision: 0.5489 - recall: 0.7129 - f1: 0.6202 - val_loss: 0.8749 - val_categorical_accuracy: 0.6533 - val_precision: 0.5934 - val_recall: 0.7200 - val_f1: 0.6479\n",
            "Epoch 95/100\n",
            "229/229 - 1s - loss: 0.9381 - categorical_accuracy: 0.6058 - precision: 0.5414 - recall: 0.7037 - f1: 0.6123 - val_loss: 0.8756 - val_categorical_accuracy: 0.6600 - val_precision: 0.5944 - val_recall: 0.7133 - val_f1: 0.6435\n",
            "Epoch 96/100\n",
            "229/229 - 1s - loss: 0.9385 - categorical_accuracy: 0.6081 - precision: 0.5474 - recall: 0.7050 - f1: 0.6170 - val_loss: 0.8712 - val_categorical_accuracy: 0.6600 - val_precision: 0.6045 - val_recall: 0.7133 - val_f1: 0.6490\n",
            "Epoch 97/100\n",
            "229/229 - 1s - loss: 0.9362 - categorical_accuracy: 0.6108 - precision: 0.5464 - recall: 0.7028 - f1: 0.6150 - val_loss: 0.8736 - val_categorical_accuracy: 0.6533 - val_precision: 0.6057 - val_recall: 0.7067 - val_f1: 0.6470\n",
            "Epoch 98/100\n",
            "229/229 - 1s - loss: 0.9357 - categorical_accuracy: 0.6100 - precision: 0.5465 - recall: 0.7040 - f1: 0.6160 - val_loss: 0.8759 - val_categorical_accuracy: 0.6467 - val_precision: 0.6235 - val_recall: 0.7067 - val_f1: 0.6565\n",
            "Epoch 99/100\n",
            "229/229 - 1s - loss: 0.9336 - categorical_accuracy: 0.6073 - precision: 0.5573 - recall: 0.7001 - f1: 0.6205 - val_loss: 0.8768 - val_categorical_accuracy: 0.6600 - val_precision: 0.5943 - val_recall: 0.6933 - val_f1: 0.6356\n",
            "Epoch 100/100\n",
            "229/229 - 1s - loss: 0.9393 - categorical_accuracy: 0.6019 - precision: 0.5447 - recall: 0.7018 - f1: 0.6140 - val_loss: 0.8750 - val_categorical_accuracy: 0.6467 - val_precision: 0.5943 - val_recall: 0.6933 - val_f1: 0.6354\n"
          ],
          "name": "stdout"
        },
        {
          "output_type": "display_data",
          "data": {
            "image/png": "[encoded data removed]",
            "text/plain": [
              "<Figure size 432x288 with 1 Axes>"
            ]
          },
          "metadata": {
            "tags": [],
            "needs_background": "light"
          }
        }
      ]
    },
    {
      "cell_type": "markdown",
      "metadata": {
        "id": "2sxjcSC_6GUg"
      },
      "source": [
        "**Weighted Average Ensemble - Grid Search**"
      ]
    },
    {
      "cell_type": "code",
      "metadata": {
        "id": "twEJM3_M-Dbj"
      },
      "source": [
        "\r\n",
        "from sklearn.datasets import make_blobs\r\n",
        "from sklearn.metrics import accuracy_score\r\n",
        "from keras.utils import to_categorical\r\n",
        "from keras.models import Sequential\r\n",
        "from keras.layers import Dense\r\n",
        "from matplotlib import pyplot\r\n",
        "from numpy import mean\r\n",
        "from numpy import std\r\n",
        "from numpy import array\r\n",
        "from numpy import argmax\r\n",
        "from numpy import tensordot\r\n",
        "from numpy.linalg import norm\r\n",
        "from itertools import product\r\n",
        "\r\n"
      ],
      "execution_count": 39,
      "outputs": []
    },
    {
      "cell_type": "code",
      "metadata": {
        "id": "amhK_riUAl5m"
      },
      "source": [
        "def fit_model(filter_size, X_train, Y_train_cat):\r\n",
        "  inputs = Input(shape=(sequence_length,), dtype='int32')\r\n",
        "  embedding_layer = Embedding(input_dim=voc_size, output_dim=embedding_dim, weights = [embedding_matrix],input_length=sequence_length)(inputs)\r\n",
        "  reshape = Reshape((sequence_length, embedding_dim, 1))(embedding_layer)\r\n",
        "  conv_0 = Conv2D(64, kernel_size=(filter_size, embedding_dim), activation='relu', kernel_regularizer=regularizers.l2(3))(reshape)\r\n",
        "  conv_1 = Conv2D(64, kernel_size=(filter_size, embedding_dim), activation='relu', kernel_regularizer=regularizers.l2(3))(reshape)\r\n",
        "  maxpool_0 = MaxPool2D(pool_size=(sequence_length - filter_size + 1, 1), strides=(1,1), padding='valid')(conv_0)\r\n",
        "  maxpool_1 = MaxPool2D(pool_size=(sequence_length - filter_size + 1, 1), strides=(1,1), padding='valid')(conv_1)\r\n",
        "  concatenated_tensor = Concatenate(axis=1)([maxpool_0, maxpool_1])\r\n",
        "  flatten = Flatten()(concatenated_tensor)\r\n",
        "  dropout = Dropout(0.5)(flatten)\r\n",
        "  Dense_1 = Dense(units=135, activation='relu')(dropout)\r\n",
        "  output = Dense(units=3, activation='softmax')(Dense_1)\r\n",
        "  model = Model(inputs=inputs, outputs=output)\r\n",
        "  model.compile(loss='categorical_crossentropy', optimizer='adam', metrics=Metrics)\r\n",
        "  model.summary()\r\n",
        "  model.fit(X_train, Y_train_cat, epochs=10, batch_size=1028, verbose=2)\r\n",
        "  return model"
      ],
      "execution_count": 41,
      "outputs": []
    },
    {
      "cell_type": "code",
      "metadata": {
        "id": "fIB2GkBr7emR"
      },
      "source": [
        "def ensemble_predictions(members, weights, testX):\r\n",
        "\t# make predictions\r\n",
        "\tyhats = [model.predict(testX) for model in members]\r\n",
        "\tyhats = array(yhats)\r\n",
        "\t# weighted sum across ensemble members\r\n",
        "\tsummed = tensordot(yhats, weights, axes=((0),(0)))\r\n",
        "\t# argmax across classes\r\n",
        "\tresult = argmax(summed, axis=1)\r\n",
        "\treturn result\r\n",
        "\r\n",
        "def evaluate_ensemble(members, weights, testX, testy):\r\n",
        "\t# make prediction\r\n",
        "\tyhat = ensemble_predictions(members, weights, testX)\r\n",
        "\t# calculate accuracy\r\n",
        "\treturn accuracy_score(testy, yhat)\r\n",
        " \r\n",
        "def normalize(weights):\r\n",
        "\t# calculate l1 vector norm\r\n",
        "\tresult = norm(weights, 1)\r\n",
        "\t# check for a vector of all zeros\r\n",
        "\tif result == 0.0:\r\n",
        "\t\treturn weights\r\n",
        "\t# return normalized vector (unit norm)\r\n",
        "\treturn weights / result\r\n",
        "\r\n",
        "def grid_search(members, testX, testy):\r\n",
        "\t# define weights to consider\r\n",
        "\tw = [0.0, 0.1, 0.2, 0.3, 0.4, 0.5, 0.6, 0.7, 0.8, 0.9, 1.0]\r\n",
        "\tbest_score, best_weights = 0.0, None\r\n",
        "\t# iterate all possible combinations (cartesian product)\r\n",
        "\tfor weights in product(w, repeat=len(members)):\r\n",
        "\t\t# skip if all weights are equal\r\n",
        "\t\tif len(set(weights)) == 1:\r\n",
        "\t\t\tcontinue\r\n",
        "\t\t# hack, normalize weight vector\r\n",
        "\t\tweights = normalize(weights)\r\n",
        "\t\t# evaluate weights\r\n",
        "\t\tscore = evaluate_ensemble(members, weights, testX, testy)\r\n",
        "\t\tif score > best_score:\r\n",
        "\t\t\tbest_score, best_weights = score, weights\r\n",
        "\t\t\tprint('>%s %.3f' % (best_weights, best_score))"
      ],
      "execution_count": 42,
      "outputs": []
    },
    {
      "cell_type": "code",
      "metadata": {
        "colab": {
          "base_uri": "https://localhost:8080/"
        },
        "id": "neABbrTW8CMl",
        "outputId": "87de7975-243f-46ef-e151-cfb0933fbd29"
      },
      "source": [
        "n_members = 5\r\n",
        "members = [fit_model(3, X_train, Y_train_cat) for _ in range(n_members)]"
      ],
      "execution_count": 47,
      "outputs": [
        {
          "output_type": "stream",
          "text": [
            "Model: \"model_6\"\n",
            "__________________________________________________________________________________________________\n",
            "Layer (type)                    Output Shape         Param #     Connected to                     \n",
            "==================================================================================================\n",
            "input_14 (InputLayer)           [(None, 47)]         0                                            \n",
            "__________________________________________________________________________________________________\n",
            "embedding_9 (Embedding)         (None, 47, 200)      8532000     input_14[0][0]                   \n",
            "__________________________________________________________________________________________________\n",
            "reshape_9 (Reshape)             (None, 47, 200, 1)   0           embedding_9[0][0]                \n",
            "__________________________________________________________________________________________________\n",
            "conv2d_11 (Conv2D)              (None, 45, 1, 64)    38464       reshape_9[0][0]                  \n",
            "__________________________________________________________________________________________________\n",
            "conv2d_12 (Conv2D)              (None, 45, 1, 64)    38464       reshape_9[0][0]                  \n",
            "__________________________________________________________________________________________________\n",
            "max_pooling2d_11 (MaxPooling2D) (None, 1, 1, 64)     0           conv2d_11[0][0]                  \n",
            "__________________________________________________________________________________________________\n",
            "max_pooling2d_12 (MaxPooling2D) (None, 1, 1, 64)     0           conv2d_12[0][0]                  \n",
            "__________________________________________________________________________________________________\n",
            "concatenate_2 (Concatenate)     (None, 2, 1, 64)     0           max_pooling2d_11[0][0]           \n",
            "                                                                 max_pooling2d_12[0][0]           \n",
            "__________________________________________________________________________________________________\n",
            "flatten_9 (Flatten)             (None, 128)          0           concatenate_2[0][0]              \n",
            "__________________________________________________________________________________________________\n",
            "dropout_21 (Dropout)            (None, 128)          0           flatten_9[0][0]                  \n",
            "__________________________________________________________________________________________________\n",
            "dense_30 (Dense)                (None, 135)          17415       dropout_21[0][0]                 \n",
            "__________________________________________________________________________________________________\n",
            "dense_31 (Dense)                (None, 3)            408         dense_30[0][0]                   \n",
            "==================================================================================================\n",
            "Total params: 8,626,751\n",
            "Trainable params: 8,626,751\n",
            "Non-trainable params: 0\n",
            "__________________________________________________________________________________________________\n",
            "Epoch 1/10\n"
          ],
          "name": "stdout"
        },
        {
          "output_type": "stream",
          "text": [
            "Exception ignored in: <function WeakKeyDictionary.__init__.<locals>.remove at 0x7f784ef4e510>\n",
            "Traceback (most recent call last):\n",
            "  File \"/usr/lib/python3.6/weakref.py\", line 356, in remove\n",
            "    def remove(k, selfref=ref(self)):\n",
            "KeyboardInterrupt\n"
          ],
          "name": "stderr"
        },
        {
          "output_type": "stream",
          "text": [
            "42/42 - 6s - loss: 2.3552 - categorical_accuracy: 0.4466 - precision: 0.5592 - recall: 0.0126 - f1: 0.0066\n",
            "Epoch 2/10\n",
            "42/42 - 5s - loss: 1.0320 - categorical_accuracy: 0.4792 - precision: 0.7532 - recall: 0.0014 - f1: 0.0030\n",
            "Epoch 3/10\n",
            "42/42 - 5s - loss: 0.9987 - categorical_accuracy: 0.5640 - precision: 0.6796 - recall: 0.1762 - f1: 0.2575\n",
            "Epoch 4/10\n",
            "42/42 - 5s - loss: 0.9874 - categorical_accuracy: 0.5882 - precision: 0.6331 - recall: 0.4436 - f1: 0.5178\n",
            "Epoch 5/10\n",
            "42/42 - 5s - loss: 0.9816 - categorical_accuracy: 0.6029 - precision: 0.6430 - recall: 0.4880 - f1: 0.5559\n",
            "Epoch 6/10\n",
            "42/42 - 5s - loss: 0.9833 - categorical_accuracy: 0.6072 - precision: 0.6462 - recall: 0.5092 - f1: 0.5687\n",
            "Epoch 7/10\n",
            "42/42 - 5s - loss: 0.9856 - categorical_accuracy: 0.6116 - precision: 0.6518 - recall: 0.5174 - f1: 0.5751\n",
            "Epoch 8/10\n",
            "42/42 - 5s - loss: 0.9833 - categorical_accuracy: 0.6172 - precision: 0.6623 - recall: 0.5180 - f1: 0.5804\n",
            "Epoch 9/10\n",
            "42/42 - 5s - loss: 0.9722 - categorical_accuracy: 0.6243 - precision: 0.6644 - recall: 0.5421 - f1: 0.5964\n",
            "Epoch 10/10\n",
            "42/42 - 5s - loss: 0.9680 - categorical_accuracy: 0.6271 - precision: 0.6658 - recall: 0.5470 - f1: 0.6002\n",
            "Model: \"model_7\"\n",
            "__________________________________________________________________________________________________\n",
            "Layer (type)                    Output Shape         Param #     Connected to                     \n",
            "==================================================================================================\n",
            "input_15 (InputLayer)           [(None, 47)]         0                                            \n",
            "__________________________________________________________________________________________________\n",
            "embedding_10 (Embedding)        (None, 47, 200)      8532000     input_15[0][0]                   \n",
            "__________________________________________________________________________________________________\n",
            "reshape_10 (Reshape)            (None, 47, 200, 1)   0           embedding_10[0][0]               \n",
            "__________________________________________________________________________________________________\n",
            "conv2d_13 (Conv2D)              (None, 45, 1, 64)    38464       reshape_10[0][0]                 \n",
            "__________________________________________________________________________________________________\n",
            "conv2d_14 (Conv2D)              (None, 45, 1, 64)    38464       reshape_10[0][0]                 \n",
            "__________________________________________________________________________________________________\n",
            "max_pooling2d_13 (MaxPooling2D) (None, 1, 1, 64)     0           conv2d_13[0][0]                  \n",
            "__________________________________________________________________________________________________\n",
            "max_pooling2d_14 (MaxPooling2D) (None, 1, 1, 64)     0           conv2d_14[0][0]                  \n",
            "__________________________________________________________________________________________________\n",
            "concatenate_3 (Concatenate)     (None, 2, 1, 64)     0           max_pooling2d_13[0][0]           \n",
            "                                                                 max_pooling2d_14[0][0]           \n",
            "__________________________________________________________________________________________________\n",
            "flatten_10 (Flatten)            (None, 128)          0           concatenate_3[0][0]              \n",
            "__________________________________________________________________________________________________\n",
            "dropout_22 (Dropout)            (None, 128)          0           flatten_10[0][0]                 \n",
            "__________________________________________________________________________________________________\n",
            "dense_32 (Dense)                (None, 135)          17415       dropout_22[0][0]                 \n",
            "__________________________________________________________________________________________________\n",
            "dense_33 (Dense)                (None, 3)            408         dense_32[0][0]                   \n",
            "==================================================================================================\n",
            "Total params: 8,626,751\n",
            "Trainable params: 8,626,751\n",
            "Non-trainable params: 0\n",
            "__________________________________________________________________________________________________\n",
            "Epoch 1/10\n",
            "42/42 - 6s - loss: 2.3544 - categorical_accuracy: 0.5374 - precision: 0.6651 - recall: 0.2741 - f1: 0.0024\n",
            "Epoch 2/10\n",
            "42/42 - 5s - loss: 1.0302 - categorical_accuracy: 0.4854 - precision: 0.7412 - recall: 0.0030 - f1: 0.0082\n",
            "Epoch 3/10\n",
            "42/42 - 5s - loss: 0.9923 - categorical_accuracy: 0.5762 - precision: 0.6689 - recall: 0.2599 - f1: 0.3574\n",
            "Epoch 4/10\n",
            "42/42 - 5s - loss: 0.9811 - categorical_accuracy: 0.5980 - precision: 0.6425 - recall: 0.4688 - f1: 0.5423\n",
            "Epoch 5/10\n",
            "42/42 - 5s - loss: 0.9902 - categorical_accuracy: 0.6048 - precision: 0.6429 - recall: 0.5012 - f1: 0.5630\n",
            "Epoch 6/10\n",
            "42/42 - 5s - loss: 0.9964 - categorical_accuracy: 0.6030 - precision: 0.6412 - recall: 0.5119 - f1: 0.5693\n",
            "Epoch 7/10\n",
            "42/42 - 5s - loss: 0.9769 - categorical_accuracy: 0.6134 - precision: 0.6537 - recall: 0.5113 - f1: 0.5704\n",
            "Epoch 8/10\n",
            "42/42 - 5s - loss: 0.9761 - categorical_accuracy: 0.6155 - precision: 0.6570 - recall: 0.5210 - f1: 0.5799\n",
            "Epoch 9/10\n",
            "42/42 - 5s - loss: 0.9636 - categorical_accuracy: 0.6220 - precision: 0.6668 - recall: 0.5333 - f1: 0.5912\n",
            "Epoch 10/10\n",
            "42/42 - 5s - loss: 0.9672 - categorical_accuracy: 0.6265 - precision: 0.6657 - recall: 0.5411 - f1: 0.5975\n",
            "Model: \"model_8\"\n",
            "__________________________________________________________________________________________________\n",
            "Layer (type)                    Output Shape         Param #     Connected to                     \n",
            "==================================================================================================\n",
            "input_16 (InputLayer)           [(None, 47)]         0                                            \n",
            "__________________________________________________________________________________________________\n",
            "embedding_11 (Embedding)        (None, 47, 200)      8532000     input_16[0][0]                   \n",
            "__________________________________________________________________________________________________\n",
            "reshape_11 (Reshape)            (None, 47, 200, 1)   0           embedding_11[0][0]               \n",
            "__________________________________________________________________________________________________\n",
            "conv2d_15 (Conv2D)              (None, 45, 1, 64)    38464       reshape_11[0][0]                 \n",
            "__________________________________________________________________________________________________\n",
            "conv2d_16 (Conv2D)              (None, 45, 1, 64)    38464       reshape_11[0][0]                 \n",
            "__________________________________________________________________________________________________\n",
            "max_pooling2d_15 (MaxPooling2D) (None, 1, 1, 64)     0           conv2d_15[0][0]                  \n",
            "__________________________________________________________________________________________________\n",
            "max_pooling2d_16 (MaxPooling2D) (None, 1, 1, 64)     0           conv2d_16[0][0]                  \n",
            "__________________________________________________________________________________________________\n",
            "concatenate_4 (Concatenate)     (None, 2, 1, 64)     0           max_pooling2d_15[0][0]           \n",
            "                                                                 max_pooling2d_16[0][0]           \n",
            "__________________________________________________________________________________________________\n",
            "flatten_11 (Flatten)            (None, 128)          0           concatenate_4[0][0]              \n",
            "__________________________________________________________________________________________________\n",
            "dropout_23 (Dropout)            (None, 128)          0           flatten_11[0][0]                 \n",
            "__________________________________________________________________________________________________\n",
            "dense_34 (Dense)                (None, 135)          17415       dropout_23[0][0]                 \n",
            "__________________________________________________________________________________________________\n",
            "dense_35 (Dense)                (None, 3)            408         dense_34[0][0]                   \n",
            "==================================================================================================\n",
            "Total params: 8,626,751\n",
            "Trainable params: 8,626,751\n",
            "Non-trainable params: 0\n",
            "__________________________________________________________________________________________________\n",
            "Epoch 1/10\n",
            "42/42 - 6s - loss: 2.3487 - categorical_accuracy: 0.5360 - precision: 0.6654 - recall: 0.2707 - f1: 4.6112e-04\n",
            "Epoch 2/10\n",
            "42/42 - 5s - loss: 1.0317 - categorical_accuracy: 0.4849 - precision: 0.6941 - recall: 0.0036 - f1: 0.0079\n",
            "Epoch 3/10\n",
            "42/42 - 5s - loss: 0.9951 - categorical_accuracy: 0.5702 - precision: 0.6662 - recall: 0.2523 - f1: 0.3494\n",
            "Epoch 4/10\n",
            "42/42 - 5s - loss: 0.9841 - categorical_accuracy: 0.5965 - precision: 0.6413 - recall: 0.4663 - f1: 0.5395\n",
            "Epoch 5/10\n",
            "42/42 - 5s - loss: 0.9905 - categorical_accuracy: 0.6019 - precision: 0.6392 - recall: 0.4987 - f1: 0.5578\n",
            "Epoch 6/10\n",
            "42/42 - 5s - loss: 0.9796 - categorical_accuracy: 0.6090 - precision: 0.6490 - recall: 0.5123 - f1: 0.5728\n",
            "Epoch 7/10\n",
            "42/42 - 5s - loss: 0.9726 - categorical_accuracy: 0.6128 - precision: 0.6559 - recall: 0.5192 - f1: 0.5797\n",
            "Epoch 8/10\n",
            "42/42 - 5s - loss: 0.9594 - categorical_accuracy: 0.6251 - precision: 0.6659 - recall: 0.5364 - f1: 0.5934\n",
            "Epoch 9/10\n",
            "42/42 - 5s - loss: 0.9657 - categorical_accuracy: 0.6257 - precision: 0.6627 - recall: 0.5414 - f1: 0.5959\n",
            "Epoch 10/10\n",
            "42/42 - 5s - loss: 0.9497 - categorical_accuracy: 0.6309 - precision: 0.6689 - recall: 0.5551 - f1: 0.6055\n",
            "Model: \"model_9\"\n",
            "__________________________________________________________________________________________________\n",
            "Layer (type)                    Output Shape         Param #     Connected to                     \n",
            "==================================================================================================\n",
            "input_17 (InputLayer)           [(None, 47)]         0                                            \n",
            "__________________________________________________________________________________________________\n",
            "embedding_12 (Embedding)        (None, 47, 200)      8532000     input_17[0][0]                   \n",
            "__________________________________________________________________________________________________\n",
            "reshape_12 (Reshape)            (None, 47, 200, 1)   0           embedding_12[0][0]               \n",
            "__________________________________________________________________________________________________\n",
            "conv2d_17 (Conv2D)              (None, 45, 1, 64)    38464       reshape_12[0][0]                 \n",
            "__________________________________________________________________________________________________\n",
            "conv2d_18 (Conv2D)              (None, 45, 1, 64)    38464       reshape_12[0][0]                 \n",
            "__________________________________________________________________________________________________\n",
            "max_pooling2d_17 (MaxPooling2D) (None, 1, 1, 64)     0           conv2d_17[0][0]                  \n",
            "__________________________________________________________________________________________________\n",
            "max_pooling2d_18 (MaxPooling2D) (None, 1, 1, 64)     0           conv2d_18[0][0]                  \n",
            "__________________________________________________________________________________________________\n",
            "concatenate_5 (Concatenate)     (None, 2, 1, 64)     0           max_pooling2d_17[0][0]           \n",
            "                                                                 max_pooling2d_18[0][0]           \n",
            "__________________________________________________________________________________________________\n",
            "flatten_12 (Flatten)            (None, 128)          0           concatenate_5[0][0]              \n",
            "__________________________________________________________________________________________________\n",
            "dropout_24 (Dropout)            (None, 128)          0           flatten_12[0][0]                 \n",
            "__________________________________________________________________________________________________\n",
            "dense_36 (Dense)                (None, 135)          17415       dropout_24[0][0]                 \n",
            "__________________________________________________________________________________________________\n",
            "dense_37 (Dense)                (None, 3)            408         dense_36[0][0]                   \n",
            "==================================================================================================\n",
            "Total params: 8,626,751\n",
            "Trainable params: 8,626,751\n",
            "Non-trainable params: 0\n",
            "__________________________________________________________________________________________________\n",
            "Epoch 1/10\n",
            "42/42 - 6s - loss: 2.3456 - categorical_accuracy: 0.5381 - precision: 0.6681 - recall: 0.2786 - f1: 0.0042\n",
            "Epoch 2/10\n",
            "42/42 - 5s - loss: 1.0305 - categorical_accuracy: 0.4971 - precision: 0.7222 - recall: 0.0151 - f1: 0.0298\n",
            "Epoch 3/10\n",
            "42/42 - 5s - loss: 0.9901 - categorical_accuracy: 0.5799 - precision: 0.6624 - recall: 0.3026 - f1: 0.4022\n",
            "Epoch 4/10\n",
            "42/42 - 5s - loss: 0.9908 - categorical_accuracy: 0.5969 - precision: 0.6398 - recall: 0.4677 - f1: 0.5402\n",
            "Epoch 5/10\n",
            "42/42 - 5s - loss: 0.9949 - categorical_accuracy: 0.6020 - precision: 0.6425 - recall: 0.4942 - f1: 0.5584\n",
            "Epoch 6/10\n",
            "42/42 - 5s - loss: 0.9909 - categorical_accuracy: 0.6089 - precision: 0.6455 - recall: 0.5115 - f1: 0.5723\n",
            "Epoch 7/10\n",
            "42/42 - 5s - loss: 0.9784 - categorical_accuracy: 0.6133 - precision: 0.6561 - recall: 0.5203 - f1: 0.5795\n",
            "Epoch 8/10\n",
            "42/42 - 5s - loss: 0.9854 - categorical_accuracy: 0.6187 - precision: 0.6600 - recall: 0.5262 - f1: 0.5852\n",
            "Epoch 9/10\n",
            "42/42 - 5s - loss: 0.9628 - categorical_accuracy: 0.6288 - precision: 0.6653 - recall: 0.5443 - f1: 0.5986\n",
            "Epoch 10/10\n",
            "42/42 - 5s - loss: 0.9619 - categorical_accuracy: 0.6284 - precision: 0.6653 - recall: 0.5540 - f1: 0.6049\n",
            "Model: \"model_10\"\n",
            "__________________________________________________________________________________________________\n",
            "Layer (type)                    Output Shape         Param #     Connected to                     \n",
            "==================================================================================================\n",
            "input_18 (InputLayer)           [(None, 47)]         0                                            \n",
            "__________________________________________________________________________________________________\n",
            "embedding_13 (Embedding)        (None, 47, 200)      8532000     input_18[0][0]                   \n",
            "__________________________________________________________________________________________________\n",
            "reshape_13 (Reshape)            (None, 47, 200, 1)   0           embedding_13[0][0]               \n",
            "__________________________________________________________________________________________________\n",
            "conv2d_19 (Conv2D)              (None, 45, 1, 64)    38464       reshape_13[0][0]                 \n",
            "__________________________________________________________________________________________________\n",
            "conv2d_20 (Conv2D)              (None, 45, 1, 64)    38464       reshape_13[0][0]                 \n",
            "__________________________________________________________________________________________________\n",
            "max_pooling2d_19 (MaxPooling2D) (None, 1, 1, 64)     0           conv2d_19[0][0]                  \n",
            "__________________________________________________________________________________________________\n",
            "max_pooling2d_20 (MaxPooling2D) (None, 1, 1, 64)     0           conv2d_20[0][0]                  \n",
            "__________________________________________________________________________________________________\n",
            "concatenate_6 (Concatenate)     (None, 2, 1, 64)     0           max_pooling2d_19[0][0]           \n",
            "                                                                 max_pooling2d_20[0][0]           \n",
            "__________________________________________________________________________________________________\n",
            "flatten_13 (Flatten)            (None, 128)          0           concatenate_6[0][0]              \n",
            "__________________________________________________________________________________________________\n",
            "dropout_25 (Dropout)            (None, 128)          0           flatten_13[0][0]                 \n",
            "__________________________________________________________________________________________________\n",
            "dense_38 (Dense)                (None, 135)          17415       dropout_25[0][0]                 \n",
            "__________________________________________________________________________________________________\n",
            "dense_39 (Dense)                (None, 3)            408         dense_38[0][0]                   \n",
            "==================================================================================================\n",
            "Total params: 8,626,751\n",
            "Trainable params: 8,626,751\n",
            "Non-trainable params: 0\n",
            "__________________________________________________________________________________________________\n",
            "Epoch 1/10\n",
            "42/42 - 6s - loss: 2.3573 - categorical_accuracy: 0.5351 - precision: 0.6643 - recall: 0.2778 - f1: 0.0033\n",
            "Epoch 2/10\n",
            "42/42 - 5s - loss: 1.0316 - categorical_accuracy: 0.4870 - precision: 0.7410 - recall: 0.0024 - f1: 0.0055\n",
            "Epoch 3/10\n",
            "42/42 - 5s - loss: 0.9971 - categorical_accuracy: 0.5629 - precision: 0.6730 - recall: 0.2170 - f1: 0.3110\n",
            "Epoch 4/10\n",
            "42/42 - 5s - loss: 0.9840 - categorical_accuracy: 0.5896 - precision: 0.6370 - recall: 0.4406 - f1: 0.5174\n",
            "Epoch 5/10\n",
            "42/42 - 5s - loss: 0.9783 - categorical_accuracy: 0.6013 - precision: 0.6435 - recall: 0.4892 - f1: 0.5550\n",
            "Epoch 6/10\n",
            "42/42 - 5s - loss: 0.9802 - categorical_accuracy: 0.6056 - precision: 0.6426 - recall: 0.5077 - f1: 0.5699\n",
            "Epoch 7/10\n",
            "42/42 - 5s - loss: 0.9754 - categorical_accuracy: 0.6090 - precision: 0.6441 - recall: 0.5209 - f1: 0.5772\n",
            "Epoch 8/10\n",
            "42/42 - 5s - loss: 0.9666 - categorical_accuracy: 0.6154 - precision: 0.6470 - recall: 0.5305 - f1: 0.5832\n",
            "Epoch 9/10\n",
            "42/42 - 5s - loss: 0.9651 - categorical_accuracy: 0.6167 - precision: 0.6551 - recall: 0.5284 - f1: 0.5843\n",
            "Epoch 10/10\n",
            "42/42 - 5s - loss: 0.9584 - categorical_accuracy: 0.6226 - precision: 0.6623 - recall: 0.5385 - f1: 0.5928\n"
          ],
          "name": "stdout"
        }
      ]
    },
    {
      "cell_type": "code",
      "metadata": {
        "colab": {
          "base_uri": "https://localhost:8080/",
          "height": 538
        },
        "id": "4F919PQ29rQv",
        "outputId": "15eb6a87-14aa-4bc3-df64-42fc4e026a73"
      },
      "source": [
        "weights = [1.0/n_members for _ in range(n_members)]\r\n",
        "score = evaluate_ensemble(members, weights, X_dev, Y_dev)\r\n",
        "print('Equal Weights Score: %.3f' % score)\r\n",
        "# grid search weights\r\n",
        "weights = grid_search(members, X_dev, Y_dev)\r\n",
        "score = evaluate_ensemble(members, weights, X_dev, Y_dev)\r\n",
        "print('Grid Search Weights: %s, Score: %.3f' % (weights, score))"
      ],
      "execution_count": 50,
      "outputs": [
        {
          "output_type": "stream",
          "text": [
            "Equal Weights Score: 0.647\n",
            ">[0. 0. 0. 0. 1.] 0.609\n",
            ">[0. 0. 0. 1. 0.] 0.634\n",
            ">[0.  0.  0.  0.5 0.5] 0.644\n",
            ">[0.         0.         0.         0.53333333 0.46666667] 0.644\n",
            ">[0.         0.         0.         0.52941176 0.47058824] 0.645\n",
            ">[0.         0.         0.         0.52631579 0.47368421] 0.645\n",
            ">[0.  0.  0.5 0.  0.5] 0.646\n",
            ">[0.         0.         0.33333333 0.33333333 0.33333333] 0.650\n",
            ">[0.         0.         0.66666667 0.         0.33333333] 0.651\n"
          ],
          "name": "stdout"
        },
        {
          "output_type": "error",
          "ename": "KeyboardInterrupt",
          "evalue": "ignored",
          "traceback": [
            "\u001b[0;31m---------------------------------------------------------------------------\u001b[0m",
            "\u001b[0;31mKeyboardInterrupt\u001b[0m                         Traceback (most recent call last)",
            "\u001b[0;32m<ipython-input-50-4a2a5cf4e956>\u001b[0m in \u001b[0;36m<module>\u001b[0;34m()\u001b[0m\n\u001b[1;32m      3\u001b[0m \u001b[0mprint\u001b[0m\u001b[0;34m(\u001b[0m\u001b[0;34m'Equal Weights Score: %.3f'\u001b[0m \u001b[0;34m%\u001b[0m \u001b[0mscore\u001b[0m\u001b[0;34m)\u001b[0m\u001b[0;34m\u001b[0m\u001b[0;34m\u001b[0m\u001b[0m\n\u001b[1;32m      4\u001b[0m \u001b[0;31m# grid search weights\u001b[0m\u001b[0;34m\u001b[0m\u001b[0;34m\u001b[0m\u001b[0;34m\u001b[0m\u001b[0m\n\u001b[0;32m----> 5\u001b[0;31m \u001b[0mweights\u001b[0m \u001b[0;34m=\u001b[0m \u001b[0mgrid_search\u001b[0m\u001b[0;34m(\u001b[0m\u001b[0mmembers\u001b[0m\u001b[0;34m,\u001b[0m \u001b[0mX_dev\u001b[0m\u001b[0;34m,\u001b[0m \u001b[0mY_dev\u001b[0m\u001b[0;34m)\u001b[0m\u001b[0;34m\u001b[0m\u001b[0;34m\u001b[0m\u001b[0m\n\u001b[0m\u001b[1;32m      6\u001b[0m \u001b[0mscore\u001b[0m \u001b[0;34m=\u001b[0m \u001b[0mevaluate_ensemble\u001b[0m\u001b[0;34m(\u001b[0m\u001b[0mmembers\u001b[0m\u001b[0;34m,\u001b[0m \u001b[0mweights\u001b[0m\u001b[0;34m,\u001b[0m \u001b[0mX_dev\u001b[0m\u001b[0;34m,\u001b[0m \u001b[0mY_dev\u001b[0m\u001b[0;34m)\u001b[0m\u001b[0;34m\u001b[0m\u001b[0;34m\u001b[0m\u001b[0m\n\u001b[1;32m      7\u001b[0m \u001b[0mprint\u001b[0m\u001b[0;34m(\u001b[0m\u001b[0;34m'Grid Search Weights: %s, Score: %.3f'\u001b[0m \u001b[0;34m%\u001b[0m \u001b[0;34m(\u001b[0m\u001b[0mweights\u001b[0m\u001b[0;34m,\u001b[0m \u001b[0mscore\u001b[0m\u001b[0;34m)\u001b[0m\u001b[0;34m)\u001b[0m\u001b[0;34m\u001b[0m\u001b[0;34m\u001b[0m\u001b[0m\n",
            "\u001b[0;32m<ipython-input-45-f6433e8617da>\u001b[0m in \u001b[0;36mgrid_search\u001b[0;34m(members, testX, testy)\u001b[0m\n\u001b[1;32m     11\u001b[0m                 \u001b[0mweights\u001b[0m \u001b[0;34m=\u001b[0m \u001b[0mnormalize\u001b[0m\u001b[0;34m(\u001b[0m\u001b[0mweights\u001b[0m\u001b[0;34m)\u001b[0m\u001b[0;34m\u001b[0m\u001b[0;34m\u001b[0m\u001b[0m\n\u001b[1;32m     12\u001b[0m                 \u001b[0;31m# evaluate weights\u001b[0m\u001b[0;34m\u001b[0m\u001b[0;34m\u001b[0m\u001b[0;34m\u001b[0m\u001b[0m\n\u001b[0;32m---> 13\u001b[0;31m                 \u001b[0mscore\u001b[0m \u001b[0;34m=\u001b[0m \u001b[0mevaluate_ensemble\u001b[0m\u001b[0;34m(\u001b[0m\u001b[0mmembers\u001b[0m\u001b[0;34m,\u001b[0m \u001b[0mweights\u001b[0m\u001b[0;34m,\u001b[0m \u001b[0mtestX\u001b[0m\u001b[0;34m,\u001b[0m \u001b[0mtesty\u001b[0m\u001b[0;34m)\u001b[0m\u001b[0;34m\u001b[0m\u001b[0;34m\u001b[0m\u001b[0m\n\u001b[0m\u001b[1;32m     14\u001b[0m                 \u001b[0;32mif\u001b[0m \u001b[0mscore\u001b[0m \u001b[0;34m>\u001b[0m \u001b[0mbest_score\u001b[0m\u001b[0;34m:\u001b[0m\u001b[0;34m\u001b[0m\u001b[0;34m\u001b[0m\u001b[0m\n\u001b[1;32m     15\u001b[0m                         \u001b[0mbest_score\u001b[0m\u001b[0;34m,\u001b[0m \u001b[0mbest_weights\u001b[0m \u001b[0;34m=\u001b[0m \u001b[0mscore\u001b[0m\u001b[0;34m,\u001b[0m \u001b[0mweights\u001b[0m\u001b[0;34m\u001b[0m\u001b[0;34m\u001b[0m\u001b[0m\n",
            "\u001b[0;32m<ipython-input-43-b0feac3521e9>\u001b[0m in \u001b[0;36mevaluate_ensemble\u001b[0;34m(members, weights, testX, testy)\u001b[0m\n\u001b[1;32m      3\u001b[0m \u001b[0;32mdef\u001b[0m \u001b[0mevaluate_ensemble\u001b[0m\u001b[0;34m(\u001b[0m\u001b[0mmembers\u001b[0m\u001b[0;34m,\u001b[0m \u001b[0mweights\u001b[0m\u001b[0;34m,\u001b[0m \u001b[0mtestX\u001b[0m\u001b[0;34m,\u001b[0m \u001b[0mtesty\u001b[0m\u001b[0;34m)\u001b[0m\u001b[0;34m:\u001b[0m\u001b[0;34m\u001b[0m\u001b[0;34m\u001b[0m\u001b[0m\n\u001b[1;32m      4\u001b[0m         \u001b[0;31m# make prediction\u001b[0m\u001b[0;34m\u001b[0m\u001b[0;34m\u001b[0m\u001b[0;34m\u001b[0m\u001b[0m\n\u001b[0;32m----> 5\u001b[0;31m         \u001b[0myhat\u001b[0m \u001b[0;34m=\u001b[0m \u001b[0mensemble_predictions\u001b[0m\u001b[0;34m(\u001b[0m\u001b[0mmembers\u001b[0m\u001b[0;34m,\u001b[0m \u001b[0mweights\u001b[0m\u001b[0;34m,\u001b[0m \u001b[0mtestX\u001b[0m\u001b[0;34m)\u001b[0m\u001b[0;34m\u001b[0m\u001b[0;34m\u001b[0m\u001b[0m\n\u001b[0m\u001b[1;32m      6\u001b[0m         \u001b[0;31m# calculate accuracy\u001b[0m\u001b[0;34m\u001b[0m\u001b[0;34m\u001b[0m\u001b[0;34m\u001b[0m\u001b[0m\n\u001b[1;32m      7\u001b[0m         \u001b[0;32mreturn\u001b[0m \u001b[0maccuracy_score\u001b[0m\u001b[0;34m(\u001b[0m\u001b[0mtesty\u001b[0m\u001b[0;34m,\u001b[0m \u001b[0myhat\u001b[0m\u001b[0;34m)\u001b[0m\u001b[0;34m\u001b[0m\u001b[0;34m\u001b[0m\u001b[0m\n",
            "\u001b[0;32m<ipython-input-42-18d49a897b37>\u001b[0m in \u001b[0;36mensemble_predictions\u001b[0;34m(members, weights, testX)\u001b[0m\n\u001b[1;32m      2\u001b[0m \u001b[0;32mdef\u001b[0m \u001b[0mensemble_predictions\u001b[0m\u001b[0;34m(\u001b[0m\u001b[0mmembers\u001b[0m\u001b[0;34m,\u001b[0m \u001b[0mweights\u001b[0m\u001b[0;34m,\u001b[0m \u001b[0mtestX\u001b[0m\u001b[0;34m)\u001b[0m\u001b[0;34m:\u001b[0m\u001b[0;34m\u001b[0m\u001b[0;34m\u001b[0m\u001b[0m\n\u001b[1;32m      3\u001b[0m         \u001b[0;31m# make predictions\u001b[0m\u001b[0;34m\u001b[0m\u001b[0;34m\u001b[0m\u001b[0;34m\u001b[0m\u001b[0m\n\u001b[0;32m----> 4\u001b[0;31m         \u001b[0myhats\u001b[0m \u001b[0;34m=\u001b[0m \u001b[0;34m[\u001b[0m\u001b[0mmodel\u001b[0m\u001b[0;34m.\u001b[0m\u001b[0mpredict\u001b[0m\u001b[0;34m(\u001b[0m\u001b[0mtestX\u001b[0m\u001b[0;34m)\u001b[0m \u001b[0;32mfor\u001b[0m \u001b[0mmodel\u001b[0m \u001b[0;32min\u001b[0m \u001b[0mmembers\u001b[0m\u001b[0;34m]\u001b[0m\u001b[0;34m\u001b[0m\u001b[0;34m\u001b[0m\u001b[0m\n\u001b[0m\u001b[1;32m      5\u001b[0m         \u001b[0myhats\u001b[0m \u001b[0;34m=\u001b[0m \u001b[0marray\u001b[0m\u001b[0;34m(\u001b[0m\u001b[0myhats\u001b[0m\u001b[0;34m)\u001b[0m\u001b[0;34m\u001b[0m\u001b[0;34m\u001b[0m\u001b[0m\n\u001b[1;32m      6\u001b[0m         \u001b[0;31m# weighted sum across ensemble members\u001b[0m\u001b[0;34m\u001b[0m\u001b[0;34m\u001b[0m\u001b[0;34m\u001b[0m\u001b[0m\n",
            "\u001b[0;32m<ipython-input-42-18d49a897b37>\u001b[0m in \u001b[0;36m<listcomp>\u001b[0;34m(.0)\u001b[0m\n\u001b[1;32m      2\u001b[0m \u001b[0;32mdef\u001b[0m \u001b[0mensemble_predictions\u001b[0m\u001b[0;34m(\u001b[0m\u001b[0mmembers\u001b[0m\u001b[0;34m,\u001b[0m \u001b[0mweights\u001b[0m\u001b[0;34m,\u001b[0m \u001b[0mtestX\u001b[0m\u001b[0;34m)\u001b[0m\u001b[0;34m:\u001b[0m\u001b[0;34m\u001b[0m\u001b[0;34m\u001b[0m\u001b[0m\n\u001b[1;32m      3\u001b[0m         \u001b[0;31m# make predictions\u001b[0m\u001b[0;34m\u001b[0m\u001b[0;34m\u001b[0m\u001b[0;34m\u001b[0m\u001b[0m\n\u001b[0;32m----> 4\u001b[0;31m         \u001b[0myhats\u001b[0m \u001b[0;34m=\u001b[0m \u001b[0;34m[\u001b[0m\u001b[0mmodel\u001b[0m\u001b[0;34m.\u001b[0m\u001b[0mpredict\u001b[0m\u001b[0;34m(\u001b[0m\u001b[0mtestX\u001b[0m\u001b[0;34m)\u001b[0m \u001b[0;32mfor\u001b[0m \u001b[0mmodel\u001b[0m \u001b[0;32min\u001b[0m \u001b[0mmembers\u001b[0m\u001b[0;34m]\u001b[0m\u001b[0;34m\u001b[0m\u001b[0;34m\u001b[0m\u001b[0m\n\u001b[0m\u001b[1;32m      5\u001b[0m         \u001b[0myhats\u001b[0m \u001b[0;34m=\u001b[0m \u001b[0marray\u001b[0m\u001b[0;34m(\u001b[0m\u001b[0myhats\u001b[0m\u001b[0;34m)\u001b[0m\u001b[0;34m\u001b[0m\u001b[0;34m\u001b[0m\u001b[0m\n\u001b[1;32m      6\u001b[0m         \u001b[0;31m# weighted sum across ensemble members\u001b[0m\u001b[0;34m\u001b[0m\u001b[0;34m\u001b[0m\u001b[0;34m\u001b[0m\u001b[0m\n",
            "\u001b[0;32m/usr/local/lib/python3.6/dist-packages/tensorflow/python/keras/engine/training.py\u001b[0m in \u001b[0;36mpredict\u001b[0;34m(self, x, batch_size, verbose, steps, callbacks, max_queue_size, workers, use_multiprocessing)\u001b[0m\n\u001b[1;32m   1627\u001b[0m           \u001b[0;32mfor\u001b[0m \u001b[0mstep\u001b[0m \u001b[0;32min\u001b[0m \u001b[0mdata_handler\u001b[0m\u001b[0;34m.\u001b[0m\u001b[0msteps\u001b[0m\u001b[0;34m(\u001b[0m\u001b[0;34m)\u001b[0m\u001b[0;34m:\u001b[0m\u001b[0;34m\u001b[0m\u001b[0;34m\u001b[0m\u001b[0m\n\u001b[1;32m   1628\u001b[0m             \u001b[0mcallbacks\u001b[0m\u001b[0;34m.\u001b[0m\u001b[0mon_predict_batch_begin\u001b[0m\u001b[0;34m(\u001b[0m\u001b[0mstep\u001b[0m\u001b[0;34m)\u001b[0m\u001b[0;34m\u001b[0m\u001b[0;34m\u001b[0m\u001b[0m\n\u001b[0;32m-> 1629\u001b[0;31m             \u001b[0mtmp_batch_outputs\u001b[0m \u001b[0;34m=\u001b[0m \u001b[0mself\u001b[0m\u001b[0;34m.\u001b[0m\u001b[0mpredict_function\u001b[0m\u001b[0;34m(\u001b[0m\u001b[0miterator\u001b[0m\u001b[0;34m)\u001b[0m\u001b[0;34m\u001b[0m\u001b[0;34m\u001b[0m\u001b[0m\n\u001b[0m\u001b[1;32m   1630\u001b[0m             \u001b[0;32mif\u001b[0m \u001b[0mdata_handler\u001b[0m\u001b[0;34m.\u001b[0m\u001b[0mshould_sync\u001b[0m\u001b[0;34m:\u001b[0m\u001b[0;34m\u001b[0m\u001b[0;34m\u001b[0m\u001b[0m\n\u001b[1;32m   1631\u001b[0m               \u001b[0mcontext\u001b[0m\u001b[0;34m.\u001b[0m\u001b[0masync_wait\u001b[0m\u001b[0;34m(\u001b[0m\u001b[0;34m)\u001b[0m\u001b[0;34m\u001b[0m\u001b[0;34m\u001b[0m\u001b[0m\n",
            "\u001b[0;32m/usr/local/lib/python3.6/dist-packages/tensorflow/python/eager/def_function.py\u001b[0m in \u001b[0;36m__call__\u001b[0;34m(self, *args, **kwds)\u001b[0m\n\u001b[1;32m    826\u001b[0m     \u001b[0mtracing_count\u001b[0m \u001b[0;34m=\u001b[0m \u001b[0mself\u001b[0m\u001b[0;34m.\u001b[0m\u001b[0mexperimental_get_tracing_count\u001b[0m\u001b[0;34m(\u001b[0m\u001b[0;34m)\u001b[0m\u001b[0;34m\u001b[0m\u001b[0;34m\u001b[0m\u001b[0m\n\u001b[1;32m    827\u001b[0m     \u001b[0;32mwith\u001b[0m \u001b[0mtrace\u001b[0m\u001b[0;34m.\u001b[0m\u001b[0mTrace\u001b[0m\u001b[0;34m(\u001b[0m\u001b[0mself\u001b[0m\u001b[0;34m.\u001b[0m\u001b[0m_name\u001b[0m\u001b[0;34m)\u001b[0m \u001b[0;32mas\u001b[0m \u001b[0mtm\u001b[0m\u001b[0;34m:\u001b[0m\u001b[0;34m\u001b[0m\u001b[0;34m\u001b[0m\u001b[0m\n\u001b[0;32m--> 828\u001b[0;31m       \u001b[0mresult\u001b[0m \u001b[0;34m=\u001b[0m \u001b[0mself\u001b[0m\u001b[0;34m.\u001b[0m\u001b[0m_call\u001b[0m\u001b[0;34m(\u001b[0m\u001b[0;34m*\u001b[0m\u001b[0margs\u001b[0m\u001b[0;34m,\u001b[0m \u001b[0;34m**\u001b[0m\u001b[0mkwds\u001b[0m\u001b[0;34m)\u001b[0m\u001b[0;34m\u001b[0m\u001b[0;34m\u001b[0m\u001b[0m\n\u001b[0m\u001b[1;32m    829\u001b[0m       \u001b[0mcompiler\u001b[0m \u001b[0;34m=\u001b[0m \u001b[0;34m\"xla\"\u001b[0m \u001b[0;32mif\u001b[0m \u001b[0mself\u001b[0m\u001b[0;34m.\u001b[0m\u001b[0m_experimental_compile\u001b[0m \u001b[0;32melse\u001b[0m \u001b[0;34m\"nonXla\"\u001b[0m\u001b[0;34m\u001b[0m\u001b[0;34m\u001b[0m\u001b[0m\n\u001b[1;32m    830\u001b[0m       \u001b[0mnew_tracing_count\u001b[0m \u001b[0;34m=\u001b[0m \u001b[0mself\u001b[0m\u001b[0;34m.\u001b[0m\u001b[0mexperimental_get_tracing_count\u001b[0m\u001b[0;34m(\u001b[0m\u001b[0;34m)\u001b[0m\u001b[0;34m\u001b[0m\u001b[0;34m\u001b[0m\u001b[0m\n",
            "\u001b[0;32m/usr/local/lib/python3.6/dist-packages/tensorflow/python/eager/def_function.py\u001b[0m in \u001b[0;36m_call\u001b[0;34m(self, *args, **kwds)\u001b[0m\n\u001b[1;32m    860\u001b[0m       \u001b[0;31m# In this case we have not created variables on the first call. So we can\u001b[0m\u001b[0;34m\u001b[0m\u001b[0;34m\u001b[0m\u001b[0;34m\u001b[0m\u001b[0m\n\u001b[1;32m    861\u001b[0m       \u001b[0;31m# run the first trace but we should fail if variables are created.\u001b[0m\u001b[0;34m\u001b[0m\u001b[0;34m\u001b[0m\u001b[0;34m\u001b[0m\u001b[0m\n\u001b[0;32m--> 862\u001b[0;31m       \u001b[0mresults\u001b[0m \u001b[0;34m=\u001b[0m \u001b[0mself\u001b[0m\u001b[0;34m.\u001b[0m\u001b[0m_stateful_fn\u001b[0m\u001b[0;34m(\u001b[0m\u001b[0;34m*\u001b[0m\u001b[0margs\u001b[0m\u001b[0;34m,\u001b[0m \u001b[0;34m**\u001b[0m\u001b[0mkwds\u001b[0m\u001b[0;34m)\u001b[0m\u001b[0;34m\u001b[0m\u001b[0;34m\u001b[0m\u001b[0m\n\u001b[0m\u001b[1;32m    863\u001b[0m       \u001b[0;32mif\u001b[0m \u001b[0mself\u001b[0m\u001b[0;34m.\u001b[0m\u001b[0m_created_variables\u001b[0m\u001b[0;34m:\u001b[0m\u001b[0;34m\u001b[0m\u001b[0;34m\u001b[0m\u001b[0m\n\u001b[1;32m    864\u001b[0m         raise ValueError(\"Creating variables on a non-first call to a function\"\n",
            "\u001b[0;32m/usr/local/lib/python3.6/dist-packages/tensorflow/python/eager/function.py\u001b[0m in \u001b[0;36m__call__\u001b[0;34m(self, *args, **kwargs)\u001b[0m\n\u001b[1;32m   2941\u001b[0m        filtered_flat_args) = self._maybe_define_function(args, kwargs)\n\u001b[1;32m   2942\u001b[0m     return graph_function._call_flat(\n\u001b[0;32m-> 2943\u001b[0;31m         filtered_flat_args, captured_inputs=graph_function.captured_inputs)  # pylint: disable=protected-access\n\u001b[0m\u001b[1;32m   2944\u001b[0m \u001b[0;34m\u001b[0m\u001b[0m\n\u001b[1;32m   2945\u001b[0m   \u001b[0;34m@\u001b[0m\u001b[0mproperty\u001b[0m\u001b[0;34m\u001b[0m\u001b[0;34m\u001b[0m\u001b[0m\n",
            "\u001b[0;32m/usr/local/lib/python3.6/dist-packages/tensorflow/python/eager/function.py\u001b[0m in \u001b[0;36m_call_flat\u001b[0;34m(self, args, captured_inputs, cancellation_manager)\u001b[0m\n\u001b[1;32m   1917\u001b[0m       \u001b[0;31m# No tape is watching; skip to running the function.\u001b[0m\u001b[0;34m\u001b[0m\u001b[0;34m\u001b[0m\u001b[0;34m\u001b[0m\u001b[0m\n\u001b[1;32m   1918\u001b[0m       return self._build_call_outputs(self._inference_function.call(\n\u001b[0;32m-> 1919\u001b[0;31m           ctx, args, cancellation_manager=cancellation_manager))\n\u001b[0m\u001b[1;32m   1920\u001b[0m     forward_backward = self._select_forward_and_backward_functions(\n\u001b[1;32m   1921\u001b[0m         \u001b[0margs\u001b[0m\u001b[0;34m,\u001b[0m\u001b[0;34m\u001b[0m\u001b[0;34m\u001b[0m\u001b[0m\n",
            "\u001b[0;32m/usr/local/lib/python3.6/dist-packages/tensorflow/python/eager/function.py\u001b[0m in \u001b[0;36mcall\u001b[0;34m(self, ctx, args, cancellation_manager)\u001b[0m\n\u001b[1;32m    558\u001b[0m               \u001b[0minputs\u001b[0m\u001b[0;34m=\u001b[0m\u001b[0margs\u001b[0m\u001b[0;34m,\u001b[0m\u001b[0;34m\u001b[0m\u001b[0;34m\u001b[0m\u001b[0m\n\u001b[1;32m    559\u001b[0m               \u001b[0mattrs\u001b[0m\u001b[0;34m=\u001b[0m\u001b[0mattrs\u001b[0m\u001b[0;34m,\u001b[0m\u001b[0;34m\u001b[0m\u001b[0;34m\u001b[0m\u001b[0m\n\u001b[0;32m--> 560\u001b[0;31m               ctx=ctx)\n\u001b[0m\u001b[1;32m    561\u001b[0m         \u001b[0;32melse\u001b[0m\u001b[0;34m:\u001b[0m\u001b[0;34m\u001b[0m\u001b[0;34m\u001b[0m\u001b[0m\n\u001b[1;32m    562\u001b[0m           outputs = execute.execute_with_cancellation(\n",
            "\u001b[0;32m/usr/local/lib/python3.6/dist-packages/tensorflow/python/eager/execute.py\u001b[0m in \u001b[0;36mquick_execute\u001b[0;34m(op_name, num_outputs, inputs, attrs, ctx, name)\u001b[0m\n\u001b[1;32m     58\u001b[0m     \u001b[0mctx\u001b[0m\u001b[0;34m.\u001b[0m\u001b[0mensure_initialized\u001b[0m\u001b[0;34m(\u001b[0m\u001b[0;34m)\u001b[0m\u001b[0;34m\u001b[0m\u001b[0;34m\u001b[0m\u001b[0m\n\u001b[1;32m     59\u001b[0m     tensors = pywrap_tfe.TFE_Py_Execute(ctx._handle, device_name, op_name,\n\u001b[0;32m---> 60\u001b[0;31m                                         inputs, attrs, num_outputs)\n\u001b[0m\u001b[1;32m     61\u001b[0m   \u001b[0;32mexcept\u001b[0m \u001b[0mcore\u001b[0m\u001b[0;34m.\u001b[0m\u001b[0m_NotOkStatusException\u001b[0m \u001b[0;32mas\u001b[0m \u001b[0me\u001b[0m\u001b[0;34m:\u001b[0m\u001b[0;34m\u001b[0m\u001b[0;34m\u001b[0m\u001b[0m\n\u001b[1;32m     62\u001b[0m     \u001b[0;32mif\u001b[0m \u001b[0mname\u001b[0m \u001b[0;32mis\u001b[0m \u001b[0;32mnot\u001b[0m \u001b[0;32mNone\u001b[0m\u001b[0;34m:\u001b[0m\u001b[0;34m\u001b[0m\u001b[0;34m\u001b[0m\u001b[0m\n",
            "\u001b[0;31mKeyboardInterrupt\u001b[0m: "
          ]
        }
      ]
    },
    {
      "cell_type": "markdown",
      "metadata": {
        "id": "HJWxtkGykzNV"
      },
      "source": [
        "**Soft Voting Ensemble**"
      ]
    },
    {
      "cell_type": "code",
      "metadata": {
        "id": "fiXlbpz4k5Ql"
      },
      "source": [
        "import sklearn\r\n",
        "from numpy import mean\r\n",
        "from numpy import std\r\n",
        "from sklearn.datasets import make_classification\r\n",
        "from sklearn.model_selection import cross_val_score\r\n",
        "from sklearn.model_selection import RepeatedStratifiedKFold\r\n",
        "from sklearn.svm import SVC\r\n",
        "from sklearn.ensemble import VotingClassifier\r\n",
        "from matplotlib import pyplot"
      ],
      "execution_count": 51,
      "outputs": []
    },
    {
      "cell_type": "code",
      "metadata": {
        "id": "JMeNJpSilhVf"
      },
      "source": [
        "def new_cnn_model():\r\n",
        "  num_classes = 3\r\n",
        "  batch_size = 1028\r\n",
        "  epochs = 20\r\n",
        "  Y_train_cat = to_categorical(Y_train, 3)\r\n",
        "  Y_dev_cat = to_categorical(Y_dev, 3)\r\n",
        "  inputs = Input(shape=(sequence_length,), dtype='int32')\r\n",
        "  embedding_layer = Embedding(input_dim=voc_size, output_dim=embedding_dim, weights = [embedding_matrix],input_length=sequence_length)(inputs)\r\n",
        "  reshape = Reshape((sequence_length, embedding_dim, 1))(embedding_layer)\r\n",
        "  conv_0 = Conv2D(124, kernel_size=(11, embedding_dim), activation='relu', kernel_regularizer=regularizers.l2(3))(reshape)\r\n",
        "  conv_1 = Conv2D(124, kernel_size=(11, embedding_dim), activation='relu', kernel_regularizer=regularizers.l2(3))(reshape)\r\n",
        "  maxpool_0 = MaxPool2D(pool_size=(sequence_length - 11 + 1, 1), strides=(1,1), padding='valid')(conv_0)\r\n",
        "  maxpool_1 = MaxPool2D(pool_size=(sequence_length - 11 + 1, 1), strides=(1,1), padding='valid')(conv_1)\r\n",
        "  concatenated_tensor = Concatenate(axis=1)([maxpool_0, maxpool_1])\r\n",
        "  flatten = Flatten()(concatenated_tensor)\r\n",
        "  dropout = Dropout(0.5)(flatten)\r\n",
        "  Dense_1 = Dense(units=256, activation='relu')(dropout)\r\n",
        "  output = Dense(units=3, activation='softmax')(Dense_1)\r\n",
        "  model_new_1 = Model(inputs=inputs, outputs=output)\r\n",
        "  model_new_1.compile(loss='categorical_crossentropy', optimizer='adam', metrics=Metrics)\r\n",
        "  model_new_1.fit(X_train, Y_train_cat, batch_size=batch_size, epochs=epochs,  validation_data=(X_dev, Y_dev_cat), shuffle=True)\r\n",
        "  scores = model_new_1.evaluate(X_dev, Y_dev_cat, verbose=0)\r\n",
        "  print(\"%s: %.2f%%\" % (model_new_1.metrics_names[1], scores[1]*100))\r\n",
        "  model_new_1.save(\"model_new_1.h5\")\r\n",
        "  print(\"Saved model to disk\")\r\n",
        "  return model_new_1"
      ],
      "execution_count": 83,
      "outputs": []
    },
    {
      "cell_type": "code",
      "metadata": {
        "colab": {
          "base_uri": "https://localhost:8080/"
        },
        "id": "uaSlx9olw_g7",
        "outputId": "076bc188-d0ec-4a19-a55e-b060f4e9a73a"
      },
      "source": [
        "model_new_1 = new_cnn_model()"
      ],
      "execution_count": 84,
      "outputs": [
        {
          "output_type": "stream",
          "text": [
            "Epoch 1/20\n",
            "42/42 [==============================] - 8s 168ms/step - loss: 3.5599 - categorical_accuracy: 0.5077 - precision: 0.6587 - recall: 0.1783 - f1: 0.0225 - val_loss: 1.1073 - val_categorical_accuracy: 0.4501 - val_precision: 0.5189 - val_recall: 0.2305 - val_f1: 0.3141\n",
            "Epoch 2/20\n",
            "42/42 [==============================] - 7s 159ms/step - loss: 1.0889 - categorical_accuracy: 0.4769 - precision: 0.5402 - recall: 0.0753 - f1: 0.1201 - val_loss: 1.1057 - val_categorical_accuracy: 0.4890 - val_precision: 0.5601 - val_recall: 0.3525 - val_f1: 0.4268\n",
            "Epoch 3/20\n",
            "42/42 [==============================] - 7s 159ms/step - loss: 1.1281 - categorical_accuracy: 0.5422 - precision: 0.6121 - recall: 0.2880 - f1: 0.3855 - val_loss: 1.1321 - val_categorical_accuracy: 0.5880 - val_precision: 0.7046 - val_recall: 0.3364 - val_f1: 0.4555\n",
            "Epoch 4/20\n",
            "42/42 [==============================] - 7s 160ms/step - loss: 1.1353 - categorical_accuracy: 0.5884 - precision: 0.6597 - recall: 0.3962 - f1: 0.4920 - val_loss: 1.2376 - val_categorical_accuracy: 0.5597 - val_precision: 0.5802 - val_recall: 0.5082 - val_f1: 0.5388\n",
            "Epoch 5/20\n",
            "42/42 [==============================] - 7s 163ms/step - loss: 1.2580 - categorical_accuracy: 0.5821 - precision: 0.6337 - recall: 0.4501 - f1: 0.5241 - val_loss: 1.1823 - val_categorical_accuracy: 0.6004 - val_precision: 0.6222 - val_recall: 0.5491 - val_f1: 0.5847\n",
            "Epoch 6/20\n",
            "42/42 [==============================] - 7s 161ms/step - loss: 1.2069 - categorical_accuracy: 0.6049 - precision: 0.6527 - recall: 0.4972 - f1: 0.5635 - val_loss: 1.2867 - val_categorical_accuracy: 0.5425 - val_precision: 0.5936 - val_recall: 0.3648 - val_f1: 0.4542\n",
            "Epoch 7/20\n",
            "42/42 [==============================] - 7s 159ms/step - loss: 1.2697 - categorical_accuracy: 0.6066 - precision: 0.6532 - recall: 0.4877 - f1: 0.5570 - val_loss: 1.2740 - val_categorical_accuracy: 0.5764 - val_precision: 0.6241 - val_recall: 0.4795 - val_f1: 0.5413\n",
            "Epoch 8/20\n",
            "42/42 [==============================] - 7s 158ms/step - loss: 1.2362 - categorical_accuracy: 0.6126 - precision: 0.6541 - recall: 0.5212 - f1: 0.5797 - val_loss: 1.1739 - val_categorical_accuracy: 0.6317 - val_precision: 0.7085 - val_recall: 0.4802 - val_f1: 0.5732\n",
            "Epoch 9/20\n",
            "42/42 [==============================] - 7s 160ms/step - loss: 1.2261 - categorical_accuracy: 0.6168 - precision: 0.6563 - recall: 0.5258 - f1: 0.5831 - val_loss: 1.1357 - val_categorical_accuracy: 0.6278 - val_precision: 0.6641 - val_recall: 0.5615 - val_f1: 0.6103\n",
            "Epoch 10/20\n",
            "42/42 [==============================] - 7s 158ms/step - loss: 1.2151 - categorical_accuracy: 0.6196 - precision: 0.6556 - recall: 0.5375 - f1: 0.5906 - val_loss: 1.1197 - val_categorical_accuracy: 0.6344 - val_precision: 0.6658 - val_recall: 0.5641 - val_f1: 0.6123\n",
            "Epoch 11/20\n",
            "42/42 [==============================] - 7s 159ms/step - loss: 1.1825 - categorical_accuracy: 0.6226 - precision: 0.6601 - recall: 0.5489 - f1: 0.5992 - val_loss: 1.1277 - val_categorical_accuracy: 0.6140 - val_precision: 0.6390 - val_recall: 0.5597 - val_f1: 0.5963\n",
            "Epoch 12/20\n",
            "42/42 [==============================] - 7s 160ms/step - loss: 1.1798 - categorical_accuracy: 0.6179 - precision: 0.6529 - recall: 0.5454 - f1: 0.5943 - val_loss: 1.1315 - val_categorical_accuracy: 0.6129 - val_precision: 0.6602 - val_recall: 0.5088 - val_f1: 0.5753\n",
            "Epoch 13/20\n",
            "42/42 [==============================] - 7s 159ms/step - loss: 1.1552 - categorical_accuracy: 0.6248 - precision: 0.6590 - recall: 0.5417 - f1: 0.5944 - val_loss: 1.1037 - val_categorical_accuracy: 0.6419 - val_precision: 0.6940 - val_recall: 0.5388 - val_f1: 0.6096\n",
            "Epoch 14/20\n",
            "42/42 [==============================] - 7s 161ms/step - loss: 1.1644 - categorical_accuracy: 0.6312 - precision: 0.6705 - recall: 0.5522 - f1: 0.6054 - val_loss: 1.1315 - val_categorical_accuracy: 0.6199 - val_precision: 0.6963 - val_recall: 0.4751 - val_f1: 0.5628\n",
            "Epoch 15/20\n",
            "42/42 [==============================] - 7s 161ms/step - loss: 1.1585 - categorical_accuracy: 0.6211 - precision: 0.6567 - recall: 0.5405 - f1: 0.5925 - val_loss: 1.0724 - val_categorical_accuracy: 0.6440 - val_precision: 0.6972 - val_recall: 0.5370 - val_f1: 0.6088\n",
            "Epoch 16/20\n",
            "42/42 [==============================] - 7s 163ms/step - loss: 1.1432 - categorical_accuracy: 0.6270 - precision: 0.6658 - recall: 0.5483 - f1: 0.6009 - val_loss: 1.1889 - val_categorical_accuracy: 0.5838 - val_precision: 0.6422 - val_recall: 0.4653 - val_f1: 0.5353\n",
            "Epoch 17/20\n",
            "42/42 [==============================] - 7s 161ms/step - loss: 1.1625 - categorical_accuracy: 0.6240 - precision: 0.6612 - recall: 0.5438 - f1: 0.5964 - val_loss: 1.1230 - val_categorical_accuracy: 0.6310 - val_precision: 0.6894 - val_recall: 0.5129 - val_f1: 0.5877\n",
            "Epoch 18/20\n",
            "42/42 [==============================] - 7s 161ms/step - loss: 1.1514 - categorical_accuracy: 0.6378 - precision: 0.6776 - recall: 0.5633 - f1: 0.6149 - val_loss: 1.1349 - val_categorical_accuracy: 0.6421 - val_precision: 0.6944 - val_recall: 0.5510 - val_f1: 0.6153\n",
            "Epoch 19/20\n",
            "42/42 [==============================] - 7s 161ms/step - loss: 1.1923 - categorical_accuracy: 0.6313 - precision: 0.6678 - recall: 0.5530 - f1: 0.6048 - val_loss: 1.2200 - val_categorical_accuracy: 0.6137 - val_precision: 0.6794 - val_recall: 0.4920 - val_f1: 0.5692\n",
            "Epoch 20/20\n",
            "42/42 [==============================] - 7s 159ms/step - loss: 1.2114 - categorical_accuracy: 0.6299 - precision: 0.6652 - recall: 0.5493 - f1: 0.6013 - val_loss: 1.0995 - val_categorical_accuracy: 0.6341 - val_precision: 0.6711 - val_recall: 0.5598 - val_f1: 0.6098\n",
            "categorical_accuracy: 63.41%\n",
            "Saved model to disk\n"
          ],
          "name": "stdout"
        }
      ]
    },
    {
      "cell_type": "code",
      "metadata": {
        "id": "nW7YkHFyl0C0"
      },
      "source": [
        "def new_cnn_model_2():\r\n",
        "  num_classes = 3\r\n",
        "  batch_size = 1028\r\n",
        "  epochs = 20\r\n",
        "  Y_train_cat = to_categorical(Y_train, 3)\r\n",
        "  Y_dev_cat = to_categorical(Y_dev, 3)\r\n",
        "  inputs = Input(shape=(sequence_length,), dtype='int32')\r\n",
        "  embedding_layer = Embedding(input_dim=voc_size, output_dim=embedding_dim, weights = [embedding_matrix],input_length=sequence_length)(inputs)\r\n",
        "  reshape = Reshape((sequence_length, embedding_dim, 1))(embedding_layer)\r\n",
        "  conv_0 = Conv2D(324, kernel_size=(9, embedding_dim), activation='relu', kernel_regularizer=regularizers.l2(3))(reshape)\r\n",
        "  conv_1 = Conv2D(324, kernel_size=(9, embedding_dim), activation='relu', kernel_regularizer=regularizers.l2(3))(reshape)\r\n",
        "  maxpool_0 = MaxPool2D(pool_size=(sequence_length - 9 + 1, 1), strides=(1,1), padding='valid')(conv_0)\r\n",
        "  maxpool_1 = MaxPool2D(pool_size=(sequence_length - 9 + 1, 1), strides=(1,1), padding='valid')(conv_1)\r\n",
        "  concatenated_tensor = Concatenate(axis=1)([maxpool_0, maxpool_1])\r\n",
        "  flatten = Flatten()(concatenated_tensor)\r\n",
        "  dropout = Dropout(0.5)(flatten)\r\n",
        "  Dense_1 = Dense(units=256, activation='relu')(dropout)\r\n",
        "  output = Dense(units=3, activation='softmax')(Dense_1)\r\n",
        "  model_new_2 = Model(inputs=inputs, outputs=output)\r\n",
        "  model_new_2.compile(loss='categorical_crossentropy', optimizer='adam', metrics=Metrics)\r\n",
        "  model_new_2.fit(X_train, Y_train_cat, batch_size=batch_size, epochs=epochs,  validation_data=(X_dev, Y_dev_cat), shuffle=True)\r\n",
        "  scores = model_new_2.evaluate(X_dev, Y_dev_cat, verbose=0)\r\n",
        "  print(\"%s: %.2f%%\" % (model_new_2.metrics_names[1], scores[1]*100))\r\n",
        "  model_new_2.save(\"model_new_2.h5\")\r\n",
        "  print(\"Saved model to disk\")\r\n",
        "  return model_new_2"
      ],
      "execution_count": 78,
      "outputs": []
    },
    {
      "cell_type": "code",
      "metadata": {
        "colab": {
          "base_uri": "https://localhost:8080/"
        },
        "id": "qtIaO_8dwaMO",
        "outputId": "3b43ab29-06d4-4ee5-a1e2-1f62f0455fd2"
      },
      "source": [
        "model_new_2 = new_cnn_model_2()"
      ],
      "execution_count": 80,
      "outputs": [
        {
          "output_type": "stream",
          "text": [
            "Epoch 1/20\n",
            "42/42 [==============================] - 13s 282ms/step - loss: 3.5371 - categorical_accuracy: 0.4801 - precision: 0.5628 - recall: 0.0413 - f1: 0.0286 - val_loss: 1.1320 - val_categorical_accuracy: 0.4507 - val_precision: 0.4773 - val_recall: 0.4094 - val_f1: 0.4391\n",
            "Epoch 2/20\n",
            "42/42 [==============================] - 12s 276ms/step - loss: 1.1114 - categorical_accuracy: 0.4873 - precision: 0.5233 - recall: 0.1328 - f1: 0.1771 - val_loss: 1.1360 - val_categorical_accuracy: 0.5110 - val_precision: 0.6789 - val_recall: 0.1967 - val_f1: 0.3079\n",
            "Epoch 3/20\n",
            "42/42 [==============================] - 11s 273ms/step - loss: 1.1399 - categorical_accuracy: 0.5441 - precision: 0.6184 - recall: 0.2872 - f1: 0.3831 - val_loss: 1.2205 - val_categorical_accuracy: 0.5862 - val_precision: 0.6009 - val_recall: 0.5475 - val_f1: 0.5734\n",
            "Epoch 4/20\n",
            "42/42 [==============================] - 11s 271ms/step - loss: 1.2402 - categorical_accuracy: 0.5770 - precision: 0.6162 - recall: 0.4461 - f1: 0.5145 - val_loss: 1.1758 - val_categorical_accuracy: 0.6019 - val_precision: 0.6774 - val_recall: 0.4488 - val_f1: 0.5384\n",
            "Epoch 5/20\n",
            "42/42 [==============================] - 11s 272ms/step - loss: 1.1952 - categorical_accuracy: 0.6018 - precision: 0.6528 - recall: 0.4787 - f1: 0.5515 - val_loss: 1.2497 - val_categorical_accuracy: 0.6110 - val_precision: 0.7412 - val_recall: 0.3571 - val_f1: 0.4792\n",
            "Epoch 6/20\n",
            "42/42 [==============================] - 11s 272ms/step - loss: 1.2540 - categorical_accuracy: 0.6043 - precision: 0.6571 - recall: 0.4858 - f1: 0.5569 - val_loss: 1.2590 - val_categorical_accuracy: 0.6093 - val_precision: 0.6467 - val_recall: 0.5369 - val_f1: 0.5869\n",
            "Epoch 7/20\n",
            "42/42 [==============================] - 11s 271ms/step - loss: 1.2750 - categorical_accuracy: 0.6058 - precision: 0.6530 - recall: 0.5100 - f1: 0.5719 - val_loss: 1.1942 - val_categorical_accuracy: 0.5922 - val_precision: 0.6097 - val_recall: 0.5556 - val_f1: 0.5816\n",
            "Epoch 8/20\n",
            "42/42 [==============================] - 11s 273ms/step - loss: 1.2132 - categorical_accuracy: 0.6155 - precision: 0.6546 - recall: 0.5236 - f1: 0.5812 - val_loss: 1.2110 - val_categorical_accuracy: 0.6132 - val_precision: 0.6277 - val_recall: 0.5940 - val_f1: 0.6112\n",
            "Epoch 9/20\n",
            "42/42 [==============================] - 12s 275ms/step - loss: 1.2176 - categorical_accuracy: 0.6184 - precision: 0.6555 - recall: 0.5347 - f1: 0.5882 - val_loss: 1.1427 - val_categorical_accuracy: 0.6217 - val_precision: 0.6523 - val_recall: 0.5691 - val_f1: 0.6093\n",
            "Epoch 10/20\n",
            "42/42 [==============================] - 11s 272ms/step - loss: 1.1818 - categorical_accuracy: 0.6254 - precision: 0.6632 - recall: 0.5474 - f1: 0.5994 - val_loss: 1.1058 - val_categorical_accuracy: 0.6283 - val_precision: 0.6543 - val_recall: 0.5784 - val_f1: 0.6152\n",
            "Epoch 11/20\n",
            "42/42 [==============================] - 11s 272ms/step - loss: 1.1437 - categorical_accuracy: 0.6254 - precision: 0.6645 - recall: 0.5466 - f1: 0.5997 - val_loss: 1.1216 - val_categorical_accuracy: 0.6372 - val_precision: 0.6626 - val_recall: 0.5847 - val_f1: 0.6241\n",
            "Epoch 12/20\n",
            "42/42 [==============================] - 11s 273ms/step - loss: 1.1640 - categorical_accuracy: 0.6259 - precision: 0.6593 - recall: 0.5533 - f1: 0.6012 - val_loss: 1.1618 - val_categorical_accuracy: 0.6082 - val_precision: 0.6456 - val_recall: 0.5500 - val_f1: 0.5968\n",
            "Epoch 13/20\n",
            "42/42 [==============================] - 11s 269ms/step - loss: 1.1602 - categorical_accuracy: 0.6259 - precision: 0.6636 - recall: 0.5472 - f1: 0.5995 - val_loss: 1.0678 - val_categorical_accuracy: 0.6390 - val_precision: 0.6803 - val_recall: 0.5583 - val_f1: 0.6141\n",
            "Epoch 14/20\n",
            "42/42 [==============================] - 11s 272ms/step - loss: 1.1188 - categorical_accuracy: 0.6340 - precision: 0.6706 - recall: 0.5578 - f1: 0.6090 - val_loss: 1.1066 - val_categorical_accuracy: 0.6439 - val_precision: 0.6986 - val_recall: 0.5233 - val_f1: 0.5996\n",
            "Epoch 15/20\n",
            "42/42 [==============================] - 12s 275ms/step - loss: 1.1597 - categorical_accuracy: 0.6256 - precision: 0.6622 - recall: 0.5452 - f1: 0.5978 - val_loss: 1.1047 - val_categorical_accuracy: 0.6357 - val_precision: 0.7160 - val_recall: 0.4615 - val_f1: 0.5641\n",
            "Epoch 16/20\n",
            "42/42 [==============================] - 11s 270ms/step - loss: 1.1295 - categorical_accuracy: 0.6369 - precision: 0.6775 - recall: 0.5472 - f1: 0.6049 - val_loss: 1.0805 - val_categorical_accuracy: 0.6374 - val_precision: 0.6804 - val_recall: 0.5589 - val_f1: 0.6135\n",
            "Epoch 17/20\n",
            "42/42 [==============================] - 11s 270ms/step - loss: 1.1466 - categorical_accuracy: 0.6334 - precision: 0.6719 - recall: 0.5545 - f1: 0.6073 - val_loss: 1.1385 - val_categorical_accuracy: 0.6157 - val_precision: 0.6808 - val_recall: 0.4993 - val_f1: 0.5760\n",
            "Epoch 18/20\n",
            "42/42 [==============================] - 11s 269ms/step - loss: 1.1645 - categorical_accuracy: 0.6357 - precision: 0.6748 - recall: 0.5526 - f1: 0.6072 - val_loss: 1.1094 - val_categorical_accuracy: 0.6234 - val_precision: 0.6473 - val_recall: 0.5719 - val_f1: 0.6071\n",
            "Epoch 19/20\n",
            "42/42 [==============================] - 11s 269ms/step - loss: 1.1455 - categorical_accuracy: 0.6292 - precision: 0.6674 - recall: 0.5539 - f1: 0.6054 - val_loss: 1.1443 - val_categorical_accuracy: 0.6307 - val_precision: 0.6556 - val_recall: 0.5859 - val_f1: 0.6223\n",
            "Epoch 20/20\n",
            "42/42 [==============================] - 11s 269ms/step - loss: 1.1485 - categorical_accuracy: 0.6363 - precision: 0.6732 - recall: 0.5627 - f1: 0.6128 - val_loss: 1.1038 - val_categorical_accuracy: 0.6386 - val_precision: 0.6802 - val_recall: 0.5693 - val_f1: 0.6221\n",
            "categorical_accuracy: 63.86%\n",
            "Saved model to disk\n"
          ],
          "name": "stdout"
        }
      ]
    },
    {
      "cell_type": "code",
      "metadata": {
        "id": "EJxaO_KHmByM"
      },
      "source": [
        "def new_cnn_model_3():\r\n",
        "  num_classes = 3\r\n",
        "  batch_size = 1028\r\n",
        "  epochs = 20\r\n",
        "  Y_train_cat = to_categorical(Y_train, 3)\r\n",
        "  Y_dev_cat = to_categorical(Y_dev, 3)\r\n",
        "  inputs = Input(shape=(sequence_length,), dtype='int32')\r\n",
        "  embedding_layer = Embedding(input_dim=voc_size, output_dim=embedding_dim, weights = [embedding_matrix],input_length=sequence_length)(inputs)\r\n",
        "  reshape = Reshape((sequence_length, embedding_dim, 1))(embedding_layer)\r\n",
        "  conv_0 = Conv2D(552, kernel_size=(7, embedding_dim), activation='relu', kernel_regularizer=regularizers.l2(3))(reshape)\r\n",
        "  conv_1 = Conv2D(552, kernel_size=(7, embedding_dim), activation='relu', kernel_regularizer=regularizers.l2(3))(reshape)\r\n",
        "  maxpool_0 = MaxPool2D(pool_size=(sequence_length - 7 + 1, 1), strides=(1,1), padding='valid')(conv_0)\r\n",
        "  maxpool_1 = MaxPool2D(pool_size=(sequence_length - 7 + 1, 1), strides=(1,1), padding='valid')(conv_1)\r\n",
        "  concatenated_tensor = Concatenate(axis=1)([maxpool_0, maxpool_1])\r\n",
        "  flatten = Flatten()(concatenated_tensor)\r\n",
        "  dropout = Dropout(0.5)(flatten)\r\n",
        "  Dense_1 = Dense(units=256, activation='relu')(dropout)\r\n",
        "  output = Dense(units=3, activation='softmax')(Dense_1)\r\n",
        "  model_new_3 = Model(inputs=inputs, outputs=output)\r\n",
        "  model_new_3.compile(loss='categorical_crossentropy', optimizer='adam', metrics=Metrics)\r\n",
        "  model_new_3.fit(X_train, Y_train_cat, batch_size=batch_size, epochs=epochs,  validation_data=(X_dev, Y_dev_cat), shuffle=True)\r\n",
        "  scores = model_new_3.evaluate(X_dev, Y_dev_cat, verbose=0)\r\n",
        "  print(\"%s: %.2f%%\" % (model_new_3.metrics_names[1], scores[1]*100))\r\n",
        "  model_new_3.save(\"model_new_3.h5\")\r\n",
        "  print(\"Saved model to disk\")\r\n",
        "  return model_new_3"
      ],
      "execution_count": 76,
      "outputs": []
    },
    {
      "cell_type": "code",
      "metadata": {
        "colab": {
          "base_uri": "https://localhost:8080/"
        },
        "id": "4yPZAjjhua7Z",
        "outputId": "dbd50851-f9d2-4078-968a-d75149163591"
      },
      "source": [
        "model_new_3 = new_cnn_model_3()"
      ],
      "execution_count": 77,
      "outputs": [
        {
          "output_type": "stream",
          "text": [
            "Epoch 1/20\n",
            "42/42 [==============================] - 16s 356ms/step - loss: 3.5785 - categorical_accuracy: 0.4946 - precision: 0.6422 - recall: 0.1942 - f1: 0.0195 - val_loss: 1.1286 - val_categorical_accuracy: 0.5532 - val_precision: 0.0000e+00 - val_recall: 0.0000e+00 - val_f1: 0.0000e+00\n",
            "Epoch 2/20\n",
            "42/42 [==============================] - 15s 355ms/step - loss: 1.1026 - categorical_accuracy: 0.5016 - precision: 0.5184 - recall: 0.0716 - f1: 0.1053 - val_loss: 1.1790 - val_categorical_accuracy: 0.4716 - val_precision: 0.5489 - val_recall: 0.2920 - val_f1: 0.3856\n",
            "Epoch 3/20\n",
            "42/42 [==============================] - 15s 348ms/step - loss: 1.1403 - categorical_accuracy: 0.5454 - precision: 0.6105 - recall: 0.3435 - f1: 0.4354 - val_loss: 1.2603 - val_categorical_accuracy: 0.4925 - val_precision: 0.5477 - val_recall: 0.3116 - val_f1: 0.4014\n",
            "Epoch 4/20\n",
            "42/42 [==============================] - 14s 344ms/step - loss: 1.2142 - categorical_accuracy: 0.5728 - precision: 0.6229 - recall: 0.4269 - f1: 0.5033 - val_loss: 1.2408 - val_categorical_accuracy: 0.5603 - val_precision: 0.6032 - val_recall: 0.4449 - val_f1: 0.5123\n",
            "Epoch 5/20\n",
            "42/42 [==============================] - 14s 342ms/step - loss: 1.2217 - categorical_accuracy: 0.5974 - precision: 0.6427 - recall: 0.4825 - f1: 0.5506 - val_loss: 1.2731 - val_categorical_accuracy: 0.5834 - val_precision: 0.6105 - val_recall: 0.5166 - val_f1: 0.5611\n",
            "Epoch 6/20\n",
            "42/42 [==============================] - 14s 345ms/step - loss: 1.2254 - categorical_accuracy: 0.6070 - precision: 0.6533 - recall: 0.4946 - f1: 0.5610 - val_loss: 1.1705 - val_categorical_accuracy: 0.6175 - val_precision: 0.6901 - val_recall: 0.4890 - val_f1: 0.5689\n",
            "Epoch 7/20\n",
            "42/42 [==============================] - 14s 346ms/step - loss: 1.2194 - categorical_accuracy: 0.6175 - precision: 0.6705 - recall: 0.5004 - f1: 0.5713 - val_loss: 1.2086 - val_categorical_accuracy: 0.6097 - val_precision: 0.6868 - val_recall: 0.3702 - val_f1: 0.4820\n",
            "Epoch 8/20\n",
            "42/42 [==============================] - 15s 347ms/step - loss: 1.2346 - categorical_accuracy: 0.6195 - precision: 0.6690 - recall: 0.5047 - f1: 0.5729 - val_loss: 1.1566 - val_categorical_accuracy: 0.6368 - val_precision: 0.7059 - val_recall: 0.5137 - val_f1: 0.5944\n",
            "Epoch 9/20\n",
            "42/42 [==============================] - 14s 344ms/step - loss: 1.2089 - categorical_accuracy: 0.6283 - precision: 0.6719 - recall: 0.5346 - f1: 0.5950 - val_loss: 1.1880 - val_categorical_accuracy: 0.6223 - val_precision: 0.6459 - val_recall: 0.5762 - val_f1: 0.6106\n",
            "Epoch 10/20\n",
            "42/42 [==============================] - 14s 344ms/step - loss: 1.1893 - categorical_accuracy: 0.6288 - precision: 0.6702 - recall: 0.5372 - f1: 0.5959 - val_loss: 1.1945 - val_categorical_accuracy: 0.6132 - val_precision: 0.6576 - val_recall: 0.5342 - val_f1: 0.5887\n",
            "Epoch 11/20\n",
            "42/42 [==============================] - 14s 344ms/step - loss: 1.1971 - categorical_accuracy: 0.6242 - precision: 0.6663 - recall: 0.5389 - f1: 0.5955 - val_loss: 1.2066 - val_categorical_accuracy: 0.6089 - val_precision: 0.6311 - val_recall: 0.5805 - val_f1: 0.6081\n",
            "Epoch 12/20\n",
            "42/42 [==============================] - 14s 344ms/step - loss: 1.1455 - categorical_accuracy: 0.6297 - precision: 0.6643 - recall: 0.5551 - f1: 0.6045 - val_loss: 1.1213 - val_categorical_accuracy: 0.6262 - val_precision: 0.6838 - val_recall: 0.5153 - val_f1: 0.5856\n",
            "Epoch 13/20\n",
            "42/42 [==============================] - 14s 344ms/step - loss: 1.1421 - categorical_accuracy: 0.6271 - precision: 0.6672 - recall: 0.5447 - f1: 0.5995 - val_loss: 1.1020 - val_categorical_accuracy: 0.6349 - val_precision: 0.6667 - val_recall: 0.5743 - val_f1: 0.6168\n",
            "Epoch 14/20\n",
            "42/42 [==============================] - 15s 346ms/step - loss: 1.1406 - categorical_accuracy: 0.6341 - precision: 0.6761 - recall: 0.5550 - f1: 0.6093 - val_loss: 1.1119 - val_categorical_accuracy: 0.6303 - val_precision: 0.6954 - val_recall: 0.4937 - val_f1: 0.5750\n",
            "Epoch 15/20\n",
            "42/42 [==============================] - 14s 345ms/step - loss: 1.1387 - categorical_accuracy: 0.6373 - precision: 0.6789 - recall: 0.5581 - f1: 0.6122 - val_loss: 1.0833 - val_categorical_accuracy: 0.6437 - val_precision: 0.7018 - val_recall: 0.5306 - val_f1: 0.6054\n",
            "Epoch 16/20\n",
            "42/42 [==============================] - 14s 344ms/step - loss: 1.1075 - categorical_accuracy: 0.6389 - precision: 0.6786 - recall: 0.5568 - f1: 0.6115 - val_loss: 1.1014 - val_categorical_accuracy: 0.6337 - val_precision: 0.6773 - val_recall: 0.5483 - val_f1: 0.6039\n",
            "Epoch 17/20\n",
            "42/42 [==============================] - 14s 345ms/step - loss: 1.1261 - categorical_accuracy: 0.6353 - precision: 0.6757 - recall: 0.5568 - f1: 0.6106 - val_loss: 1.0779 - val_categorical_accuracy: 0.6266 - val_precision: 0.6912 - val_recall: 0.4902 - val_f1: 0.5709\n",
            "Epoch 18/20\n",
            "42/42 [==============================] - 14s 343ms/step - loss: 1.0823 - categorical_accuracy: 0.6413 - precision: 0.6859 - recall: 0.5584 - f1: 0.6152 - val_loss: 1.1095 - val_categorical_accuracy: 0.6342 - val_precision: 0.6595 - val_recall: 0.5865 - val_f1: 0.6219\n",
            "Epoch 19/20\n",
            "42/42 [==============================] - 14s 344ms/step - loss: 1.0908 - categorical_accuracy: 0.6363 - precision: 0.6765 - recall: 0.5579 - f1: 0.6110 - val_loss: 1.0995 - val_categorical_accuracy: 0.6010 - val_precision: 0.6352 - val_recall: 0.5296 - val_f1: 0.5752\n",
            "Epoch 20/20\n",
            "42/42 [==============================] - 14s 344ms/step - loss: 1.0606 - categorical_accuracy: 0.6388 - precision: 0.6789 - recall: 0.5561 - f1: 0.6113 - val_loss: 1.0452 - val_categorical_accuracy: 0.6248 - val_precision: 0.6415 - val_recall: 0.5952 - val_f1: 0.6192\n",
            "categorical_accuracy: 62.48%\n",
            "Saved model to disk\n"
          ],
          "name": "stdout"
        }
      ]
    },
    {
      "cell_type": "code",
      "metadata": {
        "id": "TzmGdMmpmcy8"
      },
      "source": [
        "def new_cnn_model_4():\r\n",
        "  num_classes = 3\r\n",
        "  batch_size = 1028\r\n",
        "  epochs = 20\r\n",
        "  Y_train_cat = to_categorical(Y_train, 3)\r\n",
        "  Y_dev_cat = to_categorical(Y_dev, 3)\r\n",
        "  inputs = Input(shape=(sequence_length,), dtype='int32')\r\n",
        "  embedding_layer = Embedding(input_dim=voc_size, output_dim=embedding_dim, weights = [embedding_matrix],input_length=sequence_length)(inputs)\r\n",
        "  reshape = Reshape((sequence_length, embedding_dim, 1))(embedding_layer)\r\n",
        "  conv_0 = Conv2D(600, kernel_size=(5, embedding_dim), activation='relu', kernel_regularizer=regularizers.l2(3))(reshape)\r\n",
        "  conv_1 = Conv2D(600, kernel_size=(5, embedding_dim), activation='relu', kernel_regularizer=regularizers.l2(3))(reshape)\r\n",
        "  maxpool_0 = MaxPool2D(pool_size=(sequence_length - 5 + 1, 1), strides=(1,1), padding='valid')(conv_0)\r\n",
        "  maxpool_1 = MaxPool2D(pool_size=(sequence_length - 5 + 1, 1), strides=(1,1), padding='valid')(conv_1)\r\n",
        "  concatenated_tensor = Concatenate(axis=1)([maxpool_0, maxpool_1])\r\n",
        "  flatten = Flatten()(concatenated_tensor)\r\n",
        "  dropout = Dropout(0.5)(flatten)\r\n",
        "  Dense_1 = Dense(units=256, activation='relu')(dropout)\r\n",
        "  output = Dense(units=3, activation='softmax')(Dense_1)\r\n",
        "  model_new_4 = Model(inputs=inputs, outputs=output)\r\n",
        "  model_new_4.compile(loss='categorical_crossentropy', optimizer='adam', metrics=Metrics)\r\n",
        "  model_new_4.fit(X_train, Y_train_cat, batch_size=batch_size, epochs=epochs,  validation_data=(X_dev, Y_dev_cat), shuffle=True)\r\n",
        "  scores = model_new_4.evaluate(X_dev, Y_dev_cat, verbose=0)\r\n",
        "  print(\"%s: %.2f%%\" % (model_new_4.metrics_names[1], scores[1]*100))\r\n",
        "  model_new_4.save(\"model_new_4.h5\")\r\n",
        "  print(\"Saved model to disk\")\r\n",
        "  return model_new_4"
      ],
      "execution_count": 74,
      "outputs": []
    },
    {
      "cell_type": "code",
      "metadata": {
        "colab": {
          "base_uri": "https://localhost:8080/"
        },
        "id": "XeIOVhCgruO3",
        "outputId": "2d781b41-edaf-4313-d233-41243682b15f"
      },
      "source": [
        "model_new_4 = new_cnn_model_4()"
      ],
      "execution_count": 75,
      "outputs": [
        {
          "output_type": "stream",
          "text": [
            "Epoch 1/20\n",
            "42/42 [==============================] - 15s 323ms/step - loss: 3.5349 - categorical_accuracy: 0.5095 - precision: 0.6501 - recall: 0.1922 - f1: 0.0200 - val_loss: 1.1173 - val_categorical_accuracy: 0.3917 - val_precision: 0.6385 - val_recall: 0.1298 - val_f1: 0.2183\n",
            "Epoch 2/20\n",
            "42/42 [==============================] - 13s 311ms/step - loss: 1.0838 - categorical_accuracy: 0.4711 - precision: 0.5703 - recall: 0.0950 - f1: 0.1403 - val_loss: 1.1029 - val_categorical_accuracy: 0.5936 - val_precision: 0.6954 - val_recall: 0.3290 - val_f1: 0.4455\n",
            "Epoch 3/20\n",
            "42/42 [==============================] - 13s 312ms/step - loss: 1.1056 - categorical_accuracy: 0.5690 - precision: 0.6230 - recall: 0.3820 - f1: 0.4694 - val_loss: 1.1065 - val_categorical_accuracy: 0.5986 - val_precision: 0.6958 - val_recall: 0.3549 - val_f1: 0.4717\n",
            "Epoch 4/20\n",
            "42/42 [==============================] - 13s 308ms/step - loss: 1.1321 - categorical_accuracy: 0.5914 - precision: 0.6377 - recall: 0.4543 - f1: 0.5292 - val_loss: 1.1436 - val_categorical_accuracy: 0.6032 - val_precision: 0.6359 - val_recall: 0.5237 - val_f1: 0.5736\n",
            "Epoch 5/20\n",
            "42/42 [==============================] - 13s 305ms/step - loss: 1.1111 - categorical_accuracy: 0.6075 - precision: 0.6450 - recall: 0.4950 - f1: 0.5585 - val_loss: 1.1758 - val_categorical_accuracy: 0.5664 - val_precision: 0.6215 - val_recall: 0.3988 - val_f1: 0.4873\n",
            "Epoch 6/20\n",
            "42/42 [==============================] - 13s 304ms/step - loss: 1.1570 - categorical_accuracy: 0.5985 - precision: 0.6392 - recall: 0.4905 - f1: 0.5539 - val_loss: 1.2117 - val_categorical_accuracy: 0.5373 - val_precision: 0.5740 - val_recall: 0.4250 - val_f1: 0.4893\n",
            "Epoch 7/20\n",
            "42/42 [==============================] - 13s 305ms/step - loss: 1.1735 - categorical_accuracy: 0.6018 - precision: 0.6362 - recall: 0.5167 - f1: 0.5696 - val_loss: 1.1045 - val_categorical_accuracy: 0.6187 - val_precision: 0.7264 - val_recall: 0.4147 - val_f1: 0.5259\n",
            "Epoch 8/20\n",
            "42/42 [==============================] - 13s 307ms/step - loss: 1.1235 - categorical_accuracy: 0.6180 - precision: 0.6680 - recall: 0.5098 - f1: 0.5765 - val_loss: 1.1354 - val_categorical_accuracy: 0.6077 - val_precision: 0.6332 - val_recall: 0.5548 - val_f1: 0.5939\n",
            "Epoch 9/20\n",
            "42/42 [==============================] - 13s 309ms/step - loss: 1.1134 - categorical_accuracy: 0.6178 - precision: 0.6672 - recall: 0.5154 - f1: 0.5803 - val_loss: 1.1264 - val_categorical_accuracy: 0.6195 - val_precision: 0.6921 - val_recall: 0.4669 - val_f1: 0.5560\n",
            "Epoch 10/20\n",
            "42/42 [==============================] - 13s 308ms/step - loss: 1.1231 - categorical_accuracy: 0.6265 - precision: 0.6734 - recall: 0.5306 - f1: 0.5930 - val_loss: 1.0521 - val_categorical_accuracy: 0.6374 - val_precision: 0.6859 - val_recall: 0.5375 - val_f1: 0.6017\n",
            "Epoch 11/20\n",
            "42/42 [==============================] - 13s 305ms/step - loss: 1.0756 - categorical_accuracy: 0.6320 - precision: 0.6749 - recall: 0.5458 - f1: 0.6034 - val_loss: 1.0655 - val_categorical_accuracy: 0.6397 - val_precision: 0.7013 - val_recall: 0.5265 - val_f1: 0.6005\n",
            "Epoch 12/20\n",
            "42/42 [==============================] - 13s 306ms/step - loss: 1.0768 - categorical_accuracy: 0.6393 - precision: 0.6847 - recall: 0.5569 - f1: 0.6141 - val_loss: 1.0944 - val_categorical_accuracy: 0.6226 - val_precision: 0.6497 - val_recall: 0.5601 - val_f1: 0.6003\n",
            "Epoch 13/20\n",
            "42/42 [==============================] - 13s 306ms/step - loss: 1.1051 - categorical_accuracy: 0.6370 - precision: 0.6712 - recall: 0.5598 - f1: 0.6102 - val_loss: 1.0822 - val_categorical_accuracy: 0.6232 - val_precision: 0.6834 - val_recall: 0.5032 - val_f1: 0.5793\n",
            "Epoch 14/20\n",
            "42/42 [==============================] - 13s 308ms/step - loss: 1.0806 - categorical_accuracy: 0.6345 - precision: 0.6738 - recall: 0.5568 - f1: 0.6095 - val_loss: 1.1115 - val_categorical_accuracy: 0.6101 - val_precision: 0.6452 - val_recall: 0.5232 - val_f1: 0.5778\n",
            "Epoch 15/20\n",
            "42/42 [==============================] - 13s 304ms/step - loss: 1.0833 - categorical_accuracy: 0.6346 - precision: 0.6734 - recall: 0.5535 - f1: 0.6074 - val_loss: 1.0336 - val_categorical_accuracy: 0.6408 - val_precision: 0.6719 - val_recall: 0.5799 - val_f1: 0.6234\n",
            "Epoch 16/20\n",
            "42/42 [==============================] - 13s 307ms/step - loss: 1.0687 - categorical_accuracy: 0.6358 - precision: 0.6767 - recall: 0.5557 - f1: 0.6102 - val_loss: 1.2234 - val_categorical_accuracy: 0.5755 - val_precision: 0.5980 - val_recall: 0.5434 - val_f1: 0.5708\n",
            "Epoch 17/20\n",
            "42/42 [==============================] - 13s 305ms/step - loss: 1.0864 - categorical_accuracy: 0.6338 - precision: 0.6731 - recall: 0.5617 - f1: 0.6122 - val_loss: 1.0202 - val_categorical_accuracy: 0.6325 - val_precision: 0.6573 - val_recall: 0.5868 - val_f1: 0.6186\n",
            "Epoch 18/20\n",
            "42/42 [==============================] - 13s 305ms/step - loss: 1.0490 - categorical_accuracy: 0.6416 - precision: 0.6823 - recall: 0.5596 - f1: 0.6146 - val_loss: 1.0206 - val_categorical_accuracy: 0.6405 - val_precision: 0.6773 - val_recall: 0.5725 - val_f1: 0.6209\n",
            "Epoch 19/20\n",
            "42/42 [==============================] - 13s 305ms/step - loss: 1.0409 - categorical_accuracy: 0.6412 - precision: 0.6803 - recall: 0.5619 - f1: 0.6154 - val_loss: 1.0901 - val_categorical_accuracy: 0.5996 - val_precision: 0.6478 - val_recall: 0.4775 - val_f1: 0.5516\n",
            "Epoch 20/20\n",
            "42/42 [==============================] - 13s 304ms/step - loss: 1.0600 - categorical_accuracy: 0.6342 - precision: 0.6777 - recall: 0.5525 - f1: 0.6085 - val_loss: 1.0347 - val_categorical_accuracy: 0.6356 - val_precision: 0.6576 - val_recall: 0.5889 - val_f1: 0.6217\n",
            "categorical_accuracy: 63.56%\n",
            "Saved model to disk\n"
          ],
          "name": "stdout"
        }
      ]
    },
    {
      "cell_type": "code",
      "metadata": {
        "id": "atwdwaMumqPG"
      },
      "source": [
        "def new_cnn_model_5():\r\n",
        "  num_classes = 3\r\n",
        "  batch_size = 1028\r\n",
        "  epochs = 20\r\n",
        "  Y_train_cat = to_categorical(Y_train, 3)\r\n",
        "  Y_dev_cat = to_categorical(Y_dev, 3)\r\n",
        "  inputs = Input(shape=(sequence_length,), dtype='int32')\r\n",
        "  embedding_layer = Embedding(input_dim=voc_size, output_dim=embedding_dim, weights = [embedding_matrix],input_length=sequence_length)(inputs)\r\n",
        "  reshape = Reshape((sequence_length, embedding_dim, 1))(embedding_layer)\r\n",
        "  conv_0 = Conv2D(824, kernel_size=(3, embedding_dim), activation='relu', kernel_regularizer=regularizers.l2(3))(reshape)\r\n",
        "  conv_1 = Conv2D(824, kernel_size=(3, embedding_dim), activation='relu', kernel_regularizer=regularizers.l2(3))(reshape)\r\n",
        "  maxpool_0 = MaxPool2D(pool_size=(sequence_length - 3 + 1, 1), strides=(1,1), padding='valid')(conv_0)\r\n",
        "  maxpool_1 = MaxPool2D(pool_size=(sequence_length - 3 + 1, 1), strides=(1,1), padding='valid')(conv_1)\r\n",
        "  concatenated_tensor = Concatenate(axis=1)([maxpool_0, maxpool_1])\r\n",
        "  flatten = Flatten()(concatenated_tensor)\r\n",
        "  dropout = Dropout(0.5)(flatten)\r\n",
        "  Dense_1 = Dense(units=256, activation='relu')(dropout)\r\n",
        "  output = Dense(units=3, activation='softmax')(Dense_1)\r\n",
        "  model_new_5 = Model(inputs=inputs, outputs=output)\r\n",
        "  model_new_5.compile(loss='categorical_crossentropy', optimizer='adam', metrics=Metrics)\r\n",
        "  model_new_5.fit(X_train, Y_train_cat, batch_size=batch_size, epochs=epochs,  validation_data=(X_dev, Y_dev_cat), shuffle=True)\r\n",
        "  scores = model_new_5.evaluate(X_dev, Y_dev_cat, verbose=0)\r\n",
        "  print(\"%s: %.2f%%\" % (model_new_5.metrics_names[1], scores[1]*100))\r\n",
        "  model_new_5.save(\"model_new_5.h5\")\r\n",
        "  print(\"Saved model to disk\")\r\n",
        "  return model_new_5"
      ],
      "execution_count": 69,
      "outputs": []
    },
    {
      "cell_type": "code",
      "metadata": {
        "colab": {
          "base_uri": "https://localhost:8080/"
        },
        "id": "nw-EqKFtq4c7",
        "outputId": "7c094aa0-b833-4790-f4cf-3f01e7434612"
      },
      "source": [
        "model_new_5 = new_cnn_model_5()"
      ],
      "execution_count": 70,
      "outputs": [
        {
          "output_type": "stream",
          "text": [
            "Epoch 1/20\n",
            "42/42 [==============================] - 14s 320ms/step - loss: 3.5226 - categorical_accuracy: 0.4483 - precision: 0.4566 - recall: 0.0051 - f1: 0.0087 - val_loss: 1.1092 - val_categorical_accuracy: 0.3918 - val_precision: 0.5834 - val_recall: 0.2509 - val_f1: 0.3535\n",
            "Epoch 2/20\n",
            "42/42 [==============================] - 13s 314ms/step - loss: 1.0675 - categorical_accuracy: 0.5260 - precision: 0.6225 - recall: 0.2217 - f1: 0.3014 - val_loss: 1.0709 - val_categorical_accuracy: 0.5947 - val_precision: 0.7169 - val_recall: 0.3270 - val_f1: 0.4463\n",
            "Epoch 3/20\n",
            "42/42 [==============================] - 13s 313ms/step - loss: 1.0687 - categorical_accuracy: 0.5967 - precision: 0.6478 - recall: 0.4348 - f1: 0.5176 - val_loss: 1.1165 - val_categorical_accuracy: 0.5908 - val_precision: 0.6528 - val_recall: 0.4425 - val_f1: 0.5264\n",
            "Epoch 4/20\n",
            "42/42 [==============================] - 13s 316ms/step - loss: 1.1180 - categorical_accuracy: 0.5937 - precision: 0.6334 - recall: 0.4781 - f1: 0.5436 - val_loss: 1.0981 - val_categorical_accuracy: 0.6126 - val_precision: 0.6370 - val_recall: 0.5497 - val_f1: 0.5884\n",
            "Epoch 5/20\n",
            "42/42 [==============================] - 13s 311ms/step - loss: 1.0964 - categorical_accuracy: 0.6095 - precision: 0.6498 - recall: 0.5106 - f1: 0.5709 - val_loss: 1.0627 - val_categorical_accuracy: 0.6118 - val_precision: 0.6687 - val_recall: 0.4897 - val_f1: 0.5646\n",
            "Epoch 6/20\n",
            "42/42 [==============================] - 13s 311ms/step - loss: 1.0660 - categorical_accuracy: 0.6126 - precision: 0.6591 - recall: 0.5132 - f1: 0.5764 - val_loss: 1.2504 - val_categorical_accuracy: 0.5436 - val_precision: 0.5767 - val_recall: 0.4614 - val_f1: 0.5142\n",
            "Epoch 7/20\n",
            "42/42 [==============================] - 13s 311ms/step - loss: 1.1137 - categorical_accuracy: 0.6117 - precision: 0.6640 - recall: 0.4992 - f1: 0.5685 - val_loss: 1.0364 - val_categorical_accuracy: 0.6360 - val_precision: 0.7445 - val_recall: 0.4299 - val_f1: 0.5421\n",
            "Epoch 8/20\n",
            "42/42 [==============================] - 13s 313ms/step - loss: 1.0699 - categorical_accuracy: 0.6276 - precision: 0.6808 - recall: 0.5094 - f1: 0.5817 - val_loss: 1.0471 - val_categorical_accuracy: 0.6193 - val_precision: 0.6408 - val_recall: 0.5841 - val_f1: 0.6106\n",
            "Epoch 9/20\n",
            "42/42 [==============================] - 13s 313ms/step - loss: 1.0528 - categorical_accuracy: 0.6268 - precision: 0.6671 - recall: 0.5394 - f1: 0.5957 - val_loss: 1.1231 - val_categorical_accuracy: 0.5688 - val_precision: 0.5983 - val_recall: 0.4819 - val_f1: 0.5354\n",
            "Epoch 10/20\n",
            "42/42 [==============================] - 13s 311ms/step - loss: 1.0554 - categorical_accuracy: 0.6237 - precision: 0.6620 - recall: 0.5430 - f1: 0.5961 - val_loss: 1.0411 - val_categorical_accuracy: 0.6220 - val_precision: 0.6591 - val_recall: 0.5358 - val_f1: 0.5906\n",
            "Epoch 11/20\n",
            "42/42 [==============================] - 13s 309ms/step - loss: 1.0222 - categorical_accuracy: 0.6270 - precision: 0.6710 - recall: 0.5442 - f1: 0.6008 - val_loss: 1.0039 - val_categorical_accuracy: 0.6247 - val_precision: 0.6471 - val_recall: 0.5834 - val_f1: 0.6144\n",
            "Epoch 12/20\n",
            "42/42 [==============================] - 13s 310ms/step - loss: 1.0022 - categorical_accuracy: 0.6335 - precision: 0.6762 - recall: 0.5549 - f1: 0.6091 - val_loss: 1.0060 - val_categorical_accuracy: 0.6125 - val_precision: 0.6373 - val_recall: 0.5574 - val_f1: 0.5945\n",
            "Epoch 13/20\n",
            "42/42 [==============================] - 13s 310ms/step - loss: 1.0100 - categorical_accuracy: 0.6300 - precision: 0.6702 - recall: 0.5484 - f1: 0.6029 - val_loss: 0.9747 - val_categorical_accuracy: 0.6448 - val_precision: 0.6941 - val_recall: 0.5401 - val_f1: 0.6063\n",
            "Epoch 14/20\n",
            "42/42 [==============================] - 13s 310ms/step - loss: 0.9863 - categorical_accuracy: 0.6400 - precision: 0.6815 - recall: 0.5616 - f1: 0.6157 - val_loss: 1.0966 - val_categorical_accuracy: 0.5870 - val_precision: 0.6173 - val_recall: 0.5063 - val_f1: 0.5587\n",
            "Epoch 15/20\n",
            "42/42 [==============================] - 13s 311ms/step - loss: 1.0166 - categorical_accuracy: 0.6337 - precision: 0.6704 - recall: 0.5584 - f1: 0.6092 - val_loss: 0.9858 - val_categorical_accuracy: 0.6340 - val_precision: 0.6969 - val_recall: 0.5188 - val_f1: 0.5950\n",
            "Epoch 16/20\n",
            "42/42 [==============================] - 13s 313ms/step - loss: 1.0161 - categorical_accuracy: 0.6384 - precision: 0.6817 - recall: 0.5508 - f1: 0.6088 - val_loss: 0.9555 - val_categorical_accuracy: 0.6496 - val_precision: 0.6926 - val_recall: 0.5615 - val_f1: 0.6189\n",
            "Epoch 17/20\n",
            "42/42 [==============================] - 13s 309ms/step - loss: 0.9828 - categorical_accuracy: 0.6410 - precision: 0.6819 - recall: 0.5658 - f1: 0.6183 - val_loss: 0.9685 - val_categorical_accuracy: 0.6435 - val_precision: 0.7055 - val_recall: 0.5227 - val_f1: 0.6002\n",
            "Epoch 18/20\n",
            "42/42 [==============================] - 13s 311ms/step - loss: 0.9870 - categorical_accuracy: 0.6393 - precision: 0.6836 - recall: 0.5528 - f1: 0.6112 - val_loss: 0.9650 - val_categorical_accuracy: 0.6427 - val_precision: 0.6996 - val_recall: 0.5353 - val_f1: 0.6051\n",
            "Epoch 19/20\n",
            "42/42 [==============================] - 13s 310ms/step - loss: 0.9903 - categorical_accuracy: 0.6414 - precision: 0.6854 - recall: 0.5587 - f1: 0.6153 - val_loss: 0.9550 - val_categorical_accuracy: 0.6440 - val_precision: 0.6956 - val_recall: 0.5479 - val_f1: 0.6125\n",
            "Epoch 20/20\n",
            "42/42 [==============================] - 13s 308ms/step - loss: 0.9740 - categorical_accuracy: 0.6456 - precision: 0.6859 - recall: 0.5644 - f1: 0.6192 - val_loss: 0.9703 - val_categorical_accuracy: 0.6427 - val_precision: 0.6789 - val_recall: 0.5724 - val_f1: 0.6229\n",
            "categorical_accuracy: 64.27%\n",
            "Saved model to disk\n"
          ],
          "name": "stdout"
        }
      ]
    },
    {
      "cell_type": "code",
      "metadata": {
        "id": "fiTi10hOxLTo"
      },
      "source": [
        "def new_cnn_model_6():\r\n",
        "  num_classes = 3\r\n",
        "  batch_size = 1028\r\n",
        "  epochs = 20\r\n",
        "  Y_train_cat = to_categorical(Y_train, 3)\r\n",
        "  Y_dev_cat = to_categorical(Y_dev, 3)\r\n",
        "  inputs = Input(shape=(sequence_length,), dtype='int32')\r\n",
        "  embedding_layer = Embedding(input_dim=voc_size, output_dim=embedding_dim, weights = [embedding_matrix],input_length=sequence_length)(inputs)\r\n",
        "  reshape = Reshape((sequence_length, embedding_dim, 1))(embedding_layer)\r\n",
        "  conv_0 = Conv2D(1024, kernel_size=(3, embedding_dim), activation='relu', kernel_regularizer=regularizers.l2(3))(reshape)\r\n",
        "  conv_1 = Conv2D(1024, kernel_size=(3, embedding_dim), activation='relu', kernel_regularizer=regularizers.l2(3))(reshape)\r\n",
        "  maxpool_0 = MaxPool2D(pool_size=(sequence_length - 3 + 1, 1), strides=(1,1), padding='valid')(conv_0)\r\n",
        "  maxpool_1 = MaxPool2D(pool_size=(sequence_length - 3 + 1, 1), strides=(1,1), padding='valid')(conv_1)\r\n",
        "  concatenated_tensor = Concatenate(axis=1)([maxpool_0, maxpool_1])\r\n",
        "  flatten = Flatten()(concatenated_tensor)\r\n",
        "  dropout = Dropout(0.5)(flatten)\r\n",
        "  Dense_1 = Dense(units=256, activation='relu')(dropout)\r\n",
        "  output = Dense(units=3, activation='softmax')(Dense_1)\r\n",
        "  model_new_6 = Model(inputs=inputs, outputs=output)\r\n",
        "  model_new_6.compile(loss='categorical_crossentropy', optimizer='adam', metrics=Metrics)\r\n",
        "  model_new_6.fit(X_train, Y_train_cat, batch_size=batch_size, epochs=epochs,  validation_data=(X_dev, Y_dev_cat), shuffle=True)\r\n",
        "  scores = model_new_6.evaluate(X_dev, Y_dev_cat, verbose=0)\r\n",
        "  print(\"%s: %.2f%%\" % (model_new_6.metrics_names[1], scores[1]*100))\r\n",
        "  model_new_6.save(\"model_new_6.h5\")\r\n",
        "  print(\"Saved model to disk\")\r\n",
        "  return model_new_6"
      ],
      "execution_count": 85,
      "outputs": []
    },
    {
      "cell_type": "code",
      "metadata": {
        "colab": {
          "base_uri": "https://localhost:8080/"
        },
        "id": "PbJC74sqxX-_",
        "outputId": "dfe9dd73-63d6-48d2-e696-4832ffb8b5dd"
      },
      "source": [
        "model_new_6 = new_cnn_model_6()"
      ],
      "execution_count": 86,
      "outputs": [
        {
          "output_type": "stream",
          "text": [
            "Epoch 1/20\n",
            "42/42 [==============================] - 17s 372ms/step - loss: 3.5273 - categorical_accuracy: 0.5082 - precision: 0.6584 - recall: 0.1847 - f1: 0.0189 - val_loss: 1.1148 - val_categorical_accuracy: 0.5566 - val_precision: 0.7468 - val_recall: 0.1262 - val_f1: 0.2163\n",
            "Epoch 2/20\n",
            "42/42 [==============================] - 16s 371ms/step - loss: 1.0822 - categorical_accuracy: 0.5351 - precision: 0.6184 - recall: 0.2406 - f1: 0.3204 - val_loss: 1.0815 - val_categorical_accuracy: 0.5953 - val_precision: 0.6361 - val_recall: 0.4937 - val_f1: 0.5548\n",
            "Epoch 3/20\n",
            "42/42 [==============================] - 16s 374ms/step - loss: 1.0923 - categorical_accuracy: 0.5933 - precision: 0.6361 - recall: 0.4560 - f1: 0.5282 - val_loss: 1.0807 - val_categorical_accuracy: 0.5987 - val_precision: 0.6563 - val_recall: 0.4629 - val_f1: 0.5418\n",
            "Epoch 4/20\n",
            "42/42 [==============================] - 15s 364ms/step - loss: 1.0936 - categorical_accuracy: 0.6015 - precision: 0.6413 - recall: 0.4857 - f1: 0.5520 - val_loss: 1.0709 - val_categorical_accuracy: 0.6070 - val_precision: 0.6491 - val_recall: 0.5168 - val_f1: 0.5758\n",
            "Epoch 5/20\n",
            "42/42 [==============================] - 15s 364ms/step - loss: 1.1063 - categorical_accuracy: 0.5997 - precision: 0.6394 - recall: 0.5020 - f1: 0.5619 - val_loss: 1.0772 - val_categorical_accuracy: 0.6141 - val_precision: 0.7000 - val_recall: 0.4456 - val_f1: 0.5422\n",
            "Epoch 6/20\n",
            "42/42 [==============================] - 15s 365ms/step - loss: 1.0945 - categorical_accuracy: 0.6136 - precision: 0.6555 - recall: 0.5198 - f1: 0.5791 - val_loss: 1.1011 - val_categorical_accuracy: 0.5955 - val_precision: 0.6487 - val_recall: 0.4996 - val_f1: 0.5677\n",
            "Epoch 7/20\n",
            "42/42 [==============================] - 15s 369ms/step - loss: 1.0948 - categorical_accuracy: 0.6189 - precision: 0.6694 - recall: 0.5201 - f1: 0.5846 - val_loss: 1.0754 - val_categorical_accuracy: 0.6216 - val_precision: 0.7312 - val_recall: 0.4165 - val_f1: 0.5297\n",
            "Epoch 8/20\n",
            "42/42 [==============================] - 15s 367ms/step - loss: 1.0833 - categorical_accuracy: 0.6206 - precision: 0.6737 - recall: 0.5054 - f1: 0.5764 - val_loss: 1.0262 - val_categorical_accuracy: 0.6290 - val_precision: 0.6947 - val_recall: 0.4812 - val_f1: 0.5681\n",
            "Epoch 9/20\n",
            "42/42 [==============================] - 15s 366ms/step - loss: 1.0634 - categorical_accuracy: 0.6225 - precision: 0.6654 - recall: 0.5326 - f1: 0.5911 - val_loss: 1.0251 - val_categorical_accuracy: 0.6266 - val_precision: 0.6549 - val_recall: 0.5664 - val_f1: 0.6082\n",
            "Epoch 10/20\n",
            "42/42 [==============================] - 15s 366ms/step - loss: 1.0353 - categorical_accuracy: 0.6311 - precision: 0.6753 - recall: 0.5444 - f1: 0.6025 - val_loss: 1.0513 - val_categorical_accuracy: 0.6116 - val_precision: 0.6525 - val_recall: 0.5186 - val_f1: 0.5761\n",
            "Epoch 11/20\n",
            "42/42 [==============================] - 15s 367ms/step - loss: 1.0313 - categorical_accuracy: 0.6319 - precision: 0.6753 - recall: 0.5464 - f1: 0.6040 - val_loss: 1.0812 - val_categorical_accuracy: 0.6177 - val_precision: 0.6476 - val_recall: 0.5601 - val_f1: 0.6041\n",
            "Epoch 12/20\n",
            "42/42 [==============================] - 15s 367ms/step - loss: 1.0369 - categorical_accuracy: 0.6329 - precision: 0.6742 - recall: 0.5495 - f1: 0.6052 - val_loss: 1.0312 - val_categorical_accuracy: 0.5921 - val_precision: 0.6573 - val_recall: 0.4516 - val_f1: 0.5360\n",
            "Epoch 13/20\n",
            "42/42 [==============================] - 15s 364ms/step - loss: 1.0231 - categorical_accuracy: 0.6281 - precision: 0.6760 - recall: 0.5375 - f1: 0.5980 - val_loss: 0.9859 - val_categorical_accuracy: 0.6396 - val_precision: 0.6872 - val_recall: 0.5400 - val_f1: 0.6037\n",
            "Epoch 14/20\n",
            "42/42 [==============================] - 15s 365ms/step - loss: 0.9998 - categorical_accuracy: 0.6381 - precision: 0.6751 - recall: 0.5549 - f1: 0.6090 - val_loss: 1.0184 - val_categorical_accuracy: 0.6168 - val_precision: 0.6650 - val_recall: 0.5122 - val_f1: 0.5800\n",
            "Epoch 15/20\n",
            "42/42 [==============================] - 15s 365ms/step - loss: 0.9917 - categorical_accuracy: 0.6365 - precision: 0.6803 - recall: 0.5555 - f1: 0.6114 - val_loss: 0.9713 - val_categorical_accuracy: 0.6445 - val_precision: 0.6953 - val_recall: 0.5475 - val_f1: 0.6092\n",
            "Epoch 16/20\n",
            "42/42 [==============================] - 15s 365ms/step - loss: 0.9881 - categorical_accuracy: 0.6434 - precision: 0.6857 - recall: 0.5592 - f1: 0.6159 - val_loss: 1.0014 - val_categorical_accuracy: 0.6278 - val_precision: 0.6725 - val_recall: 0.5308 - val_f1: 0.5940\n",
            "Epoch 17/20\n",
            "42/42 [==============================] - 15s 367ms/step - loss: 0.9909 - categorical_accuracy: 0.6412 - precision: 0.6830 - recall: 0.5612 - f1: 0.6159 - val_loss: 1.0337 - val_categorical_accuracy: 0.6097 - val_precision: 0.6632 - val_recall: 0.5141 - val_f1: 0.5789\n",
            "Epoch 18/20\n",
            "42/42 [==============================] - 15s 365ms/step - loss: 1.0312 - categorical_accuracy: 0.6289 - precision: 0.6722 - recall: 0.5451 - f1: 0.6018 - val_loss: 0.9678 - val_categorical_accuracy: 0.6460 - val_precision: 0.6825 - val_recall: 0.5672 - val_f1: 0.6188\n",
            "Epoch 19/20\n",
            "42/42 [==============================] - 15s 364ms/step - loss: 0.9731 - categorical_accuracy: 0.6410 - precision: 0.6844 - recall: 0.5640 - f1: 0.6184 - val_loss: 0.9912 - val_categorical_accuracy: 0.6350 - val_precision: 0.6655 - val_recall: 0.5674 - val_f1: 0.6102\n",
            "Epoch 20/20\n",
            "42/42 [==============================] - 15s 366ms/step - loss: 0.9921 - categorical_accuracy: 0.6403 - precision: 0.6830 - recall: 0.5640 - f1: 0.6175 - val_loss: 0.9816 - val_categorical_accuracy: 0.6397 - val_precision: 0.6927 - val_recall: 0.5334 - val_f1: 0.6027\n",
            "categorical_accuracy: 63.97%\n",
            "Saved model to disk\n"
          ],
          "name": "stdout"
        }
      ]
    },
    {
      "cell_type": "code",
      "metadata": {
        "id": "Ekh7p0-QlTEA"
      },
      "source": [
        "def get_voting():\r\n",
        "  models = list()\r\n",
        "  models.append(('cnn1', model_new_1))\r\n",
        "  models.append(('cnn2', model_new_2))\r\n",
        "  models.append(('cnn3', model_new_3))\r\n",
        "  models.append(('cnn4', model_new_4))\r\n",
        "  models.append(('cnn5', model_new_5))\r\n",
        "  #models.append(('cnn6', model_new_6))\r\n",
        "\t# define the voting ensemble\r\n",
        "  ensemble = VotingClassifier(estimators=models, voting='soft')\r\n",
        "  return ensemble\r\n",
        "\r\n",
        "def get_models():\r\n",
        "\tmodels = dict()\r\n",
        "\tmodels['cnn1'] = model_new_1\r\n",
        "\tmodels['cnn2'] = model_new_2\r\n",
        "\tmodels['cnn3'] = model_new_3\r\n",
        "\tmodels['cnn4'] = model_new_4\r\n",
        "\tmodels['cnn5'] = model_new_5\r\n",
        "  #models['cnn6'] = model_new_6\r\n",
        "\tmodels['soft_voting'] = get_voting()\r\n",
        "\treturn models\r\n",
        "\r\n",
        "def evaluate_model(model, X, y):\r\n",
        "\tcv = RepeatedStratifiedKFold(n_splits=10, n_repeats=3, random_state=1)\r\n",
        "\tscores = cross_val_score(model, X, y, scoring='accuracy', cv=cv, n_jobs=-1, error_score='raise')\r\n",
        "\treturn scores\r\n"
      ],
      "execution_count": 106,
      "outputs": []
    },
    {
      "cell_type": "code",
      "metadata": {
        "id": "4HTRqyX43841"
      },
      "source": [
        "y_train_array = np.array(Y_train)"
      ],
      "execution_count": 119,
      "outputs": []
    },
    {
      "cell_type": "code",
      "metadata": {
        "colab": {
          "base_uri": "https://localhost:8080/",
          "height": 438
        },
        "id": "Y9mRBYVw23cW",
        "outputId": "7ee5b619-fd45-48d3-fda9-3f0595db5849"
      },
      "source": [
        "models = get_models()\r\n",
        "# evaluate the models and store results\r\n",
        "results, names = list(), list()\r\n",
        "for name, model in models.items():\r\n",
        "\tscores = evaluate_model(model, X_train, y_train_array)\r\n",
        "\tresults.append(scores)\r\n",
        "\tnames.append(name)\r\n",
        "\tprint('>%s %.3f (%.3f)' % (name, mean(scores), std(scores)))\r\n",
        "# plot model performance for comparison\r\n",
        "pyplot.boxplot(results, labels=names, showmeans=True)\r\n",
        "pyplot.show()"
      ],
      "execution_count": 120,
      "outputs": [
        {
          "output_type": "error",
          "ename": "TypeError",
          "evalue": "ignored",
          "traceback": [
            "\u001b[0;31m---------------------------------------------------------------------------\u001b[0m",
            "\u001b[0;31mEmpty\u001b[0m                                     Traceback (most recent call last)",
            "\u001b[0;32m/usr/local/lib/python3.6/dist-packages/joblib/parallel.py\u001b[0m in \u001b[0;36mdispatch_one_batch\u001b[0;34m(self, iterator)\u001b[0m\n\u001b[1;32m    819\u001b[0m             \u001b[0;32mtry\u001b[0m\u001b[0;34m:\u001b[0m\u001b[0;34m\u001b[0m\u001b[0;34m\u001b[0m\u001b[0m\n\u001b[0;32m--> 820\u001b[0;31m                 \u001b[0mtasks\u001b[0m \u001b[0;34m=\u001b[0m \u001b[0mself\u001b[0m\u001b[0;34m.\u001b[0m\u001b[0m_ready_batches\u001b[0m\u001b[0;34m.\u001b[0m\u001b[0mget\u001b[0m\u001b[0;34m(\u001b[0m\u001b[0mblock\u001b[0m\u001b[0;34m=\u001b[0m\u001b[0;32mFalse\u001b[0m\u001b[0;34m)\u001b[0m\u001b[0;34m\u001b[0m\u001b[0;34m\u001b[0m\u001b[0m\n\u001b[0m\u001b[1;32m    821\u001b[0m             \u001b[0;32mexcept\u001b[0m \u001b[0mqueue\u001b[0m\u001b[0;34m.\u001b[0m\u001b[0mEmpty\u001b[0m\u001b[0;34m:\u001b[0m\u001b[0;34m\u001b[0m\u001b[0;34m\u001b[0m\u001b[0m\n",
            "\u001b[0;32m/usr/lib/python3.6/queue.py\u001b[0m in \u001b[0;36mget\u001b[0;34m(self, block, timeout)\u001b[0m\n\u001b[1;32m    160\u001b[0m                 \u001b[0;32mif\u001b[0m \u001b[0;32mnot\u001b[0m \u001b[0mself\u001b[0m\u001b[0;34m.\u001b[0m\u001b[0m_qsize\u001b[0m\u001b[0;34m(\u001b[0m\u001b[0;34m)\u001b[0m\u001b[0;34m:\u001b[0m\u001b[0;34m\u001b[0m\u001b[0;34m\u001b[0m\u001b[0m\n\u001b[0;32m--> 161\u001b[0;31m                     \u001b[0;32mraise\u001b[0m \u001b[0mEmpty\u001b[0m\u001b[0;34m\u001b[0m\u001b[0;34m\u001b[0m\u001b[0m\n\u001b[0m\u001b[1;32m    162\u001b[0m             \u001b[0;32melif\u001b[0m \u001b[0mtimeout\u001b[0m \u001b[0;32mis\u001b[0m \u001b[0;32mNone\u001b[0m\u001b[0;34m:\u001b[0m\u001b[0;34m\u001b[0m\u001b[0;34m\u001b[0m\u001b[0m\n",
            "\u001b[0;31mEmpty\u001b[0m: ",
            "\nDuring handling of the above exception, another exception occurred:\n",
            "\u001b[0;31mTypeError\u001b[0m                                 Traceback (most recent call last)",
            "\u001b[0;32m<ipython-input-120-02790ad94b17>\u001b[0m in \u001b[0;36m<module>\u001b[0;34m()\u001b[0m\n\u001b[1;32m      3\u001b[0m \u001b[0mresults\u001b[0m\u001b[0;34m,\u001b[0m \u001b[0mnames\u001b[0m \u001b[0;34m=\u001b[0m \u001b[0mlist\u001b[0m\u001b[0;34m(\u001b[0m\u001b[0;34m)\u001b[0m\u001b[0;34m,\u001b[0m \u001b[0mlist\u001b[0m\u001b[0;34m(\u001b[0m\u001b[0;34m)\u001b[0m\u001b[0;34m\u001b[0m\u001b[0;34m\u001b[0m\u001b[0m\n\u001b[1;32m      4\u001b[0m \u001b[0;32mfor\u001b[0m \u001b[0mname\u001b[0m\u001b[0;34m,\u001b[0m \u001b[0mmodel\u001b[0m \u001b[0;32min\u001b[0m \u001b[0mmodels\u001b[0m\u001b[0;34m.\u001b[0m\u001b[0mitems\u001b[0m\u001b[0;34m(\u001b[0m\u001b[0;34m)\u001b[0m\u001b[0;34m:\u001b[0m\u001b[0;34m\u001b[0m\u001b[0;34m\u001b[0m\u001b[0m\n\u001b[0;32m----> 5\u001b[0;31m         \u001b[0mscores\u001b[0m \u001b[0;34m=\u001b[0m \u001b[0mevaluate_model\u001b[0m\u001b[0;34m(\u001b[0m\u001b[0mmodel\u001b[0m\u001b[0;34m,\u001b[0m \u001b[0mX_train\u001b[0m\u001b[0;34m,\u001b[0m \u001b[0my_train_array\u001b[0m\u001b[0;34m)\u001b[0m\u001b[0;34m\u001b[0m\u001b[0;34m\u001b[0m\u001b[0m\n\u001b[0m\u001b[1;32m      6\u001b[0m         \u001b[0mresults\u001b[0m\u001b[0;34m.\u001b[0m\u001b[0mappend\u001b[0m\u001b[0;34m(\u001b[0m\u001b[0mscores\u001b[0m\u001b[0;34m)\u001b[0m\u001b[0;34m\u001b[0m\u001b[0;34m\u001b[0m\u001b[0m\n\u001b[1;32m      7\u001b[0m         \u001b[0mnames\u001b[0m\u001b[0;34m.\u001b[0m\u001b[0mappend\u001b[0m\u001b[0;34m(\u001b[0m\u001b[0mname\u001b[0m\u001b[0;34m)\u001b[0m\u001b[0;34m\u001b[0m\u001b[0;34m\u001b[0m\u001b[0m\n",
            "\u001b[0;32m<ipython-input-106-14c55d41e3e0>\u001b[0m in \u001b[0;36mevaluate_model\u001b[0;34m(model, X, y)\u001b[0m\n\u001b[1;32m     24\u001b[0m \u001b[0;32mdef\u001b[0m \u001b[0mevaluate_model\u001b[0m\u001b[0;34m(\u001b[0m\u001b[0mmodel\u001b[0m\u001b[0;34m,\u001b[0m \u001b[0mX\u001b[0m\u001b[0;34m,\u001b[0m \u001b[0my\u001b[0m\u001b[0;34m)\u001b[0m\u001b[0;34m:\u001b[0m\u001b[0;34m\u001b[0m\u001b[0;34m\u001b[0m\u001b[0m\n\u001b[1;32m     25\u001b[0m         \u001b[0mcv\u001b[0m \u001b[0;34m=\u001b[0m \u001b[0mRepeatedStratifiedKFold\u001b[0m\u001b[0;34m(\u001b[0m\u001b[0mn_splits\u001b[0m\u001b[0;34m=\u001b[0m\u001b[0;36m10\u001b[0m\u001b[0;34m,\u001b[0m \u001b[0mn_repeats\u001b[0m\u001b[0;34m=\u001b[0m\u001b[0;36m3\u001b[0m\u001b[0;34m,\u001b[0m \u001b[0mrandom_state\u001b[0m\u001b[0;34m=\u001b[0m\u001b[0;36m1\u001b[0m\u001b[0;34m)\u001b[0m\u001b[0;34m\u001b[0m\u001b[0;34m\u001b[0m\u001b[0m\n\u001b[0;32m---> 26\u001b[0;31m         \u001b[0mscores\u001b[0m \u001b[0;34m=\u001b[0m \u001b[0mcross_val_score\u001b[0m\u001b[0;34m(\u001b[0m\u001b[0mmodel\u001b[0m\u001b[0;34m,\u001b[0m \u001b[0mX\u001b[0m\u001b[0;34m,\u001b[0m \u001b[0my\u001b[0m\u001b[0;34m,\u001b[0m \u001b[0mscoring\u001b[0m\u001b[0;34m=\u001b[0m\u001b[0;34m'accuracy'\u001b[0m\u001b[0;34m,\u001b[0m \u001b[0mcv\u001b[0m\u001b[0;34m=\u001b[0m\u001b[0mcv\u001b[0m\u001b[0;34m,\u001b[0m \u001b[0mn_jobs\u001b[0m\u001b[0;34m=\u001b[0m\u001b[0;34m-\u001b[0m\u001b[0;36m1\u001b[0m\u001b[0;34m,\u001b[0m \u001b[0merror_score\u001b[0m\u001b[0;34m=\u001b[0m\u001b[0;34m'raise'\u001b[0m\u001b[0;34m)\u001b[0m\u001b[0;34m\u001b[0m\u001b[0;34m\u001b[0m\u001b[0m\n\u001b[0m\u001b[1;32m     27\u001b[0m         \u001b[0;32mreturn\u001b[0m \u001b[0mscores\u001b[0m\u001b[0;34m\u001b[0m\u001b[0;34m\u001b[0m\u001b[0m\n",
            "\u001b[0;32m/usr/local/lib/python3.6/dist-packages/sklearn/model_selection/_validation.py\u001b[0m in \u001b[0;36mcross_val_score\u001b[0;34m(estimator, X, y, groups, scoring, cv, n_jobs, verbose, fit_params, pre_dispatch, error_score)\u001b[0m\n\u001b[1;32m    388\u001b[0m                                 \u001b[0mfit_params\u001b[0m\u001b[0;34m=\u001b[0m\u001b[0mfit_params\u001b[0m\u001b[0;34m,\u001b[0m\u001b[0;34m\u001b[0m\u001b[0;34m\u001b[0m\u001b[0m\n\u001b[1;32m    389\u001b[0m                                 \u001b[0mpre_dispatch\u001b[0m\u001b[0;34m=\u001b[0m\u001b[0mpre_dispatch\u001b[0m\u001b[0;34m,\u001b[0m\u001b[0;34m\u001b[0m\u001b[0;34m\u001b[0m\u001b[0m\n\u001b[0;32m--> 390\u001b[0;31m                                 error_score=error_score)\n\u001b[0m\u001b[1;32m    391\u001b[0m     \u001b[0;32mreturn\u001b[0m \u001b[0mcv_results\u001b[0m\u001b[0;34m[\u001b[0m\u001b[0;34m'test_score'\u001b[0m\u001b[0;34m]\u001b[0m\u001b[0;34m\u001b[0m\u001b[0;34m\u001b[0m\u001b[0m\n\u001b[1;32m    392\u001b[0m \u001b[0;34m\u001b[0m\u001b[0m\n",
            "\u001b[0;32m/usr/local/lib/python3.6/dist-packages/sklearn/model_selection/_validation.py\u001b[0m in \u001b[0;36mcross_validate\u001b[0;34m(estimator, X, y, groups, scoring, cv, n_jobs, verbose, fit_params, pre_dispatch, return_train_score, return_estimator, error_score)\u001b[0m\n\u001b[1;32m    234\u001b[0m             \u001b[0mreturn_times\u001b[0m\u001b[0;34m=\u001b[0m\u001b[0;32mTrue\u001b[0m\u001b[0;34m,\u001b[0m \u001b[0mreturn_estimator\u001b[0m\u001b[0;34m=\u001b[0m\u001b[0mreturn_estimator\u001b[0m\u001b[0;34m,\u001b[0m\u001b[0;34m\u001b[0m\u001b[0;34m\u001b[0m\u001b[0m\n\u001b[1;32m    235\u001b[0m             error_score=error_score)\n\u001b[0;32m--> 236\u001b[0;31m         for train, test in cv.split(X, y, groups))\n\u001b[0m\u001b[1;32m    237\u001b[0m \u001b[0;34m\u001b[0m\u001b[0m\n\u001b[1;32m    238\u001b[0m     \u001b[0mzipped_scores\u001b[0m \u001b[0;34m=\u001b[0m \u001b[0mlist\u001b[0m\u001b[0;34m(\u001b[0m\u001b[0mzip\u001b[0m\u001b[0;34m(\u001b[0m\u001b[0;34m*\u001b[0m\u001b[0mscores\u001b[0m\u001b[0;34m)\u001b[0m\u001b[0;34m)\u001b[0m\u001b[0;34m\u001b[0m\u001b[0;34m\u001b[0m\u001b[0m\n",
            "\u001b[0;32m/usr/local/lib/python3.6/dist-packages/joblib/parallel.py\u001b[0m in \u001b[0;36m__call__\u001b[0;34m(self, iterable)\u001b[0m\n\u001b[1;32m   1039\u001b[0m             \u001b[0;31m# remaining jobs.\u001b[0m\u001b[0;34m\u001b[0m\u001b[0;34m\u001b[0m\u001b[0;34m\u001b[0m\u001b[0m\n\u001b[1;32m   1040\u001b[0m             \u001b[0mself\u001b[0m\u001b[0;34m.\u001b[0m\u001b[0m_iterating\u001b[0m \u001b[0;34m=\u001b[0m \u001b[0;32mFalse\u001b[0m\u001b[0;34m\u001b[0m\u001b[0;34m\u001b[0m\u001b[0m\n\u001b[0;32m-> 1041\u001b[0;31m             \u001b[0;32mif\u001b[0m \u001b[0mself\u001b[0m\u001b[0;34m.\u001b[0m\u001b[0mdispatch_one_batch\u001b[0m\u001b[0;34m(\u001b[0m\u001b[0miterator\u001b[0m\u001b[0;34m)\u001b[0m\u001b[0;34m:\u001b[0m\u001b[0;34m\u001b[0m\u001b[0;34m\u001b[0m\u001b[0m\n\u001b[0m\u001b[1;32m   1042\u001b[0m                 \u001b[0mself\u001b[0m\u001b[0;34m.\u001b[0m\u001b[0m_iterating\u001b[0m \u001b[0;34m=\u001b[0m \u001b[0mself\u001b[0m\u001b[0;34m.\u001b[0m\u001b[0m_original_iterator\u001b[0m \u001b[0;32mis\u001b[0m \u001b[0;32mnot\u001b[0m \u001b[0;32mNone\u001b[0m\u001b[0;34m\u001b[0m\u001b[0;34m\u001b[0m\u001b[0m\n\u001b[1;32m   1043\u001b[0m \u001b[0;34m\u001b[0m\u001b[0m\n",
            "\u001b[0;32m/usr/local/lib/python3.6/dist-packages/joblib/parallel.py\u001b[0m in \u001b[0;36mdispatch_one_batch\u001b[0;34m(self, iterator)\u001b[0m\n\u001b[1;32m    829\u001b[0m                 \u001b[0mbig_batch_size\u001b[0m \u001b[0;34m=\u001b[0m \u001b[0mbatch_size\u001b[0m \u001b[0;34m*\u001b[0m \u001b[0mn_jobs\u001b[0m\u001b[0;34m\u001b[0m\u001b[0;34m\u001b[0m\u001b[0m\n\u001b[1;32m    830\u001b[0m \u001b[0;34m\u001b[0m\u001b[0m\n\u001b[0;32m--> 831\u001b[0;31m                 \u001b[0mislice\u001b[0m \u001b[0;34m=\u001b[0m \u001b[0mlist\u001b[0m\u001b[0;34m(\u001b[0m\u001b[0mitertools\u001b[0m\u001b[0;34m.\u001b[0m\u001b[0mislice\u001b[0m\u001b[0;34m(\u001b[0m\u001b[0miterator\u001b[0m\u001b[0;34m,\u001b[0m \u001b[0mbig_batch_size\u001b[0m\u001b[0;34m)\u001b[0m\u001b[0;34m)\u001b[0m\u001b[0;34m\u001b[0m\u001b[0;34m\u001b[0m\u001b[0m\n\u001b[0m\u001b[1;32m    832\u001b[0m                 \u001b[0;32mif\u001b[0m \u001b[0mlen\u001b[0m\u001b[0;34m(\u001b[0m\u001b[0mislice\u001b[0m\u001b[0;34m)\u001b[0m \u001b[0;34m==\u001b[0m \u001b[0;36m0\u001b[0m\u001b[0;34m:\u001b[0m\u001b[0;34m\u001b[0m\u001b[0;34m\u001b[0m\u001b[0m\n\u001b[1;32m    833\u001b[0m                     \u001b[0;32mreturn\u001b[0m \u001b[0;32mFalse\u001b[0m\u001b[0;34m\u001b[0m\u001b[0;34m\u001b[0m\u001b[0m\n",
            "\u001b[0;32m/usr/local/lib/python3.6/dist-packages/sklearn/model_selection/_validation.py\u001b[0m in \u001b[0;36m<genexpr>\u001b[0;34m(.0)\u001b[0m\n\u001b[1;32m    234\u001b[0m             \u001b[0mreturn_times\u001b[0m\u001b[0;34m=\u001b[0m\u001b[0;32mTrue\u001b[0m\u001b[0;34m,\u001b[0m \u001b[0mreturn_estimator\u001b[0m\u001b[0;34m=\u001b[0m\u001b[0mreturn_estimator\u001b[0m\u001b[0;34m,\u001b[0m\u001b[0;34m\u001b[0m\u001b[0;34m\u001b[0m\u001b[0m\n\u001b[1;32m    235\u001b[0m             error_score=error_score)\n\u001b[0;32m--> 236\u001b[0;31m         for train, test in cv.split(X, y, groups))\n\u001b[0m\u001b[1;32m    237\u001b[0m \u001b[0;34m\u001b[0m\u001b[0m\n\u001b[1;32m    238\u001b[0m     \u001b[0mzipped_scores\u001b[0m \u001b[0;34m=\u001b[0m \u001b[0mlist\u001b[0m\u001b[0;34m(\u001b[0m\u001b[0mzip\u001b[0m\u001b[0;34m(\u001b[0m\u001b[0;34m*\u001b[0m\u001b[0mscores\u001b[0m\u001b[0;34m)\u001b[0m\u001b[0;34m)\u001b[0m\u001b[0;34m\u001b[0m\u001b[0;34m\u001b[0m\u001b[0m\n",
            "\u001b[0;32m/usr/local/lib/python3.6/dist-packages/sklearn/base.py\u001b[0m in \u001b[0;36mclone\u001b[0;34m(estimator, safe)\u001b[0m\n\u001b[1;32m     65\u001b[0m                             \u001b[0;34m\"it does not seem to be a scikit-learn estimator \"\u001b[0m\u001b[0;34m\u001b[0m\u001b[0;34m\u001b[0m\u001b[0m\n\u001b[1;32m     66\u001b[0m                             \u001b[0;34m\"as it does not implement a 'get_params' methods.\"\u001b[0m\u001b[0;34m\u001b[0m\u001b[0;34m\u001b[0m\u001b[0m\n\u001b[0;32m---> 67\u001b[0;31m                             % (repr(estimator), type(estimator)))\n\u001b[0m\u001b[1;32m     68\u001b[0m     \u001b[0mklass\u001b[0m \u001b[0;34m=\u001b[0m \u001b[0mestimator\u001b[0m\u001b[0;34m.\u001b[0m\u001b[0m__class__\u001b[0m\u001b[0;34m\u001b[0m\u001b[0;34m\u001b[0m\u001b[0m\n\u001b[1;32m     69\u001b[0m     \u001b[0mnew_object_params\u001b[0m \u001b[0;34m=\u001b[0m \u001b[0mestimator\u001b[0m\u001b[0;34m.\u001b[0m\u001b[0mget_params\u001b[0m\u001b[0;34m(\u001b[0m\u001b[0mdeep\u001b[0m\u001b[0;34m=\u001b[0m\u001b[0;32mFalse\u001b[0m\u001b[0;34m)\u001b[0m\u001b[0;34m\u001b[0m\u001b[0;34m\u001b[0m\u001b[0m\n",
            "\u001b[0;31mTypeError\u001b[0m: Cannot clone object '<tensorflow.python.keras.engine.functional.Functional object at 0x7f77609b0a20>' (type <class 'tensorflow.python.keras.engine.functional.Functional'>): it does not seem to be a scikit-learn estimator as it does not implement a 'get_params' methods."
          ]
        }
      ]
    }
  ]
}